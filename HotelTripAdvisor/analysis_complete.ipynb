{
 "cells": [
  {
   "cell_type": "markdown",
   "metadata": {},
   "source": [
    "### Importação das bibliotecas"
   ]
  },
  {
   "cell_type": "code",
   "execution_count": 1,
   "metadata": {},
   "outputs": [],
   "source": [
    "import pandas as pd\n",
    "import spacy\n",
    "\n",
    "import collections\n",
    "from collections import Counter\n",
    "\n",
    "import re\n",
    "from datetime import datetime\n",
    "\n",
    "import warnings\n",
    "warnings.filterwarnings(\"ignore\")\n",
    "\n",
    "import matplotlib.pyplot as plt\n",
    "from wordcloud import WordCloud\n",
    "\n",
    "from unidecode import unidecode\n",
    "import numpy as np\n",
    "\n",
    "import nltk"
   ]
  },
  {
   "cell_type": "code",
   "execution_count": 3,
   "metadata": {},
   "outputs": [],
   "source": [
    "from gensim.utils import simple_preprocess"
   ]
  },
  {
   "cell_type": "code",
   "execution_count": 4,
   "metadata": {},
   "outputs": [],
   "source": [
    "from transformers import (\n",
    "    AutoTokenizer, AutoModelForSequenceClassification, AutoModelForTokenClassification,\n",
    "    AutoModelForCausalLM, BitsAndBytesConfig, TrainingArguments, AutoModel,\n",
    "    BertModel, BertTokenizer, AdamW, get_linear_schedule_with_warmup\n",
    ")\n",
    "from bertopic import BERTopic\n",
    "from bertopic.representation import PartOfSpeech, KeyBERTInspired\n",
    "from bertopic.cluster import BaseCluster\n",
    "from hdbscan import HDBSCAN\n",
    "from umap import UMAP\n",
    "from sentence_transformers import SentenceTransformer\n",
    "from sklearn.feature_extraction.text import CountVectorizer\n",
    "\n",
    "import torch\n",
    "from torch import nn\n",
    "from torch.utils.data import Dataset, DataLoader\n",
    "import torch.nn.functional as F\n",
    "import torch.optim as optim\n",
    "from tqdm import tqdm"
   ]
  },
  {
   "cell_type": "code",
   "execution_count": 5,
   "metadata": {},
   "outputs": [
    {
     "data": {
      "text/plain": [
       "<torch._C.Generator at 0x1c61feea2f0>"
      ]
     },
     "execution_count": 5,
     "metadata": {},
     "output_type": "execute_result"
    }
   ],
   "source": [
    "MAX_LEN = 175\n",
    "RANDOM_SEED = 42\n",
    "\n",
    "np.random.seed(RANDOM_SEED)\n",
    "torch.manual_seed(RANDOM_SEED)"
   ]
  },
  {
   "cell_type": "markdown",
   "metadata": {},
   "source": [
    "#### União dos Dados"
   ]
  },
  {
   "cell_type": "code",
   "execution_count": 6,
   "metadata": {},
   "outputs": [],
   "source": [
    "df_reviews = pd.read_csv(\"B2W-Reviews.csv\", low_memory=False)\n",
    "\n",
    "# comments = open('comments/comments_grand_hyatt_sao_paulo.txt', 'r', encoding='utf8') "
   ]
  },
  {
   "cell_type": "code",
   "execution_count": 7,
   "metadata": {},
   "outputs": [],
   "source": [
    "df_reviews.rename(columns={'Review': 'review_text'}, inplace=True)"
   ]
  },
  {
   "cell_type": "code",
   "execution_count": 8,
   "metadata": {},
   "outputs": [
    {
     "name": "stdout",
     "output_type": "stream",
     "text": [
      "<class 'pandas.core.frame.DataFrame'>\n",
      "RangeIndex: 132373 entries, 0 to 132372\n",
      "Data columns (total 14 columns):\n",
      " #   Column                 Non-Null Count   Dtype  \n",
      "---  ------                 --------------   -----  \n",
      " 0   submission_date        132373 non-null  object \n",
      " 1   reviewer_id            132373 non-null  object \n",
      " 2   product_id             132373 non-null  object \n",
      " 3   product_name           132289 non-null  object \n",
      " 4   product_brand          40982 non-null   object \n",
      " 5   site_category_lv1      132367 non-null  object \n",
      " 6   site_category_lv2      128360 non-null  object \n",
      " 7   review_title           132071 non-null  object \n",
      " 8   overall_rating         132373 non-null  int64  \n",
      " 9   recommend_to_a_friend  132355 non-null  object \n",
      " 10  review_text            129098 non-null  object \n",
      " 11  reviewer_birth_year    126389 non-null  float64\n",
      " 12  reviewer_gender        128237 non-null  object \n",
      " 13  reviewer_state         128382 non-null  object \n",
      "dtypes: float64(1), int64(1), object(12)\n",
      "memory usage: 14.1+ MB\n"
     ]
    }
   ],
   "source": [
    "df_reviews.info()"
   ]
  },
  {
   "cell_type": "code",
   "execution_count": 9,
   "metadata": {},
   "outputs": [],
   "source": [
    "most_frequent_product_name = df_reviews['product_name'].value_counts().idxmax()\n",
    "product_df = df_reviews.loc[df_reviews['product_name'] == most_frequent_product_name]"
   ]
  },
  {
   "cell_type": "code",
   "execution_count": 10,
   "metadata": {},
   "outputs": [
    {
     "data": {
      "text/plain": [
       "'Smartphone Motorola Moto G 5S Dual Chip Android 7.1.1 Nougat Tela 5.2\" Snapdragon 430 32GB 4G Câmera 16MP - Platinum'"
      ]
     },
     "execution_count": 10,
     "metadata": {},
     "output_type": "execute_result"
    }
   ],
   "source": [
    "most_frequent_product_name"
   ]
  },
  {
   "cell_type": "code",
   "execution_count": 11,
   "metadata": {},
   "outputs": [],
   "source": [
    "columns_to_drop = ['submission_date', 'reviewer_id', 'product_id', 'site_category_lv1', 'site_category_lv2', 'overall_rating', 'product_brand', 'recommend_to_a_friend', 'review_title', 'reviewer_birth_year', 'reviewer_gender', 'reviewer_state']\n",
    "df = product_df.drop(columns=columns_to_drop)\n",
    "df = df.reset_index(drop=True)\n",
    "\n",
    "# df.rename(columns={'review_text': 'review_text'}, inplace=True)"
   ]
  },
  {
   "cell_type": "code",
   "execution_count": 12,
   "metadata": {},
   "outputs": [
    {
     "name": "stdout",
     "output_type": "stream",
     "text": [
      "<class 'pandas.core.frame.DataFrame'>\n",
      "RangeIndex: 792 entries, 0 to 791\n",
      "Data columns (total 2 columns):\n",
      " #   Column        Non-Null Count  Dtype \n",
      "---  ------        --------------  ----- \n",
      " 0   product_name  792 non-null    object\n",
      " 1   review_text   788 non-null    object\n",
      "dtypes: object(2)\n",
      "memory usage: 12.5+ KB\n"
     ]
    }
   ],
   "source": [
    "df.info()"
   ]
  },
  {
   "cell_type": "code",
   "execution_count": 22,
   "metadata": {},
   "outputs": [],
   "source": [
    "df['review_text'] = df['review_text'].astype(str)"
   ]
  },
  {
   "cell_type": "code",
   "execution_count": 24,
   "metadata": {},
   "outputs": [],
   "source": [
    "# comments_data = comments.readlines()\n",
    "# comments.close()\n",
    "# df_reviews = pd.DataFrame(columns=['review_text'])\n",
    "# comments_list = [comment.strip() for comment in comments_data]\n",
    "# df_reviews['review_text'] = comments_list\n",
    "# df_reviews.info()"
   ]
  },
  {
   "cell_type": "code",
   "execution_count": null,
   "metadata": {},
   "outputs": [],
   "source": [
    "# dataset_names = df_reviews[\"dataset\"].unique()"
   ]
  },
  {
   "cell_type": "code",
   "execution_count": null,
   "metadata": {},
   "outputs": [],
   "source": [
    "# df_olist = df_reviews[df_reviews['dataset'] == 'olist']\n",
    "# df_olist = df_olist[['review_text','rating']]\n",
    "# df_olist.info()"
   ]
  },
  {
   "cell_type": "code",
   "execution_count": null,
   "metadata": {},
   "outputs": [],
   "source": [
    "# merged_df = pd.concat([df_buscape, df_olist, df_b2w])\n",
    "# df_olist = df_olist.dropna()\n",
    "# df_olist = df_olist.drop_duplicates()\n",
    "# df_olist = df_olist.reset_index(drop=True)\n",
    "# df_olist.info()"
   ]
  },
  {
   "cell_type": "markdown",
   "metadata": {},
   "source": [
    "#### Limpeza dos Dados"
   ]
  },
  {
   "cell_type": "code",
   "execution_count": 25,
   "metadata": {},
   "outputs": [
    {
     "name": "stderr",
     "output_type": "stream",
     "text": [
      "[nltk_data] Downloading package stopwords to\n",
      "[nltk_data]     C:\\Users\\isabe\\AppData\\Roaming\\nltk_data...\n",
      "[nltk_data]   Package stopwords is already up-to-date!\n",
      "[nltk_data] Downloading package rslp to\n",
      "[nltk_data]     C:\\Users\\isabe\\AppData\\Roaming\\nltk_data...\n",
      "[nltk_data]   Package rslp is already up-to-date!\n"
     ]
    }
   ],
   "source": [
    "nltk.download([\"stopwords\", \"rslp\"])\n",
    "\n",
    "PT_STOPWORDS = nltk.corpus.stopwords.words('portuguese')\n",
    "\n",
    "REGEX = [\n",
    "    {'input': r'/\\d+/g', 'output': r' '},               # removing digits\n",
    "    {'input': r'[^\\w\\s]', 'output': r' '},              # removing punctuationon\n",
    "    {'input': r'\\n', 'output': r' '},                   # removing line breaks\n",
    "    {'input': r'\\b\\w{1,2}\\b', 'output': r''},           # removing short words (1 or 2 characters)\n",
    "]"
   ]
  },
  {
   "cell_type": "code",
   "execution_count": 26,
   "metadata": {},
   "outputs": [],
   "source": [
    "def regex_treatment(text):\n",
    "    for pattern in REGEX:\n",
    "        text = re.sub(pattern['input'], pattern['output'], text)\n",
    "    return text.strip().lower()\n",
    "\n",
    "def remove_stopwords(text):\n",
    "    words = simple_preprocess(text)\n",
    "    phrase_adjusted = \" \".join([word for word in words if word not in PT_STOPWORDS])\n",
    "    return phrase_adjusted.lower()\n",
    "\n",
    "spacy_lemma = spacy.load(\"pt_core_news_md\")\n",
    "\n",
    "# Ignoring VERBs, ADVs, ADJs, PROPNs (...)\n",
    "def lemmatizer(text, postags_permit=['NOUN']):\n",
    "    \"\"\"https://spacy.io/api/annotation\"\"\"\n",
    "    doc = spacy_lemma(text.lower())\n",
    "    doc_lemma = \" \".join([token.lemma_ for token in doc if token.pos_ in postags_permit])\n",
    "    return doc_lemma\n",
    "\n",
    "def remove_accentuation(text):\n",
    "    return unidecode(text)"
   ]
  },
  {
   "cell_type": "markdown",
   "metadata": {},
   "source": [
    "Para a análise de tópicos utilizamos os 4 métodos de limpeza de dados."
   ]
  },
  {
   "cell_type": "code",
   "execution_count": 10,
   "metadata": {},
   "outputs": [],
   "source": [
    "df = df_reviews.copy()"
   ]
  },
  {
   "cell_type": "code",
   "execution_count": 27,
   "metadata": {},
   "outputs": [],
   "source": [
    "df[\"review_text_topic\"] = df[\"review_text\"].apply(regex_treatment)\n",
    "df[\"review_text_topic\"] = df[\"review_text_topic\"].apply(remove_stopwords)\n",
    "df[\"review_text_topic\"] = df[\"review_text_topic\"].apply(lemmatizer)\n",
    "df[\"review_text_topic\"] = df[\"review_text_topic\"].apply(remove_accentuation)"
   ]
  },
  {
   "cell_type": "code",
   "execution_count": 28,
   "metadata": {},
   "outputs": [],
   "source": [
    "df[\"review_text_sentiment\"] = df[\"review_text\"].apply(regex_treatment)\n",
    "df[\"review_text_sentiment\"] = df[\"review_text_sentiment\"].apply(remove_accentuation)"
   ]
  },
  {
   "cell_type": "code",
   "execution_count": 29,
   "metadata": {},
   "outputs": [],
   "source": [
    "df = df.dropna(subset=['review_text_topic'])\n",
    "df = df.reset_index(drop=True)"
   ]
  },
  {
   "cell_type": "code",
   "execution_count": 30,
   "metadata": {},
   "outputs": [
    {
     "name": "stdout",
     "output_type": "stream",
     "text": [
      "<class 'pandas.core.frame.DataFrame'>\n",
      "RangeIndex: 792 entries, 0 to 791\n",
      "Data columns (total 4 columns):\n",
      " #   Column                 Non-Null Count  Dtype \n",
      "---  ------                 --------------  ----- \n",
      " 0   product_name           792 non-null    object\n",
      " 1   review_text            792 non-null    object\n",
      " 2   review_text_topic      792 non-null    object\n",
      " 3   review_text_sentiment  792 non-null    object\n",
      "dtypes: object(4)\n",
      "memory usage: 24.9+ KB\n"
     ]
    }
   ],
   "source": [
    "df.info()"
   ]
  },
  {
   "cell_type": "code",
   "execution_count": 31,
   "metadata": {},
   "outputs": [
    {
     "data": {
      "image/png": "[encoded data removed]",
      "text/plain": [
       "<Figure size 1000x500 with 1 Axes>"
      ]
     },
     "metadata": {},
     "output_type": "display_data"
    }
   ],
   "source": [
    "wordcloud_text = ' '.join(df[\"review_text_topic\"].astype(str))\n",
    "\n",
    "wordcloud = WordCloud(width=800, height=400, random_state=15, max_font_size=110, max_words=200, collocations=False).generate(wordcloud_text)\n",
    "\n",
    "plt.figure(figsize=(10, 5))\n",
    "plt.imshow(wordcloud, interpolation=\"bilinear\")\n",
    "plt.axis('off')\n",
    "plt.show()"
   ]
  },
  {
   "cell_type": "code",
   "execution_count": 32,
   "metadata": {},
   "outputs": [
    {
     "data": {
      "text/plain": [
       "['produto qualidade camera desenvolvimento rapidez',\n",
       " 'produto funcao',\n",
       " 'tempo prazo celular bateria dia',\n",
       " 'produto design manusear',\n",
       " 'tarde aparelho problema camera verdade camera produto']"
      ]
     },
     "execution_count": 32,
     "metadata": {},
     "output_type": "execute_result"
    }
   ],
   "source": [
    "df_comments = df[\"review_text_topic\"]\n",
    "doc_comments = df_comments.to_list()\n",
    "doc_comments[:5]"
   ]
  },
  {
   "cell_type": "markdown",
   "metadata": {},
   "source": [
    "### Análise de Tópicos"
   ]
  },
  {
   "cell_type": "markdown",
   "metadata": {},
   "source": [
    "O algoritmo do BERTopic contém cinco etapas independentes até alcançar e criar as representações dos tópicos dos documentos: ```embedding```, ```redução de dimensionalidade```, ```clusterização```, ```tokenização``` e ```esquema de ponderação```. Ademais, por serem etapas independentes, o BERTopic permite que você monte sua própria modelagem de tópicos com as especificações de sua preferência."
   ]
  },
  {
   "cell_type": "markdown",
   "metadata": {},
   "source": [
    "Criação das embeddings (representações vetoriais) dos documentos textuais dos comentários utilizando o modelo pré-treinado ```paraphrase-multilingual-MiniLM-L12-v2```. Tal modelo foi escolhido com base em um código disponibilizado pela equipe responsável pelo BERTopic."
   ]
  },
  {
   "cell_type": "code",
   "execution_count": 33,
   "metadata": {},
   "outputs": [
    {
     "data": {
      "application/vnd.jupyter.widget-view+json": {
       "model_id": "538f3d5973014416932dbede07d90d1a",
       "version_major": 2,
       "version_minor": 0
      },
      "text/plain": [
       "Batches:   0%|          | 0/7 [00:00<?, ?it/s]"
      ]
     },
     "metadata": {},
     "output_type": "display_data"
    }
   ],
   "source": [
    "MAX_LEN = 175\n",
    "RANDOM_SEED = 42\n",
    "\n",
    "np.random.seed(RANDOM_SEED)\n",
    "torch.manual_seed(RANDOM_SEED)\n",
    "\n",
    "model = SentenceTransformer(\"sentence-transformers/paraphrase-multilingual-MiniLM-L12-v2\")\n",
    "embeddings = model.encode(doc_comments, show_progress_bar=True, batch_size=128)"
   ]
  },
  {
   "cell_type": "code",
   "execution_count": 34,
   "metadata": {},
   "outputs": [],
   "source": [
    "with open('embeddings.npy', 'wb') as f:\n",
    "    np.save(f, embeddings)\n",
    "\n",
    "embeddings = np.load('embeddings.npy')"
   ]
  },
  {
   "cell_type": "markdown",
   "metadata": {},
   "source": [
    "Criação de um vocabulário limitado a palavras que aparecem pelo menos 100 vezes nos documentos fornecidos. Dessa forma, podemos descartar palavras \"raras\" que não irão contribuir significativamente para a aprendizagem do modelo."
   ]
  },
  {
   "cell_type": "code",
   "execution_count": 35,
   "metadata": {},
   "outputs": [
    {
     "name": "stderr",
     "output_type": "stream",
     "text": [
      "100%|██████████| 792/792 [00:00<00:00, 263391.12it/s]\n"
     ]
    }
   ],
   "source": [
    "MAX_LEN = 175\n",
    "RANDOM_SEED = 42\n",
    "\n",
    "np.random.seed(RANDOM_SEED)\n",
    "torch.manual_seed(RANDOM_SEED)\n",
    "\n",
    "vocab = collections.Counter()\n",
    "tokenizer = CountVectorizer().build_tokenizer()\n",
    "\n",
    "for doc in tqdm(doc_comments):\n",
    "  vocab.update(tokenizer(doc))\n",
    "\n",
    "vocab = [word for word, frequency in vocab.items() if frequency >= 100]"
   ]
  },
  {
   "cell_type": "markdown",
   "metadata": {},
   "source": [
    "Utilização da técnica UMAP (Uniform Manifold Approximation and Projection) para redução da dimensionalidade dos embeddings gerados anteriormente."
   ]
  },
  {
   "cell_type": "code",
   "execution_count": 36,
   "metadata": {},
   "outputs": [
    {
     "name": "stdout",
     "output_type": "stream",
     "text": [
      "UMAP(angular_rp_forest=True, metric='cosine', n_components=10, n_jobs=1, random_state=1711905, verbose=True)\n",
      "Thu May  9 18:56:51 2024 Construct fuzzy simplicial set\n",
      "Thu May  9 18:56:53 2024 Finding Nearest Neighbors\n",
      "Thu May  9 18:56:58 2024 Finished Nearest Neighbor Search\n",
      "Thu May  9 18:57:01 2024 Construct embedding\n"
     ]
    },
    {
     "data": {
      "application/vnd.jupyter.widget-view+json": {
       "model_id": "0987b808cd8e4e1f92df76ff854500dc",
       "version_major": 2,
       "version_minor": 0
      },
      "text/plain": [
       "Epochs completed:   0%|            0/500 [00:00]"
      ]
     },
     "metadata": {},
     "output_type": "display_data"
    },
    {
     "name": "stdout",
     "output_type": "stream",
     "text": [
      "\tcompleted  0  /  500 epochs\n",
      "\tcompleted  50  /  500 epochs\n",
      "\tcompleted  100  /  500 epochs\n",
      "\tcompleted  150  /  500 epochs\n",
      "\tcompleted  200  /  500 epochs\n",
      "\tcompleted  250  /  500 epochs\n",
      "\tcompleted  300  /  500 epochs\n",
      "\tcompleted  350  /  500 epochs\n",
      "\tcompleted  400  /  500 epochs\n",
      "\tcompleted  450  /  500 epochs\n",
      "Thu May  9 18:57:03 2024 Finished embedding\n"
     ]
    }
   ],
   "source": [
    "MAX_LEN = 175\n",
    "RANDOM_SEED = 42\n",
    "\n",
    "np.random.seed(RANDOM_SEED)\n",
    "torch.manual_seed(RANDOM_SEED)\n",
    "\n",
    "umap_model = UMAP(n_neighbors=15, n_components=10, metric='cosine', random_state=1711905, verbose=True)\n",
    "reduced_embeddings = umap_model.fit_transform(embeddings)"
   ]
  },
  {
   "cell_type": "code",
   "execution_count": 37,
   "metadata": {},
   "outputs": [],
   "source": [
    "with open('reduced_embeddings.npy', 'wb') as f:\n",
    "    np.save(f, reduced_embeddings)\n",
    "\n",
    "reduced_embeddings = np.load('reduced_embeddings.npy')"
   ]
  },
  {
   "cell_type": "markdown",
   "metadata": {},
   "source": [
    "Utilização do algoritmo HDBSCAN (Hierarchical Density-Based Spatial Clustering of Applications with Noise) para realizar a clusterização dos embeddings reduzidos gerados pelo modelo do UMAP."
   ]
  },
  {
   "cell_type": "code",
   "execution_count": 71,
   "metadata": {},
   "outputs": [],
   "source": [
    "MAX_LEN = 175\n",
    "RANDOM_SEED = 42\n",
    "\n",
    "np.random.seed(RANDOM_SEED)\n",
    "torch.manual_seed(RANDOM_SEED)\n",
    "\n",
    "hdbscan_model = HDBSCAN(min_samples=15, min_cluster_size=130, prediction_data=False)\n",
    "clusters = hdbscan_model.fit(reduced_embeddings).labels_\n",
    "\n",
    "# guacamole hyatt, 100\n",
    "# motorola, 130"
   ]
  },
  {
   "cell_type": "markdown",
   "metadata": {},
   "source": [
    "Construção de um modelo BERTopic personalizado, utilizando embeddings BERT, uma redução de dimensionalidade (UMAP), e um algoritmo de clustering (HDBSCAN) com diferentes modelos para vetorização e representação. "
   ]
  },
  {
   "cell_type": "code",
   "execution_count": 72,
   "metadata": {},
   "outputs": [
    {
     "name": "stderr",
     "output_type": "stream",
     "text": [
      "2024-05-09 18:59:54,417 - BERTopic - Dimensionality - Fitting the dimensionality reduction algorithm\n",
      "2024-05-09 18:59:54,417 - BERTopic - Dimensionality - Completed ✓\n",
      "2024-05-09 18:59:54,417 - BERTopic - Cluster - Start clustering the reduced embeddings\n",
      "2024-05-09 18:59:54,426 - BERTopic - Cluster - Completed ✓\n",
      "2024-05-09 18:59:54,426 - BERTopic - Representation - Extracting topics from clusters using representation models.\n",
      "2024-05-09 18:59:54,913 - BERTopic - Representation - Completed ✓\n",
      "2024-05-09 18:59:54,913 - BERTopic - Topic reduction - Reducing number of topics\n",
      "2024-05-09 18:59:55,128 - BERTopic - Topic reduction - Reduced number of topics from 2 to 2\n"
     ]
    }
   ],
   "source": [
    "class Dimensionality:\n",
    "  \"\"\" Use this for pre-calculated reduced embeddings \"\"\"\n",
    "  def __init__(self, reduced_embeddings):\n",
    "    self.reduced_embeddings = reduced_embeddings\n",
    "\n",
    "  def fit(self, X):\n",
    "    return self\n",
    "\n",
    "  def transform(self, X):\n",
    "    return self.reduced_embeddings\n",
    "\n",
    "embedding_model       = SentenceTransformer('sentence-transformers/distiluse-base-multilingual-cased-v1')\n",
    "umap_model            = Dimensionality(reduced_embeddings)\n",
    "hdbscan_model         = BaseCluster()\n",
    "vectorizer_model      = CountVectorizer(vocabulary=vocab, stop_words=PT_STOPWORDS, lowercase=True)\n",
    "representation_model  = KeyBERTInspired()\n",
    "\n",
    "topic_model = BERTopic(\n",
    "  nr_topics               = \"auto\",\n",
    "  top_n_words             = 10,\n",
    "  embedding_model         = embedding_model,\n",
    "  umap_model              = umap_model,\n",
    "  hdbscan_model           = hdbscan_model,\n",
    "  vectorizer_model        = vectorizer_model,\n",
    "  representation_model    = representation_model,\n",
    "  verbose                 = True\n",
    ").fit(doc_comments, embeddings=embeddings, y=clusters)"
   ]
  },
  {
   "cell_type": "code",
   "execution_count": 73,
   "metadata": {},
   "outputs": [
    {
     "data": {
      "text/html": [
       "<div>\n",
       "<style scoped>\n",
       "    .dataframe tbody tr th:only-of-type {\n",
       "        vertical-align: middle;\n",
       "    }\n",
       "\n",
       "    .dataframe tbody tr th {\n",
       "        vertical-align: top;\n",
       "    }\n",
       "\n",
       "    .dataframe thead th {\n",
       "        text-align: right;\n",
       "    }\n",
       "</style>\n",
       "<table border=\"1\" class=\"dataframe\">\n",
       "  <thead>\n",
       "    <tr style=\"text-align: right;\">\n",
       "      <th></th>\n",
       "      <th>Topic</th>\n",
       "      <th>Count</th>\n",
       "      <th>Name</th>\n",
       "      <th>Representation</th>\n",
       "      <th>Representative_Docs</th>\n",
       "    </tr>\n",
       "  </thead>\n",
       "  <tbody>\n",
       "    <tr>\n",
       "      <th>0</th>\n",
       "      <td>0</td>\n",
       "      <td>513</td>\n",
       "      <td>0_produto_prazo_aparelho_dia</td>\n",
       "      <td>[produto, prazo, aparelho, dia, camera, celula...</td>\n",
       "      <td>[produto atendimento produto condicao prazo, p...</td>\n",
       "    </tr>\n",
       "    <tr>\n",
       "      <th>1</th>\n",
       "      <td>1</td>\n",
       "      <td>279</td>\n",
       "      <td>1_celular_camera_aparelho_produto</td>\n",
       "      <td>[celular, camera, aparelho, produto, , , , , , ]</td>\n",
       "      <td>[celular camera video telefone, celular necess...</td>\n",
       "    </tr>\n",
       "  </tbody>\n",
       "</table>\n",
       "</div>"
      ],
      "text/plain": [
       "   Topic  Count                               Name  \\\n",
       "0      0    513       0_produto_prazo_aparelho_dia   \n",
       "1      1    279  1_celular_camera_aparelho_produto   \n",
       "\n",
       "                                      Representation  \\\n",
       "0  [produto, prazo, aparelho, dia, camera, celula...   \n",
       "1   [celular, camera, aparelho, produto, , , , , , ]   \n",
       "\n",
       "                                 Representative_Docs  \n",
       "0  [produto atendimento produto condicao prazo, p...  \n",
       "1  [celular camera video telefone, celular necess...  "
      ]
     },
     "execution_count": 73,
     "metadata": {},
     "output_type": "execute_result"
    }
   ],
   "source": [
    "freq = topic_model.get_topic_info()\n",
    "freq.head(5)"
   ]
  },
  {
   "cell_type": "code",
   "execution_count": 74,
   "metadata": {},
   "outputs": [
    {
     "data": {
      "text/html": [
       "<div>\n",
       "<style scoped>\n",
       "    .dataframe tbody tr th:only-of-type {\n",
       "        vertical-align: middle;\n",
       "    }\n",
       "\n",
       "    .dataframe tbody tr th {\n",
       "        vertical-align: top;\n",
       "    }\n",
       "\n",
       "    .dataframe thead th {\n",
       "        text-align: right;\n",
       "    }\n",
       "</style>\n",
       "<table border=\"1\" class=\"dataframe\">\n",
       "  <thead>\n",
       "    <tr style=\"text-align: right;\">\n",
       "      <th></th>\n",
       "      <th>Topic</th>\n",
       "      <th>Count</th>\n",
       "    </tr>\n",
       "  </thead>\n",
       "  <tbody>\n",
       "    <tr>\n",
       "      <th>1</th>\n",
       "      <td>0</td>\n",
       "      <td>513</td>\n",
       "    </tr>\n",
       "    <tr>\n",
       "      <th>0</th>\n",
       "      <td>1</td>\n",
       "      <td>279</td>\n",
       "    </tr>\n",
       "  </tbody>\n",
       "</table>\n",
       "</div>"
      ],
      "text/plain": [
       "   Topic  Count\n",
       "1      0    513\n",
       "0      1    279"
      ]
     },
     "execution_count": 74,
     "metadata": {},
     "output_type": "execute_result"
    }
   ],
   "source": [
    "topic_model.get_topic_freq().head(5)"
   ]
  },
  {
   "cell_type": "code",
   "execution_count": 75,
   "metadata": {},
   "outputs": [
    {
     "data": {
      "text/plain": [
       "[('produto', 0.5815523),\n",
       " ('prazo', 0.4405504),\n",
       " ('aparelho', 0.1568595),\n",
       " ('dia', 0.108938314),\n",
       " ('camera', 0.07238525),\n",
       " ('celular', 0.06567275),\n",
       " ('', 0.03450574),\n",
       " ('', 0.03450574),\n",
       " ('', 0.03450574),\n",
       " ('', 0.03450574)]"
      ]
     },
     "execution_count": 75,
     "metadata": {},
     "output_type": "execute_result"
    }
   ],
   "source": [
    "topic_model.get_topic(0)"
   ]
  },
  {
   "cell_type": "code",
   "execution_count": 76,
   "metadata": {},
   "outputs": [
    {
     "data": {
      "text/plain": [
       "[('celular', 0.68748057),\n",
       " ('camera', 0.6593984),\n",
       " ('aparelho', 0.36857295),\n",
       " ('produto', 0.2416237),\n",
       " ('', 0.122100055),\n",
       " ('', 0.122100055),\n",
       " ('', 0.122100055),\n",
       " ('', 0.122100055),\n",
       " ('', 0.122100055),\n",
       " ('', 0.122100055)]"
      ]
     },
     "execution_count": 76,
     "metadata": {},
     "output_type": "execute_result"
    }
   ],
   "source": [
    "topic_model.get_topic(1)"
   ]
  },
  {
   "cell_type": "code",
   "execution_count": 77,
   "metadata": {},
   "outputs": [
    {
     "data": {
      "text/plain": [
       "False"
      ]
     },
     "execution_count": 77,
     "metadata": {},
     "output_type": "execute_result"
    }
   ],
   "source": [
    "topic_model.get_topic(2)"
   ]
  },
  {
   "cell_type": "code",
   "execution_count": 78,
   "metadata": {},
   "outputs": [
    {
     "data": {
      "text/plain": [
       "False"
      ]
     },
     "execution_count": 78,
     "metadata": {},
     "output_type": "execute_result"
    }
   ],
   "source": [
    "topic_model.get_topic(3)"
   ]
  },
  {
   "cell_type": "code",
   "execution_count": 79,
   "metadata": {},
   "outputs": [
    {
     "data": {
      "application/vnd.plotly.v1+json": {
       "config": {
        "plotlyServerURL": "https://plot.ly"
       },
       "data": [
        {
         "marker": {
          "color": "#D55E00"
         },
         "orientation": "h",
         "type": "bar",
         "x": [
          0.07238525152206421,
          0.1089383140206337,
          0.15685950219631195,
          0.44055038690567017,
          0.5815523266792297
         ],
         "xaxis": "x",
         "y": [
          "camera  ",
          "dia  ",
          "aparelho  ",
          "prazo  ",
          "produto  "
         ],
         "yaxis": "y"
        },
        {
         "marker": {
          "color": "#0072B2"
         },
         "orientation": "h",
         "type": "bar",
         "x": [
          0.12210005521774292,
          0.24162369966506958,
          0.3685729503631592,
          0.6593983769416809,
          0.6874805688858032
         ],
         "xaxis": "x2",
         "y": [
          "  ",
          "produto  ",
          "aparelho  ",
          "camera  ",
          "celular  "
         ],
         "yaxis": "y2"
        }
       ],
       "layout": {
        "annotations": [
         {
          "font": {
           "size": 16
          },
          "showarrow": false,
          "text": "Topic 0",
          "x": 0.0875,
          "xanchor": "center",
          "xref": "paper",
          "y": 1,
          "yanchor": "bottom",
          "yref": "paper"
         },
         {
          "font": {
           "size": 16
          },
          "showarrow": false,
          "text": "Topic 1",
          "x": 0.36250000000000004,
          "xanchor": "center",
          "xref": "paper",
          "y": 1,
          "yanchor": "bottom",
          "yref": "paper"
         }
        ],
        "height": 325,
        "hoverlabel": {
         "bgcolor": "white",
         "font": {
          "family": "Rockwell",
          "size": 16
         }
        },
        "showlegend": false,
        "template": {
         "data": {
          "bar": [
           {
            "error_x": {
             "color": "#2a3f5f"
            },
            "error_y": {
             "color": "#2a3f5f"
            },
            "marker": {
             "line": {
              "color": "white",
              "width": 0.5
             },
             "pattern": {
              "fillmode": "overlay",
              "size": 10,
              "solidity": 0.2
             }
            },
            "type": "bar"
           }
          ],
          "barpolar": [
           {
            "marker": {
             "line": {
              "color": "white",
              "width": 0.5
             },
             "pattern": {
              "fillmode": "overlay",
              "size": 10,
              "solidity": 0.2
             }
            },
            "type": "barpolar"
           }
          ],
          "carpet": [
           {
            "aaxis": {
             "endlinecolor": "#2a3f5f",
             "gridcolor": "#C8D4E3",
             "linecolor": "#C8D4E3",
             "minorgridcolor": "#C8D4E3",
             "startlinecolor": "#2a3f5f"
            },
            "baxis": {
             "endlinecolor": "#2a3f5f",
             "gridcolor": "#C8D4E3",
             "linecolor": "#C8D4E3",
             "minorgridcolor": "#C8D4E3",
             "startlinecolor": "#2a3f5f"
            },
            "type": "carpet"
           }
          ],
          "choropleth": [
           {
            "colorbar": {
             "outlinewidth": 0,
             "ticks": ""
            },
            "type": "choropleth"
           }
          ],
          "contour": [
           {
            "colorbar": {
             "outlinewidth": 0,
             "ticks": ""
            },
            "colorscale": [
             [
              0,
              "#0d0887"
             ],
             [
              0.1111111111111111,
              "#46039f"
             ],
             [
              0.2222222222222222,
              "#7201a8"
             ],
             [
              0.3333333333333333,
              "#9c179e"
             ],
             [
              0.4444444444444444,
              "#bd3786"
             ],
             [
              0.5555555555555556,
              "#d8576b"
             ],
             [
              0.6666666666666666,
              "#ed7953"
             ],
             [
              0.7777777777777778,
              "#fb9f3a"
             ],
             [
              0.8888888888888888,
              "#fdca26"
             ],
             [
              1,
              "#f0f921"
             ]
            ],
            "type": "contour"
           }
          ],
          "contourcarpet": [
           {
            "colorbar": {
             "outlinewidth": 0,
             "ticks": ""
            },
            "type": "contourcarpet"
           }
          ],
          "heatmap": [
           {
            "colorbar": {
             "outlinewidth": 0,
             "ticks": ""
            },
            "colorscale": [
             [
              0,
              "#0d0887"
             ],
             [
              0.1111111111111111,
              "#46039f"
             ],
             [
              0.2222222222222222,
              "#7201a8"
             ],
             [
              0.3333333333333333,
              "#9c179e"
             ],
             [
              0.4444444444444444,
              "#bd3786"
             ],
             [
              0.5555555555555556,
              "#d8576b"
             ],
             [
              0.6666666666666666,
              "#ed7953"
             ],
             [
              0.7777777777777778,
              "#fb9f3a"
             ],
             [
              0.8888888888888888,
              "#fdca26"
             ],
             [
              1,
              "#f0f921"
             ]
            ],
            "type": "heatmap"
           }
          ],
          "heatmapgl": [
           {
            "colorbar": {
             "outlinewidth": 0,
             "ticks": ""
            },
            "colorscale": [
             [
              0,
              "#0d0887"
             ],
             [
              0.1111111111111111,
              "#46039f"
             ],
             [
              0.2222222222222222,
              "#7201a8"
             ],
             [
              0.3333333333333333,
              "#9c179e"
             ],
             [
              0.4444444444444444,
              "#bd3786"
             ],
             [
              0.5555555555555556,
              "#d8576b"
             ],
             [
              0.6666666666666666,
              "#ed7953"
             ],
             [
              0.7777777777777778,
              "#fb9f3a"
             ],
             [
              0.8888888888888888,
              "#fdca26"
             ],
             [
              1,
              "#f0f921"
             ]
            ],
            "type": "heatmapgl"
           }
          ],
          "histogram": [
           {
            "marker": {
             "pattern": {
              "fillmode": "overlay",
              "size": 10,
              "solidity": 0.2
             }
            },
            "type": "histogram"
           }
          ],
          "histogram2d": [
           {
            "colorbar": {
             "outlinewidth": 0,
             "ticks": ""
            },
            "colorscale": [
             [
              0,
              "#0d0887"
             ],
             [
              0.1111111111111111,
              "#46039f"
             ],
             [
              0.2222222222222222,
              "#7201a8"
             ],
             [
              0.3333333333333333,
              "#9c179e"
             ],
             [
              0.4444444444444444,
              "#bd3786"
             ],
             [
              0.5555555555555556,
              "#d8576b"
             ],
             [
              0.6666666666666666,
              "#ed7953"
             ],
             [
              0.7777777777777778,
              "#fb9f3a"
             ],
             [
              0.8888888888888888,
              "#fdca26"
             ],
             [
              1,
              "#f0f921"
             ]
            ],
            "type": "histogram2d"
           }
          ],
          "histogram2dcontour": [
           {
            "colorbar": {
             "outlinewidth": 0,
             "ticks": ""
            },
            "colorscale": [
             [
              0,
              "#0d0887"
             ],
             [
              0.1111111111111111,
              "#46039f"
             ],
             [
              0.2222222222222222,
              "#7201a8"
             ],
             [
              0.3333333333333333,
              "#9c179e"
             ],
             [
              0.4444444444444444,
              "#bd3786"
             ],
             [
              0.5555555555555556,
              "#d8576b"
             ],
             [
              0.6666666666666666,
              "#ed7953"
             ],
             [
              0.7777777777777778,
              "#fb9f3a"
             ],
             [
              0.8888888888888888,
              "#fdca26"
             ],
             [
              1,
              "#f0f921"
             ]
            ],
            "type": "histogram2dcontour"
           }
          ],
          "mesh3d": [
           {
            "colorbar": {
             "outlinewidth": 0,
             "ticks": ""
            },
            "type": "mesh3d"
           }
          ],
          "parcoords": [
           {
            "line": {
             "colorbar": {
              "outlinewidth": 0,
              "ticks": ""
             }
            },
            "type": "parcoords"
           }
          ],
          "pie": [
           {
            "automargin": true,
            "type": "pie"
           }
          ],
          "scatter": [
           {
            "fillpattern": {
             "fillmode": "overlay",
             "size": 10,
             "solidity": 0.2
            },
            "type": "scatter"
           }
          ],
          "scatter3d": [
           {
            "line": {
             "colorbar": {
              "outlinewidth": 0,
              "ticks": ""
             }
            },
            "marker": {
             "colorbar": {
              "outlinewidth": 0,
              "ticks": ""
             }
            },
            "type": "scatter3d"
           }
          ],
          "scattercarpet": [
           {
            "marker": {
             "colorbar": {
              "outlinewidth": 0,
              "ticks": ""
             }
            },
            "type": "scattercarpet"
           }
          ],
          "scattergeo": [
           {
            "marker": {
             "colorbar": {
              "outlinewidth": 0,
              "ticks": ""
             }
            },
            "type": "scattergeo"
           }
          ],
          "scattergl": [
           {
            "marker": {
             "colorbar": {
              "outlinewidth": 0,
              "ticks": ""
             }
            },
            "type": "scattergl"
           }
          ],
          "scattermapbox": [
           {
            "marker": {
             "colorbar": {
              "outlinewidth": 0,
              "ticks": ""
             }
            },
            "type": "scattermapbox"
           }
          ],
          "scatterpolar": [
           {
            "marker": {
             "colorbar": {
              "outlinewidth": 0,
              "ticks": ""
             }
            },
            "type": "scatterpolar"
           }
          ],
          "scatterpolargl": [
           {
            "marker": {
             "colorbar": {
              "outlinewidth": 0,
              "ticks": ""
             }
            },
            "type": "scatterpolargl"
           }
          ],
          "scatterternary": [
           {
            "marker": {
             "colorbar": {
              "outlinewidth": 0,
              "ticks": ""
             }
            },
            "type": "scatterternary"
           }
          ],
          "surface": [
           {
            "colorbar": {
             "outlinewidth": 0,
             "ticks": ""
            },
            "colorscale": [
             [
              0,
              "#0d0887"
             ],
             [
              0.1111111111111111,
              "#46039f"
             ],
             [
              0.2222222222222222,
              "#7201a8"
             ],
             [
              0.3333333333333333,
              "#9c179e"
             ],
             [
              0.4444444444444444,
              "#bd3786"
             ],
             [
              0.5555555555555556,
              "#d8576b"
             ],
             [
              0.6666666666666666,
              "#ed7953"
             ],
             [
              0.7777777777777778,
              "#fb9f3a"
             ],
             [
              0.8888888888888888,
              "#fdca26"
             ],
             [
              1,
              "#f0f921"
             ]
            ],
            "type": "surface"
           }
          ],
          "table": [
           {
            "cells": {
             "fill": {
              "color": "#EBF0F8"
             },
             "line": {
              "color": "white"
             }
            },
            "header": {
             "fill": {
              "color": "#C8D4E3"
             },
             "line": {
              "color": "white"
             }
            },
            "type": "table"
           }
          ]
         },
         "layout": {
          "annotationdefaults": {
           "arrowcolor": "#2a3f5f",
           "arrowhead": 0,
           "arrowwidth": 1
          },
          "autotypenumbers": "strict",
          "coloraxis": {
           "colorbar": {
            "outlinewidth": 0,
            "ticks": ""
           }
          },
          "colorscale": {
           "diverging": [
            [
             0,
             "#8e0152"
            ],
            [
             0.1,
             "#c51b7d"
            ],
            [
             0.2,
             "#de77ae"
            ],
            [
             0.3,
             "#f1b6da"
            ],
            [
             0.4,
             "#fde0ef"
            ],
            [
             0.5,
             "#f7f7f7"
            ],
            [
             0.6,
             "#e6f5d0"
            ],
            [
             0.7,
             "#b8e186"
            ],
            [
             0.8,
             "#7fbc41"
            ],
            [
             0.9,
             "#4d9221"
            ],
            [
             1,
             "#276419"
            ]
           ],
           "sequential": [
            [
             0,
             "#0d0887"
            ],
            [
             0.1111111111111111,
             "#46039f"
            ],
            [
             0.2222222222222222,
             "#7201a8"
            ],
            [
             0.3333333333333333,
             "#9c179e"
            ],
            [
             0.4444444444444444,
             "#bd3786"
            ],
            [
             0.5555555555555556,
             "#d8576b"
            ],
            [
             0.6666666666666666,
             "#ed7953"
            ],
            [
             0.7777777777777778,
             "#fb9f3a"
            ],
            [
             0.8888888888888888,
             "#fdca26"
            ],
            [
             1,
             "#f0f921"
            ]
           ],
           "sequentialminus": [
            [
             0,
             "#0d0887"
            ],
            [
             0.1111111111111111,
             "#46039f"
            ],
            [
             0.2222222222222222,
             "#7201a8"
            ],
            [
             0.3333333333333333,
             "#9c179e"
            ],
            [
             0.4444444444444444,
             "#bd3786"
            ],
            [
             0.5555555555555556,
             "#d8576b"
            ],
            [
             0.6666666666666666,
             "#ed7953"
            ],
            [
             0.7777777777777778,
             "#fb9f3a"
            ],
            [
             0.8888888888888888,
             "#fdca26"
            ],
            [
             1,
             "#f0f921"
            ]
           ]
          },
          "colorway": [
           "#636efa",
           "#EF553B",
           "#00cc96",
           "#ab63fa",
           "#FFA15A",
           "#19d3f3",
           "#FF6692",
           "#B6E880",
           "#FF97FF",
           "#FECB52"
          ],
          "font": {
           "color": "#2a3f5f"
          },
          "geo": {
           "bgcolor": "white",
           "lakecolor": "white",
           "landcolor": "white",
           "showlakes": true,
           "showland": true,
           "subunitcolor": "#C8D4E3"
          },
          "hoverlabel": {
           "align": "left"
          },
          "hovermode": "closest",
          "mapbox": {
           "style": "light"
          },
          "paper_bgcolor": "white",
          "plot_bgcolor": "white",
          "polar": {
           "angularaxis": {
            "gridcolor": "#EBF0F8",
            "linecolor": "#EBF0F8",
            "ticks": ""
           },
           "bgcolor": "white",
           "radialaxis": {
            "gridcolor": "#EBF0F8",
            "linecolor": "#EBF0F8",
            "ticks": ""
           }
          },
          "scene": {
           "xaxis": {
            "backgroundcolor": "white",
            "gridcolor": "#DFE8F3",
            "gridwidth": 2,
            "linecolor": "#EBF0F8",
            "showbackground": true,
            "ticks": "",
            "zerolinecolor": "#EBF0F8"
           },
           "yaxis": {
            "backgroundcolor": "white",
            "gridcolor": "#DFE8F3",
            "gridwidth": 2,
            "linecolor": "#EBF0F8",
            "showbackground": true,
            "ticks": "",
            "zerolinecolor": "#EBF0F8"
           },
           "zaxis": {
            "backgroundcolor": "white",
            "gridcolor": "#DFE8F3",
            "gridwidth": 2,
            "linecolor": "#EBF0F8",
            "showbackground": true,
            "ticks": "",
            "zerolinecolor": "#EBF0F8"
           }
          },
          "shapedefaults": {
           "line": {
            "color": "#2a3f5f"
           }
          },
          "ternary": {
           "aaxis": {
            "gridcolor": "#DFE8F3",
            "linecolor": "#A2B1C6",
            "ticks": ""
           },
           "baxis": {
            "gridcolor": "#DFE8F3",
            "linecolor": "#A2B1C6",
            "ticks": ""
           },
           "bgcolor": "white",
           "caxis": {
            "gridcolor": "#DFE8F3",
            "linecolor": "#A2B1C6",
            "ticks": ""
           }
          },
          "title": {
           "x": 0.05
          },
          "xaxis": {
           "automargin": true,
           "gridcolor": "#EBF0F8",
           "linecolor": "#EBF0F8",
           "ticks": "",
           "title": {
            "standoff": 15
           },
           "zerolinecolor": "#EBF0F8",
           "zerolinewidth": 2
          },
          "yaxis": {
           "automargin": true,
           "gridcolor": "#EBF0F8",
           "linecolor": "#EBF0F8",
           "ticks": "",
           "title": {
            "standoff": 15
           },
           "zerolinecolor": "#EBF0F8",
           "zerolinewidth": 2
          }
         }
        },
        "title": {
         "font": {
          "color": "Black",
          "size": 22
         },
         "text": "Topic Word Scores",
         "x": 0.5,
         "xanchor": "center",
         "yanchor": "top"
        },
        "width": 1000,
        "xaxis": {
         "anchor": "y",
         "domain": [
          0,
          0.175
         ],
         "showgrid": true
        },
        "xaxis2": {
         "anchor": "y2",
         "domain": [
          0.275,
          0.45
         ],
         "showgrid": true
        },
        "xaxis3": {
         "anchor": "y3",
         "domain": [
          0.55,
          0.7250000000000001
         ],
         "showgrid": true
        },
        "xaxis4": {
         "anchor": "y4",
         "domain": [
          0.825,
          1
         ],
         "showgrid": true
        },
        "yaxis": {
         "anchor": "x",
         "domain": [
          0,
          1
         ],
         "showgrid": true
        },
        "yaxis2": {
         "anchor": "x2",
         "domain": [
          0,
          1
         ],
         "showgrid": true
        },
        "yaxis3": {
         "anchor": "x3",
         "domain": [
          0,
          1
         ],
         "showgrid": true
        },
        "yaxis4": {
         "anchor": "x4",
         "domain": [
          0,
          1
         ],
         "showgrid": true
        }
       }
      }
     },
     "metadata": {},
     "output_type": "display_data"
    }
   ],
   "source": [
    "topic_model.visualize_barchart(top_n_topics=8)"
   ]
  },
  {
   "cell_type": "markdown",
   "metadata": {},
   "source": [
    "#### DataFrame com informações completas"
   ]
  },
  {
   "cell_type": "code",
   "execution_count": 80,
   "metadata": {},
   "outputs": [],
   "source": [
    "df_topics = topic_model.get_document_info(doc_comments)"
   ]
  },
  {
   "cell_type": "code",
   "execution_count": 81,
   "metadata": {},
   "outputs": [],
   "source": [
    "df_complete_topic_info = df.copy()\n",
    "df_complete_topic_info[\"topic\"] = df_topics[\"Topic\"]"
   ]
  },
  {
   "cell_type": "code",
   "execution_count": 82,
   "metadata": {},
   "outputs": [
    {
     "data": {
      "text/html": [
       "<div>\n",
       "<style scoped>\n",
       "    .dataframe tbody tr th:only-of-type {\n",
       "        vertical-align: middle;\n",
       "    }\n",
       "\n",
       "    .dataframe tbody tr th {\n",
       "        vertical-align: top;\n",
       "    }\n",
       "\n",
       "    .dataframe thead th {\n",
       "        text-align: right;\n",
       "    }\n",
       "</style>\n",
       "<table border=\"1\" class=\"dataframe\">\n",
       "  <thead>\n",
       "    <tr style=\"text-align: right;\">\n",
       "      <th></th>\n",
       "      <th>product_name</th>\n",
       "      <th>review_text</th>\n",
       "      <th>review_text_topic</th>\n",
       "      <th>review_text_sentiment</th>\n",
       "      <th>topic</th>\n",
       "    </tr>\n",
       "  </thead>\n",
       "  <tbody>\n",
       "    <tr>\n",
       "      <th>0</th>\n",
       "      <td>Smartphone Motorola Moto G 5S Dual Chip Androi...</td>\n",
       "      <td>Produto excelente qualidade boa câmera desenvo...</td>\n",
       "      <td>produto qualidade camera desenvolvimento rapidez</td>\n",
       "      <td>produto excelente qualidade boa camera desenvo...</td>\n",
       "      <td>1</td>\n",
       "    </tr>\n",
       "    <tr>\n",
       "      <th>1</th>\n",
       "      <td>Smartphone Motorola Moto G 5S Dual Chip Androi...</td>\n",
       "      <td>Produto excelente, ótimas funções, rápido, vis...</td>\n",
       "      <td>produto funcao</td>\n",
       "      <td>produto excelente  otimas funcoes  rapido  vis...</td>\n",
       "      <td>0</td>\n",
       "    </tr>\n",
       "    <tr>\n",
       "      <th>2</th>\n",
       "      <td>Smartphone Motorola Moto G 5S Dual Chip Androi...</td>\n",
       "      <td>Nada mal, tempo de entrega antes do prazo. Sob...</td>\n",
       "      <td>tempo prazo celular bateria dia</td>\n",
       "      <td>nada mal  tempo  entrega antes  prazo  sobre  ...</td>\n",
       "      <td>1</td>\n",
       "    </tr>\n",
       "    <tr>\n",
       "      <th>3</th>\n",
       "      <td>Smartphone Motorola Moto G 5S Dual Chip Androi...</td>\n",
       "      <td>Excelente produto, belo design, fácil de manus...</td>\n",
       "      <td>produto design manusear</td>\n",
       "      <td>excelente produto  belo design  facil  manusea...</td>\n",
       "      <td>0</td>\n",
       "    </tr>\n",
       "    <tr>\n",
       "      <th>4</th>\n",
       "      <td>Smartphone Motorola Moto G 5S Dual Chip Androi...</td>\n",
       "      <td>Boa tarde. Estou insatisfeita com o aparelho, ...</td>\n",
       "      <td>tarde aparelho problema camera verdade camera ...</td>\n",
       "      <td>boa tarde  estou insatisfeita com  aparelho   ...</td>\n",
       "      <td>1</td>\n",
       "    </tr>\n",
       "  </tbody>\n",
       "</table>\n",
       "</div>"
      ],
      "text/plain": [
       "                                        product_name  \\\n",
       "0  Smartphone Motorola Moto G 5S Dual Chip Androi...   \n",
       "1  Smartphone Motorola Moto G 5S Dual Chip Androi...   \n",
       "2  Smartphone Motorola Moto G 5S Dual Chip Androi...   \n",
       "3  Smartphone Motorola Moto G 5S Dual Chip Androi...   \n",
       "4  Smartphone Motorola Moto G 5S Dual Chip Androi...   \n",
       "\n",
       "                                         review_text  \\\n",
       "0  Produto excelente qualidade boa câmera desenvo...   \n",
       "1  Produto excelente, ótimas funções, rápido, vis...   \n",
       "2  Nada mal, tempo de entrega antes do prazo. Sob...   \n",
       "3  Excelente produto, belo design, fácil de manus...   \n",
       "4  Boa tarde. Estou insatisfeita com o aparelho, ...   \n",
       "\n",
       "                                   review_text_topic  \\\n",
       "0   produto qualidade camera desenvolvimento rapidez   \n",
       "1                                     produto funcao   \n",
       "2                    tempo prazo celular bateria dia   \n",
       "3                            produto design manusear   \n",
       "4  tarde aparelho problema camera verdade camera ...   \n",
       "\n",
       "                               review_text_sentiment  topic  \n",
       "0  produto excelente qualidade boa camera desenvo...      1  \n",
       "1  produto excelente  otimas funcoes  rapido  vis...      0  \n",
       "2  nada mal  tempo  entrega antes  prazo  sobre  ...      1  \n",
       "3  excelente produto  belo design  facil  manusea...      0  \n",
       "4  boa tarde  estou insatisfeita com  aparelho   ...      1  "
      ]
     },
     "execution_count": 82,
     "metadata": {},
     "output_type": "execute_result"
    }
   ],
   "source": [
    "df_complete_topic_info.head()"
   ]
  },
  {
   "cell_type": "markdown",
   "metadata": {},
   "source": [
    "### Análise de Sentimentos"
   ]
  },
  {
   "cell_type": "code",
   "execution_count": 83,
   "metadata": {},
   "outputs": [],
   "source": [
    "PRE_TRAINED_MODEL_NAME = 'neuralmind/bert-base-portuguese-cased'\n",
    "DEVICE = torch.device('cpu')\n",
    "class_names = ['negative', 'neutral', 'positive']\n",
    "\n",
    "class SentimentClassifier(nn.Module):\n",
    "\n",
    "    def __init__(self, n_classes):\n",
    "        super(SentimentClassifier, self).__init__()\n",
    "        self.bert = BertModel.from_pretrained(PRE_TRAINED_MODEL_NAME, return_dict=False)\n",
    "        self.drop = nn.Dropout(p=0.3)\n",
    "        self.out = nn.Linear(self.bert.config.hidden_size, n_classes)\n",
    "\n",
    "    def forward(self, input_ids, attention_mask):\n",
    "        _, pooled_output = self.bert(\n",
    "            input_ids=input_ids,\n",
    "            attention_mask=attention_mask\n",
    "        )\n",
    "        output = self.drop(pooled_output)\n",
    "        return self.out(output)\n",
    "\n",
    "model = SentimentClassifier(len(class_names))\n",
    "model.load_state_dict(torch.load('best_model_state.bin', map_location=DEVICE))\n",
    "model = model.to(DEVICE)"
   ]
  },
  {
   "cell_type": "code",
   "execution_count": 84,
   "metadata": {},
   "outputs": [],
   "source": [
    "MAX_LEN = 175\n",
    "RANDOM_SEED = 42\n",
    "\n",
    "np.random.seed(RANDOM_SEED)\n",
    "torch.manual_seed(RANDOM_SEED)\n",
    "\n",
    "tokenizer = BertTokenizer.from_pretrained(PRE_TRAINED_MODEL_NAME)\n",
    "\n",
    "def predict_sentiment(text):\n",
    "    encoded_review = tokenizer.encode_plus(\n",
    "        text,\n",
    "        max_length=MAX_LEN,\n",
    "        add_special_tokens=True,\n",
    "        return_token_type_ids=False,\n",
    "        pad_to_max_length=True,\n",
    "        return_attention_mask=True,\n",
    "        return_tensors='pt',\n",
    "    )\n",
    "\n",
    "    input_ids = encoded_review['input_ids'].to(DEVICE)\n",
    "    attention_mask = encoded_review['attention_mask'].to(DEVICE)\n",
    "\n",
    "    with torch.no_grad():\n",
    "        output = model(input_ids, attention_mask)\n",
    "\n",
    "    _, prediction = torch.max(output, dim=1)\n",
    "    \n",
    "    return class_names[prediction]"
   ]
  },
  {
   "cell_type": "code",
   "execution_count": 85,
   "metadata": {},
   "outputs": [
    {
     "name": "stderr",
     "output_type": "stream",
     "text": [
      "Truncation was not explicitly activated but `max_length` is provided a specific value, please use `truncation=True` to explicitly truncate examples to max length. Defaulting to 'longest_first' truncation strategy. If you encode pairs of sequences (GLUE-style) with the tokenizer you can select this strategy more precisely by providing a specific strategy to `truncation`.\n"
     ]
    }
   ],
   "source": [
    "df_complete_topic_info[\"sentiment\"] = df_complete_topic_info[\"review_text_sentiment\"].apply(predict_sentiment)"
   ]
  },
  {
   "cell_type": "code",
   "execution_count": 86,
   "metadata": {},
   "outputs": [],
   "source": [
    "sentiment_counts = df_complete_topic_info.groupby(['topic', 'sentiment']).size().reset_index(name='count')"
   ]
  },
  {
   "cell_type": "code",
   "execution_count": 87,
   "metadata": {},
   "outputs": [
    {
     "data": {
      "text/html": [
       "<div>\n",
       "<style scoped>\n",
       "    .dataframe tbody tr th:only-of-type {\n",
       "        vertical-align: middle;\n",
       "    }\n",
       "\n",
       "    .dataframe tbody tr th {\n",
       "        vertical-align: top;\n",
       "    }\n",
       "\n",
       "    .dataframe thead th {\n",
       "        text-align: right;\n",
       "    }\n",
       "</style>\n",
       "<table border=\"1\" class=\"dataframe\">\n",
       "  <thead>\n",
       "    <tr style=\"text-align: right;\">\n",
       "      <th></th>\n",
       "      <th>topic</th>\n",
       "      <th>sentiment</th>\n",
       "      <th>count</th>\n",
       "    </tr>\n",
       "  </thead>\n",
       "  <tbody>\n",
       "    <tr>\n",
       "      <th>0</th>\n",
       "      <td>0</td>\n",
       "      <td>negative</td>\n",
       "      <td>55</td>\n",
       "    </tr>\n",
       "    <tr>\n",
       "      <th>1</th>\n",
       "      <td>0</td>\n",
       "      <td>neutral</td>\n",
       "      <td>20</td>\n",
       "    </tr>\n",
       "    <tr>\n",
       "      <th>2</th>\n",
       "      <td>0</td>\n",
       "      <td>positive</td>\n",
       "      <td>438</td>\n",
       "    </tr>\n",
       "    <tr>\n",
       "      <th>3</th>\n",
       "      <td>1</td>\n",
       "      <td>negative</td>\n",
       "      <td>31</td>\n",
       "    </tr>\n",
       "    <tr>\n",
       "      <th>4</th>\n",
       "      <td>1</td>\n",
       "      <td>neutral</td>\n",
       "      <td>20</td>\n",
       "    </tr>\n",
       "    <tr>\n",
       "      <th>5</th>\n",
       "      <td>1</td>\n",
       "      <td>positive</td>\n",
       "      <td>228</td>\n",
       "    </tr>\n",
       "  </tbody>\n",
       "</table>\n",
       "</div>"
      ],
      "text/plain": [
       "   topic sentiment  count\n",
       "0      0  negative     55\n",
       "1      0   neutral     20\n",
       "2      0  positive    438\n",
       "3      1  negative     31\n",
       "4      1   neutral     20\n",
       "5      1  positive    228"
      ]
     },
     "execution_count": 87,
     "metadata": {},
     "output_type": "execute_result"
    }
   ],
   "source": [
    "sentiment_counts "
   ]
  },
  {
   "cell_type": "code",
   "execution_count": 88,
   "metadata": {},
   "outputs": [
    {
     "data": {
      "text/html": [
       "<div>\n",
       "<style scoped>\n",
       "    .dataframe tbody tr th:only-of-type {\n",
       "        vertical-align: middle;\n",
       "    }\n",
       "\n",
       "    .dataframe tbody tr th {\n",
       "        vertical-align: top;\n",
       "    }\n",
       "\n",
       "    .dataframe thead th {\n",
       "        text-align: right;\n",
       "    }\n",
       "</style>\n",
       "<table border=\"1\" class=\"dataframe\">\n",
       "  <thead>\n",
       "    <tr style=\"text-align: right;\">\n",
       "      <th></th>\n",
       "      <th>topic</th>\n",
       "      <th>sentiment</th>\n",
       "      <th>count</th>\n",
       "    </tr>\n",
       "  </thead>\n",
       "  <tbody>\n",
       "    <tr>\n",
       "      <th>0</th>\n",
       "      <td>0</td>\n",
       "      <td>negative</td>\n",
       "      <td>55</td>\n",
       "    </tr>\n",
       "    <tr>\n",
       "      <th>1</th>\n",
       "      <td>0</td>\n",
       "      <td>neutral</td>\n",
       "      <td>20</td>\n",
       "    </tr>\n",
       "    <tr>\n",
       "      <th>2</th>\n",
       "      <td>0</td>\n",
       "      <td>positive</td>\n",
       "      <td>438</td>\n",
       "    </tr>\n",
       "  </tbody>\n",
       "</table>\n",
       "</div>"
      ],
      "text/plain": [
       "   topic sentiment  count\n",
       "0      0  negative     55\n",
       "1      0   neutral     20\n",
       "2      0  positive    438"
      ]
     },
     "execution_count": 88,
     "metadata": {},
     "output_type": "execute_result"
    }
   ],
   "source": [
    "sentiment_counts_filt_0 = sentiment_counts.loc[sentiment_counts['topic'] == 0]\n",
    "sentiment_counts_filt_0"
   ]
  },
  {
   "cell_type": "code",
   "execution_count": 89,
   "metadata": {},
   "outputs": [
    {
     "data": {
      "text/html": [
       "<div>\n",
       "<style scoped>\n",
       "    .dataframe tbody tr th:only-of-type {\n",
       "        vertical-align: middle;\n",
       "    }\n",
       "\n",
       "    .dataframe tbody tr th {\n",
       "        vertical-align: top;\n",
       "    }\n",
       "\n",
       "    .dataframe thead th {\n",
       "        text-align: right;\n",
       "    }\n",
       "</style>\n",
       "<table border=\"1\" class=\"dataframe\">\n",
       "  <thead>\n",
       "    <tr style=\"text-align: right;\">\n",
       "      <th></th>\n",
       "      <th>topic</th>\n",
       "      <th>sentiment</th>\n",
       "      <th>count</th>\n",
       "    </tr>\n",
       "  </thead>\n",
       "  <tbody>\n",
       "    <tr>\n",
       "      <th>3</th>\n",
       "      <td>1</td>\n",
       "      <td>negative</td>\n",
       "      <td>31</td>\n",
       "    </tr>\n",
       "    <tr>\n",
       "      <th>4</th>\n",
       "      <td>1</td>\n",
       "      <td>neutral</td>\n",
       "      <td>20</td>\n",
       "    </tr>\n",
       "    <tr>\n",
       "      <th>5</th>\n",
       "      <td>1</td>\n",
       "      <td>positive</td>\n",
       "      <td>228</td>\n",
       "    </tr>\n",
       "  </tbody>\n",
       "</table>\n",
       "</div>"
      ],
      "text/plain": [
       "   topic sentiment  count\n",
       "3      1  negative     31\n",
       "4      1   neutral     20\n",
       "5      1  positive    228"
      ]
     },
     "execution_count": 89,
     "metadata": {},
     "output_type": "execute_result"
    }
   ],
   "source": [
    "sentiment_counts_filt_1 = sentiment_counts.loc[sentiment_counts['topic'] == 1]\n",
    "sentiment_counts_filt_1"
   ]
  },
  {
   "cell_type": "code",
   "execution_count": 90,
   "metadata": {},
   "outputs": [
    {
     "data": {
      "text/html": [
       "<div>\n",
       "<style scoped>\n",
       "    .dataframe tbody tr th:only-of-type {\n",
       "        vertical-align: middle;\n",
       "    }\n",
       "\n",
       "    .dataframe tbody tr th {\n",
       "        vertical-align: top;\n",
       "    }\n",
       "\n",
       "    .dataframe thead th {\n",
       "        text-align: right;\n",
       "    }\n",
       "</style>\n",
       "<table border=\"1\" class=\"dataframe\">\n",
       "  <thead>\n",
       "    <tr style=\"text-align: right;\">\n",
       "      <th></th>\n",
       "      <th>topic</th>\n",
       "      <th>sentiment</th>\n",
       "      <th>count</th>\n",
       "    </tr>\n",
       "  </thead>\n",
       "  <tbody>\n",
       "  </tbody>\n",
       "</table>\n",
       "</div>"
      ],
      "text/plain": [
       "Empty DataFrame\n",
       "Columns: [topic, sentiment, count]\n",
       "Index: []"
      ]
     },
     "execution_count": 90,
     "metadata": {},
     "output_type": "execute_result"
    }
   ],
   "source": [
    "sentiment_counts_filt_2 = sentiment_counts.loc[sentiment_counts['topic'] == 2]\n",
    "sentiment_counts_filt_2"
   ]
  },
  {
   "cell_type": "code",
   "execution_count": 91,
   "metadata": {},
   "outputs": [
    {
     "data": {
      "text/html": [
       "<div>\n",
       "<style scoped>\n",
       "    .dataframe tbody tr th:only-of-type {\n",
       "        vertical-align: middle;\n",
       "    }\n",
       "\n",
       "    .dataframe tbody tr th {\n",
       "        vertical-align: top;\n",
       "    }\n",
       "\n",
       "    .dataframe thead th {\n",
       "        text-align: right;\n",
       "    }\n",
       "</style>\n",
       "<table border=\"1\" class=\"dataframe\">\n",
       "  <thead>\n",
       "    <tr style=\"text-align: right;\">\n",
       "      <th></th>\n",
       "      <th>topic</th>\n",
       "      <th>sentiment</th>\n",
       "      <th>count</th>\n",
       "    </tr>\n",
       "  </thead>\n",
       "  <tbody>\n",
       "  </tbody>\n",
       "</table>\n",
       "</div>"
      ],
      "text/plain": [
       "Empty DataFrame\n",
       "Columns: [topic, sentiment, count]\n",
       "Index: []"
      ]
     },
     "execution_count": 91,
     "metadata": {},
     "output_type": "execute_result"
    }
   ],
   "source": [
    "sentiment_counts_filt_3 = sentiment_counts.loc[sentiment_counts['topic'] == 3]\n",
    "sentiment_counts_filt_3"
   ]
  },
  {
   "cell_type": "code",
   "execution_count": 92,
   "metadata": {},
   "outputs": [
    {
     "name": "stderr",
     "output_type": "stream",
     "text": [
      "Some weights of the model checkpoint at 51la5/roberta-large-NER were not used when initializing XLMRobertaForTokenClassification: ['roberta.pooler.dense.bias', 'roberta.pooler.dense.weight']\n",
      "- This IS expected if you are initializing XLMRobertaForTokenClassification from the checkpoint of a model trained on another task or with another architecture (e.g. initializing a BertForSequenceClassification model from a BertForPreTraining model).\n",
      "- This IS NOT expected if you are initializing XLMRobertaForTokenClassification from the checkpoint of a model that you expect to be exactly identical (initializing a BertForSequenceClassification model from a BertForSequenceClassification model).\n"
     ]
    }
   ],
   "source": [
    "from transformers import AutoModelForTokenClassification, AutoTokenizer, XLMRobertaForTokenClassification, pipeline, DistilBertTokenizerFast, BertForTokenClassification\n",
    "\n",
    "MAX_LEN = 175\n",
    "RANDOM_SEED = 42\n",
    "\n",
    "np.random.seed(RANDOM_SEED)\n",
    "torch.manual_seed(RANDOM_SEED)\n",
    "\n",
    "tokenizer_ner = AutoTokenizer.from_pretrained(\"51la5/roberta-large-NER\", model_max_length=512)\n",
    "model_ner = XLMRobertaForTokenClassification.from_pretrained(\"51la5/roberta-large-NER\")\n",
    "ner_task = pipeline(\"ner\", model=model_ner, tokenizer=tokenizer_ner)"
   ]
  },
  {
   "cell_type": "code",
   "execution_count": 93,
   "metadata": {},
   "outputs": [],
   "source": [
    "def extract_entities(df):\n",
    "    all_entities = []\n",
    "\n",
    "    for comment in df[\"review_text_sentiment\"]:\n",
    "        predictions = ner_task(comment)\n",
    "        comment_entities = []\n",
    "\n",
    "        if predictions != []:\n",
    "            combined_word = \"\"\n",
    "            previous_entity = None\n",
    "\n",
    "            for prediction in predictions:\n",
    "                entity = prediction['entity']\n",
    "                word = prediction['word']\n",
    "\n",
    "                if not word.startswith('▁'):\n",
    "                    combined_word += word\n",
    "                else:\n",
    "                    if combined_word:\n",
    "                        comment_entities.append((combined_word, previous_entity))\n",
    "                    combined_word = word\n",
    "\n",
    "                previous_entity = entity\n",
    "\n",
    "            if combined_word:\n",
    "                comment_entities.append((combined_word, previous_entity))\n",
    "\n",
    "        all_entities.append(comment_entities)\n",
    "\n",
    "    df_copy = df.copy()\n",
    "    df_copy[\"token_predictions\"] = all_entities\n",
    "\n",
    "    return df_copy"
   ]
  },
  {
   "cell_type": "code",
   "execution_count": 94,
   "metadata": {},
   "outputs": [],
   "source": [
    "df_ner = df_complete_topic_info.copy()\n",
    "df_ner[\"token_predictions\"] = \"\""
   ]
  },
  {
   "cell_type": "code",
   "execution_count": 95,
   "metadata": {},
   "outputs": [
    {
     "name": "stdout",
     "output_type": "stream",
     "text": [
      "CPU times: total: 18min 1s\n",
      "Wall time: 3min 37s\n"
     ]
    }
   ],
   "source": [
    "%%time\n",
    "\n",
    "df_ner = extract_entities(df_ner)"
   ]
  },
  {
   "cell_type": "code",
   "execution_count": 96,
   "metadata": {},
   "outputs": [
    {
     "data": {
      "text/plain": [
       "token_predictions\n",
       "(▁motorola, I-ORG)            27\n",
       "(▁americanas, I-ORG)          20\n",
       "(▁motorola, I-MISC)           20\n",
       "(▁moto, I-MISC)               18\n",
       "(▁g5s, I-MISC)                15\n",
       "(▁americana, I-MISC)          10\n",
       "(▁android, I-MISC)             7\n",
       "(▁lenovo, I-ORG)               6\n",
       "(▁plus, I-MISC)                5\n",
       "(▁samsung, I-ORG)              3\n",
       "(▁asus, I-ORG)                 2\n",
       "(▁americana, I-ORG)            2\n",
       "(▁google, I-ORG)               2\n",
       "(▁lenovo, I-MISC)              2\n",
       "(▁asus, I-MISC)                2\n",
       "(▁americana, I-LOC)            2\n",
       "(▁motog, I-MISC)               2\n",
       "(▁g5, I-MISC)                  2\n",
       "(▁ios, I-MISC)                 2\n",
       "(ola, I-MISC)                  1\n",
       "(▁gs2, I-MISC)                 1\n",
       "(▁correios, I-ORG)             1\n",
       "(▁americas, I-ORG)             1\n",
       "(▁gs5, I-MISC)                 1\n",
       "(▁v300, I-MISC)                1\n",
       "(▁tbm, I-ORG)                  1\n",
       "(▁dia, I-MISC)                 1\n",
       "(▁minas, I-LOC)                1\n",
       "(▁gerais, I-LOC)               1\n",
       "(▁rio, I-LOC)                  1\n",
       "(▁janeiro, I-LOC)              1\n",
       "(▁k10, I-MISC)                 1\n",
       "(▁aderi, I-ORG)                1\n",
       "(▁motor, I-ORG)                1\n",
       "(▁direct, I-ORG)               1\n",
       "(▁logistic, I-ORG)             1\n",
       "(▁sansung, I-MISC)             1\n",
       "(▁directlog, I-ORG)            1\n",
       "(▁ga, I-ORG)                   1\n",
       "(▁e380, I-MISC)                1\n",
       "(america, I-ORG)               1\n",
       "(gmail, I-ORG)                 1\n",
       "(▁motorolaamericas, I-LOC)     1\n",
       "(▁motorolanovo, I-MISC)        1\n",
       "(▁motog5s, I-MISC)             1\n",
       "(▁paci, I-LOC)                 1\n",
       "(▁curitiba, I-ORG)             1\n",
       "(▁play, I-MISC)                1\n",
       "(▁azul, I-MISC)                1\n",
       "(▁paulista, I-MISC)            1\n",
       "(▁onus, I-MISC)                1\n",
       "(▁jbl, I-MISC)                 1\n",
       "(▁flip3, I-MISC)               1\n",
       "(▁galaxy, I-MISC)              1\n",
       "(▁americanas, I-LOC)           1\n",
       "(▁top, I-MISC)                 1\n",
       "(▁indico, I-MISC)              1\n",
       "(▁palmeiras, I-ORG)            1\n",
       "(▁meri, I-ORG)                 1\n",
       "Name: count, dtype: int64"
      ]
     },
     "execution_count": 96,
     "metadata": {},
     "output_type": "execute_result"
    }
   ],
   "source": [
    "count_unique = df_ner['token_predictions'].explode().value_counts()\n",
    "count_unique"
   ]
  },
  {
   "cell_type": "code",
   "execution_count": 97,
   "metadata": {},
   "outputs": [
    {
     "data": {
      "text/html": [
       "<div>\n",
       "<style scoped>\n",
       "    .dataframe tbody tr th:only-of-type {\n",
       "        vertical-align: middle;\n",
       "    }\n",
       "\n",
       "    .dataframe tbody tr th {\n",
       "        vertical-align: top;\n",
       "    }\n",
       "\n",
       "    .dataframe thead th {\n",
       "        text-align: right;\n",
       "    }\n",
       "</style>\n",
       "<table border=\"1\" class=\"dataframe\">\n",
       "  <thead>\n",
       "    <tr style=\"text-align: right;\">\n",
       "      <th></th>\n",
       "      <th>topic</th>\n",
       "      <th>entidades_mais_frequentes</th>\n",
       "      <th>frequencias</th>\n",
       "    </tr>\n",
       "  </thead>\n",
       "  <tbody>\n",
       "    <tr>\n",
       "      <th>0</th>\n",
       "      <td>0</td>\n",
       "      <td>▁motorola, ▁americanas, ▁americana, ▁moto, ▁g5...</td>\n",
       "      <td>27, 16, 13, 11, 10, 6, 4, 2, 2, 2</td>\n",
       "    </tr>\n",
       "    <tr>\n",
       "      <th>1</th>\n",
       "      <td>1</td>\n",
       "      <td>▁motorola, ▁moto, ▁g5s, ▁android, ▁americanas,...</td>\n",
       "      <td>20, 7, 5, 5, 5, 4, 2, 2, 2, 1</td>\n",
       "    </tr>\n",
       "  </tbody>\n",
       "</table>\n",
       "</div>"
      ],
      "text/plain": [
       "   topic                          entidades_mais_frequentes  \\\n",
       "0      0  ▁motorola, ▁americanas, ▁americana, ▁moto, ▁g5...   \n",
       "1      1  ▁motorola, ▁moto, ▁g5s, ▁android, ▁americanas,...   \n",
       "\n",
       "                         frequencias  \n",
       "0  27, 16, 13, 11, 10, 6, 4, 2, 2, 2  \n",
       "1      20, 7, 5, 5, 5, 4, 2, 2, 2, 1  "
      ]
     },
     "execution_count": 97,
     "metadata": {},
     "output_type": "execute_result"
    }
   ],
   "source": [
    "def entidade_mais_frequente_por_topico(df):\n",
    "    entidade_por_topico = {'topic': [], 'entidades_mais_frequentes': [], 'frequencias': []}\n",
    "\n",
    "    grupos = df.groupby('topic')\n",
    "\n",
    "    for nome_grupo, grupo in grupos:\n",
    "        contagem_entidades = {}\n",
    "\n",
    "        for index, row in grupo.iterrows():\n",
    "            for token_pred in row['token_predictions']:\n",
    "                entidade = token_pred[0]\n",
    "                contagem_entidades[entidade] = contagem_entidades.get(entidade, 0) + 1\n",
    "        \n",
    "        entidades_mais_frequentes = sorted(contagem_entidades, key=contagem_entidades.get, reverse=True)[:10]\n",
    "        frequencias = [contagem_entidades[entidade] for entidade in entidades_mais_frequentes]\n",
    "\n",
    "        entidades_string = ', '.join(entidades_mais_frequentes)\n",
    "        frequencias_string = ', '.join(map(str, frequencias))\n",
    "\n",
    "        entidade_por_topico['topic'].append(nome_grupo)\n",
    "        entidade_por_topico['entidades_mais_frequentes'].append(entidades_string)\n",
    "        entidade_por_topico['frequencias'].append(frequencias_string)\n",
    "\n",
    "    df_entidade_mais_frequente = pd.DataFrame(entidade_por_topico)\n",
    "\n",
    "    return df_entidade_mais_frequente\n",
    "\n",
    "df_entidade_mais_frequente = entidade_mais_frequente_por_topico(df_ner)\n",
    "df_entidade_mais_frequente.head()"
   ]
  },
  {
   "cell_type": "code",
   "execution_count": 98,
   "metadata": {},
   "outputs": [
    {
     "data": {
      "text/html": [
       "<div>\n",
       "<style scoped>\n",
       "    .dataframe tbody tr th:only-of-type {\n",
       "        vertical-align: middle;\n",
       "    }\n",
       "\n",
       "    .dataframe tbody tr th {\n",
       "        vertical-align: top;\n",
       "    }\n",
       "\n",
       "    .dataframe thead th {\n",
       "        text-align: right;\n",
       "    }\n",
       "</style>\n",
       "<table border=\"1\" class=\"dataframe\">\n",
       "  <thead>\n",
       "    <tr style=\"text-align: right;\">\n",
       "      <th></th>\n",
       "      <th>topic</th>\n",
       "      <th>entidades_mais_frequentes</th>\n",
       "      <th>frequencias</th>\n",
       "    </tr>\n",
       "  </thead>\n",
       "  <tbody>\n",
       "    <tr>\n",
       "      <th>0</th>\n",
       "      <td>0</td>\n",
       "      <td>▁motorola, ▁americanas, ▁americana, ▁moto, ▁g5s, ▁lenovo, ▁plus, ▁samsung, ▁g5, ▁android</td>\n",
       "      <td>27, 16, 13, 11, 10, 6, 4, 2, 2, 2</td>\n",
       "    </tr>\n",
       "    <tr>\n",
       "      <th>1</th>\n",
       "      <td>1</td>\n",
       "      <td>▁motorola, ▁moto, ▁g5s, ▁android, ▁americanas, ▁asus, ▁lenovo, ▁ios, ▁google, gmail</td>\n",
       "      <td>20, 7, 5, 5, 5, 4, 2, 2, 2, 1</td>\n",
       "    </tr>\n",
       "  </tbody>\n",
       "</table>\n",
       "</div>"
      ],
      "text/plain": [
       "   topic  \\\n",
       "0      0   \n",
       "1      1   \n",
       "\n",
       "                                                                  entidades_mais_frequentes  \\\n",
       "0  ▁motorola, ▁americanas, ▁americana, ▁moto, ▁g5s, ▁lenovo, ▁plus, ▁samsung, ▁g5, ▁android   \n",
       "1       ▁motorola, ▁moto, ▁g5s, ▁android, ▁americanas, ▁asus, ▁lenovo, ▁ios, ▁google, gmail   \n",
       "\n",
       "                         frequencias  \n",
       "0  27, 16, 13, 11, 10, 6, 4, 2, 2, 2  \n",
       "1      20, 7, 5, 5, 5, 4, 2, 2, 2, 1  "
      ]
     },
     "execution_count": 98,
     "metadata": {},
     "output_type": "execute_result"
    }
   ],
   "source": [
    "pd.set_option('display.max_colwidth', None)\n",
    "df_entidade_mais_frequente.head()"
   ]
  },
  {
   "cell_type": "code",
   "execution_count": 99,
   "metadata": {},
   "outputs": [],
   "source": [
    "df_entidade_mais_frequente['entidades_mais_frequentes'] = df_entidade_mais_frequente['entidades_mais_frequentes'].str.replace('▁', '')"
   ]
  },
  {
   "cell_type": "code",
   "execution_count": 100,
   "metadata": {},
   "outputs": [
    {
     "name": "stdout",
     "output_type": "stream",
     "text": [
      "                                                     entidades_mais_frequentes\n",
      "motorola, americanas, americana, moto, g5s, lenovo, plus, samsung, g5, android\n",
      "    motorola, moto, g5s, android, americanas, asus, lenovo, ios, google, gmail\n"
     ]
    }
   ],
   "source": [
    "print(df_entidade_mais_frequente[['entidades_mais_frequentes']].to_string(index=False))"
   ]
  },
  {
   "cell_type": "code",
   "execution_count": 101,
   "metadata": {},
   "outputs": [],
   "source": [
    "def mostrar_reviews_por_sentimento_e_topico(df, topico, output_file):\n",
    "    df_topico = df[df['topic'] == topico]\n",
    "\n",
    "    with open(output_file, 'w', encoding='utf-8') as file:\n",
    "        for sentimento in ['positive', 'neutral', 'negative']:\n",
    "            print(f\"Reviews com sentimento '{sentimento}' no tópico '{topico}':\")\n",
    "            file.write(f\"Reviews com sentimento '{sentimento}' no tópico '{topico}':\\n\")\n",
    "            \n",
    "            df_sentimento = df_topico[df_topico['sentiment'] == sentimento]\n",
    "            df_sentimento['review_text'] = df_sentimento['review_text'].str.replace('\\n', ' ')\n",
    "            \n",
    "            for i, review_text in enumerate(df_sentimento['review_text'].head(5), start=1):\n",
    "                print(f\"{i}. {review_text}\")\n",
    "                file.write(f\"{i}. {review_text}\\n\")\n",
    "            file.write('\\n')\n",
    "            print()"
   ]
  },
  {
   "cell_type": "code",
   "execution_count": 102,
   "metadata": {},
   "outputs": [
    {
     "name": "stdout",
     "output_type": "stream",
     "text": [
      "Reviews com sentimento 'positive' no tópico '0':\n",
      "1. Produto excelente, ótimas funções, rápido, visual muito agradável.\n",
      "2. Excelente produto, belo design, fácil de manusear. Super satisfeita.\n",
      "3. Satisfaz  todas as expectativas, ótimo aparelho, recomendo com certeza.\n",
      "4. Aparelho com ótima qualidade,super recomendo.. Entrega antes do previsto..\n",
      "5. Bom, completo e resistente. Ótimo custo benefício.\n",
      "\n",
      "Reviews com sentimento 'neutral' no tópico '0':\n",
      "1. Produto bom, mas fiquei decepcionado com o volume do aparelho, muito, muito baixo, que pena.\n",
      "2. Poderia ser melhor se a câmara traseira não fosse avançada do alinhamento traseiro\n",
      "3. nan\n",
      "4. Este é o terceiro Motorola da minha casa, por insistência do meu filho que gosta da navegação dele, mas todos os outros até agora, tiveram que ser trocados porque dão problema na bateria. O produto é bom, rápido com boa navegação, até que pare de carregar. Isso acontece com menos de.um ano.\n",
      "5. nan\n",
      "\n",
      "Reviews com sentimento 'negative' no tópico '0':\n",
      "1. Comprei o produto e veio com defeito. A americaas.com ão realizou a troca. Estou muito decepcionada, visto que o produto era para presente.\n",
      "2. COMPREI ESTE APARELHO, MAIS ESTAVA COM DEFEITO, A BATERIA ESTAVA AQUECENDO MUITO,  E DESISTIR DA COMPRA.SENDO QUE A  EMPRESA JÁ REEMBOLSOU.\n",
      "3. Desde o dia 03\\01\\2018 que o produto está a caminho do meu endereço e até agora não chegou  e nenhuma atualização no site. Ja enviei varios emails para a transportadora e nada de resposta.\n",
      "4. Estourou o prazo de entrega e não recebi o produto, estou descontente e não á atendimento ao cliente exceto eletrônico que não resolve nada.\n",
      "5. Não tem como avaliar o produto porque Infelizmente o produto não foi entregue no prazo e fiz a solicitação do reembolso do valor pago da compra que efetuei à vista antes do Natal. Lamentavelmente, porque todas as vezes que comprei produtos da Americanas.com sempre foram entregues de forma muito rápida e dessa vez não fui atendido em meu pedido. As Lojas Americanas interagiu e informou que o valor será reembolsado no prazo de cinco a dez dias úteis, o que  também é um absurdo total porque paguei o valor à vista. O valor deveria ser devolvido imediatamente e poderia ser feito até mesmo nas lojas da rede em minha cidade. Fica aqui meu protesto e com profunda tristeza por não ter sido atendido no prazo e arrependido da compra que havia efetuado no Americanas.com.\n",
      "\n"
     ]
    }
   ],
   "source": [
    "mostrar_reviews_por_sentimento_e_topico(df_ner, 0, \"review_motorola_0.txt\")"
   ]
  },
  {
   "cell_type": "code",
   "execution_count": 103,
   "metadata": {},
   "outputs": [
    {
     "name": "stdout",
     "output_type": "stream",
     "text": [
      "Reviews com sentimento 'positive' no tópico '1':\n",
      "1. Produto excelente qualidade boa câmera desenvolvimento do Android com rapidez\n",
      "2. Nada mal, tempo de entrega antes do prazo. Sobre o Celular ótimo atendeu muito bem ao que eu esperava. Bateria em média 1 dia e meio +/-.\n",
      "3. Gostei do pedido e prazo de entrega. Celular muito bom para o preço pago, ótima promoção\n",
      "4. O celular é excelente! Vale cada centavo! Os outros são caros, neste celular não pagamos pela grife, mas em momento algum o torna inferior.\n",
      "5. Ótimo custo beneficio, entretanto a câmera deixa um pouco a desejar.\n",
      "\n",
      "Reviews com sentimento 'neutral' no tópico '1':\n",
      "1. O aparelho é bom, só que tem horas que o touch trava. Referente a câmera já vi melhores por ter 12 MP acho que a imagem deveria ser um pouco melhor.\n",
      "2. Bom produto e bonito. Mas as vezes trava. E fica difícil de voltar as funções. Tem dificuldade de conexão com a internet. A bateria carrega rápido e dura bem.\n",
      "3. Existe os pontos positivos e negativos... O celular tem ótimo funcionamento, porém não sabia que a bateria não era removível. Ele esquenta não sei se é normal. Não gostei do modo da colocação do chip,  achei bem frágil.\n",
      "4. Aparelho muito bom, impressão digital e navegação pelo mesmo botão facilita muito o uso, mas para mim, que preciso usar 2 chips de operadoras, foi ruim eu fiquei sem espaço para colocar o cartão de memoria externa, para quem precisa deste aumento de memoria é muito ruim, pois o aparelho tem 32gb de memoria interna e normalmente eu utilizava em outro aparelho um cartão com mais 32gb de memoria para armazenar fotos e vídeos e deixava a memoria interna para aplicativos,  só que neste aparelho só tem espaço para 1 chip e 1 cartão de memoria ou você coloca 2 chips e não coloca o cartão de memoria externa. Nesse quesito a Motorola errou feio.\n",
      "5. Bom celular, desempenho, memória e tela. Achei um pouco pesado, poderia ser mais leve. Fiquei muito desconfortável ao saber que o local do segundo chip é o mesmo da expansão de memória. Economia porca. No g3 são locais separados e vc consegue expandir a memória mantendo a opção do dual ship. Se tivesse visto este fator na época não compraria o produto. Sorte que comprei o S de 32 senão teria de devolver o produto.\n",
      "\n",
      "Reviews com sentimento 'negative' no tópico '1':\n",
      "1. Boa tarde. Estou insatisfeita com o aparelho, o mesmo está apresentando problemas na câmera frontal, na verdade a câmera está travada e não há o que fazer.  Quero trocar o produto.\n",
      "2. transportadora foi infeliz desviaram o meu produto, estou muito triste com as lojas americanas não me dao uma resposta só enrolam falaram que iam retorna, retornou o carai, nem as lojas fisicas ajudam pessimo atendimento  pra min isso é uma humilhação da transportadora um celular novo nao cai do céu\n",
      "3. não é avisado para quem compra que o celular só permite expansão de memória se for optado para o uso somente de um chip de telefone. Se usar 2 chips de para o telefone não pode  usar cartão de memória. Não recomendo  a compra.\n",
      "4. Comprei celular pra minha filha.Chegou no dia esperado,ótimo celular. Só que paguei pelo celular novo e me mandaram usado(abri estava cheio de contatos,alarme pra desparar),quando é novo vem cheio de proteção na câmera,na tela em tudo o meu veio com nada. Celular trava muito,tem hora vai fazer ligação ele não chama.\n",
      "5. Hoje, assim que o celular foi entregue (de forma estranha, não por transportadora, mas por duas mulheres sem uniforme ou trazendo informações de qualquer empresa), liguei o celular e a tela estava muito escura, era quase impossível enxergar e o brilho da tela estava no máximo. Reiniciei o telefone e a tela passou a piscar. Liguei para as Lojas Americanas que transferiu para a Motorola. Estou aguardando retorno da empresa.\n",
      "\n"
     ]
    }
   ],
   "source": [
    "mostrar_reviews_por_sentimento_e_topico(df_ner, 1, \"review_motorola_1.txt\")"
   ]
  },
  {
   "cell_type": "code",
   "execution_count": 104,
   "metadata": {},
   "outputs": [
    {
     "name": "stdout",
     "output_type": "stream",
     "text": [
      "Reviews com sentimento 'positive' no tópico '2':\n",
      "\n",
      "Reviews com sentimento 'neutral' no tópico '2':\n",
      "\n",
      "Reviews com sentimento 'negative' no tópico '2':\n",
      "\n"
     ]
    }
   ],
   "source": [
    "mostrar_reviews_por_sentimento_e_topico(df_ner, 2, \"review_motorola_2.txt\")"
   ]
  },
  {
   "cell_type": "code",
   "execution_count": 105,
   "metadata": {},
   "outputs": [
    {
     "name": "stdout",
     "output_type": "stream",
     "text": [
      "Reviews com sentimento 'positive' no tópico '3':\n",
      "\n",
      "Reviews com sentimento 'neutral' no tópico '3':\n",
      "\n",
      "Reviews com sentimento 'negative' no tópico '3':\n",
      "\n"
     ]
    }
   ],
   "source": [
    "mostrar_reviews_por_sentimento_e_topico(df_ner, 3, \"review_motorola_3.txt\")"
   ]
  }
 ],
 "metadata": {
  "kernelspec": {
   "display_name": "Python 3",
   "language": "python",
   "name": "python3"
  },
  "language_info": {
   "codemirror_mode": {
    "name": "ipython",
    "version": 3
   },
   "file_extension": ".py",
   "mimetype": "text/x-python",
   "name": "python",
   "nbconvert_exporter": "python",
   "pygments_lexer": "ipython3",
   "version": "3.9.19"
  }
 },
 "nbformat": 4,
 "nbformat_minor": 2
}
