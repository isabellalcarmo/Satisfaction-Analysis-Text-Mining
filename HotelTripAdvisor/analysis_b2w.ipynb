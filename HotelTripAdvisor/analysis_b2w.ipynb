{
 "cells": [
  {
   "cell_type": "code",
   "execution_count": 22,
   "metadata": {},
   "outputs": [],
   "source": [
    "# Natural Language Processing (NLP) Libraries\n",
    "import nltk\n",
    "import spacy\n",
    "from spacy.lang.pt.examples import sentences\n",
    "from gensim.utils import simple_preprocess\n",
    "\n",
    "# Machine Learning Libraries\n",
    "import pandas as pd\n",
    "import numpy as np\n",
    "from sklearn.feature_extraction.text import CountVectorizer\n",
    "from sklearn.model_selection import train_test_split\n",
    "from sklearn.metrics import confusion_matrix, classification_report\n",
    "from sklearn.cluster import HDBSCAN\n",
    "import torch\n",
    "from torch import nn\n",
    "\n",
    "# Transformers Library\n",
    "from transformers import pipeline, AutoTokenizer, AutoModelForTokenClassification, AutoModelForSequenceClassification\n",
    "from transformers import DistilBertTokenizerFast, BertForTokenClassification, XLMRobertaForTokenClassification\n",
    "from transformers import BertModel, BertTokenizer, AdamW, get_linear_schedule_with_warmup\n",
    "\n",
    "# Text Processing Libraries\n",
    "import re\n",
    "from unidecode import unidecode\n",
    "\n",
    "# Visualization Libraries\n",
    "import matplotlib.pyplot as plt\n",
    "import seaborn as sns\n",
    "from wordcloud import WordCloud\n",
    "\n",
    "# Topic Modeling Libraries\n",
    "from bertopic import BERTopic\n",
    "from bertopic.representation import PartOfSpeech, KeyBERTInspired\n",
    "from bertopic.cluster import BaseCluster\n",
    "from umap import UMAP\n",
    "from hdbscan import HDBSCAN"
   ]
  },
  {
   "cell_type": "code",
   "execution_count": 23,
   "metadata": {},
   "outputs": [
    {
     "name": "stderr",
     "output_type": "stream",
     "text": [
      "C:\\Users\\isabe\\AppData\\Local\\Temp\\ipykernel_26588\\316322153.py:1: DtypeWarning:\n",
      "\n",
      "Columns (2) have mixed types. Specify dtype option on import or set low_memory=False.\n",
      "\n"
     ]
    }
   ],
   "source": [
    "df_b2w = pd.read_csv(\"B2W-Reviews.csv\")"
   ]
  },
  {
   "cell_type": "code",
   "execution_count": 24,
   "metadata": {},
   "outputs": [
    {
     "name": "stdout",
     "output_type": "stream",
     "text": [
      "<class 'pandas.core.frame.DataFrame'>\n",
      "RangeIndex: 132373 entries, 0 to 132372\n",
      "Data columns (total 14 columns):\n",
      " #   Column                 Non-Null Count   Dtype  \n",
      "---  ------                 --------------   -----  \n",
      " 0   submission_date        132373 non-null  object \n",
      " 1   reviewer_id            132373 non-null  object \n",
      " 2   product_id             132373 non-null  object \n",
      " 3   product_name           132289 non-null  object \n",
      " 4   product_brand          40982 non-null   object \n",
      " 5   site_category_lv1      132367 non-null  object \n",
      " 6   site_category_lv2      128360 non-null  object \n",
      " 7   review_title           132071 non-null  object \n",
      " 8   overall_rating         132373 non-null  int64  \n",
      " 9   recommend_to_a_friend  132355 non-null  object \n",
      " 10  review_text            129098 non-null  object \n",
      " 11  reviewer_birth_year    126389 non-null  float64\n",
      " 12  reviewer_gender        128237 non-null  object \n",
      " 13  reviewer_state         128382 non-null  object \n",
      "dtypes: float64(1), int64(1), object(12)\n",
      "memory usage: 14.1+ MB\n"
     ]
    }
   ],
   "source": [
    "df_b2w.info()"
   ]
  },
  {
   "cell_type": "code",
   "execution_count": 25,
   "metadata": {},
   "outputs": [],
   "source": [
    "most_frequent_product_name = df_b2w['product_name'].value_counts().idxmax()\n",
    "product_df = df_b2w.loc[df_b2w['product_name'] == most_frequent_product_name]"
   ]
  },
  {
   "cell_type": "code",
   "execution_count": 65,
   "metadata": {},
   "outputs": [
    {
     "data": {
      "text/plain": [
       "'Smartphone Motorola Moto G 5S Dual Chip Android 7.1.1 Nougat Tela 5.2\" Snapdragon 430 32GB 4G Câmera 16MP - Platinum'"
      ]
     },
     "execution_count": 65,
     "metadata": {},
     "output_type": "execute_result"
    }
   ],
   "source": [
    "most_frequent_product_name"
   ]
  },
  {
   "cell_type": "code",
   "execution_count": 26,
   "metadata": {},
   "outputs": [
    {
     "data": {
      "text/html": [
       "<div>\n",
       "<style scoped>\n",
       "    .dataframe tbody tr th:only-of-type {\n",
       "        vertical-align: middle;\n",
       "    }\n",
       "\n",
       "    .dataframe tbody tr th {\n",
       "        vertical-align: top;\n",
       "    }\n",
       "\n",
       "    .dataframe thead th {\n",
       "        text-align: right;\n",
       "    }\n",
       "</style>\n",
       "<table border=\"1\" class=\"dataframe\">\n",
       "  <thead>\n",
       "    <tr style=\"text-align: right;\">\n",
       "      <th></th>\n",
       "      <th>submission_date</th>\n",
       "      <th>reviewer_id</th>\n",
       "      <th>product_id</th>\n",
       "      <th>product_name</th>\n",
       "      <th>product_brand</th>\n",
       "      <th>site_category_lv1</th>\n",
       "      <th>site_category_lv2</th>\n",
       "      <th>review_title</th>\n",
       "      <th>overall_rating</th>\n",
       "      <th>recommend_to_a_friend</th>\n",
       "      <th>review_text</th>\n",
       "      <th>reviewer_birth_year</th>\n",
       "      <th>reviewer_gender</th>\n",
       "      <th>reviewer_state</th>\n",
       "    </tr>\n",
       "  </thead>\n",
       "  <tbody>\n",
       "    <tr>\n",
       "      <th>7</th>\n",
       "      <td>2018-01-01 01:58:17</td>\n",
       "      <td>e039cbff059effe12756772b358af4323c2157e9561da8...</td>\n",
       "      <td>132444092</td>\n",
       "      <td>Smartphone Motorola Moto G 5S Dual Chip Androi...</td>\n",
       "      <td>NaN</td>\n",
       "      <td>Celulares e Smartphones</td>\n",
       "      <td>Smartphone</td>\n",
       "      <td>Gostei bastante do produto</td>\n",
       "      <td>4</td>\n",
       "      <td>Yes</td>\n",
       "      <td>Produto excelente qualidade boa câmera desenvo...</td>\n",
       "      <td>1987.0</td>\n",
       "      <td>M</td>\n",
       "      <td>GO</td>\n",
       "    </tr>\n",
       "    <tr>\n",
       "      <th>147</th>\n",
       "      <td>2018-01-01 07:22:09</td>\n",
       "      <td>adb9eb06276a8cef5603f1da8c2c2ba1ad808f44a9e66e...</td>\n",
       "      <td>132444092</td>\n",
       "      <td>Smartphone Motorola Moto G 5S Dual Chip Androi...</td>\n",
       "      <td>NaN</td>\n",
       "      <td>Celulares e Smartphones</td>\n",
       "      <td>Smartphone</td>\n",
       "      <td>Muito show</td>\n",
       "      <td>5</td>\n",
       "      <td>Yes</td>\n",
       "      <td>Produto excelente, ótimas funções, rápido, vis...</td>\n",
       "      <td>1989.0</td>\n",
       "      <td>M</td>\n",
       "      <td>CE</td>\n",
       "    </tr>\n",
       "    <tr>\n",
       "      <th>159</th>\n",
       "      <td>2018-01-01 07:36:13</td>\n",
       "      <td>b892f76c0d680293c529c89d7b52cbe5ce81d4a28e1956...</td>\n",
       "      <td>132444092</td>\n",
       "      <td>Smartphone Motorola Moto G 5S Dual Chip Androi...</td>\n",
       "      <td>NaN</td>\n",
       "      <td>Celulares e Smartphones</td>\n",
       "      <td>Smartphone</td>\n",
       "      <td>Muito bom, câmera ótima</td>\n",
       "      <td>4</td>\n",
       "      <td>Yes</td>\n",
       "      <td>Nada mal, tempo de entrega antes do prazo. Sob...</td>\n",
       "      <td>1995.0</td>\n",
       "      <td>M</td>\n",
       "      <td>SP</td>\n",
       "    </tr>\n",
       "  </tbody>\n",
       "</table>\n",
       "</div>"
      ],
      "text/plain": [
       "         submission_date                                        reviewer_id  \\\n",
       "7    2018-01-01 01:58:17  e039cbff059effe12756772b358af4323c2157e9561da8...   \n",
       "147  2018-01-01 07:22:09  adb9eb06276a8cef5603f1da8c2c2ba1ad808f44a9e66e...   \n",
       "159  2018-01-01 07:36:13  b892f76c0d680293c529c89d7b52cbe5ce81d4a28e1956...   \n",
       "\n",
       "    product_id                                       product_name  \\\n",
       "7    132444092  Smartphone Motorola Moto G 5S Dual Chip Androi...   \n",
       "147  132444092  Smartphone Motorola Moto G 5S Dual Chip Androi...   \n",
       "159  132444092  Smartphone Motorola Moto G 5S Dual Chip Androi...   \n",
       "\n",
       "    product_brand        site_category_lv1 site_category_lv2  \\\n",
       "7             NaN  Celulares e Smartphones        Smartphone   \n",
       "147           NaN  Celulares e Smartphones        Smartphone   \n",
       "159           NaN  Celulares e Smartphones        Smartphone   \n",
       "\n",
       "                   review_title  overall_rating recommend_to_a_friend  \\\n",
       "7    Gostei bastante do produto               4                   Yes   \n",
       "147                  Muito show               5                   Yes   \n",
       "159     Muito bom, câmera ótima               4                   Yes   \n",
       "\n",
       "                                           review_text  reviewer_birth_year  \\\n",
       "7    Produto excelente qualidade boa câmera desenvo...               1987.0   \n",
       "147  Produto excelente, ótimas funções, rápido, vis...               1989.0   \n",
       "159  Nada mal, tempo de entrega antes do prazo. Sob...               1995.0   \n",
       "\n",
       "    reviewer_gender reviewer_state  \n",
       "7                 M             GO  \n",
       "147               M             CE  \n",
       "159               M             SP  "
      ]
     },
     "execution_count": 26,
     "metadata": {},
     "output_type": "execute_result"
    }
   ],
   "source": [
    "product_df.head(3)"
   ]
  },
  {
   "cell_type": "code",
   "execution_count": 27,
   "metadata": {},
   "outputs": [],
   "source": [
    "columns_to_drop = ['submission_date', 'reviewer_id', 'product_id', 'site_category_lv1', 'site_category_lv2', 'overall_rating', 'product_brand']\n",
    "df = product_df.drop(columns=columns_to_drop)\n",
    "df = df.reset_index(drop=True)\n",
    "\n",
    "df.rename(columns={'review_text': 'comments'}, inplace=True)"
   ]
  },
  {
   "cell_type": "code",
   "execution_count": 28,
   "metadata": {},
   "outputs": [],
   "source": [
    "df['comments'] = df['comments'].astype(str)"
   ]
  },
  {
   "cell_type": "code",
   "execution_count": 29,
   "metadata": {},
   "outputs": [
    {
     "data": {
      "text/html": [
       "<div>\n",
       "<style scoped>\n",
       "    .dataframe tbody tr th:only-of-type {\n",
       "        vertical-align: middle;\n",
       "    }\n",
       "\n",
       "    .dataframe tbody tr th {\n",
       "        vertical-align: top;\n",
       "    }\n",
       "\n",
       "    .dataframe thead th {\n",
       "        text-align: right;\n",
       "    }\n",
       "</style>\n",
       "<table border=\"1\" class=\"dataframe\">\n",
       "  <thead>\n",
       "    <tr style=\"text-align: right;\">\n",
       "      <th></th>\n",
       "      <th>product_name</th>\n",
       "      <th>review_title</th>\n",
       "      <th>recommend_to_a_friend</th>\n",
       "      <th>comments</th>\n",
       "      <th>reviewer_birth_year</th>\n",
       "      <th>reviewer_gender</th>\n",
       "      <th>reviewer_state</th>\n",
       "    </tr>\n",
       "  </thead>\n",
       "  <tbody>\n",
       "    <tr>\n",
       "      <th>0</th>\n",
       "      <td>Smartphone Motorola Moto G 5S Dual Chip Androi...</td>\n",
       "      <td>Gostei bastante do produto</td>\n",
       "      <td>Yes</td>\n",
       "      <td>Produto excelente qualidade boa câmera desenvo...</td>\n",
       "      <td>1987.0</td>\n",
       "      <td>M</td>\n",
       "      <td>GO</td>\n",
       "    </tr>\n",
       "    <tr>\n",
       "      <th>1</th>\n",
       "      <td>Smartphone Motorola Moto G 5S Dual Chip Androi...</td>\n",
       "      <td>Muito show</td>\n",
       "      <td>Yes</td>\n",
       "      <td>Produto excelente, ótimas funções, rápido, vis...</td>\n",
       "      <td>1989.0</td>\n",
       "      <td>M</td>\n",
       "      <td>CE</td>\n",
       "    </tr>\n",
       "    <tr>\n",
       "      <th>2</th>\n",
       "      <td>Smartphone Motorola Moto G 5S Dual Chip Androi...</td>\n",
       "      <td>Muito bom, câmera ótima</td>\n",
       "      <td>Yes</td>\n",
       "      <td>Nada mal, tempo de entrega antes do prazo. Sob...</td>\n",
       "      <td>1995.0</td>\n",
       "      <td>M</td>\n",
       "      <td>SP</td>\n",
       "    </tr>\n",
       "    <tr>\n",
       "      <th>3</th>\n",
       "      <td>Smartphone Motorola Moto G 5S Dual Chip Androi...</td>\n",
       "      <td>Excelente!!!</td>\n",
       "      <td>Yes</td>\n",
       "      <td>Excelente produto, belo design, fácil de manus...</td>\n",
       "      <td>1966.0</td>\n",
       "      <td>F</td>\n",
       "      <td>PR</td>\n",
       "    </tr>\n",
       "    <tr>\n",
       "      <th>4</th>\n",
       "      <td>Smartphone Motorola Moto G 5S Dual Chip Androi...</td>\n",
       "      <td>Problema com o aparelho</td>\n",
       "      <td>No</td>\n",
       "      <td>Boa tarde. Estou insatisfeita com o aparelho, ...</td>\n",
       "      <td>1995.0</td>\n",
       "      <td>F</td>\n",
       "      <td>SP</td>\n",
       "    </tr>\n",
       "  </tbody>\n",
       "</table>\n",
       "</div>"
      ],
      "text/plain": [
       "                                        product_name  \\\n",
       "0  Smartphone Motorola Moto G 5S Dual Chip Androi...   \n",
       "1  Smartphone Motorola Moto G 5S Dual Chip Androi...   \n",
       "2  Smartphone Motorola Moto G 5S Dual Chip Androi...   \n",
       "3  Smartphone Motorola Moto G 5S Dual Chip Androi...   \n",
       "4  Smartphone Motorola Moto G 5S Dual Chip Androi...   \n",
       "\n",
       "                 review_title recommend_to_a_friend  \\\n",
       "0  Gostei bastante do produto                   Yes   \n",
       "1                  Muito show                   Yes   \n",
       "2     Muito bom, câmera ótima                   Yes   \n",
       "3                Excelente!!!                   Yes   \n",
       "4     Problema com o aparelho                    No   \n",
       "\n",
       "                                            comments  reviewer_birth_year  \\\n",
       "0  Produto excelente qualidade boa câmera desenvo...               1987.0   \n",
       "1  Produto excelente, ótimas funções, rápido, vis...               1989.0   \n",
       "2  Nada mal, tempo de entrega antes do prazo. Sob...               1995.0   \n",
       "3  Excelente produto, belo design, fácil de manus...               1966.0   \n",
       "4  Boa tarde. Estou insatisfeita com o aparelho, ...               1995.0   \n",
       "\n",
       "  reviewer_gender reviewer_state  \n",
       "0               M             GO  \n",
       "1               M             CE  \n",
       "2               M             SP  \n",
       "3               F             PR  \n",
       "4               F             SP  "
      ]
     },
     "execution_count": 29,
     "metadata": {},
     "output_type": "execute_result"
    }
   ],
   "source": [
    "df.head()"
   ]
  },
  {
   "cell_type": "code",
   "execution_count": 66,
   "metadata": {},
   "outputs": [
    {
     "name": "stdout",
     "output_type": "stream",
     "text": [
      "<class 'pandas.core.frame.DataFrame'>\n",
      "RangeIndex: 792 entries, 0 to 791\n",
      "Data columns (total 9 columns):\n",
      " #   Column                 Non-Null Count  Dtype  \n",
      "---  ------                 --------------  -----  \n",
      " 0   product_name           792 non-null    object \n",
      " 1   review_title           790 non-null    object \n",
      " 2   recommend_to_a_friend  792 non-null    object \n",
      " 3   comments               792 non-null    object \n",
      " 4   reviewer_birth_year    758 non-null    float64\n",
      " 5   reviewer_gender        775 non-null    object \n",
      " 6   reviewer_state         775 non-null    object \n",
      " 7   comments_topic         792 non-null    object \n",
      " 8   comments_entity        792 non-null    object \n",
      "dtypes: float64(1), object(8)\n",
      "memory usage: 55.8+ KB\n"
     ]
    }
   ],
   "source": [
    "df.info()"
   ]
  },
  {
   "cell_type": "code",
   "execution_count": 30,
   "metadata": {},
   "outputs": [],
   "source": [
    "MAX_LEN = 175\n",
    "RANDOM_SEED = 42\n",
    "\n",
    "np.random.seed(RANDOM_SEED)"
   ]
  },
  {
   "cell_type": "code",
   "execution_count": 31,
   "metadata": {},
   "outputs": [
    {
     "name": "stderr",
     "output_type": "stream",
     "text": [
      "[nltk_data] Downloading package stopwords to\n",
      "[nltk_data]     C:\\Users\\isabe\\AppData\\Roaming\\nltk_data...\n",
      "[nltk_data]   Package stopwords is already up-to-date!\n",
      "[nltk_data] Downloading package rslp to\n",
      "[nltk_data]     C:\\Users\\isabe\\AppData\\Roaming\\nltk_data...\n",
      "[nltk_data]   Package rslp is already up-to-date!\n"
     ]
    }
   ],
   "source": [
    "nltk.download([\"stopwords\", \"rslp\"])\n",
    "\n",
    "PT_STOPWORDS = nltk.corpus.stopwords.words('portuguese')\n",
    "\n",
    "REGEX = [\n",
    "    {'input': r'/\\d+/g', 'output': r' '},               # removing digits\n",
    "    {'input': r'[^\\w\\s]', 'output': r' '},              # removing punctuationon\n",
    "    {'input': r'\\n', 'output': r' '},                   # removing line breaks\n",
    "    {'input': r'\\b\\w{1,2}\\b', 'output': r''},           # removing short words (1 or 2 characters)\n",
    "]\n",
    "\n",
    "def regex_treatment(text):\n",
    "    for pattern in REGEX:\n",
    "        text = re.sub(pattern['input'], pattern['output'], text)\n",
    "    return text.strip().lower()\n",
    "\n",
    "def remove_stopwords(text):\n",
    "    words = simple_preprocess(text)\n",
    "    phrase_adjusted = \" \".join([word for word in words if word not in PT_STOPWORDS])\n",
    "    return phrase_adjusted.lower()\n",
    "\n",
    "spacy_lemma = spacy.load(\"pt_core_news_md\")\n",
    "\n",
    "# Ignoring VERBs, ADVs, ADJs, PROPNs (...)\n",
    "def lemmatizer(text, postags_permit=['NOUN']):\n",
    "    \"\"\"https://spacy.io/api/annotation\"\"\"\n",
    "    doc = spacy_lemma(text.lower())\n",
    "    doc_lemma = \" \".join([token.lemma_ for token in doc if token.pos_ in postags_permit])\n",
    "    return doc_lemma\n",
    "\n",
    "def remove_accentuation(text):\n",
    "    return unidecode(text)\n",
    "\n",
    "def remove_accentuation_lower(text):\n",
    "    return unidecode(text.lower())"
   ]
  },
  {
   "cell_type": "code",
   "execution_count": 32,
   "metadata": {},
   "outputs": [],
   "source": [
    "df[\"comments_topic\"] = df[\"comments\"].apply(regex_treatment)\n",
    "df[\"comments_topic\"] = df[\"comments_topic\"].apply(remove_stopwords)\n",
    "df[\"comments_topic\"] = df[\"comments_topic\"].apply(lemmatizer)\n",
    "df[\"comments_topic\"] = df[\"comments_topic\"].apply(remove_accentuation_lower)"
   ]
  },
  {
   "cell_type": "code",
   "execution_count": 33,
   "metadata": {},
   "outputs": [],
   "source": [
    "df[\"comments_entity\"] = df[\"comments\"].apply(remove_accentuation_lower)"
   ]
  },
  {
   "cell_type": "code",
   "execution_count": 34,
   "metadata": {},
   "outputs": [
    {
     "data": {
      "image/png": "[encoded data removed]",
      "text/plain": [
       "<Figure size 1000x500 with 1 Axes>"
      ]
     },
     "metadata": {},
     "output_type": "display_data"
    }
   ],
   "source": [
    "wordcloud_text = ' '.join(df[\"comments_topic\"].astype(str))\n",
    "\n",
    "wordcloud = WordCloud(width=800, height=400, random_state=15, max_font_size=110, max_words=130, collocations=False).generate(wordcloud_text)\n",
    "\n",
    "plt.figure(figsize=(10, 5))\n",
    "plt.imshow(wordcloud, interpolation=\"bilinear\")\n",
    "plt.axis('off')\n",
    "plt.show()"
   ]
  },
  {
   "cell_type": "code",
   "execution_count": 35,
   "metadata": {},
   "outputs": [
    {
     "data": {
      "text/plain": [
       "['produto qualidade camera desenvolvimento rapidez',\n",
       " 'produto funcao',\n",
       " 'tempo prazo celular bateria dia',\n",
       " 'produto design manusear',\n",
       " 'tarde aparelho problema camera verdade camera produto']"
      ]
     },
     "execution_count": 35,
     "metadata": {},
     "output_type": "execute_result"
    }
   ],
   "source": [
    "df_comments = df[\"comments_topic\"]\n",
    "doc_comments = df_comments.to_list()\n",
    "doc_comments[:5]"
   ]
  },
  {
   "cell_type": "code",
   "execution_count": 36,
   "metadata": {},
   "outputs": [
    {
     "name": "stderr",
     "output_type": "stream",
     "text": [
      "2024-04-16 19:29:32,896 - BERTopic - Embedding - Transforming documents to embeddings.\n"
     ]
    },
    {
     "data": {
      "application/vnd.jupyter.widget-view+json": {
       "model_id": "dbfac2be595d401ea8772f14bdea6232",
       "version_major": 2,
       "version_minor": 0
      },
      "text/plain": [
       "Batches:   0%|          | 0/25 [00:00<?, ?it/s]"
      ]
     },
     "metadata": {},
     "output_type": "display_data"
    },
    {
     "name": "stderr",
     "output_type": "stream",
     "text": [
      "2024-04-16 19:29:42,560 - BERTopic - Embedding - Completed ✓\n",
      "2024-04-16 19:29:42,561 - BERTopic - Dimensionality - Fitting the dimensionality reduction algorithm\n",
      "2024-04-16 19:29:46,804 - BERTopic - Dimensionality - Completed ✓\n",
      "2024-04-16 19:29:46,806 - BERTopic - Cluster - Start clustering the reduced embeddings\n",
      "2024-04-16 19:29:46,871 - BERTopic - Cluster - Completed ✓\n",
      "2024-04-16 19:29:46,872 - BERTopic - Representation - Extracting topics from clusters using representation models.\n",
      "2024-04-16 19:29:46,903 - BERTopic - Representation - Completed ✓\n",
      "2024-04-16 19:29:46,903 - BERTopic - Topic reduction - Reducing number of topics\n",
      "2024-04-16 19:29:46,920 - BERTopic - Topic reduction - Reduced number of topics from 3 to 3\n"
     ]
    },
    {
     "name": "stdout",
     "output_type": "stream",
     "text": [
      "CPU times: total: 36.8 s\n",
      "Wall time: 14.3 s\n"
     ]
    }
   ],
   "source": [
    "%%time\n",
    "\n",
    "RANDOM_SEED = 42\n",
    "\n",
    "np.random.seed(RANDOM_SEED)\n",
    "\n",
    "umap_model = UMAP(n_neighbors=15, n_components=10, metric='cosine', low_memory=False)\n",
    "hdbscan_model = HDBSCAN(min_samples=15, min_cluster_size=80, metric='euclidean', prediction_data=True)\n",
    "topic_model = BERTopic(language=\"portuguese\", calculate_probabilities=True, verbose=True, nr_topics=\"auto\", top_n_words=10, min_topic_size=100, umap_model=umap_model, hdbscan_model=hdbscan_model)\n",
    "topics, probs = topic_model.fit_transform(doc_comments)"
   ]
  },
  {
   "cell_type": "code",
   "execution_count": 37,
   "metadata": {},
   "outputs": [
    {
     "data": {
      "text/html": [
       "<div>\n",
       "<style scoped>\n",
       "    .dataframe tbody tr th:only-of-type {\n",
       "        vertical-align: middle;\n",
       "    }\n",
       "\n",
       "    .dataframe tbody tr th {\n",
       "        vertical-align: top;\n",
       "    }\n",
       "\n",
       "    .dataframe thead th {\n",
       "        text-align: right;\n",
       "    }\n",
       "</style>\n",
       "<table border=\"1\" class=\"dataframe\">\n",
       "  <thead>\n",
       "    <tr style=\"text-align: right;\">\n",
       "      <th></th>\n",
       "      <th>Topic</th>\n",
       "      <th>Count</th>\n",
       "      <th>Name</th>\n",
       "      <th>Representation</th>\n",
       "      <th>Representative_Docs</th>\n",
       "    </tr>\n",
       "  </thead>\n",
       "  <tbody>\n",
       "    <tr>\n",
       "      <th>0</th>\n",
       "      <td>0</td>\n",
       "      <td>513</td>\n",
       "      <td>0_produto_prazo_aparelho_dia</td>\n",
       "      <td>[produto, prazo, aparelho, dia, expectativa, q...</td>\n",
       "      <td>[produto produto, produto, produto compra praz...</td>\n",
       "    </tr>\n",
       "    <tr>\n",
       "      <th>1</th>\n",
       "      <td>1</td>\n",
       "      <td>156</td>\n",
       "      <td>1_camera_chip_aparelho_bateria</td>\n",
       "      <td>[camera, chip, aparelho, bateria, memoria, cel...</td>\n",
       "      <td>[produto camera memoria, celular bateria camer...</td>\n",
       "    </tr>\n",
       "    <tr>\n",
       "      <th>2</th>\n",
       "      <td>2</td>\n",
       "      <td>123</td>\n",
       "      <td>2_celular_custo_prazo_telefone</td>\n",
       "      <td>[celular, custo, prazo, telefone, dia, smartph...</td>\n",
       "      <td>[celular, celular, celular]</td>\n",
       "    </tr>\n",
       "  </tbody>\n",
       "</table>\n",
       "</div>"
      ],
      "text/plain": [
       "   Topic  Count                            Name  \\\n",
       "0      0    513    0_produto_prazo_aparelho_dia   \n",
       "1      1    156  1_camera_chip_aparelho_bateria   \n",
       "2      2    123  2_celular_custo_prazo_telefone   \n",
       "\n",
       "                                      Representation  \\\n",
       "0  [produto, prazo, aparelho, dia, expectativa, q...   \n",
       "1  [camera, chip, aparelho, bateria, memoria, cel...   \n",
       "2  [celular, custo, prazo, telefone, dia, smartph...   \n",
       "\n",
       "                                 Representative_Docs  \n",
       "0  [produto produto, produto, produto compra praz...  \n",
       "1  [produto camera memoria, celular bateria camer...  \n",
       "2                        [celular, celular, celular]  "
      ]
     },
     "execution_count": 37,
     "metadata": {},
     "output_type": "execute_result"
    }
   ],
   "source": [
    "freq = topic_model.get_topic_info(); freq.head(10)"
   ]
  },
  {
   "cell_type": "code",
   "execution_count": 68,
   "metadata": {},
   "outputs": [
    {
     "data": {
      "text/plain": [
       "[('celular', 0.40099702934911313),\n",
       " ('custo', 0.09345898634531351),\n",
       " ('prazo', 0.07740530468915634),\n",
       " ('telefone', 0.07648121794539235),\n",
       " ('dia', 0.06899769874153004),\n",
       " ('smartphone', 0.06329128447405481),\n",
       " ('momento', 0.06123526915083254),\n",
       " ('loja', 0.06088758529227197),\n",
       " ('preco', 0.05782506374240447),\n",
       " ('defeito', 0.057710839429058795)]"
      ]
     },
     "execution_count": 68,
     "metadata": {},
     "output_type": "execute_result"
    }
   ],
   "source": [
    "topic_model.get_topic(2)"
   ]
  },
  {
   "cell_type": "code",
   "execution_count": 39,
   "metadata": {},
   "outputs": [
    {
     "data": {
      "application/vnd.plotly.v1+json": {
       "config": {
        "plotlyServerURL": "https://plot.ly"
       },
       "data": [
        {
         "marker": {
          "color": "#D55E00"
         },
         "orientation": "h",
         "type": "bar",
         "x": [
          0.07524845703400668,
          0.07549883180329948,
          0.09732392917974445,
          0.11590337895779691,
          0.22906021847265182
         ],
         "xaxis": "x",
         "y": [
          "expectativa  ",
          "dia  ",
          "aparelho  ",
          "prazo  ",
          "produto  "
         ],
         "yaxis": "y"
        },
        {
         "marker": {
          "color": "#0072B2"
         },
         "orientation": "h",
         "type": "bar",
         "x": [
          0.1200510085246206,
          0.12271501985596855,
          0.12342701983940378,
          0.14333711705538202,
          0.23443852696703896
         ],
         "xaxis": "x2",
         "y": [
          "memoria  ",
          "bateria  ",
          "aparelho  ",
          "chip  ",
          "camera  "
         ],
         "yaxis": "y2"
        },
        {
         "marker": {
          "color": "#CC79A7"
         },
         "orientation": "h",
         "type": "bar",
         "x": [
          0.06899769874153004,
          0.07648121794539235,
          0.07740530468915634,
          0.09345898634531351,
          0.40099702934911313
         ],
         "xaxis": "x3",
         "y": [
          "dia  ",
          "telefone  ",
          "prazo  ",
          "custo  ",
          "celular  "
         ],
         "yaxis": "y3"
        }
       ],
       "layout": {
        "annotations": [
         {
          "font": {
           "size": 16
          },
          "showarrow": false,
          "text": "Topic 0",
          "x": 0.0875,
          "xanchor": "center",
          "xref": "paper",
          "y": 1,
          "yanchor": "bottom",
          "yref": "paper"
         },
         {
          "font": {
           "size": 16
          },
          "showarrow": false,
          "text": "Topic 1",
          "x": 0.36250000000000004,
          "xanchor": "center",
          "xref": "paper",
          "y": 1,
          "yanchor": "bottom",
          "yref": "paper"
         },
         {
          "font": {
           "size": 16
          },
          "showarrow": false,
          "text": "Topic 2",
          "x": 0.6375000000000001,
          "xanchor": "center",
          "xref": "paper",
          "y": 1,
          "yanchor": "bottom",
          "yref": "paper"
         }
        ],
        "height": 325,
        "hoverlabel": {
         "bgcolor": "white",
         "font": {
          "family": "Rockwell",
          "size": 16
         }
        },
        "showlegend": false,
        "template": {
         "data": {
          "bar": [
           {
            "error_x": {
             "color": "#2a3f5f"
            },
            "error_y": {
             "color": "#2a3f5f"
            },
            "marker": {
             "line": {
              "color": "white",
              "width": 0.5
             },
             "pattern": {
              "fillmode": "overlay",
              "size": 10,
              "solidity": 0.2
             }
            },
            "type": "bar"
           }
          ],
          "barpolar": [
           {
            "marker": {
             "line": {
              "color": "white",
              "width": 0.5
             },
             "pattern": {
              "fillmode": "overlay",
              "size": 10,
              "solidity": 0.2
             }
            },
            "type": "barpolar"
           }
          ],
          "carpet": [
           {
            "aaxis": {
             "endlinecolor": "#2a3f5f",
             "gridcolor": "#C8D4E3",
             "linecolor": "#C8D4E3",
             "minorgridcolor": "#C8D4E3",
             "startlinecolor": "#2a3f5f"
            },
            "baxis": {
             "endlinecolor": "#2a3f5f",
             "gridcolor": "#C8D4E3",
             "linecolor": "#C8D4E3",
             "minorgridcolor": "#C8D4E3",
             "startlinecolor": "#2a3f5f"
            },
            "type": "carpet"
           }
          ],
          "choropleth": [
           {
            "colorbar": {
             "outlinewidth": 0,
             "ticks": ""
            },
            "type": "choropleth"
           }
          ],
          "contour": [
           {
            "colorbar": {
             "outlinewidth": 0,
             "ticks": ""
            },
            "colorscale": [
             [
              0,
              "#0d0887"
             ],
             [
              0.1111111111111111,
              "#46039f"
             ],
             [
              0.2222222222222222,
              "#7201a8"
             ],
             [
              0.3333333333333333,
              "#9c179e"
             ],
             [
              0.4444444444444444,
              "#bd3786"
             ],
             [
              0.5555555555555556,
              "#d8576b"
             ],
             [
              0.6666666666666666,
              "#ed7953"
             ],
             [
              0.7777777777777778,
              "#fb9f3a"
             ],
             [
              0.8888888888888888,
              "#fdca26"
             ],
             [
              1,
              "#f0f921"
             ]
            ],
            "type": "contour"
           }
          ],
          "contourcarpet": [
           {
            "colorbar": {
             "outlinewidth": 0,
             "ticks": ""
            },
            "type": "contourcarpet"
           }
          ],
          "heatmap": [
           {
            "colorbar": {
             "outlinewidth": 0,
             "ticks": ""
            },
            "colorscale": [
             [
              0,
              "#0d0887"
             ],
             [
              0.1111111111111111,
              "#46039f"
             ],
             [
              0.2222222222222222,
              "#7201a8"
             ],
             [
              0.3333333333333333,
              "#9c179e"
             ],
             [
              0.4444444444444444,
              "#bd3786"
             ],
             [
              0.5555555555555556,
              "#d8576b"
             ],
             [
              0.6666666666666666,
              "#ed7953"
             ],
             [
              0.7777777777777778,
              "#fb9f3a"
             ],
             [
              0.8888888888888888,
              "#fdca26"
             ],
             [
              1,
              "#f0f921"
             ]
            ],
            "type": "heatmap"
           }
          ],
          "heatmapgl": [
           {
            "colorbar": {
             "outlinewidth": 0,
             "ticks": ""
            },
            "colorscale": [
             [
              0,
              "#0d0887"
             ],
             [
              0.1111111111111111,
              "#46039f"
             ],
             [
              0.2222222222222222,
              "#7201a8"
             ],
             [
              0.3333333333333333,
              "#9c179e"
             ],
             [
              0.4444444444444444,
              "#bd3786"
             ],
             [
              0.5555555555555556,
              "#d8576b"
             ],
             [
              0.6666666666666666,
              "#ed7953"
             ],
             [
              0.7777777777777778,
              "#fb9f3a"
             ],
             [
              0.8888888888888888,
              "#fdca26"
             ],
             [
              1,
              "#f0f921"
             ]
            ],
            "type": "heatmapgl"
           }
          ],
          "histogram": [
           {
            "marker": {
             "pattern": {
              "fillmode": "overlay",
              "size": 10,
              "solidity": 0.2
             }
            },
            "type": "histogram"
           }
          ],
          "histogram2d": [
           {
            "colorbar": {
             "outlinewidth": 0,
             "ticks": ""
            },
            "colorscale": [
             [
              0,
              "#0d0887"
             ],
             [
              0.1111111111111111,
              "#46039f"
             ],
             [
              0.2222222222222222,
              "#7201a8"
             ],
             [
              0.3333333333333333,
              "#9c179e"
             ],
             [
              0.4444444444444444,
              "#bd3786"
             ],
             [
              0.5555555555555556,
              "#d8576b"
             ],
             [
              0.6666666666666666,
              "#ed7953"
             ],
             [
              0.7777777777777778,
              "#fb9f3a"
             ],
             [
              0.8888888888888888,
              "#fdca26"
             ],
             [
              1,
              "#f0f921"
             ]
            ],
            "type": "histogram2d"
           }
          ],
          "histogram2dcontour": [
           {
            "colorbar": {
             "outlinewidth": 0,
             "ticks": ""
            },
            "colorscale": [
             [
              0,
              "#0d0887"
             ],
             [
              0.1111111111111111,
              "#46039f"
             ],
             [
              0.2222222222222222,
              "#7201a8"
             ],
             [
              0.3333333333333333,
              "#9c179e"
             ],
             [
              0.4444444444444444,
              "#bd3786"
             ],
             [
              0.5555555555555556,
              "#d8576b"
             ],
             [
              0.6666666666666666,
              "#ed7953"
             ],
             [
              0.7777777777777778,
              "#fb9f3a"
             ],
             [
              0.8888888888888888,
              "#fdca26"
             ],
             [
              1,
              "#f0f921"
             ]
            ],
            "type": "histogram2dcontour"
           }
          ],
          "mesh3d": [
           {
            "colorbar": {
             "outlinewidth": 0,
             "ticks": ""
            },
            "type": "mesh3d"
           }
          ],
          "parcoords": [
           {
            "line": {
             "colorbar": {
              "outlinewidth": 0,
              "ticks": ""
             }
            },
            "type": "parcoords"
           }
          ],
          "pie": [
           {
            "automargin": true,
            "type": "pie"
           }
          ],
          "scatter": [
           {
            "fillpattern": {
             "fillmode": "overlay",
             "size": 10,
             "solidity": 0.2
            },
            "type": "scatter"
           }
          ],
          "scatter3d": [
           {
            "line": {
             "colorbar": {
              "outlinewidth": 0,
              "ticks": ""
             }
            },
            "marker": {
             "colorbar": {
              "outlinewidth": 0,
              "ticks": ""
             }
            },
            "type": "scatter3d"
           }
          ],
          "scattercarpet": [
           {
            "marker": {
             "colorbar": {
              "outlinewidth": 0,
              "ticks": ""
             }
            },
            "type": "scattercarpet"
           }
          ],
          "scattergeo": [
           {
            "marker": {
             "colorbar": {
              "outlinewidth": 0,
              "ticks": ""
             }
            },
            "type": "scattergeo"
           }
          ],
          "scattergl": [
           {
            "marker": {
             "colorbar": {
              "outlinewidth": 0,
              "ticks": ""
             }
            },
            "type": "scattergl"
           }
          ],
          "scattermapbox": [
           {
            "marker": {
             "colorbar": {
              "outlinewidth": 0,
              "ticks": ""
             }
            },
            "type": "scattermapbox"
           }
          ],
          "scatterpolar": [
           {
            "marker": {
             "colorbar": {
              "outlinewidth": 0,
              "ticks": ""
             }
            },
            "type": "scatterpolar"
           }
          ],
          "scatterpolargl": [
           {
            "marker": {
             "colorbar": {
              "outlinewidth": 0,
              "ticks": ""
             }
            },
            "type": "scatterpolargl"
           }
          ],
          "scatterternary": [
           {
            "marker": {
             "colorbar": {
              "outlinewidth": 0,
              "ticks": ""
             }
            },
            "type": "scatterternary"
           }
          ],
          "surface": [
           {
            "colorbar": {
             "outlinewidth": 0,
             "ticks": ""
            },
            "colorscale": [
             [
              0,
              "#0d0887"
             ],
             [
              0.1111111111111111,
              "#46039f"
             ],
             [
              0.2222222222222222,
              "#7201a8"
             ],
             [
              0.3333333333333333,
              "#9c179e"
             ],
             [
              0.4444444444444444,
              "#bd3786"
             ],
             [
              0.5555555555555556,
              "#d8576b"
             ],
             [
              0.6666666666666666,
              "#ed7953"
             ],
             [
              0.7777777777777778,
              "#fb9f3a"
             ],
             [
              0.8888888888888888,
              "#fdca26"
             ],
             [
              1,
              "#f0f921"
             ]
            ],
            "type": "surface"
           }
          ],
          "table": [
           {
            "cells": {
             "fill": {
              "color": "#EBF0F8"
             },
             "line": {
              "color": "white"
             }
            },
            "header": {
             "fill": {
              "color": "#C8D4E3"
             },
             "line": {
              "color": "white"
             }
            },
            "type": "table"
           }
          ]
         },
         "layout": {
          "annotationdefaults": {
           "arrowcolor": "#2a3f5f",
           "arrowhead": 0,
           "arrowwidth": 1
          },
          "autotypenumbers": "strict",
          "coloraxis": {
           "colorbar": {
            "outlinewidth": 0,
            "ticks": ""
           }
          },
          "colorscale": {
           "diverging": [
            [
             0,
             "#8e0152"
            ],
            [
             0.1,
             "#c51b7d"
            ],
            [
             0.2,
             "#de77ae"
            ],
            [
             0.3,
             "#f1b6da"
            ],
            [
             0.4,
             "#fde0ef"
            ],
            [
             0.5,
             "#f7f7f7"
            ],
            [
             0.6,
             "#e6f5d0"
            ],
            [
             0.7,
             "#b8e186"
            ],
            [
             0.8,
             "#7fbc41"
            ],
            [
             0.9,
             "#4d9221"
            ],
            [
             1,
             "#276419"
            ]
           ],
           "sequential": [
            [
             0,
             "#0d0887"
            ],
            [
             0.1111111111111111,
             "#46039f"
            ],
            [
             0.2222222222222222,
             "#7201a8"
            ],
            [
             0.3333333333333333,
             "#9c179e"
            ],
            [
             0.4444444444444444,
             "#bd3786"
            ],
            [
             0.5555555555555556,
             "#d8576b"
            ],
            [
             0.6666666666666666,
             "#ed7953"
            ],
            [
             0.7777777777777778,
             "#fb9f3a"
            ],
            [
             0.8888888888888888,
             "#fdca26"
            ],
            [
             1,
             "#f0f921"
            ]
           ],
           "sequentialminus": [
            [
             0,
             "#0d0887"
            ],
            [
             0.1111111111111111,
             "#46039f"
            ],
            [
             0.2222222222222222,
             "#7201a8"
            ],
            [
             0.3333333333333333,
             "#9c179e"
            ],
            [
             0.4444444444444444,
             "#bd3786"
            ],
            [
             0.5555555555555556,
             "#d8576b"
            ],
            [
             0.6666666666666666,
             "#ed7953"
            ],
            [
             0.7777777777777778,
             "#fb9f3a"
            ],
            [
             0.8888888888888888,
             "#fdca26"
            ],
            [
             1,
             "#f0f921"
            ]
           ]
          },
          "colorway": [
           "#636efa",
           "#EF553B",
           "#00cc96",
           "#ab63fa",
           "#FFA15A",
           "#19d3f3",
           "#FF6692",
           "#B6E880",
           "#FF97FF",
           "#FECB52"
          ],
          "font": {
           "color": "#2a3f5f"
          },
          "geo": {
           "bgcolor": "white",
           "lakecolor": "white",
           "landcolor": "white",
           "showlakes": true,
           "showland": true,
           "subunitcolor": "#C8D4E3"
          },
          "hoverlabel": {
           "align": "left"
          },
          "hovermode": "closest",
          "mapbox": {
           "style": "light"
          },
          "paper_bgcolor": "white",
          "plot_bgcolor": "white",
          "polar": {
           "angularaxis": {
            "gridcolor": "#EBF0F8",
            "linecolor": "#EBF0F8",
            "ticks": ""
           },
           "bgcolor": "white",
           "radialaxis": {
            "gridcolor": "#EBF0F8",
            "linecolor": "#EBF0F8",
            "ticks": ""
           }
          },
          "scene": {
           "xaxis": {
            "backgroundcolor": "white",
            "gridcolor": "#DFE8F3",
            "gridwidth": 2,
            "linecolor": "#EBF0F8",
            "showbackground": true,
            "ticks": "",
            "zerolinecolor": "#EBF0F8"
           },
           "yaxis": {
            "backgroundcolor": "white",
            "gridcolor": "#DFE8F3",
            "gridwidth": 2,
            "linecolor": "#EBF0F8",
            "showbackground": true,
            "ticks": "",
            "zerolinecolor": "#EBF0F8"
           },
           "zaxis": {
            "backgroundcolor": "white",
            "gridcolor": "#DFE8F3",
            "gridwidth": 2,
            "linecolor": "#EBF0F8",
            "showbackground": true,
            "ticks": "",
            "zerolinecolor": "#EBF0F8"
           }
          },
          "shapedefaults": {
           "line": {
            "color": "#2a3f5f"
           }
          },
          "ternary": {
           "aaxis": {
            "gridcolor": "#DFE8F3",
            "linecolor": "#A2B1C6",
            "ticks": ""
           },
           "baxis": {
            "gridcolor": "#DFE8F3",
            "linecolor": "#A2B1C6",
            "ticks": ""
           },
           "bgcolor": "white",
           "caxis": {
            "gridcolor": "#DFE8F3",
            "linecolor": "#A2B1C6",
            "ticks": ""
           }
          },
          "title": {
           "x": 0.05
          },
          "xaxis": {
           "automargin": true,
           "gridcolor": "#EBF0F8",
           "linecolor": "#EBF0F8",
           "ticks": "",
           "title": {
            "standoff": 15
           },
           "zerolinecolor": "#EBF0F8",
           "zerolinewidth": 2
          },
          "yaxis": {
           "automargin": true,
           "gridcolor": "#EBF0F8",
           "linecolor": "#EBF0F8",
           "ticks": "",
           "title": {
            "standoff": 15
           },
           "zerolinecolor": "#EBF0F8",
           "zerolinewidth": 2
          }
         }
        },
        "title": {
         "font": {
          "color": "Black",
          "size": 22
         },
         "text": "Topic Word Scores",
         "x": 0.5,
         "xanchor": "center",
         "yanchor": "top"
        },
        "width": 1000,
        "xaxis": {
         "anchor": "y",
         "domain": [
          0,
          0.175
         ],
         "showgrid": true
        },
        "xaxis2": {
         "anchor": "y2",
         "domain": [
          0.275,
          0.45
         ],
         "showgrid": true
        },
        "xaxis3": {
         "anchor": "y3",
         "domain": [
          0.55,
          0.7250000000000001
         ],
         "showgrid": true
        },
        "xaxis4": {
         "anchor": "y4",
         "domain": [
          0.825,
          1
         ],
         "showgrid": true
        },
        "yaxis": {
         "anchor": "x",
         "domain": [
          0,
          1
         ],
         "showgrid": true
        },
        "yaxis2": {
         "anchor": "x2",
         "domain": [
          0,
          1
         ],
         "showgrid": true
        },
        "yaxis3": {
         "anchor": "x3",
         "domain": [
          0,
          1
         ],
         "showgrid": true
        },
        "yaxis4": {
         "anchor": "x4",
         "domain": [
          0,
          1
         ],
         "showgrid": true
        }
       }
      }
     },
     "metadata": {},
     "output_type": "display_data"
    }
   ],
   "source": [
    "topic_model.visualize_barchart(top_n_topics=10)"
   ]
  },
  {
   "cell_type": "code",
   "execution_count": 40,
   "metadata": {},
   "outputs": [
    {
     "data": {
      "text/html": [
       "<div>\n",
       "<style scoped>\n",
       "    .dataframe tbody tr th:only-of-type {\n",
       "        vertical-align: middle;\n",
       "    }\n",
       "\n",
       "    .dataframe tbody tr th {\n",
       "        vertical-align: top;\n",
       "    }\n",
       "\n",
       "    .dataframe thead th {\n",
       "        text-align: right;\n",
       "    }\n",
       "</style>\n",
       "<table border=\"1\" class=\"dataframe\">\n",
       "  <thead>\n",
       "    <tr style=\"text-align: right;\">\n",
       "      <th></th>\n",
       "      <th>Document</th>\n",
       "      <th>Topic</th>\n",
       "      <th>Name</th>\n",
       "      <th>Representation</th>\n",
       "      <th>Representative_Docs</th>\n",
       "      <th>Top_n_words</th>\n",
       "      <th>Probability</th>\n",
       "      <th>Representative_document</th>\n",
       "    </tr>\n",
       "  </thead>\n",
       "  <tbody>\n",
       "    <tr>\n",
       "      <th>0</th>\n",
       "      <td>produto qualidade camera desenvolvimento rapidez</td>\n",
       "      <td>1</td>\n",
       "      <td>1_camera_chip_aparelho_bateria</td>\n",
       "      <td>[camera, chip, aparelho, bateria, memoria, cel...</td>\n",
       "      <td>[produto camera memoria, celular bateria camer...</td>\n",
       "      <td>camera - chip - aparelho - bateria - memoria -...</td>\n",
       "      <td>1.000000</td>\n",
       "      <td>False</td>\n",
       "    </tr>\n",
       "    <tr>\n",
       "      <th>1</th>\n",
       "      <td>produto funcao</td>\n",
       "      <td>0</td>\n",
       "      <td>0_produto_prazo_aparelho_dia</td>\n",
       "      <td>[produto, prazo, aparelho, dia, expectativa, q...</td>\n",
       "      <td>[produto produto, produto, produto compra praz...</td>\n",
       "      <td>produto - prazo - aparelho - dia - expectativa...</td>\n",
       "      <td>0.371042</td>\n",
       "      <td>False</td>\n",
       "    </tr>\n",
       "    <tr>\n",
       "      <th>2</th>\n",
       "      <td>tempo prazo celular bateria dia</td>\n",
       "      <td>1</td>\n",
       "      <td>1_camera_chip_aparelho_bateria</td>\n",
       "      <td>[camera, chip, aparelho, bateria, memoria, cel...</td>\n",
       "      <td>[produto camera memoria, celular bateria camer...</td>\n",
       "      <td>camera - chip - aparelho - bateria - memoria -...</td>\n",
       "      <td>0.677899</td>\n",
       "      <td>False</td>\n",
       "    </tr>\n",
       "    <tr>\n",
       "      <th>3</th>\n",
       "      <td>produto design manusear</td>\n",
       "      <td>0</td>\n",
       "      <td>0_produto_prazo_aparelho_dia</td>\n",
       "      <td>[produto, prazo, aparelho, dia, expectativa, q...</td>\n",
       "      <td>[produto produto, produto, produto compra praz...</td>\n",
       "      <td>produto - prazo - aparelho - dia - expectativa...</td>\n",
       "      <td>0.594107</td>\n",
       "      <td>False</td>\n",
       "    </tr>\n",
       "    <tr>\n",
       "      <th>4</th>\n",
       "      <td>tarde aparelho problema camera verdade camera ...</td>\n",
       "      <td>1</td>\n",
       "      <td>1_camera_chip_aparelho_bateria</td>\n",
       "      <td>[camera, chip, aparelho, bateria, memoria, cel...</td>\n",
       "      <td>[produto camera memoria, celular bateria camer...</td>\n",
       "      <td>camera - chip - aparelho - bateria - memoria -...</td>\n",
       "      <td>1.000000</td>\n",
       "      <td>False</td>\n",
       "    </tr>\n",
       "    <tr>\n",
       "      <th>...</th>\n",
       "      <td>...</td>\n",
       "      <td>...</td>\n",
       "      <td>...</td>\n",
       "      <td>...</td>\n",
       "      <td>...</td>\n",
       "      <td>...</td>\n",
       "      <td>...</td>\n",
       "      <td>...</td>\n",
       "    </tr>\n",
       "    <tr>\n",
       "      <th>787</th>\n",
       "      <td>qualidade acabamento tela servico balsa bicicl...</td>\n",
       "      <td>0</td>\n",
       "      <td>0_produto_prazo_aparelho_dia</td>\n",
       "      <td>[produto, prazo, aparelho, dia, expectativa, q...</td>\n",
       "      <td>[produto produto, produto, produto compra praz...</td>\n",
       "      <td>produto - prazo - aparelho - dia - expectativa...</td>\n",
       "      <td>0.487728</td>\n",
       "      <td>False</td>\n",
       "    </tr>\n",
       "    <tr>\n",
       "      <th>788</th>\n",
       "      <td>celular nao avaliacao</td>\n",
       "      <td>2</td>\n",
       "      <td>2_celular_custo_prazo_telefone</td>\n",
       "      <td>[celular, custo, prazo, telefone, dia, smartph...</td>\n",
       "      <td>[celular, celular, celular]</td>\n",
       "      <td>celular - custo - prazo - telefone - dia - sma...</td>\n",
       "      <td>1.000000</td>\n",
       "      <td>False</td>\n",
       "    </tr>\n",
       "    <tr>\n",
       "      <th>789</th>\n",
       "      <td>compra dia produto atendimento informacao loja...</td>\n",
       "      <td>0</td>\n",
       "      <td>0_produto_prazo_aparelho_dia</td>\n",
       "      <td>[produto, prazo, aparelho, dia, expectativa, q...</td>\n",
       "      <td>[produto produto, produto, produto compra praz...</td>\n",
       "      <td>produto - prazo - aparelho - dia - expectativa...</td>\n",
       "      <td>0.553829</td>\n",
       "      <td>False</td>\n",
       "    </tr>\n",
       "    <tr>\n",
       "      <th>790</th>\n",
       "      <td>produto site</td>\n",
       "      <td>0</td>\n",
       "      <td>0_produto_prazo_aparelho_dia</td>\n",
       "      <td>[produto, prazo, aparelho, dia, expectativa, q...</td>\n",
       "      <td>[produto produto, produto, produto compra praz...</td>\n",
       "      <td>produto - prazo - aparelho - dia - expectativa...</td>\n",
       "      <td>0.552134</td>\n",
       "      <td>False</td>\n",
       "    </tr>\n",
       "    <tr>\n",
       "      <th>791</th>\n",
       "      <td>aparelho pena espaco</td>\n",
       "      <td>0</td>\n",
       "      <td>0_produto_prazo_aparelho_dia</td>\n",
       "      <td>[produto, prazo, aparelho, dia, expectativa, q...</td>\n",
       "      <td>[produto produto, produto, produto compra praz...</td>\n",
       "      <td>produto - prazo - aparelho - dia - expectativa...</td>\n",
       "      <td>0.571927</td>\n",
       "      <td>False</td>\n",
       "    </tr>\n",
       "  </tbody>\n",
       "</table>\n",
       "<p>792 rows × 8 columns</p>\n",
       "</div>"
      ],
      "text/plain": [
       "                                              Document  Topic  \\\n",
       "0     produto qualidade camera desenvolvimento rapidez      1   \n",
       "1                                       produto funcao      0   \n",
       "2                      tempo prazo celular bateria dia      1   \n",
       "3                              produto design manusear      0   \n",
       "4    tarde aparelho problema camera verdade camera ...      1   \n",
       "..                                                 ...    ...   \n",
       "787  qualidade acabamento tela servico balsa bicicl...      0   \n",
       "788                              celular nao avaliacao      2   \n",
       "789  compra dia produto atendimento informacao loja...      0   \n",
       "790                                       produto site      0   \n",
       "791                               aparelho pena espaco      0   \n",
       "\n",
       "                               Name  \\\n",
       "0    1_camera_chip_aparelho_bateria   \n",
       "1      0_produto_prazo_aparelho_dia   \n",
       "2    1_camera_chip_aparelho_bateria   \n",
       "3      0_produto_prazo_aparelho_dia   \n",
       "4    1_camera_chip_aparelho_bateria   \n",
       "..                              ...   \n",
       "787    0_produto_prazo_aparelho_dia   \n",
       "788  2_celular_custo_prazo_telefone   \n",
       "789    0_produto_prazo_aparelho_dia   \n",
       "790    0_produto_prazo_aparelho_dia   \n",
       "791    0_produto_prazo_aparelho_dia   \n",
       "\n",
       "                                        Representation  \\\n",
       "0    [camera, chip, aparelho, bateria, memoria, cel...   \n",
       "1    [produto, prazo, aparelho, dia, expectativa, q...   \n",
       "2    [camera, chip, aparelho, bateria, memoria, cel...   \n",
       "3    [produto, prazo, aparelho, dia, expectativa, q...   \n",
       "4    [camera, chip, aparelho, bateria, memoria, cel...   \n",
       "..                                                 ...   \n",
       "787  [produto, prazo, aparelho, dia, expectativa, q...   \n",
       "788  [celular, custo, prazo, telefone, dia, smartph...   \n",
       "789  [produto, prazo, aparelho, dia, expectativa, q...   \n",
       "790  [produto, prazo, aparelho, dia, expectativa, q...   \n",
       "791  [produto, prazo, aparelho, dia, expectativa, q...   \n",
       "\n",
       "                                   Representative_Docs  \\\n",
       "0    [produto camera memoria, celular bateria camer...   \n",
       "1    [produto produto, produto, produto compra praz...   \n",
       "2    [produto camera memoria, celular bateria camer...   \n",
       "3    [produto produto, produto, produto compra praz...   \n",
       "4    [produto camera memoria, celular bateria camer...   \n",
       "..                                                 ...   \n",
       "787  [produto produto, produto, produto compra praz...   \n",
       "788                        [celular, celular, celular]   \n",
       "789  [produto produto, produto, produto compra praz...   \n",
       "790  [produto produto, produto, produto compra praz...   \n",
       "791  [produto produto, produto, produto compra praz...   \n",
       "\n",
       "                                           Top_n_words  Probability  \\\n",
       "0    camera - chip - aparelho - bateria - memoria -...     1.000000   \n",
       "1    produto - prazo - aparelho - dia - expectativa...     0.371042   \n",
       "2    camera - chip - aparelho - bateria - memoria -...     0.677899   \n",
       "3    produto - prazo - aparelho - dia - expectativa...     0.594107   \n",
       "4    camera - chip - aparelho - bateria - memoria -...     1.000000   \n",
       "..                                                 ...          ...   \n",
       "787  produto - prazo - aparelho - dia - expectativa...     0.487728   \n",
       "788  celular - custo - prazo - telefone - dia - sma...     1.000000   \n",
       "789  produto - prazo - aparelho - dia - expectativa...     0.553829   \n",
       "790  produto - prazo - aparelho - dia - expectativa...     0.552134   \n",
       "791  produto - prazo - aparelho - dia - expectativa...     0.571927   \n",
       "\n",
       "     Representative_document  \n",
       "0                      False  \n",
       "1                      False  \n",
       "2                      False  \n",
       "3                      False  \n",
       "4                      False  \n",
       "..                       ...  \n",
       "787                    False  \n",
       "788                    False  \n",
       "789                    False  \n",
       "790                    False  \n",
       "791                    False  \n",
       "\n",
       "[792 rows x 8 columns]"
      ]
     },
     "execution_count": 40,
     "metadata": {},
     "output_type": "execute_result"
    }
   ],
   "source": [
    "df_topics = topic_model.get_document_info(doc_comments)\n",
    "df_topics"
   ]
  },
  {
   "cell_type": "code",
   "execution_count": 41,
   "metadata": {},
   "outputs": [
    {
     "data": {
      "text/html": [
       "<div>\n",
       "<style scoped>\n",
       "    .dataframe tbody tr th:only-of-type {\n",
       "        vertical-align: middle;\n",
       "    }\n",
       "\n",
       "    .dataframe tbody tr th {\n",
       "        vertical-align: top;\n",
       "    }\n",
       "\n",
       "    .dataframe thead th {\n",
       "        text-align: right;\n",
       "    }\n",
       "</style>\n",
       "<table border=\"1\" class=\"dataframe\">\n",
       "  <thead>\n",
       "    <tr style=\"text-align: right;\">\n",
       "      <th></th>\n",
       "      <th>product_name</th>\n",
       "      <th>review_title</th>\n",
       "      <th>recommend_to_a_friend</th>\n",
       "      <th>comments</th>\n",
       "      <th>reviewer_birth_year</th>\n",
       "      <th>reviewer_gender</th>\n",
       "      <th>reviewer_state</th>\n",
       "      <th>comments_entity</th>\n",
       "    </tr>\n",
       "  </thead>\n",
       "  <tbody>\n",
       "    <tr>\n",
       "      <th>0</th>\n",
       "      <td>Smartphone Motorola Moto G 5S Dual Chip Androi...</td>\n",
       "      <td>Gostei bastante do produto</td>\n",
       "      <td>Yes</td>\n",
       "      <td>Produto excelente qualidade boa câmera desenvo...</td>\n",
       "      <td>1987.0</td>\n",
       "      <td>M</td>\n",
       "      <td>GO</td>\n",
       "      <td>produto excelente qualidade boa camera desenvo...</td>\n",
       "    </tr>\n",
       "    <tr>\n",
       "      <th>1</th>\n",
       "      <td>Smartphone Motorola Moto G 5S Dual Chip Androi...</td>\n",
       "      <td>Muito show</td>\n",
       "      <td>Yes</td>\n",
       "      <td>Produto excelente, ótimas funções, rápido, vis...</td>\n",
       "      <td>1989.0</td>\n",
       "      <td>M</td>\n",
       "      <td>CE</td>\n",
       "      <td>produto excelente, otimas funcoes, rapido, vis...</td>\n",
       "    </tr>\n",
       "    <tr>\n",
       "      <th>2</th>\n",
       "      <td>Smartphone Motorola Moto G 5S Dual Chip Androi...</td>\n",
       "      <td>Muito bom, câmera ótima</td>\n",
       "      <td>Yes</td>\n",
       "      <td>Nada mal, tempo de entrega antes do prazo. Sob...</td>\n",
       "      <td>1995.0</td>\n",
       "      <td>M</td>\n",
       "      <td>SP</td>\n",
       "      <td>nada mal, tempo de entrega antes do prazo. sob...</td>\n",
       "    </tr>\n",
       "    <tr>\n",
       "      <th>3</th>\n",
       "      <td>Smartphone Motorola Moto G 5S Dual Chip Androi...</td>\n",
       "      <td>Excelente!!!</td>\n",
       "      <td>Yes</td>\n",
       "      <td>Excelente produto, belo design, fácil de manus...</td>\n",
       "      <td>1966.0</td>\n",
       "      <td>F</td>\n",
       "      <td>PR</td>\n",
       "      <td>excelente produto, belo design, facil de manus...</td>\n",
       "    </tr>\n",
       "    <tr>\n",
       "      <th>4</th>\n",
       "      <td>Smartphone Motorola Moto G 5S Dual Chip Androi...</td>\n",
       "      <td>Problema com o aparelho</td>\n",
       "      <td>No</td>\n",
       "      <td>Boa tarde. Estou insatisfeita com o aparelho, ...</td>\n",
       "      <td>1995.0</td>\n",
       "      <td>F</td>\n",
       "      <td>SP</td>\n",
       "      <td>boa tarde. estou insatisfeita com o aparelho, ...</td>\n",
       "    </tr>\n",
       "    <tr>\n",
       "      <th>...</th>\n",
       "      <td>...</td>\n",
       "      <td>...</td>\n",
       "      <td>...</td>\n",
       "      <td>...</td>\n",
       "      <td>...</td>\n",
       "      <td>...</td>\n",
       "      <td>...</td>\n",
       "      <td>...</td>\n",
       "    </tr>\n",
       "    <tr>\n",
       "      <th>787</th>\n",
       "      <td>Smartphone Motorola Moto G 5S Dual Chip Androi...</td>\n",
       "      <td>Otimo produto, pessimo vendedor.</td>\n",
       "      <td>Yes</td>\n",
       "      <td>Se você quer um smartphone de ótima qualidade,...</td>\n",
       "      <td>1997.0</td>\n",
       "      <td>M</td>\n",
       "      <td>SP</td>\n",
       "      <td>se voce quer um smartphone de otima qualidade,...</td>\n",
       "    </tr>\n",
       "    <tr>\n",
       "      <th>788</th>\n",
       "      <td>Smartphone Motorola Moto G 5S Dual Chip Androi...</td>\n",
       "      <td>so avaliaçao da entrega porque o celular ainda...</td>\n",
       "      <td>No</td>\n",
       "      <td>avaliar como se o celular ainda nao chegou ,av...</td>\n",
       "      <td>1975.0</td>\n",
       "      <td>F</td>\n",
       "      <td>SP</td>\n",
       "      <td>avaliar como se o celular ainda nao chegou ,av...</td>\n",
       "    </tr>\n",
       "    <tr>\n",
       "      <th>789</th>\n",
       "      <td>Smartphone Motorola Moto G 5S Dual Chip Androi...</td>\n",
       "      <td>Não recebi</td>\n",
       "      <td>No</td>\n",
       "      <td>Infelizmente avalio péssimo a compra! Já faz 3...</td>\n",
       "      <td>1987.0</td>\n",
       "      <td>F</td>\n",
       "      <td>SP</td>\n",
       "      <td>infelizmente avalio pessimo a compra! ja faz 3...</td>\n",
       "    </tr>\n",
       "    <tr>\n",
       "      <th>790</th>\n",
       "      <td>Smartphone Motorola Moto G 5S Dual Chip Androi...</td>\n",
       "      <td>Não tem como avaliar</td>\n",
       "      <td>No</td>\n",
       "      <td>Ainda não recebí o produto. E não consigo entr...</td>\n",
       "      <td>1980.0</td>\n",
       "      <td>M</td>\n",
       "      <td>MG</td>\n",
       "      <td>ainda nao recebi o produto. e nao consigo entr...</td>\n",
       "    </tr>\n",
       "    <tr>\n",
       "      <th>791</th>\n",
       "      <td>Smartphone Motorola Moto G 5S Dual Chip Androi...</td>\n",
       "      <td>Comprem!</td>\n",
       "      <td>Yes</td>\n",
       "      <td>Excelente aparelho. Vale muito a pena comprar....</td>\n",
       "      <td>1970.0</td>\n",
       "      <td>M</td>\n",
       "      <td>RJ</td>\n",
       "      <td>excelente aparelho. vale muito a pena comprar....</td>\n",
       "    </tr>\n",
       "  </tbody>\n",
       "</table>\n",
       "<p>792 rows × 8 columns</p>\n",
       "</div>"
      ],
      "text/plain": [
       "                                          product_name  \\\n",
       "0    Smartphone Motorola Moto G 5S Dual Chip Androi...   \n",
       "1    Smartphone Motorola Moto G 5S Dual Chip Androi...   \n",
       "2    Smartphone Motorola Moto G 5S Dual Chip Androi...   \n",
       "3    Smartphone Motorola Moto G 5S Dual Chip Androi...   \n",
       "4    Smartphone Motorola Moto G 5S Dual Chip Androi...   \n",
       "..                                                 ...   \n",
       "787  Smartphone Motorola Moto G 5S Dual Chip Androi...   \n",
       "788  Smartphone Motorola Moto G 5S Dual Chip Androi...   \n",
       "789  Smartphone Motorola Moto G 5S Dual Chip Androi...   \n",
       "790  Smartphone Motorola Moto G 5S Dual Chip Androi...   \n",
       "791  Smartphone Motorola Moto G 5S Dual Chip Androi...   \n",
       "\n",
       "                                          review_title recommend_to_a_friend  \\\n",
       "0                           Gostei bastante do produto                   Yes   \n",
       "1                                           Muito show                   Yes   \n",
       "2                              Muito bom, câmera ótima                   Yes   \n",
       "3                                         Excelente!!!                   Yes   \n",
       "4                              Problema com o aparelho                    No   \n",
       "..                                                 ...                   ...   \n",
       "787                   Otimo produto, pessimo vendedor.                   Yes   \n",
       "788  so avaliaçao da entrega porque o celular ainda...                    No   \n",
       "789                                         Não recebi                    No   \n",
       "790                               Não tem como avaliar                    No   \n",
       "791                                           Comprem!                   Yes   \n",
       "\n",
       "                                              comments  reviewer_birth_year  \\\n",
       "0    Produto excelente qualidade boa câmera desenvo...               1987.0   \n",
       "1    Produto excelente, ótimas funções, rápido, vis...               1989.0   \n",
       "2    Nada mal, tempo de entrega antes do prazo. Sob...               1995.0   \n",
       "3    Excelente produto, belo design, fácil de manus...               1966.0   \n",
       "4    Boa tarde. Estou insatisfeita com o aparelho, ...               1995.0   \n",
       "..                                                 ...                  ...   \n",
       "787  Se você quer um smartphone de ótima qualidade,...               1997.0   \n",
       "788  avaliar como se o celular ainda nao chegou ,av...               1975.0   \n",
       "789  Infelizmente avalio péssimo a compra! Já faz 3...               1987.0   \n",
       "790  Ainda não recebí o produto. E não consigo entr...               1980.0   \n",
       "791  Excelente aparelho. Vale muito a pena comprar....               1970.0   \n",
       "\n",
       "    reviewer_gender reviewer_state  \\\n",
       "0                 M             GO   \n",
       "1                 M             CE   \n",
       "2                 M             SP   \n",
       "3                 F             PR   \n",
       "4                 F             SP   \n",
       "..              ...            ...   \n",
       "787               M             SP   \n",
       "788               F             SP   \n",
       "789               F             SP   \n",
       "790               M             MG   \n",
       "791               M             RJ   \n",
       "\n",
       "                                       comments_entity  \n",
       "0    produto excelente qualidade boa camera desenvo...  \n",
       "1    produto excelente, otimas funcoes, rapido, vis...  \n",
       "2    nada mal, tempo de entrega antes do prazo. sob...  \n",
       "3    excelente produto, belo design, facil de manus...  \n",
       "4    boa tarde. estou insatisfeita com o aparelho, ...  \n",
       "..                                                 ...  \n",
       "787  se voce quer um smartphone de otima qualidade,...  \n",
       "788  avaliar como se o celular ainda nao chegou ,av...  \n",
       "789  infelizmente avalio pessimo a compra! ja faz 3...  \n",
       "790  ainda nao recebi o produto. e nao consigo entr...  \n",
       "791  excelente aparelho. vale muito a pena comprar....  \n",
       "\n",
       "[792 rows x 8 columns]"
      ]
     },
     "execution_count": 41,
     "metadata": {},
     "output_type": "execute_result"
    }
   ],
   "source": [
    "df_info = df.copy()\n",
    "df_info = df_info.drop(columns=['comments_topic'], axis=1, inplace=False)\n",
    "df_info"
   ]
  },
  {
   "cell_type": "code",
   "execution_count": 42,
   "metadata": {},
   "outputs": [],
   "source": [
    "df_info[\"topic\"] = df_topics[\"Topic\"]"
   ]
  },
  {
   "cell_type": "code",
   "execution_count": 43,
   "metadata": {},
   "outputs": [
    {
     "data": {
      "text/html": [
       "<div>\n",
       "<style scoped>\n",
       "    .dataframe tbody tr th:only-of-type {\n",
       "        vertical-align: middle;\n",
       "    }\n",
       "\n",
       "    .dataframe tbody tr th {\n",
       "        vertical-align: top;\n",
       "    }\n",
       "\n",
       "    .dataframe thead th {\n",
       "        text-align: right;\n",
       "    }\n",
       "</style>\n",
       "<table border=\"1\" class=\"dataframe\">\n",
       "  <thead>\n",
       "    <tr style=\"text-align: right;\">\n",
       "      <th></th>\n",
       "      <th>product_name</th>\n",
       "      <th>review_title</th>\n",
       "      <th>recommend_to_a_friend</th>\n",
       "      <th>comments</th>\n",
       "      <th>reviewer_birth_year</th>\n",
       "      <th>reviewer_gender</th>\n",
       "      <th>reviewer_state</th>\n",
       "      <th>comments_entity</th>\n",
       "      <th>topic</th>\n",
       "    </tr>\n",
       "  </thead>\n",
       "  <tbody>\n",
       "    <tr>\n",
       "      <th>0</th>\n",
       "      <td>Smartphone Motorola Moto G 5S Dual Chip Androi...</td>\n",
       "      <td>Gostei bastante do produto</td>\n",
       "      <td>Yes</td>\n",
       "      <td>Produto excelente qualidade boa câmera desenvo...</td>\n",
       "      <td>1987.0</td>\n",
       "      <td>M</td>\n",
       "      <td>GO</td>\n",
       "      <td>produto excelente qualidade boa camera desenvo...</td>\n",
       "      <td>1</td>\n",
       "    </tr>\n",
       "    <tr>\n",
       "      <th>1</th>\n",
       "      <td>Smartphone Motorola Moto G 5S Dual Chip Androi...</td>\n",
       "      <td>Muito show</td>\n",
       "      <td>Yes</td>\n",
       "      <td>Produto excelente, ótimas funções, rápido, vis...</td>\n",
       "      <td>1989.0</td>\n",
       "      <td>M</td>\n",
       "      <td>CE</td>\n",
       "      <td>produto excelente, otimas funcoes, rapido, vis...</td>\n",
       "      <td>0</td>\n",
       "    </tr>\n",
       "    <tr>\n",
       "      <th>2</th>\n",
       "      <td>Smartphone Motorola Moto G 5S Dual Chip Androi...</td>\n",
       "      <td>Muito bom, câmera ótima</td>\n",
       "      <td>Yes</td>\n",
       "      <td>Nada mal, tempo de entrega antes do prazo. Sob...</td>\n",
       "      <td>1995.0</td>\n",
       "      <td>M</td>\n",
       "      <td>SP</td>\n",
       "      <td>nada mal, tempo de entrega antes do prazo. sob...</td>\n",
       "      <td>1</td>\n",
       "    </tr>\n",
       "    <tr>\n",
       "      <th>3</th>\n",
       "      <td>Smartphone Motorola Moto G 5S Dual Chip Androi...</td>\n",
       "      <td>Excelente!!!</td>\n",
       "      <td>Yes</td>\n",
       "      <td>Excelente produto, belo design, fácil de manus...</td>\n",
       "      <td>1966.0</td>\n",
       "      <td>F</td>\n",
       "      <td>PR</td>\n",
       "      <td>excelente produto, belo design, facil de manus...</td>\n",
       "      <td>0</td>\n",
       "    </tr>\n",
       "    <tr>\n",
       "      <th>4</th>\n",
       "      <td>Smartphone Motorola Moto G 5S Dual Chip Androi...</td>\n",
       "      <td>Problema com o aparelho</td>\n",
       "      <td>No</td>\n",
       "      <td>Boa tarde. Estou insatisfeita com o aparelho, ...</td>\n",
       "      <td>1995.0</td>\n",
       "      <td>F</td>\n",
       "      <td>SP</td>\n",
       "      <td>boa tarde. estou insatisfeita com o aparelho, ...</td>\n",
       "      <td>1</td>\n",
       "    </tr>\n",
       "    <tr>\n",
       "      <th>...</th>\n",
       "      <td>...</td>\n",
       "      <td>...</td>\n",
       "      <td>...</td>\n",
       "      <td>...</td>\n",
       "      <td>...</td>\n",
       "      <td>...</td>\n",
       "      <td>...</td>\n",
       "      <td>...</td>\n",
       "      <td>...</td>\n",
       "    </tr>\n",
       "    <tr>\n",
       "      <th>787</th>\n",
       "      <td>Smartphone Motorola Moto G 5S Dual Chip Androi...</td>\n",
       "      <td>Otimo produto, pessimo vendedor.</td>\n",
       "      <td>Yes</td>\n",
       "      <td>Se você quer um smartphone de ótima qualidade,...</td>\n",
       "      <td>1997.0</td>\n",
       "      <td>M</td>\n",
       "      <td>SP</td>\n",
       "      <td>se voce quer um smartphone de otima qualidade,...</td>\n",
       "      <td>0</td>\n",
       "    </tr>\n",
       "    <tr>\n",
       "      <th>788</th>\n",
       "      <td>Smartphone Motorola Moto G 5S Dual Chip Androi...</td>\n",
       "      <td>so avaliaçao da entrega porque o celular ainda...</td>\n",
       "      <td>No</td>\n",
       "      <td>avaliar como se o celular ainda nao chegou ,av...</td>\n",
       "      <td>1975.0</td>\n",
       "      <td>F</td>\n",
       "      <td>SP</td>\n",
       "      <td>avaliar como se o celular ainda nao chegou ,av...</td>\n",
       "      <td>2</td>\n",
       "    </tr>\n",
       "    <tr>\n",
       "      <th>789</th>\n",
       "      <td>Smartphone Motorola Moto G 5S Dual Chip Androi...</td>\n",
       "      <td>Não recebi</td>\n",
       "      <td>No</td>\n",
       "      <td>Infelizmente avalio péssimo a compra! Já faz 3...</td>\n",
       "      <td>1987.0</td>\n",
       "      <td>F</td>\n",
       "      <td>SP</td>\n",
       "      <td>infelizmente avalio pessimo a compra! ja faz 3...</td>\n",
       "      <td>0</td>\n",
       "    </tr>\n",
       "    <tr>\n",
       "      <th>790</th>\n",
       "      <td>Smartphone Motorola Moto G 5S Dual Chip Androi...</td>\n",
       "      <td>Não tem como avaliar</td>\n",
       "      <td>No</td>\n",
       "      <td>Ainda não recebí o produto. E não consigo entr...</td>\n",
       "      <td>1980.0</td>\n",
       "      <td>M</td>\n",
       "      <td>MG</td>\n",
       "      <td>ainda nao recebi o produto. e nao consigo entr...</td>\n",
       "      <td>0</td>\n",
       "    </tr>\n",
       "    <tr>\n",
       "      <th>791</th>\n",
       "      <td>Smartphone Motorola Moto G 5S Dual Chip Androi...</td>\n",
       "      <td>Comprem!</td>\n",
       "      <td>Yes</td>\n",
       "      <td>Excelente aparelho. Vale muito a pena comprar....</td>\n",
       "      <td>1970.0</td>\n",
       "      <td>M</td>\n",
       "      <td>RJ</td>\n",
       "      <td>excelente aparelho. vale muito a pena comprar....</td>\n",
       "      <td>0</td>\n",
       "    </tr>\n",
       "  </tbody>\n",
       "</table>\n",
       "<p>792 rows × 9 columns</p>\n",
       "</div>"
      ],
      "text/plain": [
       "                                          product_name  \\\n",
       "0    Smartphone Motorola Moto G 5S Dual Chip Androi...   \n",
       "1    Smartphone Motorola Moto G 5S Dual Chip Androi...   \n",
       "2    Smartphone Motorola Moto G 5S Dual Chip Androi...   \n",
       "3    Smartphone Motorola Moto G 5S Dual Chip Androi...   \n",
       "4    Smartphone Motorola Moto G 5S Dual Chip Androi...   \n",
       "..                                                 ...   \n",
       "787  Smartphone Motorola Moto G 5S Dual Chip Androi...   \n",
       "788  Smartphone Motorola Moto G 5S Dual Chip Androi...   \n",
       "789  Smartphone Motorola Moto G 5S Dual Chip Androi...   \n",
       "790  Smartphone Motorola Moto G 5S Dual Chip Androi...   \n",
       "791  Smartphone Motorola Moto G 5S Dual Chip Androi...   \n",
       "\n",
       "                                          review_title recommend_to_a_friend  \\\n",
       "0                           Gostei bastante do produto                   Yes   \n",
       "1                                           Muito show                   Yes   \n",
       "2                              Muito bom, câmera ótima                   Yes   \n",
       "3                                         Excelente!!!                   Yes   \n",
       "4                              Problema com o aparelho                    No   \n",
       "..                                                 ...                   ...   \n",
       "787                   Otimo produto, pessimo vendedor.                   Yes   \n",
       "788  so avaliaçao da entrega porque o celular ainda...                    No   \n",
       "789                                         Não recebi                    No   \n",
       "790                               Não tem como avaliar                    No   \n",
       "791                                           Comprem!                   Yes   \n",
       "\n",
       "                                              comments  reviewer_birth_year  \\\n",
       "0    Produto excelente qualidade boa câmera desenvo...               1987.0   \n",
       "1    Produto excelente, ótimas funções, rápido, vis...               1989.0   \n",
       "2    Nada mal, tempo de entrega antes do prazo. Sob...               1995.0   \n",
       "3    Excelente produto, belo design, fácil de manus...               1966.0   \n",
       "4    Boa tarde. Estou insatisfeita com o aparelho, ...               1995.0   \n",
       "..                                                 ...                  ...   \n",
       "787  Se você quer um smartphone de ótima qualidade,...               1997.0   \n",
       "788  avaliar como se o celular ainda nao chegou ,av...               1975.0   \n",
       "789  Infelizmente avalio péssimo a compra! Já faz 3...               1987.0   \n",
       "790  Ainda não recebí o produto. E não consigo entr...               1980.0   \n",
       "791  Excelente aparelho. Vale muito a pena comprar....               1970.0   \n",
       "\n",
       "    reviewer_gender reviewer_state  \\\n",
       "0                 M             GO   \n",
       "1                 M             CE   \n",
       "2                 M             SP   \n",
       "3                 F             PR   \n",
       "4                 F             SP   \n",
       "..              ...            ...   \n",
       "787               M             SP   \n",
       "788               F             SP   \n",
       "789               F             SP   \n",
       "790               M             MG   \n",
       "791               M             RJ   \n",
       "\n",
       "                                       comments_entity  topic  \n",
       "0    produto excelente qualidade boa camera desenvo...      1  \n",
       "1    produto excelente, otimas funcoes, rapido, vis...      0  \n",
       "2    nada mal, tempo de entrega antes do prazo. sob...      1  \n",
       "3    excelente produto, belo design, facil de manus...      0  \n",
       "4    boa tarde. estou insatisfeita com o aparelho, ...      1  \n",
       "..                                                 ...    ...  \n",
       "787  se voce quer um smartphone de otima qualidade,...      0  \n",
       "788  avaliar como se o celular ainda nao chegou ,av...      2  \n",
       "789  infelizmente avalio pessimo a compra! ja faz 3...      0  \n",
       "790  ainda nao recebi o produto. e nao consigo entr...      0  \n",
       "791  excelente aparelho. vale muito a pena comprar....      0  \n",
       "\n",
       "[792 rows x 9 columns]"
      ]
     },
     "execution_count": 43,
     "metadata": {},
     "output_type": "execute_result"
    }
   ],
   "source": [
    "df_info"
   ]
  },
  {
   "cell_type": "code",
   "execution_count": 44,
   "metadata": {},
   "outputs": [],
   "source": [
    "PRE_TRAINED_MODEL_NAME = 'neuralmind/bert-base-portuguese-cased'\n",
    "class_names = ['negative', 'neutral', 'positive']\n",
    "\n",
    "class SentimentClassifier(nn.Module):\n",
    "\n",
    "    def __init__(self, n_classes):\n",
    "        super(SentimentClassifier, self).__init__()\n",
    "        self.bert = BertModel.from_pretrained(PRE_TRAINED_MODEL_NAME, return_dict=False)\n",
    "        self.drop = nn.Dropout(p=0.3)\n",
    "        self.out = nn.Linear(self.bert.config.hidden_size, n_classes)\n",
    "\n",
    "    def forward(self, input_ids, attention_mask):\n",
    "        _, pooled_output = self.bert(\n",
    "            input_ids=input_ids,\n",
    "            attention_mask=attention_mask\n",
    "        )\n",
    "        output = self.drop(pooled_output)\n",
    "        return self.out(output)"
   ]
  },
  {
   "cell_type": "code",
   "execution_count": 45,
   "metadata": {},
   "outputs": [],
   "source": [
    "model = SentimentClassifier(len(class_names))\n",
    "model.load_state_dict(torch.load('best_model_state.bin', map_location ='cpu'))\n",
    "model = model.to(torch.device('cpu'))"
   ]
  },
  {
   "cell_type": "code",
   "execution_count": 46,
   "metadata": {},
   "outputs": [],
   "source": [
    "MAX_LEN = 175\n",
    "RANDOM_SEED = 42\n",
    "\n",
    "np.random.seed(RANDOM_SEED)\n",
    "torch.manual_seed(RANDOM_SEED)\n",
    "\n",
    "tokenizer = BertTokenizer.from_pretrained(PRE_TRAINED_MODEL_NAME)\n",
    "\n",
    "def predict_sentiment(text):\n",
    "    encoded_review = tokenizer.encode_plus(\n",
    "        text,\n",
    "        max_length=MAX_LEN,\n",
    "        add_special_tokens=True,\n",
    "        return_token_type_ids=False,\n",
    "        pad_to_max_length=True,\n",
    "        return_attention_mask=True,\n",
    "        return_tensors='pt',\n",
    "    )\n",
    "\n",
    "    input_ids = encoded_review['input_ids'].to(\"cpu\")\n",
    "    attention_mask = encoded_review['attention_mask'].to(\"cpu\")\n",
    "\n",
    "    with torch.no_grad():\n",
    "        output = model(input_ids, attention_mask)\n",
    "\n",
    "    _, prediction = torch.max(output, dim=1)\n",
    "    \n",
    "    return class_names[prediction]"
   ]
  },
  {
   "cell_type": "code",
   "execution_count": 47,
   "metadata": {},
   "outputs": [
    {
     "name": "stderr",
     "output_type": "stream",
     "text": [
      "Truncation was not explicitly activated but `max_length` is provided a specific value, please use `truncation=True` to explicitly truncate examples to max length. Defaulting to 'longest_first' truncation strategy. If you encode pairs of sequences (GLUE-style) with the tokenizer you can select this strategy more precisely by providing a specific strategy to `truncation`.\n"
     ]
    }
   ],
   "source": [
    "df_info[\"sentiment\"] = df_info[\"comments\"].apply(predict_sentiment)"
   ]
  },
  {
   "cell_type": "code",
   "execution_count": 48,
   "metadata": {},
   "outputs": [],
   "source": [
    "sentiment_counts = df_info.groupby(['topic', 'sentiment']).size().reset_index(name='count')"
   ]
  },
  {
   "cell_type": "code",
   "execution_count": 49,
   "metadata": {},
   "outputs": [
    {
     "data": {
      "text/html": [
       "<div>\n",
       "<style scoped>\n",
       "    .dataframe tbody tr th:only-of-type {\n",
       "        vertical-align: middle;\n",
       "    }\n",
       "\n",
       "    .dataframe tbody tr th {\n",
       "        vertical-align: top;\n",
       "    }\n",
       "\n",
       "    .dataframe thead th {\n",
       "        text-align: right;\n",
       "    }\n",
       "</style>\n",
       "<table border=\"1\" class=\"dataframe\">\n",
       "  <thead>\n",
       "    <tr style=\"text-align: right;\">\n",
       "      <th></th>\n",
       "      <th>topic</th>\n",
       "      <th>sentiment</th>\n",
       "      <th>count</th>\n",
       "    </tr>\n",
       "  </thead>\n",
       "  <tbody>\n",
       "    <tr>\n",
       "      <th>0</th>\n",
       "      <td>0</td>\n",
       "      <td>negative</td>\n",
       "      <td>57</td>\n",
       "    </tr>\n",
       "    <tr>\n",
       "      <th>1</th>\n",
       "      <td>0</td>\n",
       "      <td>neutral</td>\n",
       "      <td>17</td>\n",
       "    </tr>\n",
       "    <tr>\n",
       "      <th>2</th>\n",
       "      <td>0</td>\n",
       "      <td>positive</td>\n",
       "      <td>439</td>\n",
       "    </tr>\n",
       "    <tr>\n",
       "      <th>3</th>\n",
       "      <td>1</td>\n",
       "      <td>negative</td>\n",
       "      <td>14</td>\n",
       "    </tr>\n",
       "    <tr>\n",
       "      <th>4</th>\n",
       "      <td>1</td>\n",
       "      <td>neutral</td>\n",
       "      <td>10</td>\n",
       "    </tr>\n",
       "    <tr>\n",
       "      <th>5</th>\n",
       "      <td>1</td>\n",
       "      <td>positive</td>\n",
       "      <td>132</td>\n",
       "    </tr>\n",
       "    <tr>\n",
       "      <th>6</th>\n",
       "      <td>2</td>\n",
       "      <td>negative</td>\n",
       "      <td>15</td>\n",
       "    </tr>\n",
       "    <tr>\n",
       "      <th>7</th>\n",
       "      <td>2</td>\n",
       "      <td>neutral</td>\n",
       "      <td>5</td>\n",
       "    </tr>\n",
       "    <tr>\n",
       "      <th>8</th>\n",
       "      <td>2</td>\n",
       "      <td>positive</td>\n",
       "      <td>103</td>\n",
       "    </tr>\n",
       "  </tbody>\n",
       "</table>\n",
       "</div>"
      ],
      "text/plain": [
       "   topic sentiment  count\n",
       "0      0  negative     57\n",
       "1      0   neutral     17\n",
       "2      0  positive    439\n",
       "3      1  negative     14\n",
       "4      1   neutral     10\n",
       "5      1  positive    132\n",
       "6      2  negative     15\n",
       "7      2   neutral      5\n",
       "8      2  positive    103"
      ]
     },
     "execution_count": 49,
     "metadata": {},
     "output_type": "execute_result"
    }
   ],
   "source": [
    "sentiment_counts"
   ]
  },
  {
   "cell_type": "code",
   "execution_count": 50,
   "metadata": {},
   "outputs": [
    {
     "data": {
      "text/html": [
       "<div>\n",
       "<style scoped>\n",
       "    .dataframe tbody tr th:only-of-type {\n",
       "        vertical-align: middle;\n",
       "    }\n",
       "\n",
       "    .dataframe tbody tr th {\n",
       "        vertical-align: top;\n",
       "    }\n",
       "\n",
       "    .dataframe thead th {\n",
       "        text-align: right;\n",
       "    }\n",
       "</style>\n",
       "<table border=\"1\" class=\"dataframe\">\n",
       "  <thead>\n",
       "    <tr style=\"text-align: right;\">\n",
       "      <th></th>\n",
       "      <th>topic</th>\n",
       "      <th>sentiment</th>\n",
       "      <th>count</th>\n",
       "    </tr>\n",
       "  </thead>\n",
       "  <tbody>\n",
       "  </tbody>\n",
       "</table>\n",
       "</div>"
      ],
      "text/plain": [
       "Empty DataFrame\n",
       "Columns: [topic, sentiment, count]\n",
       "Index: []"
      ]
     },
     "execution_count": 50,
     "metadata": {},
     "output_type": "execute_result"
    }
   ],
   "source": [
    "sentiment_counts_filt = sentiment_counts.loc[sentiment_counts['topic'] == 4]\n",
    "sentiment_counts_filt"
   ]
  },
  {
   "cell_type": "code",
   "execution_count": 51,
   "metadata": {},
   "outputs": [
    {
     "name": "stderr",
     "output_type": "stream",
     "text": [
      "Some weights of the model checkpoint at 51la5/roberta-large-NER were not used when initializing XLMRobertaForTokenClassification: ['roberta.pooler.dense.bias', 'roberta.pooler.dense.weight']\n",
      "- This IS expected if you are initializing XLMRobertaForTokenClassification from the checkpoint of a model trained on another task or with another architecture (e.g. initializing a BertForSequenceClassification model from a BertForPreTraining model).\n",
      "- This IS NOT expected if you are initializing XLMRobertaForTokenClassification from the checkpoint of a model that you expect to be exactly identical (initializing a BertForSequenceClassification model from a BertForSequenceClassification model).\n"
     ]
    }
   ],
   "source": [
    "MAX_LEN = 175\n",
    "RANDOM_SEED = 42\n",
    "\n",
    "np.random.seed(RANDOM_SEED)\n",
    "\n",
    "tokenizer_ner = AutoTokenizer.from_pretrained(\"51la5/roberta-large-NER\", model_max_length=512)\n",
    "model_ner = XLMRobertaForTokenClassification.from_pretrained(\"51la5/roberta-large-NER\")\n",
    "ner_task = pipeline(\"ner\", model=model_ner, tokenizer=tokenizer_ner)"
   ]
  },
  {
   "cell_type": "code",
   "execution_count": 52,
   "metadata": {},
   "outputs": [],
   "source": [
    "def extract_entities(df):\n",
    "    all_entities = []\n",
    "\n",
    "    for comment in df[\"comments_entity\"]:\n",
    "        predictions = ner_task(comment)\n",
    "        comment_entities = []\n",
    "\n",
    "        if predictions != []:\n",
    "            combined_word = \"\"\n",
    "            previous_entity = None\n",
    "\n",
    "            for prediction in predictions:\n",
    "                entity = prediction['entity']\n",
    "                word = prediction['word']\n",
    "\n",
    "                if not word.startswith('▁'):\n",
    "                    combined_word += word\n",
    "                else:\n",
    "                    if combined_word:\n",
    "                        comment_entities.append((combined_word, previous_entity))\n",
    "                    combined_word = word\n",
    "\n",
    "                previous_entity = entity\n",
    "\n",
    "            if combined_word:\n",
    "                comment_entities.append((combined_word, previous_entity))\n",
    "\n",
    "        all_entities.append(comment_entities)\n",
    "\n",
    "    df_copy = df.copy()\n",
    "    df_copy[\"entity\"] = all_entities\n",
    "\n",
    "    return df_copy"
   ]
  },
  {
   "cell_type": "code",
   "execution_count": 53,
   "metadata": {},
   "outputs": [],
   "source": [
    "df_ner = df_info.copy()\n",
    "df_ner[\"entity\"] = \"\""
   ]
  },
  {
   "cell_type": "code",
   "execution_count": 54,
   "metadata": {},
   "outputs": [],
   "source": [
    "df_ner = extract_entities(df_ner)"
   ]
  },
  {
   "cell_type": "code",
   "execution_count": 55,
   "metadata": {},
   "outputs": [
    {
     "data": {
      "text/plain": [
       "entity\n",
       "(▁americanas, I-ORG)        43\n",
       "(▁moto, I-MISC)             40\n",
       "(▁motorola, I-ORG)          30\n",
       "(▁motorola, I-MISC)         17\n",
       "(▁g5s, I-MISC)              16\n",
       "                            ..\n",
       "(▁flip3, I-MISC)             1\n",
       "(▁motorolalenovo, I-ORG)     1\n",
       "(▁directlog, I-ORG)          1\n",
       "(▁americanoscom, I-ORG)      1\n",
       "(▁mericanacom, I-ORG)        1\n",
       "Name: count, Length: 70, dtype: int64"
      ]
     },
     "execution_count": 55,
     "metadata": {},
     "output_type": "execute_result"
    }
   ],
   "source": [
    "count_unique = df_ner['entity'].explode().value_counts()\n",
    "count_unique"
   ]
  },
  {
   "cell_type": "code",
   "execution_count": 73,
   "metadata": {},
   "outputs": [],
   "source": [
    "def most_frequent_entity_per_topic(df):\n",
    "    entity_per_topic = {'topic': [], 'entity_most_frequent': [], 'frequency_entity': []}\n",
    "\n",
    "    groups = df.groupby('topic')\n",
    "\n",
    "    for group_name, group_data in groups:\n",
    "        entity_count = {}\n",
    "\n",
    "        for index, row in group_data.iterrows():\n",
    "            for entity_token in row['entity']:\n",
    "                entity = entity_token[0]\n",
    "                entity_count[entity] = entity_count.get(entity, 0) + 1\n",
    "\n",
    "        most_frequent_entities = sorted(entity_count, key=entity_count.get, reverse=True)[:20]\n",
    "        frequencies = [entity_count[entity] for entity in most_frequent_entities]\n",
    "\n",
    "        entities_string = ', '.join(most_frequent_entities)\n",
    "        frequencies_string = ', '.join(map(str, frequencies))\n",
    "\n",
    "        entity_per_topic['topic'].append(group_name)\n",
    "        entity_per_topic['entity_most_frequent'].append(entities_string)\n",
    "        entity_per_topic['frequency_entity'].append(frequencies_string)\n",
    "\n",
    "    df_most_frequent_entity = pd.DataFrame(entity_per_topic)\n",
    "\n",
    "    return df_most_frequent_entity\n"
   ]
  },
  {
   "cell_type": "code",
   "execution_count": 74,
   "metadata": {},
   "outputs": [
    {
     "data": {
      "text/html": [
       "<div>\n",
       "<style scoped>\n",
       "    .dataframe tbody tr th:only-of-type {\n",
       "        vertical-align: middle;\n",
       "    }\n",
       "\n",
       "    .dataframe tbody tr th {\n",
       "        vertical-align: top;\n",
       "    }\n",
       "\n",
       "    .dataframe thead th {\n",
       "        text-align: right;\n",
       "    }\n",
       "</style>\n",
       "<table border=\"1\" class=\"dataframe\">\n",
       "  <thead>\n",
       "    <tr style=\"text-align: right;\">\n",
       "      <th></th>\n",
       "      <th>topic</th>\n",
       "      <th>entity_most_frequent</th>\n",
       "      <th>frequency_entity</th>\n",
       "    </tr>\n",
       "  </thead>\n",
       "  <tbody>\n",
       "    <tr>\n",
       "      <th>0</th>\n",
       "      <td>0</td>\n",
       "      <td>▁americanas, ▁moto, ▁motorola, ▁g, ▁g5s, ▁amer...</td>\n",
       "      <td>37, 30, 26, 13, 11, 7, 7, 6, 6, 6, 6, 2, 2, 2,...</td>\n",
       "    </tr>\n",
       "    <tr>\n",
       "      <th>1</th>\n",
       "      <td>1</td>\n",
       "      <td>▁motorola, ▁moto, ▁g5s, ▁americanas, ▁g3, ▁and...</td>\n",
       "      <td>13, 7, 5, 4, 3, 2, 2, 2, 2, 2, 2, 1, 1, 1, 1, ...</td>\n",
       "    </tr>\n",
       "    <tr>\n",
       "      <th>2</th>\n",
       "      <td>2</td>\n",
       "      <td>▁motorola, ▁moto, ▁google, ▁android, ▁asus, ▁a...</td>\n",
       "      <td>8, 3, 2, 2, 2, 2, 2, 2, 1, 1, 1, 1, 1, 1, 1, 1</td>\n",
       "    </tr>\n",
       "  </tbody>\n",
       "</table>\n",
       "</div>"
      ],
      "text/plain": [
       "   topic                               entity_most_frequent  \\\n",
       "0      0  ▁americanas, ▁moto, ▁motorola, ▁g, ▁g5s, ▁amer...   \n",
       "1      1  ▁motorola, ▁moto, ▁g5s, ▁americanas, ▁g3, ▁and...   \n",
       "2      2  ▁motorola, ▁moto, ▁google, ▁android, ▁asus, ▁a...   \n",
       "\n",
       "                                    frequency_entity  \n",
       "0  37, 30, 26, 13, 11, 7, 7, 6, 6, 6, 6, 2, 2, 2,...  \n",
       "1  13, 7, 5, 4, 3, 2, 2, 2, 2, 2, 2, 1, 1, 1, 1, ...  \n",
       "2     8, 3, 2, 2, 2, 2, 2, 2, 1, 1, 1, 1, 1, 1, 1, 1  "
      ]
     },
     "execution_count": 74,
     "metadata": {},
     "output_type": "execute_result"
    }
   ],
   "source": [
    "df_entity_most_frequent = most_frequent_entity_per_topic(df_ner)\n",
    "df_entity_most_frequent.head(10)"
   ]
  },
  {
   "cell_type": "code",
   "execution_count": 75,
   "metadata": {},
   "outputs": [],
   "source": [
    "df_entity_most_frequent['entity_most_frequent'] = df_entity_most_frequent['entity_most_frequent'].str.replace('▁', '')"
   ]
  },
  {
   "cell_type": "code",
   "execution_count": 76,
   "metadata": {},
   "outputs": [
    {
     "name": "stdout",
     "output_type": "stream",
     "text": [
      "                                                                                                                                          entity_most_frequent\n",
      "                  americanas, moto, motorola, g, g5s, americana, 5s, americanascom, g5, lenovo, plus, samsung, lg, android, g2, 5, g4, s, motog, americaas.com\n",
      "motorola, moto, g5s, americanas, g3, android, g4, asus, ios, google, sansung, gmail, lenovomotorola, motog5s, oreo, play, directlog, lenovo, k10, americas.com\n",
      "                    motorola, moto, google, android, asus, americanas, 5s, g, samsung, americanas, motog, americanoscom, americanas.com, americanascom, g2., 5\n"
     ]
    }
   ],
   "source": [
    "print(df_entity_most_frequent[['entity_most_frequent']].to_string(index=False))"
   ]
  },
  {
   "cell_type": "code",
   "execution_count": 77,
   "metadata": {},
   "outputs": [
    {
     "name": "stdout",
     "output_type": "stream",
     "text": [
      "                                               frequency_entity\n",
      "37, 30, 26, 13, 11, 7, 7, 6, 6, 6, 6, 2, 2, 2, 2, 2, 2, 2, 2, 1\n",
      "    13, 7, 5, 4, 3, 2, 2, 2, 2, 2, 2, 1, 1, 1, 1, 1, 1, 1, 1, 1\n",
      "                 8, 3, 2, 2, 2, 2, 2, 2, 1, 1, 1, 1, 1, 1, 1, 1\n"
     ]
    }
   ],
   "source": [
    "print(df_entity_most_frequent[['frequency_entity']].to_string(index=False)) "
   ]
  },
  {
   "cell_type": "code",
   "execution_count": 62,
   "metadata": {},
   "outputs": [],
   "source": [
    "def show_reviews_by_sentiment_and_topic(df, topic):\n",
    "    df_topic = df[df['topic'] == topic]\n",
    "\n",
    "    for sentiment in ['positive', 'neutral', 'negative']:\n",
    "        print(f\"Reviews with sentiment '{sentiment}' in topic '{topic}':\")\n",
    "        \n",
    "        df_sentiment = df_topic[df_topic['sentiment'] == sentiment]\n",
    "        \n",
    "        for i, review_text in enumerate(df_sentiment['comments'].head(5)):\n",
    "            print(f\"{i}. {review_text}\")\n",
    "        print()"
   ]
  },
  {
   "cell_type": "code",
   "execution_count": 63,
   "metadata": {},
   "outputs": [
    {
     "data": {
      "text/html": [
       "<div>\n",
       "<style scoped>\n",
       "    .dataframe tbody tr th:only-of-type {\n",
       "        vertical-align: middle;\n",
       "    }\n",
       "\n",
       "    .dataframe tbody tr th {\n",
       "        vertical-align: top;\n",
       "    }\n",
       "\n",
       "    .dataframe thead th {\n",
       "        text-align: right;\n",
       "    }\n",
       "</style>\n",
       "<table border=\"1\" class=\"dataframe\">\n",
       "  <thead>\n",
       "    <tr style=\"text-align: right;\">\n",
       "      <th></th>\n",
       "      <th>product_name</th>\n",
       "      <th>review_title</th>\n",
       "      <th>recommend_to_a_friend</th>\n",
       "      <th>comments</th>\n",
       "      <th>reviewer_birth_year</th>\n",
       "      <th>reviewer_gender</th>\n",
       "      <th>reviewer_state</th>\n",
       "      <th>comments_entity</th>\n",
       "      <th>topic</th>\n",
       "      <th>sentiment</th>\n",
       "      <th>entity</th>\n",
       "    </tr>\n",
       "  </thead>\n",
       "  <tbody>\n",
       "    <tr>\n",
       "      <th>0</th>\n",
       "      <td>Smartphone Motorola Moto G 5S Dual Chip Androi...</td>\n",
       "      <td>Gostei bastante do produto</td>\n",
       "      <td>Yes</td>\n",
       "      <td>Produto excelente qualidade boa câmera desenvo...</td>\n",
       "      <td>1987.0</td>\n",
       "      <td>M</td>\n",
       "      <td>GO</td>\n",
       "      <td>produto excelente qualidade boa camera desenvo...</td>\n",
       "      <td>1</td>\n",
       "      <td>positive</td>\n",
       "      <td>[(▁android, I-MISC)]</td>\n",
       "    </tr>\n",
       "    <tr>\n",
       "      <th>1</th>\n",
       "      <td>Smartphone Motorola Moto G 5S Dual Chip Androi...</td>\n",
       "      <td>Muito show</td>\n",
       "      <td>Yes</td>\n",
       "      <td>Produto excelente, ótimas funções, rápido, vis...</td>\n",
       "      <td>1989.0</td>\n",
       "      <td>M</td>\n",
       "      <td>CE</td>\n",
       "      <td>produto excelente, otimas funcoes, rapido, vis...</td>\n",
       "      <td>0</td>\n",
       "      <td>positive</td>\n",
       "      <td>[]</td>\n",
       "    </tr>\n",
       "    <tr>\n",
       "      <th>2</th>\n",
       "      <td>Smartphone Motorola Moto G 5S Dual Chip Androi...</td>\n",
       "      <td>Muito bom, câmera ótima</td>\n",
       "      <td>Yes</td>\n",
       "      <td>Nada mal, tempo de entrega antes do prazo. Sob...</td>\n",
       "      <td>1995.0</td>\n",
       "      <td>M</td>\n",
       "      <td>SP</td>\n",
       "      <td>nada mal, tempo de entrega antes do prazo. sob...</td>\n",
       "      <td>1</td>\n",
       "      <td>positive</td>\n",
       "      <td>[]</td>\n",
       "    </tr>\n",
       "    <tr>\n",
       "      <th>3</th>\n",
       "      <td>Smartphone Motorola Moto G 5S Dual Chip Androi...</td>\n",
       "      <td>Excelente!!!</td>\n",
       "      <td>Yes</td>\n",
       "      <td>Excelente produto, belo design, fácil de manus...</td>\n",
       "      <td>1966.0</td>\n",
       "      <td>F</td>\n",
       "      <td>PR</td>\n",
       "      <td>excelente produto, belo design, facil de manus...</td>\n",
       "      <td>0</td>\n",
       "      <td>positive</td>\n",
       "      <td>[]</td>\n",
       "    </tr>\n",
       "    <tr>\n",
       "      <th>4</th>\n",
       "      <td>Smartphone Motorola Moto G 5S Dual Chip Androi...</td>\n",
       "      <td>Problema com o aparelho</td>\n",
       "      <td>No</td>\n",
       "      <td>Boa tarde. Estou insatisfeita com o aparelho, ...</td>\n",
       "      <td>1995.0</td>\n",
       "      <td>F</td>\n",
       "      <td>SP</td>\n",
       "      <td>boa tarde. estou insatisfeita com o aparelho, ...</td>\n",
       "      <td>1</td>\n",
       "      <td>negative</td>\n",
       "      <td>[]</td>\n",
       "    </tr>\n",
       "    <tr>\n",
       "      <th>...</th>\n",
       "      <td>...</td>\n",
       "      <td>...</td>\n",
       "      <td>...</td>\n",
       "      <td>...</td>\n",
       "      <td>...</td>\n",
       "      <td>...</td>\n",
       "      <td>...</td>\n",
       "      <td>...</td>\n",
       "      <td>...</td>\n",
       "      <td>...</td>\n",
       "      <td>...</td>\n",
       "    </tr>\n",
       "    <tr>\n",
       "      <th>787</th>\n",
       "      <td>Smartphone Motorola Moto G 5S Dual Chip Androi...</td>\n",
       "      <td>Otimo produto, pessimo vendedor.</td>\n",
       "      <td>Yes</td>\n",
       "      <td>Se você quer um smartphone de ótima qualidade,...</td>\n",
       "      <td>1997.0</td>\n",
       "      <td>M</td>\n",
       "      <td>SP</td>\n",
       "      <td>se voce quer um smartphone de otima qualidade,...</td>\n",
       "      <td>0</td>\n",
       "      <td>positive</td>\n",
       "      <td>[]</td>\n",
       "    </tr>\n",
       "    <tr>\n",
       "      <th>788</th>\n",
       "      <td>Smartphone Motorola Moto G 5S Dual Chip Androi...</td>\n",
       "      <td>so avaliaçao da entrega porque o celular ainda...</td>\n",
       "      <td>No</td>\n",
       "      <td>avaliar como se o celular ainda nao chegou ,av...</td>\n",
       "      <td>1975.0</td>\n",
       "      <td>F</td>\n",
       "      <td>SP</td>\n",
       "      <td>avaliar como se o celular ainda nao chegou ,av...</td>\n",
       "      <td>2</td>\n",
       "      <td>negative</td>\n",
       "      <td>[]</td>\n",
       "    </tr>\n",
       "    <tr>\n",
       "      <th>789</th>\n",
       "      <td>Smartphone Motorola Moto G 5S Dual Chip Androi...</td>\n",
       "      <td>Não recebi</td>\n",
       "      <td>No</td>\n",
       "      <td>Infelizmente avalio péssimo a compra! Já faz 3...</td>\n",
       "      <td>1987.0</td>\n",
       "      <td>F</td>\n",
       "      <td>SP</td>\n",
       "      <td>infelizmente avalio pessimo a compra! ja faz 3...</td>\n",
       "      <td>0</td>\n",
       "      <td>negative</td>\n",
       "      <td>[]</td>\n",
       "    </tr>\n",
       "    <tr>\n",
       "      <th>790</th>\n",
       "      <td>Smartphone Motorola Moto G 5S Dual Chip Androi...</td>\n",
       "      <td>Não tem como avaliar</td>\n",
       "      <td>No</td>\n",
       "      <td>Ainda não recebí o produto. E não consigo entr...</td>\n",
       "      <td>1980.0</td>\n",
       "      <td>M</td>\n",
       "      <td>MG</td>\n",
       "      <td>ainda nao recebi o produto. e nao consigo entr...</td>\n",
       "      <td>0</td>\n",
       "      <td>negative</td>\n",
       "      <td>[(▁americanas, I-ORG)]</td>\n",
       "    </tr>\n",
       "    <tr>\n",
       "      <th>791</th>\n",
       "      <td>Smartphone Motorola Moto G 5S Dual Chip Androi...</td>\n",
       "      <td>Comprem!</td>\n",
       "      <td>Yes</td>\n",
       "      <td>Excelente aparelho. Vale muito a pena comprar....</td>\n",
       "      <td>1970.0</td>\n",
       "      <td>M</td>\n",
       "      <td>RJ</td>\n",
       "      <td>excelente aparelho. vale muito a pena comprar....</td>\n",
       "      <td>0</td>\n",
       "      <td>positive</td>\n",
       "      <td>[]</td>\n",
       "    </tr>\n",
       "  </tbody>\n",
       "</table>\n",
       "<p>792 rows × 11 columns</p>\n",
       "</div>"
      ],
      "text/plain": [
       "                                          product_name  \\\n",
       "0    Smartphone Motorola Moto G 5S Dual Chip Androi...   \n",
       "1    Smartphone Motorola Moto G 5S Dual Chip Androi...   \n",
       "2    Smartphone Motorola Moto G 5S Dual Chip Androi...   \n",
       "3    Smartphone Motorola Moto G 5S Dual Chip Androi...   \n",
       "4    Smartphone Motorola Moto G 5S Dual Chip Androi...   \n",
       "..                                                 ...   \n",
       "787  Smartphone Motorola Moto G 5S Dual Chip Androi...   \n",
       "788  Smartphone Motorola Moto G 5S Dual Chip Androi...   \n",
       "789  Smartphone Motorola Moto G 5S Dual Chip Androi...   \n",
       "790  Smartphone Motorola Moto G 5S Dual Chip Androi...   \n",
       "791  Smartphone Motorola Moto G 5S Dual Chip Androi...   \n",
       "\n",
       "                                          review_title recommend_to_a_friend  \\\n",
       "0                           Gostei bastante do produto                   Yes   \n",
       "1                                           Muito show                   Yes   \n",
       "2                              Muito bom, câmera ótima                   Yes   \n",
       "3                                         Excelente!!!                   Yes   \n",
       "4                              Problema com o aparelho                    No   \n",
       "..                                                 ...                   ...   \n",
       "787                   Otimo produto, pessimo vendedor.                   Yes   \n",
       "788  so avaliaçao da entrega porque o celular ainda...                    No   \n",
       "789                                         Não recebi                    No   \n",
       "790                               Não tem como avaliar                    No   \n",
       "791                                           Comprem!                   Yes   \n",
       "\n",
       "                                              comments  reviewer_birth_year  \\\n",
       "0    Produto excelente qualidade boa câmera desenvo...               1987.0   \n",
       "1    Produto excelente, ótimas funções, rápido, vis...               1989.0   \n",
       "2    Nada mal, tempo de entrega antes do prazo. Sob...               1995.0   \n",
       "3    Excelente produto, belo design, fácil de manus...               1966.0   \n",
       "4    Boa tarde. Estou insatisfeita com o aparelho, ...               1995.0   \n",
       "..                                                 ...                  ...   \n",
       "787  Se você quer um smartphone de ótima qualidade,...               1997.0   \n",
       "788  avaliar como se o celular ainda nao chegou ,av...               1975.0   \n",
       "789  Infelizmente avalio péssimo a compra! Já faz 3...               1987.0   \n",
       "790  Ainda não recebí o produto. E não consigo entr...               1980.0   \n",
       "791  Excelente aparelho. Vale muito a pena comprar....               1970.0   \n",
       "\n",
       "    reviewer_gender reviewer_state  \\\n",
       "0                 M             GO   \n",
       "1                 M             CE   \n",
       "2                 M             SP   \n",
       "3                 F             PR   \n",
       "4                 F             SP   \n",
       "..              ...            ...   \n",
       "787               M             SP   \n",
       "788               F             SP   \n",
       "789               F             SP   \n",
       "790               M             MG   \n",
       "791               M             RJ   \n",
       "\n",
       "                                       comments_entity  topic sentiment  \\\n",
       "0    produto excelente qualidade boa camera desenvo...      1  positive   \n",
       "1    produto excelente, otimas funcoes, rapido, vis...      0  positive   \n",
       "2    nada mal, tempo de entrega antes do prazo. sob...      1  positive   \n",
       "3    excelente produto, belo design, facil de manus...      0  positive   \n",
       "4    boa tarde. estou insatisfeita com o aparelho, ...      1  negative   \n",
       "..                                                 ...    ...       ...   \n",
       "787  se voce quer um smartphone de otima qualidade,...      0  positive   \n",
       "788  avaliar como se o celular ainda nao chegou ,av...      2  negative   \n",
       "789  infelizmente avalio pessimo a compra! ja faz 3...      0  negative   \n",
       "790  ainda nao recebi o produto. e nao consigo entr...      0  negative   \n",
       "791  excelente aparelho. vale muito a pena comprar....      0  positive   \n",
       "\n",
       "                     entity  \n",
       "0      [(▁android, I-MISC)]  \n",
       "1                        []  \n",
       "2                        []  \n",
       "3                        []  \n",
       "4                        []  \n",
       "..                      ...  \n",
       "787                      []  \n",
       "788                      []  \n",
       "789                      []  \n",
       "790  [(▁americanas, I-ORG)]  \n",
       "791                      []  \n",
       "\n",
       "[792 rows x 11 columns]"
      ]
     },
     "execution_count": 63,
     "metadata": {},
     "output_type": "execute_result"
    }
   ],
   "source": [
    "df_ner"
   ]
  },
  {
   "cell_type": "code",
   "execution_count": 80,
   "metadata": {},
   "outputs": [
    {
     "name": "stdout",
     "output_type": "stream",
     "text": [
      "Reviews with sentiment 'positive' in topic '2':\n",
      "0. Gostei do pedido e prazo de entrega. Celular muito bom para o preço pago, ótima promoção\n",
      "1. O celular é excelente! Vale cada centavo! Os outros são caros, neste celular não pagamos pela grife, mas em momento algum o torna inferior.\n",
      "2. Nada a reclamar sobre o celular, é muito bom. apesar de a entrega ter sido feita antes do prazo,entrou em rota dia 14, isso estava na cidade vizinha que não demoraria para chegar, foi chegar na minha casa dia 16. não entendo pq demorou tanto em rota.\n",
      "3. Tudo perfeito, um excelente smartfone é um ótimo custo beneficio!\n",
      "4. Ainda não vi pontos negativos. Me surpreendi, não esperava que fosse um celular tão bom. Pelo custo benefício vale muito a pena.\n",
      "\n",
      "Reviews with sentiment 'neutral' in topic '2':\n",
      "0. Gostei do produto, porém, esquenta de mais, e acredito q o fone ou não era pra esse modelo ou tá com defeito pq não encaixa no celular corretamente, quando mexe no plug do fone as vezes funciona e outras vezes não, até desligar a ligação ele desliga ao plugar o fone ou as o mexer, to tentando entrar em contato com a loja.\n",
      "1. Comprei celular pra minha filha.Chegou no dia esperado,ótimo celular. Só que paguei pelo celular novo e me mandaram usado(abri estava cheio de contatos,alarme pra desparar),quando é novo vem cheio de proteção na câmera,na tela em tudo o meu veio com nada. Celular trava muito,tem hora vai fazer ligação ele não chama.\n",
      "2. O celular é muito bom por isso recomendo o produto, porém o carregador veio com defeito, não carregava o celular. Já entrei em contato várias vezes mas a questão ainda não foi resolvida.\n",
      "3. O celular chegou muito rápido. Mas acho que poderia ter sido melhor embalado pois veio apenas dentro de uma caixa sem nenhuma proteção contra impactos.\n",
      "4. O celular é bom, porém aconselho pesquisar outros produtos antes de efetuar a compra. Algumas redes sociais travam, por exemplo, snapchat, instagram, etc. E pra mim outro grande problema é o carregador turbo, onde faz um zumbido que da pra ser ouvido de outro comodo da minha casa, infelizmente da uma sensação de insegurança, parece que a qualquer momento vai explodir.\n",
      "\n",
      "Reviews with sentiment 'negative' in topic '2':\n",
      "0. transportadora foi infeliz desviaram o meu produto, estou muito triste com as lojas americanas não me dao uma resposta só enrolam falaram que iam retorna, retornou o carai, nem as lojas fisicas ajudam pessimo atendimento  pra min isso é uma humilhação da transportadora um celular novo nao cai do céu\n",
      "1. Hoje, assim que o celular foi entregue (de forma estranha, não por transportadora, mas por duas mulheres sem uniforme ou trazendo informações de qualquer empresa), liguei o celular e a tela estava muito escura, era quase impossível enxergar e o brilho da tela estava no máximo. Reiniciei o telefone e a tela passou a piscar. Liguei para as Lojas Americanas que transferiu para a Motorola. Estou aguardando retorno da empresa.\n",
      "2. O celular parou de carregar depois de 5 dias de uso, depois de testes descobri que o problema é no carregador. Costumo fazer compras na internet, em menos de um ano comprei um outro celular pela americanos.com que tbm apresentou o mesmo problemas entre outros, o que me faz duvidar da qualidade e seriedade dos produtos que estão sendo oferecidos pelo site. Espero conseguir resolver ambos problemas da melhor maneira. Sinto me desapontado e enganada com os produtos enviados .\n",
      "3. Aparentemente o celular parece ser bom, porém o carregador veio sem funcionar, já tentei vários contatos e até agora não obtive retorno.\n",
      "4. o celular trava desde novo, imagina daqui alguns meses. Creio que está com algum problema, pois a tela, em alguns momentos, pareceu ficar tremendo, inconsistente. Já é o segundo produto que compro das americanas que vem com problema, em outra ocasião  comprei um pen drive que nunca funcionou. Estou esperando para ter certeza, se o celular é ruim, ou se está com defeito. Caso tenha defeito, vou enviar para agarantia, e me incomodar, mas fazer o que.\n",
      "\n"
     ]
    }
   ],
   "source": [
    "show_reviews_by_sentiment_and_topic(df_ner, 2)"
   ]
  }
 ],
 "metadata": {
  "kernelspec": {
   "display_name": "env_tcc",
   "language": "python",
   "name": "python3"
  },
  "language_info": {
   "codemirror_mode": {
    "name": "ipython",
    "version": 3
   },
   "file_extension": ".py",
   "mimetype": "text/x-python",
   "name": "python",
   "nbconvert_exporter": "python",
   "pygments_lexer": "ipython3",
   "version": "3.9.19"
  }
 },
 "nbformat": 4,
 "nbformat_minor": 2
}
