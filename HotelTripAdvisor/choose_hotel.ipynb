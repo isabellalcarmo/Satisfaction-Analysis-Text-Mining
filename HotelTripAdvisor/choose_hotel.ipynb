{
 "cells": [
  {
   "cell_type": "code",
   "execution_count": 3,
   "metadata": {},
   "outputs": [],
   "source": [
    "# Natural Language Processing (NLP) Libraries\n",
    "import nltk\n",
    "import spacy\n",
    "from spacy.lang.pt.examples import sentences\n",
    "from gensim.utils import simple_preprocess\n",
    "\n",
    "# Machine Learning Libraries\n",
    "import pandas as pd\n",
    "import numpy as np\n",
    "from sklearn.feature_extraction.text import CountVectorizer\n",
    "from sklearn.model_selection import train_test_split\n",
    "from sklearn.metrics import confusion_matrix, classification_report\n",
    "from sklearn.cluster import HDBSCAN\n",
    "import torch\n",
    "from torch import nn\n",
    "\n",
    "# Transformers Library\n",
    "from transformers import pipeline, AutoTokenizer, AutoModelForTokenClassification, AutoModelForSequenceClassification\n",
    "from transformers import DistilBertTokenizerFast, BertForTokenClassification, XLMRobertaForTokenClassification\n",
    "from transformers import BertModel, BertTokenizer, AdamW, get_linear_schedule_with_warmup\n",
    "\n",
    "# Text Processing Libraries\n",
    "import re\n",
    "from unidecode import unidecode\n",
    "\n",
    "# Visualization Libraries\n",
    "import matplotlib.pyplot as plt\n",
    "import seaborn as sns\n",
    "from wordcloud import WordCloud\n",
    "\n",
    "# Topic Modeling Libraries\n",
    "from bertopic import BERTopic\n",
    "from bertopic.representation import PartOfSpeech, KeyBERTInspired\n",
    "from bertopic.cluster import BaseCluster\n",
    "from umap import UMAP\n",
    "from hdbscan import HDBSCAN"
   ]
  },
  {
   "cell_type": "code",
   "execution_count": 1,
   "metadata": {},
   "outputs": [],
   "source": [
    "comments = open('comments/comments_grand_hyatt_sao_paulo.txt', 'r', encoding='utf8') "
   ]
  },
  {
   "cell_type": "code",
   "execution_count": 4,
   "metadata": {},
   "outputs": [],
   "source": [
    "comments_data = comments.readlines()\n",
    "comments.close()"
   ]
  },
  {
   "cell_type": "code",
   "execution_count": 5,
   "metadata": {},
   "outputs": [],
   "source": [
    "df = pd.DataFrame(columns=['comments'])"
   ]
  },
  {
   "cell_type": "code",
   "execution_count": 6,
   "metadata": {},
   "outputs": [],
   "source": [
    "comments_list = [comment.strip() for comment in comments_data]"
   ]
  },
  {
   "cell_type": "code",
   "execution_count": 7,
   "metadata": {},
   "outputs": [],
   "source": [
    "df['comments'] = comments_list"
   ]
  },
  {
   "cell_type": "code",
   "execution_count": 8,
   "metadata": {},
   "outputs": [
    {
     "name": "stdout",
     "output_type": "stream",
     "text": [
      "<class 'pandas.core.frame.DataFrame'>\n",
      "RangeIndex: 2623 entries, 0 to 2622\n",
      "Data columns (total 1 columns):\n",
      " #   Column    Non-Null Count  Dtype \n",
      "---  ------    --------------  ----- \n",
      " 0   comments  2623 non-null   object\n",
      "dtypes: object(1)\n",
      "memory usage: 20.6+ KB\n"
     ]
    }
   ],
   "source": [
    "df.info()"
   ]
  },
  {
   "cell_type": "code",
   "execution_count": 16,
   "metadata": {},
   "outputs": [
    {
     "data": {
      "text/html": [
       "<div>\n",
       "<style scoped>\n",
       "    .dataframe tbody tr th:only-of-type {\n",
       "        vertical-align: middle;\n",
       "    }\n",
       "\n",
       "    .dataframe tbody tr th {\n",
       "        vertical-align: top;\n",
       "    }\n",
       "\n",
       "    .dataframe thead th {\n",
       "        text-align: right;\n",
       "    }\n",
       "</style>\n",
       "<table border=\"1\" class=\"dataframe\">\n",
       "  <thead>\n",
       "    <tr style=\"text-align: right;\">\n",
       "      <th></th>\n",
       "      <th>comments</th>\n",
       "    </tr>\n",
       "  </thead>\n",
       "  <tbody>\n",
       "    <tr>\n",
       "      <th>0</th>\n",
       "      <td>Quartos amplos bem equipados, excelente café d...</td>\n",
       "    </tr>\n",
       "    <tr>\n",
       "      <th>1</th>\n",
       "      <td>Estive novamente em Brasília e, como sempre, m...</td>\n",
       "    </tr>\n",
       "    <tr>\n",
       "      <th>2</th>\n",
       "      <td>Me hospedei com meu namorado, pela segunda vez...</td>\n",
       "    </tr>\n",
       "    <tr>\n",
       "      <th>3</th>\n",
       "      <td>Foi surpreendente a estadia. Ficamos 4 diárias...</td>\n",
       "    </tr>\n",
       "    <tr>\n",
       "      <th>4</th>\n",
       "      <td>Foi a minha primeira experiência em Brasília, ...</td>\n",
       "    </tr>\n",
       "    <tr>\n",
       "      <th>5</th>\n",
       "      <td>Se você gosta de um certo luxo, ok. O hotel te...</td>\n",
       "    </tr>\n",
       "    <tr>\n",
       "      <th>6</th>\n",
       "      <td>Fiquei hospedada 1 noite apenas no tulip, hote...</td>\n",
       "    </tr>\n",
       "    <tr>\n",
       "      <th>7</th>\n",
       "      <td>Estive no Royal Tulip Brasília Alvorada nos úl...</td>\n",
       "    </tr>\n",
       "    <tr>\n",
       "      <th>8</th>\n",
       "      <td>Lugar espetacular, recomendo a qualquer que qu...</td>\n",
       "    </tr>\n",
       "    <tr>\n",
       "      <th>9</th>\n",
       "      <td>Excelência nas instalações, atendimento rápido...</td>\n",
       "    </tr>\n",
       "  </tbody>\n",
       "</table>\n",
       "</div>"
      ],
      "text/plain": [
       "                                            comments\n",
       "0  Quartos amplos bem equipados, excelente café d...\n",
       "1  Estive novamente em Brasília e, como sempre, m...\n",
       "2  Me hospedei com meu namorado, pela segunda vez...\n",
       "3  Foi surpreendente a estadia. Ficamos 4 diárias...\n",
       "4  Foi a minha primeira experiência em Brasília, ...\n",
       "5  Se você gosta de um certo luxo, ok. O hotel te...\n",
       "6  Fiquei hospedada 1 noite apenas no tulip, hote...\n",
       "7  Estive no Royal Tulip Brasília Alvorada nos úl...\n",
       "8  Lugar espetacular, recomendo a qualquer que qu...\n",
       "9  Excelência nas instalações, atendimento rápido..."
      ]
     },
     "execution_count": 16,
     "metadata": {},
     "output_type": "execute_result"
    }
   ],
   "source": [
    "df.head(10)"
   ]
  },
  {
   "cell_type": "code",
   "execution_count": 17,
   "metadata": {},
   "outputs": [],
   "source": [
    "MAX_LEN = 175\n",
    "RANDOM_SEED = 42\n",
    "\n",
    "np.random.seed(RANDOM_SEED)"
   ]
  },
  {
   "cell_type": "code",
   "execution_count": 18,
   "metadata": {},
   "outputs": [
    {
     "name": "stderr",
     "output_type": "stream",
     "text": [
      "[nltk_data] Downloading package stopwords to\n",
      "[nltk_data]     C:\\Users\\isabe\\AppData\\Roaming\\nltk_data...\n",
      "[nltk_data]   Package stopwords is already up-to-date!\n",
      "[nltk_data] Downloading package rslp to\n",
      "[nltk_data]     C:\\Users\\isabe\\AppData\\Roaming\\nltk_data...\n",
      "[nltk_data]   Package rslp is already up-to-date!\n"
     ]
    }
   ],
   "source": [
    "nltk.download([\"stopwords\", \"rslp\"])\n",
    "\n",
    "PT_STOPWORDS = nltk.corpus.stopwords.words('portuguese')\n",
    "\n",
    "REGEX = [\n",
    "    {'input': r'/\\d+/g', 'output': r' '},               # removing digits\n",
    "    {'input': r'[^\\w\\s]', 'output': r' '},              # removing punctuationon\n",
    "    {'input': r'\\n', 'output': r' '},                   # removing line breaks\n",
    "    {'input': r'\\b\\w{1,2}\\b', 'output': r''},           # removing short words (1 or 2 characters)\n",
    "]\n",
    "\n",
    "def regex_treatment(text):\n",
    "    for pattern in REGEX:\n",
    "        text = re.sub(pattern['input'], pattern['output'], text)\n",
    "    return text.strip().lower()\n",
    "\n",
    "def remove_stopwords(text):\n",
    "    words = simple_preprocess(text)\n",
    "    phrase_adjusted = \" \".join([word for word in words if word not in PT_STOPWORDS])\n",
    "    return phrase_adjusted.lower()\n",
    "\n",
    "spacy_lemma = spacy.load(\"pt_core_news_md\")\n",
    "\n",
    "# Ignoring VERBs, ADVs, ADJs, PROPNs (...)\n",
    "def lemmatizer(text, postags_permit=['NOUN']):\n",
    "    \"\"\"https://spacy.io/api/annotation\"\"\"\n",
    "    doc = spacy_lemma(text.lower())\n",
    "    doc_lemma = \" \".join([token.lemma_ for token in doc if token.pos_ in postags_permit])\n",
    "    return doc_lemma\n",
    "\n",
    "def remove_accentuation(text):\n",
    "    return unidecode(text)\n",
    "\n",
    "def remove_accentuation_lower(text):\n",
    "    return unidecode(text.lower())"
   ]
  },
  {
   "cell_type": "code",
   "execution_count": 19,
   "metadata": {},
   "outputs": [],
   "source": [
    "df[\"comments_topic\"] = df[\"comments\"].apply(regex_treatment)\n",
    "df[\"comments_topic\"] = df[\"comments_topic\"].apply(remove_stopwords)\n",
    "df[\"comments_topic\"] = df[\"comments_topic\"].apply(lemmatizer)\n",
    "df[\"comments_topic\"] = df[\"comments_topic\"].apply(remove_accentuation_lower)"
   ]
  },
  {
   "cell_type": "code",
   "execution_count": 20,
   "metadata": {},
   "outputs": [],
   "source": [
    "df[\"comments_entity\"] = df[\"comments\"].apply(remove_accentuation_lower)"
   ]
  },
  {
   "cell_type": "code",
   "execution_count": 21,
   "metadata": {},
   "outputs": [
    {
     "data": {
      "image/png": "[encoded data removed]",
      "text/plain": [
       "<Figure size 1000x500 with 1 Axes>"
      ]
     },
     "metadata": {},
     "output_type": "display_data"
    }
   ],
   "source": [
    "wordcloud_text = ' '.join(df[\"comments_topic\"].astype(str))\n",
    "\n",
    "wordcloud = WordCloud(width=800, height=400, random_state=15, max_font_size=110, max_words=130, collocations=False).generate(wordcloud_text)\n",
    "\n",
    "plt.figure(figsize=(10, 5))\n",
    "plt.imshow(wordcloud, interpolation=\"bilinear\")\n",
    "plt.axis('off')\n",
    "plt.show()"
   ]
  },
  {
   "cell_type": "code",
   "execution_count": 22,
   "metadata": {},
   "outputs": [
    {
     "data": {
      "text/plain": [
       "['quarto cafe manha predio arquitetura piscina localizacao lado palacio royal opcao restricao sabado hospede drink bar estilo pub',\n",
       " 'royal estadia check costume restaurante sabar acompanhamento batida royal semana',\n",
       " 'vez hotel estrutura problema chuva cafe manha hotel vez recepcao relacao estadia hotel decepcao problema hotel opcao carro estacionamento check carro hotel mala carro manobrista cagada brincadeira funcionario hotel nivel forma porta gerente carro porta amarelo situacao tipo servico atencao cuidado gerente sivanildo caso gerente dia dia dia ligacao sivanildo situacao carro secretario gerente area contato dia terca mensagem empresa empresa servico processo acordo empresa avaliacao hotel decepcao relacao hotel desculpa contato despreparo tipo situacao forma hotel resolucao problema situacao padrao hotel carro cisto erro duvida hospedagem carro mao nota atendimento fato atendimento hotel',\n",
       " 'estadia diaria aniversario casamento reserva hotel transtorno piscina lago pena tamanho estrutura carpete manutencao banheiro tamanho chuveiro escoamento agua caso trinca lasca detalhe manutencao cafe manha qualidade restaurante almoco pub hotel preco estrutura passeio deck hotel passeio academia equipamento renovacao manutencao momento padrao hotel atualizacao uso spa preco atendimento setor hotel vez certeza',\n",
       " 'experiencia hotel palacio localizacao manha almoco hotel transporte ponto passeio tour show funcionario']"
      ]
     },
     "execution_count": 22,
     "metadata": {},
     "output_type": "execute_result"
    }
   ],
   "source": [
    "df_comments = df[\"comments_topic\"]\n",
    "doc_comments = df_comments.to_list()\n",
    "doc_comments[:5]"
   ]
  },
  {
   "cell_type": "code",
   "execution_count": 37,
   "metadata": {},
   "outputs": [
    {
     "name": "stderr",
     "output_type": "stream",
     "text": [
      "2024-04-15 15:00:40,276 - BERTopic - Embedding - Transforming documents to embeddings.\n"
     ]
    },
    {
     "data": {
      "application/vnd.jupyter.widget-view+json": {
       "model_id": "cc798ffce97f43bd84e51b89bd8163d5",
       "version_major": 2,
       "version_minor": 0
      },
      "text/plain": [
       "Batches:   0%|          | 0/65 [00:00<?, ?it/s]"
      ]
     },
     "metadata": {},
     "output_type": "display_data"
    },
    {
     "name": "stderr",
     "output_type": "stream",
     "text": [
      "2024-04-15 15:01:28,139 - BERTopic - Embedding - Completed ✓\n",
      "2024-04-15 15:01:28,140 - BERTopic - Dimensionality - Fitting the dimensionality reduction algorithm\n",
      "2024-04-15 15:01:42,706 - BERTopic - Dimensionality - Completed ✓\n",
      "2024-04-15 15:01:42,706 - BERTopic - Cluster - Start clustering the reduced embeddings\n",
      "2024-04-15 15:01:42,968 - BERTopic - Cluster - Completed ✓\n",
      "2024-04-15 15:01:42,968 - BERTopic - Representation - Extracting topics from clusters using representation models.\n",
      "2024-04-15 15:01:43,067 - BERTopic - Representation - Completed ✓\n",
      "2024-04-15 15:01:43,067 - BERTopic - Topic reduction - Reducing number of topics\n",
      "2024-04-15 15:01:43,169 - BERTopic - Topic reduction - Reduced number of topics from 6 to 6\n"
     ]
    },
    {
     "name": "stdout",
     "output_type": "stream",
     "text": [
      "CPU times: total: 4min 18s\n",
      "Wall time: 1min 3s\n"
     ]
    }
   ],
   "source": [
    "%%time\n",
    "\n",
    "RANDOM_SEED = 42\n",
    "\n",
    "np.random.seed(RANDOM_SEED)\n",
    "\n",
    "umap_model = UMAP(n_neighbors=15, n_components=10, metric='cosine', low_memory=False)\n",
    "hdbscan_model = HDBSCAN(min_samples=15, min_cluster_size=120, metric='euclidean', prediction_data=True)\n",
    "topic_model = BERTopic(language=\"portuguese\", calculate_probabilities=True, verbose=True, nr_topics=\"auto\", top_n_words=10, min_topic_size=100, umap_model=umap_model, hdbscan_model=hdbscan_model)\n",
    "topics, probs = topic_model.fit_transform(doc_comments)"
   ]
  },
  {
   "cell_type": "code",
   "execution_count": 38,
   "metadata": {},
   "outputs": [
    {
     "data": {
      "text/html": [
       "<div>\n",
       "<style scoped>\n",
       "    .dataframe tbody tr th:only-of-type {\n",
       "        vertical-align: middle;\n",
       "    }\n",
       "\n",
       "    .dataframe tbody tr th {\n",
       "        vertical-align: top;\n",
       "    }\n",
       "\n",
       "    .dataframe thead th {\n",
       "        text-align: right;\n",
       "    }\n",
       "</style>\n",
       "<table border=\"1\" class=\"dataframe\">\n",
       "  <thead>\n",
       "    <tr style=\"text-align: right;\">\n",
       "      <th></th>\n",
       "      <th>Topic</th>\n",
       "      <th>Count</th>\n",
       "      <th>Name</th>\n",
       "      <th>Representation</th>\n",
       "      <th>Representative_Docs</th>\n",
       "    </tr>\n",
       "  </thead>\n",
       "  <tbody>\n",
       "    <tr>\n",
       "      <th>0</th>\n",
       "      <td>-1</td>\n",
       "      <td>594</td>\n",
       "      <td>-1_hotel_atendimento_lago_manha</td>\n",
       "      <td>[hotel, atendimento, lago, manha, cafe, quarto...</td>\n",
       "      <td>[hotel lado palacio palacio margem lago arquit...</td>\n",
       "    </tr>\n",
       "    <tr>\n",
       "      <th>1</th>\n",
       "      <td>0</td>\n",
       "      <td>424</td>\n",
       "      <td>0_piscina_hotel_lago_manha</td>\n",
       "      <td>[piscina, hotel, lago, manha, cafe, quarto, at...</td>\n",
       "      <td>[opcao cafe qualidade hotel funcionario restau...</td>\n",
       "    </tr>\n",
       "    <tr>\n",
       "      <th>2</th>\n",
       "      <td>1</td>\n",
       "      <td>369</td>\n",
       "      <td>1_hotel_cafe_manha_atendimento</td>\n",
       "      <td>[hotel, cafe, manha, atendimento, restaurante,...</td>\n",
       "      <td>[valor hotel atendimento cafe manha opcao dia,...</td>\n",
       "    </tr>\n",
       "    <tr>\n",
       "      <th>3</th>\n",
       "      <td>2</td>\n",
       "      <td>239</td>\n",
       "      <td>2_lago_hotel_manha_cafe</td>\n",
       "      <td>[lago, hotel, manha, cafe, atendimento, quarto...</td>\n",
       "      <td>[hotel instalacao atendimento cafe manha quart...</td>\n",
       "    </tr>\n",
       "    <tr>\n",
       "      <th>4</th>\n",
       "      <td>3</td>\n",
       "      <td>232</td>\n",
       "      <td>3_hotel_atendimento_localizacao_funcionario</td>\n",
       "      <td>[hotel, atendimento, localizacao, funcionario,...</td>\n",
       "      <td>[noite hotel experiencia hotel atendimento man...</td>\n",
       "    </tr>\n",
       "    <tr>\n",
       "      <th>5</th>\n",
       "      <td>4</td>\n",
       "      <td>217</td>\n",
       "      <td>4_banheiro_hotel_manha_cafe</td>\n",
       "      <td>[banheiro, hotel, manha, cafe, piscina, lago, ...</td>\n",
       "      <td>[estrutura quarto banheiro hotel funcionario c...</td>\n",
       "    </tr>\n",
       "  </tbody>\n",
       "</table>\n",
       "</div>"
      ],
      "text/plain": [
       "   Topic  Count                                         Name  \\\n",
       "0     -1    594              -1_hotel_atendimento_lago_manha   \n",
       "1      0    424                   0_piscina_hotel_lago_manha   \n",
       "2      1    369               1_hotel_cafe_manha_atendimento   \n",
       "3      2    239                      2_lago_hotel_manha_cafe   \n",
       "4      3    232  3_hotel_atendimento_localizacao_funcionario   \n",
       "5      4    217                  4_banheiro_hotel_manha_cafe   \n",
       "\n",
       "                                      Representation  \\\n",
       "0  [hotel, atendimento, lago, manha, cafe, quarto...   \n",
       "1  [piscina, hotel, lago, manha, cafe, quarto, at...   \n",
       "2  [hotel, cafe, manha, atendimento, restaurante,...   \n",
       "3  [lago, hotel, manha, cafe, atendimento, quarto...   \n",
       "4  [hotel, atendimento, localizacao, funcionario,...   \n",
       "5  [banheiro, hotel, manha, cafe, piscina, lago, ...   \n",
       "\n",
       "                                 Representative_Docs  \n",
       "0  [hotel lado palacio palacio margem lago arquit...  \n",
       "1  [opcao cafe qualidade hotel funcionario restau...  \n",
       "2  [valor hotel atendimento cafe manha opcao dia,...  \n",
       "3  [hotel instalacao atendimento cafe manha quart...  \n",
       "4  [noite hotel experiencia hotel atendimento man...  \n",
       "5  [estrutura quarto banheiro hotel funcionario c...  "
      ]
     },
     "execution_count": 38,
     "metadata": {},
     "output_type": "execute_result"
    }
   ],
   "source": [
    "freq = topic_model.get_topic_info(); freq.head(10)"
   ]
  },
  {
   "cell_type": "code",
   "execution_count": 97,
   "metadata": {},
   "outputs": [
    {
     "data": {
      "text/plain": [
       "[('conforto', 0.2629453744160852),\n",
       " ('massagem', 0.13527064601357286),\n",
       " ('atendimento', 0.09233520364804439),\n",
       " ('hotel', 0.0911875878218706),\n",
       " ('spa', 0.07295787060329804),\n",
       " ('restaurante', 0.06681768722776613),\n",
       " ('qualidade', 0.05630547085883678),\n",
       " ('servico', 0.046217506510984885),\n",
       " ('manha', 0.04568128836777471),\n",
       " ('cafe', 0.0439654236340466)]"
      ]
     },
     "execution_count": 97,
     "metadata": {},
     "output_type": "execute_result"
    }
   ],
   "source": [
    "topic_model.get_topic(4)"
   ]
  },
  {
   "cell_type": "code",
   "execution_count": 39,
   "metadata": {},
   "outputs": [
    {
     "data": {
      "application/vnd.plotly.v1+json": {
       "config": {
        "plotlyServerURL": "https://plot.ly"
       },
       "data": [
        {
         "marker": {
          "color": "#D55E00"
         },
         "orientation": "h",
         "type": "bar",
         "x": [
          0.06187075743680531,
          0.06357042889847034,
          0.06919174520234378,
          0.09804378664600213,
          0.17166351101610053
         ],
         "xaxis": "x",
         "y": [
          "cafe  ",
          "manha  ",
          "lago  ",
          "hotel  ",
          "piscina  "
         ],
         "yaxis": "y"
        },
        {
         "marker": {
          "color": "#0072B2"
         },
         "orientation": "h",
         "type": "bar",
         "x": [
          0.04364566576238945,
          0.05149624931175199,
          0.06124842548542054,
          0.06755510524603013,
          0.08999373620476732
         ],
         "xaxis": "x2",
         "y": [
          "restaurante  ",
          "atendimento  ",
          "manha  ",
          "cafe  ",
          "hotel  "
         ],
         "yaxis": "y2"
        },
        {
         "marker": {
          "color": "#CC79A7"
         },
         "orientation": "h",
         "type": "bar",
         "x": [
          0.06679117911457881,
          0.06709468673382113,
          0.06935141560654998,
          0.10517398323096855,
          0.18085484723912743
         ],
         "xaxis": "x3",
         "y": [
          "atendimento  ",
          "cafe  ",
          "manha  ",
          "hotel  ",
          "lago  "
         ],
         "yaxis": "y3"
        },
        {
         "marker": {
          "color": "#E69F00"
         },
         "orientation": "h",
         "type": "bar",
         "x": [
          0.04095521485415846,
          0.04265051863302421,
          0.043361426549800706,
          0.09644897779045612,
          0.14822183717055598
         ],
         "xaxis": "x4",
         "y": [
          "limpeza  ",
          "funcionario  ",
          "localizacao  ",
          "atendimento  ",
          "hotel  "
         ],
         "yaxis": "y4"
        },
        {
         "marker": {
          "color": "#56B4E9"
         },
         "orientation": "h",
         "type": "bar",
         "x": [
          0.06005636049360538,
          0.06029048632712362,
          0.06781098533243728,
          0.08408997438648572,
          0.1760770423503816
         ],
         "xaxis": "x5",
         "y": [
          "piscina  ",
          "cafe  ",
          "manha  ",
          "hotel  ",
          "banheiro  "
         ],
         "yaxis": "y5"
        }
       ],
       "layout": {
        "annotations": [
         {
          "font": {
           "size": 16
          },
          "showarrow": false,
          "text": "Topic 0",
          "x": 0.0875,
          "xanchor": "center",
          "xref": "paper",
          "y": 1,
          "yanchor": "bottom",
          "yref": "paper"
         },
         {
          "font": {
           "size": 16
          },
          "showarrow": false,
          "text": "Topic 1",
          "x": 0.36250000000000004,
          "xanchor": "center",
          "xref": "paper",
          "y": 1,
          "yanchor": "bottom",
          "yref": "paper"
         },
         {
          "font": {
           "size": 16
          },
          "showarrow": false,
          "text": "Topic 2",
          "x": 0.6375000000000001,
          "xanchor": "center",
          "xref": "paper",
          "y": 1,
          "yanchor": "bottom",
          "yref": "paper"
         },
         {
          "font": {
           "size": 16
          },
          "showarrow": false,
          "text": "Topic 3",
          "x": 0.9125,
          "xanchor": "center",
          "xref": "paper",
          "y": 1,
          "yanchor": "bottom",
          "yref": "paper"
         },
         {
          "font": {
           "size": 16
          },
          "showarrow": false,
          "text": "Topic 4",
          "x": 0.0875,
          "xanchor": "center",
          "xref": "paper",
          "y": 0.4,
          "yanchor": "bottom",
          "yref": "paper"
         }
        ],
        "height": 500,
        "hoverlabel": {
         "bgcolor": "white",
         "font": {
          "family": "Rockwell",
          "size": 16
         }
        },
        "showlegend": false,
        "template": {
         "data": {
          "bar": [
           {
            "error_x": {
             "color": "#2a3f5f"
            },
            "error_y": {
             "color": "#2a3f5f"
            },
            "marker": {
             "line": {
              "color": "white",
              "width": 0.5
             },
             "pattern": {
              "fillmode": "overlay",
              "size": 10,
              "solidity": 0.2
             }
            },
            "type": "bar"
           }
          ],
          "barpolar": [
           {
            "marker": {
             "line": {
              "color": "white",
              "width": 0.5
             },
             "pattern": {
              "fillmode": "overlay",
              "size": 10,
              "solidity": 0.2
             }
            },
            "type": "barpolar"
           }
          ],
          "carpet": [
           {
            "aaxis": {
             "endlinecolor": "#2a3f5f",
             "gridcolor": "#C8D4E3",
             "linecolor": "#C8D4E3",
             "minorgridcolor": "#C8D4E3",
             "startlinecolor": "#2a3f5f"
            },
            "baxis": {
             "endlinecolor": "#2a3f5f",
             "gridcolor": "#C8D4E3",
             "linecolor": "#C8D4E3",
             "minorgridcolor": "#C8D4E3",
             "startlinecolor": "#2a3f5f"
            },
            "type": "carpet"
           }
          ],
          "choropleth": [
           {
            "colorbar": {
             "outlinewidth": 0,
             "ticks": ""
            },
            "type": "choropleth"
           }
          ],
          "contour": [
           {
            "colorbar": {
             "outlinewidth": 0,
             "ticks": ""
            },
            "colorscale": [
             [
              0,
              "#0d0887"
             ],
             [
              0.1111111111111111,
              "#46039f"
             ],
             [
              0.2222222222222222,
              "#7201a8"
             ],
             [
              0.3333333333333333,
              "#9c179e"
             ],
             [
              0.4444444444444444,
              "#bd3786"
             ],
             [
              0.5555555555555556,
              "#d8576b"
             ],
             [
              0.6666666666666666,
              "#ed7953"
             ],
             [
              0.7777777777777778,
              "#fb9f3a"
             ],
             [
              0.8888888888888888,
              "#fdca26"
             ],
             [
              1,
              "#f0f921"
             ]
            ],
            "type": "contour"
           }
          ],
          "contourcarpet": [
           {
            "colorbar": {
             "outlinewidth": 0,
             "ticks": ""
            },
            "type": "contourcarpet"
           }
          ],
          "heatmap": [
           {
            "colorbar": {
             "outlinewidth": 0,
             "ticks": ""
            },
            "colorscale": [
             [
              0,
              "#0d0887"
             ],
             [
              0.1111111111111111,
              "#46039f"
             ],
             [
              0.2222222222222222,
              "#7201a8"
             ],
             [
              0.3333333333333333,
              "#9c179e"
             ],
             [
              0.4444444444444444,
              "#bd3786"
             ],
             [
              0.5555555555555556,
              "#d8576b"
             ],
             [
              0.6666666666666666,
              "#ed7953"
             ],
             [
              0.7777777777777778,
              "#fb9f3a"
             ],
             [
              0.8888888888888888,
              "#fdca26"
             ],
             [
              1,
              "#f0f921"
             ]
            ],
            "type": "heatmap"
           }
          ],
          "heatmapgl": [
           {
            "colorbar": {
             "outlinewidth": 0,
             "ticks": ""
            },
            "colorscale": [
             [
              0,
              "#0d0887"
             ],
             [
              0.1111111111111111,
              "#46039f"
             ],
             [
              0.2222222222222222,
              "#7201a8"
             ],
             [
              0.3333333333333333,
              "#9c179e"
             ],
             [
              0.4444444444444444,
              "#bd3786"
             ],
             [
              0.5555555555555556,
              "#d8576b"
             ],
             [
              0.6666666666666666,
              "#ed7953"
             ],
             [
              0.7777777777777778,
              "#fb9f3a"
             ],
             [
              0.8888888888888888,
              "#fdca26"
             ],
             [
              1,
              "#f0f921"
             ]
            ],
            "type": "heatmapgl"
           }
          ],
          "histogram": [
           {
            "marker": {
             "pattern": {
              "fillmode": "overlay",
              "size": 10,
              "solidity": 0.2
             }
            },
            "type": "histogram"
           }
          ],
          "histogram2d": [
           {
            "colorbar": {
             "outlinewidth": 0,
             "ticks": ""
            },
            "colorscale": [
             [
              0,
              "#0d0887"
             ],
             [
              0.1111111111111111,
              "#46039f"
             ],
             [
              0.2222222222222222,
              "#7201a8"
             ],
             [
              0.3333333333333333,
              "#9c179e"
             ],
             [
              0.4444444444444444,
              "#bd3786"
             ],
             [
              0.5555555555555556,
              "#d8576b"
             ],
             [
              0.6666666666666666,
              "#ed7953"
             ],
             [
              0.7777777777777778,
              "#fb9f3a"
             ],
             [
              0.8888888888888888,
              "#fdca26"
             ],
             [
              1,
              "#f0f921"
             ]
            ],
            "type": "histogram2d"
           }
          ],
          "histogram2dcontour": [
           {
            "colorbar": {
             "outlinewidth": 0,
             "ticks": ""
            },
            "colorscale": [
             [
              0,
              "#0d0887"
             ],
             [
              0.1111111111111111,
              "#46039f"
             ],
             [
              0.2222222222222222,
              "#7201a8"
             ],
             [
              0.3333333333333333,
              "#9c179e"
             ],
             [
              0.4444444444444444,
              "#bd3786"
             ],
             [
              0.5555555555555556,
              "#d8576b"
             ],
             [
              0.6666666666666666,
              "#ed7953"
             ],
             [
              0.7777777777777778,
              "#fb9f3a"
             ],
             [
              0.8888888888888888,
              "#fdca26"
             ],
             [
              1,
              "#f0f921"
             ]
            ],
            "type": "histogram2dcontour"
           }
          ],
          "mesh3d": [
           {
            "colorbar": {
             "outlinewidth": 0,
             "ticks": ""
            },
            "type": "mesh3d"
           }
          ],
          "parcoords": [
           {
            "line": {
             "colorbar": {
              "outlinewidth": 0,
              "ticks": ""
             }
            },
            "type": "parcoords"
           }
          ],
          "pie": [
           {
            "automargin": true,
            "type": "pie"
           }
          ],
          "scatter": [
           {
            "fillpattern": {
             "fillmode": "overlay",
             "size": 10,
             "solidity": 0.2
            },
            "type": "scatter"
           }
          ],
          "scatter3d": [
           {
            "line": {
             "colorbar": {
              "outlinewidth": 0,
              "ticks": ""
             }
            },
            "marker": {
             "colorbar": {
              "outlinewidth": 0,
              "ticks": ""
             }
            },
            "type": "scatter3d"
           }
          ],
          "scattercarpet": [
           {
            "marker": {
             "colorbar": {
              "outlinewidth": 0,
              "ticks": ""
             }
            },
            "type": "scattercarpet"
           }
          ],
          "scattergeo": [
           {
            "marker": {
             "colorbar": {
              "outlinewidth": 0,
              "ticks": ""
             }
            },
            "type": "scattergeo"
           }
          ],
          "scattergl": [
           {
            "marker": {
             "colorbar": {
              "outlinewidth": 0,
              "ticks": ""
             }
            },
            "type": "scattergl"
           }
          ],
          "scattermapbox": [
           {
            "marker": {
             "colorbar": {
              "outlinewidth": 0,
              "ticks": ""
             }
            },
            "type": "scattermapbox"
           }
          ],
          "scatterpolar": [
           {
            "marker": {
             "colorbar": {
              "outlinewidth": 0,
              "ticks": ""
             }
            },
            "type": "scatterpolar"
           }
          ],
          "scatterpolargl": [
           {
            "marker": {
             "colorbar": {
              "outlinewidth": 0,
              "ticks": ""
             }
            },
            "type": "scatterpolargl"
           }
          ],
          "scatterternary": [
           {
            "marker": {
             "colorbar": {
              "outlinewidth": 0,
              "ticks": ""
             }
            },
            "type": "scatterternary"
           }
          ],
          "surface": [
           {
            "colorbar": {
             "outlinewidth": 0,
             "ticks": ""
            },
            "colorscale": [
             [
              0,
              "#0d0887"
             ],
             [
              0.1111111111111111,
              "#46039f"
             ],
             [
              0.2222222222222222,
              "#7201a8"
             ],
             [
              0.3333333333333333,
              "#9c179e"
             ],
             [
              0.4444444444444444,
              "#bd3786"
             ],
             [
              0.5555555555555556,
              "#d8576b"
             ],
             [
              0.6666666666666666,
              "#ed7953"
             ],
             [
              0.7777777777777778,
              "#fb9f3a"
             ],
             [
              0.8888888888888888,
              "#fdca26"
             ],
             [
              1,
              "#f0f921"
             ]
            ],
            "type": "surface"
           }
          ],
          "table": [
           {
            "cells": {
             "fill": {
              "color": "#EBF0F8"
             },
             "line": {
              "color": "white"
             }
            },
            "header": {
             "fill": {
              "color": "#C8D4E3"
             },
             "line": {
              "color": "white"
             }
            },
            "type": "table"
           }
          ]
         },
         "layout": {
          "annotationdefaults": {
           "arrowcolor": "#2a3f5f",
           "arrowhead": 0,
           "arrowwidth": 1
          },
          "autotypenumbers": "strict",
          "coloraxis": {
           "colorbar": {
            "outlinewidth": 0,
            "ticks": ""
           }
          },
          "colorscale": {
           "diverging": [
            [
             0,
             "#8e0152"
            ],
            [
             0.1,
             "#c51b7d"
            ],
            [
             0.2,
             "#de77ae"
            ],
            [
             0.3,
             "#f1b6da"
            ],
            [
             0.4,
             "#fde0ef"
            ],
            [
             0.5,
             "#f7f7f7"
            ],
            [
             0.6,
             "#e6f5d0"
            ],
            [
             0.7,
             "#b8e186"
            ],
            [
             0.8,
             "#7fbc41"
            ],
            [
             0.9,
             "#4d9221"
            ],
            [
             1,
             "#276419"
            ]
           ],
           "sequential": [
            [
             0,
             "#0d0887"
            ],
            [
             0.1111111111111111,
             "#46039f"
            ],
            [
             0.2222222222222222,
             "#7201a8"
            ],
            [
             0.3333333333333333,
             "#9c179e"
            ],
            [
             0.4444444444444444,
             "#bd3786"
            ],
            [
             0.5555555555555556,
             "#d8576b"
            ],
            [
             0.6666666666666666,
             "#ed7953"
            ],
            [
             0.7777777777777778,
             "#fb9f3a"
            ],
            [
             0.8888888888888888,
             "#fdca26"
            ],
            [
             1,
             "#f0f921"
            ]
           ],
           "sequentialminus": [
            [
             0,
             "#0d0887"
            ],
            [
             0.1111111111111111,
             "#46039f"
            ],
            [
             0.2222222222222222,
             "#7201a8"
            ],
            [
             0.3333333333333333,
             "#9c179e"
            ],
            [
             0.4444444444444444,
             "#bd3786"
            ],
            [
             0.5555555555555556,
             "#d8576b"
            ],
            [
             0.6666666666666666,
             "#ed7953"
            ],
            [
             0.7777777777777778,
             "#fb9f3a"
            ],
            [
             0.8888888888888888,
             "#fdca26"
            ],
            [
             1,
             "#f0f921"
            ]
           ]
          },
          "colorway": [
           "#636efa",
           "#EF553B",
           "#00cc96",
           "#ab63fa",
           "#FFA15A",
           "#19d3f3",
           "#FF6692",
           "#B6E880",
           "#FF97FF",
           "#FECB52"
          ],
          "font": {
           "color": "#2a3f5f"
          },
          "geo": {
           "bgcolor": "white",
           "lakecolor": "white",
           "landcolor": "white",
           "showlakes": true,
           "showland": true,
           "subunitcolor": "#C8D4E3"
          },
          "hoverlabel": {
           "align": "left"
          },
          "hovermode": "closest",
          "mapbox": {
           "style": "light"
          },
          "paper_bgcolor": "white",
          "plot_bgcolor": "white",
          "polar": {
           "angularaxis": {
            "gridcolor": "#EBF0F8",
            "linecolor": "#EBF0F8",
            "ticks": ""
           },
           "bgcolor": "white",
           "radialaxis": {
            "gridcolor": "#EBF0F8",
            "linecolor": "#EBF0F8",
            "ticks": ""
           }
          },
          "scene": {
           "xaxis": {
            "backgroundcolor": "white",
            "gridcolor": "#DFE8F3",
            "gridwidth": 2,
            "linecolor": "#EBF0F8",
            "showbackground": true,
            "ticks": "",
            "zerolinecolor": "#EBF0F8"
           },
           "yaxis": {
            "backgroundcolor": "white",
            "gridcolor": "#DFE8F3",
            "gridwidth": 2,
            "linecolor": "#EBF0F8",
            "showbackground": true,
            "ticks": "",
            "zerolinecolor": "#EBF0F8"
           },
           "zaxis": {
            "backgroundcolor": "white",
            "gridcolor": "#DFE8F3",
            "gridwidth": 2,
            "linecolor": "#EBF0F8",
            "showbackground": true,
            "ticks": "",
            "zerolinecolor": "#EBF0F8"
           }
          },
          "shapedefaults": {
           "line": {
            "color": "#2a3f5f"
           }
          },
          "ternary": {
           "aaxis": {
            "gridcolor": "#DFE8F3",
            "linecolor": "#A2B1C6",
            "ticks": ""
           },
           "baxis": {
            "gridcolor": "#DFE8F3",
            "linecolor": "#A2B1C6",
            "ticks": ""
           },
           "bgcolor": "white",
           "caxis": {
            "gridcolor": "#DFE8F3",
            "linecolor": "#A2B1C6",
            "ticks": ""
           }
          },
          "title": {
           "x": 0.05
          },
          "xaxis": {
           "automargin": true,
           "gridcolor": "#EBF0F8",
           "linecolor": "#EBF0F8",
           "ticks": "",
           "title": {
            "standoff": 15
           },
           "zerolinecolor": "#EBF0F8",
           "zerolinewidth": 2
          },
          "yaxis": {
           "automargin": true,
           "gridcolor": "#EBF0F8",
           "linecolor": "#EBF0F8",
           "ticks": "",
           "title": {
            "standoff": 15
           },
           "zerolinecolor": "#EBF0F8",
           "zerolinewidth": 2
          }
         }
        },
        "title": {
         "font": {
          "color": "Black",
          "size": 22
         },
         "text": "Topic Word Scores",
         "x": 0.5,
         "xanchor": "center",
         "yanchor": "top"
        },
        "width": 1000,
        "xaxis": {
         "anchor": "y",
         "domain": [
          0,
          0.175
         ],
         "showgrid": true
        },
        "xaxis2": {
         "anchor": "y2",
         "domain": [
          0.275,
          0.45
         ],
         "showgrid": true
        },
        "xaxis3": {
         "anchor": "y3",
         "domain": [
          0.55,
          0.7250000000000001
         ],
         "showgrid": true
        },
        "xaxis4": {
         "anchor": "y4",
         "domain": [
          0.825,
          1
         ],
         "showgrid": true
        },
        "xaxis5": {
         "anchor": "y5",
         "domain": [
          0,
          0.175
         ],
         "showgrid": true
        },
        "xaxis6": {
         "anchor": "y6",
         "domain": [
          0.275,
          0.45
         ],
         "showgrid": true
        },
        "xaxis7": {
         "anchor": "y7",
         "domain": [
          0.55,
          0.7250000000000001
         ],
         "showgrid": true
        },
        "xaxis8": {
         "anchor": "y8",
         "domain": [
          0.825,
          1
         ],
         "showgrid": true
        },
        "yaxis": {
         "anchor": "x",
         "domain": [
          0.6000000000000001,
          1
         ],
         "showgrid": true
        },
        "yaxis2": {
         "anchor": "x2",
         "domain": [
          0.6000000000000001,
          1
         ],
         "showgrid": true
        },
        "yaxis3": {
         "anchor": "x3",
         "domain": [
          0.6000000000000001,
          1
         ],
         "showgrid": true
        },
        "yaxis4": {
         "anchor": "x4",
         "domain": [
          0.6000000000000001,
          1
         ],
         "showgrid": true
        },
        "yaxis5": {
         "anchor": "x5",
         "domain": [
          0,
          0.4
         ],
         "showgrid": true
        },
        "yaxis6": {
         "anchor": "x6",
         "domain": [
          0,
          0.4
         ],
         "showgrid": true
        },
        "yaxis7": {
         "anchor": "x7",
         "domain": [
          0,
          0.4
         ],
         "showgrid": true
        },
        "yaxis8": {
         "anchor": "x8",
         "domain": [
          0,
          0.4
         ],
         "showgrid": true
        }
       }
      }
     },
     "metadata": {},
     "output_type": "display_data"
    }
   ],
   "source": [
    "topic_model.visualize_barchart(top_n_topics=10)"
   ]
  },
  {
   "cell_type": "code",
   "execution_count": 74,
   "metadata": {},
   "outputs": [],
   "source": [
    "df_topics = topic_model.get_document_info(doc_comments)\n",
    "df_info = df.copy()\n",
    "df_info = df_info.drop(columns=['comments_topic'], axis=1, inplace=False)\n",
    "df_info[\"topic\"] = df_topics[\"Topic\"]"
   ]
  },
  {
   "cell_type": "code",
   "execution_count": 75,
   "metadata": {},
   "outputs": [
    {
     "data": {
      "text/html": [
       "<div>\n",
       "<style scoped>\n",
       "    .dataframe tbody tr th:only-of-type {\n",
       "        vertical-align: middle;\n",
       "    }\n",
       "\n",
       "    .dataframe tbody tr th {\n",
       "        vertical-align: top;\n",
       "    }\n",
       "\n",
       "    .dataframe thead th {\n",
       "        text-align: right;\n",
       "    }\n",
       "</style>\n",
       "<table border=\"1\" class=\"dataframe\">\n",
       "  <thead>\n",
       "    <tr style=\"text-align: right;\">\n",
       "      <th></th>\n",
       "      <th>comments</th>\n",
       "      <th>comments_entity</th>\n",
       "      <th>topic</th>\n",
       "    </tr>\n",
       "  </thead>\n",
       "  <tbody>\n",
       "    <tr>\n",
       "      <th>0</th>\n",
       "      <td>Uma vez a cada dois meses eu e meu marido vamo...</td>\n",
       "      <td>uma vez a cada dois meses eu e meu marido vamo...</td>\n",
       "      <td>1</td>\n",
       "    </tr>\n",
       "    <tr>\n",
       "      <th>1</th>\n",
       "      <td>Hotel de excelente qualidade. Quarto amplo e m...</td>\n",
       "      <td>hotel de excelente qualidade. quarto amplo e m...</td>\n",
       "      <td>2</td>\n",
       "    </tr>\n",
       "    <tr>\n",
       "      <th>2</th>\n",
       "      <td>Um Hotel elegante, charmoso, aconchegante, com...</td>\n",
       "      <td>um hotel elegante, charmoso, aconchegante, com...</td>\n",
       "      <td>3</td>\n",
       "    </tr>\n",
       "    <tr>\n",
       "      <th>3</th>\n",
       "      <td>Ótima opção para um brunch de domingo à tarde....</td>\n",
       "      <td>otima opcao para um brunch de domingo a tarde....</td>\n",
       "      <td>0</td>\n",
       "    </tr>\n",
       "    <tr>\n",
       "      <th>4</th>\n",
       "      <td>Muito obrigado pela atenção dispensada e fique...</td>\n",
       "      <td>muito obrigado pela atencao dispensada e fique...</td>\n",
       "      <td>-1</td>\n",
       "    </tr>\n",
       "  </tbody>\n",
       "</table>\n",
       "</div>"
      ],
      "text/plain": [
       "                                            comments  \\\n",
       "0  Uma vez a cada dois meses eu e meu marido vamo...   \n",
       "1  Hotel de excelente qualidade. Quarto amplo e m...   \n",
       "2  Um Hotel elegante, charmoso, aconchegante, com...   \n",
       "3  Ótima opção para um brunch de domingo à tarde....   \n",
       "4  Muito obrigado pela atenção dispensada e fique...   \n",
       "\n",
       "                                     comments_entity  topic  \n",
       "0  uma vez a cada dois meses eu e meu marido vamo...      1  \n",
       "1  hotel de excelente qualidade. quarto amplo e m...      2  \n",
       "2  um hotel elegante, charmoso, aconchegante, com...      3  \n",
       "3  otima opcao para um brunch de domingo a tarde....      0  \n",
       "4  muito obrigado pela atencao dispensada e fique...     -1  "
      ]
     },
     "execution_count": 75,
     "metadata": {},
     "output_type": "execute_result"
    }
   ],
   "source": [
    "df_info.head()"
   ]
  },
  {
   "cell_type": "code",
   "execution_count": 76,
   "metadata": {},
   "outputs": [],
   "source": [
    "PRE_TRAINED_MODEL_NAME = 'neuralmind/bert-base-portuguese-cased'\n",
    "class_names = ['negative', 'neutral', 'positive']\n",
    "\n",
    "class SentimentClassifier(nn.Module):\n",
    "\n",
    "    def __init__(self, n_classes):\n",
    "        super(SentimentClassifier, self).__init__()\n",
    "        self.bert = BertModel.from_pretrained(PRE_TRAINED_MODEL_NAME, return_dict=False)\n",
    "        self.drop = nn.Dropout(p=0.3)\n",
    "        self.out = nn.Linear(self.bert.config.hidden_size, n_classes)\n",
    "\n",
    "    def forward(self, input_ids, attention_mask):\n",
    "        _, pooled_output = self.bert(\n",
    "            input_ids=input_ids,\n",
    "            attention_mask=attention_mask\n",
    "        )\n",
    "        output = self.drop(pooled_output)\n",
    "        return self.out(output)"
   ]
  },
  {
   "cell_type": "code",
   "execution_count": 77,
   "metadata": {},
   "outputs": [],
   "source": [
    "model = SentimentClassifier(len(class_names))\n",
    "model.load_state_dict(torch.load('best_model_state.bin', map_location ='cpu'))\n",
    "model = model.to(torch.device('cpu'))"
   ]
  },
  {
   "cell_type": "code",
   "execution_count": 78,
   "metadata": {},
   "outputs": [],
   "source": [
    "MAX_LEN = 175\n",
    "RANDOM_SEED = 42\n",
    "\n",
    "np.random.seed(RANDOM_SEED)\n",
    "torch.manual_seed(RANDOM_SEED)\n",
    "\n",
    "tokenizer = BertTokenizer.from_pretrained(PRE_TRAINED_MODEL_NAME)\n",
    "\n",
    "def predict_sentiment(text):\n",
    "    encoded_review = tokenizer.encode_plus(\n",
    "        text,\n",
    "        max_length=MAX_LEN,\n",
    "        add_special_tokens=True,\n",
    "        return_token_type_ids=False,\n",
    "        pad_to_max_length=True,\n",
    "        return_attention_mask=True,\n",
    "        return_tensors='pt',\n",
    "    )\n",
    "\n",
    "    input_ids = encoded_review['input_ids'].to(\"cpu\")\n",
    "    attention_mask = encoded_review['attention_mask'].to(\"cpu\")\n",
    "\n",
    "    with torch.no_grad():\n",
    "        output = model(input_ids, attention_mask)\n",
    "\n",
    "    _, prediction = torch.max(output, dim=1)\n",
    "    \n",
    "    return class_names[prediction]"
   ]
  },
  {
   "cell_type": "markdown",
   "metadata": {},
   "source": [
    "Demorou 15 minutos."
   ]
  },
  {
   "cell_type": "code",
   "execution_count": 79,
   "metadata": {},
   "outputs": [
    {
     "name": "stderr",
     "output_type": "stream",
     "text": [
      "Truncation was not explicitly activated but `max_length` is provided a specific value, please use `truncation=True` to explicitly truncate examples to max length. Defaulting to 'longest_first' truncation strategy. If you encode pairs of sequences (GLUE-style) with the tokenizer you can select this strategy more precisely by providing a specific strategy to `truncation`.\n"
     ]
    }
   ],
   "source": [
    "df_info[\"sentiment\"] = df_info[\"comments\"].apply(predict_sentiment)"
   ]
  },
  {
   "cell_type": "code",
   "execution_count": 80,
   "metadata": {},
   "outputs": [],
   "source": [
    "sentiment_counts = df_info.groupby(['topic', 'sentiment']).size().reset_index(name='count')"
   ]
  },
  {
   "cell_type": "code",
   "execution_count": 81,
   "metadata": {},
   "outputs": [
    {
     "data": {
      "text/html": [
       "<div>\n",
       "<style scoped>\n",
       "    .dataframe tbody tr th:only-of-type {\n",
       "        vertical-align: middle;\n",
       "    }\n",
       "\n",
       "    .dataframe tbody tr th {\n",
       "        vertical-align: top;\n",
       "    }\n",
       "\n",
       "    .dataframe thead th {\n",
       "        text-align: right;\n",
       "    }\n",
       "</style>\n",
       "<table border=\"1\" class=\"dataframe\">\n",
       "  <thead>\n",
       "    <tr style=\"text-align: right;\">\n",
       "      <th></th>\n",
       "      <th>topic</th>\n",
       "      <th>sentiment</th>\n",
       "      <th>count</th>\n",
       "    </tr>\n",
       "  </thead>\n",
       "  <tbody>\n",
       "    <tr>\n",
       "      <th>0</th>\n",
       "      <td>-1</td>\n",
       "      <td>negative</td>\n",
       "      <td>24</td>\n",
       "    </tr>\n",
       "    <tr>\n",
       "      <th>1</th>\n",
       "      <td>-1</td>\n",
       "      <td>neutral</td>\n",
       "      <td>23</td>\n",
       "    </tr>\n",
       "    <tr>\n",
       "      <th>2</th>\n",
       "      <td>-1</td>\n",
       "      <td>positive</td>\n",
       "      <td>536</td>\n",
       "    </tr>\n",
       "    <tr>\n",
       "      <th>3</th>\n",
       "      <td>0</td>\n",
       "      <td>negative</td>\n",
       "      <td>39</td>\n",
       "    </tr>\n",
       "    <tr>\n",
       "      <th>4</th>\n",
       "      <td>0</td>\n",
       "      <td>neutral</td>\n",
       "      <td>40</td>\n",
       "    </tr>\n",
       "    <tr>\n",
       "      <th>5</th>\n",
       "      <td>0</td>\n",
       "      <td>positive</td>\n",
       "      <td>805</td>\n",
       "    </tr>\n",
       "    <tr>\n",
       "      <th>6</th>\n",
       "      <td>1</td>\n",
       "      <td>negative</td>\n",
       "      <td>20</td>\n",
       "    </tr>\n",
       "    <tr>\n",
       "      <th>7</th>\n",
       "      <td>1</td>\n",
       "      <td>neutral</td>\n",
       "      <td>22</td>\n",
       "    </tr>\n",
       "    <tr>\n",
       "      <th>8</th>\n",
       "      <td>1</td>\n",
       "      <td>positive</td>\n",
       "      <td>528</td>\n",
       "    </tr>\n",
       "    <tr>\n",
       "      <th>9</th>\n",
       "      <td>2</td>\n",
       "      <td>negative</td>\n",
       "      <td>7</td>\n",
       "    </tr>\n",
       "    <tr>\n",
       "      <th>10</th>\n",
       "      <td>2</td>\n",
       "      <td>neutral</td>\n",
       "      <td>8</td>\n",
       "    </tr>\n",
       "    <tr>\n",
       "      <th>11</th>\n",
       "      <td>2</td>\n",
       "      <td>positive</td>\n",
       "      <td>330</td>\n",
       "    </tr>\n",
       "    <tr>\n",
       "      <th>12</th>\n",
       "      <td>3</td>\n",
       "      <td>negative</td>\n",
       "      <td>5</td>\n",
       "    </tr>\n",
       "    <tr>\n",
       "      <th>13</th>\n",
       "      <td>3</td>\n",
       "      <td>neutral</td>\n",
       "      <td>3</td>\n",
       "    </tr>\n",
       "    <tr>\n",
       "      <th>14</th>\n",
       "      <td>3</td>\n",
       "      <td>positive</td>\n",
       "      <td>150</td>\n",
       "    </tr>\n",
       "    <tr>\n",
       "      <th>15</th>\n",
       "      <td>4</td>\n",
       "      <td>positive</td>\n",
       "      <td>83</td>\n",
       "    </tr>\n",
       "  </tbody>\n",
       "</table>\n",
       "</div>"
      ],
      "text/plain": [
       "    topic sentiment  count\n",
       "0      -1  negative     24\n",
       "1      -1   neutral     23\n",
       "2      -1  positive    536\n",
       "3       0  negative     39\n",
       "4       0   neutral     40\n",
       "5       0  positive    805\n",
       "6       1  negative     20\n",
       "7       1   neutral     22\n",
       "8       1  positive    528\n",
       "9       2  negative      7\n",
       "10      2   neutral      8\n",
       "11      2  positive    330\n",
       "12      3  negative      5\n",
       "13      3   neutral      3\n",
       "14      3  positive    150\n",
       "15      4  positive     83"
      ]
     },
     "execution_count": 81,
     "metadata": {},
     "output_type": "execute_result"
    }
   ],
   "source": [
    "sentiment_counts"
   ]
  },
  {
   "cell_type": "code",
   "execution_count": 100,
   "metadata": {},
   "outputs": [
    {
     "data": {
      "text/html": [
       "<div>\n",
       "<style scoped>\n",
       "    .dataframe tbody tr th:only-of-type {\n",
       "        vertical-align: middle;\n",
       "    }\n",
       "\n",
       "    .dataframe tbody tr th {\n",
       "        vertical-align: top;\n",
       "    }\n",
       "\n",
       "    .dataframe thead th {\n",
       "        text-align: right;\n",
       "    }\n",
       "</style>\n",
       "<table border=\"1\" class=\"dataframe\">\n",
       "  <thead>\n",
       "    <tr style=\"text-align: right;\">\n",
       "      <th></th>\n",
       "      <th>topic</th>\n",
       "      <th>sentiment</th>\n",
       "      <th>count</th>\n",
       "    </tr>\n",
       "  </thead>\n",
       "  <tbody>\n",
       "    <tr>\n",
       "      <th>15</th>\n",
       "      <td>4</td>\n",
       "      <td>positive</td>\n",
       "      <td>83</td>\n",
       "    </tr>\n",
       "  </tbody>\n",
       "</table>\n",
       "</div>"
      ],
      "text/plain": [
       "    topic sentiment  count\n",
       "15      4  positive     83"
      ]
     },
     "execution_count": 100,
     "metadata": {},
     "output_type": "execute_result"
    }
   ],
   "source": [
    "sentiment_counts_filt = sentiment_counts.loc[sentiment_counts['topic'] == 4]\n",
    "sentiment_counts_filt"
   ]
  },
  {
   "cell_type": "code",
   "execution_count": 82,
   "metadata": {},
   "outputs": [
    {
     "name": "stderr",
     "output_type": "stream",
     "text": [
      "Some weights of the model checkpoint at 51la5/roberta-large-NER were not used when initializing XLMRobertaForTokenClassification: ['roberta.pooler.dense.bias', 'roberta.pooler.dense.weight']\n",
      "- This IS expected if you are initializing XLMRobertaForTokenClassification from the checkpoint of a model trained on another task or with another architecture (e.g. initializing a BertForSequenceClassification model from a BertForPreTraining model).\n",
      "- This IS NOT expected if you are initializing XLMRobertaForTokenClassification from the checkpoint of a model that you expect to be exactly identical (initializing a BertForSequenceClassification model from a BertForSequenceClassification model).\n"
     ]
    }
   ],
   "source": [
    "MAX_LEN = 175\n",
    "RANDOM_SEED = 42\n",
    "\n",
    "np.random.seed(RANDOM_SEED)\n",
    "\n",
    "tokenizer_ner = AutoTokenizer.from_pretrained(\"51la5/roberta-large-NER\", model_max_length=512)\n",
    "model_ner = XLMRobertaForTokenClassification.from_pretrained(\"51la5/roberta-large-NER\")\n",
    "ner_task = pipeline(\"ner\", model=model_ner, tokenizer=tokenizer_ner)"
   ]
  },
  {
   "cell_type": "code",
   "execution_count": 83,
   "metadata": {},
   "outputs": [],
   "source": [
    "def extract_entities(df):\n",
    "    all_entities = []\n",
    "\n",
    "    for comment in df[\"comments_entity\"]:\n",
    "        predictions = ner_task(comment)\n",
    "        comment_entities = []\n",
    "\n",
    "        if predictions != []:\n",
    "            combined_word = \"\"\n",
    "            previous_entity = None\n",
    "\n",
    "            for prediction in predictions:\n",
    "                entity = prediction['entity']\n",
    "                word = prediction['word']\n",
    "\n",
    "                if not word.startswith('▁'):\n",
    "                    combined_word += word\n",
    "                else:\n",
    "                    if combined_word:\n",
    "                        comment_entities.append((combined_word, previous_entity))\n",
    "                    combined_word = word\n",
    "\n",
    "                previous_entity = entity\n",
    "\n",
    "            if combined_word:\n",
    "                comment_entities.append((combined_word, previous_entity))\n",
    "\n",
    "        all_entities.append(comment_entities)\n",
    "\n",
    "    df_copy = df.copy()\n",
    "    df_copy[\"entity\"] = all_entities\n",
    "\n",
    "    return df_copy"
   ]
  },
  {
   "cell_type": "code",
   "execution_count": 84,
   "metadata": {},
   "outputs": [],
   "source": [
    "df_ner = df_info.copy()\n",
    "df_ner[\"entity\"] = \"\""
   ]
  },
  {
   "cell_type": "markdown",
   "metadata": {},
   "source": [
    "Demorou 1 hora."
   ]
  },
  {
   "cell_type": "code",
   "execution_count": 85,
   "metadata": {},
   "outputs": [],
   "source": [
    "df_ner = extract_entities(df_ner)"
   ]
  },
  {
   "cell_type": "code",
   "execution_count": 86,
   "metadata": {},
   "outputs": [
    {
     "data": {
      "text/plain": [
       "entity\n",
       "(▁sao, I-LOC)         605\n",
       "(▁paulo, I-LOC)       587\n",
       "(▁sp, I-LOC)          169\n",
       "(▁grand, I-ORG)       163\n",
       "(▁hyatt, I-ORG)       150\n",
       "                     ... \n",
       "(▁mariane, I-PER)       1\n",
       "(▁sou, I-PER)           1\n",
       "(▁veronica, I-PER)      1\n",
       "(▁rabello, I-PER)       1\n",
       "(▁nano, I-MISC)         1\n",
       "Name: count, Length: 512, dtype: int64"
      ]
     },
     "execution_count": 86,
     "metadata": {},
     "output_type": "execute_result"
    }
   ],
   "source": [
    "count_unique = df_ner['entity'].explode().value_counts()\n",
    "count_unique"
   ]
  },
  {
   "cell_type": "code",
   "execution_count": 87,
   "metadata": {},
   "outputs": [],
   "source": [
    "count_unique.to_csv(\"entity_hyatt.txt\")"
   ]
  },
  {
   "cell_type": "code",
   "execution_count": 122,
   "metadata": {},
   "outputs": [],
   "source": [
    "def most_frequent_entity_per_topic(df):\n",
    "    entity_per_topic = {'topic': [], 'entity_most_frequent': [], 'frequency_entity': []}\n",
    "\n",
    "    groups = df.groupby('topic')\n",
    "\n",
    "    for group_name, group_data in groups:\n",
    "        entity_count = {}\n",
    "\n",
    "        for index, row in group_data.iterrows():\n",
    "            for entity_token in row['entity']:\n",
    "                entity = entity_token[0]\n",
    "                entity_count[entity] = entity_count.get(entity, 0) + 1\n",
    "\n",
    "        most_frequent_entities = sorted(entity_count, key=entity_count.get, reverse=True)[:50]\n",
    "        frequencies = [entity_count[entity] for entity in most_frequent_entities]\n",
    "\n",
    "        entities_string = ', '.join(most_frequent_entities)\n",
    "        frequencies_string = ', '.join(map(str, frequencies))\n",
    "\n",
    "        entity_per_topic['topic'].append(group_name)\n",
    "        entity_per_topic['entity_most_frequent'].append(entities_string)\n",
    "        entity_per_topic['frequency_entity'].append(frequencies_string)\n",
    "\n",
    "    df_most_frequent_entity = pd.DataFrame(entity_per_topic)\n",
    "\n",
    "    return df_most_frequent_entity\n"
   ]
  },
  {
   "cell_type": "code",
   "execution_count": 139,
   "metadata": {},
   "outputs": [],
   "source": [
    "df_entity_most_frequent['entity_most_frequent'] = df_entity_most_frequent['entity_most_frequent'].str.replace('▁', '')"
   ]
  },
  {
   "cell_type": "code",
   "execution_count": 140,
   "metadata": {},
   "outputs": [
    {
     "data": {
      "text/html": [
       "<div>\n",
       "<style scoped>\n",
       "    .dataframe tbody tr th:only-of-type {\n",
       "        vertical-align: middle;\n",
       "    }\n",
       "\n",
       "    .dataframe tbody tr th {\n",
       "        vertical-align: top;\n",
       "    }\n",
       "\n",
       "    .dataframe thead th {\n",
       "        text-align: right;\n",
       "    }\n",
       "</style>\n",
       "<table border=\"1\" class=\"dataframe\">\n",
       "  <thead>\n",
       "    <tr style=\"text-align: right;\">\n",
       "      <th></th>\n",
       "      <th>topic</th>\n",
       "      <th>entity_most_frequent</th>\n",
       "      <th>frequency_entity</th>\n",
       "    </tr>\n",
       "  </thead>\n",
       "  <tbody>\n",
       "    <tr>\n",
       "      <th>0</th>\n",
       "      <td>-1</td>\n",
       "      <td>▁sao, ▁paulo, ▁sp, ▁grand, ▁hyatt, ▁morumbi, ▁...</td>\n",
       "      <td>119, 118, 46, 33, 31, 23, 18, 10, 9, 9, 8, 8, ...</td>\n",
       "    </tr>\n",
       "    <tr>\n",
       "      <th>1</th>\n",
       "      <td>0</td>\n",
       "      <td>▁sao, ▁paulo, ▁grand, ▁sp, ▁hyatt, ▁morumbi, ▁...</td>\n",
       "      <td>220, 210, 61, 50, 48, 38, 32, 24, 23, 16, 10, ...</td>\n",
       "    </tr>\n",
       "    <tr>\n",
       "      <th>2</th>\n",
       "      <td>1</td>\n",
       "      <td>▁sao, ▁paulo, ▁hyatt, ▁sp, ▁grand, ▁morumbi, ▁...</td>\n",
       "      <td>138, 134, 42, 37, 30, 24, 13, 12, 11, 7, 4, 4,...</td>\n",
       "    </tr>\n",
       "    <tr>\n",
       "      <th>3</th>\n",
       "      <td>2</td>\n",
       "      <td>▁sao, ▁paulo, ▁grand, ▁sp, ▁morumbi, ▁hyatt, ▁...</td>\n",
       "      <td>66, 66, 24, 20, 16, 15, 14, 7, 5, 5, 5, 4, 4, ...</td>\n",
       "    </tr>\n",
       "    <tr>\n",
       "      <th>4</th>\n",
       "      <td>3</td>\n",
       "      <td>▁sao, ▁paulo, ▁sp, ▁morumbi, ▁hyatt, ▁japon, ▁...</td>\n",
       "      <td>38, 35, 11, 9, 8, 7, 6, 5, 4, 3, 3, 3, 3, 2, 2...</td>\n",
       "    </tr>\n",
       "    <tr>\n",
       "      <th>5</th>\n",
       "      <td>4</td>\n",
       "      <td>▁sao, ▁paulo, ▁grand, ▁hyatt, ▁sp, ▁hy, umbi, ...</td>\n",
       "      <td>25, 25, 9, 6, 5, 2, 1, 1, 1, 1, 1, 1, 1, 1, 1, 1</td>\n",
       "    </tr>\n",
       "  </tbody>\n",
       "</table>\n",
       "</div>"
      ],
      "text/plain": [
       "   topic                               entity_most_frequent  \\\n",
       "0     -1  ▁sao, ▁paulo, ▁sp, ▁grand, ▁hyatt, ▁morumbi, ▁...   \n",
       "1      0  ▁sao, ▁paulo, ▁grand, ▁sp, ▁hyatt, ▁morumbi, ▁...   \n",
       "2      1  ▁sao, ▁paulo, ▁hyatt, ▁sp, ▁grand, ▁morumbi, ▁...   \n",
       "3      2  ▁sao, ▁paulo, ▁grand, ▁sp, ▁morumbi, ▁hyatt, ▁...   \n",
       "4      3  ▁sao, ▁paulo, ▁sp, ▁morumbi, ▁hyatt, ▁japon, ▁...   \n",
       "5      4  ▁sao, ▁paulo, ▁grand, ▁hyatt, ▁sp, ▁hy, umbi, ...   \n",
       "\n",
       "                                    frequency_entity  \n",
       "0  119, 118, 46, 33, 31, 23, 18, 10, 9, 9, 8, 8, ...  \n",
       "1  220, 210, 61, 50, 48, 38, 32, 24, 23, 16, 10, ...  \n",
       "2  138, 134, 42, 37, 30, 24, 13, 12, 11, 7, 4, 4,...  \n",
       "3  66, 66, 24, 20, 16, 15, 14, 7, 5, 5, 5, 4, 4, ...  \n",
       "4  38, 35, 11, 9, 8, 7, 6, 5, 4, 3, 3, 3, 3, 2, 2...  \n",
       "5   25, 25, 9, 6, 5, 2, 1, 1, 1, 1, 1, 1, 1, 1, 1, 1  "
      ]
     },
     "execution_count": 140,
     "metadata": {},
     "output_type": "execute_result"
    }
   ],
   "source": [
    "df_entity_most_frequent = most_frequent_entity_per_topic(df_ner)\n",
    "df_entity_most_frequent.head(10)"
   ]
  },
  {
   "cell_type": "code",
   "execution_count": 138,
   "metadata": {},
   "outputs": [
    {
     "name": "stdout",
     "output_type": "stream",
     "text": [
      "                                                                                                                                                                                                                                                 entity_most_frequent\n",
      "          ▁sao, ▁paulo, ▁sp, ▁grand, ▁hyatt, ▁morumbi, ▁congonhas, ▁pinheiros, ▁hy, ▁japon, ▁paulista, ▁brasil, ▁globo, ▁marginal, ▁rede, att, ▁guarulhos, ▁eua, ▁transamerica, ▁franc, ▁abe, ▁santo, ▁u2, ada, ▁patricia, ▁clau, ▁castro, ▁namorado, ▁gran, ▁granado\n",
      "      ▁sao, ▁paulo, ▁grand, ▁sp, ▁hyatt, ▁morumbi, ▁hy, ▁japon, ▁brasil, ▁pinheiros, ▁paulista, ▁globo, ▁congonhas, ▁marginal, ▁japonesa, ▁namorado, ▁rede, ▁de, ▁dos, ▁mundo, ▁guilherme, ▁abe, ▁franc, ▁patricia, ▁place, ▁pauloni, att, ▁itaim, ▁cidade, ▁iguatemi\n",
      "▁sao, ▁paulo, ▁hyatt, ▁sp, ▁grand, ▁morumbi, ▁hy, ▁paulista, ▁brasil, ▁pinheiros, ▁eua, ▁gran, ▁globo, att, ▁de, ▁londres, ▁ny, ▁americano, ▁itaim, ▁europa, ▁frias, ▁oliveira, ▁jardins, ▁lynphoma, ▁interchange, ▁jardin, ▁japon, ▁emiliano, ▁fasano, ▁transamerica\n",
      "                   ▁sao, ▁paulo, ▁grand, ▁sp, ▁morumbi, ▁hyatt, ▁hy, ▁brasil, ▁globo, ▁pinheiros, ▁americano, ▁rede, ▁paulista, ▁japon, ▁granado, ▁gran, ▁brasileira, ▁sul, ▁congonhas, ▁av, brooklin, att, ▁do, ▁brasileiro, ▁PS, ada, ▁jbl, ▁ponteiada, rod, ▁oscar\n",
      "     ▁sao, ▁paulo, ▁sp, ▁morumbi, ▁hyatt, ▁japon, ▁grand, ▁pinheiros, ▁olimpia, ▁granado, ▁hy, ▁iguatemi, ▁japonesa, ▁place, ▁franc, ▁vila, ▁market, ▁americana, ▁berrini, ▁globo, ▁hilton, ▁gabriel, ▁caio, ▁namorados, ▁egip, bis, continent, ▁chocolat, ▁du, ▁jour\n",
      "                                                                                                                                                   ▁sao, ▁paulo, ▁grand, ▁hyatt, ▁sp, ▁hy, umbi, ▁i, ▁dos, ▁namorados, ▁granado, ▁gran, ▁japon, ▁brasil, att, ▁granat\n"
     ]
    }
   ],
   "source": [
    "print(df_entity_most_frequent[['entity_most_frequent']].to_string(index=False))"
   ]
  },
  {
   "cell_type": "code",
   "execution_count": 127,
   "metadata": {},
   "outputs": [
    {
     "name": "stdout",
     "output_type": "stream",
     "text": [
      "                                                                                     frequency_entity\n",
      "   119, 118, 46, 33, 31, 23, 18, 10, 9, 9, 8, 8, 7, 5, 5, 4, 4, 4, 3, 3, 3, 2, 2, 2, 2, 2, 2, 2, 2, 2\n",
      "220, 210, 61, 50, 48, 38, 32, 24, 23, 16, 10, 8, 7, 6, 6, 6, 6, 5, 5, 5, 4, 4, 4, 3, 3, 3, 3, 3, 3, 3\n",
      "  138, 134, 42, 37, 30, 24, 13, 12, 11, 7, 4, 4, 4, 4, 3, 3, 3, 2, 2, 2, 2, 2, 2, 2, 2, 2, 2, 2, 2, 1\n",
      "      66, 66, 24, 20, 16, 15, 14, 7, 5, 5, 5, 4, 4, 4, 4, 3, 3, 3, 2, 2, 2, 2, 2, 2, 2, 1, 1, 1, 1, 1\n",
      "          38, 35, 11, 9, 8, 7, 6, 5, 4, 3, 3, 3, 3, 2, 2, 2, 2, 2, 2, 2, 2, 1, 1, 1, 1, 1, 1, 1, 1, 1\n",
      "                                                     25, 25, 9, 6, 5, 2, 1, 1, 1, 1, 1, 1, 1, 1, 1, 1\n"
     ]
    }
   ],
   "source": [
    "print(df_entity_most_frequent[['frequency_entity']].to_string(index=False)) "
   ]
  },
  {
   "cell_type": "code",
   "execution_count": 90,
   "metadata": {},
   "outputs": [],
   "source": [
    "def show_reviews_by_sentiment_and_topic(df, topic):\n",
    "    df_topic = df[df['topic'] == topic]\n",
    "\n",
    "    for sentiment in ['positive', 'neutral', 'negative']:\n",
    "        print(f\"Reviews with sentiment '{sentiment}' in topic '{topic}':\")\n",
    "        \n",
    "        df_sentiment = df_topic[df_topic['sentiment'] == sentiment]\n",
    "        \n",
    "        for i, review_text in enumerate(df_sentiment['comments'].head(5)):\n",
    "            print(f\"{i}. {review_text}\")\n",
    "        print()"
   ]
  },
  {
   "cell_type": "code",
   "execution_count": 91,
   "metadata": {},
   "outputs": [
    {
     "data": {
      "text/html": [
       "<div>\n",
       "<style scoped>\n",
       "    .dataframe tbody tr th:only-of-type {\n",
       "        vertical-align: middle;\n",
       "    }\n",
       "\n",
       "    .dataframe tbody tr th {\n",
       "        vertical-align: top;\n",
       "    }\n",
       "\n",
       "    .dataframe thead th {\n",
       "        text-align: right;\n",
       "    }\n",
       "</style>\n",
       "<table border=\"1\" class=\"dataframe\">\n",
       "  <thead>\n",
       "    <tr style=\"text-align: right;\">\n",
       "      <th></th>\n",
       "      <th>comments</th>\n",
       "      <th>comments_entity</th>\n",
       "      <th>topic</th>\n",
       "      <th>sentiment</th>\n",
       "      <th>entity</th>\n",
       "    </tr>\n",
       "  </thead>\n",
       "  <tbody>\n",
       "    <tr>\n",
       "      <th>0</th>\n",
       "      <td>Uma vez a cada dois meses eu e meu marido vamo...</td>\n",
       "      <td>uma vez a cada dois meses eu e meu marido vamo...</td>\n",
       "      <td>1</td>\n",
       "      <td>neutral</td>\n",
       "      <td>[(▁sp, I-LOC)]</td>\n",
       "    </tr>\n",
       "    <tr>\n",
       "      <th>1</th>\n",
       "      <td>Hotel de excelente qualidade. Quarto amplo e m...</td>\n",
       "      <td>hotel de excelente qualidade. quarto amplo e m...</td>\n",
       "      <td>2</td>\n",
       "      <td>positive</td>\n",
       "      <td>[]</td>\n",
       "    </tr>\n",
       "    <tr>\n",
       "      <th>2</th>\n",
       "      <td>Um Hotel elegante, charmoso, aconchegante, com...</td>\n",
       "      <td>um hotel elegante, charmoso, aconchegante, com...</td>\n",
       "      <td>3</td>\n",
       "      <td>positive</td>\n",
       "      <td>[]</td>\n",
       "    </tr>\n",
       "    <tr>\n",
       "      <th>3</th>\n",
       "      <td>Ótima opção para um brunch de domingo à tarde....</td>\n",
       "      <td>otima opcao para um brunch de domingo a tarde....</td>\n",
       "      <td>0</td>\n",
       "      <td>positive</td>\n",
       "      <td>[]</td>\n",
       "    </tr>\n",
       "    <tr>\n",
       "      <th>4</th>\n",
       "      <td>Muito obrigado pela atenção dispensada e fique...</td>\n",
       "      <td>muito obrigado pela atencao dispensada e fique...</td>\n",
       "      <td>-1</td>\n",
       "      <td>positive</td>\n",
       "      <td>[]</td>\n",
       "    </tr>\n",
       "    <tr>\n",
       "      <th>...</th>\n",
       "      <td>...</td>\n",
       "      <td>...</td>\n",
       "      <td>...</td>\n",
       "      <td>...</td>\n",
       "      <td>...</td>\n",
       "    </tr>\n",
       "    <tr>\n",
       "      <th>2618</th>\n",
       "      <td>Este moderno hotel é uma escolha excelente que...</td>\n",
       "      <td>este moderno hotel e uma escolha excelente que...</td>\n",
       "      <td>3</td>\n",
       "      <td>positive</td>\n",
       "      <td>[(▁de, I-LOC), (▁santosrio, I-LOC)]</td>\n",
       "    </tr>\n",
       "    <tr>\n",
       "      <th>2619</th>\n",
       "      <td>uma elegância contemporânea, um excelente serv...</td>\n",
       "      <td>uma elegancia contemporanea, um excelente serv...</td>\n",
       "      <td>1</td>\n",
       "      <td>positive</td>\n",
       "      <td>[(▁morumbi, I-LOC), (▁sao, I-LOC), (▁paulo, I-...</td>\n",
       "    </tr>\n",
       "    <tr>\n",
       "      <th>2620</th>\n",
       "      <td>Muito bom hotel tanto para executivos ou turis...</td>\n",
       "      <td>muito bom hotel tanto para executivos ou turis...</td>\n",
       "      <td>0</td>\n",
       "      <td>positive</td>\n",
       "      <td>[(▁japon, I-MISC)]</td>\n",
       "    </tr>\n",
       "    <tr>\n",
       "      <th>2621</th>\n",
       "      <td>I se hospedaram no Grand Hyatt para em algumas...</td>\n",
       "      <td>i se hospedaram no grand hyatt para em algumas...</td>\n",
       "      <td>0</td>\n",
       "      <td>neutral</td>\n",
       "      <td>[(▁sao, I-LOC), (▁paulo, I-LOC)]</td>\n",
       "    </tr>\n",
       "    <tr>\n",
       "      <th>2622</th>\n",
       "      <td>I se hospedaram no Grand Hyatt para a segunda ...</td>\n",
       "      <td>i se hospedaram no grand hyatt para a segunda ...</td>\n",
       "      <td>-1</td>\n",
       "      <td>positive</td>\n",
       "      <td>[(pod, I-MISC), (▁nano, I-MISC)]</td>\n",
       "    </tr>\n",
       "  </tbody>\n",
       "</table>\n",
       "<p>2623 rows × 5 columns</p>\n",
       "</div>"
      ],
      "text/plain": [
       "                                               comments  \\\n",
       "0     Uma vez a cada dois meses eu e meu marido vamo...   \n",
       "1     Hotel de excelente qualidade. Quarto amplo e m...   \n",
       "2     Um Hotel elegante, charmoso, aconchegante, com...   \n",
       "3     Ótima opção para um brunch de domingo à tarde....   \n",
       "4     Muito obrigado pela atenção dispensada e fique...   \n",
       "...                                                 ...   \n",
       "2618  Este moderno hotel é uma escolha excelente que...   \n",
       "2619  uma elegância contemporânea, um excelente serv...   \n",
       "2620  Muito bom hotel tanto para executivos ou turis...   \n",
       "2621  I se hospedaram no Grand Hyatt para em algumas...   \n",
       "2622  I se hospedaram no Grand Hyatt para a segunda ...   \n",
       "\n",
       "                                        comments_entity  topic sentiment  \\\n",
       "0     uma vez a cada dois meses eu e meu marido vamo...      1   neutral   \n",
       "1     hotel de excelente qualidade. quarto amplo e m...      2  positive   \n",
       "2     um hotel elegante, charmoso, aconchegante, com...      3  positive   \n",
       "3     otima opcao para um brunch de domingo a tarde....      0  positive   \n",
       "4     muito obrigado pela atencao dispensada e fique...     -1  positive   \n",
       "...                                                 ...    ...       ...   \n",
       "2618  este moderno hotel e uma escolha excelente que...      3  positive   \n",
       "2619  uma elegancia contemporanea, um excelente serv...      1  positive   \n",
       "2620  muito bom hotel tanto para executivos ou turis...      0  positive   \n",
       "2621  i se hospedaram no grand hyatt para em algumas...      0   neutral   \n",
       "2622  i se hospedaram no grand hyatt para a segunda ...     -1  positive   \n",
       "\n",
       "                                                 entity  \n",
       "0                                        [(▁sp, I-LOC)]  \n",
       "1                                                    []  \n",
       "2                                                    []  \n",
       "3                                                    []  \n",
       "4                                                    []  \n",
       "...                                                 ...  \n",
       "2618                [(▁de, I-LOC), (▁santosrio, I-LOC)]  \n",
       "2619  [(▁morumbi, I-LOC), (▁sao, I-LOC), (▁paulo, I-...  \n",
       "2620                                 [(▁japon, I-MISC)]  \n",
       "2621                   [(▁sao, I-LOC), (▁paulo, I-LOC)]  \n",
       "2622                   [(pod, I-MISC), (▁nano, I-MISC)]  \n",
       "\n",
       "[2623 rows x 5 columns]"
      ]
     },
     "execution_count": 91,
     "metadata": {},
     "output_type": "execute_result"
    }
   ],
   "source": [
    "df_ner"
   ]
  },
  {
   "cell_type": "code",
   "execution_count": 105,
   "metadata": {},
   "outputs": [
    {
     "name": "stdout",
     "output_type": "stream",
     "text": [
      "Reviews with sentiment 'positive' in topic '4':\n",
      "0. Serviço excelente, localização perfeita e ótimo preço. Funcionários muito atenciosos e educados. Quarto com muito conforto e extremamente silencioso. O Hyatt proporciona uma estadia de alta qualidade e custo baixo sendo assim a melhor escolha de hospedagem.\n",
      "1. excelente hotel, com uma infraestrutura excelente e que oferece ao hospede todo conforto do hall ate os quartos. Tem uma academia bastante estruturada e completa . Voce pode ter a comodidade de visitar centros comerciais proximos\n",
      "2. Foi uma experiência unica em termos de qualidade conforto e excelente atendimento, pois sempre tinha alguém para auxiliar em tudo que fosso preciso, não igual a todas as outras hospedagem em que fiquei, pois no Grand Hyatt São Paulo, ninguém fingia que não estava te vendo ou ficava escondido atras de um tela de computador fingindo estar ocupado, todos os atendimentos foi com um sorriso no rosto por parte dos funcionários, fora a presteza e a agilidade.\n",
      "3. Passamos a nossa noite de núpcias no Grand Hyatt. O hotel é incrível! Excelente localização, excelente atendimento, conforto e uma vista muito legal da cidade. Vale muito a pena não somente para quem é de fora, como também para quem mora aqui e quer ter um final de semana diferente. Uma dica para quem se hospedar é não deixar de conhecer o spa e as massagens. Uma delícia!\n",
      "4. Hotel funcional próximo Morumbi Shopping - Market Place e JK Iguatemi, excelente cafe da manha, staff atencioso e prestativo, amenities Phebo-Granado, roupa cama excelente, bom room service. Academia pequena p o tamanho do hotel, bom spa com ótimas massagens.\n",
      "\n",
      "Reviews with sentiment 'neutral' in topic '4':\n",
      "\n",
      "Reviews with sentiment 'negative' in topic '4':\n",
      "\n"
     ]
    }
   ],
   "source": [
    "show_reviews_by_sentiment_and_topic(df_ner, 4)"
   ]
  }
 ],
 "metadata": {
  "kernelspec": {
   "display_name": "tcc",
   "language": "python",
   "name": "python3"
  },
  "language_info": {
   "codemirror_mode": {
    "name": "ipython",
    "version": 3
   },
   "file_extension": ".py",
   "mimetype": "text/x-python",
   "name": "python",
   "nbconvert_exporter": "python",
   "pygments_lexer": "ipython3",
   "version": "3.9.19"
  }
 },
 "nbformat": 4,
 "nbformat_minor": 2
}
