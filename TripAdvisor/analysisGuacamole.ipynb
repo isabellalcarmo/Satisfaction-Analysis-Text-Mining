{
 "cells": [
  {
   "cell_type": "markdown",
   "metadata": {},
   "source": [
    "# Análise de Tópicos"
   ]
  },
  {
   "cell_type": "code",
   "execution_count": 1,
   "metadata": {},
   "outputs": [
    {
     "name": "stderr",
     "output_type": "stream",
     "text": [
      "[nltk_data] Downloading package stopwords to\n",
      "[nltk_data]     C:\\Users\\isabe\\AppData\\Roaming\\nltk_data...\n",
      "[nltk_data]   Package stopwords is already up-to-date!\n",
      "[nltk_data] Downloading package rslp to\n",
      "[nltk_data]     C:\\Users\\isabe\\AppData\\Roaming\\nltk_data...\n",
      "[nltk_data]   Package rslp is already up-to-date!\n"
     ]
    }
   ],
   "source": [
    "import pandas as pd\n",
    "import spacy\n",
    "from bertopic import BERTopic\n",
    "\n",
    "import re\n",
    "from datetime import datetime\n",
    "\n",
    "from gensim.utils import simple_preprocess\n",
    "\n",
    "import nltk\n",
    "nltk.download([\"stopwords\", \"rslp\"])\n",
    "stopwords = nltk.corpus.stopwords.words(\"portuguese\")\n",
    "\n",
    "import warnings\n",
    "warnings.filterwarnings(\"ignore\")"
   ]
  },
  {
   "cell_type": "code",
   "execution_count": 2,
   "metadata": {},
   "outputs": [
    {
     "data": {
      "text/html": [
       "<div>\n",
       "<style scoped>\n",
       "    .dataframe tbody tr th:only-of-type {\n",
       "        vertical-align: middle;\n",
       "    }\n",
       "\n",
       "    .dataframe tbody tr th {\n",
       "        vertical-align: top;\n",
       "    }\n",
       "\n",
       "    .dataframe thead th {\n",
       "        text-align: right;\n",
       "    }\n",
       "</style>\n",
       "<table border=\"1\" class=\"dataframe\">\n",
       "  <thead>\n",
       "    <tr style=\"text-align: right;\">\n",
       "      <th></th>\n",
       "      <th>Date</th>\n",
       "      <th>Review</th>\n",
       "    </tr>\n",
       "  </thead>\n",
       "  <tbody>\n",
       "    <tr>\n",
       "      <th>0</th>\n",
       "      <td>4 de dezembro de 2023</td>\n",
       "      <td>Atendimento maravilhoso! Matheus foi muito ate...</td>\n",
       "    </tr>\n",
       "    <tr>\n",
       "      <th>1</th>\n",
       "      <td>2 de dezembro de 2023</td>\n",
       "      <td>Gostei muito dos pratos e do atendimento. Muit...</td>\n",
       "    </tr>\n",
       "    <tr>\n",
       "      <th>2</th>\n",
       "      <td>1 de dezembro de 2023</td>\n",
       "      <td>Eu amei, é a melhor cozinha mexicana que eu já...</td>\n",
       "    </tr>\n",
       "    <tr>\n",
       "      <th>3</th>\n",
       "      <td>29 de novembro de 2023</td>\n",
       "      <td>Ótimo ambiente e decoração, funcionários prest...</td>\n",
       "    </tr>\n",
       "    <tr>\n",
       "      <th>4</th>\n",
       "      <td>27 de novembro de 2023</td>\n",
       "      <td>Amomamos o atendimento do Matheus e do, tudo ó...</td>\n",
       "    </tr>\n",
       "  </tbody>\n",
       "</table>\n",
       "</div>"
      ],
      "text/plain": [
       "                     Date                                             Review\n",
       "0   4 de dezembro de 2023  Atendimento maravilhoso! Matheus foi muito ate...\n",
       "1   2 de dezembro de 2023  Gostei muito dos pratos e do atendimento. Muit...\n",
       "2   1 de dezembro de 2023  Eu amei, é a melhor cozinha mexicana que eu já...\n",
       "3  29 de novembro de 2023  Ótimo ambiente e decoração, funcionários prest...\n",
       "4  27 de novembro de 2023  Amomamos o atendimento do Matheus e do, tudo ó..."
      ]
     },
     "execution_count": 2,
     "metadata": {},
     "output_type": "execute_result"
    }
   ],
   "source": [
    "df_reviews = pd.read_csv(\"guacamole_reviews.csv\")\n",
    "df_reviews.head()"
   ]
  },
  {
   "cell_type": "code",
   "execution_count": 3,
   "metadata": {},
   "outputs": [],
   "source": [
    "df_comments = df_reviews[\"Review\"]\n",
    "df_dates = df_reviews[\"Date\"]"
   ]
  },
  {
   "cell_type": "code",
   "execution_count": 4,
   "metadata": {},
   "outputs": [],
   "source": [
    "def remove_stopwords(text):\n",
    "    words = simple_preprocess(text)\n",
    "    phrase_adjusted = \" \".join([word for word in words if word not in stopwords])\n",
    "    return phrase_adjusted.lower()\n",
    "\n",
    "spacy_lemma = spacy.load(\"pt_core_news_sm\")\n",
    "\n",
    "def lemmatizer(text, postags_permit=['NOUN', 'ADJ', 'VERB', 'ADV']):\n",
    "    \"\"\"https://spacy.io/api/annotation\"\"\"\n",
    "    doc = spacy_lemma(text.lower())\n",
    "    doc_lemma = \" \".join([token.lemma_ for token in doc if token.pos_ in postags_permit])\n",
    "    return doc_lemma"
   ]
  },
  {
   "cell_type": "code",
   "execution_count": 5,
   "metadata": {},
   "outputs": [],
   "source": [
    "def parse_date(date_str):\n",
    "    months = {\n",
    "        'janeiro': 'January', 'fevereiro': 'February', 'março': 'March', 'abril': 'April',\n",
    "        'maio': 'May', 'junho': 'June', 'julho': 'July', 'agosto': 'August',\n",
    "        'setembro': 'September', 'outubro': 'October', 'novembro': 'November', 'dezembro': 'December'\n",
    "    }\n",
    "    match = re.match(r'(\\d+) de (\\w+) de (\\d+)', date_str)\n",
    "    if match:\n",
    "        day, month, year = match.groups()\n",
    "        month = months[month.lower()]\n",
    "        return datetime(int(year), list(months.values()).index(month) + 1, int(day)).strftime(\"%Y-%m-%d\")\n",
    "    else:\n",
    "        return None"
   ]
  },
  {
   "cell_type": "code",
   "execution_count": 6,
   "metadata": {},
   "outputs": [],
   "source": [
    "df_reviews[\"Review Lemma\"] = df_reviews[\"Review\"].map(remove_stopwords)\n",
    "df_reviews[\"Review Lemma\"] = df_reviews[\"Review\"].map(lemmatizer)"
   ]
  },
  {
   "cell_type": "code",
   "execution_count": 7,
   "metadata": {},
   "outputs": [],
   "source": [
    "df_reviews[\"Date Formatted\"] = df_reviews[\"Date\"].apply(parse_date)"
   ]
  },
  {
   "cell_type": "code",
   "execution_count": 8,
   "metadata": {},
   "outputs": [
    {
     "data": {
      "text/html": [
       "<div>\n",
       "<style scoped>\n",
       "    .dataframe tbody tr th:only-of-type {\n",
       "        vertical-align: middle;\n",
       "    }\n",
       "\n",
       "    .dataframe tbody tr th {\n",
       "        vertical-align: top;\n",
       "    }\n",
       "\n",
       "    .dataframe thead th {\n",
       "        text-align: right;\n",
       "    }\n",
       "</style>\n",
       "<table border=\"1\" class=\"dataframe\">\n",
       "  <thead>\n",
       "    <tr style=\"text-align: right;\">\n",
       "      <th></th>\n",
       "      <th>Date</th>\n",
       "      <th>Review</th>\n",
       "      <th>Review Lemma</th>\n",
       "      <th>Date Formatted</th>\n",
       "    </tr>\n",
       "  </thead>\n",
       "  <tbody>\n",
       "    <tr>\n",
       "      <th>0</th>\n",
       "      <td>4 de dezembro de 2023</td>\n",
       "      <td>Atendimento maravilhoso! Matheus foi muito ate...</td>\n",
       "      <td>atendimento maravilhoso matheu muito atencioso...</td>\n",
       "      <td>2023-12-04</td>\n",
       "    </tr>\n",
       "    <tr>\n",
       "      <th>1</th>\n",
       "      <td>2 de dezembro de 2023</td>\n",
       "      <td>Gostei muito dos pratos e do atendimento. Muit...</td>\n",
       "      <td>gostar muito prato atendimento solicito comida...</td>\n",
       "      <td>2023-12-02</td>\n",
       "    </tr>\n",
       "    <tr>\n",
       "      <th>2</th>\n",
       "      <td>1 de dezembro de 2023</td>\n",
       "      <td>Eu amei, é a melhor cozinha mexicana que eu já...</td>\n",
       "      <td>ameir bom cozinha mexicano já comi espaço muit...</td>\n",
       "      <td>2023-12-01</td>\n",
       "    </tr>\n",
       "    <tr>\n",
       "      <th>3</th>\n",
       "      <td>29 de novembro de 2023</td>\n",
       "      <td>Ótimo ambiente e decoração, funcionários prest...</td>\n",
       "      <td>bom ambiente decoração funcionário prestativo ...</td>\n",
       "      <td>2023-11-29</td>\n",
       "    </tr>\n",
       "    <tr>\n",
       "      <th>4</th>\n",
       "      <td>27 de novembro de 2023</td>\n",
       "      <td>Amomamos o atendimento do Matheus e do, tudo ó...</td>\n",
       "      <td>amoma atendimento matheu bom amar atendimento ...</td>\n",
       "      <td>2023-11-27</td>\n",
       "    </tr>\n",
       "  </tbody>\n",
       "</table>\n",
       "</div>"
      ],
      "text/plain": [
       "                     Date                                             Review  \\\n",
       "0   4 de dezembro de 2023  Atendimento maravilhoso! Matheus foi muito ate...   \n",
       "1   2 de dezembro de 2023  Gostei muito dos pratos e do atendimento. Muit...   \n",
       "2   1 de dezembro de 2023  Eu amei, é a melhor cozinha mexicana que eu já...   \n",
       "3  29 de novembro de 2023  Ótimo ambiente e decoração, funcionários prest...   \n",
       "4  27 de novembro de 2023  Amomamos o atendimento do Matheus e do, tudo ó...   \n",
       "\n",
       "                                        Review Lemma Date Formatted  \n",
       "0  atendimento maravilhoso matheu muito atencioso...     2023-12-04  \n",
       "1  gostar muito prato atendimento solicito comida...     2023-12-02  \n",
       "2  ameir bom cozinha mexicano já comi espaço muit...     2023-12-01  \n",
       "3  bom ambiente decoração funcionário prestativo ...     2023-11-29  \n",
       "4  amoma atendimento matheu bom amar atendimento ...     2023-11-27  "
      ]
     },
     "execution_count": 8,
     "metadata": {},
     "output_type": "execute_result"
    }
   ],
   "source": [
    "df_reviews.head()"
   ]
  },
  {
   "cell_type": "code",
   "execution_count": 9,
   "metadata": {},
   "outputs": [
    {
     "data": {
      "text/plain": [
       "['atendimento maravilhoso matheu muito atencioso colocar playlist atendente super simpatico',\n",
       " 'gostar muito prato atendimento solicito comida saboroso certeza voltar mais vez',\n",
       " 'ameir bom cozinha mexicano já comi espaço muito animar imersivo decoração casa linda atendimento excelente sempre',\n",
       " 'bom ambiente decoração funcionário prestativo comida boa música agradável divertido mariachi',\n",
       " 'amoma atendimento matheu bom amar atendimento sensacional comida muito saboroso']"
      ]
     },
     "execution_count": 9,
     "metadata": {},
     "output_type": "execute_result"
    }
   ],
   "source": [
    "df_comments = df_reviews[\"Review Lemma\"]\n",
    "doc_comments = df_comments.to_list()\n",
    "doc_comments[:5]"
   ]
  },
  {
   "cell_type": "code",
   "execution_count": 10,
   "metadata": {},
   "outputs": [
    {
     "name": "stderr",
     "output_type": "stream",
     "text": [
      "2023-12-10 18:29:06,429 - BERTopic - Embedding - Transforming documents to embeddings.\n"
     ]
    },
    {
     "data": {
      "application/vnd.jupyter.widget-view+json": {
       "model_id": "b0604fb0bee747e29632278aa29a24ed",
       "version_major": 2,
       "version_minor": 0
      },
      "text/plain": [
       "Batches:   0%|          | 0/90 [00:00<?, ?it/s]"
      ]
     },
     "metadata": {},
     "output_type": "display_data"
    },
    {
     "name": "stderr",
     "output_type": "stream",
     "text": [
      "2023-12-10 18:30:18,935 - BERTopic - Embedding - Completed ✓\n",
      "2023-12-10 18:30:18,937 - BERTopic - Dimensionality - Fitting the dimensionality reduction algorithm\n",
      "2023-12-10 18:30:56,098 - BERTopic - Dimensionality - Completed ✓\n",
      "2023-12-10 18:30:56,111 - BERTopic - Cluster - Start clustering the reduced embeddings\n",
      "2023-12-10 18:30:56,565 - BERTopic - Cluster - Completed ✓\n",
      "2023-12-10 18:30:56,580 - BERTopic - Representation - Extracting topics from clusters using representation models.\n",
      "2023-12-10 18:30:56,757 - BERTopic - Representation - Completed ✓\n"
     ]
    }
   ],
   "source": [
    "topic_model = BERTopic(language=\"portuguese\", calculate_probabilities=True, verbose=True)\n",
    "topics, probs = topic_model.fit_transform(doc_comments)"
   ]
  },
  {
   "cell_type": "code",
   "execution_count": 11,
   "metadata": {},
   "outputs": [
    {
     "data": {
      "text/html": [
       "<div>\n",
       "<style scoped>\n",
       "    .dataframe tbody tr th:only-of-type {\n",
       "        vertical-align: middle;\n",
       "    }\n",
       "\n",
       "    .dataframe tbody tr th {\n",
       "        vertical-align: top;\n",
       "    }\n",
       "\n",
       "    .dataframe thead th {\n",
       "        text-align: right;\n",
       "    }\n",
       "</style>\n",
       "<table border=\"1\" class=\"dataframe\">\n",
       "  <thead>\n",
       "    <tr style=\"text-align: right;\">\n",
       "      <th></th>\n",
       "      <th>Topic</th>\n",
       "      <th>Count</th>\n",
       "      <th>Name</th>\n",
       "      <th>Representation</th>\n",
       "      <th>Representative_Docs</th>\n",
       "    </tr>\n",
       "  </thead>\n",
       "  <tbody>\n",
       "    <tr>\n",
       "      <th>0</th>\n",
       "      <td>-1</td>\n",
       "      <td>225</td>\n",
       "      <td>-1_muito_bem_bom_atendimento</td>\n",
       "      <td>[muito, bem, bom, atendimento, comida, mais, l...</td>\n",
       "      <td>[ambiente bem animar comida muito bom além ter...</td>\n",
       "    </tr>\n",
       "    <tr>\n",
       "      <th>1</th>\n",
       "      <td>0</td>\n",
       "      <td>733</td>\n",
       "      <td>0_mexicano_guacamole_comida_restaurante</td>\n",
       "      <td>[mexicano, guacamole, comida, restaurante, mai...</td>\n",
       "      <td>[comer excelente ambiente bem característico m...</td>\n",
       "    </tr>\n",
       "    <tr>\n",
       "      <th>2</th>\n",
       "      <td>1</td>\n",
       "      <td>657</td>\n",
       "      <td>1_muito_bom_atendimento_ambiente</td>\n",
       "      <td>[muito, bom, atendimento, ambiente, lugar, exc...</td>\n",
       "      <td>[ambiente alegre descontrair bom comida atendi...</td>\n",
       "    </tr>\n",
       "    <tr>\n",
       "      <th>3</th>\n",
       "      <td>2</td>\n",
       "      <td>347</td>\n",
       "      <td>2_música_bom_muito_ambiente</td>\n",
       "      <td>[música, bom, muito, ambiente, atendimento, mu...</td>\n",
       "      <td>[ambiente muito agradável música bom excelente...</td>\n",
       "    </tr>\n",
       "    <tr>\n",
       "      <th>4</th>\n",
       "      <td>3</td>\n",
       "      <td>238</td>\n",
       "      <td>3_aniversário_comemorar_amigo_muito</td>\n",
       "      <td>[aniversário, comemorar, amigo, muito, bom, lu...</td>\n",
       "      <td>[bom atendimento bom querer comemorar aniversá...</td>\n",
       "    </tr>\n",
       "  </tbody>\n",
       "</table>\n",
       "</div>"
      ],
      "text/plain": [
       "   Topic  Count                                     Name  \\\n",
       "0     -1    225             -1_muito_bem_bom_atendimento   \n",
       "1      0    733  0_mexicano_guacamole_comida_restaurante   \n",
       "2      1    657         1_muito_bom_atendimento_ambiente   \n",
       "3      2    347              2_música_bom_muito_ambiente   \n",
       "4      3    238      3_aniversário_comemorar_amigo_muito   \n",
       "\n",
       "                                      Representation  \\\n",
       "0  [muito, bem, bom, atendimento, comida, mais, l...   \n",
       "1  [mexicano, guacamole, comida, restaurante, mai...   \n",
       "2  [muito, bom, atendimento, ambiente, lugar, exc...   \n",
       "3  [música, bom, muito, ambiente, atendimento, mu...   \n",
       "4  [aniversário, comemorar, amigo, muito, bom, lu...   \n",
       "\n",
       "                                 Representative_Docs  \n",
       "0  [ambiente bem animar comida muito bom além ter...  \n",
       "1  [comer excelente ambiente bem característico m...  \n",
       "2  [ambiente alegre descontrair bom comida atendi...  \n",
       "3  [ambiente muito agradável música bom excelente...  \n",
       "4  [bom atendimento bom querer comemorar aniversá...  "
      ]
     },
     "execution_count": 11,
     "metadata": {},
     "output_type": "execute_result"
    }
   ],
   "source": [
    "freq = topic_model.get_topic_info(); freq.head(5)"
   ]
  },
  {
   "cell_type": "code",
   "execution_count": 12,
   "metadata": {},
   "outputs": [
    {
     "data": {
      "text/plain": [
       "[('mexicano', 0.07472017827493527),\n",
       " ('guacamole', 0.03960115750776117),\n",
       " ('comida', 0.03627796523088445),\n",
       " ('restaurante', 0.03570624909413835),\n",
       " ('mais', 0.03418303233185723),\n",
       " ('bom', 0.033548886619954504),\n",
       " ('muito', 0.030257563346517625),\n",
       " ('ter', 0.026696346377773558),\n",
       " ('bem', 0.02568179278230327),\n",
       " ('ambiente', 0.025045067358162077)]"
      ]
     },
     "execution_count": 12,
     "metadata": {},
     "output_type": "execute_result"
    }
   ],
   "source": [
    "topic_model.get_topic(0)"
   ]
  },
  {
   "cell_type": "code",
   "execution_count": 15,
   "metadata": {},
   "outputs": [
    {
     "data": {
      "text/html": [
       "<div>\n",
       "<style scoped>\n",
       "    .dataframe tbody tr th:only-of-type {\n",
       "        vertical-align: middle;\n",
       "    }\n",
       "\n",
       "    .dataframe tbody tr th {\n",
       "        vertical-align: top;\n",
       "    }\n",
       "\n",
       "    .dataframe thead th {\n",
       "        text-align: right;\n",
       "    }\n",
       "</style>\n",
       "<table border=\"1\" class=\"dataframe\">\n",
       "  <thead>\n",
       "    <tr style=\"text-align: right;\">\n",
       "      <th></th>\n",
       "      <th>Date</th>\n",
       "      <th>Review</th>\n",
       "      <th>Review Lemma</th>\n",
       "      <th>Date Formatted</th>\n",
       "      <th>Topics</th>\n",
       "      <th>Names</th>\n",
       "      <th>Representation</th>\n",
       "      <th>Representative_Docs</th>\n",
       "    </tr>\n",
       "  </thead>\n",
       "  <tbody>\n",
       "    <tr>\n",
       "      <th>0</th>\n",
       "      <td>4 de dezembro de 2023</td>\n",
       "      <td>Atendimento maravilhoso! Matheus foi muito ate...</td>\n",
       "      <td>atendimento maravilhoso matheu muito atencioso...</td>\n",
       "      <td>2023-12-04</td>\n",
       "      <td>1</td>\n",
       "      <td>1_muito_bom_atendimento_ambiente</td>\n",
       "      <td>[muito, bom, atendimento, ambiente, lugar, exc...</td>\n",
       "      <td>[ambiente alegre descontrair bom comida atendi...</td>\n",
       "    </tr>\n",
       "    <tr>\n",
       "      <th>1</th>\n",
       "      <td>2 de dezembro de 2023</td>\n",
       "      <td>Gostei muito dos pratos e do atendimento. Muit...</td>\n",
       "      <td>gostar muito prato atendimento solicito comida...</td>\n",
       "      <td>2023-12-02</td>\n",
       "      <td>1</td>\n",
       "      <td>1_muito_bom_atendimento_ambiente</td>\n",
       "      <td>[muito, bom, atendimento, ambiente, lugar, exc...</td>\n",
       "      <td>[ambiente alegre descontrair bom comida atendi...</td>\n",
       "    </tr>\n",
       "    <tr>\n",
       "      <th>2</th>\n",
       "      <td>1 de dezembro de 2023</td>\n",
       "      <td>Eu amei, é a melhor cozinha mexicana que eu já...</td>\n",
       "      <td>ameir bom cozinha mexicano já comi espaço muit...</td>\n",
       "      <td>2023-12-01</td>\n",
       "      <td>0</td>\n",
       "      <td>0_mexicano_guacamole_comida_restaurante</td>\n",
       "      <td>[mexicano, guacamole, comida, restaurante, mai...</td>\n",
       "      <td>[comer excelente ambiente bem característico m...</td>\n",
       "    </tr>\n",
       "    <tr>\n",
       "      <th>3</th>\n",
       "      <td>29 de novembro de 2023</td>\n",
       "      <td>Ótimo ambiente e decoração, funcionários prest...</td>\n",
       "      <td>bom ambiente decoração funcionário prestativo ...</td>\n",
       "      <td>2023-11-29</td>\n",
       "      <td>2</td>\n",
       "      <td>2_música_bom_muito_ambiente</td>\n",
       "      <td>[música, bom, muito, ambiente, atendimento, mu...</td>\n",
       "      <td>[ambiente muito agradável música bom excelente...</td>\n",
       "    </tr>\n",
       "    <tr>\n",
       "      <th>4</th>\n",
       "      <td>27 de novembro de 2023</td>\n",
       "      <td>Amomamos o atendimento do Matheus e do, tudo ó...</td>\n",
       "      <td>amoma atendimento matheu bom amar atendimento ...</td>\n",
       "      <td>2023-11-27</td>\n",
       "      <td>1</td>\n",
       "      <td>1_muito_bom_atendimento_ambiente</td>\n",
       "      <td>[muito, bom, atendimento, ambiente, lugar, exc...</td>\n",
       "      <td>[ambiente alegre descontrair bom comida atendi...</td>\n",
       "    </tr>\n",
       "  </tbody>\n",
       "</table>\n",
       "</div>"
      ],
      "text/plain": [
       "                     Date                                             Review  \\\n",
       "0   4 de dezembro de 2023  Atendimento maravilhoso! Matheus foi muito ate...   \n",
       "1   2 de dezembro de 2023  Gostei muito dos pratos e do atendimento. Muit...   \n",
       "2   1 de dezembro de 2023  Eu amei, é a melhor cozinha mexicana que eu já...   \n",
       "3  29 de novembro de 2023  Ótimo ambiente e decoração, funcionários prest...   \n",
       "4  27 de novembro de 2023  Amomamos o atendimento do Matheus e do, tudo ó...   \n",
       "\n",
       "                                        Review Lemma Date Formatted  Topics  \\\n",
       "0  atendimento maravilhoso matheu muito atencioso...     2023-12-04       1   \n",
       "1  gostar muito prato atendimento solicito comida...     2023-12-02       1   \n",
       "2  ameir bom cozinha mexicano já comi espaço muit...     2023-12-01       0   \n",
       "3  bom ambiente decoração funcionário prestativo ...     2023-11-29       2   \n",
       "4  amoma atendimento matheu bom amar atendimento ...     2023-11-27       1   \n",
       "\n",
       "                                     Names  \\\n",
       "0         1_muito_bom_atendimento_ambiente   \n",
       "1         1_muito_bom_atendimento_ambiente   \n",
       "2  0_mexicano_guacamole_comida_restaurante   \n",
       "3              2_música_bom_muito_ambiente   \n",
       "4         1_muito_bom_atendimento_ambiente   \n",
       "\n",
       "                                      Representation  \\\n",
       "0  [muito, bom, atendimento, ambiente, lugar, exc...   \n",
       "1  [muito, bom, atendimento, ambiente, lugar, exc...   \n",
       "2  [mexicano, guacamole, comida, restaurante, mai...   \n",
       "3  [música, bom, muito, ambiente, atendimento, mu...   \n",
       "4  [muito, bom, atendimento, ambiente, lugar, exc...   \n",
       "\n",
       "                                 Representative_Docs  \n",
       "0  [ambiente alegre descontrair bom comida atendi...  \n",
       "1  [ambiente alegre descontrair bom comida atendi...  \n",
       "2  [comer excelente ambiente bem característico m...  \n",
       "3  [ambiente muito agradável música bom excelente...  \n",
       "4  [ambiente alegre descontrair bom comida atendi...  "
      ]
     },
     "execution_count": 15,
     "metadata": {},
     "output_type": "execute_result"
    }
   ],
   "source": [
    "df_topics = df_reviews.copy()\n",
    "\n",
    "df_topics[\"Topics\"] = topics\n",
    "\n",
    "topic_name = freq.drop(columns=[\"Count\"]).rename(columns={\"Topic\": \"Topics\", \"Name\": \"Names\"})\n",
    "df_topics = df_topics.merge(topic_name, how=\"left\")\n",
    "\n",
    "df_topics.head()"
   ]
  },
  {
   "cell_type": "code",
   "execution_count": null,
   "metadata": {},
   "outputs": [],
   "source": [
    "topic_model.visualize_barchart(top_n_topics=20)"
   ]
  },
  {
   "cell_type": "code",
   "execution_count": null,
   "metadata": {},
   "outputs": [],
   "source": [
    "topic_model.visualize_hierarchy()"
   ]
  },
  {
   "cell_type": "code",
   "execution_count": null,
   "metadata": {},
   "outputs": [],
   "source": [
    "dates_reviews = df_reviews[\"Date Formatted\"].to_list()"
   ]
  },
  {
   "cell_type": "code",
   "execution_count": null,
   "metadata": {},
   "outputs": [],
   "source": [
    "topics_over_time = topic_model.topics_over_time(doc_comments, dates_reviews, datetime_format=\"%Y-%m-%d\", nr_bins=20)"
   ]
  },
  {
   "cell_type": "code",
   "execution_count": null,
   "metadata": {},
   "outputs": [],
   "source": [
    "topic_model.visualize_topics_over_time(topics_over_time, top_n_topics=20)"
   ]
  },
  {
   "cell_type": "markdown",
   "metadata": {},
   "source": [
    "# Análise de Sentimentos"
   ]
  },
  {
   "cell_type": "code",
   "execution_count": 16,
   "metadata": {},
   "outputs": [],
   "source": [
    "from transformers import AutoTokenizer  # Or BertTokenizer\n",
    "from transformers import AutoModelForSequenceClassification  # Or BertForPreTraining for loading pretraining heads\n",
    "from transformers import AutoModel  # or BertModel, for BERT without pretraining heads\n",
    "from transformers import pipeline\n",
    "\n",
    "model = AutoModelForSequenceClassification.from_pretrained('lxyuan/distilbert-base-multilingual-cased-sentiments-student')\n",
    "tokenizer = AutoTokenizer.from_pretrained('lxyuan/distilbert-base-multilingual-cased-sentiments-student', do_lower_case=False)\n",
    "sentiment_task = pipeline(\"sentiment-analysis\", model=model, tokenizer=tokenizer)"
   ]
  },
  {
   "cell_type": "code",
   "execution_count": 17,
   "metadata": {},
   "outputs": [
    {
     "data": {
      "text/plain": [
       "[{'label': 'positive', 'score': 0.9540010094642639}]"
      ]
     },
     "execution_count": 17,
     "metadata": {},
     "output_type": "execute_result"
    }
   ],
   "source": [
    "sentiment_task(\"eu sou feliz\")"
   ]
  },
  {
   "cell_type": "code",
   "execution_count": 18,
   "metadata": {},
   "outputs": [
    {
     "name": "stdout",
     "output_type": "stream",
     "text": [
      "CPU times: total: 46min 46s\n",
      "Wall time: 7min 55s\n"
     ]
    }
   ],
   "source": [
    "%%time\n",
    "\n",
    "df_topics[\"Sentiment\"] = df_topics[\"Review\"].apply(lambda x: sentiment_task(x)[0][\"label\"])\n",
    "df_topics[\"Sentiment Score\"] = df_topics[\"Review\"].apply(lambda x: sentiment_task(x)[0][\"score\"])    "
   ]
  },
  {
   "cell_type": "code",
   "execution_count": 19,
   "metadata": {},
   "outputs": [
    {
     "data": {
      "text/html": [
       "<div>\n",
       "<style scoped>\n",
       "    .dataframe tbody tr th:only-of-type {\n",
       "        vertical-align: middle;\n",
       "    }\n",
       "\n",
       "    .dataframe tbody tr th {\n",
       "        vertical-align: top;\n",
       "    }\n",
       "\n",
       "    .dataframe thead th {\n",
       "        text-align: right;\n",
       "    }\n",
       "</style>\n",
       "<table border=\"1\" class=\"dataframe\">\n",
       "  <thead>\n",
       "    <tr style=\"text-align: right;\">\n",
       "      <th></th>\n",
       "      <th>Date</th>\n",
       "      <th>Review</th>\n",
       "      <th>Review Lemma</th>\n",
       "      <th>Date Formatted</th>\n",
       "      <th>Topics</th>\n",
       "      <th>Names</th>\n",
       "      <th>Representation</th>\n",
       "      <th>Representative_Docs</th>\n",
       "      <th>Sentiment</th>\n",
       "      <th>Sentiment Score</th>\n",
       "    </tr>\n",
       "  </thead>\n",
       "  <tbody>\n",
       "    <tr>\n",
       "      <th>0</th>\n",
       "      <td>4 de dezembro de 2023</td>\n",
       "      <td>Atendimento maravilhoso! Matheus foi muito ate...</td>\n",
       "      <td>atendimento maravilhoso matheu muito atencioso...</td>\n",
       "      <td>2023-12-04</td>\n",
       "      <td>1</td>\n",
       "      <td>1_muito_bom_atendimento_ambiente</td>\n",
       "      <td>[muito, bom, atendimento, ambiente, lugar, exc...</td>\n",
       "      <td>[ambiente alegre descontrair bom comida atendi...</td>\n",
       "      <td>positive</td>\n",
       "      <td>0.989543</td>\n",
       "    </tr>\n",
       "    <tr>\n",
       "      <th>1</th>\n",
       "      <td>2 de dezembro de 2023</td>\n",
       "      <td>Gostei muito dos pratos e do atendimento. Muit...</td>\n",
       "      <td>gostar muito prato atendimento solicito comida...</td>\n",
       "      <td>2023-12-02</td>\n",
       "      <td>1</td>\n",
       "      <td>1_muito_bom_atendimento_ambiente</td>\n",
       "      <td>[muito, bom, atendimento, ambiente, lugar, exc...</td>\n",
       "      <td>[ambiente alegre descontrair bom comida atendi...</td>\n",
       "      <td>positive</td>\n",
       "      <td>0.626670</td>\n",
       "    </tr>\n",
       "    <tr>\n",
       "      <th>2</th>\n",
       "      <td>1 de dezembro de 2023</td>\n",
       "      <td>Eu amei, é a melhor cozinha mexicana que eu já...</td>\n",
       "      <td>ameir bom cozinha mexicano já comi espaço muit...</td>\n",
       "      <td>2023-12-01</td>\n",
       "      <td>0</td>\n",
       "      <td>0_mexicano_guacamole_comida_restaurante</td>\n",
       "      <td>[mexicano, guacamole, comida, restaurante, mai...</td>\n",
       "      <td>[comer excelente ambiente bem característico m...</td>\n",
       "      <td>positive</td>\n",
       "      <td>0.967855</td>\n",
       "    </tr>\n",
       "    <tr>\n",
       "      <th>3</th>\n",
       "      <td>29 de novembro de 2023</td>\n",
       "      <td>Ótimo ambiente e decoração, funcionários prest...</td>\n",
       "      <td>bom ambiente decoração funcionário prestativo ...</td>\n",
       "      <td>2023-11-29</td>\n",
       "      <td>2</td>\n",
       "      <td>2_música_bom_muito_ambiente</td>\n",
       "      <td>[música, bom, muito, ambiente, atendimento, mu...</td>\n",
       "      <td>[ambiente muito agradável música bom excelente...</td>\n",
       "      <td>positive</td>\n",
       "      <td>0.940317</td>\n",
       "    </tr>\n",
       "    <tr>\n",
       "      <th>4</th>\n",
       "      <td>27 de novembro de 2023</td>\n",
       "      <td>Amomamos o atendimento do Matheus e do, tudo ó...</td>\n",
       "      <td>amoma atendimento matheu bom amar atendimento ...</td>\n",
       "      <td>2023-11-27</td>\n",
       "      <td>1</td>\n",
       "      <td>1_muito_bom_atendimento_ambiente</td>\n",
       "      <td>[muito, bom, atendimento, ambiente, lugar, exc...</td>\n",
       "      <td>[ambiente alegre descontrair bom comida atendi...</td>\n",
       "      <td>positive</td>\n",
       "      <td>0.979101</td>\n",
       "    </tr>\n",
       "  </tbody>\n",
       "</table>\n",
       "</div>"
      ],
      "text/plain": [
       "                     Date                                             Review  \\\n",
       "0   4 de dezembro de 2023  Atendimento maravilhoso! Matheus foi muito ate...   \n",
       "1   2 de dezembro de 2023  Gostei muito dos pratos e do atendimento. Muit...   \n",
       "2   1 de dezembro de 2023  Eu amei, é a melhor cozinha mexicana que eu já...   \n",
       "3  29 de novembro de 2023  Ótimo ambiente e decoração, funcionários prest...   \n",
       "4  27 de novembro de 2023  Amomamos o atendimento do Matheus e do, tudo ó...   \n",
       "\n",
       "                                        Review Lemma Date Formatted  Topics  \\\n",
       "0  atendimento maravilhoso matheu muito atencioso...     2023-12-04       1   \n",
       "1  gostar muito prato atendimento solicito comida...     2023-12-02       1   \n",
       "2  ameir bom cozinha mexicano já comi espaço muit...     2023-12-01       0   \n",
       "3  bom ambiente decoração funcionário prestativo ...     2023-11-29       2   \n",
       "4  amoma atendimento matheu bom amar atendimento ...     2023-11-27       1   \n",
       "\n",
       "                                     Names  \\\n",
       "0         1_muito_bom_atendimento_ambiente   \n",
       "1         1_muito_bom_atendimento_ambiente   \n",
       "2  0_mexicano_guacamole_comida_restaurante   \n",
       "3              2_música_bom_muito_ambiente   \n",
       "4         1_muito_bom_atendimento_ambiente   \n",
       "\n",
       "                                      Representation  \\\n",
       "0  [muito, bom, atendimento, ambiente, lugar, exc...   \n",
       "1  [muito, bom, atendimento, ambiente, lugar, exc...   \n",
       "2  [mexicano, guacamole, comida, restaurante, mai...   \n",
       "3  [música, bom, muito, ambiente, atendimento, mu...   \n",
       "4  [muito, bom, atendimento, ambiente, lugar, exc...   \n",
       "\n",
       "                                 Representative_Docs Sentiment  \\\n",
       "0  [ambiente alegre descontrair bom comida atendi...  positive   \n",
       "1  [ambiente alegre descontrair bom comida atendi...  positive   \n",
       "2  [comer excelente ambiente bem característico m...  positive   \n",
       "3  [ambiente muito agradável música bom excelente...  positive   \n",
       "4  [ambiente alegre descontrair bom comida atendi...  positive   \n",
       "\n",
       "   Sentiment Score  \n",
       "0         0.989543  \n",
       "1         0.626670  \n",
       "2         0.967855  \n",
       "3         0.940317  \n",
       "4         0.979101  "
      ]
     },
     "execution_count": 19,
     "metadata": {},
     "output_type": "execute_result"
    }
   ],
   "source": [
    "df_topics.head()"
   ]
  },
  {
   "cell_type": "code",
   "execution_count": 20,
   "metadata": {},
   "outputs": [],
   "source": [
    "df_topics.to_csv('guacamole_topics_sentiment.csv', index=False)"
   ]
  },
  {
   "cell_type": "code",
   "execution_count": 23,
   "metadata": {},
   "outputs": [
    {
     "data": {
      "text/plain": [
       "Sentiment\n",
       "positive    2648\n",
       "negative     218\n",
       "neutral        6\n",
       "Name: count, dtype: int64"
      ]
     },
     "execution_count": 23,
     "metadata": {},
     "output_type": "execute_result"
    }
   ],
   "source": [
    "count_sentiment = df_topics[\"Sentiment\"].value_counts()\n",
    "count_sentiment"
   ]
  }
 ],
 "metadata": {
  "kernelspec": {
   "display_name": "tcc",
   "language": "python",
   "name": "python3"
  },
  "language_info": {
   "codemirror_mode": {
    "name": "ipython",
    "version": 3
   },
   "file_extension": ".py",
   "mimetype": "text/x-python",
   "name": "python",
   "nbconvert_exporter": "python",
   "pygments_lexer": "ipython3",
   "version": "3.9.18"
  }
 },
 "nbformat": 4,
 "nbformat_minor": 2
}
