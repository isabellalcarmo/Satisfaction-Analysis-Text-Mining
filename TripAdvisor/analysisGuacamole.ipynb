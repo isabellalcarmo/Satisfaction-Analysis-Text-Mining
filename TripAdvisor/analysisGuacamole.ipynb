{
 "cells": [
  {
   "cell_type": "markdown",
   "metadata": {},
   "source": [
    "# Análise de Tópicos"
   ]
  },
  {
   "cell_type": "markdown",
   "metadata": {},
   "source": [
    "#### Importação de Bibliotecas"
   ]
  },
  {
   "cell_type": "code",
   "execution_count": 1,
   "metadata": {},
   "outputs": [],
   "source": [
    "import pandas as pd\n",
    "import spacy\n",
    "from bertopic import BERTopic\n",
    "\n",
    "from collections import Counter\n",
    "\n",
    "import re\n",
    "from datetime import datetime\n",
    "\n",
    "import warnings\n",
    "warnings.filterwarnings(\"ignore\")"
   ]
  },
  {
   "cell_type": "code",
   "execution_count": 2,
   "metadata": {},
   "outputs": [
    {
     "name": "stderr",
     "output_type": "stream",
     "text": [
      "[nltk_data] Downloading package stopwords to\n",
      "[nltk_data]     C:\\Users\\isabe\\AppData\\Roaming\\nltk_data...\n",
      "[nltk_data]   Package stopwords is already up-to-date!\n",
      "[nltk_data] Downloading package rslp to\n",
      "[nltk_data]     C:\\Users\\isabe\\AppData\\Roaming\\nltk_data...\n",
      "[nltk_data]   Package rslp is already up-to-date!\n"
     ]
    }
   ],
   "source": [
    "from gensim.utils import simple_preprocess\n",
    "\n",
    "import nltk\n",
    "nltk.download([\"stopwords\", \"rslp\"])\n",
    "stopwords = nltk.corpus.stopwords.words(\"portuguese\")"
   ]
  },
  {
   "cell_type": "code",
   "execution_count": 3,
   "metadata": {},
   "outputs": [],
   "source": [
    "from transformers import AutoTokenizer  # Or BertTokenizer\n",
    "from transformers import AutoModelForSequenceClassification  # Or BertForPreTraining for loading pretraining heads\n",
    "from transformers import AutoModelForTokenClassification\n",
    "from transformers import AutoModel  # or BertModel, for BERT without pretraining heads\n",
    "from transformers import pipeline\n",
    "import torch"
   ]
  },
  {
   "cell_type": "markdown",
   "metadata": {},
   "source": [
    "#### Leitura do arquivo"
   ]
  },
  {
   "cell_type": "markdown",
   "metadata": {},
   "source": [
    "O arquivo com os dados da avaliação do restaurante Guacamole, retirados da plataforma TripAdvisor em https://www.tripadvisor.com.br/Restaurant_Review-g303506-d3399400-Reviews-or2000-Guacamole_Cocina_Mexicana_Barra_da_Tijuca-Rio_de_Janeiro_State_of_Rio_de_J.html possui os comentários dos usuários em relação às suas respectivas avaliações do restaurante e a data de tal avaliação."
   ]
  },
  {
   "cell_type": "code",
   "execution_count": 4,
   "metadata": {},
   "outputs": [
    {
     "data": {
      "text/html": [
       "<div>\n",
       "<style scoped>\n",
       "    .dataframe tbody tr th:only-of-type {\n",
       "        vertical-align: middle;\n",
       "    }\n",
       "\n",
       "    .dataframe tbody tr th {\n",
       "        vertical-align: top;\n",
       "    }\n",
       "\n",
       "    .dataframe thead th {\n",
       "        text-align: right;\n",
       "    }\n",
       "</style>\n",
       "<table border=\"1\" class=\"dataframe\">\n",
       "  <thead>\n",
       "    <tr style=\"text-align: right;\">\n",
       "      <th></th>\n",
       "      <th>Date</th>\n",
       "      <th>Review</th>\n",
       "    </tr>\n",
       "  </thead>\n",
       "  <tbody>\n",
       "    <tr>\n",
       "      <th>0</th>\n",
       "      <td>4 de dezembro de 2023</td>\n",
       "      <td>Atendimento maravilhoso! Matheus foi muito ate...</td>\n",
       "    </tr>\n",
       "    <tr>\n",
       "      <th>1</th>\n",
       "      <td>2 de dezembro de 2023</td>\n",
       "      <td>Gostei muito dos pratos e do atendimento. Muit...</td>\n",
       "    </tr>\n",
       "    <tr>\n",
       "      <th>2</th>\n",
       "      <td>1 de dezembro de 2023</td>\n",
       "      <td>Eu amei, é a melhor cozinha mexicana que eu já...</td>\n",
       "    </tr>\n",
       "    <tr>\n",
       "      <th>3</th>\n",
       "      <td>29 de novembro de 2023</td>\n",
       "      <td>Ótimo ambiente e decoração, funcionários prest...</td>\n",
       "    </tr>\n",
       "    <tr>\n",
       "      <th>4</th>\n",
       "      <td>27 de novembro de 2023</td>\n",
       "      <td>Amomamos o atendimento do Matheus e do, tudo ó...</td>\n",
       "    </tr>\n",
       "  </tbody>\n",
       "</table>\n",
       "</div>"
      ],
      "text/plain": [
       "                     Date                                             Review\n",
       "0   4 de dezembro de 2023  Atendimento maravilhoso! Matheus foi muito ate...\n",
       "1   2 de dezembro de 2023  Gostei muito dos pratos e do atendimento. Muit...\n",
       "2   1 de dezembro de 2023  Eu amei, é a melhor cozinha mexicana que eu já...\n",
       "3  29 de novembro de 2023  Ótimo ambiente e decoração, funcionários prest...\n",
       "4  27 de novembro de 2023  Amomamos o atendimento do Matheus e do, tudo ó..."
      ]
     },
     "execution_count": 4,
     "metadata": {},
     "output_type": "execute_result"
    }
   ],
   "source": [
    "df_reviews = pd.read_csv(\"guacamole_reviews.csv\")\n",
    "df_reviews.head()"
   ]
  },
  {
   "cell_type": "code",
   "execution_count": 5,
   "metadata": {},
   "outputs": [],
   "source": [
    "df_comments = df_reviews[\"Review\"]\n",
    "df_dates = df_reviews[\"Date\"]"
   ]
  },
  {
   "cell_type": "markdown",
   "metadata": {},
   "source": [
    "#### Limpeza dos dados"
   ]
  },
  {
   "cell_type": "markdown",
   "metadata": {},
   "source": [
    "As funções em seguir estão relacionadas ao pré-processamento de texto em linguagem natural utilizando o português. \n",
    "- A função ```remove_stopwords``` realiza a remoção de palavras de parada (stopwords) de textos em português. \n",
    "- A função ```lemmatizer``` realiza a lematização de um texto em português, preservando apenas certas classes gramaticais.\n",
    "- A função ```parse_date``` realiza a conversão de uma data no formato \"(dia) de (mês) de (ano)\" para \"YYYY-MM-DD\"."
   ]
  },
  {
   "cell_type": "code",
   "execution_count": 6,
   "metadata": {},
   "outputs": [],
   "source": [
    "def remove_stopwords(text):\n",
    "    words = simple_preprocess(text)\n",
    "    phrase_adjusted = \" \".join([word for word in words if word not in stopwords])\n",
    "    return phrase_adjusted.lower()\n",
    "\n",
    "spacy_lemma = spacy.load(\"pt_core_news_sm\")\n",
    "\n",
    "def lemmatizer(text, postags_permit=['NOUN', 'ADJ', 'VERB', 'ADV']):\n",
    "    \"\"\"https://spacy.io/api/annotation\"\"\"\n",
    "    doc = spacy_lemma(text.lower())\n",
    "    doc_lemma = \" \".join([token.lemma_ for token in doc if token.pos_ in postags_permit])\n",
    "    return doc_lemma"
   ]
  },
  {
   "cell_type": "code",
   "execution_count": 7,
   "metadata": {},
   "outputs": [],
   "source": [
    "def parse_date(date_str):\n",
    "    months = {\n",
    "        'janeiro': 'January', 'fevereiro': 'February', 'março': 'March', 'abril': 'April',\n",
    "        'maio': 'May', 'junho': 'June', 'julho': 'July', 'agosto': 'August',\n",
    "        'setembro': 'September', 'outubro': 'October', 'novembro': 'November', 'dezembro': 'December'\n",
    "    }\n",
    "    match = re.match(r'(\\d+) de (\\w+) de (\\d+)', date_str)\n",
    "    if match:\n",
    "        day, month, year = match.groups()\n",
    "        month = months[month.lower()]\n",
    "        return datetime(int(year), list(months.values()).index(month) + 1, int(day)).strftime(\"%Y-%m-%d\")\n",
    "    else:\n",
    "        return None"
   ]
  },
  {
   "cell_type": "markdown",
   "metadata": {},
   "source": [
    "Aplicamos as mudanças nos comentários das avaliações e adicionamos uma nova coluna no DataFrame com os resultados obtidos."
   ]
  },
  {
   "cell_type": "code",
   "execution_count": 9,
   "metadata": {},
   "outputs": [
    {
     "name": "stdout",
     "output_type": "stream",
     "text": [
      "CPU times: total: 13.3 s\n",
      "Wall time: 38.3 s\n"
     ]
    }
   ],
   "source": [
    "%%time\n",
    "\n",
    "df_reviews[\"Review Lemma\"] = df_reviews[\"Review\"].map(remove_stopwords)\n",
    "df_reviews[\"Review Lemma\"] = df_reviews[\"Review\"].map(lemmatizer)"
   ]
  },
  {
   "cell_type": "code",
   "execution_count": 10,
   "metadata": {},
   "outputs": [],
   "source": [
    "# df_reviews[\"Date Formatted\"] = df_reviews[\"Date\"].apply(parse_date)"
   ]
  },
  {
   "cell_type": "code",
   "execution_count": 10,
   "metadata": {},
   "outputs": [
    {
     "data": {
      "text/html": [
       "<div>\n",
       "<style scoped>\n",
       "    .dataframe tbody tr th:only-of-type {\n",
       "        vertical-align: middle;\n",
       "    }\n",
       "\n",
       "    .dataframe tbody tr th {\n",
       "        vertical-align: top;\n",
       "    }\n",
       "\n",
       "    .dataframe thead th {\n",
       "        text-align: right;\n",
       "    }\n",
       "</style>\n",
       "<table border=\"1\" class=\"dataframe\">\n",
       "  <thead>\n",
       "    <tr style=\"text-align: right;\">\n",
       "      <th></th>\n",
       "      <th>Date</th>\n",
       "      <th>Review</th>\n",
       "      <th>Review Lemma</th>\n",
       "    </tr>\n",
       "  </thead>\n",
       "  <tbody>\n",
       "    <tr>\n",
       "      <th>0</th>\n",
       "      <td>4 de dezembro de 2023</td>\n",
       "      <td>Atendimento maravilhoso! Matheus foi muito ate...</td>\n",
       "      <td>atendimento maravilhoso matheu muito atencioso...</td>\n",
       "    </tr>\n",
       "    <tr>\n",
       "      <th>1</th>\n",
       "      <td>2 de dezembro de 2023</td>\n",
       "      <td>Gostei muito dos pratos e do atendimento. Muit...</td>\n",
       "      <td>gostar muito prato atendimento solicito comida...</td>\n",
       "    </tr>\n",
       "    <tr>\n",
       "      <th>2</th>\n",
       "      <td>1 de dezembro de 2023</td>\n",
       "      <td>Eu amei, é a melhor cozinha mexicana que eu já...</td>\n",
       "      <td>ameir bom cozinha mexicano já comi espaço muit...</td>\n",
       "    </tr>\n",
       "    <tr>\n",
       "      <th>3</th>\n",
       "      <td>29 de novembro de 2023</td>\n",
       "      <td>Ótimo ambiente e decoração, funcionários prest...</td>\n",
       "      <td>bom ambiente decoração funcionário prestativo ...</td>\n",
       "    </tr>\n",
       "    <tr>\n",
       "      <th>4</th>\n",
       "      <td>27 de novembro de 2023</td>\n",
       "      <td>Amomamos o atendimento do Matheus e do, tudo ó...</td>\n",
       "      <td>amoma atendimento matheu bom amar atendimento ...</td>\n",
       "    </tr>\n",
       "  </tbody>\n",
       "</table>\n",
       "</div>"
      ],
      "text/plain": [
       "                     Date                                             Review  \\\n",
       "0   4 de dezembro de 2023  Atendimento maravilhoso! Matheus foi muito ate...   \n",
       "1   2 de dezembro de 2023  Gostei muito dos pratos e do atendimento. Muit...   \n",
       "2   1 de dezembro de 2023  Eu amei, é a melhor cozinha mexicana que eu já...   \n",
       "3  29 de novembro de 2023  Ótimo ambiente e decoração, funcionários prest...   \n",
       "4  27 de novembro de 2023  Amomamos o atendimento do Matheus e do, tudo ó...   \n",
       "\n",
       "                                        Review Lemma  \n",
       "0  atendimento maravilhoso matheu muito atencioso...  \n",
       "1  gostar muito prato atendimento solicito comida...  \n",
       "2  ameir bom cozinha mexicano já comi espaço muit...  \n",
       "3  bom ambiente decoração funcionário prestativo ...  \n",
       "4  amoma atendimento matheu bom amar atendimento ...  "
      ]
     },
     "execution_count": 10,
     "metadata": {},
     "output_type": "execute_result"
    }
   ],
   "source": [
    "df_reviews.head()"
   ]
  },
  {
   "cell_type": "code",
   "execution_count": 11,
   "metadata": {},
   "outputs": [
    {
     "data": {
      "text/plain": [
       "['atendimento maravilhoso matheu muito atencioso colocar playlist atendente super simpatico',\n",
       " 'gostar muito prato atendimento solicito comida saboroso certeza voltar mais vez',\n",
       " 'ameir bom cozinha mexicano já comi espaço muito animar imersivo decoração casa linda atendimento excelente sempre',\n",
       " 'bom ambiente decoração funcionário prestativo comida boa música agradável divertido mariachi',\n",
       " 'amoma atendimento matheu bom amar atendimento sensacional comida muito saboroso']"
      ]
     },
     "execution_count": 11,
     "metadata": {},
     "output_type": "execute_result"
    }
   ],
   "source": [
    "df_comments = df_reviews[\"Review Lemma\"]\n",
    "doc_comments = df_comments.to_list()\n",
    "doc_comments[:5]"
   ]
  },
  {
   "cell_type": "markdown",
   "metadata": {},
   "source": [
    "#### BERTopic"
   ]
  },
  {
   "cell_type": "markdown",
   "metadata": {},
   "source": [
    "Utilizando os parâmetros padronizados do BERTopic, obteremos os tópicos, do mais frequente ao menos frequente. \n",
    "- Se desejamos visualizar a frequência de cada tópico, podemos utilizar ```get_topic_freq()``` para obter os valores.\n",
    "- Se desejamos visualizar as informações de todos os tópicos obtidos, podemos utilizar ```get_topic_info()``` para obter o número de documentos que estão relacionados a cada tópico e o nome dele, além de suas representações textuais.\n",
    "- Se desejamos visualizar as informações de um tópico em específico, podemos utilizar o ```get_topic()``` para obter as palavras que pertencem ao tópico e os seus _scores_ de c-TF-IDF, ou seja, uma representação numérica do quão frequente e única aquela palavra é para o documento.\n",
    "\n",
    "Vale lembrar que o tópico de número **-1** refere-se a todos os valores discrepantes e normalmente deve ser ignorado."
   ]
  },
  {
   "cell_type": "code",
   "execution_count": 12,
   "metadata": {},
   "outputs": [
    {
     "name": "stderr",
     "output_type": "stream",
     "text": [
      "2024-01-11 14:17:59,972 - BERTopic - Embedding - Transforming documents to embeddings.\n"
     ]
    },
    {
     "data": {
      "application/vnd.jupyter.widget-view+json": {
       "model_id": "79b05e50d5a54c9ca416e1b74d770795",
       "version_major": 2,
       "version_minor": 0
      },
      "text/plain": [
       "Batches:   0%|          | 0/90 [00:00<?, ?it/s]"
      ]
     },
     "metadata": {},
     "output_type": "display_data"
    },
    {
     "name": "stderr",
     "output_type": "stream",
     "text": [
      "2024-01-11 14:19:14,857 - BERTopic - Embedding - Completed ✓\n",
      "2024-01-11 14:19:14,859 - BERTopic - Dimensionality - Fitting the dimensionality reduction algorithm\n",
      "2024-01-11 14:19:53,446 - BERTopic - Dimensionality - Completed ✓\n",
      "2024-01-11 14:19:53,466 - BERTopic - Cluster - Start clustering the reduced embeddings\n",
      "2024-01-11 14:19:53,849 - BERTopic - Cluster - Completed ✓\n",
      "2024-01-11 14:19:53,862 - BERTopic - Representation - Extracting topics from clusters using representation models.\n",
      "2024-01-11 14:19:54,086 - BERTopic - Representation - Completed ✓\n"
     ]
    },
    {
     "name": "stdout",
     "output_type": "stream",
     "text": [
      "CPU times: total: 6min 2s\n",
      "Wall time: 1min 54s\n"
     ]
    }
   ],
   "source": [
    "%%time\n",
    "\n",
    "topic_model = BERTopic(language=\"portuguese\", calculate_probabilities=True, verbose=True)\n",
    "topics, probs = topic_model.fit_transform(doc_comments)"
   ]
  },
  {
   "cell_type": "code",
   "execution_count": 13,
   "metadata": {},
   "outputs": [
    {
     "data": {
      "text/html": [
       "<div>\n",
       "<style scoped>\n",
       "    .dataframe tbody tr th:only-of-type {\n",
       "        vertical-align: middle;\n",
       "    }\n",
       "\n",
       "    .dataframe tbody tr th {\n",
       "        vertical-align: top;\n",
       "    }\n",
       "\n",
       "    .dataframe thead th {\n",
       "        text-align: right;\n",
       "    }\n",
       "</style>\n",
       "<table border=\"1\" class=\"dataframe\">\n",
       "  <thead>\n",
       "    <tr style=\"text-align: right;\">\n",
       "      <th></th>\n",
       "      <th>Topic</th>\n",
       "      <th>Count</th>\n",
       "      <th>Name</th>\n",
       "      <th>Representation</th>\n",
       "      <th>Representative_Docs</th>\n",
       "    </tr>\n",
       "  </thead>\n",
       "  <tbody>\n",
       "    <tr>\n",
       "      <th>0</th>\n",
       "      <td>-1</td>\n",
       "      <td>194</td>\n",
       "      <td>-1_muito_bem_bom_mais</td>\n",
       "      <td>[muito, bem, bom, mais, lugar, animação, atend...</td>\n",
       "      <td>[ambiente bem animar comida muito bom além ter...</td>\n",
       "    </tr>\n",
       "    <tr>\n",
       "      <th>1</th>\n",
       "      <td>0</td>\n",
       "      <td>735</td>\n",
       "      <td>0_mexicano_guacamole_comida_restaurante</td>\n",
       "      <td>[mexicano, guacamole, comida, restaurante, mai...</td>\n",
       "      <td>[comer excelente ambiente bem característico m...</td>\n",
       "    </tr>\n",
       "    <tr>\n",
       "      <th>2</th>\n",
       "      <td>1</td>\n",
       "      <td>658</td>\n",
       "      <td>1_muito_bom_atendimento_ambiente</td>\n",
       "      <td>[muito, bom, atendimento, ambiente, lugar, exc...</td>\n",
       "      <td>[experiência incrível comer ótimo lugar super ...</td>\n",
       "    </tr>\n",
       "    <tr>\n",
       "      <th>3</th>\n",
       "      <td>2</td>\n",
       "      <td>347</td>\n",
       "      <td>2_música_bom_ambiente_muito</td>\n",
       "      <td>[música, bom, ambiente, muito, atendimento, mu...</td>\n",
       "      <td>[atendimento excelente bom comida ambiente div...</td>\n",
       "    </tr>\n",
       "    <tr>\n",
       "      <th>4</th>\n",
       "      <td>3</td>\n",
       "      <td>241</td>\n",
       "      <td>3_aniversário_comemorar_amigo_muito</td>\n",
       "      <td>[aniversário, comemorar, amigo, muito, bom, lu...</td>\n",
       "      <td>[bom local comemorar aniversário decoração mui...</td>\n",
       "    </tr>\n",
       "  </tbody>\n",
       "</table>\n",
       "</div>"
      ],
      "text/plain": [
       "   Topic  Count                                     Name  \\\n",
       "0     -1    194                    -1_muito_bem_bom_mais   \n",
       "1      0    735  0_mexicano_guacamole_comida_restaurante   \n",
       "2      1    658         1_muito_bom_atendimento_ambiente   \n",
       "3      2    347              2_música_bom_ambiente_muito   \n",
       "4      3    241      3_aniversário_comemorar_amigo_muito   \n",
       "\n",
       "                                      Representation  \\\n",
       "0  [muito, bem, bom, mais, lugar, animação, atend...   \n",
       "1  [mexicano, guacamole, comida, restaurante, mai...   \n",
       "2  [muito, bom, atendimento, ambiente, lugar, exc...   \n",
       "3  [música, bom, ambiente, muito, atendimento, mu...   \n",
       "4  [aniversário, comemorar, amigo, muito, bom, lu...   \n",
       "\n",
       "                                 Representative_Docs  \n",
       "0  [ambiente bem animar comida muito bom além ter...  \n",
       "1  [comer excelente ambiente bem característico m...  \n",
       "2  [experiência incrível comer ótimo lugar super ...  \n",
       "3  [atendimento excelente bom comida ambiente div...  \n",
       "4  [bom local comemorar aniversário decoração mui...  "
      ]
     },
     "execution_count": 13,
     "metadata": {},
     "output_type": "execute_result"
    }
   ],
   "source": [
    "freq = topic_model.get_topic_info(); freq.head(5)"
   ]
  },
  {
   "cell_type": "code",
   "execution_count": 14,
   "metadata": {},
   "outputs": [
    {
     "data": {
      "text/html": [
       "<div>\n",
       "<style scoped>\n",
       "    .dataframe tbody tr th:only-of-type {\n",
       "        vertical-align: middle;\n",
       "    }\n",
       "\n",
       "    .dataframe tbody tr th {\n",
       "        vertical-align: top;\n",
       "    }\n",
       "\n",
       "    .dataframe thead th {\n",
       "        text-align: right;\n",
       "    }\n",
       "</style>\n",
       "<table border=\"1\" class=\"dataframe\">\n",
       "  <thead>\n",
       "    <tr style=\"text-align: right;\">\n",
       "      <th></th>\n",
       "      <th>Topic</th>\n",
       "      <th>Count</th>\n",
       "    </tr>\n",
       "  </thead>\n",
       "  <tbody>\n",
       "    <tr>\n",
       "      <th>1</th>\n",
       "      <td>0</td>\n",
       "      <td>735</td>\n",
       "    </tr>\n",
       "    <tr>\n",
       "      <th>0</th>\n",
       "      <td>1</td>\n",
       "      <td>658</td>\n",
       "    </tr>\n",
       "    <tr>\n",
       "      <th>2</th>\n",
       "      <td>2</td>\n",
       "      <td>347</td>\n",
       "    </tr>\n",
       "    <tr>\n",
       "      <th>8</th>\n",
       "      <td>3</td>\n",
       "      <td>241</td>\n",
       "    </tr>\n",
       "    <tr>\n",
       "      <th>4</th>\n",
       "      <td>4</td>\n",
       "      <td>223</td>\n",
       "    </tr>\n",
       "    <tr>\n",
       "      <th>3</th>\n",
       "      <td>-1</td>\n",
       "      <td>194</td>\n",
       "    </tr>\n",
       "    <tr>\n",
       "      <th>7</th>\n",
       "      <td>5</td>\n",
       "      <td>146</td>\n",
       "    </tr>\n",
       "    <tr>\n",
       "      <th>11</th>\n",
       "      <td>6</td>\n",
       "      <td>107</td>\n",
       "    </tr>\n",
       "    <tr>\n",
       "      <th>5</th>\n",
       "      <td>7</td>\n",
       "      <td>74</td>\n",
       "    </tr>\n",
       "    <tr>\n",
       "      <th>13</th>\n",
       "      <td>8</td>\n",
       "      <td>42</td>\n",
       "    </tr>\n",
       "    <tr>\n",
       "      <th>6</th>\n",
       "      <td>9</td>\n",
       "      <td>31</td>\n",
       "    </tr>\n",
       "    <tr>\n",
       "      <th>12</th>\n",
       "      <td>10</td>\n",
       "      <td>25</td>\n",
       "    </tr>\n",
       "    <tr>\n",
       "      <th>10</th>\n",
       "      <td>11</td>\n",
       "      <td>21</td>\n",
       "    </tr>\n",
       "    <tr>\n",
       "      <th>14</th>\n",
       "      <td>12</td>\n",
       "      <td>15</td>\n",
       "    </tr>\n",
       "    <tr>\n",
       "      <th>9</th>\n",
       "      <td>13</td>\n",
       "      <td>13</td>\n",
       "    </tr>\n",
       "  </tbody>\n",
       "</table>\n",
       "</div>"
      ],
      "text/plain": [
       "    Topic  Count\n",
       "1       0    735\n",
       "0       1    658\n",
       "2       2    347\n",
       "8       3    241\n",
       "4       4    223\n",
       "3      -1    194\n",
       "7       5    146\n",
       "11      6    107\n",
       "5       7     74\n",
       "13      8     42\n",
       "6       9     31\n",
       "12     10     25\n",
       "10     11     21\n",
       "14     12     15\n",
       "9      13     13"
      ]
     },
     "execution_count": 14,
     "metadata": {},
     "output_type": "execute_result"
    }
   ],
   "source": [
    "topic_model.get_topic_freq()"
   ]
  },
  {
   "cell_type": "code",
   "execution_count": 22,
   "metadata": {},
   "outputs": [
    {
     "data": {
      "text/plain": [
       "[('mexicano', 0.07461222184136691),\n",
       " ('guacamole', 0.03947320087044881),\n",
       " ('comida', 0.036340650482668824),\n",
       " ('restaurante', 0.03571798770345292),\n",
       " ('mais', 0.03419558809433462),\n",
       " ('bom', 0.03356667619148456),\n",
       " ('muito', 0.030292952948961203),\n",
       " ('ter', 0.026765701454827085),\n",
       " ('bem', 0.0255988114743975),\n",
       " ('ambiente', 0.02506603785811365)]"
      ]
     },
     "execution_count": 22,
     "metadata": {},
     "output_type": "execute_result"
    }
   ],
   "source": [
    "topic_model.get_topic(0)"
   ]
  },
  {
   "cell_type": "markdown",
   "metadata": {},
   "source": [
    "#### Visualização dos tópicos"
   ]
  },
  {
   "cell_type": "code",
   "execution_count": 16,
   "metadata": {},
   "outputs": [
    {
     "data": {
      "application/vnd.plotly.v1+json": {
       "config": {
        "plotlyServerURL": "https://plot.ly"
       },
       "data": [
        {
         "marker": {
          "color": "#D55E00"
         },
         "orientation": "h",
         "type": "bar",
         "x": [
          0.03419558809433462,
          0.03571798770345292,
          0.036340650482668824,
          0.03947320087044881,
          0.07461222184136691
         ],
         "xaxis": "x",
         "y": [
          "mais  ",
          "restaurante  ",
          "comida  ",
          "guacamole  ",
          "mexicano  "
         ],
         "yaxis": "y"
        },
        {
         "marker": {
          "color": "#0072B2"
         },
         "orientation": "h",
         "type": "bar",
         "x": [
          0.03925559658352984,
          0.03984973798171174,
          0.05163568608411386,
          0.05678535973025245,
          0.05850345092433402
         ],
         "xaxis": "x2",
         "y": [
          "lugar  ",
          "ambiente  ",
          "atendimento  ",
          "bom  ",
          "muito  "
         ],
         "yaxis": "y2"
        },
        {
         "marker": {
          "color": "#CC79A7"
         },
         "orientation": "h",
         "type": "bar",
         "x": [
          0.03750589433111483,
          0.042940544183495376,
          0.04308518467774313,
          0.05386512568509293,
          0.0914523407086386
         ],
         "xaxis": "x3",
         "y": [
          "atendimento  ",
          "muito  ",
          "ambiente  ",
          "bom  ",
          "música  "
         ],
         "yaxis": "y3"
        },
        {
         "marker": {
          "color": "#E69F00"
         },
         "orientation": "h",
         "type": "bar",
         "x": [
          0.03719002099844002,
          0.04043922156211889,
          0.04270683501889699,
          0.09689623229576745,
          0.12567053692424676
         ],
         "xaxis": "x4",
         "y": [
          "bom  ",
          "muito  ",
          "amigo  ",
          "comemorar  ",
          "aniversário  "
         ],
         "yaxis": "y4"
        },
        {
         "marker": {
          "color": "#56B4E9"
         },
         "orientation": "h",
         "type": "bar",
         "x": [
          0.04888355120559464,
          0.0494727764240933,
          0.05252300812395372,
          0.056841309263196665,
          0.07321742612613576
         ],
         "xaxis": "x5",
         "y": [
          "muito  ",
          "atendimento  ",
          "bom  ",
          "drink  ",
          "bebida  "
         ],
         "yaxis": "y5"
        },
        {
         "marker": {
          "color": "#009E73"
         },
         "orientation": "h",
         "type": "bar",
         "x": [
          0.036559230598113855,
          0.041647689967177944,
          0.04645173113180273,
          0.05214239829592305,
          0.13173663309216715
         ],
         "xaxis": "x6",
         "y": [
          "comida  ",
          "atendimento  ",
          "muito  ",
          "bom  ",
          "restaurante  "
         ],
         "yaxis": "y6"
        },
        {
         "marker": {
          "color": "#F0E442"
         },
         "orientation": "h",
         "type": "bar",
         "x": [
          0.03273333032369439,
          0.03725279230691923,
          0.04219940090374796,
          0.06592390872122744,
          0.13361041077050853
         ],
         "xaxis": "x7",
         "y": [
          "divertido  ",
          "bom  ",
          "muito  ",
          "tequileiro  ",
          "tequila  "
         ],
         "yaxis": "y7"
        },
        {
         "marker": {
          "color": "#D55E00"
         },
         "orientation": "h",
         "type": "bar",
         "x": [
          0.03723513746430504,
          0.0400224532513691,
          0.04421242890845293,
          0.055593407562277576,
          0.0629965767663523
         ],
         "xaxis": "x8",
         "y": [
          "restaurante  ",
          "fila  ",
          "chegar  ",
          "mais  ",
          "não  "
         ],
         "yaxis": "y8"
        },
        {
         "marker": {
          "color": "#0072B2"
         },
         "orientation": "h",
         "type": "bar",
         "x": [
          0.04418702081163201,
          0.046056476811754746,
          0.056411164108912316,
          0.13290829666447862,
          0.16821508713453795
         ],
         "xaxis": "x9",
         "y": [
          "fazer  ",
          "mesa  ",
          "sistema  ",
          "pedido  ",
          "tablet  "
         ],
         "yaxis": "y9"
        },
        {
         "marker": {
          "color": "#CC79A7"
         },
         "orientation": "h",
         "type": "bar",
         "x": [
          0.03372992755174015,
          0.03460886262413668,
          0.03648597874193681,
          0.03946730757541759,
          0.043193951321542516
         ],
         "xaxis": "x10",
         "y": [
          "bebida  ",
          "atendimento  ",
          "ameir  ",
          "local  ",
          "amigo  "
         ],
         "yaxis": "y10"
        }
       ],
       "layout": {
        "annotations": [
         {
          "font": {
           "size": 16
          },
          "showarrow": false,
          "text": "Topic 0",
          "x": 0.0875,
          "xanchor": "center",
          "xref": "paper",
          "y": 1,
          "yanchor": "bottom",
          "yref": "paper"
         },
         {
          "font": {
           "size": 16
          },
          "showarrow": false,
          "text": "Topic 1",
          "x": 0.36250000000000004,
          "xanchor": "center",
          "xref": "paper",
          "y": 1,
          "yanchor": "bottom",
          "yref": "paper"
         },
         {
          "font": {
           "size": 16
          },
          "showarrow": false,
          "text": "Topic 2",
          "x": 0.6375000000000001,
          "xanchor": "center",
          "xref": "paper",
          "y": 1,
          "yanchor": "bottom",
          "yref": "paper"
         },
         {
          "font": {
           "size": 16
          },
          "showarrow": false,
          "text": "Topic 3",
          "x": 0.9125,
          "xanchor": "center",
          "xref": "paper",
          "y": 1,
          "yanchor": "bottom",
          "yref": "paper"
         },
         {
          "font": {
           "size": 16
          },
          "showarrow": false,
          "text": "Topic 4",
          "x": 0.0875,
          "xanchor": "center",
          "xref": "paper",
          "y": 0.6222222222222222,
          "yanchor": "bottom",
          "yref": "paper"
         },
         {
          "font": {
           "size": 16
          },
          "showarrow": false,
          "text": "Topic 5",
          "x": 0.36250000000000004,
          "xanchor": "center",
          "xref": "paper",
          "y": 0.6222222222222222,
          "yanchor": "bottom",
          "yref": "paper"
         },
         {
          "font": {
           "size": 16
          },
          "showarrow": false,
          "text": "Topic 6",
          "x": 0.6375000000000001,
          "xanchor": "center",
          "xref": "paper",
          "y": 0.6222222222222222,
          "yanchor": "bottom",
          "yref": "paper"
         },
         {
          "font": {
           "size": 16
          },
          "showarrow": false,
          "text": "Topic 7",
          "x": 0.9125,
          "xanchor": "center",
          "xref": "paper",
          "y": 0.6222222222222222,
          "yanchor": "bottom",
          "yref": "paper"
         },
         {
          "font": {
           "size": 16
          },
          "showarrow": false,
          "text": "Topic 8",
          "x": 0.0875,
          "xanchor": "center",
          "xref": "paper",
          "y": 0.24444444444444446,
          "yanchor": "bottom",
          "yref": "paper"
         },
         {
          "font": {
           "size": 16
          },
          "showarrow": false,
          "text": "Topic 9",
          "x": 0.36250000000000004,
          "xanchor": "center",
          "xref": "paper",
          "y": 0.24444444444444446,
          "yanchor": "bottom",
          "yref": "paper"
         }
        ],
        "height": 750,
        "hoverlabel": {
         "bgcolor": "white",
         "font": {
          "family": "Rockwell",
          "size": 16
         }
        },
        "showlegend": false,
        "template": {
         "data": {
          "bar": [
           {
            "error_x": {
             "color": "#2a3f5f"
            },
            "error_y": {
             "color": "#2a3f5f"
            },
            "marker": {
             "line": {
              "color": "white",
              "width": 0.5
             },
             "pattern": {
              "fillmode": "overlay",
              "size": 10,
              "solidity": 0.2
             }
            },
            "type": "bar"
           }
          ],
          "barpolar": [
           {
            "marker": {
             "line": {
              "color": "white",
              "width": 0.5
             },
             "pattern": {
              "fillmode": "overlay",
              "size": 10,
              "solidity": 0.2
             }
            },
            "type": "barpolar"
           }
          ],
          "carpet": [
           {
            "aaxis": {
             "endlinecolor": "#2a3f5f",
             "gridcolor": "#C8D4E3",
             "linecolor": "#C8D4E3",
             "minorgridcolor": "#C8D4E3",
             "startlinecolor": "#2a3f5f"
            },
            "baxis": {
             "endlinecolor": "#2a3f5f",
             "gridcolor": "#C8D4E3",
             "linecolor": "#C8D4E3",
             "minorgridcolor": "#C8D4E3",
             "startlinecolor": "#2a3f5f"
            },
            "type": "carpet"
           }
          ],
          "choropleth": [
           {
            "colorbar": {
             "outlinewidth": 0,
             "ticks": ""
            },
            "type": "choropleth"
           }
          ],
          "contour": [
           {
            "colorbar": {
             "outlinewidth": 0,
             "ticks": ""
            },
            "colorscale": [
             [
              0,
              "#0d0887"
             ],
             [
              0.1111111111111111,
              "#46039f"
             ],
             [
              0.2222222222222222,
              "#7201a8"
             ],
             [
              0.3333333333333333,
              "#9c179e"
             ],
             [
              0.4444444444444444,
              "#bd3786"
             ],
             [
              0.5555555555555556,
              "#d8576b"
             ],
             [
              0.6666666666666666,
              "#ed7953"
             ],
             [
              0.7777777777777778,
              "#fb9f3a"
             ],
             [
              0.8888888888888888,
              "#fdca26"
             ],
             [
              1,
              "#f0f921"
             ]
            ],
            "type": "contour"
           }
          ],
          "contourcarpet": [
           {
            "colorbar": {
             "outlinewidth": 0,
             "ticks": ""
            },
            "type": "contourcarpet"
           }
          ],
          "heatmap": [
           {
            "colorbar": {
             "outlinewidth": 0,
             "ticks": ""
            },
            "colorscale": [
             [
              0,
              "#0d0887"
             ],
             [
              0.1111111111111111,
              "#46039f"
             ],
             [
              0.2222222222222222,
              "#7201a8"
             ],
             [
              0.3333333333333333,
              "#9c179e"
             ],
             [
              0.4444444444444444,
              "#bd3786"
             ],
             [
              0.5555555555555556,
              "#d8576b"
             ],
             [
              0.6666666666666666,
              "#ed7953"
             ],
             [
              0.7777777777777778,
              "#fb9f3a"
             ],
             [
              0.8888888888888888,
              "#fdca26"
             ],
             [
              1,
              "#f0f921"
             ]
            ],
            "type": "heatmap"
           }
          ],
          "heatmapgl": [
           {
            "colorbar": {
             "outlinewidth": 0,
             "ticks": ""
            },
            "colorscale": [
             [
              0,
              "#0d0887"
             ],
             [
              0.1111111111111111,
              "#46039f"
             ],
             [
              0.2222222222222222,
              "#7201a8"
             ],
             [
              0.3333333333333333,
              "#9c179e"
             ],
             [
              0.4444444444444444,
              "#bd3786"
             ],
             [
              0.5555555555555556,
              "#d8576b"
             ],
             [
              0.6666666666666666,
              "#ed7953"
             ],
             [
              0.7777777777777778,
              "#fb9f3a"
             ],
             [
              0.8888888888888888,
              "#fdca26"
             ],
             [
              1,
              "#f0f921"
             ]
            ],
            "type": "heatmapgl"
           }
          ],
          "histogram": [
           {
            "marker": {
             "pattern": {
              "fillmode": "overlay",
              "size": 10,
              "solidity": 0.2
             }
            },
            "type": "histogram"
           }
          ],
          "histogram2d": [
           {
            "colorbar": {
             "outlinewidth": 0,
             "ticks": ""
            },
            "colorscale": [
             [
              0,
              "#0d0887"
             ],
             [
              0.1111111111111111,
              "#46039f"
             ],
             [
              0.2222222222222222,
              "#7201a8"
             ],
             [
              0.3333333333333333,
              "#9c179e"
             ],
             [
              0.4444444444444444,
              "#bd3786"
             ],
             [
              0.5555555555555556,
              "#d8576b"
             ],
             [
              0.6666666666666666,
              "#ed7953"
             ],
             [
              0.7777777777777778,
              "#fb9f3a"
             ],
             [
              0.8888888888888888,
              "#fdca26"
             ],
             [
              1,
              "#f0f921"
             ]
            ],
            "type": "histogram2d"
           }
          ],
          "histogram2dcontour": [
           {
            "colorbar": {
             "outlinewidth": 0,
             "ticks": ""
            },
            "colorscale": [
             [
              0,
              "#0d0887"
             ],
             [
              0.1111111111111111,
              "#46039f"
             ],
             [
              0.2222222222222222,
              "#7201a8"
             ],
             [
              0.3333333333333333,
              "#9c179e"
             ],
             [
              0.4444444444444444,
              "#bd3786"
             ],
             [
              0.5555555555555556,
              "#d8576b"
             ],
             [
              0.6666666666666666,
              "#ed7953"
             ],
             [
              0.7777777777777778,
              "#fb9f3a"
             ],
             [
              0.8888888888888888,
              "#fdca26"
             ],
             [
              1,
              "#f0f921"
             ]
            ],
            "type": "histogram2dcontour"
           }
          ],
          "mesh3d": [
           {
            "colorbar": {
             "outlinewidth": 0,
             "ticks": ""
            },
            "type": "mesh3d"
           }
          ],
          "parcoords": [
           {
            "line": {
             "colorbar": {
              "outlinewidth": 0,
              "ticks": ""
             }
            },
            "type": "parcoords"
           }
          ],
          "pie": [
           {
            "automargin": true,
            "type": "pie"
           }
          ],
          "scatter": [
           {
            "fillpattern": {
             "fillmode": "overlay",
             "size": 10,
             "solidity": 0.2
            },
            "type": "scatter"
           }
          ],
          "scatter3d": [
           {
            "line": {
             "colorbar": {
              "outlinewidth": 0,
              "ticks": ""
             }
            },
            "marker": {
             "colorbar": {
              "outlinewidth": 0,
              "ticks": ""
             }
            },
            "type": "scatter3d"
           }
          ],
          "scattercarpet": [
           {
            "marker": {
             "colorbar": {
              "outlinewidth": 0,
              "ticks": ""
             }
            },
            "type": "scattercarpet"
           }
          ],
          "scattergeo": [
           {
            "marker": {
             "colorbar": {
              "outlinewidth": 0,
              "ticks": ""
             }
            },
            "type": "scattergeo"
           }
          ],
          "scattergl": [
           {
            "marker": {
             "colorbar": {
              "outlinewidth": 0,
              "ticks": ""
             }
            },
            "type": "scattergl"
           }
          ],
          "scattermapbox": [
           {
            "marker": {
             "colorbar": {
              "outlinewidth": 0,
              "ticks": ""
             }
            },
            "type": "scattermapbox"
           }
          ],
          "scatterpolar": [
           {
            "marker": {
             "colorbar": {
              "outlinewidth": 0,
              "ticks": ""
             }
            },
            "type": "scatterpolar"
           }
          ],
          "scatterpolargl": [
           {
            "marker": {
             "colorbar": {
              "outlinewidth": 0,
              "ticks": ""
             }
            },
            "type": "scatterpolargl"
           }
          ],
          "scatterternary": [
           {
            "marker": {
             "colorbar": {
              "outlinewidth": 0,
              "ticks": ""
             }
            },
            "type": "scatterternary"
           }
          ],
          "surface": [
           {
            "colorbar": {
             "outlinewidth": 0,
             "ticks": ""
            },
            "colorscale": [
             [
              0,
              "#0d0887"
             ],
             [
              0.1111111111111111,
              "#46039f"
             ],
             [
              0.2222222222222222,
              "#7201a8"
             ],
             [
              0.3333333333333333,
              "#9c179e"
             ],
             [
              0.4444444444444444,
              "#bd3786"
             ],
             [
              0.5555555555555556,
              "#d8576b"
             ],
             [
              0.6666666666666666,
              "#ed7953"
             ],
             [
              0.7777777777777778,
              "#fb9f3a"
             ],
             [
              0.8888888888888888,
              "#fdca26"
             ],
             [
              1,
              "#f0f921"
             ]
            ],
            "type": "surface"
           }
          ],
          "table": [
           {
            "cells": {
             "fill": {
              "color": "#EBF0F8"
             },
             "line": {
              "color": "white"
             }
            },
            "header": {
             "fill": {
              "color": "#C8D4E3"
             },
             "line": {
              "color": "white"
             }
            },
            "type": "table"
           }
          ]
         },
         "layout": {
          "annotationdefaults": {
           "arrowcolor": "#2a3f5f",
           "arrowhead": 0,
           "arrowwidth": 1
          },
          "autotypenumbers": "strict",
          "coloraxis": {
           "colorbar": {
            "outlinewidth": 0,
            "ticks": ""
           }
          },
          "colorscale": {
           "diverging": [
            [
             0,
             "#8e0152"
            ],
            [
             0.1,
             "#c51b7d"
            ],
            [
             0.2,
             "#de77ae"
            ],
            [
             0.3,
             "#f1b6da"
            ],
            [
             0.4,
             "#fde0ef"
            ],
            [
             0.5,
             "#f7f7f7"
            ],
            [
             0.6,
             "#e6f5d0"
            ],
            [
             0.7,
             "#b8e186"
            ],
            [
             0.8,
             "#7fbc41"
            ],
            [
             0.9,
             "#4d9221"
            ],
            [
             1,
             "#276419"
            ]
           ],
           "sequential": [
            [
             0,
             "#0d0887"
            ],
            [
             0.1111111111111111,
             "#46039f"
            ],
            [
             0.2222222222222222,
             "#7201a8"
            ],
            [
             0.3333333333333333,
             "#9c179e"
            ],
            [
             0.4444444444444444,
             "#bd3786"
            ],
            [
             0.5555555555555556,
             "#d8576b"
            ],
            [
             0.6666666666666666,
             "#ed7953"
            ],
            [
             0.7777777777777778,
             "#fb9f3a"
            ],
            [
             0.8888888888888888,
             "#fdca26"
            ],
            [
             1,
             "#f0f921"
            ]
           ],
           "sequentialminus": [
            [
             0,
             "#0d0887"
            ],
            [
             0.1111111111111111,
             "#46039f"
            ],
            [
             0.2222222222222222,
             "#7201a8"
            ],
            [
             0.3333333333333333,
             "#9c179e"
            ],
            [
             0.4444444444444444,
             "#bd3786"
            ],
            [
             0.5555555555555556,
             "#d8576b"
            ],
            [
             0.6666666666666666,
             "#ed7953"
            ],
            [
             0.7777777777777778,
             "#fb9f3a"
            ],
            [
             0.8888888888888888,
             "#fdca26"
            ],
            [
             1,
             "#f0f921"
            ]
           ]
          },
          "colorway": [
           "#636efa",
           "#EF553B",
           "#00cc96",
           "#ab63fa",
           "#FFA15A",
           "#19d3f3",
           "#FF6692",
           "#B6E880",
           "#FF97FF",
           "#FECB52"
          ],
          "font": {
           "color": "#2a3f5f"
          },
          "geo": {
           "bgcolor": "white",
           "lakecolor": "white",
           "landcolor": "white",
           "showlakes": true,
           "showland": true,
           "subunitcolor": "#C8D4E3"
          },
          "hoverlabel": {
           "align": "left"
          },
          "hovermode": "closest",
          "mapbox": {
           "style": "light"
          },
          "paper_bgcolor": "white",
          "plot_bgcolor": "white",
          "polar": {
           "angularaxis": {
            "gridcolor": "#EBF0F8",
            "linecolor": "#EBF0F8",
            "ticks": ""
           },
           "bgcolor": "white",
           "radialaxis": {
            "gridcolor": "#EBF0F8",
            "linecolor": "#EBF0F8",
            "ticks": ""
           }
          },
          "scene": {
           "xaxis": {
            "backgroundcolor": "white",
            "gridcolor": "#DFE8F3",
            "gridwidth": 2,
            "linecolor": "#EBF0F8",
            "showbackground": true,
            "ticks": "",
            "zerolinecolor": "#EBF0F8"
           },
           "yaxis": {
            "backgroundcolor": "white",
            "gridcolor": "#DFE8F3",
            "gridwidth": 2,
            "linecolor": "#EBF0F8",
            "showbackground": true,
            "ticks": "",
            "zerolinecolor": "#EBF0F8"
           },
           "zaxis": {
            "backgroundcolor": "white",
            "gridcolor": "#DFE8F3",
            "gridwidth": 2,
            "linecolor": "#EBF0F8",
            "showbackground": true,
            "ticks": "",
            "zerolinecolor": "#EBF0F8"
           }
          },
          "shapedefaults": {
           "line": {
            "color": "#2a3f5f"
           }
          },
          "ternary": {
           "aaxis": {
            "gridcolor": "#DFE8F3",
            "linecolor": "#A2B1C6",
            "ticks": ""
           },
           "baxis": {
            "gridcolor": "#DFE8F3",
            "linecolor": "#A2B1C6",
            "ticks": ""
           },
           "bgcolor": "white",
           "caxis": {
            "gridcolor": "#DFE8F3",
            "linecolor": "#A2B1C6",
            "ticks": ""
           }
          },
          "title": {
           "x": 0.05
          },
          "xaxis": {
           "automargin": true,
           "gridcolor": "#EBF0F8",
           "linecolor": "#EBF0F8",
           "ticks": "",
           "title": {
            "standoff": 15
           },
           "zerolinecolor": "#EBF0F8",
           "zerolinewidth": 2
          },
          "yaxis": {
           "automargin": true,
           "gridcolor": "#EBF0F8",
           "linecolor": "#EBF0F8",
           "ticks": "",
           "title": {
            "standoff": 15
           },
           "zerolinecolor": "#EBF0F8",
           "zerolinewidth": 2
          }
         }
        },
        "title": {
         "font": {
          "color": "Black",
          "size": 22
         },
         "text": "Topic Word Scores",
         "x": 0.5,
         "xanchor": "center",
         "yanchor": "top"
        },
        "width": 1000,
        "xaxis": {
         "anchor": "y",
         "domain": [
          0,
          0.175
         ],
         "showgrid": true
        },
        "xaxis10": {
         "anchor": "y10",
         "domain": [
          0.275,
          0.45
         ],
         "showgrid": true
        },
        "xaxis11": {
         "anchor": "y11",
         "domain": [
          0.55,
          0.7250000000000001
         ],
         "showgrid": true
        },
        "xaxis12": {
         "anchor": "y12",
         "domain": [
          0.825,
          1
         ],
         "showgrid": true
        },
        "xaxis2": {
         "anchor": "y2",
         "domain": [
          0.275,
          0.45
         ],
         "showgrid": true
        },
        "xaxis3": {
         "anchor": "y3",
         "domain": [
          0.55,
          0.7250000000000001
         ],
         "showgrid": true
        },
        "xaxis4": {
         "anchor": "y4",
         "domain": [
          0.825,
          1
         ],
         "showgrid": true
        },
        "xaxis5": {
         "anchor": "y5",
         "domain": [
          0,
          0.175
         ],
         "showgrid": true
        },
        "xaxis6": {
         "anchor": "y6",
         "domain": [
          0.275,
          0.45
         ],
         "showgrid": true
        },
        "xaxis7": {
         "anchor": "y7",
         "domain": [
          0.55,
          0.7250000000000001
         ],
         "showgrid": true
        },
        "xaxis8": {
         "anchor": "y8",
         "domain": [
          0.825,
          1
         ],
         "showgrid": true
        },
        "xaxis9": {
         "anchor": "y9",
         "domain": [
          0,
          0.175
         ],
         "showgrid": true
        },
        "yaxis": {
         "anchor": "x",
         "domain": [
          0.7555555555555555,
          1
         ],
         "showgrid": true
        },
        "yaxis10": {
         "anchor": "x10",
         "domain": [
          0,
          0.24444444444444446
         ],
         "showgrid": true
        },
        "yaxis11": {
         "anchor": "x11",
         "domain": [
          0,
          0.24444444444444446
         ],
         "showgrid": true
        },
        "yaxis12": {
         "anchor": "x12",
         "domain": [
          0,
          0.24444444444444446
         ],
         "showgrid": true
        },
        "yaxis2": {
         "anchor": "x2",
         "domain": [
          0.7555555555555555,
          1
         ],
         "showgrid": true
        },
        "yaxis3": {
         "anchor": "x3",
         "domain": [
          0.7555555555555555,
          1
         ],
         "showgrid": true
        },
        "yaxis4": {
         "anchor": "x4",
         "domain": [
          0.7555555555555555,
          1
         ],
         "showgrid": true
        },
        "yaxis5": {
         "anchor": "x5",
         "domain": [
          0.37777777777777777,
          0.6222222222222222
         ],
         "showgrid": true
        },
        "yaxis6": {
         "anchor": "x6",
         "domain": [
          0.37777777777777777,
          0.6222222222222222
         ],
         "showgrid": true
        },
        "yaxis7": {
         "anchor": "x7",
         "domain": [
          0.37777777777777777,
          0.6222222222222222
         ],
         "showgrid": true
        },
        "yaxis8": {
         "anchor": "x8",
         "domain": [
          0.37777777777777777,
          0.6222222222222222
         ],
         "showgrid": true
        },
        "yaxis9": {
         "anchor": "x9",
         "domain": [
          0,
          0.24444444444444446
         ],
         "showgrid": true
        }
       }
      }
     },
     "metadata": {},
     "output_type": "display_data"
    }
   ],
   "source": [
    "topic_model.visualize_barchart(top_n_topics=10)"
   ]
  },
  {
   "cell_type": "markdown",
   "metadata": {},
   "source": [
    "Com o auxílio do ChatGPT para uma definição em uma única frase sobre o que se trata os primeiros 5 tópicos, temos que:\n",
    "- **Tópico 0**: Este tópico analisado aborda aspectos relacionados a comida mexicana, com ênfase em guacamole, destacando a qualidade de restaurantes e a atmosfera agradável.\n",
    "- **Tópico 1**: Este tópico analisado destaca a qualidade do atendimento e do ambiente, ressaltando a excelência do lugar, com ênfase em uma experiência gastronômica muito boa e maravilhosa.\n",
    "- **Tópico 2**: Esse tópico analisado aborda a influência positiva da música no ambiente, ressaltando a qualidade do atendimento e a excelência, criando uma atmosfera agradável para comer e animar.\n",
    "- **Tópico 3**: Esse tópico analisado trata da celebração de aniversários e comemorações em um ambiente amigável, destacando a importância do lugar, a qualidade do ambiente e do atendimento, tornando a experiência muito boa para amigos e amigas.\n",
    "- **Tópico 4**: Este tópico analisado destaca a apreciação de bebidas, especialmente drinks e cervejas, ressaltando a importância do atendimento e a qualidade do ambiente, proporcionando uma experiência muito boa para comer e bebidas geladas."
   ]
  },
  {
   "cell_type": "code",
   "execution_count": 23,
   "metadata": {},
   "outputs": [
    {
     "data": {
      "application/vnd.plotly.v1+json": {
       "config": {
        "plotlyServerURL": "https://plot.ly"
       },
       "data": [
        {
         "hoverinfo": "text",
         "marker": {
          "color": "rgb(61,153,112)"
         },
         "mode": "lines",
         "type": "scatter",
         "x": [
          0,
          0.5950289167147863,
          0.5950289167147863,
          0
         ],
         "xaxis": "x",
         "y": [
          -5,
          -5,
          -15,
          -15
         ],
         "yaxis": "y"
        },
        {
         "hoverinfo": "text",
         "marker": {
          "color": "rgb(61,153,112)"
         },
         "mode": "lines",
         "type": "scatter",
         "x": [
          0,
          0.3567314404289176,
          0.3567314404289176,
          0
         ],
         "xaxis": "x",
         "y": [
          -25,
          -25,
          -35,
          -35
         ],
         "yaxis": "y"
        },
        {
         "hoverinfo": "text",
         "marker": {
          "color": "rgb(61,153,112)"
         },
         "mode": "lines",
         "type": "scatter",
         "x": [
          0,
          0.2271091956898349,
          0.2271091956898349,
          0
         ],
         "xaxis": "x",
         "y": [
          -45,
          -45,
          -55,
          -55
         ],
         "yaxis": "y"
        },
        {
         "hoverinfo": "text",
         "marker": {
          "color": "rgb(61,153,112)"
         },
         "mode": "lines",
         "type": "scatter",
         "x": [
          0.2271091956898349,
          0.30037243016857446,
          0.30037243016857446,
          0
         ],
         "xaxis": "x",
         "y": [
          -50,
          -50,
          -65,
          -65
         ],
         "yaxis": "y"
        },
        {
         "hoverinfo": "text",
         "marker": {
          "color": "rgb(61,153,112)"
         },
         "mode": "lines",
         "type": "scatter",
         "x": [
          0.3567314404289176,
          0.4359721582128907,
          0.4359721582128907,
          0.30037243016857446
         ],
         "xaxis": "x",
         "y": [
          -30,
          -30,
          -57.5,
          -57.5
         ],
         "yaxis": "y"
        },
        {
         "hoverinfo": "text",
         "marker": {
          "color": "rgb(61,153,112)"
         },
         "mode": "lines",
         "type": "scatter",
         "x": [
          0.4359721582128907,
          0.5701403519013839,
          0.5701403519013839,
          0
         ],
         "xaxis": "x",
         "y": [
          -43.75,
          -43.75,
          -75,
          -75
         ],
         "yaxis": "y"
        },
        {
         "hoverinfo": "text",
         "marker": {
          "color": "rgb(61,153,112)"
         },
         "mode": "lines",
         "type": "scatter",
         "x": [
          0.5950289167147863,
          0.688201483117117,
          0.688201483117117,
          0.5701403519013839
         ],
         "xaxis": "x",
         "y": [
          -10,
          -10,
          -59.375,
          -59.375
         ],
         "yaxis": "y"
        },
        {
         "hoverinfo": "text",
         "marker": {
          "color": "rgb(61,153,112)"
         },
         "mode": "lines",
         "type": "scatter",
         "x": [
          0,
          0.4961570448765449,
          0.4961570448765449,
          0
         ],
         "xaxis": "x",
         "y": [
          -85,
          -85,
          -95,
          -95
         ],
         "yaxis": "y"
        },
        {
         "hoverinfo": "text",
         "marker": {
          "color": "rgb(61,153,112)"
         },
         "mode": "lines",
         "type": "scatter",
         "x": [
          0.688201483117117,
          0.773763228213352,
          0.773763228213352,
          0.4961570448765449
         ],
         "xaxis": "x",
         "y": [
          -34.6875,
          -34.6875,
          -90,
          -90
         ],
         "yaxis": "y"
        },
        {
         "hoverinfo": "text",
         "marker": {
          "color": "rgb(61,153,112)"
         },
         "mode": "lines",
         "type": "scatter",
         "x": [
          0,
          0.6407629026793027,
          0.6407629026793027,
          0
         ],
         "xaxis": "x",
         "y": [
          -115,
          -115,
          -125,
          -125
         ],
         "yaxis": "y"
        },
        {
         "hoverinfo": "text",
         "marker": {
          "color": "rgb(61,153,112)"
         },
         "mode": "lines",
         "type": "scatter",
         "x": [
          0,
          0.75079228575455,
          0.75079228575455,
          0.6407629026793027
         ],
         "xaxis": "x",
         "y": [
          -105,
          -105,
          -120,
          -120
         ],
         "yaxis": "y"
        },
        {
         "hoverinfo": "text",
         "marker": {
          "color": "rgb(61,153,112)"
         },
         "mode": "lines",
         "type": "scatter",
         "x": [
          0.75079228575455,
          0.8583266151257134,
          0.8583266151257134,
          0
         ],
         "xaxis": "x",
         "y": [
          -112.5,
          -112.5,
          -135,
          -135
         ],
         "yaxis": "y"
        },
        {
         "hoverinfo": "text",
         "marker": {
          "color": "rgb(61,153,112)"
         },
         "mode": "lines",
         "type": "scatter",
         "x": [
          0.773763228213352,
          0.9483712246280785,
          0.9483712246280785,
          0.8583266151257134
         ],
         "xaxis": "x",
         "y": [
          -62.34375,
          -62.34375,
          -123.75,
          -123.75
         ],
         "yaxis": "y"
        }
       ],
       "layout": {
        "autosize": false,
        "height": 410,
        "hoverlabel": {
         "bgcolor": "white",
         "font": {
          "family": "Rockwell",
          "size": 16
         }
        },
        "hovermode": "closest",
        "plot_bgcolor": "#ECEFF1",
        "showlegend": false,
        "template": {
         "data": {
          "bar": [
           {
            "error_x": {
             "color": "#2a3f5f"
            },
            "error_y": {
             "color": "#2a3f5f"
            },
            "marker": {
             "line": {
              "color": "white",
              "width": 0.5
             },
             "pattern": {
              "fillmode": "overlay",
              "size": 10,
              "solidity": 0.2
             }
            },
            "type": "bar"
           }
          ],
          "barpolar": [
           {
            "marker": {
             "line": {
              "color": "white",
              "width": 0.5
             },
             "pattern": {
              "fillmode": "overlay",
              "size": 10,
              "solidity": 0.2
             }
            },
            "type": "barpolar"
           }
          ],
          "carpet": [
           {
            "aaxis": {
             "endlinecolor": "#2a3f5f",
             "gridcolor": "#C8D4E3",
             "linecolor": "#C8D4E3",
             "minorgridcolor": "#C8D4E3",
             "startlinecolor": "#2a3f5f"
            },
            "baxis": {
             "endlinecolor": "#2a3f5f",
             "gridcolor": "#C8D4E3",
             "linecolor": "#C8D4E3",
             "minorgridcolor": "#C8D4E3",
             "startlinecolor": "#2a3f5f"
            },
            "type": "carpet"
           }
          ],
          "choropleth": [
           {
            "colorbar": {
             "outlinewidth": 0,
             "ticks": ""
            },
            "type": "choropleth"
           }
          ],
          "contour": [
           {
            "colorbar": {
             "outlinewidth": 0,
             "ticks": ""
            },
            "colorscale": [
             [
              0,
              "#0d0887"
             ],
             [
              0.1111111111111111,
              "#46039f"
             ],
             [
              0.2222222222222222,
              "#7201a8"
             ],
             [
              0.3333333333333333,
              "#9c179e"
             ],
             [
              0.4444444444444444,
              "#bd3786"
             ],
             [
              0.5555555555555556,
              "#d8576b"
             ],
             [
              0.6666666666666666,
              "#ed7953"
             ],
             [
              0.7777777777777778,
              "#fb9f3a"
             ],
             [
              0.8888888888888888,
              "#fdca26"
             ],
             [
              1,
              "#f0f921"
             ]
            ],
            "type": "contour"
           }
          ],
          "contourcarpet": [
           {
            "colorbar": {
             "outlinewidth": 0,
             "ticks": ""
            },
            "type": "contourcarpet"
           }
          ],
          "heatmap": [
           {
            "colorbar": {
             "outlinewidth": 0,
             "ticks": ""
            },
            "colorscale": [
             [
              0,
              "#0d0887"
             ],
             [
              0.1111111111111111,
              "#46039f"
             ],
             [
              0.2222222222222222,
              "#7201a8"
             ],
             [
              0.3333333333333333,
              "#9c179e"
             ],
             [
              0.4444444444444444,
              "#bd3786"
             ],
             [
              0.5555555555555556,
              "#d8576b"
             ],
             [
              0.6666666666666666,
              "#ed7953"
             ],
             [
              0.7777777777777778,
              "#fb9f3a"
             ],
             [
              0.8888888888888888,
              "#fdca26"
             ],
             [
              1,
              "#f0f921"
             ]
            ],
            "type": "heatmap"
           }
          ],
          "heatmapgl": [
           {
            "colorbar": {
             "outlinewidth": 0,
             "ticks": ""
            },
            "colorscale": [
             [
              0,
              "#0d0887"
             ],
             [
              0.1111111111111111,
              "#46039f"
             ],
             [
              0.2222222222222222,
              "#7201a8"
             ],
             [
              0.3333333333333333,
              "#9c179e"
             ],
             [
              0.4444444444444444,
              "#bd3786"
             ],
             [
              0.5555555555555556,
              "#d8576b"
             ],
             [
              0.6666666666666666,
              "#ed7953"
             ],
             [
              0.7777777777777778,
              "#fb9f3a"
             ],
             [
              0.8888888888888888,
              "#fdca26"
             ],
             [
              1,
              "#f0f921"
             ]
            ],
            "type": "heatmapgl"
           }
          ],
          "histogram": [
           {
            "marker": {
             "pattern": {
              "fillmode": "overlay",
              "size": 10,
              "solidity": 0.2
             }
            },
            "type": "histogram"
           }
          ],
          "histogram2d": [
           {
            "colorbar": {
             "outlinewidth": 0,
             "ticks": ""
            },
            "colorscale": [
             [
              0,
              "#0d0887"
             ],
             [
              0.1111111111111111,
              "#46039f"
             ],
             [
              0.2222222222222222,
              "#7201a8"
             ],
             [
              0.3333333333333333,
              "#9c179e"
             ],
             [
              0.4444444444444444,
              "#bd3786"
             ],
             [
              0.5555555555555556,
              "#d8576b"
             ],
             [
              0.6666666666666666,
              "#ed7953"
             ],
             [
              0.7777777777777778,
              "#fb9f3a"
             ],
             [
              0.8888888888888888,
              "#fdca26"
             ],
             [
              1,
              "#f0f921"
             ]
            ],
            "type": "histogram2d"
           }
          ],
          "histogram2dcontour": [
           {
            "colorbar": {
             "outlinewidth": 0,
             "ticks": ""
            },
            "colorscale": [
             [
              0,
              "#0d0887"
             ],
             [
              0.1111111111111111,
              "#46039f"
             ],
             [
              0.2222222222222222,
              "#7201a8"
             ],
             [
              0.3333333333333333,
              "#9c179e"
             ],
             [
              0.4444444444444444,
              "#bd3786"
             ],
             [
              0.5555555555555556,
              "#d8576b"
             ],
             [
              0.6666666666666666,
              "#ed7953"
             ],
             [
              0.7777777777777778,
              "#fb9f3a"
             ],
             [
              0.8888888888888888,
              "#fdca26"
             ],
             [
              1,
              "#f0f921"
             ]
            ],
            "type": "histogram2dcontour"
           }
          ],
          "mesh3d": [
           {
            "colorbar": {
             "outlinewidth": 0,
             "ticks": ""
            },
            "type": "mesh3d"
           }
          ],
          "parcoords": [
           {
            "line": {
             "colorbar": {
              "outlinewidth": 0,
              "ticks": ""
             }
            },
            "type": "parcoords"
           }
          ],
          "pie": [
           {
            "automargin": true,
            "type": "pie"
           }
          ],
          "scatter": [
           {
            "fillpattern": {
             "fillmode": "overlay",
             "size": 10,
             "solidity": 0.2
            },
            "type": "scatter"
           }
          ],
          "scatter3d": [
           {
            "line": {
             "colorbar": {
              "outlinewidth": 0,
              "ticks": ""
             }
            },
            "marker": {
             "colorbar": {
              "outlinewidth": 0,
              "ticks": ""
             }
            },
            "type": "scatter3d"
           }
          ],
          "scattercarpet": [
           {
            "marker": {
             "colorbar": {
              "outlinewidth": 0,
              "ticks": ""
             }
            },
            "type": "scattercarpet"
           }
          ],
          "scattergeo": [
           {
            "marker": {
             "colorbar": {
              "outlinewidth": 0,
              "ticks": ""
             }
            },
            "type": "scattergeo"
           }
          ],
          "scattergl": [
           {
            "marker": {
             "colorbar": {
              "outlinewidth": 0,
              "ticks": ""
             }
            },
            "type": "scattergl"
           }
          ],
          "scattermapbox": [
           {
            "marker": {
             "colorbar": {
              "outlinewidth": 0,
              "ticks": ""
             }
            },
            "type": "scattermapbox"
           }
          ],
          "scatterpolar": [
           {
            "marker": {
             "colorbar": {
              "outlinewidth": 0,
              "ticks": ""
             }
            },
            "type": "scatterpolar"
           }
          ],
          "scatterpolargl": [
           {
            "marker": {
             "colorbar": {
              "outlinewidth": 0,
              "ticks": ""
             }
            },
            "type": "scatterpolargl"
           }
          ],
          "scatterternary": [
           {
            "marker": {
             "colorbar": {
              "outlinewidth": 0,
              "ticks": ""
             }
            },
            "type": "scatterternary"
           }
          ],
          "surface": [
           {
            "colorbar": {
             "outlinewidth": 0,
             "ticks": ""
            },
            "colorscale": [
             [
              0,
              "#0d0887"
             ],
             [
              0.1111111111111111,
              "#46039f"
             ],
             [
              0.2222222222222222,
              "#7201a8"
             ],
             [
              0.3333333333333333,
              "#9c179e"
             ],
             [
              0.4444444444444444,
              "#bd3786"
             ],
             [
              0.5555555555555556,
              "#d8576b"
             ],
             [
              0.6666666666666666,
              "#ed7953"
             ],
             [
              0.7777777777777778,
              "#fb9f3a"
             ],
             [
              0.8888888888888888,
              "#fdca26"
             ],
             [
              1,
              "#f0f921"
             ]
            ],
            "type": "surface"
           }
          ],
          "table": [
           {
            "cells": {
             "fill": {
              "color": "#EBF0F8"
             },
             "line": {
              "color": "white"
             }
            },
            "header": {
             "fill": {
              "color": "#C8D4E3"
             },
             "line": {
              "color": "white"
             }
            },
            "type": "table"
           }
          ]
         },
         "layout": {
          "annotationdefaults": {
           "arrowcolor": "#2a3f5f",
           "arrowhead": 0,
           "arrowwidth": 1
          },
          "autotypenumbers": "strict",
          "coloraxis": {
           "colorbar": {
            "outlinewidth": 0,
            "ticks": ""
           }
          },
          "colorscale": {
           "diverging": [
            [
             0,
             "#8e0152"
            ],
            [
             0.1,
             "#c51b7d"
            ],
            [
             0.2,
             "#de77ae"
            ],
            [
             0.3,
             "#f1b6da"
            ],
            [
             0.4,
             "#fde0ef"
            ],
            [
             0.5,
             "#f7f7f7"
            ],
            [
             0.6,
             "#e6f5d0"
            ],
            [
             0.7,
             "#b8e186"
            ],
            [
             0.8,
             "#7fbc41"
            ],
            [
             0.9,
             "#4d9221"
            ],
            [
             1,
             "#276419"
            ]
           ],
           "sequential": [
            [
             0,
             "#0d0887"
            ],
            [
             0.1111111111111111,
             "#46039f"
            ],
            [
             0.2222222222222222,
             "#7201a8"
            ],
            [
             0.3333333333333333,
             "#9c179e"
            ],
            [
             0.4444444444444444,
             "#bd3786"
            ],
            [
             0.5555555555555556,
             "#d8576b"
            ],
            [
             0.6666666666666666,
             "#ed7953"
            ],
            [
             0.7777777777777778,
             "#fb9f3a"
            ],
            [
             0.8888888888888888,
             "#fdca26"
            ],
            [
             1,
             "#f0f921"
            ]
           ],
           "sequentialminus": [
            [
             0,
             "#0d0887"
            ],
            [
             0.1111111111111111,
             "#46039f"
            ],
            [
             0.2222222222222222,
             "#7201a8"
            ],
            [
             0.3333333333333333,
             "#9c179e"
            ],
            [
             0.4444444444444444,
             "#bd3786"
            ],
            [
             0.5555555555555556,
             "#d8576b"
            ],
            [
             0.6666666666666666,
             "#ed7953"
            ],
            [
             0.7777777777777778,
             "#fb9f3a"
            ],
            [
             0.8888888888888888,
             "#fdca26"
            ],
            [
             1,
             "#f0f921"
            ]
           ]
          },
          "colorway": [
           "#636efa",
           "#EF553B",
           "#00cc96",
           "#ab63fa",
           "#FFA15A",
           "#19d3f3",
           "#FF6692",
           "#B6E880",
           "#FF97FF",
           "#FECB52"
          ],
          "font": {
           "color": "#2a3f5f"
          },
          "geo": {
           "bgcolor": "white",
           "lakecolor": "white",
           "landcolor": "white",
           "showlakes": true,
           "showland": true,
           "subunitcolor": "#C8D4E3"
          },
          "hoverlabel": {
           "align": "left"
          },
          "hovermode": "closest",
          "mapbox": {
           "style": "light"
          },
          "paper_bgcolor": "white",
          "plot_bgcolor": "white",
          "polar": {
           "angularaxis": {
            "gridcolor": "#EBF0F8",
            "linecolor": "#EBF0F8",
            "ticks": ""
           },
           "bgcolor": "white",
           "radialaxis": {
            "gridcolor": "#EBF0F8",
            "linecolor": "#EBF0F8",
            "ticks": ""
           }
          },
          "scene": {
           "xaxis": {
            "backgroundcolor": "white",
            "gridcolor": "#DFE8F3",
            "gridwidth": 2,
            "linecolor": "#EBF0F8",
            "showbackground": true,
            "ticks": "",
            "zerolinecolor": "#EBF0F8"
           },
           "yaxis": {
            "backgroundcolor": "white",
            "gridcolor": "#DFE8F3",
            "gridwidth": 2,
            "linecolor": "#EBF0F8",
            "showbackground": true,
            "ticks": "",
            "zerolinecolor": "#EBF0F8"
           },
           "zaxis": {
            "backgroundcolor": "white",
            "gridcolor": "#DFE8F3",
            "gridwidth": 2,
            "linecolor": "#EBF0F8",
            "showbackground": true,
            "ticks": "",
            "zerolinecolor": "#EBF0F8"
           }
          },
          "shapedefaults": {
           "line": {
            "color": "#2a3f5f"
           }
          },
          "ternary": {
           "aaxis": {
            "gridcolor": "#DFE8F3",
            "linecolor": "#A2B1C6",
            "ticks": ""
           },
           "baxis": {
            "gridcolor": "#DFE8F3",
            "linecolor": "#A2B1C6",
            "ticks": ""
           },
           "bgcolor": "white",
           "caxis": {
            "gridcolor": "#DFE8F3",
            "linecolor": "#A2B1C6",
            "ticks": ""
           }
          },
          "title": {
           "x": 0.05
          },
          "xaxis": {
           "automargin": true,
           "gridcolor": "#EBF0F8",
           "linecolor": "#EBF0F8",
           "ticks": "",
           "title": {
            "standoff": 15
           },
           "zerolinecolor": "#EBF0F8",
           "zerolinewidth": 2
          },
          "yaxis": {
           "automargin": true,
           "gridcolor": "#EBF0F8",
           "linecolor": "#EBF0F8",
           "ticks": "",
           "title": {
            "standoff": 15
           },
           "zerolinecolor": "#EBF0F8",
           "zerolinewidth": 2
          }
         }
        },
        "title": {
         "font": {
          "color": "Black",
          "size": 22
         },
         "text": "<b>Hierarchical Clustering</b>",
         "x": 0.5,
         "xanchor": "center",
         "yanchor": "top"
        },
        "width": 1000,
        "xaxis": {
         "mirror": "allticks",
         "rangemode": "tozero",
         "showgrid": false,
         "showline": true,
         "showticklabels": true,
         "ticks": "outside",
         "type": "linear",
         "zeroline": false
        },
        "yaxis": {
         "mirror": "allticks",
         "range": [
          -140,
          0
         ],
         "rangemode": "tozero",
         "showgrid": false,
         "showline": true,
         "showticklabels": true,
         "tickmode": "array",
         "ticks": "outside",
         "ticktext": [
          "10_mariachi_muito_lindo",
          "11_restaurante_mariachi_teq...",
          "5_restaurante_bom_muito",
          "0_mexicano_guacamole_comida",
          "2_música_bom_ambiente",
          "1_muito_bom_atendimento",
          "4_bebida_drink_bom",
          "6_tequila_tequileiro_muito",
          "3_aniversário_comemorar_amigo",
          "12_comemoração_lugar_amigo",
          "9_amigo_local_ameir",
          "7_não_mais_chegar",
          "8_tablet_pedido_sistema",
          "13_burrito_taco_nacho"
         ],
         "tickvals": [
          -5,
          -15,
          -25,
          -35,
          -45,
          -55,
          -65,
          -75,
          -85,
          -95,
          -105,
          -115,
          -125,
          -135
         ],
         "type": "linear",
         "zeroline": false
        }
       }
      }
     },
     "metadata": {},
     "output_type": "display_data"
    }
   ],
   "source": [
    "topic_model.visualize_hierarchy()"
   ]
  },
  {
   "cell_type": "code",
   "execution_count": 34,
   "metadata": {},
   "outputs": [],
   "source": [
    "# dates_reviews = df_reviews[\"Date Formatted\"].to_list()"
   ]
  },
  {
   "cell_type": "code",
   "execution_count": null,
   "metadata": {},
   "outputs": [],
   "source": [
    "# topics_over_time = topic_model.topics_over_time(doc_comments, dates_reviews, datetime_format=\"%Y-%m-%d\", nr_bins=20)"
   ]
  },
  {
   "cell_type": "code",
   "execution_count": null,
   "metadata": {},
   "outputs": [],
   "source": [
    "# topic_model.visualize_topics_over_time(topics_over_time, top_n_topics=20)"
   ]
  },
  {
   "cell_type": "markdown",
   "metadata": {},
   "source": [
    "#### DataFrame com informações completas"
   ]
  },
  {
   "cell_type": "code",
   "execution_count": 24,
   "metadata": {},
   "outputs": [
    {
     "data": {
      "text/html": [
       "<div>\n",
       "<style scoped>\n",
       "    .dataframe tbody tr th:only-of-type {\n",
       "        vertical-align: middle;\n",
       "    }\n",
       "\n",
       "    .dataframe tbody tr th {\n",
       "        vertical-align: top;\n",
       "    }\n",
       "\n",
       "    .dataframe thead th {\n",
       "        text-align: right;\n",
       "    }\n",
       "</style>\n",
       "<table border=\"1\" class=\"dataframe\">\n",
       "  <thead>\n",
       "    <tr style=\"text-align: right;\">\n",
       "      <th></th>\n",
       "      <th>Date</th>\n",
       "      <th>Review</th>\n",
       "      <th>Review Lemma</th>\n",
       "      <th>Topics</th>\n",
       "      <th>Names</th>\n",
       "      <th>Representation</th>\n",
       "      <th>Representative_Docs</th>\n",
       "    </tr>\n",
       "  </thead>\n",
       "  <tbody>\n",
       "    <tr>\n",
       "      <th>0</th>\n",
       "      <td>4 de dezembro de 2023</td>\n",
       "      <td>Atendimento maravilhoso! Matheus foi muito ate...</td>\n",
       "      <td>atendimento maravilhoso matheu muito atencioso...</td>\n",
       "      <td>1</td>\n",
       "      <td>1_muito_bom_atendimento_ambiente</td>\n",
       "      <td>[muito, bom, atendimento, ambiente, lugar, exc...</td>\n",
       "      <td>[experiência incrível comer ótimo lugar super ...</td>\n",
       "    </tr>\n",
       "    <tr>\n",
       "      <th>1</th>\n",
       "      <td>2 de dezembro de 2023</td>\n",
       "      <td>Gostei muito dos pratos e do atendimento. Muit...</td>\n",
       "      <td>gostar muito prato atendimento solicito comida...</td>\n",
       "      <td>1</td>\n",
       "      <td>1_muito_bom_atendimento_ambiente</td>\n",
       "      <td>[muito, bom, atendimento, ambiente, lugar, exc...</td>\n",
       "      <td>[experiência incrível comer ótimo lugar super ...</td>\n",
       "    </tr>\n",
       "    <tr>\n",
       "      <th>2</th>\n",
       "      <td>1 de dezembro de 2023</td>\n",
       "      <td>Eu amei, é a melhor cozinha mexicana que eu já...</td>\n",
       "      <td>ameir bom cozinha mexicano já comi espaço muit...</td>\n",
       "      <td>0</td>\n",
       "      <td>0_mexicano_guacamole_comida_restaurante</td>\n",
       "      <td>[mexicano, guacamole, comida, restaurante, mai...</td>\n",
       "      <td>[comer excelente ambiente bem característico m...</td>\n",
       "    </tr>\n",
       "    <tr>\n",
       "      <th>3</th>\n",
       "      <td>29 de novembro de 2023</td>\n",
       "      <td>Ótimo ambiente e decoração, funcionários prest...</td>\n",
       "      <td>bom ambiente decoração funcionário prestativo ...</td>\n",
       "      <td>2</td>\n",
       "      <td>2_música_bom_ambiente_muito</td>\n",
       "      <td>[música, bom, ambiente, muito, atendimento, mu...</td>\n",
       "      <td>[atendimento excelente bom comida ambiente div...</td>\n",
       "    </tr>\n",
       "    <tr>\n",
       "      <th>4</th>\n",
       "      <td>27 de novembro de 2023</td>\n",
       "      <td>Amomamos o atendimento do Matheus e do, tudo ó...</td>\n",
       "      <td>amoma atendimento matheu bom amar atendimento ...</td>\n",
       "      <td>1</td>\n",
       "      <td>1_muito_bom_atendimento_ambiente</td>\n",
       "      <td>[muito, bom, atendimento, ambiente, lugar, exc...</td>\n",
       "      <td>[experiência incrível comer ótimo lugar super ...</td>\n",
       "    </tr>\n",
       "  </tbody>\n",
       "</table>\n",
       "</div>"
      ],
      "text/plain": [
       "                     Date                                             Review  \\\n",
       "0   4 de dezembro de 2023  Atendimento maravilhoso! Matheus foi muito ate...   \n",
       "1   2 de dezembro de 2023  Gostei muito dos pratos e do atendimento. Muit...   \n",
       "2   1 de dezembro de 2023  Eu amei, é a melhor cozinha mexicana que eu já...   \n",
       "3  29 de novembro de 2023  Ótimo ambiente e decoração, funcionários prest...   \n",
       "4  27 de novembro de 2023  Amomamos o atendimento do Matheus e do, tudo ó...   \n",
       "\n",
       "                                        Review Lemma  Topics  \\\n",
       "0  atendimento maravilhoso matheu muito atencioso...       1   \n",
       "1  gostar muito prato atendimento solicito comida...       1   \n",
       "2  ameir bom cozinha mexicano já comi espaço muit...       0   \n",
       "3  bom ambiente decoração funcionário prestativo ...       2   \n",
       "4  amoma atendimento matheu bom amar atendimento ...       1   \n",
       "\n",
       "                                     Names  \\\n",
       "0         1_muito_bom_atendimento_ambiente   \n",
       "1         1_muito_bom_atendimento_ambiente   \n",
       "2  0_mexicano_guacamole_comida_restaurante   \n",
       "3              2_música_bom_ambiente_muito   \n",
       "4         1_muito_bom_atendimento_ambiente   \n",
       "\n",
       "                                      Representation  \\\n",
       "0  [muito, bom, atendimento, ambiente, lugar, exc...   \n",
       "1  [muito, bom, atendimento, ambiente, lugar, exc...   \n",
       "2  [mexicano, guacamole, comida, restaurante, mai...   \n",
       "3  [música, bom, ambiente, muito, atendimento, mu...   \n",
       "4  [muito, bom, atendimento, ambiente, lugar, exc...   \n",
       "\n",
       "                                 Representative_Docs  \n",
       "0  [experiência incrível comer ótimo lugar super ...  \n",
       "1  [experiência incrível comer ótimo lugar super ...  \n",
       "2  [comer excelente ambiente bem característico m...  \n",
       "3  [atendimento excelente bom comida ambiente div...  \n",
       "4  [experiência incrível comer ótimo lugar super ...  "
      ]
     },
     "execution_count": 24,
     "metadata": {},
     "output_type": "execute_result"
    }
   ],
   "source": [
    "df_topics = df_reviews.copy()\n",
    "\n",
    "df_topics[\"Topics\"] = topics\n",
    "\n",
    "topic_name = freq.drop(columns=[\"Count\"]).rename(columns={\"Topic\": \"Topics\", \"Name\": \"Names\"})\n",
    "df_topics = df_topics.merge(topic_name, how=\"left\")\n",
    "\n",
    "df_topics.head()"
   ]
  },
  {
   "cell_type": "markdown",
   "metadata": {},
   "source": [
    "# Análise de Sentimentos"
   ]
  },
  {
   "cell_type": "markdown",
   "metadata": {},
   "source": [
    "Utilizando um modelo pré-treinado público baseado no BERT, faremos a extração das informações dos sentimentos de cada uma das avaliações."
   ]
  },
  {
   "cell_type": "code",
   "execution_count": 25,
   "metadata": {},
   "outputs": [
    {
     "name": "stdout",
     "output_type": "stream",
     "text": [
      "CPU times: total: 3.7 s\n",
      "Wall time: 4.95 s\n"
     ]
    }
   ],
   "source": [
    "%%time\n",
    "\n",
    "model = AutoModelForSequenceClassification.from_pretrained('lxyuan/distilbert-base-multilingual-cased-sentiments-student')\n",
    "tokenizer = AutoTokenizer.from_pretrained('lxyuan/distilbert-base-multilingual-cased-sentiments-student', do_lower_case=False)\n",
    "sentiment_task = pipeline(\"sentiment-analysis\", model=model, tokenizer=tokenizer, return_all_scores=True)"
   ]
  },
  {
   "cell_type": "code",
   "execution_count": 26,
   "metadata": {},
   "outputs": [
    {
     "data": {
      "text/plain": [
       "[[{'label': 'positive', 'score': 0.9528123140335083},\n",
       "  {'label': 'neutral', 'score': 0.034104324877262115},\n",
       "  {'label': 'negative', 'score': 0.013083375990390778}]]"
      ]
     },
     "execution_count": 26,
     "metadata": {},
     "output_type": "execute_result"
    }
   ],
   "source": [
    "sentiment_task(\"Eu sou feliz\")"
   ]
  },
  {
   "cell_type": "markdown",
   "metadata": {},
   "source": [
    "#### Classificação das avaliações e salvamento dos resultados no DataFrame"
   ]
  },
  {
   "cell_type": "markdown",
   "metadata": {},
   "source": [
    "Para a extração dos sentimentos e gravação das informações dos valores no DataFrame, utilizaremos duas funções:\n",
    "- Para captura dos sentimentos e gravação no DataFrame na forma padrão de entrega dos resultados, chamaremos primeiro a pipeline do processo, chamada ```sentiment_task``` e armazenaremos os valores em uma coluna chamada \"Sentiments\".\n",
    "- Feito isso, iremos separar os valores de acordo com o sentimento e armazenaremos cada um deles no DataFrame final utilizando a função ```extract_sentiment_scores()```."
   ]
  },
  {
   "cell_type": "code",
   "execution_count": 40,
   "metadata": {},
   "outputs": [
    {
     "name": "stdout",
     "output_type": "stream",
     "text": [
      "CPU times: total: 0 ns\n",
      "Wall time: 0 ns\n"
     ]
    }
   ],
   "source": [
    "def extract_sentiment_scores(predictions, sentiment_label):\n",
    "    if isinstance(predictions, list) and predictions:\n",
    "        for item in predictions[0]:\n",
    "            if item['label'] == sentiment_label:\n",
    "                return item['score']\n",
    "    return 0"
   ]
  },
  {
   "cell_type": "code",
   "execution_count": 41,
   "metadata": {},
   "outputs": [
    {
     "name": "stdout",
     "output_type": "stream",
     "text": [
      "CPU times: total: 22min 57s\n",
      "Wall time: 4min 5s\n"
     ]
    }
   ],
   "source": [
    "%%time\n",
    "\n",
    "df_topics[\"Sentiments\"] = df_topics[\"Review\"].apply(lambda x: sentiment_task(x))"
   ]
  },
  {
   "cell_type": "code",
   "execution_count": null,
   "metadata": {},
   "outputs": [],
   "source": [
    "df_topics[\"Positive\"] = df_topics[\"Sentiments\"].apply(lambda x: extract_sentiment_scores(x, 'positive'))\n",
    "df_topics[\"Neutral\"] = df_topics[\"Sentiments\"].apply(lambda x: extract_sentiment_scores(x, 'neutral'))\n",
    "df_topics[\"Negative\"] = df_topics[\"Sentiments\"].apply(lambda x: extract_sentiment_scores(x, 'negative'))\n",
    "\n",
    "df_topics = df_topics.drop(columns=[\"Sentiments\"])"
   ]
  },
  {
   "cell_type": "code",
   "execution_count": 44,
   "metadata": {},
   "outputs": [
    {
     "data": {
      "text/html": [
       "<div>\n",
       "<style scoped>\n",
       "    .dataframe tbody tr th:only-of-type {\n",
       "        vertical-align: middle;\n",
       "    }\n",
       "\n",
       "    .dataframe tbody tr th {\n",
       "        vertical-align: top;\n",
       "    }\n",
       "\n",
       "    .dataframe thead th {\n",
       "        text-align: right;\n",
       "    }\n",
       "</style>\n",
       "<table border=\"1\" class=\"dataframe\">\n",
       "  <thead>\n",
       "    <tr style=\"text-align: right;\">\n",
       "      <th></th>\n",
       "      <th>Date</th>\n",
       "      <th>Review</th>\n",
       "      <th>Review Lemma</th>\n",
       "      <th>Topics</th>\n",
       "      <th>Names</th>\n",
       "      <th>Representation</th>\n",
       "      <th>Representative_Docs</th>\n",
       "      <th>Positive</th>\n",
       "      <th>Neutral</th>\n",
       "      <th>Negative</th>\n",
       "    </tr>\n",
       "  </thead>\n",
       "  <tbody>\n",
       "    <tr>\n",
       "      <th>0</th>\n",
       "      <td>4 de dezembro de 2023</td>\n",
       "      <td>Atendimento maravilhoso! Matheus foi muito ate...</td>\n",
       "      <td>atendimento maravilhoso matheu muito atencioso...</td>\n",
       "      <td>1</td>\n",
       "      <td>1_muito_bom_atendimento_ambiente</td>\n",
       "      <td>[muito, bom, atendimento, ambiente, lugar, exc...</td>\n",
       "      <td>[experiência incrível comer ótimo lugar super ...</td>\n",
       "      <td>0.989543</td>\n",
       "      <td>0.006004</td>\n",
       "      <td>0.004453</td>\n",
       "    </tr>\n",
       "    <tr>\n",
       "      <th>1</th>\n",
       "      <td>2 de dezembro de 2023</td>\n",
       "      <td>Gostei muito dos pratos e do atendimento. Muit...</td>\n",
       "      <td>gostar muito prato atendimento solicito comida...</td>\n",
       "      <td>1</td>\n",
       "      <td>1_muito_bom_atendimento_ambiente</td>\n",
       "      <td>[muito, bom, atendimento, ambiente, lugar, exc...</td>\n",
       "      <td>[experiência incrível comer ótimo lugar super ...</td>\n",
       "      <td>0.626670</td>\n",
       "      <td>0.077070</td>\n",
       "      <td>0.296260</td>\n",
       "    </tr>\n",
       "    <tr>\n",
       "      <th>2</th>\n",
       "      <td>1 de dezembro de 2023</td>\n",
       "      <td>Eu amei, é a melhor cozinha mexicana que eu já...</td>\n",
       "      <td>ameir bom cozinha mexicano já comi espaço muit...</td>\n",
       "      <td>0</td>\n",
       "      <td>0_mexicano_guacamole_comida_restaurante</td>\n",
       "      <td>[mexicano, guacamole, comida, restaurante, mai...</td>\n",
       "      <td>[comer excelente ambiente bem característico m...</td>\n",
       "      <td>0.967855</td>\n",
       "      <td>0.019304</td>\n",
       "      <td>0.012841</td>\n",
       "    </tr>\n",
       "    <tr>\n",
       "      <th>3</th>\n",
       "      <td>29 de novembro de 2023</td>\n",
       "      <td>Ótimo ambiente e decoração, funcionários prest...</td>\n",
       "      <td>bom ambiente decoração funcionário prestativo ...</td>\n",
       "      <td>2</td>\n",
       "      <td>2_música_bom_ambiente_muito</td>\n",
       "      <td>[música, bom, ambiente, muito, atendimento, mu...</td>\n",
       "      <td>[atendimento excelente bom comida ambiente div...</td>\n",
       "      <td>0.940317</td>\n",
       "      <td>0.025686</td>\n",
       "      <td>0.033997</td>\n",
       "    </tr>\n",
       "    <tr>\n",
       "      <th>4</th>\n",
       "      <td>27 de novembro de 2023</td>\n",
       "      <td>Amomamos o atendimento do Matheus e do, tudo ó...</td>\n",
       "      <td>amoma atendimento matheu bom amar atendimento ...</td>\n",
       "      <td>1</td>\n",
       "      <td>1_muito_bom_atendimento_ambiente</td>\n",
       "      <td>[muito, bom, atendimento, ambiente, lugar, exc...</td>\n",
       "      <td>[experiência incrível comer ótimo lugar super ...</td>\n",
       "      <td>0.979101</td>\n",
       "      <td>0.012174</td>\n",
       "      <td>0.008725</td>\n",
       "    </tr>\n",
       "  </tbody>\n",
       "</table>\n",
       "</div>"
      ],
      "text/plain": [
       "                     Date                                             Review  \\\n",
       "0   4 de dezembro de 2023  Atendimento maravilhoso! Matheus foi muito ate...   \n",
       "1   2 de dezembro de 2023  Gostei muito dos pratos e do atendimento. Muit...   \n",
       "2   1 de dezembro de 2023  Eu amei, é a melhor cozinha mexicana que eu já...   \n",
       "3  29 de novembro de 2023  Ótimo ambiente e decoração, funcionários prest...   \n",
       "4  27 de novembro de 2023  Amomamos o atendimento do Matheus e do, tudo ó...   \n",
       "\n",
       "                                        Review Lemma  Topics  \\\n",
       "0  atendimento maravilhoso matheu muito atencioso...       1   \n",
       "1  gostar muito prato atendimento solicito comida...       1   \n",
       "2  ameir bom cozinha mexicano já comi espaço muit...       0   \n",
       "3  bom ambiente decoração funcionário prestativo ...       2   \n",
       "4  amoma atendimento matheu bom amar atendimento ...       1   \n",
       "\n",
       "                                     Names  \\\n",
       "0         1_muito_bom_atendimento_ambiente   \n",
       "1         1_muito_bom_atendimento_ambiente   \n",
       "2  0_mexicano_guacamole_comida_restaurante   \n",
       "3              2_música_bom_ambiente_muito   \n",
       "4         1_muito_bom_atendimento_ambiente   \n",
       "\n",
       "                                      Representation  \\\n",
       "0  [muito, bom, atendimento, ambiente, lugar, exc...   \n",
       "1  [muito, bom, atendimento, ambiente, lugar, exc...   \n",
       "2  [mexicano, guacamole, comida, restaurante, mai...   \n",
       "3  [música, bom, ambiente, muito, atendimento, mu...   \n",
       "4  [muito, bom, atendimento, ambiente, lugar, exc...   \n",
       "\n",
       "                                 Representative_Docs  Positive   Neutral  \\\n",
       "0  [experiência incrível comer ótimo lugar super ...  0.989543  0.006004   \n",
       "1  [experiência incrível comer ótimo lugar super ...  0.626670  0.077070   \n",
       "2  [comer excelente ambiente bem característico m...  0.967855  0.019304   \n",
       "3  [atendimento excelente bom comida ambiente div...  0.940317  0.025686   \n",
       "4  [experiência incrível comer ótimo lugar super ...  0.979101  0.012174   \n",
       "\n",
       "   Negative  \n",
       "0  0.004453  \n",
       "1  0.296260  \n",
       "2  0.012841  \n",
       "3  0.033997  \n",
       "4  0.008725  "
      ]
     },
     "execution_count": 44,
     "metadata": {},
     "output_type": "execute_result"
    }
   ],
   "source": [
    "df_topics.head()"
   ]
  },
  {
   "cell_type": "code",
   "execution_count": 45,
   "metadata": {},
   "outputs": [],
   "source": [
    "df_topics.to_csv('guacamole_topics_sentiment.csv', index=False)"
   ]
  },
  {
   "cell_type": "markdown",
   "metadata": {},
   "source": [
    "Feito isso, iremos calcular a média dos valores de cada um dos três sentimentos para os tópicos em questão e, no final de tudo, veremos qual é o maior valor dentre os três para definirmos o sentimento final para o tópico analisado."
   ]
  },
  {
   "cell_type": "code",
   "execution_count": 46,
   "metadata": {},
   "outputs": [
    {
     "data": {
      "text/html": [
       "<div>\n",
       "<style scoped>\n",
       "    .dataframe tbody tr th:only-of-type {\n",
       "        vertical-align: middle;\n",
       "    }\n",
       "\n",
       "    .dataframe tbody tr th {\n",
       "        vertical-align: top;\n",
       "    }\n",
       "\n",
       "    .dataframe thead th {\n",
       "        text-align: right;\n",
       "    }\n",
       "</style>\n",
       "<table border=\"1\" class=\"dataframe\">\n",
       "  <thead>\n",
       "    <tr style=\"text-align: right;\">\n",
       "      <th></th>\n",
       "      <th>Topics</th>\n",
       "      <th>Neutral</th>\n",
       "      <th>Positive</th>\n",
       "      <th>Negative</th>\n",
       "    </tr>\n",
       "  </thead>\n",
       "  <tbody>\n",
       "    <tr>\n",
       "      <th>0</th>\n",
       "      <td>-1</td>\n",
       "      <td>0.060974</td>\n",
       "      <td>0.777234</td>\n",
       "      <td>0.161792</td>\n",
       "    </tr>\n",
       "    <tr>\n",
       "      <th>1</th>\n",
       "      <td>0</td>\n",
       "      <td>0.056273</td>\n",
       "      <td>0.810649</td>\n",
       "      <td>0.133078</td>\n",
       "    </tr>\n",
       "    <tr>\n",
       "      <th>2</th>\n",
       "      <td>1</td>\n",
       "      <td>0.035374</td>\n",
       "      <td>0.869974</td>\n",
       "      <td>0.094652</td>\n",
       "    </tr>\n",
       "    <tr>\n",
       "      <th>3</th>\n",
       "      <td>2</td>\n",
       "      <td>0.037346</td>\n",
       "      <td>0.889875</td>\n",
       "      <td>0.072779</td>\n",
       "    </tr>\n",
       "    <tr>\n",
       "      <th>4</th>\n",
       "      <td>3</td>\n",
       "      <td>0.043736</td>\n",
       "      <td>0.840844</td>\n",
       "      <td>0.115421</td>\n",
       "    </tr>\n",
       "    <tr>\n",
       "      <th>5</th>\n",
       "      <td>4</td>\n",
       "      <td>0.033280</td>\n",
       "      <td>0.893389</td>\n",
       "      <td>0.073331</td>\n",
       "    </tr>\n",
       "    <tr>\n",
       "      <th>6</th>\n",
       "      <td>5</td>\n",
       "      <td>0.038591</td>\n",
       "      <td>0.876422</td>\n",
       "      <td>0.084987</td>\n",
       "    </tr>\n",
       "    <tr>\n",
       "      <th>7</th>\n",
       "      <td>6</td>\n",
       "      <td>0.047400</td>\n",
       "      <td>0.813427</td>\n",
       "      <td>0.139172</td>\n",
       "    </tr>\n",
       "    <tr>\n",
       "      <th>8</th>\n",
       "      <td>7</td>\n",
       "      <td>0.129464</td>\n",
       "      <td>0.366143</td>\n",
       "      <td>0.504393</td>\n",
       "    </tr>\n",
       "    <tr>\n",
       "      <th>9</th>\n",
       "      <td>8</td>\n",
       "      <td>0.062093</td>\n",
       "      <td>0.776999</td>\n",
       "      <td>0.160909</td>\n",
       "    </tr>\n",
       "    <tr>\n",
       "      <th>10</th>\n",
       "      <td>9</td>\n",
       "      <td>0.062749</td>\n",
       "      <td>0.693416</td>\n",
       "      <td>0.243835</td>\n",
       "    </tr>\n",
       "    <tr>\n",
       "      <th>11</th>\n",
       "      <td>10</td>\n",
       "      <td>0.028749</td>\n",
       "      <td>0.906921</td>\n",
       "      <td>0.064331</td>\n",
       "    </tr>\n",
       "    <tr>\n",
       "      <th>12</th>\n",
       "      <td>11</td>\n",
       "      <td>0.054868</td>\n",
       "      <td>0.830219</td>\n",
       "      <td>0.114913</td>\n",
       "    </tr>\n",
       "    <tr>\n",
       "      <th>13</th>\n",
       "      <td>12</td>\n",
       "      <td>0.026029</td>\n",
       "      <td>0.913509</td>\n",
       "      <td>0.060462</td>\n",
       "    </tr>\n",
       "    <tr>\n",
       "      <th>14</th>\n",
       "      <td>13</td>\n",
       "      <td>0.066310</td>\n",
       "      <td>0.737816</td>\n",
       "      <td>0.195874</td>\n",
       "    </tr>\n",
       "  </tbody>\n",
       "</table>\n",
       "</div>"
      ],
      "text/plain": [
       "    Topics   Neutral  Positive  Negative\n",
       "0       -1  0.060974  0.777234  0.161792\n",
       "1        0  0.056273  0.810649  0.133078\n",
       "2        1  0.035374  0.869974  0.094652\n",
       "3        2  0.037346  0.889875  0.072779\n",
       "4        3  0.043736  0.840844  0.115421\n",
       "5        4  0.033280  0.893389  0.073331\n",
       "6        5  0.038591  0.876422  0.084987\n",
       "7        6  0.047400  0.813427  0.139172\n",
       "8        7  0.129464  0.366143  0.504393\n",
       "9        8  0.062093  0.776999  0.160909\n",
       "10       9  0.062749  0.693416  0.243835\n",
       "11      10  0.028749  0.906921  0.064331\n",
       "12      11  0.054868  0.830219  0.114913\n",
       "13      12  0.026029  0.913509  0.060462\n",
       "14      13  0.066310  0.737816  0.195874"
      ]
     },
     "execution_count": 46,
     "metadata": {},
     "output_type": "execute_result"
    }
   ],
   "source": [
    "df_topic_sentiment = df_topics.groupby('Topics').agg({'Neutral': 'mean', 'Positive': 'mean', 'Negative': 'mean'})\n",
    "df_topic_sentiment = df_topic_sentiment.reset_index()\n",
    "df_topic_sentiment"
   ]
  },
  {
   "cell_type": "code",
   "execution_count": 47,
   "metadata": {},
   "outputs": [
    {
     "data": {
      "text/html": [
       "<div>\n",
       "<style scoped>\n",
       "    .dataframe tbody tr th:only-of-type {\n",
       "        vertical-align: middle;\n",
       "    }\n",
       "\n",
       "    .dataframe tbody tr th {\n",
       "        vertical-align: top;\n",
       "    }\n",
       "\n",
       "    .dataframe thead th {\n",
       "        text-align: right;\n",
       "    }\n",
       "</style>\n",
       "<table border=\"1\" class=\"dataframe\">\n",
       "  <thead>\n",
       "    <tr style=\"text-align: right;\">\n",
       "      <th></th>\n",
       "      <th>Topics</th>\n",
       "      <th>Neutral</th>\n",
       "      <th>Positive</th>\n",
       "      <th>Negative</th>\n",
       "      <th>Highest Score</th>\n",
       "      <th>Topic Sentiment</th>\n",
       "    </tr>\n",
       "  </thead>\n",
       "  <tbody>\n",
       "    <tr>\n",
       "      <th>0</th>\n",
       "      <td>-1</td>\n",
       "      <td>0.060974</td>\n",
       "      <td>0.777234</td>\n",
       "      <td>0.161792</td>\n",
       "      <td>0.777234</td>\n",
       "      <td>Positive</td>\n",
       "    </tr>\n",
       "    <tr>\n",
       "      <th>1</th>\n",
       "      <td>0</td>\n",
       "      <td>0.056273</td>\n",
       "      <td>0.810649</td>\n",
       "      <td>0.133078</td>\n",
       "      <td>0.810649</td>\n",
       "      <td>Positive</td>\n",
       "    </tr>\n",
       "    <tr>\n",
       "      <th>2</th>\n",
       "      <td>1</td>\n",
       "      <td>0.035374</td>\n",
       "      <td>0.869974</td>\n",
       "      <td>0.094652</td>\n",
       "      <td>0.869974</td>\n",
       "      <td>Positive</td>\n",
       "    </tr>\n",
       "    <tr>\n",
       "      <th>3</th>\n",
       "      <td>2</td>\n",
       "      <td>0.037346</td>\n",
       "      <td>0.889875</td>\n",
       "      <td>0.072779</td>\n",
       "      <td>0.889875</td>\n",
       "      <td>Positive</td>\n",
       "    </tr>\n",
       "    <tr>\n",
       "      <th>4</th>\n",
       "      <td>3</td>\n",
       "      <td>0.043736</td>\n",
       "      <td>0.840844</td>\n",
       "      <td>0.115421</td>\n",
       "      <td>0.840844</td>\n",
       "      <td>Positive</td>\n",
       "    </tr>\n",
       "    <tr>\n",
       "      <th>5</th>\n",
       "      <td>4</td>\n",
       "      <td>0.033280</td>\n",
       "      <td>0.893389</td>\n",
       "      <td>0.073331</td>\n",
       "      <td>0.893389</td>\n",
       "      <td>Positive</td>\n",
       "    </tr>\n",
       "    <tr>\n",
       "      <th>6</th>\n",
       "      <td>5</td>\n",
       "      <td>0.038591</td>\n",
       "      <td>0.876422</td>\n",
       "      <td>0.084987</td>\n",
       "      <td>0.876422</td>\n",
       "      <td>Positive</td>\n",
       "    </tr>\n",
       "    <tr>\n",
       "      <th>7</th>\n",
       "      <td>6</td>\n",
       "      <td>0.047400</td>\n",
       "      <td>0.813427</td>\n",
       "      <td>0.139172</td>\n",
       "      <td>0.813427</td>\n",
       "      <td>Positive</td>\n",
       "    </tr>\n",
       "    <tr>\n",
       "      <th>8</th>\n",
       "      <td>7</td>\n",
       "      <td>0.129464</td>\n",
       "      <td>0.366143</td>\n",
       "      <td>0.504393</td>\n",
       "      <td>0.504393</td>\n",
       "      <td>Negative</td>\n",
       "    </tr>\n",
       "    <tr>\n",
       "      <th>9</th>\n",
       "      <td>8</td>\n",
       "      <td>0.062093</td>\n",
       "      <td>0.776999</td>\n",
       "      <td>0.160909</td>\n",
       "      <td>0.776999</td>\n",
       "      <td>Positive</td>\n",
       "    </tr>\n",
       "    <tr>\n",
       "      <th>10</th>\n",
       "      <td>9</td>\n",
       "      <td>0.062749</td>\n",
       "      <td>0.693416</td>\n",
       "      <td>0.243835</td>\n",
       "      <td>0.693416</td>\n",
       "      <td>Positive</td>\n",
       "    </tr>\n",
       "    <tr>\n",
       "      <th>11</th>\n",
       "      <td>10</td>\n",
       "      <td>0.028749</td>\n",
       "      <td>0.906921</td>\n",
       "      <td>0.064331</td>\n",
       "      <td>0.906921</td>\n",
       "      <td>Positive</td>\n",
       "    </tr>\n",
       "    <tr>\n",
       "      <th>12</th>\n",
       "      <td>11</td>\n",
       "      <td>0.054868</td>\n",
       "      <td>0.830219</td>\n",
       "      <td>0.114913</td>\n",
       "      <td>0.830219</td>\n",
       "      <td>Positive</td>\n",
       "    </tr>\n",
       "    <tr>\n",
       "      <th>13</th>\n",
       "      <td>12</td>\n",
       "      <td>0.026029</td>\n",
       "      <td>0.913509</td>\n",
       "      <td>0.060462</td>\n",
       "      <td>0.913509</td>\n",
       "      <td>Positive</td>\n",
       "    </tr>\n",
       "    <tr>\n",
       "      <th>14</th>\n",
       "      <td>13</td>\n",
       "      <td>0.066310</td>\n",
       "      <td>0.737816</td>\n",
       "      <td>0.195874</td>\n",
       "      <td>0.737816</td>\n",
       "      <td>Positive</td>\n",
       "    </tr>\n",
       "  </tbody>\n",
       "</table>\n",
       "</div>"
      ],
      "text/plain": [
       "    Topics   Neutral  Positive  Negative  Highest Score Topic Sentiment\n",
       "0       -1  0.060974  0.777234  0.161792       0.777234        Positive\n",
       "1        0  0.056273  0.810649  0.133078       0.810649        Positive\n",
       "2        1  0.035374  0.869974  0.094652       0.869974        Positive\n",
       "3        2  0.037346  0.889875  0.072779       0.889875        Positive\n",
       "4        3  0.043736  0.840844  0.115421       0.840844        Positive\n",
       "5        4  0.033280  0.893389  0.073331       0.893389        Positive\n",
       "6        5  0.038591  0.876422  0.084987       0.876422        Positive\n",
       "7        6  0.047400  0.813427  0.139172       0.813427        Positive\n",
       "8        7  0.129464  0.366143  0.504393       0.504393        Negative\n",
       "9        8  0.062093  0.776999  0.160909       0.776999        Positive\n",
       "10       9  0.062749  0.693416  0.243835       0.693416        Positive\n",
       "11      10  0.028749  0.906921  0.064331       0.906921        Positive\n",
       "12      11  0.054868  0.830219  0.114913       0.830219        Positive\n",
       "13      12  0.026029  0.913509  0.060462       0.913509        Positive\n",
       "14      13  0.066310  0.737816  0.195874       0.737816        Positive"
      ]
     },
     "execution_count": 47,
     "metadata": {},
     "output_type": "execute_result"
    }
   ],
   "source": [
    "score_cols = ['Neutral', 'Positive', 'Negative']\n",
    "df_topic_sentiment['Highest Score'] = df_topic_sentiment[score_cols].max(axis=1)\n",
    "\n",
    "def get_sentiment(row):\n",
    "    if row['Positive'] == row['Highest Score']:\n",
    "        return 'Positive'\n",
    "    elif row['Negative'] == row['Highest Score']:\n",
    "        return 'Negative'\n",
    "    else:\n",
    "        return 'Neutral'\n",
    "\n",
    "df_topic_sentiment['Topic Sentiment'] = df_topic_sentiment.apply(get_sentiment, axis=1)\n",
    "df_topic_sentiment"
   ]
  },
  {
   "cell_type": "code",
   "execution_count": 70,
   "metadata": {},
   "outputs": [],
   "source": [
    "df_topic_sentiment.to_csv('topics_sentiment.csv', index=False)"
   ]
  },
  {
   "cell_type": "markdown",
   "metadata": {},
   "source": [
    "# Extração de Entidade Nomeada"
   ]
  },
  {
   "cell_type": "code",
   "execution_count": 48,
   "metadata": {},
   "outputs": [
    {
     "name": "stderr",
     "output_type": "stream",
     "text": [
      "Some weights of the model checkpoint at 51la5/roberta-large-NER were not used when initializing XLMRobertaForTokenClassification: ['roberta.pooler.dense.weight', 'roberta.pooler.dense.bias']\n",
      "- This IS expected if you are initializing XLMRobertaForTokenClassification from the checkpoint of a model trained on another task or with another architecture (e.g. initializing a BertForSequenceClassification model from a BertForPreTraining model).\n",
      "- This IS NOT expected if you are initializing XLMRobertaForTokenClassification from the checkpoint of a model that you expect to be exactly identical (initializing a BertForSequenceClassification model from a BertForSequenceClassification model).\n"
     ]
    },
    {
     "name": "stdout",
     "output_type": "stream",
     "text": [
      "CPU times: total: 12.3 s\n",
      "Wall time: 23.8 s\n"
     ]
    }
   ],
   "source": [
    "model_ner = AutoModelForTokenClassification.from_pretrained('51la5/roberta-large-NER')\n",
    "tokenizer_ner = AutoTokenizer.from_pretrained('51la5/roberta-large-NER', do_lower_case=False)\n",
    "ner_task = pipeline(\"ner\", model=model_ner, tokenizer=tokenizer_ner)"
   ]
  },
  {
   "cell_type": "code",
   "execution_count": 49,
   "metadata": {},
   "outputs": [
    {
     "name": "stderr",
     "output_type": "stream",
     "text": [
      "Asking to truncate to max_length but no maximum length is provided and the model has no predefined maximum length. Default to no truncation.\n"
     ]
    },
    {
     "data": {
      "text/plain": [
       "[{'entity': 'I-PER',\n",
       "  'score': 0.99990416,\n",
       "  'index': 1,\n",
       "  'word': '▁Julia',\n",
       "  'start': 0,\n",
       "  'end': 5},\n",
       " {'entity': 'I-LOC',\n",
       "  'score': 0.9999987,\n",
       "  'index': 5,\n",
       "  'word': '▁Londres',\n",
       "  'start': 19,\n",
       "  'end': 26},\n",
       " {'entity': 'I-LOC',\n",
       "  'score': 0.9999982,\n",
       "  'index': 7,\n",
       "  'word': '▁Ber',\n",
       "  'start': 31,\n",
       "  'end': 34},\n",
       " {'entity': 'I-LOC',\n",
       "  'score': 0.99999785,\n",
       "  'index': 8,\n",
       "  'word': 'lim',\n",
       "  'start': 34,\n",
       "  'end': 37}]"
      ]
     },
     "execution_count": 49,
     "metadata": {},
     "output_type": "execute_result"
    }
   ],
   "source": [
    "ner_task(\"Julia não gosta de Londres nem Berlim\")"
   ]
  },
  {
   "cell_type": "code",
   "execution_count": 50,
   "metadata": {},
   "outputs": [],
   "source": [
    "def classify_ner(text):\n",
    "    \"\"\"\n",
    "    Token classification function using a pretrained model.\n",
    "\n",
    "    Parameters:\n",
    "    - text: Input text to be tokenized and classified.\n",
    "\n",
    "    Returns:\n",
    "    List of tuples containing predicted pairs (token, label) for the input text.\n",
    "\n",
    "    Example:\n",
    "    Input:  \"Julia is tired of living in London.\"\n",
    "    Output: [('Julia', 'B-PESSOA'), ('is', 'O'), ('tired', 'O'), ('of', 'O'),\n",
    "            ('living', 'O'), ('in', 'O'), ('London', 'B-LOCAL'), ('.', 'O')]\n",
    "    \"\"\"\n",
    "\n",
    "    inputs = tokenizer_ner(text, max_length=512, truncation=True, return_tensors=\"pt\")\n",
    "    tokens = inputs.tokens()\n",
    "\n",
    "    outputs = model_ner(**inputs).logits\n",
    "    predictions = torch.argmax(outputs, dim=2)\n",
    "\n",
    "    results = []\n",
    "\n",
    "    for token, prediction in zip(tokens, predictions[0].numpy()):\n",
    "        label = model_ner.config.id2label.get(prediction, 'O')\n",
    "        if label != 'O':\n",
    "            results.append((token, label))\n",
    "\n",
    "    return results"
   ]
  },
  {
   "cell_type": "code",
   "execution_count": 51,
   "metadata": {},
   "outputs": [
    {
     "name": "stdout",
     "output_type": "stream",
     "text": [
      "CPU times: total: 1h 31min 58s\n",
      "Wall time: 16min 21s\n"
     ]
    }
   ],
   "source": [
    "%%time\n",
    "\n",
    "df_topics[\"Token Predictions\"] = df_topics[\"Review\"].apply(classify_ner)"
   ]
  },
  {
   "cell_type": "code",
   "execution_count": 53,
   "metadata": {},
   "outputs": [],
   "source": [
    "def merge_tokens(token_predictions):\n",
    "    \"\"\"\n",
    "    Function to merge consecutive tokens that start with \"_\" and have the same label.\n",
    "\n",
    "    Parameters:\n",
    "    - token_predictions: List of tuples containing predicted pairs (token, label).\n",
    "\n",
    "    Returns:\n",
    "    List of merged tuples where consecutive tokens starting with \"_\"\n",
    "    and having the same label are combined.\n",
    "\n",
    "    Example:\n",
    "    Input:  [('▁Mathe', 'I-PER'), ('us', 'I-PER')]\n",
    "    Output: [('▁Matheus', 'I-PER')]\n",
    "    \"\"\"\n",
    "\n",
    "    merged_results = []\n",
    "    current_token = \"\"\n",
    "    current_label = \"\"\n",
    "\n",
    "    for token, label in token_predictions:\n",
    "        if token.startswith(\"▁\"):\n",
    "            if current_token:\n",
    "                merged_results.append((current_token, current_label))\n",
    "            current_token = token[1:]\n",
    "            current_label = label\n",
    "        else:\n",
    "            current_token += token\n",
    "            current_label = label\n",
    "\n",
    "    if current_token:\n",
    "        merged_results.append((current_token, current_label))\n",
    "\n",
    "    return merged_results"
   ]
  },
  {
   "cell_type": "code",
   "execution_count": 54,
   "metadata": {},
   "outputs": [
    {
     "name": "stdout",
     "output_type": "stream",
     "text": [
      "CPU times: total: 0 ns\n",
      "Wall time: 10.1 ms\n"
     ]
    }
   ],
   "source": [
    "%%time\n",
    "\n",
    "df_topics[\"Token Predictions Corrected\"] = df_topics[\"Token Predictions\"].apply(merge_tokens)"
   ]
  },
  {
   "cell_type": "code",
   "execution_count": 60,
   "metadata": {},
   "outputs": [
    {
     "data": {
      "text/plain": [
       "[(('mexicana', 'I-MISC'), 332),\n",
       " (('mexicano', 'I-MISC'), 143),\n",
       " (('Rio', 'I-LOC'), 86),\n",
       " (('México', 'I-LOC'), 65),\n",
       " (('Guacamole', 'I-ORG'), 61),\n",
       " (('Guacamole', 'I-LOC'), 59),\n",
       " (('Barra', 'I-LOC'), 53),\n",
       " (('de', 'I-LOC'), 36),\n",
       " (('Janeiro', 'I-LOC'), 29),\n",
       " (('Jardim', 'I-LOC'), 28),\n",
       " (('<s>', 'I-LOC'), 27),\n",
       " (('Gabriel', 'I-PER'), 27),\n",
       " (('Botânico', 'I-LOC'), 24),\n",
       " (('Maria', 'I-MISC'), 23),\n",
       " (('Guacamole', 'I-MISC'), 23),\n",
       " (('Matheus', 'I-PER'), 21),\n",
       " (('Maria', 'I-PER'), 21),\n",
       " (('Tijuca', 'I-LOC'), 20),\n",
       " (('da', 'I-LOC'), 20),\n",
       " (('Mariachis', 'I-ORG'), 17)]"
      ]
     },
     "execution_count": 60,
     "metadata": {},
     "output_type": "execute_result"
    }
   ],
   "source": [
    "token_predictions_corrected = df_topics[\"Token Predictions Corrected\"]\n",
    "\n",
    "flat_list = [item for sublist in token_predictions_corrected for item in sublist]\n",
    "\n",
    "counter = Counter(flat_list)\n",
    "\n",
    "most_common_elements = counter.most_common(20)\n",
    "\n",
    "most_common_elements"
   ]
  },
  {
   "cell_type": "code",
   "execution_count": null,
   "metadata": {},
   "outputs": [],
   "source": [
    "df_topics = df_topics.drop(columns=[\"Token Predictions\"])"
   ]
  },
  {
   "cell_type": "code",
   "execution_count": 59,
   "metadata": {},
   "outputs": [
    {
     "data": {
      "text/html": [
       "<div>\n",
       "<style scoped>\n",
       "    .dataframe tbody tr th:only-of-type {\n",
       "        vertical-align: middle;\n",
       "    }\n",
       "\n",
       "    .dataframe tbody tr th {\n",
       "        vertical-align: top;\n",
       "    }\n",
       "\n",
       "    .dataframe thead th {\n",
       "        text-align: right;\n",
       "    }\n",
       "</style>\n",
       "<table border=\"1\" class=\"dataframe\">\n",
       "  <thead>\n",
       "    <tr style=\"text-align: right;\">\n",
       "      <th></th>\n",
       "      <th>Date</th>\n",
       "      <th>Review</th>\n",
       "      <th>Review Lemma</th>\n",
       "      <th>Topics</th>\n",
       "      <th>Names</th>\n",
       "      <th>Representation</th>\n",
       "      <th>Representative_Docs</th>\n",
       "      <th>Positive</th>\n",
       "      <th>Neutral</th>\n",
       "      <th>Negative</th>\n",
       "      <th>Token Predictions Corrected</th>\n",
       "    </tr>\n",
       "  </thead>\n",
       "  <tbody>\n",
       "    <tr>\n",
       "      <th>0</th>\n",
       "      <td>4 de dezembro de 2023</td>\n",
       "      <td>Atendimento maravilhoso! Matheus foi muito ate...</td>\n",
       "      <td>atendimento maravilhoso matheu muito atencioso...</td>\n",
       "      <td>1</td>\n",
       "      <td>1_muito_bom_atendimento_ambiente</td>\n",
       "      <td>[muito, bom, atendimento, ambiente, lugar, exc...</td>\n",
       "      <td>[experiência incrível comer ótimo lugar super ...</td>\n",
       "      <td>0.989543</td>\n",
       "      <td>0.006004</td>\n",
       "      <td>0.004453</td>\n",
       "      <td>[(Matheus, I-PER)]</td>\n",
       "    </tr>\n",
       "    <tr>\n",
       "      <th>1</th>\n",
       "      <td>2 de dezembro de 2023</td>\n",
       "      <td>Gostei muito dos pratos e do atendimento. Muit...</td>\n",
       "      <td>gostar muito prato atendimento solicito comida...</td>\n",
       "      <td>1</td>\n",
       "      <td>1_muito_bom_atendimento_ambiente</td>\n",
       "      <td>[muito, bom, atendimento, ambiente, lugar, exc...</td>\n",
       "      <td>[experiência incrível comer ótimo lugar super ...</td>\n",
       "      <td>0.626670</td>\n",
       "      <td>0.077070</td>\n",
       "      <td>0.296260</td>\n",
       "      <td>[]</td>\n",
       "    </tr>\n",
       "    <tr>\n",
       "      <th>2</th>\n",
       "      <td>1 de dezembro de 2023</td>\n",
       "      <td>Eu amei, é a melhor cozinha mexicana que eu já...</td>\n",
       "      <td>ameir bom cozinha mexicano já comi espaço muit...</td>\n",
       "      <td>0</td>\n",
       "      <td>0_mexicano_guacamole_comida_restaurante</td>\n",
       "      <td>[mexicano, guacamole, comida, restaurante, mai...</td>\n",
       "      <td>[comer excelente ambiente bem característico m...</td>\n",
       "      <td>0.967855</td>\n",
       "      <td>0.019304</td>\n",
       "      <td>0.012841</td>\n",
       "      <td>[(mexicana, I-MISC)]</td>\n",
       "    </tr>\n",
       "    <tr>\n",
       "      <th>3</th>\n",
       "      <td>29 de novembro de 2023</td>\n",
       "      <td>Ótimo ambiente e decoração, funcionários prest...</td>\n",
       "      <td>bom ambiente decoração funcionário prestativo ...</td>\n",
       "      <td>2</td>\n",
       "      <td>2_música_bom_ambiente_muito</td>\n",
       "      <td>[música, bom, ambiente, muito, atendimento, mu...</td>\n",
       "      <td>[atendimento excelente bom comida ambiente div...</td>\n",
       "      <td>0.940317</td>\n",
       "      <td>0.025686</td>\n",
       "      <td>0.033997</td>\n",
       "      <td>[]</td>\n",
       "    </tr>\n",
       "    <tr>\n",
       "      <th>4</th>\n",
       "      <td>27 de novembro de 2023</td>\n",
       "      <td>Amomamos o atendimento do Matheus e do, tudo ó...</td>\n",
       "      <td>amoma atendimento matheu bom amar atendimento ...</td>\n",
       "      <td>1</td>\n",
       "      <td>1_muito_bom_atendimento_ambiente</td>\n",
       "      <td>[muito, bom, atendimento, ambiente, lugar, exc...</td>\n",
       "      <td>[experiência incrível comer ótimo lugar super ...</td>\n",
       "      <td>0.979101</td>\n",
       "      <td>0.012174</td>\n",
       "      <td>0.008725</td>\n",
       "      <td>[(Matheus, I-PER)]</td>\n",
       "    </tr>\n",
       "  </tbody>\n",
       "</table>\n",
       "</div>"
      ],
      "text/plain": [
       "                     Date                                             Review  \\\n",
       "0   4 de dezembro de 2023  Atendimento maravilhoso! Matheus foi muito ate...   \n",
       "1   2 de dezembro de 2023  Gostei muito dos pratos e do atendimento. Muit...   \n",
       "2   1 de dezembro de 2023  Eu amei, é a melhor cozinha mexicana que eu já...   \n",
       "3  29 de novembro de 2023  Ótimo ambiente e decoração, funcionários prest...   \n",
       "4  27 de novembro de 2023  Amomamos o atendimento do Matheus e do, tudo ó...   \n",
       "\n",
       "                                        Review Lemma  Topics  \\\n",
       "0  atendimento maravilhoso matheu muito atencioso...       1   \n",
       "1  gostar muito prato atendimento solicito comida...       1   \n",
       "2  ameir bom cozinha mexicano já comi espaço muit...       0   \n",
       "3  bom ambiente decoração funcionário prestativo ...       2   \n",
       "4  amoma atendimento matheu bom amar atendimento ...       1   \n",
       "\n",
       "                                     Names  \\\n",
       "0         1_muito_bom_atendimento_ambiente   \n",
       "1         1_muito_bom_atendimento_ambiente   \n",
       "2  0_mexicano_guacamole_comida_restaurante   \n",
       "3              2_música_bom_ambiente_muito   \n",
       "4         1_muito_bom_atendimento_ambiente   \n",
       "\n",
       "                                      Representation  \\\n",
       "0  [muito, bom, atendimento, ambiente, lugar, exc...   \n",
       "1  [muito, bom, atendimento, ambiente, lugar, exc...   \n",
       "2  [mexicano, guacamole, comida, restaurante, mai...   \n",
       "3  [música, bom, ambiente, muito, atendimento, mu...   \n",
       "4  [muito, bom, atendimento, ambiente, lugar, exc...   \n",
       "\n",
       "                                 Representative_Docs  Positive   Neutral  \\\n",
       "0  [experiência incrível comer ótimo lugar super ...  0.989543  0.006004   \n",
       "1  [experiência incrível comer ótimo lugar super ...  0.626670  0.077070   \n",
       "2  [comer excelente ambiente bem característico m...  0.967855  0.019304   \n",
       "3  [atendimento excelente bom comida ambiente div...  0.940317  0.025686   \n",
       "4  [experiência incrível comer ótimo lugar super ...  0.979101  0.012174   \n",
       "\n",
       "   Negative Token Predictions Corrected  \n",
       "0  0.004453          [(Matheus, I-PER)]  \n",
       "1  0.296260                          []  \n",
       "2  0.012841        [(mexicana, I-MISC)]  \n",
       "3  0.033997                          []  \n",
       "4  0.008725          [(Matheus, I-PER)]  "
      ]
     },
     "execution_count": 59,
     "metadata": {},
     "output_type": "execute_result"
    }
   ],
   "source": [
    "df_topics.head()"
   ]
  },
  {
   "cell_type": "code",
   "execution_count": 76,
   "metadata": {},
   "outputs": [
    {
     "data": {
      "text/html": [
       "<div>\n",
       "<style scoped>\n",
       "    .dataframe tbody tr th:only-of-type {\n",
       "        vertical-align: middle;\n",
       "    }\n",
       "\n",
       "    .dataframe tbody tr th {\n",
       "        vertical-align: top;\n",
       "    }\n",
       "\n",
       "    .dataframe thead th {\n",
       "        text-align: right;\n",
       "    }\n",
       "</style>\n",
       "<table border=\"1\" class=\"dataframe\">\n",
       "  <thead>\n",
       "    <tr style=\"text-align: right;\">\n",
       "      <th></th>\n",
       "      <th>Topics</th>\n",
       "      <th>Token Predictions Corrected</th>\n",
       "    </tr>\n",
       "  </thead>\n",
       "  <tbody>\n",
       "    <tr>\n",
       "      <th>0</th>\n",
       "      <td>-1</td>\n",
       "      <td>((Maria, I-PER), 4)</td>\n",
       "    </tr>\n",
       "    <tr>\n",
       "      <th>1</th>\n",
       "      <td>0</td>\n",
       "      <td>((mexicana, I-MISC), 329)</td>\n",
       "    </tr>\n",
       "    <tr>\n",
       "      <th>2</th>\n",
       "      <td>1</td>\n",
       "      <td>((Gabriel, I-PER), 12)</td>\n",
       "    </tr>\n",
       "    <tr>\n",
       "      <th>3</th>\n",
       "      <td>2</td>\n",
       "      <td>((Rio, I-LOC), 4)</td>\n",
       "    </tr>\n",
       "    <tr>\n",
       "      <th>4</th>\n",
       "      <td>3</td>\n",
       "      <td>((Barra, I-LOC), 4)</td>\n",
       "    </tr>\n",
       "    <tr>\n",
       "      <th>5</th>\n",
       "      <td>4</td>\n",
       "      <td>((Eveline, I-PER), 4)</td>\n",
       "    </tr>\n",
       "    <tr>\n",
       "      <th>6</th>\n",
       "      <td>5</td>\n",
       "      <td>((Maria, I-PER), 4)</td>\n",
       "    </tr>\n",
       "    <tr>\n",
       "      <th>7</th>\n",
       "      <td>6</td>\n",
       "      <td>((&lt;s&gt;, I-LOC), 2)</td>\n",
       "    </tr>\n",
       "    <tr>\n",
       "      <th>8</th>\n",
       "      <td>7</td>\n",
       "      <td>((Barra, I-LOC), 4)</td>\n",
       "    </tr>\n",
       "    <tr>\n",
       "      <th>9</th>\n",
       "      <td>8</td>\n",
       "      <td>((Tablet, I-MISC), 1)</td>\n",
       "    </tr>\n",
       "    <tr>\n",
       "      <th>10</th>\n",
       "      <td>9</td>\n",
       "      <td>((Matheus, I-PER), 2)</td>\n",
       "    </tr>\n",
       "    <tr>\n",
       "      <th>11</th>\n",
       "      <td>10</td>\n",
       "      <td>((Maria, I-MISC), 2)</td>\n",
       "    </tr>\n",
       "    <tr>\n",
       "      <th>12</th>\n",
       "      <td>11</td>\n",
       "      <td>((Ortodontia, I-MISC), 1)</td>\n",
       "    </tr>\n",
       "    <tr>\n",
       "      <th>13</th>\n",
       "      <td>12</td>\n",
       "      <td>((Gabriel, I-PER), 1)</td>\n",
       "    </tr>\n",
       "    <tr>\n",
       "      <th>14</th>\n",
       "      <td>13</td>\n",
       "      <td>((de, I-MISC), 2)</td>\n",
       "    </tr>\n",
       "  </tbody>\n",
       "</table>\n",
       "</div>"
      ],
      "text/plain": [
       "    Topics Token Predictions Corrected\n",
       "0       -1         ((Maria, I-PER), 4)\n",
       "1        0   ((mexicana, I-MISC), 329)\n",
       "2        1      ((Gabriel, I-PER), 12)\n",
       "3        2           ((Rio, I-LOC), 4)\n",
       "4        3         ((Barra, I-LOC), 4)\n",
       "5        4       ((Eveline, I-PER), 4)\n",
       "6        5         ((Maria, I-PER), 4)\n",
       "7        6           ((<s>, I-LOC), 2)\n",
       "8        7         ((Barra, I-LOC), 4)\n",
       "9        8       ((Tablet, I-MISC), 1)\n",
       "10       9       ((Matheus, I-PER), 2)\n",
       "11      10        ((Maria, I-MISC), 2)\n",
       "12      11   ((Ortodontia, I-MISC), 1)\n",
       "13      12       ((Gabriel, I-PER), 1)\n",
       "14      13           ((de, I-MISC), 2)"
      ]
     },
     "execution_count": 76,
     "metadata": {},
     "output_type": "execute_result"
    }
   ],
   "source": [
    "import pandas as pd\n",
    "from collections import Counter\n",
    "\n",
    "df_filtered = df_topics[df_topics[\"Token Predictions Corrected\"].apply(lambda x: bool(x))]\n",
    "\n",
    "def most_common_value(lst):\n",
    "    counter = Counter(lst)\n",
    "    if counter:\n",
    "        most_common = counter.most_common(1)[0]\n",
    "        return most_common[0], most_common[1]\n",
    "    else:\n",
    "        return None, 0\n",
    "\n",
    "result = df_filtered.groupby(\"Topics\")[\"Token Predictions Corrected\"].agg(lambda x: most_common_value([item for sublist in x for item in sublist])).reset_index()\n",
    "result"
   ]
  },
  {
   "cell_type": "code",
   "execution_count": 77,
   "metadata": {},
   "outputs": [],
   "source": [
    "result.to_csv('topics_ner.csv', index=False)"
   ]
  }
 ],
 "metadata": {
  "kernelspec": {
   "display_name": "tcc",
   "language": "python",
   "name": "python3"
  },
  "language_info": {
   "codemirror_mode": {
    "name": "ipython",
    "version": 3
   },
   "file_extension": ".py",
   "mimetype": "text/x-python",
   "name": "python",
   "nbconvert_exporter": "python",
   "pygments_lexer": "ipython3",
   "version": "3.9.18"
  }
 },
 "nbformat": 4,
 "nbformat_minor": 2
}
