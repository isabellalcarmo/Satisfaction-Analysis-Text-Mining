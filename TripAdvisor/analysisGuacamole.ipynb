{
 "cells": [
  {
   "cell_type": "markdown",
   "metadata": {},
   "source": [
    "# Análise de Tópicos"
   ]
  },
  {
   "cell_type": "markdown",
   "metadata": {},
   "source": [
    "#### Importação de Bibliotecas"
   ]
  },
  {
   "cell_type": "code",
   "execution_count": 1,
   "metadata": {},
   "outputs": [
    {
     "name": "stderr",
     "output_type": "stream",
     "text": [
      "[nltk_data] Downloading package stopwords to\n",
      "[nltk_data]     C:\\Users\\isabe\\AppData\\Roaming\\nltk_data...\n",
      "[nltk_data]   Package stopwords is already up-to-date!\n",
      "[nltk_data] Downloading package rslp to\n",
      "[nltk_data]     C:\\Users\\isabe\\AppData\\Roaming\\nltk_data...\n",
      "[nltk_data]   Package rslp is already up-to-date!\n"
     ]
    }
   ],
   "source": [
    "import pandas as pd\n",
    "import spacy\n",
    "from bertopic import BERTopic\n",
    "\n",
    "import re\n",
    "from datetime import datetime\n",
    "\n",
    "from gensim.utils import simple_preprocess\n",
    "\n",
    "import nltk\n",
    "nltk.download([\"stopwords\", \"rslp\"])\n",
    "stopwords = nltk.corpus.stopwords.words(\"portuguese\")\n",
    "\n",
    "import warnings\n",
    "warnings.filterwarnings(\"ignore\")"
   ]
  },
  {
   "cell_type": "markdown",
   "metadata": {},
   "source": [
    "#### Leitura do arquivo"
   ]
  },
  {
   "cell_type": "code",
   "execution_count": 2,
   "metadata": {},
   "outputs": [
    {
     "data": {
      "text/html": [
       "<div>\n",
       "<style scoped>\n",
       "    .dataframe tbody tr th:only-of-type {\n",
       "        vertical-align: middle;\n",
       "    }\n",
       "\n",
       "    .dataframe tbody tr th {\n",
       "        vertical-align: top;\n",
       "    }\n",
       "\n",
       "    .dataframe thead th {\n",
       "        text-align: right;\n",
       "    }\n",
       "</style>\n",
       "<table border=\"1\" class=\"dataframe\">\n",
       "  <thead>\n",
       "    <tr style=\"text-align: right;\">\n",
       "      <th></th>\n",
       "      <th>Date</th>\n",
       "      <th>Review</th>\n",
       "    </tr>\n",
       "  </thead>\n",
       "  <tbody>\n",
       "    <tr>\n",
       "      <th>0</th>\n",
       "      <td>4 de dezembro de 2023</td>\n",
       "      <td>Atendimento maravilhoso! Matheus foi muito ate...</td>\n",
       "    </tr>\n",
       "    <tr>\n",
       "      <th>1</th>\n",
       "      <td>2 de dezembro de 2023</td>\n",
       "      <td>Gostei muito dos pratos e do atendimento. Muit...</td>\n",
       "    </tr>\n",
       "    <tr>\n",
       "      <th>2</th>\n",
       "      <td>1 de dezembro de 2023</td>\n",
       "      <td>Eu amei, é a melhor cozinha mexicana que eu já...</td>\n",
       "    </tr>\n",
       "    <tr>\n",
       "      <th>3</th>\n",
       "      <td>29 de novembro de 2023</td>\n",
       "      <td>Ótimo ambiente e decoração, funcionários prest...</td>\n",
       "    </tr>\n",
       "    <tr>\n",
       "      <th>4</th>\n",
       "      <td>27 de novembro de 2023</td>\n",
       "      <td>Amomamos o atendimento do Matheus e do, tudo ó...</td>\n",
       "    </tr>\n",
       "  </tbody>\n",
       "</table>\n",
       "</div>"
      ],
      "text/plain": [
       "                     Date                                             Review\n",
       "0   4 de dezembro de 2023  Atendimento maravilhoso! Matheus foi muito ate...\n",
       "1   2 de dezembro de 2023  Gostei muito dos pratos e do atendimento. Muit...\n",
       "2   1 de dezembro de 2023  Eu amei, é a melhor cozinha mexicana que eu já...\n",
       "3  29 de novembro de 2023  Ótimo ambiente e decoração, funcionários prest...\n",
       "4  27 de novembro de 2023  Amomamos o atendimento do Matheus e do, tudo ó..."
      ]
     },
     "execution_count": 2,
     "metadata": {},
     "output_type": "execute_result"
    }
   ],
   "source": [
    "df_reviews = pd.read_csv(\"guacamole_reviews.csv\")\n",
    "df_reviews.head()"
   ]
  },
  {
   "cell_type": "code",
   "execution_count": 3,
   "metadata": {},
   "outputs": [],
   "source": [
    "df_comments = df_reviews[\"Review\"]\n",
    "df_dates = df_reviews[\"Date\"]"
   ]
  },
  {
   "cell_type": "markdown",
   "metadata": {},
   "source": [
    "#### Limpeza dos dados"
   ]
  },
  {
   "cell_type": "code",
   "execution_count": 4,
   "metadata": {},
   "outputs": [],
   "source": [
    "def remove_stopwords(text):\n",
    "    words = simple_preprocess(text)\n",
    "    phrase_adjusted = \" \".join([word for word in words if word not in stopwords])\n",
    "    return phrase_adjusted.lower()\n",
    "\n",
    "spacy_lemma = spacy.load(\"pt_core_news_sm\")\n",
    "\n",
    "def lemmatizer(text, postags_permit=['NOUN', 'ADJ', 'VERB', 'ADV']):\n",
    "    \"\"\"https://spacy.io/api/annotation\"\"\"\n",
    "    doc = spacy_lemma(text.lower())\n",
    "    doc_lemma = \" \".join([token.lemma_ for token in doc if token.pos_ in postags_permit])\n",
    "    return doc_lemma"
   ]
  },
  {
   "cell_type": "code",
   "execution_count": 5,
   "metadata": {},
   "outputs": [],
   "source": [
    "def parse_date(date_str):\n",
    "    months = {\n",
    "        'janeiro': 'January', 'fevereiro': 'February', 'março': 'March', 'abril': 'April',\n",
    "        'maio': 'May', 'junho': 'June', 'julho': 'July', 'agosto': 'August',\n",
    "        'setembro': 'September', 'outubro': 'October', 'novembro': 'November', 'dezembro': 'December'\n",
    "    }\n",
    "    match = re.match(r'(\\d+) de (\\w+) de (\\d+)', date_str)\n",
    "    if match:\n",
    "        day, month, year = match.groups()\n",
    "        month = months[month.lower()]\n",
    "        return datetime(int(year), list(months.values()).index(month) + 1, int(day)).strftime(\"%Y-%m-%d\")\n",
    "    else:\n",
    "        return None"
   ]
  },
  {
   "cell_type": "code",
   "execution_count": 6,
   "metadata": {},
   "outputs": [],
   "source": [
    "df_reviews[\"Review Lemma\"] = df_reviews[\"Review\"].map(remove_stopwords)\n",
    "df_reviews[\"Review Lemma\"] = df_reviews[\"Review\"].map(lemmatizer)"
   ]
  },
  {
   "cell_type": "code",
   "execution_count": 7,
   "metadata": {},
   "outputs": [],
   "source": [
    "df_reviews[\"Date Formatted\"] = df_reviews[\"Date\"].apply(parse_date)"
   ]
  },
  {
   "cell_type": "code",
   "execution_count": 8,
   "metadata": {},
   "outputs": [
    {
     "data": {
      "text/html": [
       "<div>\n",
       "<style scoped>\n",
       "    .dataframe tbody tr th:only-of-type {\n",
       "        vertical-align: middle;\n",
       "    }\n",
       "\n",
       "    .dataframe tbody tr th {\n",
       "        vertical-align: top;\n",
       "    }\n",
       "\n",
       "    .dataframe thead th {\n",
       "        text-align: right;\n",
       "    }\n",
       "</style>\n",
       "<table border=\"1\" class=\"dataframe\">\n",
       "  <thead>\n",
       "    <tr style=\"text-align: right;\">\n",
       "      <th></th>\n",
       "      <th>Date</th>\n",
       "      <th>Review</th>\n",
       "      <th>Review Lemma</th>\n",
       "      <th>Date Formatted</th>\n",
       "    </tr>\n",
       "  </thead>\n",
       "  <tbody>\n",
       "    <tr>\n",
       "      <th>0</th>\n",
       "      <td>4 de dezembro de 2023</td>\n",
       "      <td>Atendimento maravilhoso! Matheus foi muito ate...</td>\n",
       "      <td>atendimento maravilhoso matheu muito atencioso...</td>\n",
       "      <td>2023-12-04</td>\n",
       "    </tr>\n",
       "    <tr>\n",
       "      <th>1</th>\n",
       "      <td>2 de dezembro de 2023</td>\n",
       "      <td>Gostei muito dos pratos e do atendimento. Muit...</td>\n",
       "      <td>gostar muito prato atendimento solicito comida...</td>\n",
       "      <td>2023-12-02</td>\n",
       "    </tr>\n",
       "    <tr>\n",
       "      <th>2</th>\n",
       "      <td>1 de dezembro de 2023</td>\n",
       "      <td>Eu amei, é a melhor cozinha mexicana que eu já...</td>\n",
       "      <td>ameir bom cozinha mexicano já comi espaço muit...</td>\n",
       "      <td>2023-12-01</td>\n",
       "    </tr>\n",
       "    <tr>\n",
       "      <th>3</th>\n",
       "      <td>29 de novembro de 2023</td>\n",
       "      <td>Ótimo ambiente e decoração, funcionários prest...</td>\n",
       "      <td>bom ambiente decoração funcionário prestativo ...</td>\n",
       "      <td>2023-11-29</td>\n",
       "    </tr>\n",
       "    <tr>\n",
       "      <th>4</th>\n",
       "      <td>27 de novembro de 2023</td>\n",
       "      <td>Amomamos o atendimento do Matheus e do, tudo ó...</td>\n",
       "      <td>amoma atendimento matheu bom amar atendimento ...</td>\n",
       "      <td>2023-11-27</td>\n",
       "    </tr>\n",
       "  </tbody>\n",
       "</table>\n",
       "</div>"
      ],
      "text/plain": [
       "                     Date                                             Review  \\\n",
       "0   4 de dezembro de 2023  Atendimento maravilhoso! Matheus foi muito ate...   \n",
       "1   2 de dezembro de 2023  Gostei muito dos pratos e do atendimento. Muit...   \n",
       "2   1 de dezembro de 2023  Eu amei, é a melhor cozinha mexicana que eu já...   \n",
       "3  29 de novembro de 2023  Ótimo ambiente e decoração, funcionários prest...   \n",
       "4  27 de novembro de 2023  Amomamos o atendimento do Matheus e do, tudo ó...   \n",
       "\n",
       "                                        Review Lemma Date Formatted  \n",
       "0  atendimento maravilhoso matheu muito atencioso...     2023-12-04  \n",
       "1  gostar muito prato atendimento solicito comida...     2023-12-02  \n",
       "2  ameir bom cozinha mexicano já comi espaço muit...     2023-12-01  \n",
       "3  bom ambiente decoração funcionário prestativo ...     2023-11-29  \n",
       "4  amoma atendimento matheu bom amar atendimento ...     2023-11-27  "
      ]
     },
     "execution_count": 8,
     "metadata": {},
     "output_type": "execute_result"
    }
   ],
   "source": [
    "df_reviews.head()"
   ]
  },
  {
   "cell_type": "code",
   "execution_count": 9,
   "metadata": {},
   "outputs": [
    {
     "data": {
      "text/plain": [
       "['atendimento maravilhoso matheu muito atencioso colocar playlist atendente super simpatico',\n",
       " 'gostar muito prato atendimento solicito comida saboroso certeza voltar mais vez',\n",
       " 'ameir bom cozinha mexicano já comi espaço muito animar imersivo decoração casa linda atendimento excelente sempre',\n",
       " 'bom ambiente decoração funcionário prestativo comida boa música agradável divertido mariachi',\n",
       " 'amoma atendimento matheu bom amar atendimento sensacional comida muito saboroso']"
      ]
     },
     "execution_count": 9,
     "metadata": {},
     "output_type": "execute_result"
    }
   ],
   "source": [
    "df_comments = df_reviews[\"Review Lemma\"]\n",
    "doc_comments = df_comments.to_list()\n",
    "doc_comments[:5]"
   ]
  },
  {
   "cell_type": "markdown",
   "metadata": {},
   "source": [
    "#### BERTopic"
   ]
  },
  {
   "cell_type": "code",
   "execution_count": 10,
   "metadata": {},
   "outputs": [
    {
     "name": "stderr",
     "output_type": "stream",
     "text": [
      "2023-12-10 20:37:09,348 - BERTopic - Embedding - Transforming documents to embeddings.\n"
     ]
    },
    {
     "data": {
      "application/vnd.jupyter.widget-view+json": {
       "model_id": "8e2095b918484e3481c5e6a004cdcef7",
       "version_major": 2,
       "version_minor": 0
      },
      "text/plain": [
       "Batches:   0%|          | 0/90 [00:00<?, ?it/s]"
      ]
     },
     "metadata": {},
     "output_type": "display_data"
    },
    {
     "name": "stderr",
     "output_type": "stream",
     "text": [
      "2023-12-10 20:37:56,325 - BERTopic - Embedding - Completed ✓\n",
      "2023-12-10 20:37:56,326 - BERTopic - Dimensionality - Fitting the dimensionality reduction algorithm\n",
      "2023-12-10 20:38:13,355 - BERTopic - Dimensionality - Completed ✓\n",
      "2023-12-10 20:38:13,356 - BERTopic - Cluster - Start clustering the reduced embeddings\n",
      "2023-12-10 20:38:13,622 - BERTopic - Cluster - Completed ✓\n",
      "2023-12-10 20:38:13,634 - BERTopic - Representation - Extracting topics from clusters using representation models.\n",
      "2023-12-10 20:38:13,718 - BERTopic - Representation - Completed ✓\n"
     ]
    }
   ],
   "source": [
    "topic_model = BERTopic(language=\"portuguese\", calculate_probabilities=True, verbose=True)\n",
    "topics, probs = topic_model.fit_transform(doc_comments)"
   ]
  },
  {
   "cell_type": "code",
   "execution_count": 11,
   "metadata": {},
   "outputs": [
    {
     "data": {
      "text/html": [
       "<div>\n",
       "<style scoped>\n",
       "    .dataframe tbody tr th:only-of-type {\n",
       "        vertical-align: middle;\n",
       "    }\n",
       "\n",
       "    .dataframe tbody tr th {\n",
       "        vertical-align: top;\n",
       "    }\n",
       "\n",
       "    .dataframe thead th {\n",
       "        text-align: right;\n",
       "    }\n",
       "</style>\n",
       "<table border=\"1\" class=\"dataframe\">\n",
       "  <thead>\n",
       "    <tr style=\"text-align: right;\">\n",
       "      <th></th>\n",
       "      <th>Topic</th>\n",
       "      <th>Count</th>\n",
       "      <th>Name</th>\n",
       "      <th>Representation</th>\n",
       "      <th>Representative_Docs</th>\n",
       "    </tr>\n",
       "  </thead>\n",
       "  <tbody>\n",
       "    <tr>\n",
       "      <th>0</th>\n",
       "      <td>-1</td>\n",
       "      <td>548</td>\n",
       "      <td>-1_muito_bom_atendimento_comida</td>\n",
       "      <td>[muito, bom, atendimento, comida, lugar, bem, ...</td>\n",
       "      <td>[lugar muito bom agradável comida bom atendime...</td>\n",
       "    </tr>\n",
       "    <tr>\n",
       "      <th>1</th>\n",
       "      <td>0</td>\n",
       "      <td>733</td>\n",
       "      <td>0_mexicano_guacamole_restaurante_comida</td>\n",
       "      <td>[mexicano, guacamole, restaurante, comida, mai...</td>\n",
       "      <td>[comer ótimo preço bom atendimento maravilhoso...</td>\n",
       "    </tr>\n",
       "    <tr>\n",
       "      <th>2</th>\n",
       "      <td>1</td>\n",
       "      <td>349</td>\n",
       "      <td>1_música_bom_ambiente_muito</td>\n",
       "      <td>[música, bom, ambiente, muito, musica, atendim...</td>\n",
       "      <td>[atendimento excelente bom comida ambiente div...</td>\n",
       "    </tr>\n",
       "    <tr>\n",
       "      <th>3</th>\n",
       "      <td>2</td>\n",
       "      <td>243</td>\n",
       "      <td>2_aniversário_comemorar_amigo_muito</td>\n",
       "      <td>[aniversário, comemorar, amigo, muito, bom, lu...</td>\n",
       "      <td>[comida maravilhoso ambiente atendimento muito...</td>\n",
       "    </tr>\n",
       "    <tr>\n",
       "      <th>4</th>\n",
       "      <td>3</td>\n",
       "      <td>225</td>\n",
       "      <td>3_bebida_drink_cerveja_gelar</td>\n",
       "      <td>[bebida, drink, cerveja, gelar, bom, atendimen...</td>\n",
       "      <td>[muito animar bom atendimento cerveja gelar co...</td>\n",
       "    </tr>\n",
       "  </tbody>\n",
       "</table>\n",
       "</div>"
      ],
      "text/plain": [
       "   Topic  Count                                     Name  \\\n",
       "0     -1    548          -1_muito_bom_atendimento_comida   \n",
       "1      0    733  0_mexicano_guacamole_restaurante_comida   \n",
       "2      1    349              1_música_bom_ambiente_muito   \n",
       "3      2    243      2_aniversário_comemorar_amigo_muito   \n",
       "4      3    225             3_bebida_drink_cerveja_gelar   \n",
       "\n",
       "                                      Representation  \\\n",
       "0  [muito, bom, atendimento, comida, lugar, bem, ...   \n",
       "1  [mexicano, guacamole, restaurante, comida, mai...   \n",
       "2  [música, bom, ambiente, muito, musica, atendim...   \n",
       "3  [aniversário, comemorar, amigo, muito, bom, lu...   \n",
       "4  [bebida, drink, cerveja, gelar, bom, atendimen...   \n",
       "\n",
       "                                 Representative_Docs  \n",
       "0  [lugar muito bom agradável comida bom atendime...  \n",
       "1  [comer ótimo preço bom atendimento maravilhoso...  \n",
       "2  [atendimento excelente bom comida ambiente div...  \n",
       "3  [comida maravilhoso ambiente atendimento muito...  \n",
       "4  [muito animar bom atendimento cerveja gelar co...  "
      ]
     },
     "execution_count": 11,
     "metadata": {},
     "output_type": "execute_result"
    }
   ],
   "source": [
    "freq = topic_model.get_topic_info(); freq.head(5)"
   ]
  },
  {
   "cell_type": "code",
   "execution_count": 12,
   "metadata": {},
   "outputs": [
    {
     "data": {
      "text/plain": [
       "[('mexicano', 0.058143510908718825),\n",
       " ('guacamole', 0.032971805584659925),\n",
       " ('restaurante', 0.027563850260850974),\n",
       " ('comida', 0.02646064982583438),\n",
       " ('mais', 0.026437001495451),\n",
       " ('bom', 0.023370874521300326),\n",
       " ('ter', 0.021428453105078574),\n",
       " ('muito', 0.02122114175751319),\n",
       " ('bem', 0.01953918390774693),\n",
       " ('ambiente', 0.01866330275574135)]"
      ]
     },
     "execution_count": 12,
     "metadata": {},
     "output_type": "execute_result"
    }
   ],
   "source": [
    "topic_model.get_topic(0)"
   ]
  },
  {
   "cell_type": "markdown",
   "metadata": {},
   "source": [
    "#### Visualização dos tópicos"
   ]
  },
  {
   "cell_type": "code",
   "execution_count": 13,
   "metadata": {},
   "outputs": [
    {
     "data": {
      "application/vnd.plotly.v1+json": {
       "config": {
        "plotlyServerURL": "https://plot.ly"
       },
       "data": [
        {
         "marker": {
          "color": "#D55E00"
         },
         "orientation": "h",
         "type": "bar",
         "x": [
          0.026437001495451,
          0.02646064982583438,
          0.027563850260850974,
          0.032971805584659925,
          0.058143510908718825
         ],
         "xaxis": "x",
         "y": [
          "mais  ",
          "comida  ",
          "restaurante  ",
          "guacamole  ",
          "mexicano  "
         ],
         "yaxis": "y"
        },
        {
         "marker": {
          "color": "#0072B2"
         },
         "orientation": "h",
         "type": "bar",
         "x": [
          0.029658168164693896,
          0.030002124378294342,
          0.032054251337813776,
          0.03757690981732382,
          0.07243470433967261
         ],
         "xaxis": "x2",
         "y": [
          "musica  ",
          "muito  ",
          "ambiente  ",
          "bom  ",
          "música  "
         ],
         "yaxis": "y2"
        },
        {
         "marker": {
          "color": "#CC79A7"
         },
         "orientation": "h",
         "type": "bar",
         "x": [
          0.026125938778870064,
          0.02825373096385804,
          0.03383779932319788,
          0.07989271588022427,
          0.1011086120691689
         ],
         "xaxis": "x3",
         "y": [
          "bom  ",
          "muito  ",
          "amigo  ",
          "comemorar  ",
          "aniversário  "
         ],
         "yaxis": "y3"
        },
        {
         "marker": {
          "color": "#E69F00"
         },
         "orientation": "h",
         "type": "bar",
         "x": [
          0.03630659907312998,
          0.0386673603756771,
          0.04112938623286391,
          0.04636850563220825,
          0.060655725497764386
         ],
         "xaxis": "x4",
         "y": [
          "bom  ",
          "gelar  ",
          "cerveja  ",
          "drink  ",
          "bebida  "
         ],
         "yaxis": "y4"
        },
        {
         "marker": {
          "color": "#56B4E9"
         },
         "orientation": "h",
         "type": "bar",
         "x": [
          0.027083461611160316,
          0.029777429623683637,
          0.03330097534858981,
          0.03499823306793135,
          0.10259069748127071
         ],
         "xaxis": "x5",
         "y": [
          "recomendar  ",
          "atendimento  ",
          "muito  ",
          "bom  ",
          "restaurante  "
         ],
         "yaxis": "y5"
        },
        {
         "marker": {
          "color": "#009E73"
         },
         "orientation": "h",
         "type": "bar",
         "x": [
          0.027340474543489222,
          0.029032691981147878,
          0.03155276373772019,
          0.05090049234915135,
          0.11940442598953413
         ],
         "xaxis": "x6",
         "y": [
          "divertido  ",
          "muito  ",
          "margarita  ",
          "tequileiro  ",
          "tequila  "
         ],
         "yaxis": "y6"
        },
        {
         "marker": {
          "color": "#F0E442"
         },
         "orientation": "h",
         "type": "bar",
         "x": [
          0.03415393087625622,
          0.03484326998086429,
          0.04062288645594756,
          0.047496869632650394,
          0.05754691275161965
         ],
         "xaxis": "x7",
         "y": [
          "excelente  ",
          "funcionário  ",
          "atencioso  ",
          "muito  ",
          "atendimento  "
         ],
         "yaxis": "y7"
        },
        {
         "marker": {
          "color": "#D55E00"
         },
         "orientation": "h",
         "type": "bar",
         "x": [
          0.04148902445604206,
          0.0448584119269268,
          0.04512512496233869,
          0.06304555235488948,
          0.0661737839728966
         ],
         "xaxis": "x8",
         "y": [
          "comer  ",
          "ambiente  ",
          "comida  ",
          "atendimento  ",
          "bom  "
         ],
         "yaxis": "y8"
        },
        {
         "marker": {
          "color": "#0072B2"
         },
         "orientation": "h",
         "type": "bar",
         "x": [
          0.04274953398269437,
          0.04313329994287081,
          0.04645203198899353,
          0.05297874772414325,
          0.06405564670577066
         ],
         "xaxis": "x9",
         "y": [
          "incrível  ",
          "aqui  ",
          "vir  ",
          "experiência  ",
          "lugar  "
         ],
         "yaxis": "y9"
        },
        {
         "marker": {
          "color": "#CC79A7"
         },
         "orientation": "h",
         "type": "bar",
         "x": [
          0.03328028158861703,
          0.03520863417137193,
          0.036036308774768176,
          0.05358412371855924,
          0.061888304591875394
         ],
         "xaxis": "x10",
         "y": [
          "contagiante  ",
          "culinária  ",
          "funcionário  ",
          "ambiente  ",
          "comida  "
         ],
         "yaxis": "y10"
        },
        {
         "marker": {
          "color": "#E69F00"
         },
         "orientation": "h",
         "type": "bar",
         "x": [
          0.0390268591457655,
          0.04005943731844177,
          0.05113513885831277,
          0.11510981256126264,
          0.14498272086457856
         ],
         "xaxis": "x11",
         "y": [
          "digital  ",
          "facilitar  ",
          "sistema  ",
          "pedido  ",
          "tablet  "
         ],
         "yaxis": "y11"
        },
        {
         "marker": {
          "color": "#56B4E9"
         },
         "orientation": "h",
         "type": "bar",
         "x": [
          0.04233912125684247,
          0.042527854994582955,
          0.047803739017383565,
          0.049109970048545414,
          0.049814340100363785
         ],
         "xaxis": "x12",
         "y": [
          "minuto  ",
          "chegar  ",
          "não  ",
          "fila  ",
          "mais  "
         ],
         "yaxis": "y12"
        },
        {
         "marker": {
          "color": "#009E73"
         },
         "orientation": "h",
         "type": "bar",
         "x": [
          0.028448332574953217,
          0.030469735526957198,
          0.032734778249377566,
          0.03323324966149667,
          0.03491319903931004
         ],
         "xaxis": "x13",
         "y": [
          "atendimento  ",
          "ameir  ",
          "mal  ",
          "amigo  ",
          "local  "
         ],
         "yaxis": "y13"
        },
        {
         "marker": {
          "color": "#F0E442"
         },
         "orientation": "h",
         "type": "bar",
         "x": [
          0.06099792404562957,
          0.061799933439932425,
          0.06837352264961985,
          0.09966764775612644,
          0.1181806780645418
         ],
         "xaxis": "x14",
         "y": [
          "familiar  ",
          "ir  ",
          "lugar  ",
          "família  ",
          "amigo  "
         ],
         "yaxis": "y14"
        },
        {
         "marker": {
          "color": "#D55E00"
         },
         "orientation": "h",
         "type": "bar",
         "x": [
          0.05658374108523405,
          0.057196561767782636,
          0.06929626117535839,
          0.0704570536254119,
          0.07278239112222873
         ],
         "xaxis": "x15",
         "y": [
          "bom  ",
          "comer  ",
          "amigo  ",
          "reunir  ",
          "divertido  "
         ],
         "yaxis": "y15"
        },
        {
         "marker": {
          "color": "#0072B2"
         },
         "orientation": "h",
         "type": "bar",
         "x": [
          0.04978158699294055,
          0.053662128706452844,
          0.06520625100911431,
          0.08393481466278754,
          0.11577210267064376
         ],
         "xaxis": "x16",
         "y": [
          "amigo  ",
          "atendimento  ",
          "ambiente  ",
          "familiar  ",
          "família  "
         ],
         "yaxis": "y16"
        },
        {
         "marker": {
          "color": "#CC79A7"
         },
         "orientation": "h",
         "type": "bar",
         "x": [
          0.038994122986917776,
          0.039123240543990336,
          0.04027915325497395,
          0.05635379809916545,
          0.061374167229503535
         ],
         "xaxis": "x17",
         "y": [
          "bem  ",
          "animar  ",
          "mais  ",
          "mariachi  ",
          "restaurante  "
         ],
         "yaxis": "y17"
        },
        {
         "marker": {
          "color": "#E69F00"
         },
         "orientation": "h",
         "type": "bar",
         "x": [
          0.04556396044720605,
          0.04651512803009179,
          0.06404218818301163,
          0.09459044900379304,
          0.12691909482952538
         ],
         "xaxis": "x18",
         "y": [
          "delicioso  ",
          "voltaremos  ",
          "voltar  ",
          "certeza  ",
          "voltarei  "
         ],
         "yaxis": "y18"
        },
        {
         "marker": {
          "color": "#56B4E9"
         },
         "orientation": "h",
         "type": "bar",
         "x": [
          0.03424354594466612,
          0.036340815968629765,
          0.0365422737438378,
          0.04475673317235264,
          0.12855382247947425
         ],
         "xaxis": "x19",
         "y": [
          "decoraçãor  ",
          "muito  ",
          "lugar  ",
          "lindo  ",
          "mariachi  "
         ],
         "yaxis": "y19"
        },
        {
         "marker": {
          "color": "#009E73"
         },
         "orientation": "h",
         "type": "bar",
         "x": [
          0.059371931714740984,
          0.06295731311016298,
          0.089729774086041,
          0.09249993737581567,
          0.1363300488595651
         ],
         "xaxis": "x20",
         "y": [
          "comemorar  ",
          "boa  ",
          "amigo  ",
          "lugar  ",
          "comemoração  "
         ],
         "yaxis": "y20"
        }
       ],
       "layout": {
        "annotations": [
         {
          "font": {
           "size": 16
          },
          "showarrow": false,
          "text": "Topic 0",
          "x": 0.0875,
          "xanchor": "center",
          "xref": "paper",
          "y": 0.9999999999999999,
          "yanchor": "bottom",
          "yref": "paper"
         },
         {
          "font": {
           "size": 16
          },
          "showarrow": false,
          "text": "Topic 1",
          "x": 0.36250000000000004,
          "xanchor": "center",
          "xref": "paper",
          "y": 0.9999999999999999,
          "yanchor": "bottom",
          "yref": "paper"
         },
         {
          "font": {
           "size": 16
          },
          "showarrow": false,
          "text": "Topic 2",
          "x": 0.6375000000000001,
          "xanchor": "center",
          "xref": "paper",
          "y": 0.9999999999999999,
          "yanchor": "bottom",
          "yref": "paper"
         },
         {
          "font": {
           "size": 16
          },
          "showarrow": false,
          "text": "Topic 3",
          "x": 0.9125,
          "xanchor": "center",
          "xref": "paper",
          "y": 0.9999999999999999,
          "yanchor": "bottom",
          "yref": "paper"
         },
         {
          "font": {
           "size": 16
          },
          "showarrow": false,
          "text": "Topic 4",
          "x": 0.0875,
          "xanchor": "center",
          "xref": "paper",
          "y": 0.7839999999999999,
          "yanchor": "bottom",
          "yref": "paper"
         },
         {
          "font": {
           "size": 16
          },
          "showarrow": false,
          "text": "Topic 5",
          "x": 0.36250000000000004,
          "xanchor": "center",
          "xref": "paper",
          "y": 0.7839999999999999,
          "yanchor": "bottom",
          "yref": "paper"
         },
         {
          "font": {
           "size": 16
          },
          "showarrow": false,
          "text": "Topic 6",
          "x": 0.6375000000000001,
          "xanchor": "center",
          "xref": "paper",
          "y": 0.7839999999999999,
          "yanchor": "bottom",
          "yref": "paper"
         },
         {
          "font": {
           "size": 16
          },
          "showarrow": false,
          "text": "Topic 7",
          "x": 0.9125,
          "xanchor": "center",
          "xref": "paper",
          "y": 0.7839999999999999,
          "yanchor": "bottom",
          "yref": "paper"
         },
         {
          "font": {
           "size": 16
          },
          "showarrow": false,
          "text": "Topic 8",
          "x": 0.0875,
          "xanchor": "center",
          "xref": "paper",
          "y": 0.568,
          "yanchor": "bottom",
          "yref": "paper"
         },
         {
          "font": {
           "size": 16
          },
          "showarrow": false,
          "text": "Topic 9",
          "x": 0.36250000000000004,
          "xanchor": "center",
          "xref": "paper",
          "y": 0.568,
          "yanchor": "bottom",
          "yref": "paper"
         },
         {
          "font": {
           "size": 16
          },
          "showarrow": false,
          "text": "Topic 10",
          "x": 0.6375000000000001,
          "xanchor": "center",
          "xref": "paper",
          "y": 0.568,
          "yanchor": "bottom",
          "yref": "paper"
         },
         {
          "font": {
           "size": 16
          },
          "showarrow": false,
          "text": "Topic 11",
          "x": 0.9125,
          "xanchor": "center",
          "xref": "paper",
          "y": 0.568,
          "yanchor": "bottom",
          "yref": "paper"
         },
         {
          "font": {
           "size": 16
          },
          "showarrow": false,
          "text": "Topic 12",
          "x": 0.0875,
          "xanchor": "center",
          "xref": "paper",
          "y": 0.352,
          "yanchor": "bottom",
          "yref": "paper"
         },
         {
          "font": {
           "size": 16
          },
          "showarrow": false,
          "text": "Topic 13",
          "x": 0.36250000000000004,
          "xanchor": "center",
          "xref": "paper",
          "y": 0.352,
          "yanchor": "bottom",
          "yref": "paper"
         },
         {
          "font": {
           "size": 16
          },
          "showarrow": false,
          "text": "Topic 14",
          "x": 0.6375000000000001,
          "xanchor": "center",
          "xref": "paper",
          "y": 0.352,
          "yanchor": "bottom",
          "yref": "paper"
         },
         {
          "font": {
           "size": 16
          },
          "showarrow": false,
          "text": "Topic 15",
          "x": 0.9125,
          "xanchor": "center",
          "xref": "paper",
          "y": 0.352,
          "yanchor": "bottom",
          "yref": "paper"
         },
         {
          "font": {
           "size": 16
          },
          "showarrow": false,
          "text": "Topic 16",
          "x": 0.0875,
          "xanchor": "center",
          "xref": "paper",
          "y": 0.13599999999999998,
          "yanchor": "bottom",
          "yref": "paper"
         },
         {
          "font": {
           "size": 16
          },
          "showarrow": false,
          "text": "Topic 17",
          "x": 0.36250000000000004,
          "xanchor": "center",
          "xref": "paper",
          "y": 0.13599999999999998,
          "yanchor": "bottom",
          "yref": "paper"
         },
         {
          "font": {
           "size": 16
          },
          "showarrow": false,
          "text": "Topic 18",
          "x": 0.6375000000000001,
          "xanchor": "center",
          "xref": "paper",
          "y": 0.13599999999999998,
          "yanchor": "bottom",
          "yref": "paper"
         },
         {
          "font": {
           "size": 16
          },
          "showarrow": false,
          "text": "Topic 19",
          "x": 0.9125,
          "xanchor": "center",
          "xref": "paper",
          "y": 0.13599999999999998,
          "yanchor": "bottom",
          "yref": "paper"
         }
        ],
        "height": 1250,
        "hoverlabel": {
         "bgcolor": "white",
         "font": {
          "family": "Rockwell",
          "size": 16
         }
        },
        "showlegend": false,
        "template": {
         "data": {
          "bar": [
           {
            "error_x": {
             "color": "#2a3f5f"
            },
            "error_y": {
             "color": "#2a3f5f"
            },
            "marker": {
             "line": {
              "color": "white",
              "width": 0.5
             },
             "pattern": {
              "fillmode": "overlay",
              "size": 10,
              "solidity": 0.2
             }
            },
            "type": "bar"
           }
          ],
          "barpolar": [
           {
            "marker": {
             "line": {
              "color": "white",
              "width": 0.5
             },
             "pattern": {
              "fillmode": "overlay",
              "size": 10,
              "solidity": 0.2
             }
            },
            "type": "barpolar"
           }
          ],
          "carpet": [
           {
            "aaxis": {
             "endlinecolor": "#2a3f5f",
             "gridcolor": "#C8D4E3",
             "linecolor": "#C8D4E3",
             "minorgridcolor": "#C8D4E3",
             "startlinecolor": "#2a3f5f"
            },
            "baxis": {
             "endlinecolor": "#2a3f5f",
             "gridcolor": "#C8D4E3",
             "linecolor": "#C8D4E3",
             "minorgridcolor": "#C8D4E3",
             "startlinecolor": "#2a3f5f"
            },
            "type": "carpet"
           }
          ],
          "choropleth": [
           {
            "colorbar": {
             "outlinewidth": 0,
             "ticks": ""
            },
            "type": "choropleth"
           }
          ],
          "contour": [
           {
            "colorbar": {
             "outlinewidth": 0,
             "ticks": ""
            },
            "colorscale": [
             [
              0,
              "#0d0887"
             ],
             [
              0.1111111111111111,
              "#46039f"
             ],
             [
              0.2222222222222222,
              "#7201a8"
             ],
             [
              0.3333333333333333,
              "#9c179e"
             ],
             [
              0.4444444444444444,
              "#bd3786"
             ],
             [
              0.5555555555555556,
              "#d8576b"
             ],
             [
              0.6666666666666666,
              "#ed7953"
             ],
             [
              0.7777777777777778,
              "#fb9f3a"
             ],
             [
              0.8888888888888888,
              "#fdca26"
             ],
             [
              1,
              "#f0f921"
             ]
            ],
            "type": "contour"
           }
          ],
          "contourcarpet": [
           {
            "colorbar": {
             "outlinewidth": 0,
             "ticks": ""
            },
            "type": "contourcarpet"
           }
          ],
          "heatmap": [
           {
            "colorbar": {
             "outlinewidth": 0,
             "ticks": ""
            },
            "colorscale": [
             [
              0,
              "#0d0887"
             ],
             [
              0.1111111111111111,
              "#46039f"
             ],
             [
              0.2222222222222222,
              "#7201a8"
             ],
             [
              0.3333333333333333,
              "#9c179e"
             ],
             [
              0.4444444444444444,
              "#bd3786"
             ],
             [
              0.5555555555555556,
              "#d8576b"
             ],
             [
              0.6666666666666666,
              "#ed7953"
             ],
             [
              0.7777777777777778,
              "#fb9f3a"
             ],
             [
              0.8888888888888888,
              "#fdca26"
             ],
             [
              1,
              "#f0f921"
             ]
            ],
            "type": "heatmap"
           }
          ],
          "heatmapgl": [
           {
            "colorbar": {
             "outlinewidth": 0,
             "ticks": ""
            },
            "colorscale": [
             [
              0,
              "#0d0887"
             ],
             [
              0.1111111111111111,
              "#46039f"
             ],
             [
              0.2222222222222222,
              "#7201a8"
             ],
             [
              0.3333333333333333,
              "#9c179e"
             ],
             [
              0.4444444444444444,
              "#bd3786"
             ],
             [
              0.5555555555555556,
              "#d8576b"
             ],
             [
              0.6666666666666666,
              "#ed7953"
             ],
             [
              0.7777777777777778,
              "#fb9f3a"
             ],
             [
              0.8888888888888888,
              "#fdca26"
             ],
             [
              1,
              "#f0f921"
             ]
            ],
            "type": "heatmapgl"
           }
          ],
          "histogram": [
           {
            "marker": {
             "pattern": {
              "fillmode": "overlay",
              "size": 10,
              "solidity": 0.2
             }
            },
            "type": "histogram"
           }
          ],
          "histogram2d": [
           {
            "colorbar": {
             "outlinewidth": 0,
             "ticks": ""
            },
            "colorscale": [
             [
              0,
              "#0d0887"
             ],
             [
              0.1111111111111111,
              "#46039f"
             ],
             [
              0.2222222222222222,
              "#7201a8"
             ],
             [
              0.3333333333333333,
              "#9c179e"
             ],
             [
              0.4444444444444444,
              "#bd3786"
             ],
             [
              0.5555555555555556,
              "#d8576b"
             ],
             [
              0.6666666666666666,
              "#ed7953"
             ],
             [
              0.7777777777777778,
              "#fb9f3a"
             ],
             [
              0.8888888888888888,
              "#fdca26"
             ],
             [
              1,
              "#f0f921"
             ]
            ],
            "type": "histogram2d"
           }
          ],
          "histogram2dcontour": [
           {
            "colorbar": {
             "outlinewidth": 0,
             "ticks": ""
            },
            "colorscale": [
             [
              0,
              "#0d0887"
             ],
             [
              0.1111111111111111,
              "#46039f"
             ],
             [
              0.2222222222222222,
              "#7201a8"
             ],
             [
              0.3333333333333333,
              "#9c179e"
             ],
             [
              0.4444444444444444,
              "#bd3786"
             ],
             [
              0.5555555555555556,
              "#d8576b"
             ],
             [
              0.6666666666666666,
              "#ed7953"
             ],
             [
              0.7777777777777778,
              "#fb9f3a"
             ],
             [
              0.8888888888888888,
              "#fdca26"
             ],
             [
              1,
              "#f0f921"
             ]
            ],
            "type": "histogram2dcontour"
           }
          ],
          "mesh3d": [
           {
            "colorbar": {
             "outlinewidth": 0,
             "ticks": ""
            },
            "type": "mesh3d"
           }
          ],
          "parcoords": [
           {
            "line": {
             "colorbar": {
              "outlinewidth": 0,
              "ticks": ""
             }
            },
            "type": "parcoords"
           }
          ],
          "pie": [
           {
            "automargin": true,
            "type": "pie"
           }
          ],
          "scatter": [
           {
            "fillpattern": {
             "fillmode": "overlay",
             "size": 10,
             "solidity": 0.2
            },
            "type": "scatter"
           }
          ],
          "scatter3d": [
           {
            "line": {
             "colorbar": {
              "outlinewidth": 0,
              "ticks": ""
             }
            },
            "marker": {
             "colorbar": {
              "outlinewidth": 0,
              "ticks": ""
             }
            },
            "type": "scatter3d"
           }
          ],
          "scattercarpet": [
           {
            "marker": {
             "colorbar": {
              "outlinewidth": 0,
              "ticks": ""
             }
            },
            "type": "scattercarpet"
           }
          ],
          "scattergeo": [
           {
            "marker": {
             "colorbar": {
              "outlinewidth": 0,
              "ticks": ""
             }
            },
            "type": "scattergeo"
           }
          ],
          "scattergl": [
           {
            "marker": {
             "colorbar": {
              "outlinewidth": 0,
              "ticks": ""
             }
            },
            "type": "scattergl"
           }
          ],
          "scattermapbox": [
           {
            "marker": {
             "colorbar": {
              "outlinewidth": 0,
              "ticks": ""
             }
            },
            "type": "scattermapbox"
           }
          ],
          "scatterpolar": [
           {
            "marker": {
             "colorbar": {
              "outlinewidth": 0,
              "ticks": ""
             }
            },
            "type": "scatterpolar"
           }
          ],
          "scatterpolargl": [
           {
            "marker": {
             "colorbar": {
              "outlinewidth": 0,
              "ticks": ""
             }
            },
            "type": "scatterpolargl"
           }
          ],
          "scatterternary": [
           {
            "marker": {
             "colorbar": {
              "outlinewidth": 0,
              "ticks": ""
             }
            },
            "type": "scatterternary"
           }
          ],
          "surface": [
           {
            "colorbar": {
             "outlinewidth": 0,
             "ticks": ""
            },
            "colorscale": [
             [
              0,
              "#0d0887"
             ],
             [
              0.1111111111111111,
              "#46039f"
             ],
             [
              0.2222222222222222,
              "#7201a8"
             ],
             [
              0.3333333333333333,
              "#9c179e"
             ],
             [
              0.4444444444444444,
              "#bd3786"
             ],
             [
              0.5555555555555556,
              "#d8576b"
             ],
             [
              0.6666666666666666,
              "#ed7953"
             ],
             [
              0.7777777777777778,
              "#fb9f3a"
             ],
             [
              0.8888888888888888,
              "#fdca26"
             ],
             [
              1,
              "#f0f921"
             ]
            ],
            "type": "surface"
           }
          ],
          "table": [
           {
            "cells": {
             "fill": {
              "color": "#EBF0F8"
             },
             "line": {
              "color": "white"
             }
            },
            "header": {
             "fill": {
              "color": "#C8D4E3"
             },
             "line": {
              "color": "white"
             }
            },
            "type": "table"
           }
          ]
         },
         "layout": {
          "annotationdefaults": {
           "arrowcolor": "#2a3f5f",
           "arrowhead": 0,
           "arrowwidth": 1
          },
          "autotypenumbers": "strict",
          "coloraxis": {
           "colorbar": {
            "outlinewidth": 0,
            "ticks": ""
           }
          },
          "colorscale": {
           "diverging": [
            [
             0,
             "#8e0152"
            ],
            [
             0.1,
             "#c51b7d"
            ],
            [
             0.2,
             "#de77ae"
            ],
            [
             0.3,
             "#f1b6da"
            ],
            [
             0.4,
             "#fde0ef"
            ],
            [
             0.5,
             "#f7f7f7"
            ],
            [
             0.6,
             "#e6f5d0"
            ],
            [
             0.7,
             "#b8e186"
            ],
            [
             0.8,
             "#7fbc41"
            ],
            [
             0.9,
             "#4d9221"
            ],
            [
             1,
             "#276419"
            ]
           ],
           "sequential": [
            [
             0,
             "#0d0887"
            ],
            [
             0.1111111111111111,
             "#46039f"
            ],
            [
             0.2222222222222222,
             "#7201a8"
            ],
            [
             0.3333333333333333,
             "#9c179e"
            ],
            [
             0.4444444444444444,
             "#bd3786"
            ],
            [
             0.5555555555555556,
             "#d8576b"
            ],
            [
             0.6666666666666666,
             "#ed7953"
            ],
            [
             0.7777777777777778,
             "#fb9f3a"
            ],
            [
             0.8888888888888888,
             "#fdca26"
            ],
            [
             1,
             "#f0f921"
            ]
           ],
           "sequentialminus": [
            [
             0,
             "#0d0887"
            ],
            [
             0.1111111111111111,
             "#46039f"
            ],
            [
             0.2222222222222222,
             "#7201a8"
            ],
            [
             0.3333333333333333,
             "#9c179e"
            ],
            [
             0.4444444444444444,
             "#bd3786"
            ],
            [
             0.5555555555555556,
             "#d8576b"
            ],
            [
             0.6666666666666666,
             "#ed7953"
            ],
            [
             0.7777777777777778,
             "#fb9f3a"
            ],
            [
             0.8888888888888888,
             "#fdca26"
            ],
            [
             1,
             "#f0f921"
            ]
           ]
          },
          "colorway": [
           "#636efa",
           "#EF553B",
           "#00cc96",
           "#ab63fa",
           "#FFA15A",
           "#19d3f3",
           "#FF6692",
           "#B6E880",
           "#FF97FF",
           "#FECB52"
          ],
          "font": {
           "color": "#2a3f5f"
          },
          "geo": {
           "bgcolor": "white",
           "lakecolor": "white",
           "landcolor": "white",
           "showlakes": true,
           "showland": true,
           "subunitcolor": "#C8D4E3"
          },
          "hoverlabel": {
           "align": "left"
          },
          "hovermode": "closest",
          "mapbox": {
           "style": "light"
          },
          "paper_bgcolor": "white",
          "plot_bgcolor": "white",
          "polar": {
           "angularaxis": {
            "gridcolor": "#EBF0F8",
            "linecolor": "#EBF0F8",
            "ticks": ""
           },
           "bgcolor": "white",
           "radialaxis": {
            "gridcolor": "#EBF0F8",
            "linecolor": "#EBF0F8",
            "ticks": ""
           }
          },
          "scene": {
           "xaxis": {
            "backgroundcolor": "white",
            "gridcolor": "#DFE8F3",
            "gridwidth": 2,
            "linecolor": "#EBF0F8",
            "showbackground": true,
            "ticks": "",
            "zerolinecolor": "#EBF0F8"
           },
           "yaxis": {
            "backgroundcolor": "white",
            "gridcolor": "#DFE8F3",
            "gridwidth": 2,
            "linecolor": "#EBF0F8",
            "showbackground": true,
            "ticks": "",
            "zerolinecolor": "#EBF0F8"
           },
           "zaxis": {
            "backgroundcolor": "white",
            "gridcolor": "#DFE8F3",
            "gridwidth": 2,
            "linecolor": "#EBF0F8",
            "showbackground": true,
            "ticks": "",
            "zerolinecolor": "#EBF0F8"
           }
          },
          "shapedefaults": {
           "line": {
            "color": "#2a3f5f"
           }
          },
          "ternary": {
           "aaxis": {
            "gridcolor": "#DFE8F3",
            "linecolor": "#A2B1C6",
            "ticks": ""
           },
           "baxis": {
            "gridcolor": "#DFE8F3",
            "linecolor": "#A2B1C6",
            "ticks": ""
           },
           "bgcolor": "white",
           "caxis": {
            "gridcolor": "#DFE8F3",
            "linecolor": "#A2B1C6",
            "ticks": ""
           }
          },
          "title": {
           "x": 0.05
          },
          "xaxis": {
           "automargin": true,
           "gridcolor": "#EBF0F8",
           "linecolor": "#EBF0F8",
           "ticks": "",
           "title": {
            "standoff": 15
           },
           "zerolinecolor": "#EBF0F8",
           "zerolinewidth": 2
          },
          "yaxis": {
           "automargin": true,
           "gridcolor": "#EBF0F8",
           "linecolor": "#EBF0F8",
           "ticks": "",
           "title": {
            "standoff": 15
           },
           "zerolinecolor": "#EBF0F8",
           "zerolinewidth": 2
          }
         }
        },
        "title": {
         "font": {
          "color": "Black",
          "size": 22
         },
         "text": "Topic Word Scores",
         "x": 0.5,
         "xanchor": "center",
         "yanchor": "top"
        },
        "width": 1000,
        "xaxis": {
         "anchor": "y",
         "domain": [
          0,
          0.175
         ],
         "showgrid": true
        },
        "xaxis10": {
         "anchor": "y10",
         "domain": [
          0.275,
          0.45
         ],
         "showgrid": true
        },
        "xaxis11": {
         "anchor": "y11",
         "domain": [
          0.55,
          0.7250000000000001
         ],
         "showgrid": true
        },
        "xaxis12": {
         "anchor": "y12",
         "domain": [
          0.825,
          1
         ],
         "showgrid": true
        },
        "xaxis13": {
         "anchor": "y13",
         "domain": [
          0,
          0.175
         ],
         "showgrid": true
        },
        "xaxis14": {
         "anchor": "y14",
         "domain": [
          0.275,
          0.45
         ],
         "showgrid": true
        },
        "xaxis15": {
         "anchor": "y15",
         "domain": [
          0.55,
          0.7250000000000001
         ],
         "showgrid": true
        },
        "xaxis16": {
         "anchor": "y16",
         "domain": [
          0.825,
          1
         ],
         "showgrid": true
        },
        "xaxis17": {
         "anchor": "y17",
         "domain": [
          0,
          0.175
         ],
         "showgrid": true
        },
        "xaxis18": {
         "anchor": "y18",
         "domain": [
          0.275,
          0.45
         ],
         "showgrid": true
        },
        "xaxis19": {
         "anchor": "y19",
         "domain": [
          0.55,
          0.7250000000000001
         ],
         "showgrid": true
        },
        "xaxis2": {
         "anchor": "y2",
         "domain": [
          0.275,
          0.45
         ],
         "showgrid": true
        },
        "xaxis20": {
         "anchor": "y20",
         "domain": [
          0.825,
          1
         ],
         "showgrid": true
        },
        "xaxis3": {
         "anchor": "y3",
         "domain": [
          0.55,
          0.7250000000000001
         ],
         "showgrid": true
        },
        "xaxis4": {
         "anchor": "y4",
         "domain": [
          0.825,
          1
         ],
         "showgrid": true
        },
        "xaxis5": {
         "anchor": "y5",
         "domain": [
          0,
          0.175
         ],
         "showgrid": true
        },
        "xaxis6": {
         "anchor": "y6",
         "domain": [
          0.275,
          0.45
         ],
         "showgrid": true
        },
        "xaxis7": {
         "anchor": "y7",
         "domain": [
          0.55,
          0.7250000000000001
         ],
         "showgrid": true
        },
        "xaxis8": {
         "anchor": "y8",
         "domain": [
          0.825,
          1
         ],
         "showgrid": true
        },
        "xaxis9": {
         "anchor": "y9",
         "domain": [
          0,
          0.175
         ],
         "showgrid": true
        },
        "yaxis": {
         "anchor": "x",
         "domain": [
          0.8639999999999999,
          0.9999999999999999
         ],
         "showgrid": true
        },
        "yaxis10": {
         "anchor": "x10",
         "domain": [
          0.43199999999999994,
          0.568
         ],
         "showgrid": true
        },
        "yaxis11": {
         "anchor": "x11",
         "domain": [
          0.43199999999999994,
          0.568
         ],
         "showgrid": true
        },
        "yaxis12": {
         "anchor": "x12",
         "domain": [
          0.43199999999999994,
          0.568
         ],
         "showgrid": true
        },
        "yaxis13": {
         "anchor": "x13",
         "domain": [
          0.21599999999999997,
          0.352
         ],
         "showgrid": true
        },
        "yaxis14": {
         "anchor": "x14",
         "domain": [
          0.21599999999999997,
          0.352
         ],
         "showgrid": true
        },
        "yaxis15": {
         "anchor": "x15",
         "domain": [
          0.21599999999999997,
          0.352
         ],
         "showgrid": true
        },
        "yaxis16": {
         "anchor": "x16",
         "domain": [
          0.21599999999999997,
          0.352
         ],
         "showgrid": true
        },
        "yaxis17": {
         "anchor": "x17",
         "domain": [
          0,
          0.13599999999999998
         ],
         "showgrid": true
        },
        "yaxis18": {
         "anchor": "x18",
         "domain": [
          0,
          0.13599999999999998
         ],
         "showgrid": true
        },
        "yaxis19": {
         "anchor": "x19",
         "domain": [
          0,
          0.13599999999999998
         ],
         "showgrid": true
        },
        "yaxis2": {
         "anchor": "x2",
         "domain": [
          0.8639999999999999,
          0.9999999999999999
         ],
         "showgrid": true
        },
        "yaxis20": {
         "anchor": "x20",
         "domain": [
          0,
          0.13599999999999998
         ],
         "showgrid": true
        },
        "yaxis3": {
         "anchor": "x3",
         "domain": [
          0.8639999999999999,
          0.9999999999999999
         ],
         "showgrid": true
        },
        "yaxis4": {
         "anchor": "x4",
         "domain": [
          0.8639999999999999,
          0.9999999999999999
         ],
         "showgrid": true
        },
        "yaxis5": {
         "anchor": "x5",
         "domain": [
          0.6479999999999999,
          0.7839999999999999
         ],
         "showgrid": true
        },
        "yaxis6": {
         "anchor": "x6",
         "domain": [
          0.6479999999999999,
          0.7839999999999999
         ],
         "showgrid": true
        },
        "yaxis7": {
         "anchor": "x7",
         "domain": [
          0.6479999999999999,
          0.7839999999999999
         ],
         "showgrid": true
        },
        "yaxis8": {
         "anchor": "x8",
         "domain": [
          0.6479999999999999,
          0.7839999999999999
         ],
         "showgrid": true
        },
        "yaxis9": {
         "anchor": "x9",
         "domain": [
          0.43199999999999994,
          0.568
         ],
         "showgrid": true
        }
       }
      }
     },
     "metadata": {},
     "output_type": "display_data"
    }
   ],
   "source": [
    "topic_model.visualize_barchart(top_n_topics=20)"
   ]
  },
  {
   "cell_type": "code",
   "execution_count": 14,
   "metadata": {},
   "outputs": [
    {
     "data": {
      "application/vnd.plotly.v1+json": {
       "config": {
        "plotlyServerURL": "https://plot.ly"
       },
       "data": [
        {
         "hoverinfo": "text",
         "marker": {
          "color": "rgb(61,153,112)"
         },
         "mode": "lines",
         "type": "scatter",
         "x": [
          0,
          0.6631654750738216,
          0.6631654750738216,
          0
         ],
         "xaxis": "x",
         "y": [
          -15,
          -15,
          -25,
          -25
         ],
         "yaxis": "y"
        },
        {
         "hoverinfo": "text",
         "marker": {
          "color": "rgb(61,153,112)"
         },
         "mode": "lines",
         "type": "scatter",
         "x": [
          0.6631654750738216,
          0.7679533154630126,
          0.7679533154630126,
          0
         ],
         "xaxis": "x",
         "y": [
          -20,
          -20,
          -35,
          -35
         ],
         "yaxis": "y"
        },
        {
         "hoverinfo": "text",
         "marker": {
          "color": "rgb(61,153,112)"
         },
         "mode": "lines",
         "type": "scatter",
         "x": [
          0,
          0.9051245056912127,
          0.9051245056912127,
          0.7679533154630126
         ],
         "xaxis": "x",
         "y": [
          -5,
          -5,
          -27.5,
          -27.5
         ],
         "yaxis": "y"
        },
        {
         "hoverinfo": "text",
         "marker": {
          "color": "rgb(255,65,54)"
         },
         "mode": "lines",
         "type": "scatter",
         "x": [
          0,
          0.6230180441875881,
          0.6230180441875881,
          0
         ],
         "xaxis": "x",
         "y": [
          -55,
          -55,
          -65,
          -65
         ],
         "yaxis": "y"
        },
        {
         "hoverinfo": "text",
         "marker": {
          "color": "rgb(255,65,54)"
         },
         "mode": "lines",
         "type": "scatter",
         "x": [
          0,
          0.48851767703638294,
          0.48851767703638294,
          0
         ],
         "xaxis": "x",
         "y": [
          -95,
          -95,
          -105,
          -105
         ],
         "yaxis": "y"
        },
        {
         "hoverinfo": "text",
         "marker": {
          "color": "rgb(255,65,54)"
         },
         "mode": "lines",
         "type": "scatter",
         "x": [
          0,
          0.5314099506992641,
          0.5314099506992641,
          0.48851767703638294
         ],
         "xaxis": "x",
         "y": [
          -85,
          -85,
          -100,
          -100
         ],
         "yaxis": "y"
        },
        {
         "hoverinfo": "text",
         "marker": {
          "color": "rgb(255,65,54)"
         },
         "mode": "lines",
         "type": "scatter",
         "x": [
          0,
          0.32657319607564983,
          0.32657319607564983,
          0
         ],
         "xaxis": "x",
         "y": [
          -125,
          -125,
          -135,
          -135
         ],
         "yaxis": "y"
        },
        {
         "hoverinfo": "text",
         "marker": {
          "color": "rgb(255,65,54)"
         },
         "mode": "lines",
         "type": "scatter",
         "x": [
          0.32657319607564983,
          0.4168469805480845,
          0.4168469805480845,
          0
         ],
         "xaxis": "x",
         "y": [
          -130,
          -130,
          -145,
          -145
         ],
         "yaxis": "y"
        },
        {
         "hoverinfo": "text",
         "marker": {
          "color": "rgb(255,65,54)"
         },
         "mode": "lines",
         "type": "scatter",
         "x": [
          0,
          0.4261699146750274,
          0.4261699146750274,
          0.4168469805480845
         ],
         "xaxis": "x",
         "y": [
          -115,
          -115,
          -137.5,
          -137.5
         ],
         "yaxis": "y"
        },
        {
         "hoverinfo": "text",
         "marker": {
          "color": "rgb(255,65,54)"
         },
         "mode": "lines",
         "type": "scatter",
         "x": [
          0.4261699146750274,
          0.6027140270272239,
          0.6027140270272239,
          0
         ],
         "xaxis": "x",
         "y": [
          -126.25,
          -126.25,
          -155,
          -155
         ],
         "yaxis": "y"
        },
        {
         "hoverinfo": "text",
         "marker": {
          "color": "rgb(255,65,54)"
         },
         "mode": "lines",
         "type": "scatter",
         "x": [
          0.5314099506992641,
          0.6771239482785844,
          0.6771239482785844,
          0.6027140270272239
         ],
         "xaxis": "x",
         "y": [
          -92.5,
          -92.5,
          -140.625,
          -140.625
         ],
         "yaxis": "y"
        },
        {
         "hoverinfo": "text",
         "marker": {
          "color": "rgb(255,65,54)"
         },
         "mode": "lines",
         "type": "scatter",
         "x": [
          0,
          0.7171851858297214,
          0.7171851858297214,
          0.6771239482785844
         ],
         "xaxis": "x",
         "y": [
          -75,
          -75,
          -116.5625,
          -116.5625
         ],
         "yaxis": "y"
        },
        {
         "hoverinfo": "text",
         "marker": {
          "color": "rgb(255,65,54)"
         },
         "mode": "lines",
         "type": "scatter",
         "x": [
          0.7171851858297214,
          0.7759787924990174,
          0.7759787924990174,
          0
         ],
         "xaxis": "x",
         "y": [
          -95.78125,
          -95.78125,
          -165,
          -165
         ],
         "yaxis": "y"
        },
        {
         "hoverinfo": "text",
         "marker": {
          "color": "rgb(255,65,54)"
         },
         "mode": "lines",
         "type": "scatter",
         "x": [
          0.6230180441875881,
          0.8466491155802276,
          0.8466491155802276,
          0.7759787924990174
         ],
         "xaxis": "x",
         "y": [
          -60,
          -60,
          -130.390625,
          -130.390625
         ],
         "yaxis": "y"
        },
        {
         "hoverinfo": "text",
         "marker": {
          "color": "rgb(255,65,54)"
         },
         "mode": "lines",
         "type": "scatter",
         "x": [
          0,
          0.8752561812346683,
          0.8752561812346683,
          0.8466491155802276
         ],
         "xaxis": "x",
         "y": [
          -45,
          -45,
          -95.1953125,
          -95.1953125
         ],
         "yaxis": "y"
        },
        {
         "hoverinfo": "text",
         "marker": {
          "color": "rgb(255,65,54)"
         },
         "mode": "lines",
         "type": "scatter",
         "x": [
          0,
          0.5483060016886089,
          0.5483060016886089,
          0
         ],
         "xaxis": "x",
         "y": [
          -195,
          -195,
          -205,
          -205
         ],
         "yaxis": "y"
        },
        {
         "hoverinfo": "text",
         "marker": {
          "color": "rgb(255,65,54)"
         },
         "mode": "lines",
         "type": "scatter",
         "x": [
          0,
          0.5914153490823362,
          0.5914153490823362,
          0.5483060016886089
         ],
         "xaxis": "x",
         "y": [
          -185,
          -185,
          -200,
          -200
         ],
         "yaxis": "y"
        },
        {
         "hoverinfo": "text",
         "marker": {
          "color": "rgb(255,65,54)"
         },
         "mode": "lines",
         "type": "scatter",
         "x": [
          0,
          0.6757445743079981,
          0.6757445743079981,
          0.5914153490823362
         ],
         "xaxis": "x",
         "y": [
          -175,
          -175,
          -192.5,
          -192.5
         ],
         "yaxis": "y"
        },
        {
         "hoverinfo": "text",
         "marker": {
          "color": "rgb(255,65,54)"
         },
         "mode": "lines",
         "type": "scatter",
         "x": [
          0,
          0.49423320515129476,
          0.49423320515129476,
          0
         ],
         "xaxis": "x",
         "y": [
          -215,
          -215,
          -225,
          -225
         ],
         "yaxis": "y"
        },
        {
         "hoverinfo": "text",
         "marker": {
          "color": "rgb(255,65,54)"
         },
         "mode": "lines",
         "type": "scatter",
         "x": [
          0.6757445743079981,
          0.7300995124780214,
          0.7300995124780214,
          0.49423320515129476
         ],
         "xaxis": "x",
         "y": [
          -183.75,
          -183.75,
          -220,
          -220
         ],
         "yaxis": "y"
        },
        {
         "hoverinfo": "text",
         "marker": {
          "color": "rgb(255,65,54)"
         },
         "mode": "lines",
         "type": "scatter",
         "x": [
          0.7300995124780214,
          0.8125121216353937,
          0.8125121216353937,
          0
         ],
         "xaxis": "x",
         "y": [
          -201.875,
          -201.875,
          -235,
          -235
         ],
         "yaxis": "y"
        },
        {
         "hoverinfo": "text",
         "marker": {
          "color": "rgb(255,65,54)"
         },
         "mode": "lines",
         "type": "scatter",
         "x": [
          0.8752561812346683,
          0.9525532612565282,
          0.9525532612565282,
          0.8125121216353937
         ],
         "xaxis": "x",
         "y": [
          -70.09765625,
          -70.09765625,
          -218.4375,
          -218.4375
         ],
         "yaxis": "y"
        },
        {
         "hoverinfo": "text",
         "marker": {
          "color": "rgb(0,116,217)"
         },
         "mode": "lines",
         "type": "scatter",
         "x": [
          0.9051245056912127,
          1.1960986954178883,
          1.1960986954178883,
          0.9525532612565282
         ],
         "xaxis": "x",
         "y": [
          -16.25,
          -16.25,
          -144.267578125,
          -144.267578125
         ],
         "yaxis": "y"
        }
       ],
       "layout": {
        "autosize": false,
        "height": 560,
        "hoverlabel": {
         "bgcolor": "white",
         "font": {
          "family": "Rockwell",
          "size": 16
         }
        },
        "hovermode": "closest",
        "plot_bgcolor": "#ECEFF1",
        "showlegend": false,
        "template": {
         "data": {
          "bar": [
           {
            "error_x": {
             "color": "#2a3f5f"
            },
            "error_y": {
             "color": "#2a3f5f"
            },
            "marker": {
             "line": {
              "color": "white",
              "width": 0.5
             },
             "pattern": {
              "fillmode": "overlay",
              "size": 10,
              "solidity": 0.2
             }
            },
            "type": "bar"
           }
          ],
          "barpolar": [
           {
            "marker": {
             "line": {
              "color": "white",
              "width": 0.5
             },
             "pattern": {
              "fillmode": "overlay",
              "size": 10,
              "solidity": 0.2
             }
            },
            "type": "barpolar"
           }
          ],
          "carpet": [
           {
            "aaxis": {
             "endlinecolor": "#2a3f5f",
             "gridcolor": "#C8D4E3",
             "linecolor": "#C8D4E3",
             "minorgridcolor": "#C8D4E3",
             "startlinecolor": "#2a3f5f"
            },
            "baxis": {
             "endlinecolor": "#2a3f5f",
             "gridcolor": "#C8D4E3",
             "linecolor": "#C8D4E3",
             "minorgridcolor": "#C8D4E3",
             "startlinecolor": "#2a3f5f"
            },
            "type": "carpet"
           }
          ],
          "choropleth": [
           {
            "colorbar": {
             "outlinewidth": 0,
             "ticks": ""
            },
            "type": "choropleth"
           }
          ],
          "contour": [
           {
            "colorbar": {
             "outlinewidth": 0,
             "ticks": ""
            },
            "colorscale": [
             [
              0,
              "#0d0887"
             ],
             [
              0.1111111111111111,
              "#46039f"
             ],
             [
              0.2222222222222222,
              "#7201a8"
             ],
             [
              0.3333333333333333,
              "#9c179e"
             ],
             [
              0.4444444444444444,
              "#bd3786"
             ],
             [
              0.5555555555555556,
              "#d8576b"
             ],
             [
              0.6666666666666666,
              "#ed7953"
             ],
             [
              0.7777777777777778,
              "#fb9f3a"
             ],
             [
              0.8888888888888888,
              "#fdca26"
             ],
             [
              1,
              "#f0f921"
             ]
            ],
            "type": "contour"
           }
          ],
          "contourcarpet": [
           {
            "colorbar": {
             "outlinewidth": 0,
             "ticks": ""
            },
            "type": "contourcarpet"
           }
          ],
          "heatmap": [
           {
            "colorbar": {
             "outlinewidth": 0,
             "ticks": ""
            },
            "colorscale": [
             [
              0,
              "#0d0887"
             ],
             [
              0.1111111111111111,
              "#46039f"
             ],
             [
              0.2222222222222222,
              "#7201a8"
             ],
             [
              0.3333333333333333,
              "#9c179e"
             ],
             [
              0.4444444444444444,
              "#bd3786"
             ],
             [
              0.5555555555555556,
              "#d8576b"
             ],
             [
              0.6666666666666666,
              "#ed7953"
             ],
             [
              0.7777777777777778,
              "#fb9f3a"
             ],
             [
              0.8888888888888888,
              "#fdca26"
             ],
             [
              1,
              "#f0f921"
             ]
            ],
            "type": "heatmap"
           }
          ],
          "heatmapgl": [
           {
            "colorbar": {
             "outlinewidth": 0,
             "ticks": ""
            },
            "colorscale": [
             [
              0,
              "#0d0887"
             ],
             [
              0.1111111111111111,
              "#46039f"
             ],
             [
              0.2222222222222222,
              "#7201a8"
             ],
             [
              0.3333333333333333,
              "#9c179e"
             ],
             [
              0.4444444444444444,
              "#bd3786"
             ],
             [
              0.5555555555555556,
              "#d8576b"
             ],
             [
              0.6666666666666666,
              "#ed7953"
             ],
             [
              0.7777777777777778,
              "#fb9f3a"
             ],
             [
              0.8888888888888888,
              "#fdca26"
             ],
             [
              1,
              "#f0f921"
             ]
            ],
            "type": "heatmapgl"
           }
          ],
          "histogram": [
           {
            "marker": {
             "pattern": {
              "fillmode": "overlay",
              "size": 10,
              "solidity": 0.2
             }
            },
            "type": "histogram"
           }
          ],
          "histogram2d": [
           {
            "colorbar": {
             "outlinewidth": 0,
             "ticks": ""
            },
            "colorscale": [
             [
              0,
              "#0d0887"
             ],
             [
              0.1111111111111111,
              "#46039f"
             ],
             [
              0.2222222222222222,
              "#7201a8"
             ],
             [
              0.3333333333333333,
              "#9c179e"
             ],
             [
              0.4444444444444444,
              "#bd3786"
             ],
             [
              0.5555555555555556,
              "#d8576b"
             ],
             [
              0.6666666666666666,
              "#ed7953"
             ],
             [
              0.7777777777777778,
              "#fb9f3a"
             ],
             [
              0.8888888888888888,
              "#fdca26"
             ],
             [
              1,
              "#f0f921"
             ]
            ],
            "type": "histogram2d"
           }
          ],
          "histogram2dcontour": [
           {
            "colorbar": {
             "outlinewidth": 0,
             "ticks": ""
            },
            "colorscale": [
             [
              0,
              "#0d0887"
             ],
             [
              0.1111111111111111,
              "#46039f"
             ],
             [
              0.2222222222222222,
              "#7201a8"
             ],
             [
              0.3333333333333333,
              "#9c179e"
             ],
             [
              0.4444444444444444,
              "#bd3786"
             ],
             [
              0.5555555555555556,
              "#d8576b"
             ],
             [
              0.6666666666666666,
              "#ed7953"
             ],
             [
              0.7777777777777778,
              "#fb9f3a"
             ],
             [
              0.8888888888888888,
              "#fdca26"
             ],
             [
              1,
              "#f0f921"
             ]
            ],
            "type": "histogram2dcontour"
           }
          ],
          "mesh3d": [
           {
            "colorbar": {
             "outlinewidth": 0,
             "ticks": ""
            },
            "type": "mesh3d"
           }
          ],
          "parcoords": [
           {
            "line": {
             "colorbar": {
              "outlinewidth": 0,
              "ticks": ""
             }
            },
            "type": "parcoords"
           }
          ],
          "pie": [
           {
            "automargin": true,
            "type": "pie"
           }
          ],
          "scatter": [
           {
            "fillpattern": {
             "fillmode": "overlay",
             "size": 10,
             "solidity": 0.2
            },
            "type": "scatter"
           }
          ],
          "scatter3d": [
           {
            "line": {
             "colorbar": {
              "outlinewidth": 0,
              "ticks": ""
             }
            },
            "marker": {
             "colorbar": {
              "outlinewidth": 0,
              "ticks": ""
             }
            },
            "type": "scatter3d"
           }
          ],
          "scattercarpet": [
           {
            "marker": {
             "colorbar": {
              "outlinewidth": 0,
              "ticks": ""
             }
            },
            "type": "scattercarpet"
           }
          ],
          "scattergeo": [
           {
            "marker": {
             "colorbar": {
              "outlinewidth": 0,
              "ticks": ""
             }
            },
            "type": "scattergeo"
           }
          ],
          "scattergl": [
           {
            "marker": {
             "colorbar": {
              "outlinewidth": 0,
              "ticks": ""
             }
            },
            "type": "scattergl"
           }
          ],
          "scattermapbox": [
           {
            "marker": {
             "colorbar": {
              "outlinewidth": 0,
              "ticks": ""
             }
            },
            "type": "scattermapbox"
           }
          ],
          "scatterpolar": [
           {
            "marker": {
             "colorbar": {
              "outlinewidth": 0,
              "ticks": ""
             }
            },
            "type": "scatterpolar"
           }
          ],
          "scatterpolargl": [
           {
            "marker": {
             "colorbar": {
              "outlinewidth": 0,
              "ticks": ""
             }
            },
            "type": "scatterpolargl"
           }
          ],
          "scatterternary": [
           {
            "marker": {
             "colorbar": {
              "outlinewidth": 0,
              "ticks": ""
             }
            },
            "type": "scatterternary"
           }
          ],
          "surface": [
           {
            "colorbar": {
             "outlinewidth": 0,
             "ticks": ""
            },
            "colorscale": [
             [
              0,
              "#0d0887"
             ],
             [
              0.1111111111111111,
              "#46039f"
             ],
             [
              0.2222222222222222,
              "#7201a8"
             ],
             [
              0.3333333333333333,
              "#9c179e"
             ],
             [
              0.4444444444444444,
              "#bd3786"
             ],
             [
              0.5555555555555556,
              "#d8576b"
             ],
             [
              0.6666666666666666,
              "#ed7953"
             ],
             [
              0.7777777777777778,
              "#fb9f3a"
             ],
             [
              0.8888888888888888,
              "#fdca26"
             ],
             [
              1,
              "#f0f921"
             ]
            ],
            "type": "surface"
           }
          ],
          "table": [
           {
            "cells": {
             "fill": {
              "color": "#EBF0F8"
             },
             "line": {
              "color": "white"
             }
            },
            "header": {
             "fill": {
              "color": "#C8D4E3"
             },
             "line": {
              "color": "white"
             }
            },
            "type": "table"
           }
          ]
         },
         "layout": {
          "annotationdefaults": {
           "arrowcolor": "#2a3f5f",
           "arrowhead": 0,
           "arrowwidth": 1
          },
          "autotypenumbers": "strict",
          "coloraxis": {
           "colorbar": {
            "outlinewidth": 0,
            "ticks": ""
           }
          },
          "colorscale": {
           "diverging": [
            [
             0,
             "#8e0152"
            ],
            [
             0.1,
             "#c51b7d"
            ],
            [
             0.2,
             "#de77ae"
            ],
            [
             0.3,
             "#f1b6da"
            ],
            [
             0.4,
             "#fde0ef"
            ],
            [
             0.5,
             "#f7f7f7"
            ],
            [
             0.6,
             "#e6f5d0"
            ],
            [
             0.7,
             "#b8e186"
            ],
            [
             0.8,
             "#7fbc41"
            ],
            [
             0.9,
             "#4d9221"
            ],
            [
             1,
             "#276419"
            ]
           ],
           "sequential": [
            [
             0,
             "#0d0887"
            ],
            [
             0.1111111111111111,
             "#46039f"
            ],
            [
             0.2222222222222222,
             "#7201a8"
            ],
            [
             0.3333333333333333,
             "#9c179e"
            ],
            [
             0.4444444444444444,
             "#bd3786"
            ],
            [
             0.5555555555555556,
             "#d8576b"
            ],
            [
             0.6666666666666666,
             "#ed7953"
            ],
            [
             0.7777777777777778,
             "#fb9f3a"
            ],
            [
             0.8888888888888888,
             "#fdca26"
            ],
            [
             1,
             "#f0f921"
            ]
           ],
           "sequentialminus": [
            [
             0,
             "#0d0887"
            ],
            [
             0.1111111111111111,
             "#46039f"
            ],
            [
             0.2222222222222222,
             "#7201a8"
            ],
            [
             0.3333333333333333,
             "#9c179e"
            ],
            [
             0.4444444444444444,
             "#bd3786"
            ],
            [
             0.5555555555555556,
             "#d8576b"
            ],
            [
             0.6666666666666666,
             "#ed7953"
            ],
            [
             0.7777777777777778,
             "#fb9f3a"
            ],
            [
             0.8888888888888888,
             "#fdca26"
            ],
            [
             1,
             "#f0f921"
            ]
           ]
          },
          "colorway": [
           "#636efa",
           "#EF553B",
           "#00cc96",
           "#ab63fa",
           "#FFA15A",
           "#19d3f3",
           "#FF6692",
           "#B6E880",
           "#FF97FF",
           "#FECB52"
          ],
          "font": {
           "color": "#2a3f5f"
          },
          "geo": {
           "bgcolor": "white",
           "lakecolor": "white",
           "landcolor": "white",
           "showlakes": true,
           "showland": true,
           "subunitcolor": "#C8D4E3"
          },
          "hoverlabel": {
           "align": "left"
          },
          "hovermode": "closest",
          "mapbox": {
           "style": "light"
          },
          "paper_bgcolor": "white",
          "plot_bgcolor": "white",
          "polar": {
           "angularaxis": {
            "gridcolor": "#EBF0F8",
            "linecolor": "#EBF0F8",
            "ticks": ""
           },
           "bgcolor": "white",
           "radialaxis": {
            "gridcolor": "#EBF0F8",
            "linecolor": "#EBF0F8",
            "ticks": ""
           }
          },
          "scene": {
           "xaxis": {
            "backgroundcolor": "white",
            "gridcolor": "#DFE8F3",
            "gridwidth": 2,
            "linecolor": "#EBF0F8",
            "showbackground": true,
            "ticks": "",
            "zerolinecolor": "#EBF0F8"
           },
           "yaxis": {
            "backgroundcolor": "white",
            "gridcolor": "#DFE8F3",
            "gridwidth": 2,
            "linecolor": "#EBF0F8",
            "showbackground": true,
            "ticks": "",
            "zerolinecolor": "#EBF0F8"
           },
           "zaxis": {
            "backgroundcolor": "white",
            "gridcolor": "#DFE8F3",
            "gridwidth": 2,
            "linecolor": "#EBF0F8",
            "showbackground": true,
            "ticks": "",
            "zerolinecolor": "#EBF0F8"
           }
          },
          "shapedefaults": {
           "line": {
            "color": "#2a3f5f"
           }
          },
          "ternary": {
           "aaxis": {
            "gridcolor": "#DFE8F3",
            "linecolor": "#A2B1C6",
            "ticks": ""
           },
           "baxis": {
            "gridcolor": "#DFE8F3",
            "linecolor": "#A2B1C6",
            "ticks": ""
           },
           "bgcolor": "white",
           "caxis": {
            "gridcolor": "#DFE8F3",
            "linecolor": "#A2B1C6",
            "ticks": ""
           }
          },
          "title": {
           "x": 0.05
          },
          "xaxis": {
           "automargin": true,
           "gridcolor": "#EBF0F8",
           "linecolor": "#EBF0F8",
           "ticks": "",
           "title": {
            "standoff": 15
           },
           "zerolinecolor": "#EBF0F8",
           "zerolinewidth": 2
          },
          "yaxis": {
           "automargin": true,
           "gridcolor": "#EBF0F8",
           "linecolor": "#EBF0F8",
           "ticks": "",
           "title": {
            "standoff": 15
           },
           "zerolinecolor": "#EBF0F8",
           "zerolinewidth": 2
          }
         }
        },
        "title": {
         "font": {
          "color": "Black",
          "size": 22
         },
         "text": "<b>Hierarchical Clustering</b>",
         "x": 0.5,
         "xanchor": "center",
         "yanchor": "top"
        },
        "width": 1000,
        "xaxis": {
         "mirror": "allticks",
         "rangemode": "tozero",
         "showgrid": false,
         "showline": true,
         "showticklabels": true,
         "ticks": "outside",
         "type": "linear",
         "zeroline": false
        },
        "yaxis": {
         "mirror": "allticks",
         "range": [
          -240,
          0
         ],
         "rangemode": "tozero",
         "showgrid": false,
         "showline": true,
         "showticklabels": true,
         "tickmode": "array",
         "ticks": "outside",
         "ticktext": [
          "21_burrito_taco_nacho",
          "20_restaurante_estiver_rodí...",
          "11_mais_fila_não",
          "10_tablet_pedido_sistema",
          "23_equipe_estabelecimento_m...",
          "18_mariachi_lindo_lugar",
          "16_restaurante_mariachi_mais",
          "17_voltarei_certeza_voltar",
          "9_comida_ambiente_funcionário",
          "6_atendimento_muito_atencioso",
          "7_bom_atendimento_comida",
          "4_restaurante_bom_muito",
          "0_mexicano_guacamole_restau...",
          "1_música_bom_ambiente",
          "3_bebida_drink_cerveja",
          "5_tequila_tequileiro_margar...",
          "12_local_amigo_mal",
          "8_lugar_experiência_vir",
          "14_divertido_reunir_amigo",
          "19_comemoração_lugar_amigo",
          "2_aniversário_comemorar_amigo",
          "13_amigo_família_lugar",
          "15_família_familiar_ambiente",
          "22_casa_muito_decorar"
         ],
         "tickvals": [
          -5,
          -15,
          -25,
          -35,
          -45,
          -55,
          -65,
          -75,
          -85,
          -95,
          -105,
          -115,
          -125,
          -135,
          -145,
          -155,
          -165,
          -175,
          -185,
          -195,
          -205,
          -215,
          -225,
          -235
         ],
         "type": "linear",
         "zeroline": false
        }
       }
      }
     },
     "metadata": {},
     "output_type": "display_data"
    }
   ],
   "source": [
    "topic_model.visualize_hierarchy()"
   ]
  },
  {
   "cell_type": "code",
   "execution_count": 15,
   "metadata": {},
   "outputs": [],
   "source": [
    "dates_reviews = df_reviews[\"Date Formatted\"].to_list()"
   ]
  },
  {
   "cell_type": "code",
   "execution_count": 16,
   "metadata": {},
   "outputs": [
    {
     "name": "stderr",
     "output_type": "stream",
     "text": [
      "20it [00:00, 53.16it/s]\n"
     ]
    }
   ],
   "source": [
    "topics_over_time = topic_model.topics_over_time(doc_comments, dates_reviews, datetime_format=\"%Y-%m-%d\", nr_bins=20)"
   ]
  },
  {
   "cell_type": "code",
   "execution_count": 17,
   "metadata": {},
   "outputs": [
    {
     "data": {
      "application/vnd.plotly.v1+json": {
       "config": {
        "plotlyServerURL": "https://plot.ly"
       },
       "data": [
        {
         "hoverinfo": "text",
         "hovertext": [
          "<b>Topic 0</b><br>Words: mexicano, restaurante, tocar, não, pecer",
          "<b>Topic 0</b><br>Words: mexicano, mais, restaurante, guacamole, já",
          "<b>Topic 0</b><br>Words: mexicano, restaurante, mais, guacamole, mariachi",
          "<b>Topic 0</b><br>Words: mexicano, comida, mais, guacamole, excelente",
          "<b>Topic 0</b><br>Words: mexicano, mais, restaurante, guacamole, comida",
          "<b>Topic 0</b><br>Words: mexicano, mais, guacamole, comida, restaurante",
          "<b>Topic 0</b><br>Words: mexicano, restaurante, mais, comida, bom",
          "<b>Topic 0</b><br>Words: mexicano, guacamole, restaurante, mais, comida",
          "<b>Topic 0</b><br>Words: mexicano, restaurante, comida, por, música",
          "<b>Topic 0</b><br>Words: mexicano, mais, guacamole, restaurante, ter",
          "<b>Topic 0</b><br>Words: mexicano, guacamole, restaurante, mais, comida",
          "<b>Topic 0</b><br>Words: mexicano, guacamole, comida, bom, restaurante",
          "<b>Topic 0</b><br>Words: mexicano, guacamole, comida, restaurante, bom",
          "<b>Topic 0</b><br>Words: mexicano, guacamole, bom, restaurante, comida",
          "<b>Topic 0</b><br>Words: mexicano, restaurante, comida, guacamole, mais",
          "<b>Topic 0</b><br>Words: mexicano, guacamole, maria, experiência, rio",
          "<b>Topic 0</b><br>Words: mexicano, guacamole, restaurante, bom, mariachi",
          "<b>Topic 0</b><br>Words: mexicano, guacamole, experiência, bem, atendimento",
          "<b>Topic 0</b><br>Words: mexicano, guacamole, bom, comida, restaurante",
          "<b>Topic 0</b><br>Words: mexicano, sabor, bem, cozinha, maravilhoso"
         ],
         "marker": {
          "color": "#E69F00"
         },
         "mode": "lines",
         "name": "0_mexicano_guacamole_restaurante_comida",
         "type": "scatter",
         "x": [
          "2012-08-20T21:10:04.800000",
          "2013-03-18T21:36:00",
          "2013-10-10T19:12:00",
          "2014-05-04T16:48:00",
          "2014-11-26T14:24:00",
          "2015-06-20T12:00:00",
          "2016-01-12T09:36:00",
          "2016-08-05T07:12:00",
          "2017-02-27T04:48:00",
          "2017-09-21T02:24:00",
          "2018-04-15T00:00:00",
          "2018-11-06T21:36:00",
          "2019-05-31T19:12:00",
          "2019-12-23T16:48:00",
          "2020-07-16T14:24:00",
          "2021-02-07T12:00:00",
          "2021-09-01T09:36:00",
          "2022-03-26T07:12:00",
          "2022-10-18T04:48:00",
          "2023-05-12T02:24:00"
         ],
         "y": [
          6,
          15,
          25,
          21,
          48,
          58,
          55,
          36,
          15,
          34,
          26,
          150,
          106,
          43,
          17,
          10,
          21,
          16,
          21,
          10
         ]
        },
        {
         "hoverinfo": "text",
         "hovertext": [
          "<b>Topic 1</b><br>Words: alcançar, música, publico, jovem, país",
          "<b>Topic 1</b><br>Words: musica, mesa, tequileiro, conseguir, hombr",
          "<b>Topic 1</b><br>Words: música, bom, vivo, muito, amigo",
          "<b>Topic 1</b><br>Words: música, restaurabte, performance, estiver, mariacho",
          "<b>Topic 1</b><br>Words: música, músico, local, animar, segundo",
          "<b>Topic 1</b><br>Words: música, musica, animar, cantor, muito",
          "<b>Topic 1</b><br>Words: música, trazir, músico, maravilhoso, bem",
          "<b>Topic 1</b><br>Words: música, bom, animar, despacito, atribuição",
          "<b>Topic 1</b><br>Words: música, ambiente, bom, animar, mesa",
          "<b>Topic 1</b><br>Words: música, ambiente, vasto, nota, musica",
          "<b>Topic 1</b><br>Words: música, bom, musica, ambiente, muito",
          "<b>Topic 1</b><br>Words: música, bom, ambiente, atendimento, agradável",
          "<b>Topic 1</b><br>Words: música, bom, vivo, muito, músico",
          "<b>Topic 1</b><br>Words: admirado, destrair, rotina, rsrs, música",
          "<b>Topic 1</b><br>Words: ambientemo, educadaaaaa, música, ameir, rolar",
          "<b>Topic 1</b><br>Words: música, conhecer, atendimento, bem, comida",
          "<b>Topic 1</b><br>Words: música, comer, muito, atencioso, bom",
          "<b>Topic 1</b><br>Words: música, atendimento, musica, vivo, bom",
          "<b>Topic 1</b><br>Words: música, ambiente, maravilhoso, muito, bom"
         ],
         "marker": {
          "color": "#56B4E9"
         },
         "mode": "lines",
         "name": "1_música_bom_ambiente_muito",
         "type": "scatter",
         "x": [
          "2013-03-18T21:36:00",
          "2013-10-10T19:12:00",
          "2014-05-04T16:48:00",
          "2014-11-26T14:24:00",
          "2015-06-20T12:00:00",
          "2016-01-12T09:36:00",
          "2016-08-05T07:12:00",
          "2017-02-27T04:48:00",
          "2017-09-21T02:24:00",
          "2018-04-15T00:00:00",
          "2018-11-06T21:36:00",
          "2019-05-31T19:12:00",
          "2019-12-23T16:48:00",
          "2020-07-16T14:24:00",
          "2021-02-07T12:00:00",
          "2021-09-01T09:36:00",
          "2022-03-26T07:12:00",
          "2022-10-18T04:48:00",
          "2023-05-12T02:24:00"
         ],
         "y": [
          3,
          3,
          8,
          4,
          6,
          15,
          8,
          6,
          17,
          11,
          98,
          80,
          26,
          2,
          5,
          9,
          16,
          14,
          18
         ]
        },
        {
         "hoverinfo": "text",
         "hovertext": [
          "<b>Topic 2</b><br>Words: tequilero, acompanhar, cardapio, aniversario, variado",
          "<b>Topic 2</b><br>Words: aniversário, comemorar, finalização, março, mariacho",
          "<b>Topic 2</b><br>Words: aniversário, comemorar, aniversariante, chegar, reserva",
          "<b>Topic 2</b><br>Words: aniversário, comemorar, muito, pimenta, super",
          "<b>Topic 2</b><br>Words: aniversário, comemorar, mais, data, amigo",
          "<b>Topic 2</b><br>Words: aniversário, comemorar, lá, muito, amigo",
          "<b>Topic 2</b><br>Words: comemorar, aniversário, comemoração, reaponder, brindar",
          "<b>Topic 2</b><br>Words: aniversário, comemorar, amiga, conta, porém",
          "<b>Topic 2</b><br>Words: aniversário, comemorar, amigo, ontem, criança",
          "<b>Topic 2</b><br>Words: aniversário, comemorar, comemoração, aniversario, fazer",
          "<b>Topic 2</b><br>Words: aniversário, comemorar, amigo, muito, bom",
          "<b>Topic 2</b><br>Words: aniversário, comemorar, amigo, bom, lugar",
          "<b>Topic 2</b><br>Words: aniversário, comemorar, amiga, amigo, niver",
          "<b>Topic 2</b><br>Words: aniversário, comemorar, amniente, chave, irmã",
          "<b>Topic 2</b><br>Words: aniversário, comemorar, happy, lugar, amo",
          "<b>Topic 2</b><br>Words: aniversário, casamento, passar, comemorar, aqui",
          "<b>Topic 2</b><br>Words: aniversário, comemorar, rodrigo, lugar, gostamo",
          "<b>Topic 2</b><br>Words: aniversário, curtir, comemorar, conosco, recordação"
         ],
         "marker": {
          "color": "#009E73"
         },
         "mode": "lines",
         "name": "2_aniversário_comemorar_amigo_muito",
         "type": "scatter",
         "x": [
          "2013-03-18T21:36:00",
          "2013-10-10T19:12:00",
          "2014-05-04T16:48:00",
          "2014-11-26T14:24:00",
          "2015-06-20T12:00:00",
          "2016-01-12T09:36:00",
          "2016-08-05T07:12:00",
          "2017-02-27T04:48:00",
          "2017-09-21T02:24:00",
          "2018-04-15T00:00:00",
          "2018-11-06T21:36:00",
          "2019-05-31T19:12:00",
          "2019-12-23T16:48:00",
          "2021-02-07T12:00:00",
          "2021-09-01T09:36:00",
          "2022-03-26T07:12:00",
          "2022-10-18T04:48:00",
          "2023-05-12T02:24:00"
         ],
         "y": [
          1,
          2,
          5,
          8,
          9,
          15,
          4,
          3,
          8,
          10,
          81,
          48,
          14,
          6,
          13,
          7,
          5,
          4
         ]
        },
        {
         "hoverinfo": "text",
         "hovertext": [
          "<b>Topic 3</b><br>Words: personalisar, decorado, apresentação, muito, noite",
          "<b>Topic 3</b><br>Words: jovem, baixo, carta, petisco, gente",
          "<b>Topic 3</b><br>Words: entillar, chalupar, acompanhamento, cobr, ja",
          "<b>Topic 3</b><br>Words: ponto, bebida, comercial, crítico, cadeirante",
          "<b>Topic 3</b><br>Words: drink, bebida, bem, sorrir, finalizar",
          "<b>Topic 3</b><br>Words: morrer, pespecial, maritaca, saudade, genro",
          "<b>Topic 3</b><br>Words: porta, hour, happy, apesar, garantir",
          "<b>Topic 3</b><br>Words: bebida, cerveja, drink, gelar, ambiente",
          "<b>Topic 3</b><br>Words: bebida, afastar, junina, observar, arejar",
          "<b>Topic 3</b><br>Words: bebida, drink, gelar, cerveja, comer",
          "<b>Topic 3</b><br>Words: bebida, gelar, cerveja, atendimento, drink",
          "<b>Topic 3</b><br>Words: bebida, comer, noite, bem, muito",
          "<b>Topic 3</b><br>Words: drink, futebol, recomento, atmosfera, hour",
          "<b>Topic 3</b><br>Words: cerveja, drink, bebida, muito, atendimento",
          "<b>Topic 3</b><br>Words: drink, estivermos, taoer, apaixonante, um",
          "<b>Topic 3</b><br>Words: bebida, drink, top, bom, atendimento",
          "<b>Topic 3</b><br>Words: bebida, drink, atendente, noite, bom",
          "<b>Topic 3</b><br>Words: bebida, dedicação, drink, otimo, atender"
         ],
         "marker": {
          "color": "#F0E442"
         },
         "mode": "lines",
         "name": "3_bebida_drink_cerveja_gelar",
         "type": "scatter",
         "x": [
          "2013-10-10T19:12:00",
          "2014-05-04T16:48:00",
          "2014-11-26T14:24:00",
          "2015-06-20T12:00:00",
          "2016-01-12T09:36:00",
          "2016-08-05T07:12:00",
          "2017-02-27T04:48:00",
          "2017-09-21T02:24:00",
          "2018-04-15T00:00:00",
          "2018-11-06T21:36:00",
          "2019-05-31T19:12:00",
          "2019-12-23T16:48:00",
          "2020-07-16T14:24:00",
          "2021-02-07T12:00:00",
          "2021-09-01T09:36:00",
          "2022-03-26T07:12:00",
          "2022-10-18T04:48:00",
          "2023-05-12T02:24:00"
         ],
         "y": [
          1,
          1,
          2,
          2,
          6,
          1,
          2,
          7,
          5,
          74,
          65,
          13,
          2,
          14,
          4,
          9,
          10,
          7
         ]
        },
        {
         "hoverinfo": "text",
         "hovertext": [
          "<b>Topic 4</b><br>Words: restaurante, chão, barata, ida, fria",
          "<b>Topic 4</b><br>Words: conferir, valer, bacano, também, restaurante",
          "<b>Topic 4</b><br>Words: compensa, acima, expectativa, quanto, casal",
          "<b>Topic 4</b><br>Words: restaurante, filial, querer, mais, bom",
          "<b>Topic 4</b><br>Words: restaurante, reino, exagerado, seca, restante",
          "<b>Topic 4</b><br>Words: restaurante, levar, primeiro, debochar, conhecimento",
          "<b>Topic 4</b><br>Words: envolver, restaurante, receber, quanto, entretenimento",
          "<b>Topic 4</b><br>Words: errar, unidade, animado, jardim, botânico",
          "<b>Topic 4</b><br>Words: restaurante, ficar, parado, localidade, assustar",
          "<b>Topic 4</b><br>Words: disponibilizar, foto, localizar, bonito, ameir",
          "<b>Topic 4</b><br>Words: restaurante, bom, recomendar, muito, excelente",
          "<b>Topic 4</b><br>Words: restaurante, atendimento, bom, muito, comida",
          "<b>Topic 4</b><br>Words: restaurante, andrér, tequuleiro, costumo, exerceste",
          "<b>Topic 4</b><br>Words: restaurante, oleosa, obcar, quesadillas, date",
          "<b>Topic 4</b><br>Words: restaurante, muito, maria, espetacular, educar",
          "<b>Topic 4</b><br>Words: restaurante, além, experiência, muito, surpreendir",
          "<b>Topic 4</b><br>Words: restaurante, sempre, atendimento, importar, saborosíssimo",
          "<b>Topic 4</b><br>Words: kayhan, organizadooo, joinville, comidaaaaa, restaurante",
          "<b>Topic 4</b><br>Words: gostsa, divulgar, restaurante, futuro, vibe"
         ],
         "marker": {
          "color": "#D55E00"
         },
         "mode": "lines",
         "name": "4_restaurante_bom_muito_atendimento",
         "type": "scatter",
         "x": [
          "2013-03-18T21:36:00",
          "2013-10-10T19:12:00",
          "2014-05-04T16:48:00",
          "2014-11-26T14:24:00",
          "2015-06-20T12:00:00",
          "2016-01-12T09:36:00",
          "2016-08-05T07:12:00",
          "2017-02-27T04:48:00",
          "2017-09-21T02:24:00",
          "2018-04-15T00:00:00",
          "2018-11-06T21:36:00",
          "2019-05-31T19:12:00",
          "2019-12-23T16:48:00",
          "2020-07-16T14:24:00",
          "2021-02-07T12:00:00",
          "2021-09-01T09:36:00",
          "2022-03-26T07:12:00",
          "2022-10-18T04:48:00",
          "2023-05-12T02:24:00"
         ],
         "y": [
          2,
          1,
          1,
          8,
          2,
          4,
          2,
          1,
          4,
          1,
          45,
          32,
          7,
          3,
          10,
          6,
          7,
          3,
          3
         ]
        },
        {
         "hoverinfo": "text",
         "hovertext": [
          "<b>Topic 5</b><br>Words: tequila, tequileiro, noite, reforçar, duro",
          "<b>Topic 5</b><br>Words: pês, shots, tequila, quanto, contar",
          "<b>Topic 5</b><br>Words: perceber, feito, cuidado, quando, alegre",
          "<b>Topic 5</b><br>Words: tequila, retirada, intransigente, autorizar, omissar",
          "<b>Topic 5</b><br>Words: tequila, margarita, cantanr, carde, visitarer",
          "<b>Topic 5</b><br>Words: tequila, real, oferecer, macarreno, base",
          "<b>Topic 5</b><br>Words: tequila, tequileiro, mariachi, bem, preparar",
          "<b>Topic 5</b><br>Words: tequila, tequileiro, super, divertido, margarita",
          "<b>Topic 5</b><br>Words: tequila, tontiante, tranquilidade, louco, papo",
          "<b>Topic 5</b><br>Words: tequila, oferecer, mal, média, tequileiro",
          "<b>Topic 5</b><br>Words: ider, tequileiro, original, engraçado, gastronomia",
          "<b>Topic 5</b><br>Words: tequila, tequileiro, margarita, muito, divertido",
          "<b>Topic 5</b><br>Words: tequila, tequileiro, ri, margarita, muito",
          "<b>Topic 5</b><br>Words: tequila, brabo, trapo, tequileiro, dar",
          "<b>Topic 5</b><br>Words: pesar, chapo, camarones, queadilla, manga",
          "<b>Topic 5</b><br>Words: floripa, tequila, lúcia, melgir, cavalheiro",
          "<b>Topic 5</b><br>Words: madruga, superb, sr, esplêndido, sensacional"
         ],
         "marker": {
          "color": "#0072B2"
         },
         "mode": "lines",
         "name": "5_tequila_tequileiro_margarita_muito",
         "type": "scatter",
         "x": [
          "2012-08-20T21:10:04.800000",
          "2013-03-18T21:36:00",
          "2013-10-10T19:12:00",
          "2014-05-04T16:48:00",
          "2014-11-26T14:24:00",
          "2015-06-20T12:00:00",
          "2016-01-12T09:36:00",
          "2016-08-05T07:12:00",
          "2017-02-27T04:48:00",
          "2017-09-21T02:24:00",
          "2018-04-15T00:00:00",
          "2018-11-06T21:36:00",
          "2019-05-31T19:12:00",
          "2019-12-23T16:48:00",
          "2020-07-16T14:24:00",
          "2022-10-18T04:48:00",
          "2023-05-12T02:24:00"
         ],
         "y": [
          3,
          1,
          1,
          2,
          4,
          4,
          7,
          6,
          3,
          5,
          2,
          30,
          17,
          12,
          2,
          3,
          1
         ]
        },
        {
         "hoverinfo": "text",
         "hovertext": [
          "<b>Topic 6</b><br>Words: juntar, execelente, decorar, perfeito, preço",
          "<b>Topic 6</b><br>Words: sumida, perdir, melhorar, precisar, meio",
          "<b>Topic 6</b><br>Words: enter, regular, avaliação, prometer, cordial",
          "<b>Topic 6</b><br>Words: acomir, voltarei, certeza, adorar, vez",
          "<b>Topic 6</b><br>Words: parei, poa, espaçoso, convidar, diversidade",
          "<b>Topic 6</b><br>Words: atendimento, muito, atencioso, excelente, maravilhoso",
          "<b>Topic 6</b><br>Words: atencioso, funcionário, atendimento, muito, super",
          "<b>Topic 6</b><br>Words: animadas, apeno, arrepender, legal, bola",
          "<b>Topic 6</b><br>Words: ever, restaurente, los, voltarar, prestativo",
          "<b>Topic 6</b><br>Words: adequar, valer, atendimento, proposta, imperdível",
          "<b>Topic 6</b><br>Words: organizar, pessoal, educar, bonito, rápido",
          "<b>Topic 6</b><br>Words: legal, serio, uau, poxar, diego",
          "<b>Topic 6</b><br>Words: matheu, voltaremos, opções, com, atender"
         ],
         "marker": {
          "color": "#CC79A7"
         },
         "mode": "lines",
         "name": "6_atendimento_muito_atencioso_funcionári...",
         "type": "scatter",
         "x": [
          "2014-11-26T14:24:00",
          "2016-08-05T07:12:00",
          "2017-02-27T04:48:00",
          "2017-09-21T02:24:00",
          "2018-04-15T00:00:00",
          "2018-11-06T21:36:00",
          "2019-05-31T19:12:00",
          "2019-12-23T16:48:00",
          "2021-02-07T12:00:00",
          "2021-09-01T09:36:00",
          "2022-03-26T07:12:00",
          "2022-10-18T04:48:00",
          "2023-05-12T02:24:00"
         ],
         "y": [
          1,
          1,
          1,
          1,
          4,
          35,
          17,
          3,
          2,
          4,
          1,
          5,
          5
         ]
        },
        {
         "hoverinfo": "text",
         "hovertext": [
          "<b>Topic 7</b><br>Words: sugiro, horário, razoável, variedade, demorar",
          "<b>Topic 7</b><br>Words: bom, achar, naoer, animo, 30",
          "<b>Topic 7</b><br>Words: cima, erar, falho, sofrível, atendimento",
          "<b>Topic 7</b><br>Words: tratamento, absolutamente, confortável, reclamar, estabelecimento",
          "<b>Topic 7</b><br>Words: mto, porção, farta, maioria, conhecer",
          "<b>Topic 7</b><br>Words: bom, atendimento, muito, ambiente, comer",
          "<b>Topic 7</b><br>Words: bom, atendimento, ambiente, comer, muito",
          "<b>Topic 7</b><br>Words: recomendo, agradável, atendimento, bom, propício",
          "<b>Topic 7</b><br>Words: adepto, regra, seguro, novo, convivio",
          "<b>Topic 7</b><br>Words: alisom, ameir, volto, quente, bom",
          "<b>Topic 7</b><br>Words: atendente, instalação, leo, atendimento, ever",
          "<b>Topic 7</b><br>Words: picles, levemente, picante, experimentar, comer",
          "<b>Topic 7</b><br>Words: excelente, impecável, colaboradora, atendimento, gerência"
         ],
         "marker": {
          "color": "#E69F00"
         },
         "mode": "lines",
         "name": "7_bom_atendimento_comida_ambiente",
         "type": "scatter",
         "x": [
          "2014-11-26T14:24:00",
          "2016-01-12T09:36:00",
          "2016-08-05T07:12:00",
          "2017-09-21T02:24:00",
          "2018-04-15T00:00:00",
          "2018-11-06T21:36:00",
          "2019-05-31T19:12:00",
          "2019-12-23T16:48:00",
          "2020-07-16T14:24:00",
          "2021-02-07T12:00:00",
          "2021-09-01T09:36:00",
          "2022-03-26T07:12:00",
          "2023-05-12T02:24:00"
         ],
         "y": [
          1,
          4,
          3,
          1,
          2,
          10,
          12,
          7,
          3,
          3,
          5,
          1,
          5
         ]
        },
        {
         "hoverinfo": "text",
         "hovertext": [
          "<b>Topic 8</b><br>Words: unimed, adorei, top, amiga, demais",
          "<b>Topic 8</b><br>Words: lugar, experiência, incrível, mto, aqui",
          "<b>Topic 8</b><br>Words: lugar, vir, incrível, muito, experiência",
          "<b>Topic 8</b><br>Words: experiência, vir, lugar, aqui, fun",
          "<b>Topic 8</b><br>Words: resenhar, beleza, novamente, possível, breve",
          "<b>Topic 8</b><br>Words: amizade, peço, imaginar, madrinha, solteira",
          "<b>Topic 8</b><br>Words: muitooooooo, legal, tir, ânimo, zona",
          "<b>Topic 8</b><br>Words: socializar, alegria, som, atração, parte"
         ],
         "marker": {
          "color": "#56B4E9"
         },
         "mode": "lines",
         "name": "8_lugar_experiência_vir_aqui",
         "type": "scatter",
         "x": [
          "2018-04-15T00:00:00",
          "2018-11-06T21:36:00",
          "2019-05-31T19:12:00",
          "2019-12-23T16:48:00",
          "2021-02-07T12:00:00",
          "2022-03-26T07:12:00",
          "2022-10-18T04:48:00",
          "2023-05-12T02:24:00"
         ],
         "y": [
          1,
          15,
          13,
          5,
          1,
          5,
          2,
          1
         ]
        },
        {
         "hoverinfo": "text",
         "hovertext": [
          "<b>Topic 9</b><br>Words: rolar, ida, duvida, turma, colorir",
          "<b>Topic 9</b><br>Words: oscilação, famoso, massa, razoável, variar",
          "<b>Topic 9</b><br>Words: sandro, fazer, energia, destaque, especial",
          "<b>Topic 9</b><br>Words: diferenciar, pouco, animar, alto, só",
          "<b>Topic 9</b><br>Words: cobrar, final, caro, conta, artístico",
          "<b>Topic 9</b><br>Words: ornamentar, descontraido, salgado, profissional, reclamar",
          "<b>Topic 9</b><br>Words: saída, limpo, caro, prestativo, entrada",
          "<b>Topic 9</b><br>Words: contagiante, alegria, comida, ambiente, culinária",
          "<b>Topic 9</b><br>Words: comida, ambiente, sempre, demorar, serie",
          "<b>Topic 9</b><br>Words: boníssimo, avaliar, companhia, divertidíssimo, mundo",
          "<b>Topic 9</b><br>Words: ameeeir, jus, combinar, colorir, temática",
          "<b>Topic 9</b><br>Words: carismático, fora, parabéns, funcionário, agradável",
          "<b>Topic 9</b><br>Words: entregar, comida, artístico, experienciar, quão",
          "<b>Topic 9</b><br>Words: quesito, feliz, rápido, chegar, atencioso",
          "<b>Topic 9</b><br>Words: eficaz, rapir, solícito, decorado, educar",
          "<b>Topic 9</b><br>Words: ademal, mt, confortável, super, mundo"
         ],
         "marker": {
          "color": "#009E73"
         },
         "mode": "lines",
         "name": "9_comida_ambiente_funcionário_culinária",
         "type": "scatter",
         "x": [
          "2013-03-18T21:36:00",
          "2013-10-10T19:12:00",
          "2014-11-26T14:24:00",
          "2016-01-12T09:36:00",
          "2016-08-05T07:12:00",
          "2017-09-21T02:24:00",
          "2018-04-15T00:00:00",
          "2018-11-06T21:36:00",
          "2019-05-31T19:12:00",
          "2019-12-23T16:48:00",
          "2020-07-16T14:24:00",
          "2021-02-07T12:00:00",
          "2021-09-01T09:36:00",
          "2022-03-26T07:12:00",
          "2022-10-18T04:48:00",
          "2023-05-12T02:24:00"
         ],
         "y": [
          1,
          1,
          1,
          2,
          1,
          2,
          1,
          9,
          9,
          2,
          2,
          1,
          4,
          1,
          1,
          3
         ]
        },
        {
         "hoverinfo": "text",
         "hovertext": [
          "<b>Topic 10</b><br>Words: pedido, tablet, lançar, dosar, esclarecer",
          "<b>Topic 10</b><br>Words: tablet, pedido, através, sistema, conseguir",
          "<b>Topic 10</b><br>Words: servićo, tablet, sistema, diferenciar, decoração",
          "<b>Topic 10</b><br>Words: tablet, pedido, sistema, fazer, digital",
          "<b>Topic 10</b><br>Words: tablet, pedido, solicitação, através, sistema",
          "<b>Topic 10</b><br>Words: tablet, pedido, facilitar, imediato, terminar",
          "<b>Topic 10</b><br>Words: tablet, lindoooo, imagem, descrição, pedido",
          "<b>Topic 10</b><br>Words: fartar, digital, eficiente, rápido, experiência"
         ],
         "marker": {
          "color": "#F0E442"
         },
         "mode": "lines",
         "name": "10_tablet_pedido_sistema_facilitar",
         "type": "scatter",
         "x": [
          "2017-02-27T04:48:00",
          "2017-09-21T02:24:00",
          "2018-04-15T00:00:00",
          "2018-11-06T21:36:00",
          "2019-05-31T19:12:00",
          "2019-12-23T16:48:00",
          "2022-03-26T07:12:00",
          "2022-10-18T04:48:00"
         ],
         "y": [
          2,
          6,
          1,
          18,
          8,
          3,
          2,
          1
         ]
        },
        {
         "hoverinfo": "text",
         "hovertext": [
          "<b>Topic 11</b><br>Words: entrar, escolhido, despreparar, previsão, avisar",
          "<b>Topic 11</b><br>Words: política, moral, recusa, refleter, reparação",
          "<b>Topic 11</b><br>Words: objetivo, perder, espera, hora, fila",
          "<b>Topic 11</b><br>Words: cream, sour, péssimo, mais, garçom",
          "<b>Topic 11</b><br>Words: cancelar, não, depois, fria, mal",
          "<b>Topic 11</b><br>Words: fila, segurança, começar, entrar, sábado",
          "<b>Topic 11</b><br>Words: péssimo, tivemo, atender, sequer, chegar",
          "<b>Topic 11</b><br>Words: minuto, esfriar, comunicado, demorer, depósito",
          "<b>Topic 11</b><br>Words: minuto, fila, esperar, mais, taco",
          "<b>Topic 11</b><br>Words: servir, perda, reposar, adiantar, conseguíar",
          "<b>Topic 11</b><br>Words: seríar, chamá, ampliar, verbalmente, alocar",
          "<b>Topic 11</b><br>Words: confusão, enganar, salvar, tiver, aguardar",
          "<b>Topic 11</b><br>Words: funcionária, retificar, caixa, erro, horário",
          "<b>Topic 11</b><br>Words: servir, determinado, tiver, demos, avisar"
         ],
         "marker": {
          "color": "#D55E00"
         },
         "mode": "lines",
         "name": "11_mais_fila_não_chegar",
         "type": "scatter",
         "x": [
          "2012-08-20T21:10:04.800000",
          "2013-03-18T21:36:00",
          "2013-10-10T19:12:00",
          "2014-11-26T14:24:00",
          "2015-06-20T12:00:00",
          "2016-01-12T09:36:00",
          "2016-08-05T07:12:00",
          "2017-02-27T04:48:00",
          "2017-09-21T02:24:00",
          "2018-04-15T00:00:00",
          "2018-11-06T21:36:00",
          "2019-12-23T16:48:00",
          "2021-02-07T12:00:00",
          "2022-10-18T04:48:00"
         ],
         "y": [
          1,
          1,
          1,
          8,
          5,
          3,
          2,
          2,
          3,
          2,
          3,
          1,
          1,
          1
         ]
        },
        {
         "hoverinfo": "text",
         "hovertext": [
          "<b>Topic 12</b><br>Words: graça, rodar, filial, meso, delícia",
          "<b>Topic 12</b><br>Words: tudoooo, avaliar, preferido, esquecer, marido",
          "<b>Topic 12</b><br>Words: maio, mes, trabalho, conversar, comido",
          "<b>Topic 12</b><br>Words: lotado, hrs, numero, desencontro, cliente",
          "<b>Topic 12</b><br>Words: resumar, checkin, lentidão, chameir, tentativa",
          "<b>Topic 12</b><br>Words: péssimo, mariatés, levantar, balcão, preciso",
          "<b>Topic 12</b><br>Words: hahahaha, alexandro, esplêndir, cris, arnaldo",
          "<b>Topic 12</b><br>Words: lover, vitor, show, casa, local",
          "<b>Topic 12</b><br>Words: supimpa, bagulho, aq, mexmo, mechico",
          "<b>Topic 12</b><br>Words: saudação, limpar, requintar, ambientar, torno",
          "<b>Topic 12</b><br>Words: ilumivao, cr, pica, lugarzinho, eh",
          "<b>Topic 12</b><br>Words: surreal, grupo, junto, cantor, parabéns",
          "<b>Topic 12</b><br>Words: saber, crl, gringa, receba, tropar",
          "<b>Topic 12</b><br>Words: matheu, andar, local, atendir, notar",
          "<b>Topic 12</b><br>Words: ameir, local, amigo, mal, atendimento"
         ],
         "marker": {
          "color": "#0072B2"
         },
         "mode": "lines",
         "name": "12_local_amigo_mal_ameir",
         "type": "scatter",
         "x": [
          "2013-03-18T21:36:00",
          "2013-10-10T19:12:00",
          "2014-05-04T16:48:00",
          "2014-11-26T14:24:00",
          "2015-06-20T12:00:00",
          "2016-08-05T07:12:00",
          "2017-02-27T04:48:00",
          "2018-11-06T21:36:00",
          "2019-05-31T19:12:00",
          "2019-12-23T16:48:00",
          "2021-02-07T12:00:00",
          "2021-09-01T09:36:00",
          "2022-03-26T07:12:00",
          "2022-10-18T04:48:00",
          "2023-05-12T02:24:00"
         ],
         "y": [
          1,
          1,
          1,
          3,
          1,
          2,
          1,
          9,
          4,
          1,
          3,
          1,
          1,
          2,
          1
         ]
        },
        {
         "hoverinfo": "text",
         "hovertext": [
          "<b>Topic 13</b><br>Words: amigo, família, lugar, familia, familiar",
          "<b>Topic 13</b><br>Words: amigo, família, ir, familiar, lugar",
          "<b>Topic 13</b><br>Words: amigo, família, gostar, esqueçar, muito",
          "<b>Topic 13</b><br>Words: determinar, duplo, inclusive, horário, dose",
          "<b>Topic 13</b><br>Words: breno, ir, amigo, familia, limpo"
         ],
         "marker": {
          "color": "#CC79A7"
         },
         "mode": "lines",
         "name": "13_amigo_família_lugar_ir",
         "type": "scatter",
         "x": [
          "2018-11-06T21:36:00",
          "2019-05-31T19:12:00",
          "2019-12-23T16:48:00",
          "2021-02-07T12:00:00",
          "2023-05-12T02:24:00"
         ],
         "y": [
          10,
          6,
          5,
          1,
          2
         ]
        },
        {
         "hoverinfo": "text",
         "hovertext": [
          "<b>Topic 14</b><br>Words: rapidinho, reunir, divertido, bom, realmente",
          "<b>Topic 14</b><br>Words: ir, diferencial, divertido, amigo, familiar",
          "<b>Topic 14</b><br>Words: reunir, divertido, amigo, comer, local",
          "<b>Topic 14</b><br>Words: super, amigo, comer, familiar, divertido",
          "<b>Topic 14</b><br>Words: compartilharmos, gostamo, momento, saber, agradável",
          "<b>Topic 14</b><br>Words: lindo, espaço, adorar, também, experiência"
         ],
         "marker": {
          "color": "#E69F00"
         },
         "mode": "lines",
         "name": "14_divertido_reunir_amigo_comer",
         "type": "scatter",
         "x": [
          "2014-11-26T14:24:00",
          "2016-08-05T07:12:00",
          "2018-11-06T21:36:00",
          "2019-05-31T19:12:00",
          "2021-02-07T12:00:00",
          "2022-10-18T04:48:00"
         ],
         "y": [
          2,
          2,
          10,
          6,
          2,
          1
         ]
        },
        {
         "hoverinfo": "text",
         "hovertext": [
          "<b>Topic 15</b><br>Words: família, justo, gostoso, recomendar, preço",
          "<b>Topic 15</b><br>Words: familiar, família, namorado, jantar, boo",
          "<b>Topic 15</b><br>Words: venda, coletivo, ajudar, acessível, familiar",
          "<b>Topic 15</b><br>Words: familia, sair, recomendo, amigo, excelente",
          "<b>Topic 15</b><br>Words: ocasiáo, date, difícil, escolher, guaca",
          "<b>Topic 15</b><br>Words: excepcional, familiar, recomendo, deixar, conhecer",
          "<b>Topic 15</b><br>Words: família, familiar, ambiente, atendimento, merecedor",
          "<b>Topic 15</b><br>Words: despojar, curtar, familiar, família, totalmente",
          "<b>Topic 15</b><br>Words: atraçoe, necessário, alimentação, felicidade, família",
          "<b>Topic 15</b><br>Words: cada, jantar, amo, família, visita",
          "<b>Topic 15</b><br>Words: família, comemorar, recomendar, amigo, bom",
          "<b>Topic 15</b><br>Words: família, emerson, lucia, rotina, destaque"
         ],
         "marker": {
          "color": "#56B4E9"
         },
         "mode": "lines",
         "name": "15_família_familiar_ambiente_atendimento",
         "type": "scatter",
         "x": [
          "2014-11-26T14:24:00",
          "2015-06-20T12:00:00",
          "2016-01-12T09:36:00",
          "2016-08-05T07:12:00",
          "2017-02-27T04:48:00",
          "2018-04-15T00:00:00",
          "2018-11-06T21:36:00",
          "2019-05-31T19:12:00",
          "2019-12-23T16:48:00",
          "2022-03-26T07:12:00",
          "2022-10-18T04:48:00",
          "2023-05-12T02:24:00"
         ],
         "y": [
          1,
          2,
          1,
          1,
          1,
          1,
          7,
          2,
          3,
          1,
          1,
          2
         ]
        },
        {
         "hoverinfo": "text",
         "hovertext": [
          "<b>Topic 16</b><br>Words: real, animacao, mariachi, caracterizado, costumar",
          "<b>Topic 16</b><br>Words: gostosíssimo, afinação, encaixar, impacto, harmônico",
          "<b>Topic 16</b><br>Words: obter, interminável, problema, fila, decorar",
          "<b>Topic 16</b><br>Words: solteira, despedida, circular, restaurante, mais",
          "<b>Topic 16</b><br>Words: restaurante, mariachi, surpreender, bem, possuir",
          "<b>Topic 16</b><br>Words: caríssimo, método, corona, sao, normal",
          "<b>Topic 16</b><br>Words: diferencial, espetacularmente, taverna, aparecer, transportar",
          "<b>Topic 16</b><br>Words: quesadilla, fechamos, congresso, ortodontia, jalapeño",
          "<b>Topic 16</b><br>Words: cool, uva, suco, vazio, estar"
         ],
         "marker": {
          "color": "#009E73"
         },
         "mode": "lines",
         "name": "16_restaurante_mariachi_mais_animar",
         "type": "scatter",
         "x": [
          "2013-03-18T21:36:00",
          "2013-10-10T19:12:00",
          "2014-05-04T16:48:00",
          "2014-11-26T14:24:00",
          "2016-01-12T09:36:00",
          "2017-09-21T02:24:00",
          "2018-11-06T21:36:00",
          "2019-05-31T19:12:00",
          "2023-05-12T02:24:00"
         ],
         "y": [
          2,
          2,
          1,
          4,
          5,
          2,
          2,
          3,
          1
         ]
        },
        {
         "hoverinfo": "text",
         "hovertext": [
          "<b>Topic 17</b><br>Words: voltarei, certeza, voltaremos, sempre, amanda",
          "<b>Topic 17</b><br>Words: voltarei, voltar, novo, certeza, vir",
          "<b>Topic 17</b><br>Words: sobremês, receber, voltarei, certeza, familiar",
          "<b>Topic 17</b><br>Words: segunda, delícia, comido, rodízio, ainda",
          "<b>Topic 17</b><br>Words: voltarei, brasília, certeza, becker, atendir",
          "<b>Topic 17</b><br>Words: certeza, voltarei, matar, victor, saudade"
         ],
         "marker": {
          "color": "#F0E442"
         },
         "mode": "lines",
         "name": "17_voltarei_certeza_voltar_voltaremos",
         "type": "scatter",
         "x": [
          "2018-11-06T21:36:00",
          "2019-05-31T19:12:00",
          "2021-02-07T12:00:00",
          "2021-09-01T09:36:00",
          "2022-03-26T07:12:00",
          "2023-05-12T02:24:00"
         ],
         "y": [
          7,
          7,
          1,
          1,
          2,
          3
         ]
        },
        {
         "hoverinfo": "text",
         "hovertext": [
          "<b>Topic 18</b><br>Words: decoraçãor, chegueir, mariachi, então, precisar",
          "<b>Topic 18</b><br>Words: mariachi, peña, saborear, realocar, tranquilamente",
          "<b>Topic 18</b><br>Words: 20h30, mariachi, adoro, partir, mariacchi",
          "<b>Topic 18</b><br>Words: menção, especial, merecer, domingo, mariachi",
          "<b>Topic 18</b><br>Words: mariachi, qualidade, visitarei, arrebentar, dancarino",
          "<b>Topic 18</b><br>Words: perfeitoooooo, animadosss, luca, amo, mariachi",
          "<b>Topic 18</b><br>Words: lindo, mariachi, apetitoso, adorar, prato",
          "<b>Topic 18</b><br>Words: bolo, adoreeeei, cereja, mariachi, lir",
          "<b>Topic 18</b><br>Words: mariachi, corte, sonzeiro, perfeitooos, los"
         ],
         "marker": {
          "color": "#D55E00"
         },
         "mode": "lines",
         "name": "18_mariachi_lindo_lugar_muito",
         "type": "scatter",
         "x": [
          "2013-10-10T19:12:00",
          "2014-11-26T14:24:00",
          "2015-06-20T12:00:00",
          "2017-02-27T04:48:00",
          "2018-11-06T21:36:00",
          "2019-05-31T19:12:00",
          "2021-02-07T12:00:00",
          "2022-03-26T07:12:00",
          "2023-05-12T02:24:00"
         ],
         "y": [
          1,
          3,
          2,
          1,
          8,
          1,
          2,
          1,
          2
         ]
        },
        {
         "hoverinfo": "text",
         "hovertext": [
          "<b>Topic 19</b><br>Words: generoso, comemoração, ideal, boa, família",
          "<b>Topic 19</b><br>Words: feiro, finais, semana, festejar, terça",
          "<b>Topic 19</b><br>Words: comemoração, camborir, feriado, aconchegante, lugar",
          "<b>Topic 19</b><br>Words: comemoração, lugar, amigo, meua, gostosa",
          "<b>Topic 19</b><br>Words: comemoração, amigo, ideal, boa, divertido",
          "<b>Topic 19</b><br>Words: par, repleto, romântico, confortável, até",
          "<b>Topic 19</b><br>Words: curtir, justo, comemorar, amigo, preço",
          "<b>Topic 19</b><br>Words: comemoração, aconchegante, clima, perfeito, incrível"
         ],
         "marker": {
          "color": "#0072B2"
         },
         "mode": "lines",
         "name": "19_comemoração_lugar_amigo_boa",
         "type": "scatter",
         "x": [
          "2016-01-12T09:36:00",
          "2017-02-27T04:48:00",
          "2018-04-15T00:00:00",
          "2018-11-06T21:36:00",
          "2019-05-31T19:12:00",
          "2020-07-16T14:24:00",
          "2021-02-07T12:00:00",
          "2021-09-01T09:36:00"
         ],
         "y": [
          1,
          1,
          2,
          5,
          3,
          1,
          1,
          1
         ]
        }
       ],
       "layout": {
        "height": 450,
        "hoverlabel": {
         "bgcolor": "white",
         "font": {
          "family": "Rockwell",
          "size": 16
         }
        },
        "legend": {
         "title": {
          "text": "<b>Global Topic Representation"
         }
        },
        "template": {
         "data": {
          "bar": [
           {
            "error_x": {
             "color": "rgb(36,36,36)"
            },
            "error_y": {
             "color": "rgb(36,36,36)"
            },
            "marker": {
             "line": {
              "color": "white",
              "width": 0.5
             },
             "pattern": {
              "fillmode": "overlay",
              "size": 10,
              "solidity": 0.2
             }
            },
            "type": "bar"
           }
          ],
          "barpolar": [
           {
            "marker": {
             "line": {
              "color": "white",
              "width": 0.5
             },
             "pattern": {
              "fillmode": "overlay",
              "size": 10,
              "solidity": 0.2
             }
            },
            "type": "barpolar"
           }
          ],
          "carpet": [
           {
            "aaxis": {
             "endlinecolor": "rgb(36,36,36)",
             "gridcolor": "white",
             "linecolor": "white",
             "minorgridcolor": "white",
             "startlinecolor": "rgb(36,36,36)"
            },
            "baxis": {
             "endlinecolor": "rgb(36,36,36)",
             "gridcolor": "white",
             "linecolor": "white",
             "minorgridcolor": "white",
             "startlinecolor": "rgb(36,36,36)"
            },
            "type": "carpet"
           }
          ],
          "choropleth": [
           {
            "colorbar": {
             "outlinewidth": 1,
             "tickcolor": "rgb(36,36,36)",
             "ticks": "outside"
            },
            "type": "choropleth"
           }
          ],
          "contour": [
           {
            "colorbar": {
             "outlinewidth": 1,
             "tickcolor": "rgb(36,36,36)",
             "ticks": "outside"
            },
            "colorscale": [
             [
              0,
              "#440154"
             ],
             [
              0.1111111111111111,
              "#482878"
             ],
             [
              0.2222222222222222,
              "#3e4989"
             ],
             [
              0.3333333333333333,
              "#31688e"
             ],
             [
              0.4444444444444444,
              "#26828e"
             ],
             [
              0.5555555555555556,
              "#1f9e89"
             ],
             [
              0.6666666666666666,
              "#35b779"
             ],
             [
              0.7777777777777778,
              "#6ece58"
             ],
             [
              0.8888888888888888,
              "#b5de2b"
             ],
             [
              1,
              "#fde725"
             ]
            ],
            "type": "contour"
           }
          ],
          "contourcarpet": [
           {
            "colorbar": {
             "outlinewidth": 1,
             "tickcolor": "rgb(36,36,36)",
             "ticks": "outside"
            },
            "type": "contourcarpet"
           }
          ],
          "heatmap": [
           {
            "colorbar": {
             "outlinewidth": 1,
             "tickcolor": "rgb(36,36,36)",
             "ticks": "outside"
            },
            "colorscale": [
             [
              0,
              "#440154"
             ],
             [
              0.1111111111111111,
              "#482878"
             ],
             [
              0.2222222222222222,
              "#3e4989"
             ],
             [
              0.3333333333333333,
              "#31688e"
             ],
             [
              0.4444444444444444,
              "#26828e"
             ],
             [
              0.5555555555555556,
              "#1f9e89"
             ],
             [
              0.6666666666666666,
              "#35b779"
             ],
             [
              0.7777777777777778,
              "#6ece58"
             ],
             [
              0.8888888888888888,
              "#b5de2b"
             ],
             [
              1,
              "#fde725"
             ]
            ],
            "type": "heatmap"
           }
          ],
          "heatmapgl": [
           {
            "colorbar": {
             "outlinewidth": 1,
             "tickcolor": "rgb(36,36,36)",
             "ticks": "outside"
            },
            "colorscale": [
             [
              0,
              "#440154"
             ],
             [
              0.1111111111111111,
              "#482878"
             ],
             [
              0.2222222222222222,
              "#3e4989"
             ],
             [
              0.3333333333333333,
              "#31688e"
             ],
             [
              0.4444444444444444,
              "#26828e"
             ],
             [
              0.5555555555555556,
              "#1f9e89"
             ],
             [
              0.6666666666666666,
              "#35b779"
             ],
             [
              0.7777777777777778,
              "#6ece58"
             ],
             [
              0.8888888888888888,
              "#b5de2b"
             ],
             [
              1,
              "#fde725"
             ]
            ],
            "type": "heatmapgl"
           }
          ],
          "histogram": [
           {
            "marker": {
             "line": {
              "color": "white",
              "width": 0.6
             }
            },
            "type": "histogram"
           }
          ],
          "histogram2d": [
           {
            "colorbar": {
             "outlinewidth": 1,
             "tickcolor": "rgb(36,36,36)",
             "ticks": "outside"
            },
            "colorscale": [
             [
              0,
              "#440154"
             ],
             [
              0.1111111111111111,
              "#482878"
             ],
             [
              0.2222222222222222,
              "#3e4989"
             ],
             [
              0.3333333333333333,
              "#31688e"
             ],
             [
              0.4444444444444444,
              "#26828e"
             ],
             [
              0.5555555555555556,
              "#1f9e89"
             ],
             [
              0.6666666666666666,
              "#35b779"
             ],
             [
              0.7777777777777778,
              "#6ece58"
             ],
             [
              0.8888888888888888,
              "#b5de2b"
             ],
             [
              1,
              "#fde725"
             ]
            ],
            "type": "histogram2d"
           }
          ],
          "histogram2dcontour": [
           {
            "colorbar": {
             "outlinewidth": 1,
             "tickcolor": "rgb(36,36,36)",
             "ticks": "outside"
            },
            "colorscale": [
             [
              0,
              "#440154"
             ],
             [
              0.1111111111111111,
              "#482878"
             ],
             [
              0.2222222222222222,
              "#3e4989"
             ],
             [
              0.3333333333333333,
              "#31688e"
             ],
             [
              0.4444444444444444,
              "#26828e"
             ],
             [
              0.5555555555555556,
              "#1f9e89"
             ],
             [
              0.6666666666666666,
              "#35b779"
             ],
             [
              0.7777777777777778,
              "#6ece58"
             ],
             [
              0.8888888888888888,
              "#b5de2b"
             ],
             [
              1,
              "#fde725"
             ]
            ],
            "type": "histogram2dcontour"
           }
          ],
          "mesh3d": [
           {
            "colorbar": {
             "outlinewidth": 1,
             "tickcolor": "rgb(36,36,36)",
             "ticks": "outside"
            },
            "type": "mesh3d"
           }
          ],
          "parcoords": [
           {
            "line": {
             "colorbar": {
              "outlinewidth": 1,
              "tickcolor": "rgb(36,36,36)",
              "ticks": "outside"
             }
            },
            "type": "parcoords"
           }
          ],
          "pie": [
           {
            "automargin": true,
            "type": "pie"
           }
          ],
          "scatter": [
           {
            "fillpattern": {
             "fillmode": "overlay",
             "size": 10,
             "solidity": 0.2
            },
            "type": "scatter"
           }
          ],
          "scatter3d": [
           {
            "line": {
             "colorbar": {
              "outlinewidth": 1,
              "tickcolor": "rgb(36,36,36)",
              "ticks": "outside"
             }
            },
            "marker": {
             "colorbar": {
              "outlinewidth": 1,
              "tickcolor": "rgb(36,36,36)",
              "ticks": "outside"
             }
            },
            "type": "scatter3d"
           }
          ],
          "scattercarpet": [
           {
            "marker": {
             "colorbar": {
              "outlinewidth": 1,
              "tickcolor": "rgb(36,36,36)",
              "ticks": "outside"
             }
            },
            "type": "scattercarpet"
           }
          ],
          "scattergeo": [
           {
            "marker": {
             "colorbar": {
              "outlinewidth": 1,
              "tickcolor": "rgb(36,36,36)",
              "ticks": "outside"
             }
            },
            "type": "scattergeo"
           }
          ],
          "scattergl": [
           {
            "marker": {
             "colorbar": {
              "outlinewidth": 1,
              "tickcolor": "rgb(36,36,36)",
              "ticks": "outside"
             }
            },
            "type": "scattergl"
           }
          ],
          "scattermapbox": [
           {
            "marker": {
             "colorbar": {
              "outlinewidth": 1,
              "tickcolor": "rgb(36,36,36)",
              "ticks": "outside"
             }
            },
            "type": "scattermapbox"
           }
          ],
          "scatterpolar": [
           {
            "marker": {
             "colorbar": {
              "outlinewidth": 1,
              "tickcolor": "rgb(36,36,36)",
              "ticks": "outside"
             }
            },
            "type": "scatterpolar"
           }
          ],
          "scatterpolargl": [
           {
            "marker": {
             "colorbar": {
              "outlinewidth": 1,
              "tickcolor": "rgb(36,36,36)",
              "ticks": "outside"
             }
            },
            "type": "scatterpolargl"
           }
          ],
          "scatterternary": [
           {
            "marker": {
             "colorbar": {
              "outlinewidth": 1,
              "tickcolor": "rgb(36,36,36)",
              "ticks": "outside"
             }
            },
            "type": "scatterternary"
           }
          ],
          "surface": [
           {
            "colorbar": {
             "outlinewidth": 1,
             "tickcolor": "rgb(36,36,36)",
             "ticks": "outside"
            },
            "colorscale": [
             [
              0,
              "#440154"
             ],
             [
              0.1111111111111111,
              "#482878"
             ],
             [
              0.2222222222222222,
              "#3e4989"
             ],
             [
              0.3333333333333333,
              "#31688e"
             ],
             [
              0.4444444444444444,
              "#26828e"
             ],
             [
              0.5555555555555556,
              "#1f9e89"
             ],
             [
              0.6666666666666666,
              "#35b779"
             ],
             [
              0.7777777777777778,
              "#6ece58"
             ],
             [
              0.8888888888888888,
              "#b5de2b"
             ],
             [
              1,
              "#fde725"
             ]
            ],
            "type": "surface"
           }
          ],
          "table": [
           {
            "cells": {
             "fill": {
              "color": "rgb(237,237,237)"
             },
             "line": {
              "color": "white"
             }
            },
            "header": {
             "fill": {
              "color": "rgb(217,217,217)"
             },
             "line": {
              "color": "white"
             }
            },
            "type": "table"
           }
          ]
         },
         "layout": {
          "annotationdefaults": {
           "arrowhead": 0,
           "arrowwidth": 1
          },
          "autotypenumbers": "strict",
          "coloraxis": {
           "colorbar": {
            "outlinewidth": 1,
            "tickcolor": "rgb(36,36,36)",
            "ticks": "outside"
           }
          },
          "colorscale": {
           "diverging": [
            [
             0,
             "rgb(103,0,31)"
            ],
            [
             0.1,
             "rgb(178,24,43)"
            ],
            [
             0.2,
             "rgb(214,96,77)"
            ],
            [
             0.3,
             "rgb(244,165,130)"
            ],
            [
             0.4,
             "rgb(253,219,199)"
            ],
            [
             0.5,
             "rgb(247,247,247)"
            ],
            [
             0.6,
             "rgb(209,229,240)"
            ],
            [
             0.7,
             "rgb(146,197,222)"
            ],
            [
             0.8,
             "rgb(67,147,195)"
            ],
            [
             0.9,
             "rgb(33,102,172)"
            ],
            [
             1,
             "rgb(5,48,97)"
            ]
           ],
           "sequential": [
            [
             0,
             "#440154"
            ],
            [
             0.1111111111111111,
             "#482878"
            ],
            [
             0.2222222222222222,
             "#3e4989"
            ],
            [
             0.3333333333333333,
             "#31688e"
            ],
            [
             0.4444444444444444,
             "#26828e"
            ],
            [
             0.5555555555555556,
             "#1f9e89"
            ],
            [
             0.6666666666666666,
             "#35b779"
            ],
            [
             0.7777777777777778,
             "#6ece58"
            ],
            [
             0.8888888888888888,
             "#b5de2b"
            ],
            [
             1,
             "#fde725"
            ]
           ],
           "sequentialminus": [
            [
             0,
             "#440154"
            ],
            [
             0.1111111111111111,
             "#482878"
            ],
            [
             0.2222222222222222,
             "#3e4989"
            ],
            [
             0.3333333333333333,
             "#31688e"
            ],
            [
             0.4444444444444444,
             "#26828e"
            ],
            [
             0.5555555555555556,
             "#1f9e89"
            ],
            [
             0.6666666666666666,
             "#35b779"
            ],
            [
             0.7777777777777778,
             "#6ece58"
            ],
            [
             0.8888888888888888,
             "#b5de2b"
            ],
            [
             1,
             "#fde725"
            ]
           ]
          },
          "colorway": [
           "#1F77B4",
           "#FF7F0E",
           "#2CA02C",
           "#D62728",
           "#9467BD",
           "#8C564B",
           "#E377C2",
           "#7F7F7F",
           "#BCBD22",
           "#17BECF"
          ],
          "font": {
           "color": "rgb(36,36,36)"
          },
          "geo": {
           "bgcolor": "white",
           "lakecolor": "white",
           "landcolor": "white",
           "showlakes": true,
           "showland": true,
           "subunitcolor": "white"
          },
          "hoverlabel": {
           "align": "left"
          },
          "hovermode": "closest",
          "mapbox": {
           "style": "light"
          },
          "paper_bgcolor": "white",
          "plot_bgcolor": "white",
          "polar": {
           "angularaxis": {
            "gridcolor": "rgb(232,232,232)",
            "linecolor": "rgb(36,36,36)",
            "showgrid": false,
            "showline": true,
            "ticks": "outside"
           },
           "bgcolor": "white",
           "radialaxis": {
            "gridcolor": "rgb(232,232,232)",
            "linecolor": "rgb(36,36,36)",
            "showgrid": false,
            "showline": true,
            "ticks": "outside"
           }
          },
          "scene": {
           "xaxis": {
            "backgroundcolor": "white",
            "gridcolor": "rgb(232,232,232)",
            "gridwidth": 2,
            "linecolor": "rgb(36,36,36)",
            "showbackground": true,
            "showgrid": false,
            "showline": true,
            "ticks": "outside",
            "zeroline": false,
            "zerolinecolor": "rgb(36,36,36)"
           },
           "yaxis": {
            "backgroundcolor": "white",
            "gridcolor": "rgb(232,232,232)",
            "gridwidth": 2,
            "linecolor": "rgb(36,36,36)",
            "showbackground": true,
            "showgrid": false,
            "showline": true,
            "ticks": "outside",
            "zeroline": false,
            "zerolinecolor": "rgb(36,36,36)"
           },
           "zaxis": {
            "backgroundcolor": "white",
            "gridcolor": "rgb(232,232,232)",
            "gridwidth": 2,
            "linecolor": "rgb(36,36,36)",
            "showbackground": true,
            "showgrid": false,
            "showline": true,
            "ticks": "outside",
            "zeroline": false,
            "zerolinecolor": "rgb(36,36,36)"
           }
          },
          "shapedefaults": {
           "fillcolor": "black",
           "line": {
            "width": 0
           },
           "opacity": 0.3
          },
          "ternary": {
           "aaxis": {
            "gridcolor": "rgb(232,232,232)",
            "linecolor": "rgb(36,36,36)",
            "showgrid": false,
            "showline": true,
            "ticks": "outside"
           },
           "baxis": {
            "gridcolor": "rgb(232,232,232)",
            "linecolor": "rgb(36,36,36)",
            "showgrid": false,
            "showline": true,
            "ticks": "outside"
           },
           "bgcolor": "white",
           "caxis": {
            "gridcolor": "rgb(232,232,232)",
            "linecolor": "rgb(36,36,36)",
            "showgrid": false,
            "showline": true,
            "ticks": "outside"
           }
          },
          "title": {
           "x": 0.05
          },
          "xaxis": {
           "automargin": true,
           "gridcolor": "rgb(232,232,232)",
           "linecolor": "rgb(36,36,36)",
           "showgrid": false,
           "showline": true,
           "ticks": "outside",
           "title": {
            "standoff": 15
           },
           "zeroline": false,
           "zerolinecolor": "rgb(36,36,36)"
          },
          "yaxis": {
           "automargin": true,
           "gridcolor": "rgb(232,232,232)",
           "linecolor": "rgb(36,36,36)",
           "showgrid": false,
           "showline": true,
           "ticks": "outside",
           "title": {
            "standoff": 15
           },
           "zeroline": false,
           "zerolinecolor": "rgb(36,36,36)"
          }
         }
        },
        "title": {
         "font": {
          "color": "Black",
          "size": 22
         },
         "text": "<b>Topics over Time</b>",
         "x": 0.4,
         "xanchor": "center",
         "y": 0.95,
         "yanchor": "top"
        },
        "width": 1250,
        "xaxis": {
         "showgrid": true
        },
        "yaxis": {
         "showgrid": true,
         "title": {
          "text": "Frequency"
         }
        }
       }
      }
     },
     "metadata": {},
     "output_type": "display_data"
    }
   ],
   "source": [
    "topic_model.visualize_topics_over_time(topics_over_time, top_n_topics=20)"
   ]
  },
  {
   "cell_type": "markdown",
   "metadata": {},
   "source": [
    "#### DataFrame com informações completas"
   ]
  },
  {
   "cell_type": "code",
   "execution_count": 18,
   "metadata": {},
   "outputs": [
    {
     "data": {
      "text/html": [
       "<div>\n",
       "<style scoped>\n",
       "    .dataframe tbody tr th:only-of-type {\n",
       "        vertical-align: middle;\n",
       "    }\n",
       "\n",
       "    .dataframe tbody tr th {\n",
       "        vertical-align: top;\n",
       "    }\n",
       "\n",
       "    .dataframe thead th {\n",
       "        text-align: right;\n",
       "    }\n",
       "</style>\n",
       "<table border=\"1\" class=\"dataframe\">\n",
       "  <thead>\n",
       "    <tr style=\"text-align: right;\">\n",
       "      <th></th>\n",
       "      <th>Date</th>\n",
       "      <th>Review</th>\n",
       "      <th>Review Lemma</th>\n",
       "      <th>Date Formatted</th>\n",
       "      <th>Topics</th>\n",
       "      <th>Names</th>\n",
       "      <th>Representation</th>\n",
       "      <th>Representative_Docs</th>\n",
       "    </tr>\n",
       "  </thead>\n",
       "  <tbody>\n",
       "    <tr>\n",
       "      <th>0</th>\n",
       "      <td>4 de dezembro de 2023</td>\n",
       "      <td>Atendimento maravilhoso! Matheus foi muito ate...</td>\n",
       "      <td>atendimento maravilhoso matheu muito atencioso...</td>\n",
       "      <td>2023-12-04</td>\n",
       "      <td>-1</td>\n",
       "      <td>-1_muito_bom_atendimento_comida</td>\n",
       "      <td>[muito, bom, atendimento, comida, lugar, bem, ...</td>\n",
       "      <td>[lugar muito bom agradável comida bom atendime...</td>\n",
       "    </tr>\n",
       "    <tr>\n",
       "      <th>1</th>\n",
       "      <td>2 de dezembro de 2023</td>\n",
       "      <td>Gostei muito dos pratos e do atendimento. Muit...</td>\n",
       "      <td>gostar muito prato atendimento solicito comida...</td>\n",
       "      <td>2023-12-02</td>\n",
       "      <td>17</td>\n",
       "      <td>17_voltarei_certeza_voltar_voltaremos</td>\n",
       "      <td>[voltarei, certeza, voltar, voltaremos, delici...</td>\n",
       "      <td>[bom curtir amigo ambiente bem decorado comida...</td>\n",
       "    </tr>\n",
       "    <tr>\n",
       "      <th>2</th>\n",
       "      <td>1 de dezembro de 2023</td>\n",
       "      <td>Eu amei, é a melhor cozinha mexicana que eu já...</td>\n",
       "      <td>ameir bom cozinha mexicano já comi espaço muit...</td>\n",
       "      <td>2023-12-01</td>\n",
       "      <td>0</td>\n",
       "      <td>0_mexicano_guacamole_restaurante_comida</td>\n",
       "      <td>[mexicano, guacamole, restaurante, comida, mai...</td>\n",
       "      <td>[comer ótimo preço bom atendimento maravilhoso...</td>\n",
       "    </tr>\n",
       "    <tr>\n",
       "      <th>3</th>\n",
       "      <td>29 de novembro de 2023</td>\n",
       "      <td>Ótimo ambiente e decoração, funcionários prest...</td>\n",
       "      <td>bom ambiente decoração funcionário prestativo ...</td>\n",
       "      <td>2023-11-29</td>\n",
       "      <td>1</td>\n",
       "      <td>1_música_bom_ambiente_muito</td>\n",
       "      <td>[música, bom, ambiente, muito, musica, atendim...</td>\n",
       "      <td>[atendimento excelente bom comida ambiente div...</td>\n",
       "    </tr>\n",
       "    <tr>\n",
       "      <th>4</th>\n",
       "      <td>27 de novembro de 2023</td>\n",
       "      <td>Amomamos o atendimento do Matheus e do, tudo ó...</td>\n",
       "      <td>amoma atendimento matheu bom amar atendimento ...</td>\n",
       "      <td>2023-11-27</td>\n",
       "      <td>-1</td>\n",
       "      <td>-1_muito_bom_atendimento_comida</td>\n",
       "      <td>[muito, bom, atendimento, comida, lugar, bem, ...</td>\n",
       "      <td>[lugar muito bom agradável comida bom atendime...</td>\n",
       "    </tr>\n",
       "  </tbody>\n",
       "</table>\n",
       "</div>"
      ],
      "text/plain": [
       "                     Date                                             Review  \\\n",
       "0   4 de dezembro de 2023  Atendimento maravilhoso! Matheus foi muito ate...   \n",
       "1   2 de dezembro de 2023  Gostei muito dos pratos e do atendimento. Muit...   \n",
       "2   1 de dezembro de 2023  Eu amei, é a melhor cozinha mexicana que eu já...   \n",
       "3  29 de novembro de 2023  Ótimo ambiente e decoração, funcionários prest...   \n",
       "4  27 de novembro de 2023  Amomamos o atendimento do Matheus e do, tudo ó...   \n",
       "\n",
       "                                        Review Lemma Date Formatted  Topics  \\\n",
       "0  atendimento maravilhoso matheu muito atencioso...     2023-12-04      -1   \n",
       "1  gostar muito prato atendimento solicito comida...     2023-12-02      17   \n",
       "2  ameir bom cozinha mexicano já comi espaço muit...     2023-12-01       0   \n",
       "3  bom ambiente decoração funcionário prestativo ...     2023-11-29       1   \n",
       "4  amoma atendimento matheu bom amar atendimento ...     2023-11-27      -1   \n",
       "\n",
       "                                     Names  \\\n",
       "0          -1_muito_bom_atendimento_comida   \n",
       "1    17_voltarei_certeza_voltar_voltaremos   \n",
       "2  0_mexicano_guacamole_restaurante_comida   \n",
       "3              1_música_bom_ambiente_muito   \n",
       "4          -1_muito_bom_atendimento_comida   \n",
       "\n",
       "                                      Representation  \\\n",
       "0  [muito, bom, atendimento, comida, lugar, bem, ...   \n",
       "1  [voltarei, certeza, voltar, voltaremos, delici...   \n",
       "2  [mexicano, guacamole, restaurante, comida, mai...   \n",
       "3  [música, bom, ambiente, muito, musica, atendim...   \n",
       "4  [muito, bom, atendimento, comida, lugar, bem, ...   \n",
       "\n",
       "                                 Representative_Docs  \n",
       "0  [lugar muito bom agradável comida bom atendime...  \n",
       "1  [bom curtir amigo ambiente bem decorado comida...  \n",
       "2  [comer ótimo preço bom atendimento maravilhoso...  \n",
       "3  [atendimento excelente bom comida ambiente div...  \n",
       "4  [lugar muito bom agradável comida bom atendime...  "
      ]
     },
     "execution_count": 18,
     "metadata": {},
     "output_type": "execute_result"
    }
   ],
   "source": [
    "df_topics = df_reviews.copy()\n",
    "\n",
    "df_topics[\"Topics\"] = topics\n",
    "\n",
    "topic_name = freq.drop(columns=[\"Count\"]).rename(columns={\"Topic\": \"Topics\", \"Name\": \"Names\"})\n",
    "df_topics = df_topics.merge(topic_name, how=\"left\")\n",
    "\n",
    "df_topics.head()"
   ]
  },
  {
   "cell_type": "markdown",
   "metadata": {},
   "source": [
    "# Análise de Sentimentos"
   ]
  },
  {
   "cell_type": "code",
   "execution_count": 19,
   "metadata": {},
   "outputs": [],
   "source": [
    "from transformers import AutoTokenizer  # Or BertTokenizer\n",
    "from transformers import AutoModelForSequenceClassification  # Or BertForPreTraining for loading pretraining heads\n",
    "from transformers import AutoModel  # or BertModel, for BERT without pretraining heads\n",
    "from transformers import pipeline\n",
    "\n",
    "model = AutoModelForSequenceClassification.from_pretrained('lxyuan/distilbert-base-multilingual-cased-sentiments-student')\n",
    "tokenizer = AutoTokenizer.from_pretrained('lxyuan/distilbert-base-multilingual-cased-sentiments-student', do_lower_case=False)\n",
    "sentiment_task = pipeline(\"sentiment-analysis\", model=model, tokenizer=tokenizer)"
   ]
  },
  {
   "cell_type": "code",
   "execution_count": 20,
   "metadata": {},
   "outputs": [
    {
     "data": {
      "text/plain": [
       "[{'label': 'positive', 'score': 0.9528123140335083}]"
      ]
     },
     "execution_count": 20,
     "metadata": {},
     "output_type": "execute_result"
    }
   ],
   "source": [
    "sentiment_task(\"Eu sou feliz\")"
   ]
  },
  {
   "cell_type": "markdown",
   "metadata": {},
   "source": [
    "#### Classificação das avaliações e salvamento dos resultados no DataFrame"
   ]
  },
  {
   "cell_type": "code",
   "execution_count": 21,
   "metadata": {},
   "outputs": [
    {
     "name": "stdout",
     "output_type": "stream",
     "text": [
      "CPU times: total: 29min 9s\n",
      "Wall time: 4min 53s\n"
     ]
    }
   ],
   "source": [
    "%%time\n",
    "\n",
    "df_topics[\"Sentiment\"] = df_topics[\"Review\"].apply(lambda x: sentiment_task(x)[0][\"label\"])\n",
    "df_topics[\"Sentiment Score\"] = df_topics[\"Review\"].apply(lambda x: sentiment_task(x)[0][\"score\"])    "
   ]
  },
  {
   "cell_type": "code",
   "execution_count": 22,
   "metadata": {},
   "outputs": [
    {
     "data": {
      "text/html": [
       "<div>\n",
       "<style scoped>\n",
       "    .dataframe tbody tr th:only-of-type {\n",
       "        vertical-align: middle;\n",
       "    }\n",
       "\n",
       "    .dataframe tbody tr th {\n",
       "        vertical-align: top;\n",
       "    }\n",
       "\n",
       "    .dataframe thead th {\n",
       "        text-align: right;\n",
       "    }\n",
       "</style>\n",
       "<table border=\"1\" class=\"dataframe\">\n",
       "  <thead>\n",
       "    <tr style=\"text-align: right;\">\n",
       "      <th></th>\n",
       "      <th>Date</th>\n",
       "      <th>Review</th>\n",
       "      <th>Review Lemma</th>\n",
       "      <th>Date Formatted</th>\n",
       "      <th>Topics</th>\n",
       "      <th>Names</th>\n",
       "      <th>Representation</th>\n",
       "      <th>Representative_Docs</th>\n",
       "      <th>Sentiment</th>\n",
       "      <th>Sentiment Score</th>\n",
       "    </tr>\n",
       "  </thead>\n",
       "  <tbody>\n",
       "    <tr>\n",
       "      <th>0</th>\n",
       "      <td>4 de dezembro de 2023</td>\n",
       "      <td>Atendimento maravilhoso! Matheus foi muito ate...</td>\n",
       "      <td>atendimento maravilhoso matheu muito atencioso...</td>\n",
       "      <td>2023-12-04</td>\n",
       "      <td>-1</td>\n",
       "      <td>-1_muito_bom_atendimento_comida</td>\n",
       "      <td>[muito, bom, atendimento, comida, lugar, bem, ...</td>\n",
       "      <td>[lugar muito bom agradável comida bom atendime...</td>\n",
       "      <td>positive</td>\n",
       "      <td>0.989543</td>\n",
       "    </tr>\n",
       "    <tr>\n",
       "      <th>1</th>\n",
       "      <td>2 de dezembro de 2023</td>\n",
       "      <td>Gostei muito dos pratos e do atendimento. Muit...</td>\n",
       "      <td>gostar muito prato atendimento solicito comida...</td>\n",
       "      <td>2023-12-02</td>\n",
       "      <td>17</td>\n",
       "      <td>17_voltarei_certeza_voltar_voltaremos</td>\n",
       "      <td>[voltarei, certeza, voltar, voltaremos, delici...</td>\n",
       "      <td>[bom curtir amigo ambiente bem decorado comida...</td>\n",
       "      <td>positive</td>\n",
       "      <td>0.626670</td>\n",
       "    </tr>\n",
       "    <tr>\n",
       "      <th>2</th>\n",
       "      <td>1 de dezembro de 2023</td>\n",
       "      <td>Eu amei, é a melhor cozinha mexicana que eu já...</td>\n",
       "      <td>ameir bom cozinha mexicano já comi espaço muit...</td>\n",
       "      <td>2023-12-01</td>\n",
       "      <td>0</td>\n",
       "      <td>0_mexicano_guacamole_restaurante_comida</td>\n",
       "      <td>[mexicano, guacamole, restaurante, comida, mai...</td>\n",
       "      <td>[comer ótimo preço bom atendimento maravilhoso...</td>\n",
       "      <td>positive</td>\n",
       "      <td>0.967855</td>\n",
       "    </tr>\n",
       "    <tr>\n",
       "      <th>3</th>\n",
       "      <td>29 de novembro de 2023</td>\n",
       "      <td>Ótimo ambiente e decoração, funcionários prest...</td>\n",
       "      <td>bom ambiente decoração funcionário prestativo ...</td>\n",
       "      <td>2023-11-29</td>\n",
       "      <td>1</td>\n",
       "      <td>1_música_bom_ambiente_muito</td>\n",
       "      <td>[música, bom, ambiente, muito, musica, atendim...</td>\n",
       "      <td>[atendimento excelente bom comida ambiente div...</td>\n",
       "      <td>positive</td>\n",
       "      <td>0.940317</td>\n",
       "    </tr>\n",
       "    <tr>\n",
       "      <th>4</th>\n",
       "      <td>27 de novembro de 2023</td>\n",
       "      <td>Amomamos o atendimento do Matheus e do, tudo ó...</td>\n",
       "      <td>amoma atendimento matheu bom amar atendimento ...</td>\n",
       "      <td>2023-11-27</td>\n",
       "      <td>-1</td>\n",
       "      <td>-1_muito_bom_atendimento_comida</td>\n",
       "      <td>[muito, bom, atendimento, comida, lugar, bem, ...</td>\n",
       "      <td>[lugar muito bom agradável comida bom atendime...</td>\n",
       "      <td>positive</td>\n",
       "      <td>0.979101</td>\n",
       "    </tr>\n",
       "  </tbody>\n",
       "</table>\n",
       "</div>"
      ],
      "text/plain": [
       "                     Date                                             Review  \\\n",
       "0   4 de dezembro de 2023  Atendimento maravilhoso! Matheus foi muito ate...   \n",
       "1   2 de dezembro de 2023  Gostei muito dos pratos e do atendimento. Muit...   \n",
       "2   1 de dezembro de 2023  Eu amei, é a melhor cozinha mexicana que eu já...   \n",
       "3  29 de novembro de 2023  Ótimo ambiente e decoração, funcionários prest...   \n",
       "4  27 de novembro de 2023  Amomamos o atendimento do Matheus e do, tudo ó...   \n",
       "\n",
       "                                        Review Lemma Date Formatted  Topics  \\\n",
       "0  atendimento maravilhoso matheu muito atencioso...     2023-12-04      -1   \n",
       "1  gostar muito prato atendimento solicito comida...     2023-12-02      17   \n",
       "2  ameir bom cozinha mexicano já comi espaço muit...     2023-12-01       0   \n",
       "3  bom ambiente decoração funcionário prestativo ...     2023-11-29       1   \n",
       "4  amoma atendimento matheu bom amar atendimento ...     2023-11-27      -1   \n",
       "\n",
       "                                     Names  \\\n",
       "0          -1_muito_bom_atendimento_comida   \n",
       "1    17_voltarei_certeza_voltar_voltaremos   \n",
       "2  0_mexicano_guacamole_restaurante_comida   \n",
       "3              1_música_bom_ambiente_muito   \n",
       "4          -1_muito_bom_atendimento_comida   \n",
       "\n",
       "                                      Representation  \\\n",
       "0  [muito, bom, atendimento, comida, lugar, bem, ...   \n",
       "1  [voltarei, certeza, voltar, voltaremos, delici...   \n",
       "2  [mexicano, guacamole, restaurante, comida, mai...   \n",
       "3  [música, bom, ambiente, muito, musica, atendim...   \n",
       "4  [muito, bom, atendimento, comida, lugar, bem, ...   \n",
       "\n",
       "                                 Representative_Docs Sentiment  \\\n",
       "0  [lugar muito bom agradável comida bom atendime...  positive   \n",
       "1  [bom curtir amigo ambiente bem decorado comida...  positive   \n",
       "2  [comer ótimo preço bom atendimento maravilhoso...  positive   \n",
       "3  [atendimento excelente bom comida ambiente div...  positive   \n",
       "4  [lugar muito bom agradável comida bom atendime...  positive   \n",
       "\n",
       "   Sentiment Score  \n",
       "0         0.989543  \n",
       "1         0.626670  \n",
       "2         0.967855  \n",
       "3         0.940317  \n",
       "4         0.979101  "
      ]
     },
     "execution_count": 22,
     "metadata": {},
     "output_type": "execute_result"
    }
   ],
   "source": [
    "df_topics.head()"
   ]
  },
  {
   "cell_type": "code",
   "execution_count": 23,
   "metadata": {},
   "outputs": [],
   "source": [
    "df_topics.to_csv('guacamole_topics_sentiment.csv', index=False)"
   ]
  },
  {
   "cell_type": "code",
   "execution_count": 24,
   "metadata": {},
   "outputs": [
    {
     "data": {
      "text/plain": [
       "Sentiment\n",
       "positive    2648\n",
       "negative     218\n",
       "neutral        6\n",
       "Name: count, dtype: int64"
      ]
     },
     "execution_count": 24,
     "metadata": {},
     "output_type": "execute_result"
    }
   ],
   "source": [
    "count_sentiment = df_topics[\"Sentiment\"].value_counts()\n",
    "count_sentiment"
   ]
  }
 ],
 "metadata": {
  "kernelspec": {
   "display_name": "tcc",
   "language": "python",
   "name": "python3"
  },
  "language_info": {
   "codemirror_mode": {
    "name": "ipython",
    "version": 3
   },
   "file_extension": ".py",
   "mimetype": "text/x-python",
   "name": "python",
   "nbconvert_exporter": "python",
   "pygments_lexer": "ipython3",
   "version": "3.9.18"
  }
 },
 "nbformat": 4,
 "nbformat_minor": 2
}
