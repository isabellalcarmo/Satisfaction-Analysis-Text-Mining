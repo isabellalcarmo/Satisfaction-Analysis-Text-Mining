{
 "cells": [
  {
   "cell_type": "markdown",
   "metadata": {},
   "source": [
    "# Análise de Tópicos"
   ]
  },
  {
   "cell_type": "markdown",
   "metadata": {},
   "source": [
    "#### Importação de Bibliotecas"
   ]
  },
  {
   "cell_type": "code",
   "execution_count": 1,
   "metadata": {},
   "outputs": [],
   "source": [
    "import pandas as pd\n",
    "import spacy\n",
    "from bertopic import BERTopic\n",
    "\n",
    "from collections import Counter\n",
    "\n",
    "import re\n",
    "from datetime import datetime\n",
    "\n",
    "import warnings\n",
    "warnings.filterwarnings(\"ignore\")"
   ]
  },
  {
   "cell_type": "code",
   "execution_count": 2,
   "metadata": {},
   "outputs": [
    {
     "name": "stderr",
     "output_type": "stream",
     "text": [
      "[nltk_data] Downloading package stopwords to\n",
      "[nltk_data]     C:\\Users\\isabe\\AppData\\Roaming\\nltk_data...\n",
      "[nltk_data]   Package stopwords is already up-to-date!\n",
      "[nltk_data] Downloading package rslp to\n",
      "[nltk_data]     C:\\Users\\isabe\\AppData\\Roaming\\nltk_data...\n",
      "[nltk_data]   Package rslp is already up-to-date!\n"
     ]
    }
   ],
   "source": [
    "from gensim.utils import simple_preprocess\n",
    "\n",
    "import nltk\n",
    "nltk.download([\"stopwords\", \"rslp\"])\n",
    "stopwords = nltk.corpus.stopwords.words(\"portuguese\")"
   ]
  },
  {
   "cell_type": "code",
   "execution_count": 3,
   "metadata": {},
   "outputs": [],
   "source": [
    "from transformers import AutoTokenizer  # Or BertTokenizer\n",
    "from transformers import AutoModelForSequenceClassification  # Or BertForPreTraining for loading pretraining heads\n",
    "from transformers import AutoModelForTokenClassification\n",
    "from transformers import AutoModel  # or BertModel, for BERT without pretraining heads\n",
    "from transformers import pipeline\n",
    "import torch"
   ]
  },
  {
   "cell_type": "markdown",
   "metadata": {},
   "source": [
    "#### Leitura do arquivo"
   ]
  },
  {
   "cell_type": "markdown",
   "metadata": {},
   "source": [
    "O arquivo com os dados da avaliação do restaurante Guacamole, retirados da plataforma TripAdvisor em https://www.tripadvisor.com.br/Restaurant_Review-g303506-d3399400-Reviews-or2000-Guacamole_Cocina_Mexicana_Barra_da_Tijuca-Rio_de_Janeiro_State_of_Rio_de_J.html possui os comentários dos usuários em relação às suas respectivas avaliações do restaurante e a data de tal avaliação."
   ]
  },
  {
   "cell_type": "code",
   "execution_count": 4,
   "metadata": {},
   "outputs": [
    {
     "data": {
      "text/html": [
       "<div>\n",
       "<style scoped>\n",
       "    .dataframe tbody tr th:only-of-type {\n",
       "        vertical-align: middle;\n",
       "    }\n",
       "\n",
       "    .dataframe tbody tr th {\n",
       "        vertical-align: top;\n",
       "    }\n",
       "\n",
       "    .dataframe thead th {\n",
       "        text-align: right;\n",
       "    }\n",
       "</style>\n",
       "<table border=\"1\" class=\"dataframe\">\n",
       "  <thead>\n",
       "    <tr style=\"text-align: right;\">\n",
       "      <th></th>\n",
       "      <th>Date</th>\n",
       "      <th>Review</th>\n",
       "    </tr>\n",
       "  </thead>\n",
       "  <tbody>\n",
       "    <tr>\n",
       "      <th>0</th>\n",
       "      <td>4 de dezembro de 2023</td>\n",
       "      <td>Atendimento maravilhoso! Matheus foi muito ate...</td>\n",
       "    </tr>\n",
       "    <tr>\n",
       "      <th>1</th>\n",
       "      <td>2 de dezembro de 2023</td>\n",
       "      <td>Gostei muito dos pratos e do atendimento. Muit...</td>\n",
       "    </tr>\n",
       "    <tr>\n",
       "      <th>2</th>\n",
       "      <td>1 de dezembro de 2023</td>\n",
       "      <td>Eu amei, é a melhor cozinha mexicana que eu já...</td>\n",
       "    </tr>\n",
       "    <tr>\n",
       "      <th>3</th>\n",
       "      <td>29 de novembro de 2023</td>\n",
       "      <td>Ótimo ambiente e decoração, funcionários prest...</td>\n",
       "    </tr>\n",
       "    <tr>\n",
       "      <th>4</th>\n",
       "      <td>27 de novembro de 2023</td>\n",
       "      <td>Amomamos o atendimento do Matheus e do, tudo ó...</td>\n",
       "    </tr>\n",
       "  </tbody>\n",
       "</table>\n",
       "</div>"
      ],
      "text/plain": [
       "                     Date                                             Review\n",
       "0   4 de dezembro de 2023  Atendimento maravilhoso! Matheus foi muito ate...\n",
       "1   2 de dezembro de 2023  Gostei muito dos pratos e do atendimento. Muit...\n",
       "2   1 de dezembro de 2023  Eu amei, é a melhor cozinha mexicana que eu já...\n",
       "3  29 de novembro de 2023  Ótimo ambiente e decoração, funcionários prest...\n",
       "4  27 de novembro de 2023  Amomamos o atendimento do Matheus e do, tudo ó..."
      ]
     },
     "execution_count": 4,
     "metadata": {},
     "output_type": "execute_result"
    }
   ],
   "source": [
    "df_reviews = pd.read_csv(\"guacamole_reviews.csv\")\n",
    "df_reviews.head()"
   ]
  },
  {
   "cell_type": "code",
   "execution_count": 6,
   "metadata": {},
   "outputs": [],
   "source": [
    "df_comments = df_reviews[\"Review\"]\n",
    "df_dates = df_reviews[\"Date\"]"
   ]
  },
  {
   "cell_type": "markdown",
   "metadata": {},
   "source": [
    "#### Limpeza dos dados"
   ]
  },
  {
   "cell_type": "markdown",
   "metadata": {},
   "source": [
    "As funções em seguir estão relacionadas ao pré-processamento de texto em linguagem natural utilizando o português. \n",
    "- A função ```remove_stopwords``` realiza a remoção de palavras de parada (stopwords) de textos em português. \n",
    "- A função ```lemmatizer``` realiza a lematização de um texto em português, preservando apenas certas classes gramaticais.\n",
    "- A função ```parse_date``` realiza a conversão de uma data no formato \"(dia) de (mês) de (ano)\" para \"YYYY-MM-DD\"."
   ]
  },
  {
   "cell_type": "code",
   "execution_count": 7,
   "metadata": {},
   "outputs": [],
   "source": [
    "def remove_stopwords(text):\n",
    "    words = simple_preprocess(text)\n",
    "    phrase_adjusted = \" \".join([word for word in words if word not in stopwords])\n",
    "    return phrase_adjusted.lower()\n",
    "\n",
    "spacy_lemma = spacy.load(\"pt_core_news_sm\")\n",
    "\n",
    "def lemmatizer(text, postags_permit=['NOUN', 'ADJ', 'VERB', 'ADV']):\n",
    "    \"\"\"https://spacy.io/api/annotation\"\"\"\n",
    "    doc = spacy_lemma(text.lower())\n",
    "    doc_lemma = \" \".join([token.lemma_ for token in doc if token.pos_ in postags_permit])\n",
    "    return doc_lemma"
   ]
  },
  {
   "cell_type": "code",
   "execution_count": 8,
   "metadata": {},
   "outputs": [],
   "source": [
    "def parse_date(date_str):\n",
    "    months = {\n",
    "        'janeiro': 'January', 'fevereiro': 'February', 'março': 'March', 'abril': 'April',\n",
    "        'maio': 'May', 'junho': 'June', 'julho': 'July', 'agosto': 'August',\n",
    "        'setembro': 'September', 'outubro': 'October', 'novembro': 'November', 'dezembro': 'December'\n",
    "    }\n",
    "    match = re.match(r'(\\d+) de (\\w+) de (\\d+)', date_str)\n",
    "    if match:\n",
    "        day, month, year = match.groups()\n",
    "        month = months[month.lower()]\n",
    "        return datetime(int(year), list(months.values()).index(month) + 1, int(day)).strftime(\"%Y-%m-%d\")\n",
    "    else:\n",
    "        return None"
   ]
  },
  {
   "cell_type": "markdown",
   "metadata": {},
   "source": [
    "Aplicamos as mudanças nos comentários das avaliações e adicionamos uma nova coluna no DataFrame com os resultados obtidos."
   ]
  },
  {
   "cell_type": "code",
   "execution_count": 9,
   "metadata": {},
   "outputs": [
    {
     "name": "stdout",
     "output_type": "stream",
     "text": [
      "CPU times: total: 15 s\n",
      "Wall time: 40.9 s\n"
     ]
    }
   ],
   "source": [
    "%%time\n",
    "\n",
    "df_reviews[\"Review Lemma\"] = df_reviews[\"Review\"].map(remove_stopwords)\n",
    "df_reviews[\"Review Lemma\"] = df_reviews[\"Review\"].map(lemmatizer)"
   ]
  },
  {
   "cell_type": "code",
   "execution_count": 9,
   "metadata": {},
   "outputs": [],
   "source": [
    "# df_reviews[\"Date Formatted\"] = df_reviews[\"Date\"].apply(parse_date)"
   ]
  },
  {
   "cell_type": "code",
   "execution_count": 10,
   "metadata": {},
   "outputs": [
    {
     "data": {
      "text/html": [
       "<div>\n",
       "<style scoped>\n",
       "    .dataframe tbody tr th:only-of-type {\n",
       "        vertical-align: middle;\n",
       "    }\n",
       "\n",
       "    .dataframe tbody tr th {\n",
       "        vertical-align: top;\n",
       "    }\n",
       "\n",
       "    .dataframe thead th {\n",
       "        text-align: right;\n",
       "    }\n",
       "</style>\n",
       "<table border=\"1\" class=\"dataframe\">\n",
       "  <thead>\n",
       "    <tr style=\"text-align: right;\">\n",
       "      <th></th>\n",
       "      <th>Date</th>\n",
       "      <th>Review</th>\n",
       "      <th>Review Lemma</th>\n",
       "    </tr>\n",
       "  </thead>\n",
       "  <tbody>\n",
       "    <tr>\n",
       "      <th>0</th>\n",
       "      <td>4 de dezembro de 2023</td>\n",
       "      <td>Atendimento maravilhoso! Matheus foi muito ate...</td>\n",
       "      <td>atendimento maravilhoso matheu muito atencioso...</td>\n",
       "    </tr>\n",
       "    <tr>\n",
       "      <th>1</th>\n",
       "      <td>2 de dezembro de 2023</td>\n",
       "      <td>Gostei muito dos pratos e do atendimento. Muit...</td>\n",
       "      <td>gostar muito prato atendimento solicito comida...</td>\n",
       "    </tr>\n",
       "    <tr>\n",
       "      <th>2</th>\n",
       "      <td>1 de dezembro de 2023</td>\n",
       "      <td>Eu amei, é a melhor cozinha mexicana que eu já...</td>\n",
       "      <td>ameir bom cozinha mexicano já comi espaço muit...</td>\n",
       "    </tr>\n",
       "    <tr>\n",
       "      <th>3</th>\n",
       "      <td>29 de novembro de 2023</td>\n",
       "      <td>Ótimo ambiente e decoração, funcionários prest...</td>\n",
       "      <td>bom ambiente decoração funcionário prestativo ...</td>\n",
       "    </tr>\n",
       "    <tr>\n",
       "      <th>4</th>\n",
       "      <td>27 de novembro de 2023</td>\n",
       "      <td>Amomamos o atendimento do Matheus e do, tudo ó...</td>\n",
       "      <td>amoma atendimento matheu bom amar atendimento ...</td>\n",
       "    </tr>\n",
       "  </tbody>\n",
       "</table>\n",
       "</div>"
      ],
      "text/plain": [
       "                     Date                                             Review  \\\n",
       "0   4 de dezembro de 2023  Atendimento maravilhoso! Matheus foi muito ate...   \n",
       "1   2 de dezembro de 2023  Gostei muito dos pratos e do atendimento. Muit...   \n",
       "2   1 de dezembro de 2023  Eu amei, é a melhor cozinha mexicana que eu já...   \n",
       "3  29 de novembro de 2023  Ótimo ambiente e decoração, funcionários prest...   \n",
       "4  27 de novembro de 2023  Amomamos o atendimento do Matheus e do, tudo ó...   \n",
       "\n",
       "                                        Review Lemma  \n",
       "0  atendimento maravilhoso matheu muito atencioso...  \n",
       "1  gostar muito prato atendimento solicito comida...  \n",
       "2  ameir bom cozinha mexicano já comi espaço muit...  \n",
       "3  bom ambiente decoração funcionário prestativo ...  \n",
       "4  amoma atendimento matheu bom amar atendimento ...  "
      ]
     },
     "execution_count": 10,
     "metadata": {},
     "output_type": "execute_result"
    }
   ],
   "source": [
    "df_reviews.head()"
   ]
  },
  {
   "cell_type": "code",
   "execution_count": 11,
   "metadata": {},
   "outputs": [
    {
     "data": {
      "text/plain": [
       "['atendimento maravilhoso matheu muito atencioso colocar playlist atendente super simpatico',\n",
       " 'gostar muito prato atendimento solicito comida saboroso certeza voltar mais vez',\n",
       " 'ameir bom cozinha mexicano já comi espaço muito animar imersivo decoração casa linda atendimento excelente sempre',\n",
       " 'bom ambiente decoração funcionário prestativo comida boa música agradável divertido mariachi',\n",
       " 'amoma atendimento matheu bom amar atendimento sensacional comida muito saboroso']"
      ]
     },
     "execution_count": 11,
     "metadata": {},
     "output_type": "execute_result"
    }
   ],
   "source": [
    "df_comments = df_reviews[\"Review Lemma\"]\n",
    "doc_comments = df_comments.to_list()\n",
    "doc_comments[:5]"
   ]
  },
  {
   "cell_type": "markdown",
   "metadata": {},
   "source": [
    "#### BERTopic"
   ]
  },
  {
   "cell_type": "markdown",
   "metadata": {},
   "source": [
    "Utilizando os parâmetros padronizados do BERTopic, obteremos os tópicos, do mais frequente ao menos frequente. \n",
    "- Se desejamos visualizar a frequência de cada tópico, podemos utilizar ```get_topic_freq()``` para obter os valores.\n",
    "- Se desejamos visualizar as informações de todos os tópicos obtidos, podemos utilizar ```get_topic_info()``` para obter o número de documentos que estão relacionados a cada tópico e o nome dele, além de suas representações textuais.\n",
    "- Se desejamos visualizar as informações de um tópico em específico, podemos utilizar o ```get_topic()``` para obter as palavras que pertencem ao tópico e os seus _scores_ de c-TF-IDF, ou seja, uma representação numérica do quão frequente e única aquela palavra é para o documento.\n",
    "\n",
    "Vale lembrar que o tópico de número **-1** refere-se a todos os valores discrepantes e normalmente deve ser ignorado."
   ]
  },
  {
   "cell_type": "code",
   "execution_count": 15,
   "metadata": {},
   "outputs": [
    {
     "name": "stderr",
     "output_type": "stream",
     "text": [
      "2024-01-27 15:06:23,002 - BERTopic - Embedding - Transforming documents to embeddings.\n"
     ]
    },
    {
     "data": {
      "application/vnd.jupyter.widget-view+json": {
       "model_id": "0475472d9df64815bc80350aebdad451",
       "version_major": 2,
       "version_minor": 0
      },
      "text/plain": [
       "Batches:   0%|          | 0/90 [00:00<?, ?it/s]"
      ]
     },
     "metadata": {},
     "output_type": "display_data"
    },
    {
     "name": "stderr",
     "output_type": "stream",
     "text": [
      "2024-01-27 15:07:36,304 - BERTopic - Embedding - Completed ✓\n",
      "2024-01-27 15:07:36,308 - BERTopic - Dimensionality - Fitting the dimensionality reduction algorithm\n",
      "2024-01-27 15:07:56,558 - BERTopic - Dimensionality - Completed ✓\n",
      "2024-01-27 15:07:56,562 - BERTopic - Cluster - Start clustering the reduced embeddings\n",
      "2024-01-27 15:07:57,015 - BERTopic - Cluster - Completed ✓\n",
      "2024-01-27 15:07:57,019 - BERTopic - Representation - Extracting topics from clusters using representation models.\n",
      "2024-01-27 15:07:57,192 - BERTopic - Representation - Completed ✓\n"
     ]
    },
    {
     "name": "stdout",
     "output_type": "stream",
     "text": [
      "CPU times: total: 5min 45s\n",
      "Wall time: 1min 34s\n"
     ]
    }
   ],
   "source": [
    "%%time\n",
    "\n",
    "topic_model = BERTopic(language=\"portuguese\", calculate_probabilities=True, verbose=True)\n",
    "topics, probs = topic_model.fit_transform(doc_comments)"
   ]
  },
  {
   "cell_type": "code",
   "execution_count": 16,
   "metadata": {},
   "outputs": [
    {
     "data": {
      "text/html": [
       "<div>\n",
       "<style scoped>\n",
       "    .dataframe tbody tr th:only-of-type {\n",
       "        vertical-align: middle;\n",
       "    }\n",
       "\n",
       "    .dataframe tbody tr th {\n",
       "        vertical-align: top;\n",
       "    }\n",
       "\n",
       "    .dataframe thead th {\n",
       "        text-align: right;\n",
       "    }\n",
       "</style>\n",
       "<table border=\"1\" class=\"dataframe\">\n",
       "  <thead>\n",
       "    <tr style=\"text-align: right;\">\n",
       "      <th></th>\n",
       "      <th>Topic</th>\n",
       "      <th>Count</th>\n",
       "      <th>Name</th>\n",
       "      <th>Representation</th>\n",
       "      <th>Representative_Docs</th>\n",
       "    </tr>\n",
       "  </thead>\n",
       "  <tbody>\n",
       "    <tr>\n",
       "      <th>0</th>\n",
       "      <td>-1</td>\n",
       "      <td>330</td>\n",
       "      <td>-1_muito_lugar_bom_atendimento</td>\n",
       "      <td>[muito, lugar, bom, atendimento, bem, mais, an...</td>\n",
       "      <td>[muito bom divertir amigo família comer comida...</td>\n",
       "    </tr>\n",
       "    <tr>\n",
       "      <th>1</th>\n",
       "      <td>0</td>\n",
       "      <td>530</td>\n",
       "      <td>0_mexicano_comida_restaurante_bom</td>\n",
       "      <td>[mexicano, comida, restaurante, bom, mais, mui...</td>\n",
       "      <td>[atendimento excelente comida muito bom ambien...</td>\n",
       "    </tr>\n",
       "    <tr>\n",
       "      <th>2</th>\n",
       "      <td>1</td>\n",
       "      <td>380</td>\n",
       "      <td>1_bom_comida_atendimento_muito</td>\n",
       "      <td>[bom, comida, atendimento, muito, comer, ambie...</td>\n",
       "      <td>[lugar muito agradável curtir amigo bom atendi...</td>\n",
       "    </tr>\n",
       "    <tr>\n",
       "      <th>3</th>\n",
       "      <td>2</td>\n",
       "      <td>347</td>\n",
       "      <td>2_música_bom_ambiente_muito</td>\n",
       "      <td>[música, bom, ambiente, muito, musica, atendim...</td>\n",
       "      <td>[atendimento excelente bom comida ambiente div...</td>\n",
       "    </tr>\n",
       "    <tr>\n",
       "      <th>4</th>\n",
       "      <td>3</td>\n",
       "      <td>240</td>\n",
       "      <td>3_aniversário_comemorar_amigo_muito</td>\n",
       "      <td>[aniversário, comemorar, amigo, muito, bom, lu...</td>\n",
       "      <td>[bom atendimento garçom simpático bom lugar ir...</td>\n",
       "    </tr>\n",
       "  </tbody>\n",
       "</table>\n",
       "</div>"
      ],
      "text/plain": [
       "   Topic  Count                                 Name  \\\n",
       "0     -1    330       -1_muito_lugar_bom_atendimento   \n",
       "1      0    530    0_mexicano_comida_restaurante_bom   \n",
       "2      1    380       1_bom_comida_atendimento_muito   \n",
       "3      2    347          2_música_bom_ambiente_muito   \n",
       "4      3    240  3_aniversário_comemorar_amigo_muito   \n",
       "\n",
       "                                      Representation  \\\n",
       "0  [muito, lugar, bom, atendimento, bem, mais, an...   \n",
       "1  [mexicano, comida, restaurante, bom, mais, mui...   \n",
       "2  [bom, comida, atendimento, muito, comer, ambie...   \n",
       "3  [música, bom, ambiente, muito, musica, atendim...   \n",
       "4  [aniversário, comemorar, amigo, muito, bom, lu...   \n",
       "\n",
       "                                 Representative_Docs  \n",
       "0  [muito bom divertir amigo família comer comida...  \n",
       "1  [atendimento excelente comida muito bom ambien...  \n",
       "2  [lugar muito agradável curtir amigo bom atendi...  \n",
       "3  [atendimento excelente bom comida ambiente div...  \n",
       "4  [bom atendimento garçom simpático bom lugar ir...  "
      ]
     },
     "execution_count": 16,
     "metadata": {},
     "output_type": "execute_result"
    }
   ],
   "source": [
    "freq = topic_model.get_topic_info(); freq.head(5)"
   ]
  },
  {
   "cell_type": "code",
   "execution_count": 17,
   "metadata": {},
   "outputs": [
    {
     "data": {
      "text/html": [
       "<div>\n",
       "<style scoped>\n",
       "    .dataframe tbody tr th:only-of-type {\n",
       "        vertical-align: middle;\n",
       "    }\n",
       "\n",
       "    .dataframe tbody tr th {\n",
       "        vertical-align: top;\n",
       "    }\n",
       "\n",
       "    .dataframe thead th {\n",
       "        text-align: right;\n",
       "    }\n",
       "</style>\n",
       "<table border=\"1\" class=\"dataframe\">\n",
       "  <thead>\n",
       "    <tr style=\"text-align: right;\">\n",
       "      <th></th>\n",
       "      <th>Topic</th>\n",
       "      <th>Count</th>\n",
       "    </tr>\n",
       "  </thead>\n",
       "  <tbody>\n",
       "    <tr>\n",
       "      <th>2</th>\n",
       "      <td>0</td>\n",
       "      <td>530</td>\n",
       "    </tr>\n",
       "    <tr>\n",
       "      <th>1</th>\n",
       "      <td>1</td>\n",
       "      <td>380</td>\n",
       "    </tr>\n",
       "    <tr>\n",
       "      <th>3</th>\n",
       "      <td>2</td>\n",
       "      <td>347</td>\n",
       "    </tr>\n",
       "    <tr>\n",
       "      <th>0</th>\n",
       "      <td>-1</td>\n",
       "      <td>330</td>\n",
       "    </tr>\n",
       "    <tr>\n",
       "      <th>10</th>\n",
       "      <td>3</td>\n",
       "      <td>240</td>\n",
       "    </tr>\n",
       "    <tr>\n",
       "      <th>4</th>\n",
       "      <td>4</td>\n",
       "      <td>222</td>\n",
       "    </tr>\n",
       "    <tr>\n",
       "      <th>9</th>\n",
       "      <td>5</td>\n",
       "      <td>147</td>\n",
       "    </tr>\n",
       "    <tr>\n",
       "      <th>13</th>\n",
       "      <td>6</td>\n",
       "      <td>140</td>\n",
       "    </tr>\n",
       "    <tr>\n",
       "      <th>15</th>\n",
       "      <td>7</td>\n",
       "      <td>101</td>\n",
       "    </tr>\n",
       "    <tr>\n",
       "      <th>5</th>\n",
       "      <td>8</td>\n",
       "      <td>92</td>\n",
       "    </tr>\n",
       "    <tr>\n",
       "      <th>6</th>\n",
       "      <td>9</td>\n",
       "      <td>74</td>\n",
       "    </tr>\n",
       "    <tr>\n",
       "      <th>11</th>\n",
       "      <td>10</td>\n",
       "      <td>43</td>\n",
       "    </tr>\n",
       "    <tr>\n",
       "      <th>17</th>\n",
       "      <td>11</td>\n",
       "      <td>40</td>\n",
       "    </tr>\n",
       "    <tr>\n",
       "      <th>14</th>\n",
       "      <td>12</td>\n",
       "      <td>35</td>\n",
       "    </tr>\n",
       "    <tr>\n",
       "      <th>8</th>\n",
       "      <td>13</td>\n",
       "      <td>33</td>\n",
       "    </tr>\n",
       "    <tr>\n",
       "      <th>16</th>\n",
       "      <td>14</td>\n",
       "      <td>29</td>\n",
       "    </tr>\n",
       "    <tr>\n",
       "      <th>19</th>\n",
       "      <td>15</td>\n",
       "      <td>26</td>\n",
       "    </tr>\n",
       "    <tr>\n",
       "      <th>7</th>\n",
       "      <td>16</td>\n",
       "      <td>18</td>\n",
       "    </tr>\n",
       "    <tr>\n",
       "      <th>18</th>\n",
       "      <td>17</td>\n",
       "      <td>16</td>\n",
       "    </tr>\n",
       "    <tr>\n",
       "      <th>20</th>\n",
       "      <td>18</td>\n",
       "      <td>16</td>\n",
       "    </tr>\n",
       "    <tr>\n",
       "      <th>12</th>\n",
       "      <td>19</td>\n",
       "      <td>13</td>\n",
       "    </tr>\n",
       "  </tbody>\n",
       "</table>\n",
       "</div>"
      ],
      "text/plain": [
       "    Topic  Count\n",
       "2       0    530\n",
       "1       1    380\n",
       "3       2    347\n",
       "0      -1    330\n",
       "10      3    240\n",
       "4       4    222\n",
       "9       5    147\n",
       "13      6    140\n",
       "15      7    101\n",
       "5       8     92\n",
       "6       9     74\n",
       "11     10     43\n",
       "17     11     40\n",
       "14     12     35\n",
       "8      13     33\n",
       "16     14     29\n",
       "19     15     26\n",
       "7      16     18\n",
       "18     17     16\n",
       "20     18     16\n",
       "12     19     13"
      ]
     },
     "execution_count": 17,
     "metadata": {},
     "output_type": "execute_result"
    }
   ],
   "source": [
    "topic_model.get_topic_freq()"
   ]
  },
  {
   "cell_type": "code",
   "execution_count": 18,
   "metadata": {},
   "outputs": [
    {
     "data": {
      "text/plain": [
       "[('restaurante', 0.11182763704088258),\n",
       " ('bom', 0.04058356487770332),\n",
       " ('muito', 0.03808096625632009),\n",
       " ('atendimento', 0.03398111542301553),\n",
       " ('comida', 0.029382285371751166),\n",
       " ('recomendar', 0.027966993377790735),\n",
       " ('bem', 0.02614262085822117),\n",
       " ('excelente', 0.024702864872459443),\n",
       " ('qualidade', 0.021903869867435956),\n",
       " ('super', 0.020857502759721085)]"
      ]
     },
     "execution_count": 18,
     "metadata": {},
     "output_type": "execute_result"
    }
   ],
   "source": [
    "topic_model.get_topic(5)"
   ]
  },
  {
   "cell_type": "markdown",
   "metadata": {},
   "source": [
    "#### Visualização dos tópicos"
   ]
  },
  {
   "cell_type": "code",
   "execution_count": 19,
   "metadata": {},
   "outputs": [
    {
     "data": {
      "application/vnd.plotly.v1+json": {
       "config": {
        "plotlyServerURL": "https://plot.ly"
       },
       "data": [
        {
         "marker": {
          "color": "#D55E00"
         },
         "orientation": "h",
         "type": "bar",
         "x": [
          0.02529529806388215,
          0.028917028466537594,
          0.032597514567923806,
          0.033661941536503925,
          0.08241490874910287
         ],
         "xaxis": "x",
         "y": [
          "mais  ",
          "bom  ",
          "restaurante  ",
          "comida  ",
          "mexicano  "
         ],
         "yaxis": "y"
        },
        {
         "marker": {
          "color": "#0072B2"
         },
         "orientation": "h",
         "type": "bar",
         "x": [
          0.04066849499654118,
          0.04494382734673004,
          0.045163568998268254,
          0.04552708211171145,
          0.04995762680363053
         ],
         "xaxis": "x2",
         "y": [
          "comer  ",
          "muito  ",
          "atendimento  ",
          "comida  ",
          "bom  "
         ],
         "yaxis": "y2"
        },
        {
         "marker": {
          "color": "#CC79A7"
         },
         "orientation": "h",
         "type": "bar",
         "x": [
          0.031488452069094466,
          0.03410817792164345,
          0.03584333514813181,
          0.04272652905610274,
          0.07916852611070455
         ],
         "xaxis": "x3",
         "y": [
          "musica  ",
          "muito  ",
          "ambiente  ",
          "bom  ",
          "música  "
         ],
         "yaxis": "y3"
        },
        {
         "marker": {
          "color": "#E69F00"
         },
         "orientation": "h",
         "type": "bar",
         "x": [
          0.029701209630162987,
          0.03224562055236884,
          0.03726905869813543,
          0.08570311785784507,
          0.11005516541089468
         ],
         "xaxis": "x4",
         "y": [
          "bom  ",
          "muito  ",
          "amigo  ",
          "comemorar  ",
          "aniversário  "
         ],
         "yaxis": "y4"
        },
        {
         "marker": {
          "color": "#56B4E9"
         },
         "orientation": "h",
         "type": "bar",
         "x": [
          0.04019881953004103,
          0.04143147545718984,
          0.04367869954178394,
          0.050989181647464646,
          0.06402983927441452
         ],
         "xaxis": "x5",
         "y": [
          "atendimento  ",
          "bom  ",
          "cerveja  ",
          "drink  ",
          "bebida  "
         ],
         "yaxis": "y5"
        },
        {
         "marker": {
          "color": "#009E73"
         },
         "orientation": "h",
         "type": "bar",
         "x": [
          0.029382285371751166,
          0.03398111542301553,
          0.03808096625632009,
          0.04058356487770332,
          0.11182763704088258
         ],
         "xaxis": "x6",
         "y": [
          "comida  ",
          "atendimento  ",
          "muito  ",
          "bom  ",
          "restaurante  "
         ],
         "yaxis": "y6"
        },
        {
         "marker": {
          "color": "#F0E442"
         },
         "orientation": "h",
         "type": "bar",
         "x": [
          0.026334575069863767,
          0.029000051653591964,
          0.038185760685558894,
          0.0412178033986148,
          0.12981605951960226
         ],
         "xaxis": "x7",
         "y": [
          "muito  ",
          "restaurante  ",
          "mais  ",
          "barra  ",
          "guacamole  "
         ],
         "yaxis": "y7"
        },
        {
         "marker": {
          "color": "#D55E00"
         },
         "orientation": "h",
         "type": "bar",
         "x": [
          0.029384869668954573,
          0.030877927057067624,
          0.03312469314337485,
          0.056269298013132,
          0.12925493513107103
         ],
         "xaxis": "x8",
         "y": [
          "bom  ",
          "margarita  ",
          "muito  ",
          "tequileiro  ",
          "tequila  "
         ],
         "yaxis": "y8"
        },
        {
         "marker": {
          "color": "#0072B2"
         },
         "orientation": "h",
         "type": "bar",
         "x": [
          0.03922465900193137,
          0.03983432166997827,
          0.041273398327388744,
          0.055057842533326636,
          0.06300200129830698
         ],
         "xaxis": "x9",
         "y": [
          "funcionário  ",
          "excelente  ",
          "atencioso  ",
          "muito  ",
          "atendimento  "
         ],
         "yaxis": "y9"
        },
        {
         "marker": {
          "color": "#CC79A7"
         },
         "orientation": "h",
         "type": "bar",
         "x": [
          0.03228951090043884,
          0.03486465944478442,
          0.036700066403200005,
          0.04741699860700433,
          0.057082622857448084
         ],
         "xaxis": "x10",
         "y": [
          "hora  ",
          "fila  ",
          "chegar  ",
          "mais  ",
          "não  "
         ],
         "yaxis": "y10"
        }
       ],
       "layout": {
        "annotations": [
         {
          "font": {
           "size": 16
          },
          "showarrow": false,
          "text": "Topic 0",
          "x": 0.0875,
          "xanchor": "center",
          "xref": "paper",
          "y": 1,
          "yanchor": "bottom",
          "yref": "paper"
         },
         {
          "font": {
           "size": 16
          },
          "showarrow": false,
          "text": "Topic 1",
          "x": 0.36250000000000004,
          "xanchor": "center",
          "xref": "paper",
          "y": 1,
          "yanchor": "bottom",
          "yref": "paper"
         },
         {
          "font": {
           "size": 16
          },
          "showarrow": false,
          "text": "Topic 2",
          "x": 0.6375000000000001,
          "xanchor": "center",
          "xref": "paper",
          "y": 1,
          "yanchor": "bottom",
          "yref": "paper"
         },
         {
          "font": {
           "size": 16
          },
          "showarrow": false,
          "text": "Topic 3",
          "x": 0.9125,
          "xanchor": "center",
          "xref": "paper",
          "y": 1,
          "yanchor": "bottom",
          "yref": "paper"
         },
         {
          "font": {
           "size": 16
          },
          "showarrow": false,
          "text": "Topic 4",
          "x": 0.0875,
          "xanchor": "center",
          "xref": "paper",
          "y": 0.6222222222222222,
          "yanchor": "bottom",
          "yref": "paper"
         },
         {
          "font": {
           "size": 16
          },
          "showarrow": false,
          "text": "Topic 5",
          "x": 0.36250000000000004,
          "xanchor": "center",
          "xref": "paper",
          "y": 0.6222222222222222,
          "yanchor": "bottom",
          "yref": "paper"
         },
         {
          "font": {
           "size": 16
          },
          "showarrow": false,
          "text": "Topic 6",
          "x": 0.6375000000000001,
          "xanchor": "center",
          "xref": "paper",
          "y": 0.6222222222222222,
          "yanchor": "bottom",
          "yref": "paper"
         },
         {
          "font": {
           "size": 16
          },
          "showarrow": false,
          "text": "Topic 7",
          "x": 0.9125,
          "xanchor": "center",
          "xref": "paper",
          "y": 0.6222222222222222,
          "yanchor": "bottom",
          "yref": "paper"
         },
         {
          "font": {
           "size": 16
          },
          "showarrow": false,
          "text": "Topic 8",
          "x": 0.0875,
          "xanchor": "center",
          "xref": "paper",
          "y": 0.24444444444444446,
          "yanchor": "bottom",
          "yref": "paper"
         },
         {
          "font": {
           "size": 16
          },
          "showarrow": false,
          "text": "Topic 9",
          "x": 0.36250000000000004,
          "xanchor": "center",
          "xref": "paper",
          "y": 0.24444444444444446,
          "yanchor": "bottom",
          "yref": "paper"
         }
        ],
        "height": 750,
        "hoverlabel": {
         "bgcolor": "white",
         "font": {
          "family": "Rockwell",
          "size": 16
         }
        },
        "showlegend": false,
        "template": {
         "data": {
          "bar": [
           {
            "error_x": {
             "color": "#2a3f5f"
            },
            "error_y": {
             "color": "#2a3f5f"
            },
            "marker": {
             "line": {
              "color": "white",
              "width": 0.5
             },
             "pattern": {
              "fillmode": "overlay",
              "size": 10,
              "solidity": 0.2
             }
            },
            "type": "bar"
           }
          ],
          "barpolar": [
           {
            "marker": {
             "line": {
              "color": "white",
              "width": 0.5
             },
             "pattern": {
              "fillmode": "overlay",
              "size": 10,
              "solidity": 0.2
             }
            },
            "type": "barpolar"
           }
          ],
          "carpet": [
           {
            "aaxis": {
             "endlinecolor": "#2a3f5f",
             "gridcolor": "#C8D4E3",
             "linecolor": "#C8D4E3",
             "minorgridcolor": "#C8D4E3",
             "startlinecolor": "#2a3f5f"
            },
            "baxis": {
             "endlinecolor": "#2a3f5f",
             "gridcolor": "#C8D4E3",
             "linecolor": "#C8D4E3",
             "minorgridcolor": "#C8D4E3",
             "startlinecolor": "#2a3f5f"
            },
            "type": "carpet"
           }
          ],
          "choropleth": [
           {
            "colorbar": {
             "outlinewidth": 0,
             "ticks": ""
            },
            "type": "choropleth"
           }
          ],
          "contour": [
           {
            "colorbar": {
             "outlinewidth": 0,
             "ticks": ""
            },
            "colorscale": [
             [
              0,
              "#0d0887"
             ],
             [
              0.1111111111111111,
              "#46039f"
             ],
             [
              0.2222222222222222,
              "#7201a8"
             ],
             [
              0.3333333333333333,
              "#9c179e"
             ],
             [
              0.4444444444444444,
              "#bd3786"
             ],
             [
              0.5555555555555556,
              "#d8576b"
             ],
             [
              0.6666666666666666,
              "#ed7953"
             ],
             [
              0.7777777777777778,
              "#fb9f3a"
             ],
             [
              0.8888888888888888,
              "#fdca26"
             ],
             [
              1,
              "#f0f921"
             ]
            ],
            "type": "contour"
           }
          ],
          "contourcarpet": [
           {
            "colorbar": {
             "outlinewidth": 0,
             "ticks": ""
            },
            "type": "contourcarpet"
           }
          ],
          "heatmap": [
           {
            "colorbar": {
             "outlinewidth": 0,
             "ticks": ""
            },
            "colorscale": [
             [
              0,
              "#0d0887"
             ],
             [
              0.1111111111111111,
              "#46039f"
             ],
             [
              0.2222222222222222,
              "#7201a8"
             ],
             [
              0.3333333333333333,
              "#9c179e"
             ],
             [
              0.4444444444444444,
              "#bd3786"
             ],
             [
              0.5555555555555556,
              "#d8576b"
             ],
             [
              0.6666666666666666,
              "#ed7953"
             ],
             [
              0.7777777777777778,
              "#fb9f3a"
             ],
             [
              0.8888888888888888,
              "#fdca26"
             ],
             [
              1,
              "#f0f921"
             ]
            ],
            "type": "heatmap"
           }
          ],
          "heatmapgl": [
           {
            "colorbar": {
             "outlinewidth": 0,
             "ticks": ""
            },
            "colorscale": [
             [
              0,
              "#0d0887"
             ],
             [
              0.1111111111111111,
              "#46039f"
             ],
             [
              0.2222222222222222,
              "#7201a8"
             ],
             [
              0.3333333333333333,
              "#9c179e"
             ],
             [
              0.4444444444444444,
              "#bd3786"
             ],
             [
              0.5555555555555556,
              "#d8576b"
             ],
             [
              0.6666666666666666,
              "#ed7953"
             ],
             [
              0.7777777777777778,
              "#fb9f3a"
             ],
             [
              0.8888888888888888,
              "#fdca26"
             ],
             [
              1,
              "#f0f921"
             ]
            ],
            "type": "heatmapgl"
           }
          ],
          "histogram": [
           {
            "marker": {
             "pattern": {
              "fillmode": "overlay",
              "size": 10,
              "solidity": 0.2
             }
            },
            "type": "histogram"
           }
          ],
          "histogram2d": [
           {
            "colorbar": {
             "outlinewidth": 0,
             "ticks": ""
            },
            "colorscale": [
             [
              0,
              "#0d0887"
             ],
             [
              0.1111111111111111,
              "#46039f"
             ],
             [
              0.2222222222222222,
              "#7201a8"
             ],
             [
              0.3333333333333333,
              "#9c179e"
             ],
             [
              0.4444444444444444,
              "#bd3786"
             ],
             [
              0.5555555555555556,
              "#d8576b"
             ],
             [
              0.6666666666666666,
              "#ed7953"
             ],
             [
              0.7777777777777778,
              "#fb9f3a"
             ],
             [
              0.8888888888888888,
              "#fdca26"
             ],
             [
              1,
              "#f0f921"
             ]
            ],
            "type": "histogram2d"
           }
          ],
          "histogram2dcontour": [
           {
            "colorbar": {
             "outlinewidth": 0,
             "ticks": ""
            },
            "colorscale": [
             [
              0,
              "#0d0887"
             ],
             [
              0.1111111111111111,
              "#46039f"
             ],
             [
              0.2222222222222222,
              "#7201a8"
             ],
             [
              0.3333333333333333,
              "#9c179e"
             ],
             [
              0.4444444444444444,
              "#bd3786"
             ],
             [
              0.5555555555555556,
              "#d8576b"
             ],
             [
              0.6666666666666666,
              "#ed7953"
             ],
             [
              0.7777777777777778,
              "#fb9f3a"
             ],
             [
              0.8888888888888888,
              "#fdca26"
             ],
             [
              1,
              "#f0f921"
             ]
            ],
            "type": "histogram2dcontour"
           }
          ],
          "mesh3d": [
           {
            "colorbar": {
             "outlinewidth": 0,
             "ticks": ""
            },
            "type": "mesh3d"
           }
          ],
          "parcoords": [
           {
            "line": {
             "colorbar": {
              "outlinewidth": 0,
              "ticks": ""
             }
            },
            "type": "parcoords"
           }
          ],
          "pie": [
           {
            "automargin": true,
            "type": "pie"
           }
          ],
          "scatter": [
           {
            "fillpattern": {
             "fillmode": "overlay",
             "size": 10,
             "solidity": 0.2
            },
            "type": "scatter"
           }
          ],
          "scatter3d": [
           {
            "line": {
             "colorbar": {
              "outlinewidth": 0,
              "ticks": ""
             }
            },
            "marker": {
             "colorbar": {
              "outlinewidth": 0,
              "ticks": ""
             }
            },
            "type": "scatter3d"
           }
          ],
          "scattercarpet": [
           {
            "marker": {
             "colorbar": {
              "outlinewidth": 0,
              "ticks": ""
             }
            },
            "type": "scattercarpet"
           }
          ],
          "scattergeo": [
           {
            "marker": {
             "colorbar": {
              "outlinewidth": 0,
              "ticks": ""
             }
            },
            "type": "scattergeo"
           }
          ],
          "scattergl": [
           {
            "marker": {
             "colorbar": {
              "outlinewidth": 0,
              "ticks": ""
             }
            },
            "type": "scattergl"
           }
          ],
          "scattermapbox": [
           {
            "marker": {
             "colorbar": {
              "outlinewidth": 0,
              "ticks": ""
             }
            },
            "type": "scattermapbox"
           }
          ],
          "scatterpolar": [
           {
            "marker": {
             "colorbar": {
              "outlinewidth": 0,
              "ticks": ""
             }
            },
            "type": "scatterpolar"
           }
          ],
          "scatterpolargl": [
           {
            "marker": {
             "colorbar": {
              "outlinewidth": 0,
              "ticks": ""
             }
            },
            "type": "scatterpolargl"
           }
          ],
          "scatterternary": [
           {
            "marker": {
             "colorbar": {
              "outlinewidth": 0,
              "ticks": ""
             }
            },
            "type": "scatterternary"
           }
          ],
          "surface": [
           {
            "colorbar": {
             "outlinewidth": 0,
             "ticks": ""
            },
            "colorscale": [
             [
              0,
              "#0d0887"
             ],
             [
              0.1111111111111111,
              "#46039f"
             ],
             [
              0.2222222222222222,
              "#7201a8"
             ],
             [
              0.3333333333333333,
              "#9c179e"
             ],
             [
              0.4444444444444444,
              "#bd3786"
             ],
             [
              0.5555555555555556,
              "#d8576b"
             ],
             [
              0.6666666666666666,
              "#ed7953"
             ],
             [
              0.7777777777777778,
              "#fb9f3a"
             ],
             [
              0.8888888888888888,
              "#fdca26"
             ],
             [
              1,
              "#f0f921"
             ]
            ],
            "type": "surface"
           }
          ],
          "table": [
           {
            "cells": {
             "fill": {
              "color": "#EBF0F8"
             },
             "line": {
              "color": "white"
             }
            },
            "header": {
             "fill": {
              "color": "#C8D4E3"
             },
             "line": {
              "color": "white"
             }
            },
            "type": "table"
           }
          ]
         },
         "layout": {
          "annotationdefaults": {
           "arrowcolor": "#2a3f5f",
           "arrowhead": 0,
           "arrowwidth": 1
          },
          "autotypenumbers": "strict",
          "coloraxis": {
           "colorbar": {
            "outlinewidth": 0,
            "ticks": ""
           }
          },
          "colorscale": {
           "diverging": [
            [
             0,
             "#8e0152"
            ],
            [
             0.1,
             "#c51b7d"
            ],
            [
             0.2,
             "#de77ae"
            ],
            [
             0.3,
             "#f1b6da"
            ],
            [
             0.4,
             "#fde0ef"
            ],
            [
             0.5,
             "#f7f7f7"
            ],
            [
             0.6,
             "#e6f5d0"
            ],
            [
             0.7,
             "#b8e186"
            ],
            [
             0.8,
             "#7fbc41"
            ],
            [
             0.9,
             "#4d9221"
            ],
            [
             1,
             "#276419"
            ]
           ],
           "sequential": [
            [
             0,
             "#0d0887"
            ],
            [
             0.1111111111111111,
             "#46039f"
            ],
            [
             0.2222222222222222,
             "#7201a8"
            ],
            [
             0.3333333333333333,
             "#9c179e"
            ],
            [
             0.4444444444444444,
             "#bd3786"
            ],
            [
             0.5555555555555556,
             "#d8576b"
            ],
            [
             0.6666666666666666,
             "#ed7953"
            ],
            [
             0.7777777777777778,
             "#fb9f3a"
            ],
            [
             0.8888888888888888,
             "#fdca26"
            ],
            [
             1,
             "#f0f921"
            ]
           ],
           "sequentialminus": [
            [
             0,
             "#0d0887"
            ],
            [
             0.1111111111111111,
             "#46039f"
            ],
            [
             0.2222222222222222,
             "#7201a8"
            ],
            [
             0.3333333333333333,
             "#9c179e"
            ],
            [
             0.4444444444444444,
             "#bd3786"
            ],
            [
             0.5555555555555556,
             "#d8576b"
            ],
            [
             0.6666666666666666,
             "#ed7953"
            ],
            [
             0.7777777777777778,
             "#fb9f3a"
            ],
            [
             0.8888888888888888,
             "#fdca26"
            ],
            [
             1,
             "#f0f921"
            ]
           ]
          },
          "colorway": [
           "#636efa",
           "#EF553B",
           "#00cc96",
           "#ab63fa",
           "#FFA15A",
           "#19d3f3",
           "#FF6692",
           "#B6E880",
           "#FF97FF",
           "#FECB52"
          ],
          "font": {
           "color": "#2a3f5f"
          },
          "geo": {
           "bgcolor": "white",
           "lakecolor": "white",
           "landcolor": "white",
           "showlakes": true,
           "showland": true,
           "subunitcolor": "#C8D4E3"
          },
          "hoverlabel": {
           "align": "left"
          },
          "hovermode": "closest",
          "mapbox": {
           "style": "light"
          },
          "paper_bgcolor": "white",
          "plot_bgcolor": "white",
          "polar": {
           "angularaxis": {
            "gridcolor": "#EBF0F8",
            "linecolor": "#EBF0F8",
            "ticks": ""
           },
           "bgcolor": "white",
           "radialaxis": {
            "gridcolor": "#EBF0F8",
            "linecolor": "#EBF0F8",
            "ticks": ""
           }
          },
          "scene": {
           "xaxis": {
            "backgroundcolor": "white",
            "gridcolor": "#DFE8F3",
            "gridwidth": 2,
            "linecolor": "#EBF0F8",
            "showbackground": true,
            "ticks": "",
            "zerolinecolor": "#EBF0F8"
           },
           "yaxis": {
            "backgroundcolor": "white",
            "gridcolor": "#DFE8F3",
            "gridwidth": 2,
            "linecolor": "#EBF0F8",
            "showbackground": true,
            "ticks": "",
            "zerolinecolor": "#EBF0F8"
           },
           "zaxis": {
            "backgroundcolor": "white",
            "gridcolor": "#DFE8F3",
            "gridwidth": 2,
            "linecolor": "#EBF0F8",
            "showbackground": true,
            "ticks": "",
            "zerolinecolor": "#EBF0F8"
           }
          },
          "shapedefaults": {
           "line": {
            "color": "#2a3f5f"
           }
          },
          "ternary": {
           "aaxis": {
            "gridcolor": "#DFE8F3",
            "linecolor": "#A2B1C6",
            "ticks": ""
           },
           "baxis": {
            "gridcolor": "#DFE8F3",
            "linecolor": "#A2B1C6",
            "ticks": ""
           },
           "bgcolor": "white",
           "caxis": {
            "gridcolor": "#DFE8F3",
            "linecolor": "#A2B1C6",
            "ticks": ""
           }
          },
          "title": {
           "x": 0.05
          },
          "xaxis": {
           "automargin": true,
           "gridcolor": "#EBF0F8",
           "linecolor": "#EBF0F8",
           "ticks": "",
           "title": {
            "standoff": 15
           },
           "zerolinecolor": "#EBF0F8",
           "zerolinewidth": 2
          },
          "yaxis": {
           "automargin": true,
           "gridcolor": "#EBF0F8",
           "linecolor": "#EBF0F8",
           "ticks": "",
           "title": {
            "standoff": 15
           },
           "zerolinecolor": "#EBF0F8",
           "zerolinewidth": 2
          }
         }
        },
        "title": {
         "font": {
          "color": "Black",
          "size": 22
         },
         "text": "Topic Word Scores",
         "x": 0.5,
         "xanchor": "center",
         "yanchor": "top"
        },
        "width": 1000,
        "xaxis": {
         "anchor": "y",
         "domain": [
          0,
          0.175
         ],
         "showgrid": true
        },
        "xaxis10": {
         "anchor": "y10",
         "domain": [
          0.275,
          0.45
         ],
         "showgrid": true
        },
        "xaxis11": {
         "anchor": "y11",
         "domain": [
          0.55,
          0.7250000000000001
         ],
         "showgrid": true
        },
        "xaxis12": {
         "anchor": "y12",
         "domain": [
          0.825,
          1
         ],
         "showgrid": true
        },
        "xaxis2": {
         "anchor": "y2",
         "domain": [
          0.275,
          0.45
         ],
         "showgrid": true
        },
        "xaxis3": {
         "anchor": "y3",
         "domain": [
          0.55,
          0.7250000000000001
         ],
         "showgrid": true
        },
        "xaxis4": {
         "anchor": "y4",
         "domain": [
          0.825,
          1
         ],
         "showgrid": true
        },
        "xaxis5": {
         "anchor": "y5",
         "domain": [
          0,
          0.175
         ],
         "showgrid": true
        },
        "xaxis6": {
         "anchor": "y6",
         "domain": [
          0.275,
          0.45
         ],
         "showgrid": true
        },
        "xaxis7": {
         "anchor": "y7",
         "domain": [
          0.55,
          0.7250000000000001
         ],
         "showgrid": true
        },
        "xaxis8": {
         "anchor": "y8",
         "domain": [
          0.825,
          1
         ],
         "showgrid": true
        },
        "xaxis9": {
         "anchor": "y9",
         "domain": [
          0,
          0.175
         ],
         "showgrid": true
        },
        "yaxis": {
         "anchor": "x",
         "domain": [
          0.7555555555555555,
          1
         ],
         "showgrid": true
        },
        "yaxis10": {
         "anchor": "x10",
         "domain": [
          0,
          0.24444444444444446
         ],
         "showgrid": true
        },
        "yaxis11": {
         "anchor": "x11",
         "domain": [
          0,
          0.24444444444444446
         ],
         "showgrid": true
        },
        "yaxis12": {
         "anchor": "x12",
         "domain": [
          0,
          0.24444444444444446
         ],
         "showgrid": true
        },
        "yaxis2": {
         "anchor": "x2",
         "domain": [
          0.7555555555555555,
          1
         ],
         "showgrid": true
        },
        "yaxis3": {
         "anchor": "x3",
         "domain": [
          0.7555555555555555,
          1
         ],
         "showgrid": true
        },
        "yaxis4": {
         "anchor": "x4",
         "domain": [
          0.7555555555555555,
          1
         ],
         "showgrid": true
        },
        "yaxis5": {
         "anchor": "x5",
         "domain": [
          0.37777777777777777,
          0.6222222222222222
         ],
         "showgrid": true
        },
        "yaxis6": {
         "anchor": "x6",
         "domain": [
          0.37777777777777777,
          0.6222222222222222
         ],
         "showgrid": true
        },
        "yaxis7": {
         "anchor": "x7",
         "domain": [
          0.37777777777777777,
          0.6222222222222222
         ],
         "showgrid": true
        },
        "yaxis8": {
         "anchor": "x8",
         "domain": [
          0.37777777777777777,
          0.6222222222222222
         ],
         "showgrid": true
        },
        "yaxis9": {
         "anchor": "x9",
         "domain": [
          0,
          0.24444444444444446
         ],
         "showgrid": true
        }
       }
      }
     },
     "metadata": {},
     "output_type": "display_data"
    }
   ],
   "source": [
    "topic_model.visualize_barchart(top_n_topics=10)"
   ]
  },
  {
   "cell_type": "markdown",
   "metadata": {},
   "source": [
    "Com o auxílio do ChatGPT para uma definição em uma única frase sobre o que se trata os primeiros 5 tópicos, temos que:\n",
    "- **Tópico 0**: Este tópico analisado aborda aspectos relacionados a comida mexicana, com ênfase em guacamole, destacando a qualidade de restaurantes e a atmosfera agradável.\n",
    "- **Tópico 1**: Este tópico analisado destaca a qualidade do atendimento e do ambiente, ressaltando a excelência do lugar, com ênfase em uma experiência gastronômica muito boa e maravilhosa.\n",
    "- **Tópico 2**: Esse tópico analisado aborda a influência positiva da música no ambiente, ressaltando a qualidade do atendimento e a excelência, criando uma atmosfera agradável para comer e animar.\n",
    "- **Tópico 3**: Esse tópico analisado trata da celebração de aniversários e comemorações em um ambiente amigável, destacando a importância do lugar, a qualidade do ambiente e do atendimento, tornando a experiência muito boa para amigos e amigas.\n",
    "- **Tópico 4**: Este tópico analisado destaca a apreciação de bebidas, especialmente drinks e cervejas, ressaltando a importância do atendimento e a qualidade do ambiente, proporcionando uma experiência muito boa para comer e bebidas geladas."
   ]
  },
  {
   "cell_type": "code",
   "execution_count": 20,
   "metadata": {},
   "outputs": [
    {
     "data": {
      "application/vnd.plotly.v1+json": {
       "config": {
        "plotlyServerURL": "https://plot.ly"
       },
       "data": [
        {
         "hoverinfo": "text",
         "marker": {
          "color": "rgb(61,153,112)"
         },
         "mode": "lines",
         "type": "scatter",
         "x": [
          0,
          0.6572841815956425,
          0.6572841815956425,
          0
         ],
         "xaxis": "x",
         "y": [
          -25,
          -25,
          -35,
          -35
         ],
         "yaxis": "y"
        },
        {
         "hoverinfo": "text",
         "marker": {
          "color": "rgb(61,153,112)"
         },
         "mode": "lines",
         "type": "scatter",
         "x": [
          0,
          0.7621486480678366,
          0.7621486480678366,
          0.6572841815956425
         ],
         "xaxis": "x",
         "y": [
          -15,
          -15,
          -30,
          -30
         ],
         "yaxis": "y"
        },
        {
         "hoverinfo": "text",
         "marker": {
          "color": "rgb(61,153,112)"
         },
         "mode": "lines",
         "type": "scatter",
         "x": [
          0,
          0.39941978863163885,
          0.39941978863163885,
          0
         ],
         "xaxis": "x",
         "y": [
          -45,
          -45,
          -55,
          -55
         ],
         "yaxis": "y"
        },
        {
         "hoverinfo": "text",
         "marker": {
          "color": "rgb(61,153,112)"
         },
         "mode": "lines",
         "type": "scatter",
         "x": [
          0.7621486480678366,
          0.8337417442983507,
          0.8337417442983507,
          0.39941978863163885
         ],
         "xaxis": "x",
         "y": [
          -22.5,
          -22.5,
          -50,
          -50
         ],
         "yaxis": "y"
        },
        {
         "hoverinfo": "text",
         "marker": {
          "color": "rgb(61,153,112)"
         },
         "mode": "lines",
         "type": "scatter",
         "x": [
          0,
          0.9176853807301694,
          0.9176853807301694,
          0.8337417442983507
         ],
         "xaxis": "x",
         "y": [
          -5,
          -5,
          -36.25,
          -36.25
         ],
         "yaxis": "y"
        },
        {
         "hoverinfo": "text",
         "marker": {
          "color": "rgb(61,153,112)"
         },
         "mode": "lines",
         "type": "scatter",
         "x": [
          0,
          0.5859589390140092,
          0.5859589390140092,
          0
         ],
         "xaxis": "x",
         "y": [
          -65,
          -65,
          -75,
          -75
         ],
         "yaxis": "y"
        },
        {
         "hoverinfo": "text",
         "marker": {
          "color": "rgb(61,153,112)"
         },
         "mode": "lines",
         "type": "scatter",
         "x": [
          0,
          0.25262446184789966,
          0.25262446184789966,
          0
         ],
         "xaxis": "x",
         "y": [
          -105,
          -105,
          -115,
          -115
         ],
         "yaxis": "y"
        },
        {
         "hoverinfo": "text",
         "marker": {
          "color": "rgb(61,153,112)"
         },
         "mode": "lines",
         "type": "scatter",
         "x": [
          0.25262446184789966,
          0.3188775962945278,
          0.3188775962945278,
          0
         ],
         "xaxis": "x",
         "y": [
          -110,
          -110,
          -125,
          -125
         ],
         "yaxis": "y"
        },
        {
         "hoverinfo": "text",
         "marker": {
          "color": "rgb(61,153,112)"
         },
         "mode": "lines",
         "type": "scatter",
         "x": [
          0,
          0.43014469576058895,
          0.43014469576058895,
          0.3188775962945278
         ],
         "xaxis": "x",
         "y": [
          -95,
          -95,
          -117.5,
          -117.5
         ],
         "yaxis": "y"
        },
        {
         "hoverinfo": "text",
         "marker": {
          "color": "rgb(61,153,112)"
         },
         "mode": "lines",
         "type": "scatter",
         "x": [
          0,
          0.6383172107567903,
          0.6383172107567903,
          0.43014469576058895
         ],
         "xaxis": "x",
         "y": [
          -85,
          -85,
          -106.25,
          -106.25
         ],
         "yaxis": "y"
        },
        {
         "hoverinfo": "text",
         "marker": {
          "color": "rgb(61,153,112)"
         },
         "mode": "lines",
         "type": "scatter",
         "x": [
          0,
          0.6236524721642499,
          0.6236524721642499,
          0
         ],
         "xaxis": "x",
         "y": [
          -135,
          -135,
          -145,
          -145
         ],
         "yaxis": "y"
        },
        {
         "hoverinfo": "text",
         "marker": {
          "color": "rgb(61,153,112)"
         },
         "mode": "lines",
         "type": "scatter",
         "x": [
          0,
          0.3924992603987344,
          0.3924992603987344,
          0
         ],
         "xaxis": "x",
         "y": [
          -165,
          -165,
          -175,
          -175
         ],
         "yaxis": "y"
        },
        {
         "hoverinfo": "text",
         "marker": {
          "color": "rgb(61,153,112)"
         },
         "mode": "lines",
         "type": "scatter",
         "x": [
          0,
          0.490305439296758,
          0.490305439296758,
          0.3924992603987344
         ],
         "xaxis": "x",
         "y": [
          -155,
          -155,
          -170,
          -170
         ],
         "yaxis": "y"
        },
        {
         "hoverinfo": "text",
         "marker": {
          "color": "rgb(61,153,112)"
         },
         "mode": "lines",
         "type": "scatter",
         "x": [
          0.490305439296758,
          0.542316387667066,
          0.542316387667066,
          0
         ],
         "xaxis": "x",
         "y": [
          -162.5,
          -162.5,
          -185,
          -185
         ],
         "yaxis": "y"
        },
        {
         "hoverinfo": "text",
         "marker": {
          "color": "rgb(61,153,112)"
         },
         "mode": "lines",
         "type": "scatter",
         "x": [
          0.6236524721642499,
          0.6336217754067717,
          0.6336217754067717,
          0.542316387667066
         ],
         "xaxis": "x",
         "y": [
          -140,
          -140,
          -173.75,
          -173.75
         ],
         "yaxis": "y"
        },
        {
         "hoverinfo": "text",
         "marker": {
          "color": "rgb(61,153,112)"
         },
         "mode": "lines",
         "type": "scatter",
         "x": [
          0.6383172107567903,
          0.7660336147202338,
          0.7660336147202338,
          0.6336217754067717
         ],
         "xaxis": "x",
         "y": [
          -95.625,
          -95.625,
          -156.875,
          -156.875
         ],
         "yaxis": "y"
        },
        {
         "hoverinfo": "text",
         "marker": {
          "color": "rgb(61,153,112)"
         },
         "mode": "lines",
         "type": "scatter",
         "x": [
          0.7660336147202338,
          0.8446286913506379,
          0.8446286913506379,
          0
         ],
         "xaxis": "x",
         "y": [
          -126.25,
          -126.25,
          -195,
          -195
         ],
         "yaxis": "y"
        },
        {
         "hoverinfo": "text",
         "marker": {
          "color": "rgb(61,153,112)"
         },
         "mode": "lines",
         "type": "scatter",
         "x": [
          0.5859589390140092,
          0.918388272379533,
          0.918388272379533,
          0.8446286913506379
         ],
         "xaxis": "x",
         "y": [
          -70,
          -70,
          -160.625,
          -160.625
         ],
         "yaxis": "y"
        },
        {
         "hoverinfo": "text",
         "marker": {
          "color": "rgb(61,153,112)"
         },
         "mode": "lines",
         "type": "scatter",
         "x": [
          0.9176853807301694,
          0.9727125566883513,
          0.9727125566883513,
          0.918388272379533
         ],
         "xaxis": "x",
         "y": [
          -20.625,
          -20.625,
          -115.3125,
          -115.3125
         ],
         "yaxis": "y"
        }
       ],
       "layout": {
        "autosize": false,
        "height": 500,
        "hoverlabel": {
         "bgcolor": "white",
         "font": {
          "family": "Rockwell",
          "size": 16
         }
        },
        "hovermode": "closest",
        "plot_bgcolor": "#ECEFF1",
        "showlegend": false,
        "template": {
         "data": {
          "bar": [
           {
            "error_x": {
             "color": "#2a3f5f"
            },
            "error_y": {
             "color": "#2a3f5f"
            },
            "marker": {
             "line": {
              "color": "white",
              "width": 0.5
             },
             "pattern": {
              "fillmode": "overlay",
              "size": 10,
              "solidity": 0.2
             }
            },
            "type": "bar"
           }
          ],
          "barpolar": [
           {
            "marker": {
             "line": {
              "color": "white",
              "width": 0.5
             },
             "pattern": {
              "fillmode": "overlay",
              "size": 10,
              "solidity": 0.2
             }
            },
            "type": "barpolar"
           }
          ],
          "carpet": [
           {
            "aaxis": {
             "endlinecolor": "#2a3f5f",
             "gridcolor": "#C8D4E3",
             "linecolor": "#C8D4E3",
             "minorgridcolor": "#C8D4E3",
             "startlinecolor": "#2a3f5f"
            },
            "baxis": {
             "endlinecolor": "#2a3f5f",
             "gridcolor": "#C8D4E3",
             "linecolor": "#C8D4E3",
             "minorgridcolor": "#C8D4E3",
             "startlinecolor": "#2a3f5f"
            },
            "type": "carpet"
           }
          ],
          "choropleth": [
           {
            "colorbar": {
             "outlinewidth": 0,
             "ticks": ""
            },
            "type": "choropleth"
           }
          ],
          "contour": [
           {
            "colorbar": {
             "outlinewidth": 0,
             "ticks": ""
            },
            "colorscale": [
             [
              0,
              "#0d0887"
             ],
             [
              0.1111111111111111,
              "#46039f"
             ],
             [
              0.2222222222222222,
              "#7201a8"
             ],
             [
              0.3333333333333333,
              "#9c179e"
             ],
             [
              0.4444444444444444,
              "#bd3786"
             ],
             [
              0.5555555555555556,
              "#d8576b"
             ],
             [
              0.6666666666666666,
              "#ed7953"
             ],
             [
              0.7777777777777778,
              "#fb9f3a"
             ],
             [
              0.8888888888888888,
              "#fdca26"
             ],
             [
              1,
              "#f0f921"
             ]
            ],
            "type": "contour"
           }
          ],
          "contourcarpet": [
           {
            "colorbar": {
             "outlinewidth": 0,
             "ticks": ""
            },
            "type": "contourcarpet"
           }
          ],
          "heatmap": [
           {
            "colorbar": {
             "outlinewidth": 0,
             "ticks": ""
            },
            "colorscale": [
             [
              0,
              "#0d0887"
             ],
             [
              0.1111111111111111,
              "#46039f"
             ],
             [
              0.2222222222222222,
              "#7201a8"
             ],
             [
              0.3333333333333333,
              "#9c179e"
             ],
             [
              0.4444444444444444,
              "#bd3786"
             ],
             [
              0.5555555555555556,
              "#d8576b"
             ],
             [
              0.6666666666666666,
              "#ed7953"
             ],
             [
              0.7777777777777778,
              "#fb9f3a"
             ],
             [
              0.8888888888888888,
              "#fdca26"
             ],
             [
              1,
              "#f0f921"
             ]
            ],
            "type": "heatmap"
           }
          ],
          "heatmapgl": [
           {
            "colorbar": {
             "outlinewidth": 0,
             "ticks": ""
            },
            "colorscale": [
             [
              0,
              "#0d0887"
             ],
             [
              0.1111111111111111,
              "#46039f"
             ],
             [
              0.2222222222222222,
              "#7201a8"
             ],
             [
              0.3333333333333333,
              "#9c179e"
             ],
             [
              0.4444444444444444,
              "#bd3786"
             ],
             [
              0.5555555555555556,
              "#d8576b"
             ],
             [
              0.6666666666666666,
              "#ed7953"
             ],
             [
              0.7777777777777778,
              "#fb9f3a"
             ],
             [
              0.8888888888888888,
              "#fdca26"
             ],
             [
              1,
              "#f0f921"
             ]
            ],
            "type": "heatmapgl"
           }
          ],
          "histogram": [
           {
            "marker": {
             "pattern": {
              "fillmode": "overlay",
              "size": 10,
              "solidity": 0.2
             }
            },
            "type": "histogram"
           }
          ],
          "histogram2d": [
           {
            "colorbar": {
             "outlinewidth": 0,
             "ticks": ""
            },
            "colorscale": [
             [
              0,
              "#0d0887"
             ],
             [
              0.1111111111111111,
              "#46039f"
             ],
             [
              0.2222222222222222,
              "#7201a8"
             ],
             [
              0.3333333333333333,
              "#9c179e"
             ],
             [
              0.4444444444444444,
              "#bd3786"
             ],
             [
              0.5555555555555556,
              "#d8576b"
             ],
             [
              0.6666666666666666,
              "#ed7953"
             ],
             [
              0.7777777777777778,
              "#fb9f3a"
             ],
             [
              0.8888888888888888,
              "#fdca26"
             ],
             [
              1,
              "#f0f921"
             ]
            ],
            "type": "histogram2d"
           }
          ],
          "histogram2dcontour": [
           {
            "colorbar": {
             "outlinewidth": 0,
             "ticks": ""
            },
            "colorscale": [
             [
              0,
              "#0d0887"
             ],
             [
              0.1111111111111111,
              "#46039f"
             ],
             [
              0.2222222222222222,
              "#7201a8"
             ],
             [
              0.3333333333333333,
              "#9c179e"
             ],
             [
              0.4444444444444444,
              "#bd3786"
             ],
             [
              0.5555555555555556,
              "#d8576b"
             ],
             [
              0.6666666666666666,
              "#ed7953"
             ],
             [
              0.7777777777777778,
              "#fb9f3a"
             ],
             [
              0.8888888888888888,
              "#fdca26"
             ],
             [
              1,
              "#f0f921"
             ]
            ],
            "type": "histogram2dcontour"
           }
          ],
          "mesh3d": [
           {
            "colorbar": {
             "outlinewidth": 0,
             "ticks": ""
            },
            "type": "mesh3d"
           }
          ],
          "parcoords": [
           {
            "line": {
             "colorbar": {
              "outlinewidth": 0,
              "ticks": ""
             }
            },
            "type": "parcoords"
           }
          ],
          "pie": [
           {
            "automargin": true,
            "type": "pie"
           }
          ],
          "scatter": [
           {
            "fillpattern": {
             "fillmode": "overlay",
             "size": 10,
             "solidity": 0.2
            },
            "type": "scatter"
           }
          ],
          "scatter3d": [
           {
            "line": {
             "colorbar": {
              "outlinewidth": 0,
              "ticks": ""
             }
            },
            "marker": {
             "colorbar": {
              "outlinewidth": 0,
              "ticks": ""
             }
            },
            "type": "scatter3d"
           }
          ],
          "scattercarpet": [
           {
            "marker": {
             "colorbar": {
              "outlinewidth": 0,
              "ticks": ""
             }
            },
            "type": "scattercarpet"
           }
          ],
          "scattergeo": [
           {
            "marker": {
             "colorbar": {
              "outlinewidth": 0,
              "ticks": ""
             }
            },
            "type": "scattergeo"
           }
          ],
          "scattergl": [
           {
            "marker": {
             "colorbar": {
              "outlinewidth": 0,
              "ticks": ""
             }
            },
            "type": "scattergl"
           }
          ],
          "scattermapbox": [
           {
            "marker": {
             "colorbar": {
              "outlinewidth": 0,
              "ticks": ""
             }
            },
            "type": "scattermapbox"
           }
          ],
          "scatterpolar": [
           {
            "marker": {
             "colorbar": {
              "outlinewidth": 0,
              "ticks": ""
             }
            },
            "type": "scatterpolar"
           }
          ],
          "scatterpolargl": [
           {
            "marker": {
             "colorbar": {
              "outlinewidth": 0,
              "ticks": ""
             }
            },
            "type": "scatterpolargl"
           }
          ],
          "scatterternary": [
           {
            "marker": {
             "colorbar": {
              "outlinewidth": 0,
              "ticks": ""
             }
            },
            "type": "scatterternary"
           }
          ],
          "surface": [
           {
            "colorbar": {
             "outlinewidth": 0,
             "ticks": ""
            },
            "colorscale": [
             [
              0,
              "#0d0887"
             ],
             [
              0.1111111111111111,
              "#46039f"
             ],
             [
              0.2222222222222222,
              "#7201a8"
             ],
             [
              0.3333333333333333,
              "#9c179e"
             ],
             [
              0.4444444444444444,
              "#bd3786"
             ],
             [
              0.5555555555555556,
              "#d8576b"
             ],
             [
              0.6666666666666666,
              "#ed7953"
             ],
             [
              0.7777777777777778,
              "#fb9f3a"
             ],
             [
              0.8888888888888888,
              "#fdca26"
             ],
             [
              1,
              "#f0f921"
             ]
            ],
            "type": "surface"
           }
          ],
          "table": [
           {
            "cells": {
             "fill": {
              "color": "#EBF0F8"
             },
             "line": {
              "color": "white"
             }
            },
            "header": {
             "fill": {
              "color": "#C8D4E3"
             },
             "line": {
              "color": "white"
             }
            },
            "type": "table"
           }
          ]
         },
         "layout": {
          "annotationdefaults": {
           "arrowcolor": "#2a3f5f",
           "arrowhead": 0,
           "arrowwidth": 1
          },
          "autotypenumbers": "strict",
          "coloraxis": {
           "colorbar": {
            "outlinewidth": 0,
            "ticks": ""
           }
          },
          "colorscale": {
           "diverging": [
            [
             0,
             "#8e0152"
            ],
            [
             0.1,
             "#c51b7d"
            ],
            [
             0.2,
             "#de77ae"
            ],
            [
             0.3,
             "#f1b6da"
            ],
            [
             0.4,
             "#fde0ef"
            ],
            [
             0.5,
             "#f7f7f7"
            ],
            [
             0.6,
             "#e6f5d0"
            ],
            [
             0.7,
             "#b8e186"
            ],
            [
             0.8,
             "#7fbc41"
            ],
            [
             0.9,
             "#4d9221"
            ],
            [
             1,
             "#276419"
            ]
           ],
           "sequential": [
            [
             0,
             "#0d0887"
            ],
            [
             0.1111111111111111,
             "#46039f"
            ],
            [
             0.2222222222222222,
             "#7201a8"
            ],
            [
             0.3333333333333333,
             "#9c179e"
            ],
            [
             0.4444444444444444,
             "#bd3786"
            ],
            [
             0.5555555555555556,
             "#d8576b"
            ],
            [
             0.6666666666666666,
             "#ed7953"
            ],
            [
             0.7777777777777778,
             "#fb9f3a"
            ],
            [
             0.8888888888888888,
             "#fdca26"
            ],
            [
             1,
             "#f0f921"
            ]
           ],
           "sequentialminus": [
            [
             0,
             "#0d0887"
            ],
            [
             0.1111111111111111,
             "#46039f"
            ],
            [
             0.2222222222222222,
             "#7201a8"
            ],
            [
             0.3333333333333333,
             "#9c179e"
            ],
            [
             0.4444444444444444,
             "#bd3786"
            ],
            [
             0.5555555555555556,
             "#d8576b"
            ],
            [
             0.6666666666666666,
             "#ed7953"
            ],
            [
             0.7777777777777778,
             "#fb9f3a"
            ],
            [
             0.8888888888888888,
             "#fdca26"
            ],
            [
             1,
             "#f0f921"
            ]
           ]
          },
          "colorway": [
           "#636efa",
           "#EF553B",
           "#00cc96",
           "#ab63fa",
           "#FFA15A",
           "#19d3f3",
           "#FF6692",
           "#B6E880",
           "#FF97FF",
           "#FECB52"
          ],
          "font": {
           "color": "#2a3f5f"
          },
          "geo": {
           "bgcolor": "white",
           "lakecolor": "white",
           "landcolor": "white",
           "showlakes": true,
           "showland": true,
           "subunitcolor": "#C8D4E3"
          },
          "hoverlabel": {
           "align": "left"
          },
          "hovermode": "closest",
          "mapbox": {
           "style": "light"
          },
          "paper_bgcolor": "white",
          "plot_bgcolor": "white",
          "polar": {
           "angularaxis": {
            "gridcolor": "#EBF0F8",
            "linecolor": "#EBF0F8",
            "ticks": ""
           },
           "bgcolor": "white",
           "radialaxis": {
            "gridcolor": "#EBF0F8",
            "linecolor": "#EBF0F8",
            "ticks": ""
           }
          },
          "scene": {
           "xaxis": {
            "backgroundcolor": "white",
            "gridcolor": "#DFE8F3",
            "gridwidth": 2,
            "linecolor": "#EBF0F8",
            "showbackground": true,
            "ticks": "",
            "zerolinecolor": "#EBF0F8"
           },
           "yaxis": {
            "backgroundcolor": "white",
            "gridcolor": "#DFE8F3",
            "gridwidth": 2,
            "linecolor": "#EBF0F8",
            "showbackground": true,
            "ticks": "",
            "zerolinecolor": "#EBF0F8"
           },
           "zaxis": {
            "backgroundcolor": "white",
            "gridcolor": "#DFE8F3",
            "gridwidth": 2,
            "linecolor": "#EBF0F8",
            "showbackground": true,
            "ticks": "",
            "zerolinecolor": "#EBF0F8"
           }
          },
          "shapedefaults": {
           "line": {
            "color": "#2a3f5f"
           }
          },
          "ternary": {
           "aaxis": {
            "gridcolor": "#DFE8F3",
            "linecolor": "#A2B1C6",
            "ticks": ""
           },
           "baxis": {
            "gridcolor": "#DFE8F3",
            "linecolor": "#A2B1C6",
            "ticks": ""
           },
           "bgcolor": "white",
           "caxis": {
            "gridcolor": "#DFE8F3",
            "linecolor": "#A2B1C6",
            "ticks": ""
           }
          },
          "title": {
           "x": 0.05
          },
          "xaxis": {
           "automargin": true,
           "gridcolor": "#EBF0F8",
           "linecolor": "#EBF0F8",
           "ticks": "",
           "title": {
            "standoff": 15
           },
           "zerolinecolor": "#EBF0F8",
           "zerolinewidth": 2
          },
          "yaxis": {
           "automargin": true,
           "gridcolor": "#EBF0F8",
           "linecolor": "#EBF0F8",
           "ticks": "",
           "title": {
            "standoff": 15
           },
           "zerolinecolor": "#EBF0F8",
           "zerolinewidth": 2
          }
         }
        },
        "title": {
         "font": {
          "color": "Black",
          "size": 22
         },
         "text": "<b>Hierarchical Clustering</b>",
         "x": 0.5,
         "xanchor": "center",
         "yanchor": "top"
        },
        "width": 1000,
        "xaxis": {
         "mirror": "allticks",
         "rangemode": "tozero",
         "showgrid": false,
         "showline": true,
         "showticklabels": true,
         "ticks": "outside",
         "type": "linear",
         "zeroline": false
        },
        "yaxis": {
         "mirror": "allticks",
         "range": [
          -200,
          0
         ],
         "rangemode": "tozero",
         "showgrid": false,
         "showline": true,
         "showticklabels": true,
         "tickmode": "array",
         "ticks": "outside",
         "ticktext": [
          "19_burrito_taco_nacho",
          "11_tablet_pedido_sistema",
          "9_não_mais_chegar",
          "13_local_amigo_mal",
          "3_aniversário_comemorar_amigo",
          "15_guacamole_aniversário_co...",
          "18_comemoração_lugar_amigo",
          "16_amigo_família_lugar",
          "10_lugar_experiência_vir",
          "8_atendimento_muito_atencioso",
          "2_música_bom_ambiente",
          "1_bom_comida_atendimento",
          "4_bebida_drink_cerveja",
          "7_tequila_tequileiro_muito",
          "14_mariachi_show_muito",
          "12_restaurante_mariachi_mais",
          "0_mexicano_comida_restaurante",
          "5_restaurante_bom_muito",
          "6_guacamole_barra_mais",
          "17_rio_maravilhoso_super"
         ],
         "tickvals": [
          -5,
          -15,
          -25,
          -35,
          -45,
          -55,
          -65,
          -75,
          -85,
          -95,
          -105,
          -115,
          -125,
          -135,
          -145,
          -155,
          -165,
          -175,
          -185,
          -195
         ],
         "type": "linear",
         "zeroline": false
        }
       }
      }
     },
     "metadata": {},
     "output_type": "display_data"
    }
   ],
   "source": [
    "topic_model.visualize_hierarchy()"
   ]
  },
  {
   "cell_type": "code",
   "execution_count": 18,
   "metadata": {},
   "outputs": [],
   "source": [
    "# dates_reviews = df_reviews[\"Date Formatted\"].to_list()"
   ]
  },
  {
   "cell_type": "code",
   "execution_count": 19,
   "metadata": {},
   "outputs": [],
   "source": [
    "# topics_over_time = topic_model.topics_over_time(doc_comments, dates_reviews, datetime_format=\"%Y-%m-%d\", nr_bins=20)"
   ]
  },
  {
   "cell_type": "code",
   "execution_count": 20,
   "metadata": {},
   "outputs": [],
   "source": [
    "# topic_model.visualize_topics_over_time(topics_over_time, top_n_topics=20)"
   ]
  },
  {
   "cell_type": "markdown",
   "metadata": {},
   "source": [
    "#### DataFrame com informações completas"
   ]
  },
  {
   "cell_type": "code",
   "execution_count": 21,
   "metadata": {},
   "outputs": [
    {
     "data": {
      "text/html": [
       "<div>\n",
       "<style scoped>\n",
       "    .dataframe tbody tr th:only-of-type {\n",
       "        vertical-align: middle;\n",
       "    }\n",
       "\n",
       "    .dataframe tbody tr th {\n",
       "        vertical-align: top;\n",
       "    }\n",
       "\n",
       "    .dataframe thead th {\n",
       "        text-align: right;\n",
       "    }\n",
       "</style>\n",
       "<table border=\"1\" class=\"dataframe\">\n",
       "  <thead>\n",
       "    <tr style=\"text-align: right;\">\n",
       "      <th></th>\n",
       "      <th>Date</th>\n",
       "      <th>Review</th>\n",
       "      <th>Review Lemma</th>\n",
       "      <th>Topics</th>\n",
       "      <th>Names</th>\n",
       "      <th>Representation</th>\n",
       "      <th>Representative_Docs</th>\n",
       "    </tr>\n",
       "  </thead>\n",
       "  <tbody>\n",
       "    <tr>\n",
       "      <th>0</th>\n",
       "      <td>4 de dezembro de 2023</td>\n",
       "      <td>Atendimento maravilhoso! Matheus foi muito ate...</td>\n",
       "      <td>atendimento maravilhoso matheu muito atencioso...</td>\n",
       "      <td>-1</td>\n",
       "      <td>-1_muito_lugar_bom_atendimento</td>\n",
       "      <td>[muito, lugar, bom, atendimento, bem, mais, an...</td>\n",
       "      <td>[muito bom divertir amigo família comer comida...</td>\n",
       "    </tr>\n",
       "    <tr>\n",
       "      <th>1</th>\n",
       "      <td>2 de dezembro de 2023</td>\n",
       "      <td>Gostei muito dos pratos e do atendimento. Muit...</td>\n",
       "      <td>gostar muito prato atendimento solicito comida...</td>\n",
       "      <td>1</td>\n",
       "      <td>1_bom_comida_atendimento_muito</td>\n",
       "      <td>[bom, comida, atendimento, muito, comer, ambie...</td>\n",
       "      <td>[lugar muito agradável curtir amigo bom atendi...</td>\n",
       "    </tr>\n",
       "    <tr>\n",
       "      <th>2</th>\n",
       "      <td>1 de dezembro de 2023</td>\n",
       "      <td>Eu amei, é a melhor cozinha mexicana que eu já...</td>\n",
       "      <td>ameir bom cozinha mexicano já comi espaço muit...</td>\n",
       "      <td>0</td>\n",
       "      <td>0_mexicano_comida_restaurante_bom</td>\n",
       "      <td>[mexicano, comida, restaurante, bom, mais, mui...</td>\n",
       "      <td>[atendimento excelente comida muito bom ambien...</td>\n",
       "    </tr>\n",
       "    <tr>\n",
       "      <th>3</th>\n",
       "      <td>29 de novembro de 2023</td>\n",
       "      <td>Ótimo ambiente e decoração, funcionários prest...</td>\n",
       "      <td>bom ambiente decoração funcionário prestativo ...</td>\n",
       "      <td>2</td>\n",
       "      <td>2_música_bom_ambiente_muito</td>\n",
       "      <td>[música, bom, ambiente, muito, musica, atendim...</td>\n",
       "      <td>[atendimento excelente bom comida ambiente div...</td>\n",
       "    </tr>\n",
       "    <tr>\n",
       "      <th>4</th>\n",
       "      <td>27 de novembro de 2023</td>\n",
       "      <td>Amomamos o atendimento do Matheus e do, tudo ó...</td>\n",
       "      <td>amoma atendimento matheu bom amar atendimento ...</td>\n",
       "      <td>1</td>\n",
       "      <td>1_bom_comida_atendimento_muito</td>\n",
       "      <td>[bom, comida, atendimento, muito, comer, ambie...</td>\n",
       "      <td>[lugar muito agradável curtir amigo bom atendi...</td>\n",
       "    </tr>\n",
       "  </tbody>\n",
       "</table>\n",
       "</div>"
      ],
      "text/plain": [
       "                     Date                                             Review  \\\n",
       "0   4 de dezembro de 2023  Atendimento maravilhoso! Matheus foi muito ate...   \n",
       "1   2 de dezembro de 2023  Gostei muito dos pratos e do atendimento. Muit...   \n",
       "2   1 de dezembro de 2023  Eu amei, é a melhor cozinha mexicana que eu já...   \n",
       "3  29 de novembro de 2023  Ótimo ambiente e decoração, funcionários prest...   \n",
       "4  27 de novembro de 2023  Amomamos o atendimento do Matheus e do, tudo ó...   \n",
       "\n",
       "                                        Review Lemma  Topics  \\\n",
       "0  atendimento maravilhoso matheu muito atencioso...      -1   \n",
       "1  gostar muito prato atendimento solicito comida...       1   \n",
       "2  ameir bom cozinha mexicano já comi espaço muit...       0   \n",
       "3  bom ambiente decoração funcionário prestativo ...       2   \n",
       "4  amoma atendimento matheu bom amar atendimento ...       1   \n",
       "\n",
       "                               Names  \\\n",
       "0     -1_muito_lugar_bom_atendimento   \n",
       "1     1_bom_comida_atendimento_muito   \n",
       "2  0_mexicano_comida_restaurante_bom   \n",
       "3        2_música_bom_ambiente_muito   \n",
       "4     1_bom_comida_atendimento_muito   \n",
       "\n",
       "                                      Representation  \\\n",
       "0  [muito, lugar, bom, atendimento, bem, mais, an...   \n",
       "1  [bom, comida, atendimento, muito, comer, ambie...   \n",
       "2  [mexicano, comida, restaurante, bom, mais, mui...   \n",
       "3  [música, bom, ambiente, muito, musica, atendim...   \n",
       "4  [bom, comida, atendimento, muito, comer, ambie...   \n",
       "\n",
       "                                 Representative_Docs  \n",
       "0  [muito bom divertir amigo família comer comida...  \n",
       "1  [lugar muito agradável curtir amigo bom atendi...  \n",
       "2  [atendimento excelente comida muito bom ambien...  \n",
       "3  [atendimento excelente bom comida ambiente div...  \n",
       "4  [lugar muito agradável curtir amigo bom atendi...  "
      ]
     },
     "execution_count": 21,
     "metadata": {},
     "output_type": "execute_result"
    }
   ],
   "source": [
    "df_topics = df_reviews.copy()\n",
    "\n",
    "df_topics[\"Topics\"] = topics\n",
    "\n",
    "topic_name = freq.drop(columns=[\"Count\"]).rename(columns={\"Topic\": \"Topics\", \"Name\": \"Names\"})\n",
    "df_topics = df_topics.merge(topic_name, how=\"left\")\n",
    "\n",
    "df_topics.head()"
   ]
  },
  {
   "cell_type": "markdown",
   "metadata": {},
   "source": [
    "# Análise de Sentimentos"
   ]
  },
  {
   "cell_type": "markdown",
   "metadata": {},
   "source": [
    "Utilizando um modelo pré-treinado público baseado no BERT, faremos a extração das informações dos sentimentos de cada uma das avaliações."
   ]
  },
  {
   "cell_type": "code",
   "execution_count": 22,
   "metadata": {},
   "outputs": [
    {
     "name": "stdout",
     "output_type": "stream",
     "text": [
      "CPU times: total: 4.02 s\n",
      "Wall time: 6.1 s\n"
     ]
    }
   ],
   "source": [
    "%%time\n",
    "\n",
    "model = AutoModelForSequenceClassification.from_pretrained('lxyuan/distilbert-base-multilingual-cased-sentiments-student')\n",
    "tokenizer = AutoTokenizer.from_pretrained('lxyuan/distilbert-base-multilingual-cased-sentiments-student', do_lower_case=False)\n",
    "sentiment_task = pipeline(\"sentiment-analysis\", model=model, tokenizer=tokenizer, return_all_scores=True)"
   ]
  },
  {
   "cell_type": "code",
   "execution_count": 23,
   "metadata": {},
   "outputs": [
    {
     "data": {
      "text/plain": [
       "[[{'label': 'positive', 'score': 0.9528123140335083},\n",
       "  {'label': 'neutral', 'score': 0.034104324877262115},\n",
       "  {'label': 'negative', 'score': 0.013083375990390778}]]"
      ]
     },
     "execution_count": 23,
     "metadata": {},
     "output_type": "execute_result"
    }
   ],
   "source": [
    "sentiment_task(\"Eu sou feliz\")"
   ]
  },
  {
   "cell_type": "markdown",
   "metadata": {},
   "source": [
    "#### Classificação das avaliações e salvamento dos resultados no DataFrame"
   ]
  },
  {
   "cell_type": "markdown",
   "metadata": {},
   "source": [
    "Para a extração dos sentimentos e gravação das informações dos valores no DataFrame, utilizaremos duas funções:\n",
    "- Para captura dos sentimentos e gravação no DataFrame na forma padrão de entrega dos resultados, chamaremos primeiro a pipeline do processo, chamada ```sentiment_task``` e armazenaremos os valores em uma coluna chamada \"Sentiments\".\n",
    "- Feito isso, iremos separar os valores de acordo com o sentimento e armazenaremos cada um deles no DataFrame final utilizando a função ```extract_sentiment_scores()```."
   ]
  },
  {
   "cell_type": "code",
   "execution_count": 24,
   "metadata": {},
   "outputs": [],
   "source": [
    "def extract_sentiment_scores(predictions, sentiment_label):\n",
    "    if isinstance(predictions, list) and predictions:\n",
    "        for item in predictions[0]:\n",
    "            if item['label'] == sentiment_label:\n",
    "                return item['score']\n",
    "    return 0"
   ]
  },
  {
   "cell_type": "code",
   "execution_count": 25,
   "metadata": {},
   "outputs": [
    {
     "name": "stdout",
     "output_type": "stream",
     "text": [
      "CPU times: total: 19min 5s\n",
      "Wall time: 4min 12s\n"
     ]
    }
   ],
   "source": [
    "%%time\n",
    "\n",
    "df_topics[\"Sentiments\"] = df_topics[\"Review\"].apply(lambda x: sentiment_task(x))"
   ]
  },
  {
   "cell_type": "code",
   "execution_count": 26,
   "metadata": {},
   "outputs": [],
   "source": [
    "df_topics[\"Positive\"] = df_topics[\"Sentiments\"].apply(lambda x: extract_sentiment_scores(x, 'positive'))\n",
    "df_topics[\"Neutral\"] = df_topics[\"Sentiments\"].apply(lambda x: extract_sentiment_scores(x, 'neutral'))\n",
    "df_topics[\"Negative\"] = df_topics[\"Sentiments\"].apply(lambda x: extract_sentiment_scores(x, 'negative'))\n",
    "\n",
    "df_topics = df_topics.drop(columns=[\"Sentiments\"])"
   ]
  },
  {
   "cell_type": "code",
   "execution_count": 27,
   "metadata": {},
   "outputs": [
    {
     "data": {
      "text/html": [
       "<div>\n",
       "<style scoped>\n",
       "    .dataframe tbody tr th:only-of-type {\n",
       "        vertical-align: middle;\n",
       "    }\n",
       "\n",
       "    .dataframe tbody tr th {\n",
       "        vertical-align: top;\n",
       "    }\n",
       "\n",
       "    .dataframe thead th {\n",
       "        text-align: right;\n",
       "    }\n",
       "</style>\n",
       "<table border=\"1\" class=\"dataframe\">\n",
       "  <thead>\n",
       "    <tr style=\"text-align: right;\">\n",
       "      <th></th>\n",
       "      <th>Date</th>\n",
       "      <th>Review</th>\n",
       "      <th>Review Lemma</th>\n",
       "      <th>Topics</th>\n",
       "      <th>Names</th>\n",
       "      <th>Representation</th>\n",
       "      <th>Representative_Docs</th>\n",
       "      <th>Positive</th>\n",
       "      <th>Neutral</th>\n",
       "      <th>Negative</th>\n",
       "    </tr>\n",
       "  </thead>\n",
       "  <tbody>\n",
       "    <tr>\n",
       "      <th>0</th>\n",
       "      <td>4 de dezembro de 2023</td>\n",
       "      <td>Atendimento maravilhoso! Matheus foi muito ate...</td>\n",
       "      <td>atendimento maravilhoso matheu muito atencioso...</td>\n",
       "      <td>-1</td>\n",
       "      <td>-1_muito_lugar_bom_atendimento</td>\n",
       "      <td>[muito, lugar, bom, atendimento, bem, mais, an...</td>\n",
       "      <td>[muito bom divertir amigo família comer comida...</td>\n",
       "      <td>0.989543</td>\n",
       "      <td>0.006004</td>\n",
       "      <td>0.004453</td>\n",
       "    </tr>\n",
       "    <tr>\n",
       "      <th>1</th>\n",
       "      <td>2 de dezembro de 2023</td>\n",
       "      <td>Gostei muito dos pratos e do atendimento. Muit...</td>\n",
       "      <td>gostar muito prato atendimento solicito comida...</td>\n",
       "      <td>1</td>\n",
       "      <td>1_bom_comida_atendimento_muito</td>\n",
       "      <td>[bom, comida, atendimento, muito, comer, ambie...</td>\n",
       "      <td>[lugar muito agradável curtir amigo bom atendi...</td>\n",
       "      <td>0.626670</td>\n",
       "      <td>0.077070</td>\n",
       "      <td>0.296260</td>\n",
       "    </tr>\n",
       "    <tr>\n",
       "      <th>2</th>\n",
       "      <td>1 de dezembro de 2023</td>\n",
       "      <td>Eu amei, é a melhor cozinha mexicana que eu já...</td>\n",
       "      <td>ameir bom cozinha mexicano já comi espaço muit...</td>\n",
       "      <td>0</td>\n",
       "      <td>0_mexicano_comida_restaurante_bom</td>\n",
       "      <td>[mexicano, comida, restaurante, bom, mais, mui...</td>\n",
       "      <td>[atendimento excelente comida muito bom ambien...</td>\n",
       "      <td>0.967855</td>\n",
       "      <td>0.019304</td>\n",
       "      <td>0.012841</td>\n",
       "    </tr>\n",
       "    <tr>\n",
       "      <th>3</th>\n",
       "      <td>29 de novembro de 2023</td>\n",
       "      <td>Ótimo ambiente e decoração, funcionários prest...</td>\n",
       "      <td>bom ambiente decoração funcionário prestativo ...</td>\n",
       "      <td>2</td>\n",
       "      <td>2_música_bom_ambiente_muito</td>\n",
       "      <td>[música, bom, ambiente, muito, musica, atendim...</td>\n",
       "      <td>[atendimento excelente bom comida ambiente div...</td>\n",
       "      <td>0.940317</td>\n",
       "      <td>0.025686</td>\n",
       "      <td>0.033997</td>\n",
       "    </tr>\n",
       "    <tr>\n",
       "      <th>4</th>\n",
       "      <td>27 de novembro de 2023</td>\n",
       "      <td>Amomamos o atendimento do Matheus e do, tudo ó...</td>\n",
       "      <td>amoma atendimento matheu bom amar atendimento ...</td>\n",
       "      <td>1</td>\n",
       "      <td>1_bom_comida_atendimento_muito</td>\n",
       "      <td>[bom, comida, atendimento, muito, comer, ambie...</td>\n",
       "      <td>[lugar muito agradável curtir amigo bom atendi...</td>\n",
       "      <td>0.979101</td>\n",
       "      <td>0.012174</td>\n",
       "      <td>0.008725</td>\n",
       "    </tr>\n",
       "  </tbody>\n",
       "</table>\n",
       "</div>"
      ],
      "text/plain": [
       "                     Date                                             Review  \\\n",
       "0   4 de dezembro de 2023  Atendimento maravilhoso! Matheus foi muito ate...   \n",
       "1   2 de dezembro de 2023  Gostei muito dos pratos e do atendimento. Muit...   \n",
       "2   1 de dezembro de 2023  Eu amei, é a melhor cozinha mexicana que eu já...   \n",
       "3  29 de novembro de 2023  Ótimo ambiente e decoração, funcionários prest...   \n",
       "4  27 de novembro de 2023  Amomamos o atendimento do Matheus e do, tudo ó...   \n",
       "\n",
       "                                        Review Lemma  Topics  \\\n",
       "0  atendimento maravilhoso matheu muito atencioso...      -1   \n",
       "1  gostar muito prato atendimento solicito comida...       1   \n",
       "2  ameir bom cozinha mexicano já comi espaço muit...       0   \n",
       "3  bom ambiente decoração funcionário prestativo ...       2   \n",
       "4  amoma atendimento matheu bom amar atendimento ...       1   \n",
       "\n",
       "                               Names  \\\n",
       "0     -1_muito_lugar_bom_atendimento   \n",
       "1     1_bom_comida_atendimento_muito   \n",
       "2  0_mexicano_comida_restaurante_bom   \n",
       "3        2_música_bom_ambiente_muito   \n",
       "4     1_bom_comida_atendimento_muito   \n",
       "\n",
       "                                      Representation  \\\n",
       "0  [muito, lugar, bom, atendimento, bem, mais, an...   \n",
       "1  [bom, comida, atendimento, muito, comer, ambie...   \n",
       "2  [mexicano, comida, restaurante, bom, mais, mui...   \n",
       "3  [música, bom, ambiente, muito, musica, atendim...   \n",
       "4  [bom, comida, atendimento, muito, comer, ambie...   \n",
       "\n",
       "                                 Representative_Docs  Positive   Neutral  \\\n",
       "0  [muito bom divertir amigo família comer comida...  0.989543  0.006004   \n",
       "1  [lugar muito agradável curtir amigo bom atendi...  0.626670  0.077070   \n",
       "2  [atendimento excelente comida muito bom ambien...  0.967855  0.019304   \n",
       "3  [atendimento excelente bom comida ambiente div...  0.940317  0.025686   \n",
       "4  [lugar muito agradável curtir amigo bom atendi...  0.979101  0.012174   \n",
       "\n",
       "   Negative  \n",
       "0  0.004453  \n",
       "1  0.296260  \n",
       "2  0.012841  \n",
       "3  0.033997  \n",
       "4  0.008725  "
      ]
     },
     "execution_count": 27,
     "metadata": {},
     "output_type": "execute_result"
    }
   ],
   "source": [
    "df_topics.head()"
   ]
  },
  {
   "cell_type": "code",
   "execution_count": 28,
   "metadata": {},
   "outputs": [],
   "source": [
    "df_topics.to_csv('guacamole_topics_sentiment.csv', index=False)"
   ]
  },
  {
   "cell_type": "markdown",
   "metadata": {},
   "source": [
    "Feito isso, iremos calcular a média dos valores de cada um dos três sentimentos para os tópicos em questão e, no final de tudo, veremos qual é o maior valor dentre os três para definirmos o sentimento final para o tópico analisado."
   ]
  },
  {
   "cell_type": "code",
   "execution_count": 29,
   "metadata": {},
   "outputs": [
    {
     "data": {
      "text/html": [
       "<div>\n",
       "<style scoped>\n",
       "    .dataframe tbody tr th:only-of-type {\n",
       "        vertical-align: middle;\n",
       "    }\n",
       "\n",
       "    .dataframe tbody tr th {\n",
       "        vertical-align: top;\n",
       "    }\n",
       "\n",
       "    .dataframe thead th {\n",
       "        text-align: right;\n",
       "    }\n",
       "</style>\n",
       "<table border=\"1\" class=\"dataframe\">\n",
       "  <thead>\n",
       "    <tr style=\"text-align: right;\">\n",
       "      <th></th>\n",
       "      <th>Topics</th>\n",
       "      <th>Neutral</th>\n",
       "      <th>Positive</th>\n",
       "      <th>Negative</th>\n",
       "    </tr>\n",
       "  </thead>\n",
       "  <tbody>\n",
       "    <tr>\n",
       "      <th>0</th>\n",
       "      <td>-1</td>\n",
       "      <td>0.051176</td>\n",
       "      <td>0.810901</td>\n",
       "      <td>0.137923</td>\n",
       "    </tr>\n",
       "    <tr>\n",
       "      <th>1</th>\n",
       "      <td>0</td>\n",
       "      <td>0.055269</td>\n",
       "      <td>0.820337</td>\n",
       "      <td>0.124395</td>\n",
       "    </tr>\n",
       "    <tr>\n",
       "      <th>2</th>\n",
       "      <td>1</td>\n",
       "      <td>0.033215</td>\n",
       "      <td>0.881016</td>\n",
       "      <td>0.085768</td>\n",
       "    </tr>\n",
       "    <tr>\n",
       "      <th>3</th>\n",
       "      <td>2</td>\n",
       "      <td>0.037163</td>\n",
       "      <td>0.890303</td>\n",
       "      <td>0.072534</td>\n",
       "    </tr>\n",
       "    <tr>\n",
       "      <th>4</th>\n",
       "      <td>3</td>\n",
       "      <td>0.043821</td>\n",
       "      <td>0.840673</td>\n",
       "      <td>0.115506</td>\n",
       "    </tr>\n",
       "    <tr>\n",
       "      <th>5</th>\n",
       "      <td>4</td>\n",
       "      <td>0.033489</td>\n",
       "      <td>0.892801</td>\n",
       "      <td>0.073711</td>\n",
       "    </tr>\n",
       "    <tr>\n",
       "      <th>6</th>\n",
       "      <td>5</td>\n",
       "      <td>0.040362</td>\n",
       "      <td>0.866447</td>\n",
       "      <td>0.093191</td>\n",
       "    </tr>\n",
       "    <tr>\n",
       "      <th>7</th>\n",
       "      <td>6</td>\n",
       "      <td>0.062658</td>\n",
       "      <td>0.789517</td>\n",
       "      <td>0.147825</td>\n",
       "    </tr>\n",
       "    <tr>\n",
       "      <th>8</th>\n",
       "      <td>7</td>\n",
       "      <td>0.047895</td>\n",
       "      <td>0.808617</td>\n",
       "      <td>0.143488</td>\n",
       "    </tr>\n",
       "    <tr>\n",
       "      <th>9</th>\n",
       "      <td>8</td>\n",
       "      <td>0.032555</td>\n",
       "      <td>0.880048</td>\n",
       "      <td>0.087397</td>\n",
       "    </tr>\n",
       "    <tr>\n",
       "      <th>10</th>\n",
       "      <td>9</td>\n",
       "      <td>0.130502</td>\n",
       "      <td>0.367450</td>\n",
       "      <td>0.502048</td>\n",
       "    </tr>\n",
       "    <tr>\n",
       "      <th>11</th>\n",
       "      <td>10</td>\n",
       "      <td>0.047014</td>\n",
       "      <td>0.811791</td>\n",
       "      <td>0.141196</td>\n",
       "    </tr>\n",
       "    <tr>\n",
       "      <th>12</th>\n",
       "      <td>11</td>\n",
       "      <td>0.063335</td>\n",
       "      <td>0.769628</td>\n",
       "      <td>0.167036</td>\n",
       "    </tr>\n",
       "    <tr>\n",
       "      <th>13</th>\n",
       "      <td>12</td>\n",
       "      <td>0.060255</td>\n",
       "      <td>0.797398</td>\n",
       "      <td>0.142347</td>\n",
       "    </tr>\n",
       "    <tr>\n",
       "      <th>14</th>\n",
       "      <td>13</td>\n",
       "      <td>0.062517</td>\n",
       "      <td>0.703867</td>\n",
       "      <td>0.233616</td>\n",
       "    </tr>\n",
       "    <tr>\n",
       "      <th>15</th>\n",
       "      <td>14</td>\n",
       "      <td>0.027995</td>\n",
       "      <td>0.907848</td>\n",
       "      <td>0.064157</td>\n",
       "    </tr>\n",
       "    <tr>\n",
       "      <th>16</th>\n",
       "      <td>15</td>\n",
       "      <td>0.047373</td>\n",
       "      <td>0.768569</td>\n",
       "      <td>0.184058</td>\n",
       "    </tr>\n",
       "    <tr>\n",
       "      <th>17</th>\n",
       "      <td>16</td>\n",
       "      <td>0.053280</td>\n",
       "      <td>0.804160</td>\n",
       "      <td>0.142560</td>\n",
       "    </tr>\n",
       "    <tr>\n",
       "      <th>18</th>\n",
       "      <td>17</td>\n",
       "      <td>0.030438</td>\n",
       "      <td>0.863481</td>\n",
       "      <td>0.106081</td>\n",
       "    </tr>\n",
       "    <tr>\n",
       "      <th>19</th>\n",
       "      <td>18</td>\n",
       "      <td>0.026644</td>\n",
       "      <td>0.907619</td>\n",
       "      <td>0.065737</td>\n",
       "    </tr>\n",
       "    <tr>\n",
       "      <th>20</th>\n",
       "      <td>19</td>\n",
       "      <td>0.066310</td>\n",
       "      <td>0.737816</td>\n",
       "      <td>0.195874</td>\n",
       "    </tr>\n",
       "  </tbody>\n",
       "</table>\n",
       "</div>"
      ],
      "text/plain": [
       "    Topics   Neutral  Positive  Negative\n",
       "0       -1  0.051176  0.810901  0.137923\n",
       "1        0  0.055269  0.820337  0.124395\n",
       "2        1  0.033215  0.881016  0.085768\n",
       "3        2  0.037163  0.890303  0.072534\n",
       "4        3  0.043821  0.840673  0.115506\n",
       "5        4  0.033489  0.892801  0.073711\n",
       "6        5  0.040362  0.866447  0.093191\n",
       "7        6  0.062658  0.789517  0.147825\n",
       "8        7  0.047895  0.808617  0.143488\n",
       "9        8  0.032555  0.880048  0.087397\n",
       "10       9  0.130502  0.367450  0.502048\n",
       "11      10  0.047014  0.811791  0.141196\n",
       "12      11  0.063335  0.769628  0.167036\n",
       "13      12  0.060255  0.797398  0.142347\n",
       "14      13  0.062517  0.703867  0.233616\n",
       "15      14  0.027995  0.907848  0.064157\n",
       "16      15  0.047373  0.768569  0.184058\n",
       "17      16  0.053280  0.804160  0.142560\n",
       "18      17  0.030438  0.863481  0.106081\n",
       "19      18  0.026644  0.907619  0.065737\n",
       "20      19  0.066310  0.737816  0.195874"
      ]
     },
     "execution_count": 29,
     "metadata": {},
     "output_type": "execute_result"
    }
   ],
   "source": [
    "df_topic_sentiment = df_topics.groupby('Topics').agg({'Neutral': 'mean', 'Positive': 'mean', 'Negative': 'mean'})\n",
    "df_topic_sentiment = df_topic_sentiment.reset_index()\n",
    "df_topic_sentiment"
   ]
  },
  {
   "cell_type": "code",
   "execution_count": 30,
   "metadata": {},
   "outputs": [
    {
     "data": {
      "text/html": [
       "<div>\n",
       "<style scoped>\n",
       "    .dataframe tbody tr th:only-of-type {\n",
       "        vertical-align: middle;\n",
       "    }\n",
       "\n",
       "    .dataframe tbody tr th {\n",
       "        vertical-align: top;\n",
       "    }\n",
       "\n",
       "    .dataframe thead th {\n",
       "        text-align: right;\n",
       "    }\n",
       "</style>\n",
       "<table border=\"1\" class=\"dataframe\">\n",
       "  <thead>\n",
       "    <tr style=\"text-align: right;\">\n",
       "      <th></th>\n",
       "      <th>Topics</th>\n",
       "      <th>Neutral</th>\n",
       "      <th>Positive</th>\n",
       "      <th>Negative</th>\n",
       "      <th>Highest Score</th>\n",
       "      <th>Topic Sentiment</th>\n",
       "    </tr>\n",
       "  </thead>\n",
       "  <tbody>\n",
       "    <tr>\n",
       "      <th>0</th>\n",
       "      <td>-1</td>\n",
       "      <td>0.051176</td>\n",
       "      <td>0.810901</td>\n",
       "      <td>0.137923</td>\n",
       "      <td>0.810901</td>\n",
       "      <td>Positive</td>\n",
       "    </tr>\n",
       "    <tr>\n",
       "      <th>1</th>\n",
       "      <td>0</td>\n",
       "      <td>0.055269</td>\n",
       "      <td>0.820337</td>\n",
       "      <td>0.124395</td>\n",
       "      <td>0.820337</td>\n",
       "      <td>Positive</td>\n",
       "    </tr>\n",
       "    <tr>\n",
       "      <th>2</th>\n",
       "      <td>1</td>\n",
       "      <td>0.033215</td>\n",
       "      <td>0.881016</td>\n",
       "      <td>0.085768</td>\n",
       "      <td>0.881016</td>\n",
       "      <td>Positive</td>\n",
       "    </tr>\n",
       "    <tr>\n",
       "      <th>3</th>\n",
       "      <td>2</td>\n",
       "      <td>0.037163</td>\n",
       "      <td>0.890303</td>\n",
       "      <td>0.072534</td>\n",
       "      <td>0.890303</td>\n",
       "      <td>Positive</td>\n",
       "    </tr>\n",
       "    <tr>\n",
       "      <th>4</th>\n",
       "      <td>3</td>\n",
       "      <td>0.043821</td>\n",
       "      <td>0.840673</td>\n",
       "      <td>0.115506</td>\n",
       "      <td>0.840673</td>\n",
       "      <td>Positive</td>\n",
       "    </tr>\n",
       "    <tr>\n",
       "      <th>5</th>\n",
       "      <td>4</td>\n",
       "      <td>0.033489</td>\n",
       "      <td>0.892801</td>\n",
       "      <td>0.073711</td>\n",
       "      <td>0.892801</td>\n",
       "      <td>Positive</td>\n",
       "    </tr>\n",
       "    <tr>\n",
       "      <th>6</th>\n",
       "      <td>5</td>\n",
       "      <td>0.040362</td>\n",
       "      <td>0.866447</td>\n",
       "      <td>0.093191</td>\n",
       "      <td>0.866447</td>\n",
       "      <td>Positive</td>\n",
       "    </tr>\n",
       "    <tr>\n",
       "      <th>7</th>\n",
       "      <td>6</td>\n",
       "      <td>0.062658</td>\n",
       "      <td>0.789517</td>\n",
       "      <td>0.147825</td>\n",
       "      <td>0.789517</td>\n",
       "      <td>Positive</td>\n",
       "    </tr>\n",
       "    <tr>\n",
       "      <th>8</th>\n",
       "      <td>7</td>\n",
       "      <td>0.047895</td>\n",
       "      <td>0.808617</td>\n",
       "      <td>0.143488</td>\n",
       "      <td>0.808617</td>\n",
       "      <td>Positive</td>\n",
       "    </tr>\n",
       "    <tr>\n",
       "      <th>9</th>\n",
       "      <td>8</td>\n",
       "      <td>0.032555</td>\n",
       "      <td>0.880048</td>\n",
       "      <td>0.087397</td>\n",
       "      <td>0.880048</td>\n",
       "      <td>Positive</td>\n",
       "    </tr>\n",
       "    <tr>\n",
       "      <th>10</th>\n",
       "      <td>9</td>\n",
       "      <td>0.130502</td>\n",
       "      <td>0.367450</td>\n",
       "      <td>0.502048</td>\n",
       "      <td>0.502048</td>\n",
       "      <td>Negative</td>\n",
       "    </tr>\n",
       "    <tr>\n",
       "      <th>11</th>\n",
       "      <td>10</td>\n",
       "      <td>0.047014</td>\n",
       "      <td>0.811791</td>\n",
       "      <td>0.141196</td>\n",
       "      <td>0.811791</td>\n",
       "      <td>Positive</td>\n",
       "    </tr>\n",
       "    <tr>\n",
       "      <th>12</th>\n",
       "      <td>11</td>\n",
       "      <td>0.063335</td>\n",
       "      <td>0.769628</td>\n",
       "      <td>0.167036</td>\n",
       "      <td>0.769628</td>\n",
       "      <td>Positive</td>\n",
       "    </tr>\n",
       "    <tr>\n",
       "      <th>13</th>\n",
       "      <td>12</td>\n",
       "      <td>0.060255</td>\n",
       "      <td>0.797398</td>\n",
       "      <td>0.142347</td>\n",
       "      <td>0.797398</td>\n",
       "      <td>Positive</td>\n",
       "    </tr>\n",
       "    <tr>\n",
       "      <th>14</th>\n",
       "      <td>13</td>\n",
       "      <td>0.062517</td>\n",
       "      <td>0.703867</td>\n",
       "      <td>0.233616</td>\n",
       "      <td>0.703867</td>\n",
       "      <td>Positive</td>\n",
       "    </tr>\n",
       "    <tr>\n",
       "      <th>15</th>\n",
       "      <td>14</td>\n",
       "      <td>0.027995</td>\n",
       "      <td>0.907848</td>\n",
       "      <td>0.064157</td>\n",
       "      <td>0.907848</td>\n",
       "      <td>Positive</td>\n",
       "    </tr>\n",
       "    <tr>\n",
       "      <th>16</th>\n",
       "      <td>15</td>\n",
       "      <td>0.047373</td>\n",
       "      <td>0.768569</td>\n",
       "      <td>0.184058</td>\n",
       "      <td>0.768569</td>\n",
       "      <td>Positive</td>\n",
       "    </tr>\n",
       "    <tr>\n",
       "      <th>17</th>\n",
       "      <td>16</td>\n",
       "      <td>0.053280</td>\n",
       "      <td>0.804160</td>\n",
       "      <td>0.142560</td>\n",
       "      <td>0.804160</td>\n",
       "      <td>Positive</td>\n",
       "    </tr>\n",
       "    <tr>\n",
       "      <th>18</th>\n",
       "      <td>17</td>\n",
       "      <td>0.030438</td>\n",
       "      <td>0.863481</td>\n",
       "      <td>0.106081</td>\n",
       "      <td>0.863481</td>\n",
       "      <td>Positive</td>\n",
       "    </tr>\n",
       "    <tr>\n",
       "      <th>19</th>\n",
       "      <td>18</td>\n",
       "      <td>0.026644</td>\n",
       "      <td>0.907619</td>\n",
       "      <td>0.065737</td>\n",
       "      <td>0.907619</td>\n",
       "      <td>Positive</td>\n",
       "    </tr>\n",
       "    <tr>\n",
       "      <th>20</th>\n",
       "      <td>19</td>\n",
       "      <td>0.066310</td>\n",
       "      <td>0.737816</td>\n",
       "      <td>0.195874</td>\n",
       "      <td>0.737816</td>\n",
       "      <td>Positive</td>\n",
       "    </tr>\n",
       "  </tbody>\n",
       "</table>\n",
       "</div>"
      ],
      "text/plain": [
       "    Topics   Neutral  Positive  Negative  Highest Score Topic Sentiment\n",
       "0       -1  0.051176  0.810901  0.137923       0.810901        Positive\n",
       "1        0  0.055269  0.820337  0.124395       0.820337        Positive\n",
       "2        1  0.033215  0.881016  0.085768       0.881016        Positive\n",
       "3        2  0.037163  0.890303  0.072534       0.890303        Positive\n",
       "4        3  0.043821  0.840673  0.115506       0.840673        Positive\n",
       "5        4  0.033489  0.892801  0.073711       0.892801        Positive\n",
       "6        5  0.040362  0.866447  0.093191       0.866447        Positive\n",
       "7        6  0.062658  0.789517  0.147825       0.789517        Positive\n",
       "8        7  0.047895  0.808617  0.143488       0.808617        Positive\n",
       "9        8  0.032555  0.880048  0.087397       0.880048        Positive\n",
       "10       9  0.130502  0.367450  0.502048       0.502048        Negative\n",
       "11      10  0.047014  0.811791  0.141196       0.811791        Positive\n",
       "12      11  0.063335  0.769628  0.167036       0.769628        Positive\n",
       "13      12  0.060255  0.797398  0.142347       0.797398        Positive\n",
       "14      13  0.062517  0.703867  0.233616       0.703867        Positive\n",
       "15      14  0.027995  0.907848  0.064157       0.907848        Positive\n",
       "16      15  0.047373  0.768569  0.184058       0.768569        Positive\n",
       "17      16  0.053280  0.804160  0.142560       0.804160        Positive\n",
       "18      17  0.030438  0.863481  0.106081       0.863481        Positive\n",
       "19      18  0.026644  0.907619  0.065737       0.907619        Positive\n",
       "20      19  0.066310  0.737816  0.195874       0.737816        Positive"
      ]
     },
     "execution_count": 30,
     "metadata": {},
     "output_type": "execute_result"
    }
   ],
   "source": [
    "score_cols = ['Neutral', 'Positive', 'Negative']\n",
    "df_topic_sentiment['Highest Score'] = df_topic_sentiment[score_cols].max(axis=1)\n",
    "\n",
    "def get_sentiment(row):\n",
    "    if row['Positive'] == row['Highest Score']:\n",
    "        return 'Positive'\n",
    "    elif row['Negative'] == row['Highest Score']:\n",
    "        return 'Negative'\n",
    "    else:\n",
    "        return 'Neutral'\n",
    "\n",
    "df_topic_sentiment['Topic Sentiment'] = df_topic_sentiment.apply(get_sentiment, axis=1)\n",
    "df_topic_sentiment"
   ]
  },
  {
   "cell_type": "code",
   "execution_count": 31,
   "metadata": {},
   "outputs": [],
   "source": [
    "df_topic_sentiment.to_csv('topics_sentiment.csv', index=False)"
   ]
  },
  {
   "cell_type": "markdown",
   "metadata": {},
   "source": [
    "# Extração de Entidade Nomeada"
   ]
  },
  {
   "cell_type": "code",
   "execution_count": 32,
   "metadata": {},
   "outputs": [
    {
     "name": "stderr",
     "output_type": "stream",
     "text": [
      "Some weights of the model checkpoint at 51la5/roberta-large-NER were not used when initializing XLMRobertaForTokenClassification: ['roberta.pooler.dense.weight', 'roberta.pooler.dense.bias']\n",
      "- This IS expected if you are initializing XLMRobertaForTokenClassification from the checkpoint of a model trained on another task or with another architecture (e.g. initializing a BertForSequenceClassification model from a BertForPreTraining model).\n",
      "- This IS NOT expected if you are initializing XLMRobertaForTokenClassification from the checkpoint of a model that you expect to be exactly identical (initializing a BertForSequenceClassification model from a BertForSequenceClassification model).\n"
     ]
    }
   ],
   "source": [
    "model_ner = AutoModelForTokenClassification.from_pretrained('51la5/roberta-large-NER')\n",
    "tokenizer_ner = AutoTokenizer.from_pretrained('51la5/roberta-large-NER', do_lower_case=False)\n",
    "ner_task = pipeline(\"ner\", model=model_ner, tokenizer=tokenizer_ner)"
   ]
  },
  {
   "cell_type": "code",
   "execution_count": 33,
   "metadata": {},
   "outputs": [
    {
     "name": "stderr",
     "output_type": "stream",
     "text": [
      "Asking to truncate to max_length but no maximum length is provided and the model has no predefined maximum length. Default to no truncation.\n"
     ]
    },
    {
     "data": {
      "text/plain": [
       "[{'entity': 'I-PER',\n",
       "  'score': 0.99990416,\n",
       "  'index': 1,\n",
       "  'word': '▁Julia',\n",
       "  'start': 0,\n",
       "  'end': 5},\n",
       " {'entity': 'I-LOC',\n",
       "  'score': 0.9999987,\n",
       "  'index': 5,\n",
       "  'word': '▁Londres',\n",
       "  'start': 19,\n",
       "  'end': 26},\n",
       " {'entity': 'I-LOC',\n",
       "  'score': 0.9999982,\n",
       "  'index': 7,\n",
       "  'word': '▁Ber',\n",
       "  'start': 31,\n",
       "  'end': 34},\n",
       " {'entity': 'I-LOC',\n",
       "  'score': 0.99999785,\n",
       "  'index': 8,\n",
       "  'word': 'lim',\n",
       "  'start': 34,\n",
       "  'end': 37}]"
      ]
     },
     "execution_count": 33,
     "metadata": {},
     "output_type": "execute_result"
    }
   ],
   "source": [
    "ner_task(\"Julia não gosta de Londres nem Berlim\")"
   ]
  },
  {
   "cell_type": "code",
   "execution_count": 34,
   "metadata": {},
   "outputs": [],
   "source": [
    "def classify_ner(text):\n",
    "    \"\"\"\n",
    "    Token classification function using a pretrained model.\n",
    "\n",
    "    Parameters:\n",
    "    - text: Input text to be tokenized and classified.\n",
    "\n",
    "    Returns:\n",
    "    List of tuples containing predicted pairs (token, label) for the input text.\n",
    "\n",
    "    Example:\n",
    "    Input:  \"Julia is tired of living in London.\"\n",
    "    Output: [('Julia', 'B-PESSOA'), ('is', 'O'), ('tired', 'O'), ('of', 'O'),\n",
    "            ('living', 'O'), ('in', 'O'), ('London', 'B-LOCAL'), ('.', 'O')]\n",
    "    \"\"\"\n",
    "\n",
    "    inputs = tokenizer_ner(text, max_length=512, truncation=True, return_tensors=\"pt\")\n",
    "    tokens = inputs.tokens()\n",
    "\n",
    "    outputs = model_ner(**inputs).logits\n",
    "    predictions = torch.argmax(outputs, dim=2)\n",
    "\n",
    "    results = []\n",
    "\n",
    "    for token, prediction in zip(tokens, predictions[0].numpy()):\n",
    "        label = model_ner.config.id2label.get(prediction, 'O')\n",
    "        if label != 'O':\n",
    "            results.append((token, label))\n",
    "\n",
    "    return results"
   ]
  },
  {
   "cell_type": "code",
   "execution_count": 35,
   "metadata": {},
   "outputs": [
    {
     "name": "stdout",
     "output_type": "stream",
     "text": [
      "CPU times: total: 1h 51min 12s\n",
      "Wall time: 25min 3s\n"
     ]
    }
   ],
   "source": [
    "%%time\n",
    "\n",
    "df_topics[\"Token Predictions\"] = df_topics[\"Review\"].apply(classify_ner)"
   ]
  },
  {
   "cell_type": "code",
   "execution_count": 36,
   "metadata": {},
   "outputs": [],
   "source": [
    "def merge_tokens(token_predictions):\n",
    "    \"\"\"\n",
    "    Function to merge consecutive tokens that start with \"_\" and have the same label.\n",
    "\n",
    "    Parameters:\n",
    "    - token_predictions: List of tuples containing predicted pairs (token, label).\n",
    "\n",
    "    Returns:\n",
    "    List of merged tuples where consecutive tokens starting with \"_\"\n",
    "    and having the same label are combined.\n",
    "\n",
    "    Example:\n",
    "    Input:  [('▁Mathe', 'I-PER'), ('us', 'I-PER')]\n",
    "    Output: [('▁Matheus', 'I-PER')]\n",
    "    \"\"\"\n",
    "\n",
    "    merged_results = []\n",
    "    current_token = \"\"\n",
    "    current_label = \"\"\n",
    "\n",
    "    for token, label in token_predictions:\n",
    "        if token.startswith(\"▁\"):\n",
    "            if current_token:\n",
    "                merged_results.append((current_token, current_label))\n",
    "            current_token = token[1:]\n",
    "            current_label = label\n",
    "        else:\n",
    "            current_token += token\n",
    "            current_label = label\n",
    "\n",
    "    if current_token:\n",
    "        merged_results.append((current_token, current_label))\n",
    "\n",
    "    return merged_results"
   ]
  },
  {
   "cell_type": "code",
   "execution_count": 37,
   "metadata": {},
   "outputs": [
    {
     "name": "stdout",
     "output_type": "stream",
     "text": [
      "CPU times: total: 15.6 ms\n",
      "Wall time: 17.3 ms\n"
     ]
    }
   ],
   "source": [
    "%%time\n",
    "\n",
    "df_topics[\"Token Predictions Corrected\"] = df_topics[\"Token Predictions\"].apply(merge_tokens)"
   ]
  },
  {
   "cell_type": "code",
   "execution_count": 38,
   "metadata": {},
   "outputs": [
    {
     "data": {
      "text/plain": [
       "[(('mexicana', 'I-MISC'), 332),\n",
       " (('mexicano', 'I-MISC'), 143),\n",
       " (('Rio', 'I-LOC'), 86),\n",
       " (('México', 'I-LOC'), 65),\n",
       " (('Guacamole', 'I-ORG'), 61),\n",
       " (('Guacamole', 'I-LOC'), 59),\n",
       " (('Barra', 'I-LOC'), 53),\n",
       " (('de', 'I-LOC'), 36),\n",
       " (('Janeiro', 'I-LOC'), 29),\n",
       " (('Jardim', 'I-LOC'), 28),\n",
       " (('<s>', 'I-LOC'), 27),\n",
       " (('Gabriel', 'I-PER'), 27),\n",
       " (('Botânico', 'I-LOC'), 24),\n",
       " (('Maria', 'I-MISC'), 23),\n",
       " (('Guacamole', 'I-MISC'), 23),\n",
       " (('Matheus', 'I-PER'), 21),\n",
       " (('Maria', 'I-PER'), 21),\n",
       " (('Tijuca', 'I-LOC'), 20),\n",
       " (('da', 'I-LOC'), 20),\n",
       " (('Mariachis', 'I-ORG'), 17)]"
      ]
     },
     "execution_count": 38,
     "metadata": {},
     "output_type": "execute_result"
    }
   ],
   "source": [
    "token_predictions_corrected = df_topics[\"Token Predictions Corrected\"]\n",
    "\n",
    "flat_list = [item for sublist in token_predictions_corrected for item in sublist]\n",
    "\n",
    "counter = Counter(flat_list)\n",
    "\n",
    "most_common_elements = counter.most_common(20)\n",
    "\n",
    "most_common_elements"
   ]
  },
  {
   "cell_type": "code",
   "execution_count": 39,
   "metadata": {},
   "outputs": [],
   "source": [
    "df_topics = df_topics.drop(columns=[\"Token Predictions\"])"
   ]
  },
  {
   "cell_type": "code",
   "execution_count": 40,
   "metadata": {},
   "outputs": [
    {
     "data": {
      "text/html": [
       "<div>\n",
       "<style scoped>\n",
       "    .dataframe tbody tr th:only-of-type {\n",
       "        vertical-align: middle;\n",
       "    }\n",
       "\n",
       "    .dataframe tbody tr th {\n",
       "        vertical-align: top;\n",
       "    }\n",
       "\n",
       "    .dataframe thead th {\n",
       "        text-align: right;\n",
       "    }\n",
       "</style>\n",
       "<table border=\"1\" class=\"dataframe\">\n",
       "  <thead>\n",
       "    <tr style=\"text-align: right;\">\n",
       "      <th></th>\n",
       "      <th>Date</th>\n",
       "      <th>Review</th>\n",
       "      <th>Review Lemma</th>\n",
       "      <th>Topics</th>\n",
       "      <th>Names</th>\n",
       "      <th>Representation</th>\n",
       "      <th>Representative_Docs</th>\n",
       "      <th>Positive</th>\n",
       "      <th>Neutral</th>\n",
       "      <th>Negative</th>\n",
       "      <th>Token Predictions Corrected</th>\n",
       "    </tr>\n",
       "  </thead>\n",
       "  <tbody>\n",
       "    <tr>\n",
       "      <th>0</th>\n",
       "      <td>4 de dezembro de 2023</td>\n",
       "      <td>Atendimento maravilhoso! Matheus foi muito ate...</td>\n",
       "      <td>atendimento maravilhoso matheu muito atencioso...</td>\n",
       "      <td>-1</td>\n",
       "      <td>-1_muito_lugar_bom_atendimento</td>\n",
       "      <td>[muito, lugar, bom, atendimento, bem, mais, an...</td>\n",
       "      <td>[muito bom divertir amigo família comer comida...</td>\n",
       "      <td>0.989543</td>\n",
       "      <td>0.006004</td>\n",
       "      <td>0.004453</td>\n",
       "      <td>[(Matheus, I-PER)]</td>\n",
       "    </tr>\n",
       "    <tr>\n",
       "      <th>1</th>\n",
       "      <td>2 de dezembro de 2023</td>\n",
       "      <td>Gostei muito dos pratos e do atendimento. Muit...</td>\n",
       "      <td>gostar muito prato atendimento solicito comida...</td>\n",
       "      <td>1</td>\n",
       "      <td>1_bom_comida_atendimento_muito</td>\n",
       "      <td>[bom, comida, atendimento, muito, comer, ambie...</td>\n",
       "      <td>[lugar muito agradável curtir amigo bom atendi...</td>\n",
       "      <td>0.626670</td>\n",
       "      <td>0.077070</td>\n",
       "      <td>0.296260</td>\n",
       "      <td>[]</td>\n",
       "    </tr>\n",
       "    <tr>\n",
       "      <th>2</th>\n",
       "      <td>1 de dezembro de 2023</td>\n",
       "      <td>Eu amei, é a melhor cozinha mexicana que eu já...</td>\n",
       "      <td>ameir bom cozinha mexicano já comi espaço muit...</td>\n",
       "      <td>0</td>\n",
       "      <td>0_mexicano_comida_restaurante_bom</td>\n",
       "      <td>[mexicano, comida, restaurante, bom, mais, mui...</td>\n",
       "      <td>[atendimento excelente comida muito bom ambien...</td>\n",
       "      <td>0.967855</td>\n",
       "      <td>0.019304</td>\n",
       "      <td>0.012841</td>\n",
       "      <td>[(mexicana, I-MISC)]</td>\n",
       "    </tr>\n",
       "    <tr>\n",
       "      <th>3</th>\n",
       "      <td>29 de novembro de 2023</td>\n",
       "      <td>Ótimo ambiente e decoração, funcionários prest...</td>\n",
       "      <td>bom ambiente decoração funcionário prestativo ...</td>\n",
       "      <td>2</td>\n",
       "      <td>2_música_bom_ambiente_muito</td>\n",
       "      <td>[música, bom, ambiente, muito, musica, atendim...</td>\n",
       "      <td>[atendimento excelente bom comida ambiente div...</td>\n",
       "      <td>0.940317</td>\n",
       "      <td>0.025686</td>\n",
       "      <td>0.033997</td>\n",
       "      <td>[]</td>\n",
       "    </tr>\n",
       "    <tr>\n",
       "      <th>4</th>\n",
       "      <td>27 de novembro de 2023</td>\n",
       "      <td>Amomamos o atendimento do Matheus e do, tudo ó...</td>\n",
       "      <td>amoma atendimento matheu bom amar atendimento ...</td>\n",
       "      <td>1</td>\n",
       "      <td>1_bom_comida_atendimento_muito</td>\n",
       "      <td>[bom, comida, atendimento, muito, comer, ambie...</td>\n",
       "      <td>[lugar muito agradável curtir amigo bom atendi...</td>\n",
       "      <td>0.979101</td>\n",
       "      <td>0.012174</td>\n",
       "      <td>0.008725</td>\n",
       "      <td>[(Matheus, I-PER)]</td>\n",
       "    </tr>\n",
       "  </tbody>\n",
       "</table>\n",
       "</div>"
      ],
      "text/plain": [
       "                     Date                                             Review  \\\n",
       "0   4 de dezembro de 2023  Atendimento maravilhoso! Matheus foi muito ate...   \n",
       "1   2 de dezembro de 2023  Gostei muito dos pratos e do atendimento. Muit...   \n",
       "2   1 de dezembro de 2023  Eu amei, é a melhor cozinha mexicana que eu já...   \n",
       "3  29 de novembro de 2023  Ótimo ambiente e decoração, funcionários prest...   \n",
       "4  27 de novembro de 2023  Amomamos o atendimento do Matheus e do, tudo ó...   \n",
       "\n",
       "                                        Review Lemma  Topics  \\\n",
       "0  atendimento maravilhoso matheu muito atencioso...      -1   \n",
       "1  gostar muito prato atendimento solicito comida...       1   \n",
       "2  ameir bom cozinha mexicano já comi espaço muit...       0   \n",
       "3  bom ambiente decoração funcionário prestativo ...       2   \n",
       "4  amoma atendimento matheu bom amar atendimento ...       1   \n",
       "\n",
       "                               Names  \\\n",
       "0     -1_muito_lugar_bom_atendimento   \n",
       "1     1_bom_comida_atendimento_muito   \n",
       "2  0_mexicano_comida_restaurante_bom   \n",
       "3        2_música_bom_ambiente_muito   \n",
       "4     1_bom_comida_atendimento_muito   \n",
       "\n",
       "                                      Representation  \\\n",
       "0  [muito, lugar, bom, atendimento, bem, mais, an...   \n",
       "1  [bom, comida, atendimento, muito, comer, ambie...   \n",
       "2  [mexicano, comida, restaurante, bom, mais, mui...   \n",
       "3  [música, bom, ambiente, muito, musica, atendim...   \n",
       "4  [bom, comida, atendimento, muito, comer, ambie...   \n",
       "\n",
       "                                 Representative_Docs  Positive   Neutral  \\\n",
       "0  [muito bom divertir amigo família comer comida...  0.989543  0.006004   \n",
       "1  [lugar muito agradável curtir amigo bom atendi...  0.626670  0.077070   \n",
       "2  [atendimento excelente comida muito bom ambien...  0.967855  0.019304   \n",
       "3  [atendimento excelente bom comida ambiente div...  0.940317  0.025686   \n",
       "4  [lugar muito agradável curtir amigo bom atendi...  0.979101  0.012174   \n",
       "\n",
       "   Negative Token Predictions Corrected  \n",
       "0  0.004453          [(Matheus, I-PER)]  \n",
       "1  0.296260                          []  \n",
       "2  0.012841        [(mexicana, I-MISC)]  \n",
       "3  0.033997                          []  \n",
       "4  0.008725          [(Matheus, I-PER)]  "
      ]
     },
     "execution_count": 40,
     "metadata": {},
     "output_type": "execute_result"
    }
   ],
   "source": [
    "df_topics.head()"
   ]
  },
  {
   "cell_type": "code",
   "execution_count": 41,
   "metadata": {},
   "outputs": [
    {
     "data": {
      "text/html": [
       "<div>\n",
       "<style scoped>\n",
       "    .dataframe tbody tr th:only-of-type {\n",
       "        vertical-align: middle;\n",
       "    }\n",
       "\n",
       "    .dataframe tbody tr th {\n",
       "        vertical-align: top;\n",
       "    }\n",
       "\n",
       "    .dataframe thead th {\n",
       "        text-align: right;\n",
       "    }\n",
       "</style>\n",
       "<table border=\"1\" class=\"dataframe\">\n",
       "  <thead>\n",
       "    <tr style=\"text-align: right;\">\n",
       "      <th></th>\n",
       "      <th>Topics</th>\n",
       "      <th>Token Predictions Corrected</th>\n",
       "    </tr>\n",
       "  </thead>\n",
       "  <tbody>\n",
       "    <tr>\n",
       "      <th>0</th>\n",
       "      <td>-1</td>\n",
       "      <td>((Rio, I-LOC), 7)</td>\n",
       "    </tr>\n",
       "    <tr>\n",
       "      <th>1</th>\n",
       "      <td>0</td>\n",
       "      <td>((mexicana, I-MISC), 308)</td>\n",
       "    </tr>\n",
       "    <tr>\n",
       "      <th>2</th>\n",
       "      <td>1</td>\n",
       "      <td>((Maria, I-PER), 5)</td>\n",
       "    </tr>\n",
       "    <tr>\n",
       "      <th>3</th>\n",
       "      <td>2</td>\n",
       "      <td>((Rio, I-LOC), 4)</td>\n",
       "    </tr>\n",
       "    <tr>\n",
       "      <th>4</th>\n",
       "      <td>3</td>\n",
       "      <td>((Barra, I-LOC), 4)</td>\n",
       "    </tr>\n",
       "    <tr>\n",
       "      <th>5</th>\n",
       "      <td>4</td>\n",
       "      <td>((Eveline, I-PER), 4)</td>\n",
       "    </tr>\n",
       "    <tr>\n",
       "      <th>6</th>\n",
       "      <td>5</td>\n",
       "      <td>((Maria, I-PER), 4)</td>\n",
       "    </tr>\n",
       "    <tr>\n",
       "      <th>7</th>\n",
       "      <td>6</td>\n",
       "      <td>((Guacamole, I-ORG), 38)</td>\n",
       "    </tr>\n",
       "    <tr>\n",
       "      <th>8</th>\n",
       "      <td>7</td>\n",
       "      <td>((&lt;s&gt;, I-LOC), 2)</td>\n",
       "    </tr>\n",
       "    <tr>\n",
       "      <th>9</th>\n",
       "      <td>8</td>\n",
       "      <td>((Mateus, I-PER), 2)</td>\n",
       "    </tr>\n",
       "    <tr>\n",
       "      <th>10</th>\n",
       "      <td>9</td>\n",
       "      <td>((Barra, I-LOC), 4)</td>\n",
       "    </tr>\n",
       "    <tr>\n",
       "      <th>11</th>\n",
       "      <td>10</td>\n",
       "      <td>((México, I-LOC), 2)</td>\n",
       "    </tr>\n",
       "    <tr>\n",
       "      <th>12</th>\n",
       "      <td>11</td>\n",
       "      <td>((Tablet, I-MISC), 1)</td>\n",
       "    </tr>\n",
       "    <tr>\n",
       "      <th>13</th>\n",
       "      <td>12</td>\n",
       "      <td>((Mariachis, I-ORG), 2)</td>\n",
       "    </tr>\n",
       "    <tr>\n",
       "      <th>14</th>\n",
       "      <td>13</td>\n",
       "      <td>((Matheus, I-PER), 2)</td>\n",
       "    </tr>\n",
       "    <tr>\n",
       "      <th>15</th>\n",
       "      <td>14</td>\n",
       "      <td>((Mariachis, I-ORG), 2)</td>\n",
       "    </tr>\n",
       "    <tr>\n",
       "      <th>16</th>\n",
       "      <td>15</td>\n",
       "      <td>((Guacamole, I-LOC), 10)</td>\n",
       "    </tr>\n",
       "    <tr>\n",
       "      <th>17</th>\n",
       "      <td>16</td>\n",
       "      <td>((Breno, I-PER), 1)</td>\n",
       "    </tr>\n",
       "    <tr>\n",
       "      <th>18</th>\n",
       "      <td>17</td>\n",
       "      <td>((Rio, I-LOC), 12)</td>\n",
       "    </tr>\n",
       "    <tr>\n",
       "      <th>19</th>\n",
       "      <td>18</td>\n",
       "      <td>((Gabriel, I-PER), 1)</td>\n",
       "    </tr>\n",
       "    <tr>\n",
       "      <th>20</th>\n",
       "      <td>19</td>\n",
       "      <td>((de, I-MISC), 2)</td>\n",
       "    </tr>\n",
       "  </tbody>\n",
       "</table>\n",
       "</div>"
      ],
      "text/plain": [
       "    Topics Token Predictions Corrected\n",
       "0       -1           ((Rio, I-LOC), 7)\n",
       "1        0   ((mexicana, I-MISC), 308)\n",
       "2        1         ((Maria, I-PER), 5)\n",
       "3        2           ((Rio, I-LOC), 4)\n",
       "4        3         ((Barra, I-LOC), 4)\n",
       "5        4       ((Eveline, I-PER), 4)\n",
       "6        5         ((Maria, I-PER), 4)\n",
       "7        6    ((Guacamole, I-ORG), 38)\n",
       "8        7           ((<s>, I-LOC), 2)\n",
       "9        8        ((Mateus, I-PER), 2)\n",
       "10       9         ((Barra, I-LOC), 4)\n",
       "11      10        ((México, I-LOC), 2)\n",
       "12      11       ((Tablet, I-MISC), 1)\n",
       "13      12     ((Mariachis, I-ORG), 2)\n",
       "14      13       ((Matheus, I-PER), 2)\n",
       "15      14     ((Mariachis, I-ORG), 2)\n",
       "16      15    ((Guacamole, I-LOC), 10)\n",
       "17      16         ((Breno, I-PER), 1)\n",
       "18      17          ((Rio, I-LOC), 12)\n",
       "19      18       ((Gabriel, I-PER), 1)\n",
       "20      19           ((de, I-MISC), 2)"
      ]
     },
     "execution_count": 41,
     "metadata": {},
     "output_type": "execute_result"
    }
   ],
   "source": [
    "import pandas as pd\n",
    "from collections import Counter\n",
    "\n",
    "df_filtered = df_topics[df_topics[\"Token Predictions Corrected\"].apply(lambda x: bool(x))]\n",
    "\n",
    "def most_common_value(lst):\n",
    "    counter = Counter(lst)\n",
    "    if counter:\n",
    "        most_common = counter.most_common(1)[0]\n",
    "        return most_common[0], most_common[1]\n",
    "    else:\n",
    "        return None, 0\n",
    "\n",
    "result = df_filtered.groupby(\"Topics\")[\"Token Predictions Corrected\"].agg(lambda x: most_common_value([item for sublist in x for item in sublist])).reset_index()\n",
    "result"
   ]
  },
  {
   "cell_type": "code",
   "execution_count": 42,
   "metadata": {},
   "outputs": [],
   "source": [
    "result.to_csv('topics_ner.csv', index=False)"
   ]
  },
  {
   "cell_type": "markdown",
   "metadata": {},
   "source": [
    "### Montagem da planilha final"
   ]
  },
  {
   "cell_type": "code",
   "execution_count": 43,
   "metadata": {},
   "outputs": [
    {
     "data": {
      "text/html": [
       "<div>\n",
       "<style scoped>\n",
       "    .dataframe tbody tr th:only-of-type {\n",
       "        vertical-align: middle;\n",
       "    }\n",
       "\n",
       "    .dataframe tbody tr th {\n",
       "        vertical-align: top;\n",
       "    }\n",
       "\n",
       "    .dataframe thead th {\n",
       "        text-align: right;\n",
       "    }\n",
       "</style>\n",
       "<table border=\"1\" class=\"dataframe\">\n",
       "  <thead>\n",
       "    <tr style=\"text-align: right;\">\n",
       "      <th></th>\n",
       "      <th>Date</th>\n",
       "      <th>Review</th>\n",
       "      <th>Review Lemma</th>\n",
       "      <th>Topics</th>\n",
       "      <th>Names</th>\n",
       "      <th>Representation</th>\n",
       "      <th>Representative_Docs</th>\n",
       "      <th>Positive</th>\n",
       "      <th>Neutral</th>\n",
       "      <th>Negative</th>\n",
       "      <th>Token Predictions Corrected</th>\n",
       "    </tr>\n",
       "  </thead>\n",
       "  <tbody>\n",
       "    <tr>\n",
       "      <th>0</th>\n",
       "      <td>4 de dezembro de 2023</td>\n",
       "      <td>Atendimento maravilhoso! Matheus foi muito ate...</td>\n",
       "      <td>atendimento maravilhoso matheu muito atencioso...</td>\n",
       "      <td>-1</td>\n",
       "      <td>-1_muito_lugar_bom_atendimento</td>\n",
       "      <td>[muito, lugar, bom, atendimento, bem, mais, an...</td>\n",
       "      <td>[muito bom divertir amigo família comer comida...</td>\n",
       "      <td>0.989543</td>\n",
       "      <td>0.006004</td>\n",
       "      <td>0.004453</td>\n",
       "      <td>[(Matheus, I-PER)]</td>\n",
       "    </tr>\n",
       "    <tr>\n",
       "      <th>1</th>\n",
       "      <td>2 de dezembro de 2023</td>\n",
       "      <td>Gostei muito dos pratos e do atendimento. Muit...</td>\n",
       "      <td>gostar muito prato atendimento solicito comida...</td>\n",
       "      <td>1</td>\n",
       "      <td>1_bom_comida_atendimento_muito</td>\n",
       "      <td>[bom, comida, atendimento, muito, comer, ambie...</td>\n",
       "      <td>[lugar muito agradável curtir amigo bom atendi...</td>\n",
       "      <td>0.626670</td>\n",
       "      <td>0.077070</td>\n",
       "      <td>0.296260</td>\n",
       "      <td>[]</td>\n",
       "    </tr>\n",
       "    <tr>\n",
       "      <th>2</th>\n",
       "      <td>1 de dezembro de 2023</td>\n",
       "      <td>Eu amei, é a melhor cozinha mexicana que eu já...</td>\n",
       "      <td>ameir bom cozinha mexicano já comi espaço muit...</td>\n",
       "      <td>0</td>\n",
       "      <td>0_mexicano_comida_restaurante_bom</td>\n",
       "      <td>[mexicano, comida, restaurante, bom, mais, mui...</td>\n",
       "      <td>[atendimento excelente comida muito bom ambien...</td>\n",
       "      <td>0.967855</td>\n",
       "      <td>0.019304</td>\n",
       "      <td>0.012841</td>\n",
       "      <td>[(mexicana, I-MISC)]</td>\n",
       "    </tr>\n",
       "    <tr>\n",
       "      <th>3</th>\n",
       "      <td>29 de novembro de 2023</td>\n",
       "      <td>Ótimo ambiente e decoração, funcionários prest...</td>\n",
       "      <td>bom ambiente decoração funcionário prestativo ...</td>\n",
       "      <td>2</td>\n",
       "      <td>2_música_bom_ambiente_muito</td>\n",
       "      <td>[música, bom, ambiente, muito, musica, atendim...</td>\n",
       "      <td>[atendimento excelente bom comida ambiente div...</td>\n",
       "      <td>0.940317</td>\n",
       "      <td>0.025686</td>\n",
       "      <td>0.033997</td>\n",
       "      <td>[]</td>\n",
       "    </tr>\n",
       "    <tr>\n",
       "      <th>4</th>\n",
       "      <td>27 de novembro de 2023</td>\n",
       "      <td>Amomamos o atendimento do Matheus e do, tudo ó...</td>\n",
       "      <td>amoma atendimento matheu bom amar atendimento ...</td>\n",
       "      <td>1</td>\n",
       "      <td>1_bom_comida_atendimento_muito</td>\n",
       "      <td>[bom, comida, atendimento, muito, comer, ambie...</td>\n",
       "      <td>[lugar muito agradável curtir amigo bom atendi...</td>\n",
       "      <td>0.979101</td>\n",
       "      <td>0.012174</td>\n",
       "      <td>0.008725</td>\n",
       "      <td>[(Matheus, I-PER)]</td>\n",
       "    </tr>\n",
       "  </tbody>\n",
       "</table>\n",
       "</div>"
      ],
      "text/plain": [
       "                     Date                                             Review  \\\n",
       "0   4 de dezembro de 2023  Atendimento maravilhoso! Matheus foi muito ate...   \n",
       "1   2 de dezembro de 2023  Gostei muito dos pratos e do atendimento. Muit...   \n",
       "2   1 de dezembro de 2023  Eu amei, é a melhor cozinha mexicana que eu já...   \n",
       "3  29 de novembro de 2023  Ótimo ambiente e decoração, funcionários prest...   \n",
       "4  27 de novembro de 2023  Amomamos o atendimento do Matheus e do, tudo ó...   \n",
       "\n",
       "                                        Review Lemma  Topics  \\\n",
       "0  atendimento maravilhoso matheu muito atencioso...      -1   \n",
       "1  gostar muito prato atendimento solicito comida...       1   \n",
       "2  ameir bom cozinha mexicano já comi espaço muit...       0   \n",
       "3  bom ambiente decoração funcionário prestativo ...       2   \n",
       "4  amoma atendimento matheu bom amar atendimento ...       1   \n",
       "\n",
       "                               Names  \\\n",
       "0     -1_muito_lugar_bom_atendimento   \n",
       "1     1_bom_comida_atendimento_muito   \n",
       "2  0_mexicano_comida_restaurante_bom   \n",
       "3        2_música_bom_ambiente_muito   \n",
       "4     1_bom_comida_atendimento_muito   \n",
       "\n",
       "                                      Representation  \\\n",
       "0  [muito, lugar, bom, atendimento, bem, mais, an...   \n",
       "1  [bom, comida, atendimento, muito, comer, ambie...   \n",
       "2  [mexicano, comida, restaurante, bom, mais, mui...   \n",
       "3  [música, bom, ambiente, muito, musica, atendim...   \n",
       "4  [bom, comida, atendimento, muito, comer, ambie...   \n",
       "\n",
       "                                 Representative_Docs  Positive   Neutral  \\\n",
       "0  [muito bom divertir amigo família comer comida...  0.989543  0.006004   \n",
       "1  [lugar muito agradável curtir amigo bom atendi...  0.626670  0.077070   \n",
       "2  [atendimento excelente comida muito bom ambien...  0.967855  0.019304   \n",
       "3  [atendimento excelente bom comida ambiente div...  0.940317  0.025686   \n",
       "4  [lugar muito agradável curtir amigo bom atendi...  0.979101  0.012174   \n",
       "\n",
       "   Negative Token Predictions Corrected  \n",
       "0  0.004453          [(Matheus, I-PER)]  \n",
       "1  0.296260                          []  \n",
       "2  0.012841        [(mexicana, I-MISC)]  \n",
       "3  0.033997                          []  \n",
       "4  0.008725          [(Matheus, I-PER)]  "
      ]
     },
     "execution_count": 43,
     "metadata": {},
     "output_type": "execute_result"
    }
   ],
   "source": [
    "df_topics.head()"
   ]
  },
  {
   "cell_type": "code",
   "execution_count": 44,
   "metadata": {},
   "outputs": [
    {
     "data": {
      "text/html": [
       "<div>\n",
       "<style scoped>\n",
       "    .dataframe tbody tr th:only-of-type {\n",
       "        vertical-align: middle;\n",
       "    }\n",
       "\n",
       "    .dataframe tbody tr th {\n",
       "        vertical-align: top;\n",
       "    }\n",
       "\n",
       "    .dataframe thead th {\n",
       "        text-align: right;\n",
       "    }\n",
       "</style>\n",
       "<table border=\"1\" class=\"dataframe\">\n",
       "  <thead>\n",
       "    <tr style=\"text-align: right;\">\n",
       "      <th></th>\n",
       "      <th>Topics</th>\n",
       "      <th>Neutral</th>\n",
       "      <th>Positive</th>\n",
       "      <th>Negative</th>\n",
       "      <th>Highest Score</th>\n",
       "      <th>Topic Sentiment</th>\n",
       "    </tr>\n",
       "  </thead>\n",
       "  <tbody>\n",
       "    <tr>\n",
       "      <th>0</th>\n",
       "      <td>-1</td>\n",
       "      <td>0.051176</td>\n",
       "      <td>0.810901</td>\n",
       "      <td>0.137923</td>\n",
       "      <td>0.810901</td>\n",
       "      <td>Positive</td>\n",
       "    </tr>\n",
       "    <tr>\n",
       "      <th>1</th>\n",
       "      <td>0</td>\n",
       "      <td>0.055269</td>\n",
       "      <td>0.820337</td>\n",
       "      <td>0.124395</td>\n",
       "      <td>0.820337</td>\n",
       "      <td>Positive</td>\n",
       "    </tr>\n",
       "    <tr>\n",
       "      <th>2</th>\n",
       "      <td>1</td>\n",
       "      <td>0.033215</td>\n",
       "      <td>0.881016</td>\n",
       "      <td>0.085768</td>\n",
       "      <td>0.881016</td>\n",
       "      <td>Positive</td>\n",
       "    </tr>\n",
       "    <tr>\n",
       "      <th>3</th>\n",
       "      <td>2</td>\n",
       "      <td>0.037163</td>\n",
       "      <td>0.890303</td>\n",
       "      <td>0.072534</td>\n",
       "      <td>0.890303</td>\n",
       "      <td>Positive</td>\n",
       "    </tr>\n",
       "    <tr>\n",
       "      <th>4</th>\n",
       "      <td>3</td>\n",
       "      <td>0.043821</td>\n",
       "      <td>0.840673</td>\n",
       "      <td>0.115506</td>\n",
       "      <td>0.840673</td>\n",
       "      <td>Positive</td>\n",
       "    </tr>\n",
       "  </tbody>\n",
       "</table>\n",
       "</div>"
      ],
      "text/plain": [
       "   Topics   Neutral  Positive  Negative  Highest Score Topic Sentiment\n",
       "0      -1  0.051176  0.810901  0.137923       0.810901        Positive\n",
       "1       0  0.055269  0.820337  0.124395       0.820337        Positive\n",
       "2       1  0.033215  0.881016  0.085768       0.881016        Positive\n",
       "3       2  0.037163  0.890303  0.072534       0.890303        Positive\n",
       "4       3  0.043821  0.840673  0.115506       0.840673        Positive"
      ]
     },
     "execution_count": 44,
     "metadata": {},
     "output_type": "execute_result"
    }
   ],
   "source": [
    "df_topic_sentiment.head()"
   ]
  },
  {
   "cell_type": "code",
   "execution_count": 45,
   "metadata": {},
   "outputs": [
    {
     "data": {
      "text/html": [
       "<div>\n",
       "<style scoped>\n",
       "    .dataframe tbody tr th:only-of-type {\n",
       "        vertical-align: middle;\n",
       "    }\n",
       "\n",
       "    .dataframe tbody tr th {\n",
       "        vertical-align: top;\n",
       "    }\n",
       "\n",
       "    .dataframe thead th {\n",
       "        text-align: right;\n",
       "    }\n",
       "</style>\n",
       "<table border=\"1\" class=\"dataframe\">\n",
       "  <thead>\n",
       "    <tr style=\"text-align: right;\">\n",
       "      <th></th>\n",
       "      <th>Topics</th>\n",
       "      <th>Token Predictions Corrected</th>\n",
       "    </tr>\n",
       "  </thead>\n",
       "  <tbody>\n",
       "    <tr>\n",
       "      <th>0</th>\n",
       "      <td>-1</td>\n",
       "      <td>((Rio, I-LOC), 7)</td>\n",
       "    </tr>\n",
       "    <tr>\n",
       "      <th>1</th>\n",
       "      <td>0</td>\n",
       "      <td>((mexicana, I-MISC), 308)</td>\n",
       "    </tr>\n",
       "    <tr>\n",
       "      <th>2</th>\n",
       "      <td>1</td>\n",
       "      <td>((Maria, I-PER), 5)</td>\n",
       "    </tr>\n",
       "    <tr>\n",
       "      <th>3</th>\n",
       "      <td>2</td>\n",
       "      <td>((Rio, I-LOC), 4)</td>\n",
       "    </tr>\n",
       "    <tr>\n",
       "      <th>4</th>\n",
       "      <td>3</td>\n",
       "      <td>((Barra, I-LOC), 4)</td>\n",
       "    </tr>\n",
       "  </tbody>\n",
       "</table>\n",
       "</div>"
      ],
      "text/plain": [
       "   Topics Token Predictions Corrected\n",
       "0      -1           ((Rio, I-LOC), 7)\n",
       "1       0   ((mexicana, I-MISC), 308)\n",
       "2       1         ((Maria, I-PER), 5)\n",
       "3       2           ((Rio, I-LOC), 4)\n",
       "4       3         ((Barra, I-LOC), 4)"
      ]
     },
     "execution_count": 45,
     "metadata": {},
     "output_type": "execute_result"
    }
   ],
   "source": [
    "result.head()"
   ]
  },
  {
   "cell_type": "code",
   "execution_count": 63,
   "metadata": {},
   "outputs": [],
   "source": [
    "df_info = df_topics[['Topics', 'Representation']].copy()\n",
    "df_info = pd.merge(df_info, df_topic_sentiment, on='Topics', how='left')\n",
    "df_info = pd.merge(df_info, result, on='Topics', how='left')\n",
    "df_info = df_info.drop_duplicates(subset='Topics')"
   ]
  },
  {
   "cell_type": "code",
   "execution_count": 64,
   "metadata": {},
   "outputs": [],
   "source": [
    "topic_freq = topic_model.get_topic_freq()\n",
    "df_info = pd.merge(df_info, topic_freq, left_on='Topics', right_on='Topic', how='left')"
   ]
  },
  {
   "cell_type": "code",
   "execution_count": 65,
   "metadata": {},
   "outputs": [
    {
     "data": {
      "text/html": [
       "<div>\n",
       "<style scoped>\n",
       "    .dataframe tbody tr th:only-of-type {\n",
       "        vertical-align: middle;\n",
       "    }\n",
       "\n",
       "    .dataframe tbody tr th {\n",
       "        vertical-align: top;\n",
       "    }\n",
       "\n",
       "    .dataframe thead th {\n",
       "        text-align: right;\n",
       "    }\n",
       "</style>\n",
       "<table border=\"1\" class=\"dataframe\">\n",
       "  <thead>\n",
       "    <tr style=\"text-align: right;\">\n",
       "      <th></th>\n",
       "      <th>Topics</th>\n",
       "      <th>Representation</th>\n",
       "      <th>Neutral</th>\n",
       "      <th>Positive</th>\n",
       "      <th>Negative</th>\n",
       "      <th>Highest Score</th>\n",
       "      <th>Topic Sentiment</th>\n",
       "      <th>Token Predictions Corrected</th>\n",
       "      <th>Count</th>\n",
       "    </tr>\n",
       "  </thead>\n",
       "  <tbody>\n",
       "    <tr>\n",
       "      <th>0</th>\n",
       "      <td>-1</td>\n",
       "      <td>[muito, lugar, bom, atendimento, bem, mais, an...</td>\n",
       "      <td>0.051176</td>\n",
       "      <td>0.810901</td>\n",
       "      <td>0.137923</td>\n",
       "      <td>0.810901</td>\n",
       "      <td>Positive</td>\n",
       "      <td>((Rio, I-LOC), 7)</td>\n",
       "      <td>330</td>\n",
       "    </tr>\n",
       "    <tr>\n",
       "      <th>2</th>\n",
       "      <td>0</td>\n",
       "      <td>[mexicano, comida, restaurante, bom, mais, mui...</td>\n",
       "      <td>0.055269</td>\n",
       "      <td>0.820337</td>\n",
       "      <td>0.124395</td>\n",
       "      <td>0.820337</td>\n",
       "      <td>Positive</td>\n",
       "      <td>((mexicana, I-MISC), 308)</td>\n",
       "      <td>530</td>\n",
       "    </tr>\n",
       "    <tr>\n",
       "      <th>1</th>\n",
       "      <td>1</td>\n",
       "      <td>[bom, comida, atendimento, muito, comer, ambie...</td>\n",
       "      <td>0.033215</td>\n",
       "      <td>0.881016</td>\n",
       "      <td>0.085768</td>\n",
       "      <td>0.881016</td>\n",
       "      <td>Positive</td>\n",
       "      <td>((Maria, I-PER), 5)</td>\n",
       "      <td>380</td>\n",
       "    </tr>\n",
       "    <tr>\n",
       "      <th>3</th>\n",
       "      <td>2</td>\n",
       "      <td>[música, bom, ambiente, muito, musica, atendim...</td>\n",
       "      <td>0.037163</td>\n",
       "      <td>0.890303</td>\n",
       "      <td>0.072534</td>\n",
       "      <td>0.890303</td>\n",
       "      <td>Positive</td>\n",
       "      <td>((Rio, I-LOC), 4)</td>\n",
       "      <td>347</td>\n",
       "    </tr>\n",
       "    <tr>\n",
       "      <th>10</th>\n",
       "      <td>3</td>\n",
       "      <td>[aniversário, comemorar, amigo, muito, bom, lu...</td>\n",
       "      <td>0.043821</td>\n",
       "      <td>0.840673</td>\n",
       "      <td>0.115506</td>\n",
       "      <td>0.840673</td>\n",
       "      <td>Positive</td>\n",
       "      <td>((Barra, I-LOC), 4)</td>\n",
       "      <td>240</td>\n",
       "    </tr>\n",
       "  </tbody>\n",
       "</table>\n",
       "</div>"
      ],
      "text/plain": [
       "    Topics                                     Representation   Neutral  \\\n",
       "0       -1  [muito, lugar, bom, atendimento, bem, mais, an...  0.051176   \n",
       "2        0  [mexicano, comida, restaurante, bom, mais, mui...  0.055269   \n",
       "1        1  [bom, comida, atendimento, muito, comer, ambie...  0.033215   \n",
       "3        2  [música, bom, ambiente, muito, musica, atendim...  0.037163   \n",
       "10       3  [aniversário, comemorar, amigo, muito, bom, lu...  0.043821   \n",
       "\n",
       "    Positive  Negative  Highest Score Topic Sentiment  \\\n",
       "0   0.810901  0.137923       0.810901        Positive   \n",
       "2   0.820337  0.124395       0.820337        Positive   \n",
       "1   0.881016  0.085768       0.881016        Positive   \n",
       "3   0.890303  0.072534       0.890303        Positive   \n",
       "10  0.840673  0.115506       0.840673        Positive   \n",
       "\n",
       "   Token Predictions Corrected  Count  \n",
       "0            ((Rio, I-LOC), 7)    330  \n",
       "2    ((mexicana, I-MISC), 308)    530  \n",
       "1          ((Maria, I-PER), 5)    380  \n",
       "3            ((Rio, I-LOC), 4)    347  \n",
       "10         ((Barra, I-LOC), 4)    240  "
      ]
     },
     "execution_count": 65,
     "metadata": {},
     "output_type": "execute_result"
    }
   ],
   "source": [
    "df_info = df_info.sort_values(by='Topics')\n",
    "df_info = df_info.drop(columns='Topic')\n",
    "df_info.head()"
   ]
  },
  {
   "cell_type": "code",
   "execution_count": 66,
   "metadata": {},
   "outputs": [],
   "source": [
    "df_info.to_csv('complete_info_topics.csv', index=False)"
   ]
  },
  {
   "cell_type": "code",
   "execution_count": null,
   "metadata": {},
   "outputs": [],
   "source": [
    "df_topics = df_topics.sort_values(by='Topics')\n",
    "df_topics = df_topics.drop(columns='Date')\n",
    "df_topics = df_topics.drop(columns='Names')\n",
    "df_topics = df_topics.drop(columns='Review Lemma')\n",
    "df_topics = df_topics.drop(columns='Representation')\n",
    "df_topics = df_topics.drop(columns='Representative_Docs')"
   ]
  },
  {
   "cell_type": "code",
   "execution_count": 73,
   "metadata": {},
   "outputs": [
    {
     "data": {
      "text/html": [
       "<div>\n",
       "<style scoped>\n",
       "    .dataframe tbody tr th:only-of-type {\n",
       "        vertical-align: middle;\n",
       "    }\n",
       "\n",
       "    .dataframe tbody tr th {\n",
       "        vertical-align: top;\n",
       "    }\n",
       "\n",
       "    .dataframe thead th {\n",
       "        text-align: right;\n",
       "    }\n",
       "</style>\n",
       "<table border=\"1\" class=\"dataframe\">\n",
       "  <thead>\n",
       "    <tr style=\"text-align: right;\">\n",
       "      <th></th>\n",
       "      <th>Review</th>\n",
       "      <th>Topics</th>\n",
       "      <th>Positive</th>\n",
       "      <th>Neutral</th>\n",
       "      <th>Negative</th>\n",
       "      <th>Token Predictions Corrected</th>\n",
       "    </tr>\n",
       "  </thead>\n",
       "  <tbody>\n",
       "    <tr>\n",
       "      <th>0</th>\n",
       "      <td>Atendimento maravilhoso! Matheus foi muito ate...</td>\n",
       "      <td>-1</td>\n",
       "      <td>0.989543</td>\n",
       "      <td>0.006004</td>\n",
       "      <td>0.004453</td>\n",
       "      <td>[(Matheus, I-PER)]</td>\n",
       "    </tr>\n",
       "    <tr>\n",
       "      <th>2072</th>\n",
       "      <td>Muito bom para grupos e comemorações \\nBom ate...</td>\n",
       "      <td>-1</td>\n",
       "      <td>0.854495</td>\n",
       "      <td>0.032007</td>\n",
       "      <td>0.113497</td>\n",
       "      <td>[]</td>\n",
       "    </tr>\n",
       "    <tr>\n",
       "      <th>1269</th>\n",
       "      <td>Extremamente divertido, ambiente descontraido....</td>\n",
       "      <td>-1</td>\n",
       "      <td>0.475886</td>\n",
       "      <td>0.076328</td>\n",
       "      <td>0.447787</td>\n",
       "      <td>[]</td>\n",
       "    </tr>\n",
       "    <tr>\n",
       "      <th>2192</th>\n",
       "      <td>Local lindamente decorado. Localização com fac...</td>\n",
       "      <td>-1</td>\n",
       "      <td>0.932158</td>\n",
       "      <td>0.027144</td>\n",
       "      <td>0.040698</td>\n",
       "      <td>[]</td>\n",
       "    </tr>\n",
       "    <tr>\n",
       "      <th>1266</th>\n",
       "      <td>Ambiente muito divertido, comida muito boa, at...</td>\n",
       "      <td>-1</td>\n",
       "      <td>0.986336</td>\n",
       "      <td>0.007687</td>\n",
       "      <td>0.005977</td>\n",
       "      <td>[]</td>\n",
       "    </tr>\n",
       "  </tbody>\n",
       "</table>\n",
       "</div>"
      ],
      "text/plain": [
       "                                                 Review  Topics  Positive  \\\n",
       "0     Atendimento maravilhoso! Matheus foi muito ate...      -1  0.989543   \n",
       "2072  Muito bom para grupos e comemorações \\nBom ate...      -1  0.854495   \n",
       "1269  Extremamente divertido, ambiente descontraido....      -1  0.475886   \n",
       "2192  Local lindamente decorado. Localização com fac...      -1  0.932158   \n",
       "1266  Ambiente muito divertido, comida muito boa, at...      -1  0.986336   \n",
       "\n",
       "       Neutral  Negative Token Predictions Corrected  \n",
       "0     0.006004  0.004453          [(Matheus, I-PER)]  \n",
       "2072  0.032007  0.113497                          []  \n",
       "1269  0.076328  0.447787                          []  \n",
       "2192  0.027144  0.040698                          []  \n",
       "1266  0.007687  0.005977                          []  "
      ]
     },
     "execution_count": 73,
     "metadata": {},
     "output_type": "execute_result"
    }
   ],
   "source": [
    "df_topics.head()"
   ]
  },
  {
   "cell_type": "code",
   "execution_count": 74,
   "metadata": {},
   "outputs": [],
   "source": [
    "df_topic_0 = df_topics[df_topics['Topics'] == 0]\n",
    "df_topic_1 = df_topics[df_topics['Topics'] == 1]\n",
    "df_topic_2 = df_topics[df_topics['Topics'] == 2]\n",
    "df_topic_3 = df_topics[df_topics['Topics'] == 3]\n",
    "df_topic_4 = df_topics[df_topics['Topics'] == 4]\n",
    "df_topic_5 = df_topics[df_topics['Topics'] == 5]\n",
    "df_topic_9 = df_topics[df_topics['Topics'] == 9]"
   ]
  },
  {
   "cell_type": "code",
   "execution_count": 75,
   "metadata": {},
   "outputs": [],
   "source": [
    "df_topic_0.to_csv('df_topic_0.csv', index=False)\n",
    "df_topic_1.to_csv('df_topic_1.csv', index=False)\n",
    "df_topic_2.to_csv('df_topic_2.csv', index=False)\n",
    "df_topic_3.to_csv('df_topic_3.csv', index=False)\n",
    "df_topic_4.to_csv('df_topic_4.csv', index=False)\n",
    "df_topic_5.to_csv('df_topic_5.csv', index=False)\n",
    "df_topic_9.to_csv('df_topic_9.csv', index=False)"
   ]
  }
 ],
 "metadata": {
  "kernelspec": {
   "display_name": "tcc",
   "language": "python",
   "name": "python3"
  },
  "language_info": {
   "codemirror_mode": {
    "name": "ipython",
    "version": 3
   },
   "file_extension": ".py",
   "mimetype": "text/x-python",
   "name": "python",
   "nbconvert_exporter": "python",
   "pygments_lexer": "ipython3",
   "version": "3.9.18"
  }
 },
 "nbformat": 4,
 "nbformat_minor": 2
}
