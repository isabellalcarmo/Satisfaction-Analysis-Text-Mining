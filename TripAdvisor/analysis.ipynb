{
 "cells": [
  {
   "cell_type": "code",
   "execution_count": 1,
   "metadata": {},
   "outputs": [
    {
     "name": "stderr",
     "output_type": "stream",
     "text": [
      "c:\\Users\\isabe\\anaconda3\\envs\\tcc\\lib\\site-packages\\tqdm\\auto.py:21: TqdmWarning: IProgress not found. Please update jupyter and ipywidgets. See https://ipywidgets.readthedocs.io/en/stable/user_install.html\n",
      "  from .autonotebook import tqdm as notebook_tqdm\n",
      "[nltk_data] Downloading package stopwords to\n",
      "[nltk_data]     C:\\Users\\isabe\\AppData\\Roaming\\nltk_data...\n",
      "[nltk_data]   Package stopwords is already up-to-date!\n",
      "[nltk_data] Downloading package rslp to\n",
      "[nltk_data]     C:\\Users\\isabe\\AppData\\Roaming\\nltk_data...\n",
      "[nltk_data]   Package rslp is already up-to-date!\n"
     ]
    }
   ],
   "source": [
    "import pandas as pd\n",
    "import spacy\n",
    "from bertopic import BERTopic\n",
    "\n",
    "import re\n",
    "from datetime import datetime\n",
    "\n",
    "from gensim.utils import simple_preprocess\n",
    "\n",
    "import nltk\n",
    "nltk.download([\"stopwords\", \"rslp\"])\n",
    "stopwords = nltk.corpus.stopwords.words(\"portuguese\")\n",
    "\n",
    "import warnings\n",
    "warnings.filterwarnings(\"ignore\")"
   ]
  },
  {
   "cell_type": "code",
   "execution_count": 2,
   "metadata": {},
   "outputs": [
    {
     "data": {
      "text/html": [
       "<div>\n",
       "<style scoped>\n",
       "    .dataframe tbody tr th:only-of-type {\n",
       "        vertical-align: middle;\n",
       "    }\n",
       "\n",
       "    .dataframe tbody tr th {\n",
       "        vertical-align: top;\n",
       "    }\n",
       "\n",
       "    .dataframe thead th {\n",
       "        text-align: right;\n",
       "    }\n",
       "</style>\n",
       "<table border=\"1\" class=\"dataframe\">\n",
       "  <thead>\n",
       "    <tr style=\"text-align: right;\">\n",
       "      <th></th>\n",
       "      <th>Date</th>\n",
       "      <th>Review</th>\n",
       "    </tr>\n",
       "  </thead>\n",
       "  <tbody>\n",
       "    <tr>\n",
       "      <th>0</th>\n",
       "      <td>4 de dezembro de 2023</td>\n",
       "      <td>Atendimento maravilhoso! Matheus foi muito ate...</td>\n",
       "    </tr>\n",
       "    <tr>\n",
       "      <th>1</th>\n",
       "      <td>2 de dezembro de 2023</td>\n",
       "      <td>Gostei muito dos pratos e do atendimento. Muit...</td>\n",
       "    </tr>\n",
       "    <tr>\n",
       "      <th>2</th>\n",
       "      <td>1 de dezembro de 2023</td>\n",
       "      <td>Eu amei, é a melhor cozinha mexicana que eu já...</td>\n",
       "    </tr>\n",
       "    <tr>\n",
       "      <th>3</th>\n",
       "      <td>29 de novembro de 2023</td>\n",
       "      <td>Ótimo ambiente e decoração, funcionários prest...</td>\n",
       "    </tr>\n",
       "    <tr>\n",
       "      <th>4</th>\n",
       "      <td>27 de novembro de 2023</td>\n",
       "      <td>Amomamos o atendimento do Matheus e do, tudo ó...</td>\n",
       "    </tr>\n",
       "  </tbody>\n",
       "</table>\n",
       "</div>"
      ],
      "text/plain": [
       "                     Date                                             Review\n",
       "0   4 de dezembro de 2023  Atendimento maravilhoso! Matheus foi muito ate...\n",
       "1   2 de dezembro de 2023  Gostei muito dos pratos e do atendimento. Muit...\n",
       "2   1 de dezembro de 2023  Eu amei, é a melhor cozinha mexicana que eu já...\n",
       "3  29 de novembro de 2023  Ótimo ambiente e decoração, funcionários prest...\n",
       "4  27 de novembro de 2023  Amomamos o atendimento do Matheus e do, tudo ó..."
      ]
     },
     "execution_count": 2,
     "metadata": {},
     "output_type": "execute_result"
    }
   ],
   "source": [
    "df_reviews = pd.read_csv(\"guacamole_reviews.csv\")\n",
    "df_reviews.head()"
   ]
  },
  {
   "cell_type": "code",
   "execution_count": 3,
   "metadata": {},
   "outputs": [],
   "source": [
    "df_comments = df_reviews[\"Review\"]\n",
    "df_dates = df_reviews[\"Date\"]"
   ]
  },
  {
   "cell_type": "code",
   "execution_count": 4,
   "metadata": {},
   "outputs": [],
   "source": [
    "def remove_stopwords(text):\n",
    "    words = simple_preprocess(text)\n",
    "    phrase_adjusted = \" \".join([word for word in words if word not in stopwords])\n",
    "    return phrase_adjusted.lower()\n",
    "\n",
    "spacy_lemma = spacy.load(\"pt_core_news_sm\")\n",
    "\n",
    "def lemmatizer(text, postags_permitidos=['NOUN', 'ADJ', 'VERB', 'ADV']):\n",
    "    \"\"\"https://spacy.io/api/annotation\"\"\"\n",
    "    doc = spacy_lemma(text.lower())\n",
    "    doc_lemma = \" \".join([token.lemma_ for token in doc if token.pos_ in postags_permitidos])\n",
    "    return doc_lemma"
   ]
  },
  {
   "cell_type": "code",
   "execution_count": 5,
   "metadata": {},
   "outputs": [],
   "source": [
    "def parse_date(date_str):\n",
    "    months = {\n",
    "        'janeiro': 'January', 'fevereiro': 'February', 'março': 'March', 'abril': 'April',\n",
    "        'maio': 'May', 'junho': 'June', 'julho': 'July', 'agosto': 'August',\n",
    "        'setembro': 'September', 'outubro': 'October', 'novembro': 'November', 'dezembro': 'December'\n",
    "    }\n",
    "    match = re.match(r'(\\d+) de (\\w+) de (\\d+)', date_str)\n",
    "    if match:\n",
    "        day, month, year = match.groups()\n",
    "        month = months[month.lower()]\n",
    "        return datetime(int(year), list(months.values()).index(month) + 1, int(day)).strftime(\"%Y-%m-%d\")\n",
    "    else:\n",
    "        return None"
   ]
  },
  {
   "cell_type": "code",
   "execution_count": 6,
   "metadata": {},
   "outputs": [],
   "source": [
    "df_reviews[\"Review Lemma\"] = df_reviews[\"Review\"].map(remove_stopwords)\n",
    "df_reviews[\"Review Lemma\"] = df_reviews[\"Review\"].map(lemmatizer)"
   ]
  },
  {
   "cell_type": "code",
   "execution_count": 7,
   "metadata": {},
   "outputs": [],
   "source": [
    "df_reviews[\"Date Formatted\"] = df_reviews[\"Date\"].apply(parse_date)"
   ]
  },
  {
   "cell_type": "code",
   "execution_count": 8,
   "metadata": {},
   "outputs": [
    {
     "data": {
      "text/html": [
       "<div>\n",
       "<style scoped>\n",
       "    .dataframe tbody tr th:only-of-type {\n",
       "        vertical-align: middle;\n",
       "    }\n",
       "\n",
       "    .dataframe tbody tr th {\n",
       "        vertical-align: top;\n",
       "    }\n",
       "\n",
       "    .dataframe thead th {\n",
       "        text-align: right;\n",
       "    }\n",
       "</style>\n",
       "<table border=\"1\" class=\"dataframe\">\n",
       "  <thead>\n",
       "    <tr style=\"text-align: right;\">\n",
       "      <th></th>\n",
       "      <th>Date</th>\n",
       "      <th>Review</th>\n",
       "      <th>Review Lemma</th>\n",
       "      <th>Date Formatted</th>\n",
       "    </tr>\n",
       "  </thead>\n",
       "  <tbody>\n",
       "    <tr>\n",
       "      <th>0</th>\n",
       "      <td>4 de dezembro de 2023</td>\n",
       "      <td>Atendimento maravilhoso! Matheus foi muito ate...</td>\n",
       "      <td>atendimento maravilhoso matheu muito atencioso...</td>\n",
       "      <td>2023-12-04</td>\n",
       "    </tr>\n",
       "    <tr>\n",
       "      <th>1</th>\n",
       "      <td>2 de dezembro de 2023</td>\n",
       "      <td>Gostei muito dos pratos e do atendimento. Muit...</td>\n",
       "      <td>gostar muito prato atendimento solicito comida...</td>\n",
       "      <td>2023-12-02</td>\n",
       "    </tr>\n",
       "    <tr>\n",
       "      <th>2</th>\n",
       "      <td>1 de dezembro de 2023</td>\n",
       "      <td>Eu amei, é a melhor cozinha mexicana que eu já...</td>\n",
       "      <td>ameir bom cozinha mexicano já comi espaço muit...</td>\n",
       "      <td>2023-12-01</td>\n",
       "    </tr>\n",
       "    <tr>\n",
       "      <th>3</th>\n",
       "      <td>29 de novembro de 2023</td>\n",
       "      <td>Ótimo ambiente e decoração, funcionários prest...</td>\n",
       "      <td>bom ambiente decoração funcionário prestativo ...</td>\n",
       "      <td>2023-11-29</td>\n",
       "    </tr>\n",
       "    <tr>\n",
       "      <th>4</th>\n",
       "      <td>27 de novembro de 2023</td>\n",
       "      <td>Amomamos o atendimento do Matheus e do, tudo ó...</td>\n",
       "      <td>amoma atendimento matheu bom amar atendimento ...</td>\n",
       "      <td>2023-11-27</td>\n",
       "    </tr>\n",
       "  </tbody>\n",
       "</table>\n",
       "</div>"
      ],
      "text/plain": [
       "                     Date                                             Review  \\\n",
       "0   4 de dezembro de 2023  Atendimento maravilhoso! Matheus foi muito ate...   \n",
       "1   2 de dezembro de 2023  Gostei muito dos pratos e do atendimento. Muit...   \n",
       "2   1 de dezembro de 2023  Eu amei, é a melhor cozinha mexicana que eu já...   \n",
       "3  29 de novembro de 2023  Ótimo ambiente e decoração, funcionários prest...   \n",
       "4  27 de novembro de 2023  Amomamos o atendimento do Matheus e do, tudo ó...   \n",
       "\n",
       "                                        Review Lemma Date Formatted  \n",
       "0  atendimento maravilhoso matheu muito atencioso...     2023-12-04  \n",
       "1  gostar muito prato atendimento solicito comida...     2023-12-02  \n",
       "2  ameir bom cozinha mexicano já comi espaço muit...     2023-12-01  \n",
       "3  bom ambiente decoração funcionário prestativo ...     2023-11-29  \n",
       "4  amoma atendimento matheu bom amar atendimento ...     2023-11-27  "
      ]
     },
     "execution_count": 8,
     "metadata": {},
     "output_type": "execute_result"
    }
   ],
   "source": [
    "df_reviews.head()"
   ]
  },
  {
   "cell_type": "code",
   "execution_count": 9,
   "metadata": {},
   "outputs": [
    {
     "data": {
      "text/plain": [
       "['atendimento maravilhoso matheu muito atencioso colocar playlist atendente super simpatico',\n",
       " 'gostar muito prato atendimento solicito comida saboroso certeza voltar mais vez',\n",
       " 'ameir bom cozinha mexicano já comi espaço muito animar imersivo decoração casa linda atendimento excelente sempre',\n",
       " 'bom ambiente decoração funcionário prestativo comida boa música agradável divertido mariachi',\n",
       " 'amoma atendimento matheu bom amar atendimento sensacional comida muito saboroso']"
      ]
     },
     "execution_count": 9,
     "metadata": {},
     "output_type": "execute_result"
    }
   ],
   "source": [
    "df_comments = df_reviews[\"Review Lemma\"]\n",
    "doc_comments = df_comments.to_list()\n",
    "doc_comments[:5]"
   ]
  },
  {
   "cell_type": "code",
   "execution_count": 10,
   "metadata": {},
   "outputs": [
    {
     "name": "stderr",
     "output_type": "stream",
     "text": [
      "2023-12-10 11:21:58,987 - BERTopic - Embedding - Transforming documents to embeddings.\n",
      "Batches: 100%|██████████| 90/90 [01:10<00:00,  1.28it/s]\n",
      "2023-12-10 11:23:16,034 - BERTopic - Embedding - Completed ✓\n",
      "2023-12-10 11:23:16,034 - BERTopic - Dimensionality - Fitting the dimensionality reduction algorithm\n",
      "2023-12-10 11:23:55,642 - BERTopic - Dimensionality - Completed ✓\n",
      "2023-12-10 11:23:55,650 - BERTopic - Cluster - Start clustering the reduced embeddings\n",
      "2023-12-10 11:23:56,115 - BERTopic - Cluster - Completed ✓\n",
      "2023-12-10 11:23:56,139 - BERTopic - Representation - Extracting topics from clusters using representation models.\n",
      "2023-12-10 11:23:56,305 - BERTopic - Representation - Completed ✓\n"
     ]
    }
   ],
   "source": [
    "topic_model = BERTopic(language=\"portuguese\", calculate_probabilities=True, verbose=True)\n",
    "topics, probs = topic_model.fit_transform(doc_comments)"
   ]
  },
  {
   "cell_type": "code",
   "execution_count": 11,
   "metadata": {},
   "outputs": [
    {
     "data": {
      "text/html": [
       "<div>\n",
       "<style scoped>\n",
       "    .dataframe tbody tr th:only-of-type {\n",
       "        vertical-align: middle;\n",
       "    }\n",
       "\n",
       "    .dataframe tbody tr th {\n",
       "        vertical-align: top;\n",
       "    }\n",
       "\n",
       "    .dataframe thead th {\n",
       "        text-align: right;\n",
       "    }\n",
       "</style>\n",
       "<table border=\"1\" class=\"dataframe\">\n",
       "  <thead>\n",
       "    <tr style=\"text-align: right;\">\n",
       "      <th></th>\n",
       "      <th>Topic</th>\n",
       "      <th>Count</th>\n",
       "      <th>Name</th>\n",
       "      <th>Representation</th>\n",
       "      <th>Representative_Docs</th>\n",
       "    </tr>\n",
       "  </thead>\n",
       "  <tbody>\n",
       "    <tr>\n",
       "      <th>0</th>\n",
       "      <td>-1</td>\n",
       "      <td>260</td>\n",
       "      <td>-1_muito_lugar_bom_mais</td>\n",
       "      <td>[muito, lugar, bom, mais, aniversário, atendim...</td>\n",
       "      <td>[comida maravilhoso decoração incrível funcion...</td>\n",
       "    </tr>\n",
       "    <tr>\n",
       "      <th>1</th>\n",
       "      <td>0</td>\n",
       "      <td>735</td>\n",
       "      <td>0_mexicano_guacamole_restaurante_comida</td>\n",
       "      <td>[mexicano, guacamole, restaurante, comida, mai...</td>\n",
       "      <td>[restaurante ter comida mexicano muito gostoso...</td>\n",
       "    </tr>\n",
       "    <tr>\n",
       "      <th>2</th>\n",
       "      <td>1</td>\n",
       "      <td>648</td>\n",
       "      <td>1_muito_bom_atendimento_ambiente</td>\n",
       "      <td>[muito, bom, atendimento, ambiente, lugar, exc...</td>\n",
       "      <td>[experiência incrível comer ótimo lugar super ...</td>\n",
       "    </tr>\n",
       "    <tr>\n",
       "      <th>3</th>\n",
       "      <td>2</td>\n",
       "      <td>348</td>\n",
       "      <td>2_música_bom_ambiente_muito</td>\n",
       "      <td>[música, bom, ambiente, muito, atendimento, mu...</td>\n",
       "      <td>[adorar local bom ir amigo decoração incrível ...</td>\n",
       "    </tr>\n",
       "    <tr>\n",
       "      <th>4</th>\n",
       "      <td>3</td>\n",
       "      <td>219</td>\n",
       "      <td>3_bebida_drink_cerveja_bom</td>\n",
       "      <td>[bebida, drink, cerveja, bom, atendimento, gel...</td>\n",
       "      <td>[excelente muito bom atendimento lugar clima b...</td>\n",
       "    </tr>\n",
       "  </tbody>\n",
       "</table>\n",
       "</div>"
      ],
      "text/plain": [
       "   Topic  Count                                     Name  \\\n",
       "0     -1    260                  -1_muito_lugar_bom_mais   \n",
       "1      0    735  0_mexicano_guacamole_restaurante_comida   \n",
       "2      1    648         1_muito_bom_atendimento_ambiente   \n",
       "3      2    348              2_música_bom_ambiente_muito   \n",
       "4      3    219               3_bebida_drink_cerveja_bom   \n",
       "\n",
       "                                      Representation  \\\n",
       "0  [muito, lugar, bom, mais, aniversário, atendim...   \n",
       "1  [mexicano, guacamole, restaurante, comida, mai...   \n",
       "2  [muito, bom, atendimento, ambiente, lugar, exc...   \n",
       "3  [música, bom, ambiente, muito, atendimento, mu...   \n",
       "4  [bebida, drink, cerveja, bom, atendimento, gel...   \n",
       "\n",
       "                                 Representative_Docs  \n",
       "0  [comida maravilhoso decoração incrível funcion...  \n",
       "1  [restaurante ter comida mexicano muito gostoso...  \n",
       "2  [experiência incrível comer ótimo lugar super ...  \n",
       "3  [adorar local bom ir amigo decoração incrível ...  \n",
       "4  [excelente muito bom atendimento lugar clima b...  "
      ]
     },
     "execution_count": 11,
     "metadata": {},
     "output_type": "execute_result"
    }
   ],
   "source": [
    "freq = topic_model.get_topic_info(); freq.head(5)"
   ]
  },
  {
   "cell_type": "code",
   "execution_count": 12,
   "metadata": {},
   "outputs": [
    {
     "data": {
      "text/plain": [
       "[('mexicano', 0.06841741161304897),\n",
       " ('guacamole', 0.03703690126466805),\n",
       " ('restaurante', 0.03260507770392968),\n",
       " ('comida', 0.032588234261462554),\n",
       " ('mais', 0.031381912519302516),\n",
       " ('bom', 0.029654041820110905),\n",
       " ('muito', 0.026828088558872365),\n",
       " ('ter', 0.024654843077058217),\n",
       " ('bem', 0.023371897233655452),\n",
       " ('ambiente', 0.02259199866474662)]"
      ]
     },
     "execution_count": 12,
     "metadata": {},
     "output_type": "execute_result"
    }
   ],
   "source": [
    "topic_model.get_topic(0)"
   ]
  },
  {
   "cell_type": "code",
   "execution_count": 13,
   "metadata": {},
   "outputs": [
    {
     "data": {
      "application/vnd.plotly.v1+json": {
       "config": {
        "plotlyServerURL": "https://plot.ly"
       },
       "data": [
        {
         "marker": {
          "color": "#D55E00"
         },
         "orientation": "h",
         "type": "bar",
         "x": [
          0.031381912519302516,
          0.032588234261462554,
          0.03260507770392968,
          0.03703690126466805,
          0.06841741161304897
         ],
         "xaxis": "x",
         "y": [
          "mais  ",
          "comida  ",
          "restaurante  ",
          "guacamole  ",
          "mexicano  "
         ],
         "yaxis": "y"
        },
        {
         "marker": {
          "color": "#0072B2"
         },
         "orientation": "h",
         "type": "bar",
         "x": [
          0.036166210310813504,
          0.03641162937169077,
          0.046056576460450076,
          0.050521281857585046,
          0.05196814377689849
         ],
         "xaxis": "x2",
         "y": [
          "lugar  ",
          "ambiente  ",
          "atendimento  ",
          "bom  ",
          "muito  "
         ],
         "yaxis": "y2"
        },
        {
         "marker": {
          "color": "#CC79A7"
         },
         "orientation": "h",
         "type": "bar",
         "x": [
          0.03357170972065337,
          0.03785537922765954,
          0.039058711981915996,
          0.04811156649917892,
          0.08423180538865556
         ],
         "xaxis": "x3",
         "y": [
          "atendimento  ",
          "muito  ",
          "ambiente  ",
          "bom  ",
          "música  "
         ],
         "yaxis": "y3"
        },
        {
         "marker": {
          "color": "#E69F00"
         },
         "orientation": "h",
         "type": "bar",
         "x": [
          0.044782175725070636,
          0.04684715194077432,
          0.04743957274926267,
          0.053179157704431906,
          0.06709952614711112
         ],
         "xaxis": "x4",
         "y": [
          "atendimento  ",
          "bom  ",
          "cerveja  ",
          "drink  ",
          "bebida  "
         ],
         "yaxis": "y4"
        },
        {
         "marker": {
          "color": "#56B4E9"
         },
         "orientation": "h",
         "type": "bar",
         "x": [
          0.03227672958067673,
          0.036928291837446385,
          0.04179470902034512,
          0.04449753970827193,
          0.1210068350768139
         ],
         "xaxis": "x5",
         "y": [
          "comida  ",
          "atendimento  ",
          "muito  ",
          "bom  ",
          "restaurante  "
         ],
         "yaxis": "y5"
        },
        {
         "marker": {
          "color": "#009E73"
         },
         "orientation": "h",
         "type": "bar",
         "x": [
          0.0322286835211926,
          0.0334195559849573,
          0.03691103156550619,
          0.05785117113607164,
          0.1302365891092259
         ],
         "xaxis": "x6",
         "y": [
          "divertido  ",
          "bom  ",
          "muito  ",
          "tequileiro  ",
          "tequila  "
         ],
         "yaxis": "y6"
        },
        {
         "marker": {
          "color": "#F0E442"
         },
         "orientation": "h",
         "type": "bar",
         "x": [
          0.049493874567554164,
          0.050586492275377544,
          0.052557873606786897,
          0.11185864738749567,
          0.13981687031159018
         ],
         "xaxis": "x7",
         "y": [
          "amigo  ",
          "aqui  ",
          "lugar  ",
          "comemorar  ",
          "aniversário  "
         ],
         "yaxis": "y7"
        },
        {
         "marker": {
          "color": "#D55E00"
         },
         "orientation": "h",
         "type": "bar",
         "x": [
          0.036395757841092766,
          0.038796282346049066,
          0.04076969691539639,
          0.05223168807519281,
          0.0596752880795269
         ],
         "xaxis": "x8",
         "y": [
          "restaurante  ",
          "chegar  ",
          "fila  ",
          "mais  ",
          "não  "
         ],
         "yaxis": "y8"
        },
        {
         "marker": {
          "color": "#0072B2"
         },
         "orientation": "h",
         "type": "bar",
         "x": [
          0.04367166769781294,
          0.04395453001674585,
          0.052134995911340104,
          0.0959584955478838,
          0.1518023477752126
         ],
         "xaxis": "x9",
         "y": [
          "amigo  ",
          "muito  ",
          "comida  ",
          "comemorar  ",
          "aniversário  "
         ],
         "yaxis": "y9"
        },
        {
         "marker": {
          "color": "#CC79A7"
         },
         "orientation": "h",
         "type": "bar",
         "x": [
          0.04420694989643083,
          0.046225351822148986,
          0.04667407509681657,
          0.05647931583759021,
          0.06688870749253972
         ],
         "xaxis": "x10",
         "y": [
          "mais  ",
          "bem  ",
          "tequileiro  ",
          "mariachi  ",
          "restaurante  "
         ],
         "yaxis": "y10"
        },
        {
         "marker": {
          "color": "#E69F00"
         },
         "orientation": "h",
         "type": "bar",
         "x": [
          0.04201399730003867,
          0.04308310985765518,
          0.054196257417781855,
          0.12575885769740178,
          0.16065842469740127
         ],
         "xaxis": "x11",
         "y": [
          "facilitar  ",
          "mesa  ",
          "sistema  ",
          "pedido  ",
          "tablet  "
         ],
         "yaxis": "y11"
        },
        {
         "marker": {
          "color": "#56B4E9"
         },
         "orientation": "h",
         "type": "bar",
         "x": [
          0.03236419128759198,
          0.03355458784906308,
          0.03399364914170948,
          0.03727411361065803,
          0.03859858904220615
         ],
         "xaxis": "x12",
         "y": [
          "ameir  ",
          "atendimento  ",
          "mal  ",
          "amigo  ",
          "local  "
         ],
         "yaxis": "y12"
        },
        {
         "marker": {
          "color": "#009E73"
         },
         "orientation": "h",
         "type": "bar",
         "x": [
          0.03603074295561099,
          0.038649968582724854,
          0.04764038889242616,
          0.04895104812298945,
          0.1451379740134503
         ],
         "xaxis": "x13",
         "y": [
          "achar  ",
          "lindo  ",
          "muito  ",
          "show  ",
          "mariachi  "
         ],
         "yaxis": "y13"
        },
        {
         "marker": {
          "color": "#F0E442"
         },
         "orientation": "h",
         "type": "bar",
         "x": [
          0.04824830612951688,
          0.048708970330490826,
          0.07734699797766342,
          0.09252184245151773,
          0.10841904115004848
         ],
         "xaxis": "x14",
         "y": [
          "amigo  ",
          "vivo  ",
          "música  ",
          "comemorar  ",
          "aniversário  "
         ],
         "yaxis": "y14"
        },
        {
         "marker": {
          "color": "#D55E00"
         },
         "orientation": "h",
         "type": "bar",
         "x": [
          0.03945873297625691,
          0.040497149715512916,
          0.07850707225771515,
          0.0899082310828308,
          0.10159362935852001
         ],
         "xaxis": "x15",
         "y": [
          "bom  ",
          "bem  ",
          "restaurante  ",
          "comemorar  ",
          "aniversário  "
         ],
         "yaxis": "y15"
        }
       ],
       "layout": {
        "annotations": [
         {
          "font": {
           "size": 16
          },
          "showarrow": false,
          "text": "Topic 0",
          "x": 0.0875,
          "xanchor": "center",
          "xref": "paper",
          "y": 1,
          "yanchor": "bottom",
          "yref": "paper"
         },
         {
          "font": {
           "size": 16
          },
          "showarrow": false,
          "text": "Topic 1",
          "x": 0.36250000000000004,
          "xanchor": "center",
          "xref": "paper",
          "y": 1,
          "yanchor": "bottom",
          "yref": "paper"
         },
         {
          "font": {
           "size": 16
          },
          "showarrow": false,
          "text": "Topic 2",
          "x": 0.6375000000000001,
          "xanchor": "center",
          "xref": "paper",
          "y": 1,
          "yanchor": "bottom",
          "yref": "paper"
         },
         {
          "font": {
           "size": 16
          },
          "showarrow": false,
          "text": "Topic 3",
          "x": 0.9125,
          "xanchor": "center",
          "xref": "paper",
          "y": 1,
          "yanchor": "bottom",
          "yref": "paper"
         },
         {
          "font": {
           "size": 16
          },
          "showarrow": false,
          "text": "Topic 4",
          "x": 0.0875,
          "xanchor": "center",
          "xref": "paper",
          "y": 0.7250000000000001,
          "yanchor": "bottom",
          "yref": "paper"
         },
         {
          "font": {
           "size": 16
          },
          "showarrow": false,
          "text": "Topic 5",
          "x": 0.36250000000000004,
          "xanchor": "center",
          "xref": "paper",
          "y": 0.7250000000000001,
          "yanchor": "bottom",
          "yref": "paper"
         },
         {
          "font": {
           "size": 16
          },
          "showarrow": false,
          "text": "Topic 6",
          "x": 0.6375000000000001,
          "xanchor": "center",
          "xref": "paper",
          "y": 0.7250000000000001,
          "yanchor": "bottom",
          "yref": "paper"
         },
         {
          "font": {
           "size": 16
          },
          "showarrow": false,
          "text": "Topic 7",
          "x": 0.9125,
          "xanchor": "center",
          "xref": "paper",
          "y": 0.7250000000000001,
          "yanchor": "bottom",
          "yref": "paper"
         },
         {
          "font": {
           "size": 16
          },
          "showarrow": false,
          "text": "Topic 8",
          "x": 0.0875,
          "xanchor": "center",
          "xref": "paper",
          "y": 0.45,
          "yanchor": "bottom",
          "yref": "paper"
         },
         {
          "font": {
           "size": 16
          },
          "showarrow": false,
          "text": "Topic 9",
          "x": 0.36250000000000004,
          "xanchor": "center",
          "xref": "paper",
          "y": 0.45,
          "yanchor": "bottom",
          "yref": "paper"
         },
         {
          "font": {
           "size": 16
          },
          "showarrow": false,
          "text": "Topic 10",
          "x": 0.6375000000000001,
          "xanchor": "center",
          "xref": "paper",
          "y": 0.45,
          "yanchor": "bottom",
          "yref": "paper"
         },
         {
          "font": {
           "size": 16
          },
          "showarrow": false,
          "text": "Topic 11",
          "x": 0.9125,
          "xanchor": "center",
          "xref": "paper",
          "y": 0.45,
          "yanchor": "bottom",
          "yref": "paper"
         },
         {
          "font": {
           "size": 16
          },
          "showarrow": false,
          "text": "Topic 12",
          "x": 0.0875,
          "xanchor": "center",
          "xref": "paper",
          "y": 0.175,
          "yanchor": "bottom",
          "yref": "paper"
         },
         {
          "font": {
           "size": 16
          },
          "showarrow": false,
          "text": "Topic 13",
          "x": 0.36250000000000004,
          "xanchor": "center",
          "xref": "paper",
          "y": 0.175,
          "yanchor": "bottom",
          "yref": "paper"
         },
         {
          "font": {
           "size": 16
          },
          "showarrow": false,
          "text": "Topic 14",
          "x": 0.6375000000000001,
          "xanchor": "center",
          "xref": "paper",
          "y": 0.175,
          "yanchor": "bottom",
          "yref": "paper"
         }
        ],
        "height": 1000,
        "hoverlabel": {
         "bgcolor": "white",
         "font": {
          "family": "Rockwell",
          "size": 16
         }
        },
        "showlegend": false,
        "template": {
         "data": {
          "bar": [
           {
            "error_x": {
             "color": "#2a3f5f"
            },
            "error_y": {
             "color": "#2a3f5f"
            },
            "marker": {
             "line": {
              "color": "white",
              "width": 0.5
             },
             "pattern": {
              "fillmode": "overlay",
              "size": 10,
              "solidity": 0.2
             }
            },
            "type": "bar"
           }
          ],
          "barpolar": [
           {
            "marker": {
             "line": {
              "color": "white",
              "width": 0.5
             },
             "pattern": {
              "fillmode": "overlay",
              "size": 10,
              "solidity": 0.2
             }
            },
            "type": "barpolar"
           }
          ],
          "carpet": [
           {
            "aaxis": {
             "endlinecolor": "#2a3f5f",
             "gridcolor": "#C8D4E3",
             "linecolor": "#C8D4E3",
             "minorgridcolor": "#C8D4E3",
             "startlinecolor": "#2a3f5f"
            },
            "baxis": {
             "endlinecolor": "#2a3f5f",
             "gridcolor": "#C8D4E3",
             "linecolor": "#C8D4E3",
             "minorgridcolor": "#C8D4E3",
             "startlinecolor": "#2a3f5f"
            },
            "type": "carpet"
           }
          ],
          "choropleth": [
           {
            "colorbar": {
             "outlinewidth": 0,
             "ticks": ""
            },
            "type": "choropleth"
           }
          ],
          "contour": [
           {
            "colorbar": {
             "outlinewidth": 0,
             "ticks": ""
            },
            "colorscale": [
             [
              0,
              "#0d0887"
             ],
             [
              0.1111111111111111,
              "#46039f"
             ],
             [
              0.2222222222222222,
              "#7201a8"
             ],
             [
              0.3333333333333333,
              "#9c179e"
             ],
             [
              0.4444444444444444,
              "#bd3786"
             ],
             [
              0.5555555555555556,
              "#d8576b"
             ],
             [
              0.6666666666666666,
              "#ed7953"
             ],
             [
              0.7777777777777778,
              "#fb9f3a"
             ],
             [
              0.8888888888888888,
              "#fdca26"
             ],
             [
              1,
              "#f0f921"
             ]
            ],
            "type": "contour"
           }
          ],
          "contourcarpet": [
           {
            "colorbar": {
             "outlinewidth": 0,
             "ticks": ""
            },
            "type": "contourcarpet"
           }
          ],
          "heatmap": [
           {
            "colorbar": {
             "outlinewidth": 0,
             "ticks": ""
            },
            "colorscale": [
             [
              0,
              "#0d0887"
             ],
             [
              0.1111111111111111,
              "#46039f"
             ],
             [
              0.2222222222222222,
              "#7201a8"
             ],
             [
              0.3333333333333333,
              "#9c179e"
             ],
             [
              0.4444444444444444,
              "#bd3786"
             ],
             [
              0.5555555555555556,
              "#d8576b"
             ],
             [
              0.6666666666666666,
              "#ed7953"
             ],
             [
              0.7777777777777778,
              "#fb9f3a"
             ],
             [
              0.8888888888888888,
              "#fdca26"
             ],
             [
              1,
              "#f0f921"
             ]
            ],
            "type": "heatmap"
           }
          ],
          "heatmapgl": [
           {
            "colorbar": {
             "outlinewidth": 0,
             "ticks": ""
            },
            "colorscale": [
             [
              0,
              "#0d0887"
             ],
             [
              0.1111111111111111,
              "#46039f"
             ],
             [
              0.2222222222222222,
              "#7201a8"
             ],
             [
              0.3333333333333333,
              "#9c179e"
             ],
             [
              0.4444444444444444,
              "#bd3786"
             ],
             [
              0.5555555555555556,
              "#d8576b"
             ],
             [
              0.6666666666666666,
              "#ed7953"
             ],
             [
              0.7777777777777778,
              "#fb9f3a"
             ],
             [
              0.8888888888888888,
              "#fdca26"
             ],
             [
              1,
              "#f0f921"
             ]
            ],
            "type": "heatmapgl"
           }
          ],
          "histogram": [
           {
            "marker": {
             "pattern": {
              "fillmode": "overlay",
              "size": 10,
              "solidity": 0.2
             }
            },
            "type": "histogram"
           }
          ],
          "histogram2d": [
           {
            "colorbar": {
             "outlinewidth": 0,
             "ticks": ""
            },
            "colorscale": [
             [
              0,
              "#0d0887"
             ],
             [
              0.1111111111111111,
              "#46039f"
             ],
             [
              0.2222222222222222,
              "#7201a8"
             ],
             [
              0.3333333333333333,
              "#9c179e"
             ],
             [
              0.4444444444444444,
              "#bd3786"
             ],
             [
              0.5555555555555556,
              "#d8576b"
             ],
             [
              0.6666666666666666,
              "#ed7953"
             ],
             [
              0.7777777777777778,
              "#fb9f3a"
             ],
             [
              0.8888888888888888,
              "#fdca26"
             ],
             [
              1,
              "#f0f921"
             ]
            ],
            "type": "histogram2d"
           }
          ],
          "histogram2dcontour": [
           {
            "colorbar": {
             "outlinewidth": 0,
             "ticks": ""
            },
            "colorscale": [
             [
              0,
              "#0d0887"
             ],
             [
              0.1111111111111111,
              "#46039f"
             ],
             [
              0.2222222222222222,
              "#7201a8"
             ],
             [
              0.3333333333333333,
              "#9c179e"
             ],
             [
              0.4444444444444444,
              "#bd3786"
             ],
             [
              0.5555555555555556,
              "#d8576b"
             ],
             [
              0.6666666666666666,
              "#ed7953"
             ],
             [
              0.7777777777777778,
              "#fb9f3a"
             ],
             [
              0.8888888888888888,
              "#fdca26"
             ],
             [
              1,
              "#f0f921"
             ]
            ],
            "type": "histogram2dcontour"
           }
          ],
          "mesh3d": [
           {
            "colorbar": {
             "outlinewidth": 0,
             "ticks": ""
            },
            "type": "mesh3d"
           }
          ],
          "parcoords": [
           {
            "line": {
             "colorbar": {
              "outlinewidth": 0,
              "ticks": ""
             }
            },
            "type": "parcoords"
           }
          ],
          "pie": [
           {
            "automargin": true,
            "type": "pie"
           }
          ],
          "scatter": [
           {
            "fillpattern": {
             "fillmode": "overlay",
             "size": 10,
             "solidity": 0.2
            },
            "type": "scatter"
           }
          ],
          "scatter3d": [
           {
            "line": {
             "colorbar": {
              "outlinewidth": 0,
              "ticks": ""
             }
            },
            "marker": {
             "colorbar": {
              "outlinewidth": 0,
              "ticks": ""
             }
            },
            "type": "scatter3d"
           }
          ],
          "scattercarpet": [
           {
            "marker": {
             "colorbar": {
              "outlinewidth": 0,
              "ticks": ""
             }
            },
            "type": "scattercarpet"
           }
          ],
          "scattergeo": [
           {
            "marker": {
             "colorbar": {
              "outlinewidth": 0,
              "ticks": ""
             }
            },
            "type": "scattergeo"
           }
          ],
          "scattergl": [
           {
            "marker": {
             "colorbar": {
              "outlinewidth": 0,
              "ticks": ""
             }
            },
            "type": "scattergl"
           }
          ],
          "scattermapbox": [
           {
            "marker": {
             "colorbar": {
              "outlinewidth": 0,
              "ticks": ""
             }
            },
            "type": "scattermapbox"
           }
          ],
          "scatterpolar": [
           {
            "marker": {
             "colorbar": {
              "outlinewidth": 0,
              "ticks": ""
             }
            },
            "type": "scatterpolar"
           }
          ],
          "scatterpolargl": [
           {
            "marker": {
             "colorbar": {
              "outlinewidth": 0,
              "ticks": ""
             }
            },
            "type": "scatterpolargl"
           }
          ],
          "scatterternary": [
           {
            "marker": {
             "colorbar": {
              "outlinewidth": 0,
              "ticks": ""
             }
            },
            "type": "scatterternary"
           }
          ],
          "surface": [
           {
            "colorbar": {
             "outlinewidth": 0,
             "ticks": ""
            },
            "colorscale": [
             [
              0,
              "#0d0887"
             ],
             [
              0.1111111111111111,
              "#46039f"
             ],
             [
              0.2222222222222222,
              "#7201a8"
             ],
             [
              0.3333333333333333,
              "#9c179e"
             ],
             [
              0.4444444444444444,
              "#bd3786"
             ],
             [
              0.5555555555555556,
              "#d8576b"
             ],
             [
              0.6666666666666666,
              "#ed7953"
             ],
             [
              0.7777777777777778,
              "#fb9f3a"
             ],
             [
              0.8888888888888888,
              "#fdca26"
             ],
             [
              1,
              "#f0f921"
             ]
            ],
            "type": "surface"
           }
          ],
          "table": [
           {
            "cells": {
             "fill": {
              "color": "#EBF0F8"
             },
             "line": {
              "color": "white"
             }
            },
            "header": {
             "fill": {
              "color": "#C8D4E3"
             },
             "line": {
              "color": "white"
             }
            },
            "type": "table"
           }
          ]
         },
         "layout": {
          "annotationdefaults": {
           "arrowcolor": "#2a3f5f",
           "arrowhead": 0,
           "arrowwidth": 1
          },
          "autotypenumbers": "strict",
          "coloraxis": {
           "colorbar": {
            "outlinewidth": 0,
            "ticks": ""
           }
          },
          "colorscale": {
           "diverging": [
            [
             0,
             "#8e0152"
            ],
            [
             0.1,
             "#c51b7d"
            ],
            [
             0.2,
             "#de77ae"
            ],
            [
             0.3,
             "#f1b6da"
            ],
            [
             0.4,
             "#fde0ef"
            ],
            [
             0.5,
             "#f7f7f7"
            ],
            [
             0.6,
             "#e6f5d0"
            ],
            [
             0.7,
             "#b8e186"
            ],
            [
             0.8,
             "#7fbc41"
            ],
            [
             0.9,
             "#4d9221"
            ],
            [
             1,
             "#276419"
            ]
           ],
           "sequential": [
            [
             0,
             "#0d0887"
            ],
            [
             0.1111111111111111,
             "#46039f"
            ],
            [
             0.2222222222222222,
             "#7201a8"
            ],
            [
             0.3333333333333333,
             "#9c179e"
            ],
            [
             0.4444444444444444,
             "#bd3786"
            ],
            [
             0.5555555555555556,
             "#d8576b"
            ],
            [
             0.6666666666666666,
             "#ed7953"
            ],
            [
             0.7777777777777778,
             "#fb9f3a"
            ],
            [
             0.8888888888888888,
             "#fdca26"
            ],
            [
             1,
             "#f0f921"
            ]
           ],
           "sequentialminus": [
            [
             0,
             "#0d0887"
            ],
            [
             0.1111111111111111,
             "#46039f"
            ],
            [
             0.2222222222222222,
             "#7201a8"
            ],
            [
             0.3333333333333333,
             "#9c179e"
            ],
            [
             0.4444444444444444,
             "#bd3786"
            ],
            [
             0.5555555555555556,
             "#d8576b"
            ],
            [
             0.6666666666666666,
             "#ed7953"
            ],
            [
             0.7777777777777778,
             "#fb9f3a"
            ],
            [
             0.8888888888888888,
             "#fdca26"
            ],
            [
             1,
             "#f0f921"
            ]
           ]
          },
          "colorway": [
           "#636efa",
           "#EF553B",
           "#00cc96",
           "#ab63fa",
           "#FFA15A",
           "#19d3f3",
           "#FF6692",
           "#B6E880",
           "#FF97FF",
           "#FECB52"
          ],
          "font": {
           "color": "#2a3f5f"
          },
          "geo": {
           "bgcolor": "white",
           "lakecolor": "white",
           "landcolor": "white",
           "showlakes": true,
           "showland": true,
           "subunitcolor": "#C8D4E3"
          },
          "hoverlabel": {
           "align": "left"
          },
          "hovermode": "closest",
          "mapbox": {
           "style": "light"
          },
          "paper_bgcolor": "white",
          "plot_bgcolor": "white",
          "polar": {
           "angularaxis": {
            "gridcolor": "#EBF0F8",
            "linecolor": "#EBF0F8",
            "ticks": ""
           },
           "bgcolor": "white",
           "radialaxis": {
            "gridcolor": "#EBF0F8",
            "linecolor": "#EBF0F8",
            "ticks": ""
           }
          },
          "scene": {
           "xaxis": {
            "backgroundcolor": "white",
            "gridcolor": "#DFE8F3",
            "gridwidth": 2,
            "linecolor": "#EBF0F8",
            "showbackground": true,
            "ticks": "",
            "zerolinecolor": "#EBF0F8"
           },
           "yaxis": {
            "backgroundcolor": "white",
            "gridcolor": "#DFE8F3",
            "gridwidth": 2,
            "linecolor": "#EBF0F8",
            "showbackground": true,
            "ticks": "",
            "zerolinecolor": "#EBF0F8"
           },
           "zaxis": {
            "backgroundcolor": "white",
            "gridcolor": "#DFE8F3",
            "gridwidth": 2,
            "linecolor": "#EBF0F8",
            "showbackground": true,
            "ticks": "",
            "zerolinecolor": "#EBF0F8"
           }
          },
          "shapedefaults": {
           "line": {
            "color": "#2a3f5f"
           }
          },
          "ternary": {
           "aaxis": {
            "gridcolor": "#DFE8F3",
            "linecolor": "#A2B1C6",
            "ticks": ""
           },
           "baxis": {
            "gridcolor": "#DFE8F3",
            "linecolor": "#A2B1C6",
            "ticks": ""
           },
           "bgcolor": "white",
           "caxis": {
            "gridcolor": "#DFE8F3",
            "linecolor": "#A2B1C6",
            "ticks": ""
           }
          },
          "title": {
           "x": 0.05
          },
          "xaxis": {
           "automargin": true,
           "gridcolor": "#EBF0F8",
           "linecolor": "#EBF0F8",
           "ticks": "",
           "title": {
            "standoff": 15
           },
           "zerolinecolor": "#EBF0F8",
           "zerolinewidth": 2
          },
          "yaxis": {
           "automargin": true,
           "gridcolor": "#EBF0F8",
           "linecolor": "#EBF0F8",
           "ticks": "",
           "title": {
            "standoff": 15
           },
           "zerolinecolor": "#EBF0F8",
           "zerolinewidth": 2
          }
         }
        },
        "title": {
         "font": {
          "color": "Black",
          "size": 22
         },
         "text": "Topic Word Scores",
         "x": 0.5,
         "xanchor": "center",
         "yanchor": "top"
        },
        "width": 1000,
        "xaxis": {
         "anchor": "y",
         "domain": [
          0,
          0.175
         ],
         "showgrid": true
        },
        "xaxis10": {
         "anchor": "y10",
         "domain": [
          0.275,
          0.45
         ],
         "showgrid": true
        },
        "xaxis11": {
         "anchor": "y11",
         "domain": [
          0.55,
          0.7250000000000001
         ],
         "showgrid": true
        },
        "xaxis12": {
         "anchor": "y12",
         "domain": [
          0.825,
          1
         ],
         "showgrid": true
        },
        "xaxis13": {
         "anchor": "y13",
         "domain": [
          0,
          0.175
         ],
         "showgrid": true
        },
        "xaxis14": {
         "anchor": "y14",
         "domain": [
          0.275,
          0.45
         ],
         "showgrid": true
        },
        "xaxis15": {
         "anchor": "y15",
         "domain": [
          0.55,
          0.7250000000000001
         ],
         "showgrid": true
        },
        "xaxis16": {
         "anchor": "y16",
         "domain": [
          0.825,
          1
         ],
         "showgrid": true
        },
        "xaxis2": {
         "anchor": "y2",
         "domain": [
          0.275,
          0.45
         ],
         "showgrid": true
        },
        "xaxis3": {
         "anchor": "y3",
         "domain": [
          0.55,
          0.7250000000000001
         ],
         "showgrid": true
        },
        "xaxis4": {
         "anchor": "y4",
         "domain": [
          0.825,
          1
         ],
         "showgrid": true
        },
        "xaxis5": {
         "anchor": "y5",
         "domain": [
          0,
          0.175
         ],
         "showgrid": true
        },
        "xaxis6": {
         "anchor": "y6",
         "domain": [
          0.275,
          0.45
         ],
         "showgrid": true
        },
        "xaxis7": {
         "anchor": "y7",
         "domain": [
          0.55,
          0.7250000000000001
         ],
         "showgrid": true
        },
        "xaxis8": {
         "anchor": "y8",
         "domain": [
          0.825,
          1
         ],
         "showgrid": true
        },
        "xaxis9": {
         "anchor": "y9",
         "domain": [
          0,
          0.175
         ],
         "showgrid": true
        },
        "yaxis": {
         "anchor": "x",
         "domain": [
          0.825,
          1
         ],
         "showgrid": true
        },
        "yaxis10": {
         "anchor": "x10",
         "domain": [
          0.275,
          0.45
         ],
         "showgrid": true
        },
        "yaxis11": {
         "anchor": "x11",
         "domain": [
          0.275,
          0.45
         ],
         "showgrid": true
        },
        "yaxis12": {
         "anchor": "x12",
         "domain": [
          0.275,
          0.45
         ],
         "showgrid": true
        },
        "yaxis13": {
         "anchor": "x13",
         "domain": [
          0,
          0.175
         ],
         "showgrid": true
        },
        "yaxis14": {
         "anchor": "x14",
         "domain": [
          0,
          0.175
         ],
         "showgrid": true
        },
        "yaxis15": {
         "anchor": "x15",
         "domain": [
          0,
          0.175
         ],
         "showgrid": true
        },
        "yaxis16": {
         "anchor": "x16",
         "domain": [
          0,
          0.175
         ],
         "showgrid": true
        },
        "yaxis2": {
         "anchor": "x2",
         "domain": [
          0.825,
          1
         ],
         "showgrid": true
        },
        "yaxis3": {
         "anchor": "x3",
         "domain": [
          0.825,
          1
         ],
         "showgrid": true
        },
        "yaxis4": {
         "anchor": "x4",
         "domain": [
          0.825,
          1
         ],
         "showgrid": true
        },
        "yaxis5": {
         "anchor": "x5",
         "domain": [
          0.55,
          0.7250000000000001
         ],
         "showgrid": true
        },
        "yaxis6": {
         "anchor": "x6",
         "domain": [
          0.55,
          0.7250000000000001
         ],
         "showgrid": true
        },
        "yaxis7": {
         "anchor": "x7",
         "domain": [
          0.55,
          0.7250000000000001
         ],
         "showgrid": true
        },
        "yaxis8": {
         "anchor": "x8",
         "domain": [
          0.55,
          0.7250000000000001
         ],
         "showgrid": true
        },
        "yaxis9": {
         "anchor": "x9",
         "domain": [
          0.275,
          0.45
         ],
         "showgrid": true
        }
       }
      }
     },
     "metadata": {},
     "output_type": "display_data"
    }
   ],
   "source": [
    "topic_model.visualize_barchart(top_n_topics=15)"
   ]
  },
  {
   "cell_type": "code",
   "execution_count": 14,
   "metadata": {},
   "outputs": [
    {
     "data": {
      "application/vnd.plotly.v1+json": {
       "config": {
        "plotlyServerURL": "https://plot.ly"
       },
       "data": [
        {
         "hoverinfo": "text",
         "marker": {
          "color": "rgb(61,153,112)"
         },
         "mode": "lines",
         "type": "scatter",
         "x": [
          0,
          0.25864932804317753,
          0.25864932804317753,
          0
         ],
         "xaxis": "x",
         "y": [
          -25,
          -25,
          -35,
          -35
         ],
         "yaxis": "y"
        },
        {
         "hoverinfo": "text",
         "marker": {
          "color": "rgb(61,153,112)"
         },
         "mode": "lines",
         "type": "scatter",
         "x": [
          0,
          0.4160872117339704,
          0.4160872117339704,
          0.25864932804317753
         ],
         "xaxis": "x",
         "y": [
          -15,
          -15,
          -30,
          -30
         ],
         "yaxis": "y"
        },
        {
         "hoverinfo": "text",
         "marker": {
          "color": "rgb(61,153,112)"
         },
         "mode": "lines",
         "type": "scatter",
         "x": [
          0.4160872117339704,
          0.46098829092427684,
          0.46098829092427684,
          0
         ],
         "xaxis": "x",
         "y": [
          -22.5,
          -22.5,
          -45,
          -45
         ],
         "yaxis": "y"
        },
        {
         "hoverinfo": "text",
         "marker": {
          "color": "rgb(61,153,112)"
         },
         "mode": "lines",
         "type": "scatter",
         "x": [
          0,
          0.7254944970167503,
          0.7254944970167503,
          0.46098829092427684
         ],
         "xaxis": "x",
         "y": [
          -5,
          -5,
          -33.75,
          -33.75
         ],
         "yaxis": "y"
        },
        {
         "hoverinfo": "text",
         "marker": {
          "color": "rgb(255,65,54)"
         },
         "mode": "lines",
         "type": "scatter",
         "x": [
          0,
          0.5078306483602119,
          0.5078306483602119,
          0
         ],
         "xaxis": "x",
         "y": [
          -55,
          -55,
          -65,
          -65
         ],
         "yaxis": "y"
        },
        {
         "hoverinfo": "text",
         "marker": {
          "color": "rgb(255,65,54)"
         },
         "mode": "lines",
         "type": "scatter",
         "x": [
          0,
          0.3656226830044732,
          0.3656226830044732,
          0
         ],
         "xaxis": "x",
         "y": [
          -75,
          -75,
          -85,
          -85
         ],
         "yaxis": "y"
        },
        {
         "hoverinfo": "text",
         "marker": {
          "color": "rgb(255,65,54)"
         },
         "mode": "lines",
         "type": "scatter",
         "x": [
          0,
          0.23524676681212653,
          0.23524676681212653,
          0
         ],
         "xaxis": "x",
         "y": [
          -95,
          -95,
          -105,
          -105
         ],
         "yaxis": "y"
        },
        {
         "hoverinfo": "text",
         "marker": {
          "color": "rgb(255,65,54)"
         },
         "mode": "lines",
         "type": "scatter",
         "x": [
          0.23524676681212653,
          0.3138325927554687,
          0.3138325927554687,
          0
         ],
         "xaxis": "x",
         "y": [
          -100,
          -100,
          -115,
          -115
         ],
         "yaxis": "y"
        },
        {
         "hoverinfo": "text",
         "marker": {
          "color": "rgb(255,65,54)"
         },
         "mode": "lines",
         "type": "scatter",
         "x": [
          0.3656226830044732,
          0.446345898907647,
          0.446345898907647,
          0.3138325927554687
         ],
         "xaxis": "x",
         "y": [
          -80,
          -80,
          -107.5,
          -107.5
         ],
         "yaxis": "y"
        },
        {
         "hoverinfo": "text",
         "marker": {
          "color": "rgb(255,65,54)"
         },
         "mode": "lines",
         "type": "scatter",
         "x": [
          0.446345898907647,
          0.5849638504539898,
          0.5849638504539898,
          0
         ],
         "xaxis": "x",
         "y": [
          -93.75,
          -93.75,
          -125,
          -125
         ],
         "yaxis": "y"
        },
        {
         "hoverinfo": "text",
         "marker": {
          "color": "rgb(255,65,54)"
         },
         "mode": "lines",
         "type": "scatter",
         "x": [
          0.5078306483602119,
          0.6634000388876723,
          0.6634000388876723,
          0.5849638504539898
         ],
         "xaxis": "x",
         "y": [
          -60,
          -60,
          -109.375,
          -109.375
         ],
         "yaxis": "y"
        },
        {
         "hoverinfo": "text",
         "marker": {
          "color": "rgb(255,65,54)"
         },
         "mode": "lines",
         "type": "scatter",
         "x": [
          0.6634000388876723,
          0.753722316896369,
          0.753722316896369,
          0
         ],
         "xaxis": "x",
         "y": [
          -84.6875,
          -84.6875,
          -135,
          -135
         ],
         "yaxis": "y"
        },
        {
         "hoverinfo": "text",
         "marker": {
          "color": "rgb(255,65,54)"
         },
         "mode": "lines",
         "type": "scatter",
         "x": [
          0,
          0.6558441936824356,
          0.6558441936824356,
          0
         ],
         "xaxis": "x",
         "y": [
          -145,
          -145,
          -155,
          -155
         ],
         "yaxis": "y"
        },
        {
         "hoverinfo": "text",
         "marker": {
          "color": "rgb(255,65,54)"
         },
         "mode": "lines",
         "type": "scatter",
         "x": [
          0.6558441936824356,
          0.8377645422773198,
          0.8377645422773198,
          0
         ],
         "xaxis": "x",
         "y": [
          -150,
          -150,
          -165,
          -165
         ],
         "yaxis": "y"
        },
        {
         "hoverinfo": "text",
         "marker": {
          "color": "rgb(255,65,54)"
         },
         "mode": "lines",
         "type": "scatter",
         "x": [
          0.753722316896369,
          0.9240701140849752,
          0.9240701140849752,
          0.8377645422773198
         ],
         "xaxis": "x",
         "y": [
          -109.84375,
          -109.84375,
          -157.5,
          -157.5
         ],
         "yaxis": "y"
        },
        {
         "hoverinfo": "text",
         "marker": {
          "color": "rgb(0,116,217)"
         },
         "mode": "lines",
         "type": "scatter",
         "x": [
          0.7254944970167503,
          1.1678437282302552,
          1.1678437282302552,
          0.9240701140849752
         ],
         "xaxis": "x",
         "y": [
          -19.375,
          -19.375,
          -133.671875,
          -133.671875
         ],
         "yaxis": "y"
        }
       ],
       "layout": {
        "autosize": false,
        "height": 455,
        "hoverlabel": {
         "bgcolor": "white",
         "font": {
          "family": "Rockwell",
          "size": 16
         }
        },
        "hovermode": "closest",
        "plot_bgcolor": "#ECEFF1",
        "showlegend": false,
        "template": {
         "data": {
          "bar": [
           {
            "error_x": {
             "color": "#2a3f5f"
            },
            "error_y": {
             "color": "#2a3f5f"
            },
            "marker": {
             "line": {
              "color": "white",
              "width": 0.5
             },
             "pattern": {
              "fillmode": "overlay",
              "size": 10,
              "solidity": 0.2
             }
            },
            "type": "bar"
           }
          ],
          "barpolar": [
           {
            "marker": {
             "line": {
              "color": "white",
              "width": 0.5
             },
             "pattern": {
              "fillmode": "overlay",
              "size": 10,
              "solidity": 0.2
             }
            },
            "type": "barpolar"
           }
          ],
          "carpet": [
           {
            "aaxis": {
             "endlinecolor": "#2a3f5f",
             "gridcolor": "#C8D4E3",
             "linecolor": "#C8D4E3",
             "minorgridcolor": "#C8D4E3",
             "startlinecolor": "#2a3f5f"
            },
            "baxis": {
             "endlinecolor": "#2a3f5f",
             "gridcolor": "#C8D4E3",
             "linecolor": "#C8D4E3",
             "minorgridcolor": "#C8D4E3",
             "startlinecolor": "#2a3f5f"
            },
            "type": "carpet"
           }
          ],
          "choropleth": [
           {
            "colorbar": {
             "outlinewidth": 0,
             "ticks": ""
            },
            "type": "choropleth"
           }
          ],
          "contour": [
           {
            "colorbar": {
             "outlinewidth": 0,
             "ticks": ""
            },
            "colorscale": [
             [
              0,
              "#0d0887"
             ],
             [
              0.1111111111111111,
              "#46039f"
             ],
             [
              0.2222222222222222,
              "#7201a8"
             ],
             [
              0.3333333333333333,
              "#9c179e"
             ],
             [
              0.4444444444444444,
              "#bd3786"
             ],
             [
              0.5555555555555556,
              "#d8576b"
             ],
             [
              0.6666666666666666,
              "#ed7953"
             ],
             [
              0.7777777777777778,
              "#fb9f3a"
             ],
             [
              0.8888888888888888,
              "#fdca26"
             ],
             [
              1,
              "#f0f921"
             ]
            ],
            "type": "contour"
           }
          ],
          "contourcarpet": [
           {
            "colorbar": {
             "outlinewidth": 0,
             "ticks": ""
            },
            "type": "contourcarpet"
           }
          ],
          "heatmap": [
           {
            "colorbar": {
             "outlinewidth": 0,
             "ticks": ""
            },
            "colorscale": [
             [
              0,
              "#0d0887"
             ],
             [
              0.1111111111111111,
              "#46039f"
             ],
             [
              0.2222222222222222,
              "#7201a8"
             ],
             [
              0.3333333333333333,
              "#9c179e"
             ],
             [
              0.4444444444444444,
              "#bd3786"
             ],
             [
              0.5555555555555556,
              "#d8576b"
             ],
             [
              0.6666666666666666,
              "#ed7953"
             ],
             [
              0.7777777777777778,
              "#fb9f3a"
             ],
             [
              0.8888888888888888,
              "#fdca26"
             ],
             [
              1,
              "#f0f921"
             ]
            ],
            "type": "heatmap"
           }
          ],
          "heatmapgl": [
           {
            "colorbar": {
             "outlinewidth": 0,
             "ticks": ""
            },
            "colorscale": [
             [
              0,
              "#0d0887"
             ],
             [
              0.1111111111111111,
              "#46039f"
             ],
             [
              0.2222222222222222,
              "#7201a8"
             ],
             [
              0.3333333333333333,
              "#9c179e"
             ],
             [
              0.4444444444444444,
              "#bd3786"
             ],
             [
              0.5555555555555556,
              "#d8576b"
             ],
             [
              0.6666666666666666,
              "#ed7953"
             ],
             [
              0.7777777777777778,
              "#fb9f3a"
             ],
             [
              0.8888888888888888,
              "#fdca26"
             ],
             [
              1,
              "#f0f921"
             ]
            ],
            "type": "heatmapgl"
           }
          ],
          "histogram": [
           {
            "marker": {
             "pattern": {
              "fillmode": "overlay",
              "size": 10,
              "solidity": 0.2
             }
            },
            "type": "histogram"
           }
          ],
          "histogram2d": [
           {
            "colorbar": {
             "outlinewidth": 0,
             "ticks": ""
            },
            "colorscale": [
             [
              0,
              "#0d0887"
             ],
             [
              0.1111111111111111,
              "#46039f"
             ],
             [
              0.2222222222222222,
              "#7201a8"
             ],
             [
              0.3333333333333333,
              "#9c179e"
             ],
             [
              0.4444444444444444,
              "#bd3786"
             ],
             [
              0.5555555555555556,
              "#d8576b"
             ],
             [
              0.6666666666666666,
              "#ed7953"
             ],
             [
              0.7777777777777778,
              "#fb9f3a"
             ],
             [
              0.8888888888888888,
              "#fdca26"
             ],
             [
              1,
              "#f0f921"
             ]
            ],
            "type": "histogram2d"
           }
          ],
          "histogram2dcontour": [
           {
            "colorbar": {
             "outlinewidth": 0,
             "ticks": ""
            },
            "colorscale": [
             [
              0,
              "#0d0887"
             ],
             [
              0.1111111111111111,
              "#46039f"
             ],
             [
              0.2222222222222222,
              "#7201a8"
             ],
             [
              0.3333333333333333,
              "#9c179e"
             ],
             [
              0.4444444444444444,
              "#bd3786"
             ],
             [
              0.5555555555555556,
              "#d8576b"
             ],
             [
              0.6666666666666666,
              "#ed7953"
             ],
             [
              0.7777777777777778,
              "#fb9f3a"
             ],
             [
              0.8888888888888888,
              "#fdca26"
             ],
             [
              1,
              "#f0f921"
             ]
            ],
            "type": "histogram2dcontour"
           }
          ],
          "mesh3d": [
           {
            "colorbar": {
             "outlinewidth": 0,
             "ticks": ""
            },
            "type": "mesh3d"
           }
          ],
          "parcoords": [
           {
            "line": {
             "colorbar": {
              "outlinewidth": 0,
              "ticks": ""
             }
            },
            "type": "parcoords"
           }
          ],
          "pie": [
           {
            "automargin": true,
            "type": "pie"
           }
          ],
          "scatter": [
           {
            "fillpattern": {
             "fillmode": "overlay",
             "size": 10,
             "solidity": 0.2
            },
            "type": "scatter"
           }
          ],
          "scatter3d": [
           {
            "line": {
             "colorbar": {
              "outlinewidth": 0,
              "ticks": ""
             }
            },
            "marker": {
             "colorbar": {
              "outlinewidth": 0,
              "ticks": ""
             }
            },
            "type": "scatter3d"
           }
          ],
          "scattercarpet": [
           {
            "marker": {
             "colorbar": {
              "outlinewidth": 0,
              "ticks": ""
             }
            },
            "type": "scattercarpet"
           }
          ],
          "scattergeo": [
           {
            "marker": {
             "colorbar": {
              "outlinewidth": 0,
              "ticks": ""
             }
            },
            "type": "scattergeo"
           }
          ],
          "scattergl": [
           {
            "marker": {
             "colorbar": {
              "outlinewidth": 0,
              "ticks": ""
             }
            },
            "type": "scattergl"
           }
          ],
          "scattermapbox": [
           {
            "marker": {
             "colorbar": {
              "outlinewidth": 0,
              "ticks": ""
             }
            },
            "type": "scattermapbox"
           }
          ],
          "scatterpolar": [
           {
            "marker": {
             "colorbar": {
              "outlinewidth": 0,
              "ticks": ""
             }
            },
            "type": "scatterpolar"
           }
          ],
          "scatterpolargl": [
           {
            "marker": {
             "colorbar": {
              "outlinewidth": 0,
              "ticks": ""
             }
            },
            "type": "scatterpolargl"
           }
          ],
          "scatterternary": [
           {
            "marker": {
             "colorbar": {
              "outlinewidth": 0,
              "ticks": ""
             }
            },
            "type": "scatterternary"
           }
          ],
          "surface": [
           {
            "colorbar": {
             "outlinewidth": 0,
             "ticks": ""
            },
            "colorscale": [
             [
              0,
              "#0d0887"
             ],
             [
              0.1111111111111111,
              "#46039f"
             ],
             [
              0.2222222222222222,
              "#7201a8"
             ],
             [
              0.3333333333333333,
              "#9c179e"
             ],
             [
              0.4444444444444444,
              "#bd3786"
             ],
             [
              0.5555555555555556,
              "#d8576b"
             ],
             [
              0.6666666666666666,
              "#ed7953"
             ],
             [
              0.7777777777777778,
              "#fb9f3a"
             ],
             [
              0.8888888888888888,
              "#fdca26"
             ],
             [
              1,
              "#f0f921"
             ]
            ],
            "type": "surface"
           }
          ],
          "table": [
           {
            "cells": {
             "fill": {
              "color": "#EBF0F8"
             },
             "line": {
              "color": "white"
             }
            },
            "header": {
             "fill": {
              "color": "#C8D4E3"
             },
             "line": {
              "color": "white"
             }
            },
            "type": "table"
           }
          ]
         },
         "layout": {
          "annotationdefaults": {
           "arrowcolor": "#2a3f5f",
           "arrowhead": 0,
           "arrowwidth": 1
          },
          "autotypenumbers": "strict",
          "coloraxis": {
           "colorbar": {
            "outlinewidth": 0,
            "ticks": ""
           }
          },
          "colorscale": {
           "diverging": [
            [
             0,
             "#8e0152"
            ],
            [
             0.1,
             "#c51b7d"
            ],
            [
             0.2,
             "#de77ae"
            ],
            [
             0.3,
             "#f1b6da"
            ],
            [
             0.4,
             "#fde0ef"
            ],
            [
             0.5,
             "#f7f7f7"
            ],
            [
             0.6,
             "#e6f5d0"
            ],
            [
             0.7,
             "#b8e186"
            ],
            [
             0.8,
             "#7fbc41"
            ],
            [
             0.9,
             "#4d9221"
            ],
            [
             1,
             "#276419"
            ]
           ],
           "sequential": [
            [
             0,
             "#0d0887"
            ],
            [
             0.1111111111111111,
             "#46039f"
            ],
            [
             0.2222222222222222,
             "#7201a8"
            ],
            [
             0.3333333333333333,
             "#9c179e"
            ],
            [
             0.4444444444444444,
             "#bd3786"
            ],
            [
             0.5555555555555556,
             "#d8576b"
            ],
            [
             0.6666666666666666,
             "#ed7953"
            ],
            [
             0.7777777777777778,
             "#fb9f3a"
            ],
            [
             0.8888888888888888,
             "#fdca26"
            ],
            [
             1,
             "#f0f921"
            ]
           ],
           "sequentialminus": [
            [
             0,
             "#0d0887"
            ],
            [
             0.1111111111111111,
             "#46039f"
            ],
            [
             0.2222222222222222,
             "#7201a8"
            ],
            [
             0.3333333333333333,
             "#9c179e"
            ],
            [
             0.4444444444444444,
             "#bd3786"
            ],
            [
             0.5555555555555556,
             "#d8576b"
            ],
            [
             0.6666666666666666,
             "#ed7953"
            ],
            [
             0.7777777777777778,
             "#fb9f3a"
            ],
            [
             0.8888888888888888,
             "#fdca26"
            ],
            [
             1,
             "#f0f921"
            ]
           ]
          },
          "colorway": [
           "#636efa",
           "#EF553B",
           "#00cc96",
           "#ab63fa",
           "#FFA15A",
           "#19d3f3",
           "#FF6692",
           "#B6E880",
           "#FF97FF",
           "#FECB52"
          ],
          "font": {
           "color": "#2a3f5f"
          },
          "geo": {
           "bgcolor": "white",
           "lakecolor": "white",
           "landcolor": "white",
           "showlakes": true,
           "showland": true,
           "subunitcolor": "#C8D4E3"
          },
          "hoverlabel": {
           "align": "left"
          },
          "hovermode": "closest",
          "mapbox": {
           "style": "light"
          },
          "paper_bgcolor": "white",
          "plot_bgcolor": "white",
          "polar": {
           "angularaxis": {
            "gridcolor": "#EBF0F8",
            "linecolor": "#EBF0F8",
            "ticks": ""
           },
           "bgcolor": "white",
           "radialaxis": {
            "gridcolor": "#EBF0F8",
            "linecolor": "#EBF0F8",
            "ticks": ""
           }
          },
          "scene": {
           "xaxis": {
            "backgroundcolor": "white",
            "gridcolor": "#DFE8F3",
            "gridwidth": 2,
            "linecolor": "#EBF0F8",
            "showbackground": true,
            "ticks": "",
            "zerolinecolor": "#EBF0F8"
           },
           "yaxis": {
            "backgroundcolor": "white",
            "gridcolor": "#DFE8F3",
            "gridwidth": 2,
            "linecolor": "#EBF0F8",
            "showbackground": true,
            "ticks": "",
            "zerolinecolor": "#EBF0F8"
           },
           "zaxis": {
            "backgroundcolor": "white",
            "gridcolor": "#DFE8F3",
            "gridwidth": 2,
            "linecolor": "#EBF0F8",
            "showbackground": true,
            "ticks": "",
            "zerolinecolor": "#EBF0F8"
           }
          },
          "shapedefaults": {
           "line": {
            "color": "#2a3f5f"
           }
          },
          "ternary": {
           "aaxis": {
            "gridcolor": "#DFE8F3",
            "linecolor": "#A2B1C6",
            "ticks": ""
           },
           "baxis": {
            "gridcolor": "#DFE8F3",
            "linecolor": "#A2B1C6",
            "ticks": ""
           },
           "bgcolor": "white",
           "caxis": {
            "gridcolor": "#DFE8F3",
            "linecolor": "#A2B1C6",
            "ticks": ""
           }
          },
          "title": {
           "x": 0.05
          },
          "xaxis": {
           "automargin": true,
           "gridcolor": "#EBF0F8",
           "linecolor": "#EBF0F8",
           "ticks": "",
           "title": {
            "standoff": 15
           },
           "zerolinecolor": "#EBF0F8",
           "zerolinewidth": 2
          },
          "yaxis": {
           "automargin": true,
           "gridcolor": "#EBF0F8",
           "linecolor": "#EBF0F8",
           "ticks": "",
           "title": {
            "standoff": 15
           },
           "zerolinecolor": "#EBF0F8",
           "zerolinewidth": 2
          }
         }
        },
        "title": {
         "font": {
          "color": "Black",
          "size": 22
         },
         "text": "<b>Hierarchical Clustering</b>",
         "x": 0.5,
         "xanchor": "center",
         "yanchor": "top"
        },
        "width": 1000,
        "xaxis": {
         "mirror": "allticks",
         "rangemode": "tozero",
         "showgrid": false,
         "showline": true,
         "showticklabels": true,
         "ticks": "outside",
         "type": "linear",
         "zeroline": false
        },
        "yaxis": {
         "mirror": "allticks",
         "range": [
          -170,
          0
         ],
         "rangemode": "tozero",
         "showgrid": false,
         "showline": true,
         "showticklabels": true,
         "tickmode": "array",
         "ticks": "outside",
         "ticktext": [
          "15_comemoração_lugar_amigo",
          "13_aniversário_comemorar_mú...",
          "6_aniversário_comemorar_lugar",
          "8_aniversário_comemorar_com...",
          "14_aniversário_comemorar_re...",
          "12_mariachi_show_muito",
          "9_restaurante_mariachi_tequ...",
          "4_restaurante_bom_muito",
          "0_mexicano_guacamole_restau...",
          "2_música_bom_ambiente",
          "1_muito_bom_atendimento",
          "3_bebida_drink_cerveja",
          "5_tequila_tequileiro_muito",
          "11_local_amigo_mal",
          "10_tablet_pedido_sistema",
          "7_não_mais_fila",
          "16_burrito_nacho_taco"
         ],
         "tickvals": [
          -5,
          -15,
          -25,
          -35,
          -45,
          -55,
          -65,
          -75,
          -85,
          -95,
          -105,
          -115,
          -125,
          -135,
          -145,
          -155,
          -165
         ],
         "type": "linear",
         "zeroline": false
        }
       }
      }
     },
     "metadata": {},
     "output_type": "display_data"
    }
   ],
   "source": [
    "topic_model.visualize_hierarchy()"
   ]
  },
  {
   "cell_type": "code",
   "execution_count": 15,
   "metadata": {},
   "outputs": [],
   "source": [
    "dates_reviews = df_reviews[\"Date Formatted\"].to_list()"
   ]
  },
  {
   "cell_type": "code",
   "execution_count": 16,
   "metadata": {},
   "outputs": [
    {
     "name": "stderr",
     "output_type": "stream",
     "text": [
      "20it [00:01, 19.59it/s]\n"
     ]
    }
   ],
   "source": [
    "topics_over_time = topic_model.topics_over_time(doc_comments, dates_reviews, datetime_format=\"%Y-%m-%d\", nr_bins=20)"
   ]
  },
  {
   "cell_type": "code",
   "execution_count": 17,
   "metadata": {},
   "outputs": [
    {
     "data": {
      "application/vnd.plotly.v1+json": {
       "config": {
        "plotlyServerURL": "https://plot.ly"
       },
       "data": [
        {
         "hoverinfo": "text",
         "hovertext": [
          "<b>Topic 0</b><br>Words: mexicano, restaurante, não, tocar, comida",
          "<b>Topic 0</b><br>Words: mexicano, mais, restaurante, guacamole, já",
          "<b>Topic 0</b><br>Words: mexicano, restaurante, mais, guacamole, comida",
          "<b>Topic 0</b><br>Words: mexicano, comida, mais, guacamole, excelente",
          "<b>Topic 0</b><br>Words: mexicano, mais, restaurante, comida, guacamole",
          "<b>Topic 0</b><br>Words: mexicano, mais, guacamole, comida, restaurante",
          "<b>Topic 0</b><br>Words: mexicano, restaurante, mais, bom, comida",
          "<b>Topic 0</b><br>Words: mexicano, guacamole, restaurante, mais, comida",
          "<b>Topic 0</b><br>Words: mexicano, restaurante, comida, mais, música",
          "<b>Topic 0</b><br>Words: mexicano, mais, guacamole, restaurante, comida",
          "<b>Topic 0</b><br>Words: mexicano, guacamole, restaurante, mais, comida",
          "<b>Topic 0</b><br>Words: mexicano, guacamole, bom, comida, muito",
          "<b>Topic 0</b><br>Words: mexicano, guacamole, bom, comida, restaurante",
          "<b>Topic 0</b><br>Words: mexicano, guacamole, bom, comida, restaurante",
          "<b>Topic 0</b><br>Words: mexicano, restaurante, comida, guacamole, muito",
          "<b>Topic 0</b><br>Words: mexicano, guacamole, comida, experiência, maria",
          "<b>Topic 0</b><br>Words: mexicano, guacamole, restaurante, bom, mariachi",
          "<b>Topic 0</b><br>Words: mexicano, guacamole, bem, atendimento, experiência",
          "<b>Topic 0</b><br>Words: mexicano, bom, guacamole, comida, restaurante",
          "<b>Topic 0</b><br>Words: mexicano, sabor, bem, ambiente, cozinha"
         ],
         "marker": {
          "color": "#E69F00"
         },
         "mode": "lines",
         "name": "0_mexicano_guacamole_restaurante_comida",
         "type": "scatter",
         "x": [
          "2012-08-20T21:10:04.800000",
          "2013-03-18T21:36:00",
          "2013-10-10T19:12:00",
          "2014-05-04T16:48:00",
          "2014-11-26T14:24:00",
          "2015-06-20T12:00:00",
          "2016-01-12T09:36:00",
          "2016-08-05T07:12:00",
          "2017-02-27T04:48:00",
          "2017-09-21T02:24:00",
          "2018-04-15T00:00:00",
          "2018-11-06T21:36:00",
          "2019-05-31T19:12:00",
          "2019-12-23T16:48:00",
          "2020-07-16T14:24:00",
          "2021-02-07T12:00:00",
          "2021-09-01T09:36:00",
          "2022-03-26T07:12:00",
          "2022-10-18T04:48:00",
          "2023-05-12T02:24:00"
         ],
         "y": [
          6,
          16,
          25,
          21,
          48,
          58,
          56,
          36,
          15,
          35,
          26,
          149,
          106,
          43,
          17,
          10,
          21,
          16,
          21,
          10
         ]
        },
        {
         "hoverinfo": "text",
         "hovertext": [
          "<b>Topic 1</b><br>Words: propiciar, inevitável, treinar, drinque, tornar",
          "<b>Topic 1</b><br>Words: rolar, ida, turma, duvida, colorir",
          "<b>Topic 1</b><br>Words: arcaico, ligeira, esperto, excesso, oscilação",
          "<b>Topic 1</b><br>Words: caipevodka, tangerina, decepcionei, fruta, vermelho",
          "<b>Topic 1</b><br>Words: bom, muito, atendimento, comida, bem",
          "<b>Topic 1</b><br>Words: covert, salao, lugar, muito, artistico",
          "<b>Topic 1</b><br>Words: bom, local, muito, comida, preço",
          "<b>Topic 1</b><br>Words: bom, muito, atendimento, comida, bem",
          "<b>Topic 1</b><br>Words: bom, muito, atendimento, não, casa",
          "<b>Topic 1</b><br>Words: muito, lugar, bom, bem, atendimento",
          "<b>Topic 1</b><br>Words: muito, bom, lugar, recomendar, atendimento",
          "<b>Topic 1</b><br>Words: bom, muito, atendimento, lugar, ambiente",
          "<b>Topic 1</b><br>Words: muito, bom, atendimento, lugar, excelente",
          "<b>Topic 1</b><br>Words: muito, bom, atendimento, agradável, lugar",
          "<b>Topic 1</b><br>Words: ambiente, agradável, adepto, muito, regra",
          "<b>Topic 1</b><br>Words: muito, bom, atendimento, ambiente, comida",
          "<b>Topic 1</b><br>Words: bom, atendimento, muito, ambiente, comida",
          "<b>Topic 1</b><br>Words: muito, atendimento, bom, certeza, ambiente",
          "<b>Topic 1</b><br>Words: muito, legal, atendimento, bom, matheu",
          "<b>Topic 1</b><br>Words: atendimento, muito, bom, comida, ambiente"
         ],
         "marker": {
          "color": "#56B4E9"
         },
         "mode": "lines",
         "name": "1_muito_bom_atendimento_ambiente",
         "type": "scatter",
         "x": [
          "2012-08-20T21:10:04.800000",
          "2013-03-18T21:36:00",
          "2013-10-10T19:12:00",
          "2014-05-04T16:48:00",
          "2014-11-26T14:24:00",
          "2015-06-20T12:00:00",
          "2016-01-12T09:36:00",
          "2016-08-05T07:12:00",
          "2017-02-27T04:48:00",
          "2017-09-21T02:24:00",
          "2018-04-15T00:00:00",
          "2018-11-06T21:36:00",
          "2019-05-31T19:12:00",
          "2019-12-23T16:48:00",
          "2020-07-16T14:24:00",
          "2021-02-07T12:00:00",
          "2021-09-01T09:36:00",
          "2022-03-26T07:12:00",
          "2022-10-18T04:48:00",
          "2023-05-12T02:24:00"
         ],
         "y": [
          1,
          1,
          2,
          4,
          12,
          4,
          11,
          13,
          8,
          15,
          23,
          209,
          148,
          54,
          11,
          19,
          26,
          28,
          22,
          37
         ]
        },
        {
         "hoverinfo": "text",
         "hovertext": [
          "<b>Topic 2</b><br>Words: alcançar, jovem, publico, país, menu",
          "<b>Topic 2</b><br>Words: musica, mesa, tequileiro, conseguir, discontrair",
          "<b>Topic 2</b><br>Words: música, bom, vivo, muito, amigo",
          "<b>Topic 2</b><br>Words: música, estiver, performance, restaurabte, barra",
          "<b>Topic 2</b><br>Words: música, músico, local, animar, excelente",
          "<b>Topic 2</b><br>Words: música, muito, ambiente, comida, musica",
          "<b>Topic 2</b><br>Words: música, trazir, maravilhoso, músico, bem",
          "<b>Topic 2</b><br>Words: música, bom, animar, mais, muito",
          "<b>Topic 2</b><br>Words: música, bom, ambiente, animar, muito",
          "<b>Topic 2</b><br>Words: música, ambiente, vasto, bom, nota",
          "<b>Topic 2</b><br>Words: música, bom, musica, muito, ambiente",
          "<b>Topic 2</b><br>Words: música, bom, ambiente, atendimento, muito",
          "<b>Topic 2</b><br>Words: música, bom, muito, vivo, ambiente",
          "<b>Topic 2</b><br>Words: admirado, destrair, rotina, rsrs, música",
          "<b>Topic 2</b><br>Words: música, ambientemo, educadaaaaa, ameir, rolar",
          "<b>Topic 2</b><br>Words: música, conhecer, comida, atendimento, vez",
          "<b>Topic 2</b><br>Words: música, muito, comer, bom, atencioso",
          "<b>Topic 2</b><br>Words: música, atendimento, bom, musica, ambiente",
          "<b>Topic 2</b><br>Words: música, ambiente, bom, muito, maravilhoso"
         ],
         "marker": {
          "color": "#009E73"
         },
         "mode": "lines",
         "name": "2_música_bom_ambiente_muito",
         "type": "scatter",
         "x": [
          "2013-03-18T21:36:00",
          "2013-10-10T19:12:00",
          "2014-05-04T16:48:00",
          "2014-11-26T14:24:00",
          "2015-06-20T12:00:00",
          "2016-01-12T09:36:00",
          "2016-08-05T07:12:00",
          "2017-02-27T04:48:00",
          "2017-09-21T02:24:00",
          "2018-04-15T00:00:00",
          "2018-11-06T21:36:00",
          "2019-05-31T19:12:00",
          "2019-12-23T16:48:00",
          "2020-07-16T14:24:00",
          "2021-02-07T12:00:00",
          "2021-09-01T09:36:00",
          "2022-03-26T07:12:00",
          "2022-10-18T04:48:00",
          "2023-05-12T02:24:00"
         ],
         "y": [
          2,
          3,
          8,
          4,
          6,
          14,
          8,
          6,
          17,
          11,
          99,
          81,
          26,
          2,
          5,
          8,
          16,
          14,
          18
         ]
        },
        {
         "hoverinfo": "text",
         "hovertext": [
          "<b>Topic 3</b><br>Words: personalisar, decorado, apresentação, muito, noite",
          "<b>Topic 3</b><br>Words: jovem, baixo, carta, petisco, cerveja",
          "<b>Topic 3</b><br>Words: chalupar, entillar, acompanhamento, cobr, pedir",
          "<b>Topic 3</b><br>Words: ponto, bebida, comercial, crítico, zona",
          "<b>Topic 3</b><br>Words: drink, bem, bebida, muito, lugar",
          "<b>Topic 3</b><br>Words: maritaca, morrer, pespecial, saudade, genro",
          "<b>Topic 3</b><br>Words: porta, hour, happy, apesar, garantir",
          "<b>Topic 3</b><br>Words: bebida, cerveja, muito, ambiente, drink",
          "<b>Topic 3</b><br>Words: bebida, indico, junina, arejar, afastar",
          "<b>Topic 3</b><br>Words: bebida, drink, bom, gelar, comer",
          "<b>Topic 3</b><br>Words: bebida, gelar, cerveja, atendimento, bom",
          "<b>Topic 3</b><br>Words: bebida, comer, bem, noite, bom",
          "<b>Topic 3</b><br>Words: drink, futebol, recomento, atmosfera, hour",
          "<b>Topic 3</b><br>Words: cerveja, bebida, drink, muito, atendimento",
          "<b>Topic 3</b><br>Words: drink, estivermos, dedicatória, taoer, acessivel",
          "<b>Topic 3</b><br>Words: bebida, bom, drink, muito, atendimento",
          "<b>Topic 3</b><br>Words: bebida, drink, atendente, bom, noite",
          "<b>Topic 3</b><br>Words: bebida, drink, otimo, dedicação, atendimento"
         ],
         "marker": {
          "color": "#F0E442"
         },
         "mode": "lines",
         "name": "3_bebida_drink_cerveja_bom",
         "type": "scatter",
         "x": [
          "2013-10-10T19:12:00",
          "2014-05-04T16:48:00",
          "2014-11-26T14:24:00",
          "2015-06-20T12:00:00",
          "2016-01-12T09:36:00",
          "2016-08-05T07:12:00",
          "2017-02-27T04:48:00",
          "2017-09-21T02:24:00",
          "2018-04-15T00:00:00",
          "2018-11-06T21:36:00",
          "2019-05-31T19:12:00",
          "2019-12-23T16:48:00",
          "2020-07-16T14:24:00",
          "2021-02-07T12:00:00",
          "2021-09-01T09:36:00",
          "2022-03-26T07:12:00",
          "2022-10-18T04:48:00",
          "2023-05-12T02:24:00"
         ],
         "y": [
          1,
          1,
          2,
          2,
          6,
          1,
          2,
          7,
          4,
          71,
          64,
          12,
          2,
          13,
          5,
          9,
          10,
          7
         ]
        },
        {
         "hoverinfo": "text",
         "hovertext": [
          "<b>Topic 4</b><br>Words: restaurante, sobremesa, chão, bonito, barata",
          "<b>Topic 4</b><br>Words: conferir, valer, bacano, restaurante, também",
          "<b>Topic 4</b><br>Words: quanto, casal, jantar, tanto, restaurante",
          "<b>Topic 4</b><br>Words: restaurante, bom, mais, querer, muito",
          "<b>Topic 4</b><br>Words: restaurante, reino, exagerado, seca, restante",
          "<b>Topic 4</b><br>Words: restaurante, levar, primeiro, conhecimento, tatiano",
          "<b>Topic 4</b><br>Words: envolver, restaurante, receber, quanto, entretenimento",
          "<b>Topic 4</b><br>Words: errar, unidade, animado, botânico, jardim",
          "<b>Topic 4</b><br>Words: restaurante, ficar, parado, localidade, assustar",
          "<b>Topic 4</b><br>Words: disponibilizar, foto, localizar, bonito, ameir",
          "<b>Topic 4</b><br>Words: restaurante, bom, muito, recomendar, excelente",
          "<b>Topic 4</b><br>Words: restaurante, bom, atendimento, muito, comida",
          "<b>Topic 4</b><br>Words: restaurante, andrér, muito, atendimento, exerceste",
          "<b>Topic 4</b><br>Words: restaurante, oleosa, obcar, quesadillas, date",
          "<b>Topic 4</b><br>Words: restaurante, muito, maria, bom, espetacular",
          "<b>Topic 4</b><br>Words: restaurante, além, experiência, muito, surpreendir",
          "<b>Topic 4</b><br>Words: restaurante, atendimento, sempre, impecável, bom",
          "<b>Topic 4</b><br>Words: restaurante, joinville, kayhan, comidaaaaa, organizadooo",
          "<b>Topic 4</b><br>Words: restaurante, gostsa, divulgar, futuro, vibe"
         ],
         "marker": {
          "color": "#D55E00"
         },
         "mode": "lines",
         "name": "4_restaurante_bom_muito_atendimento",
         "type": "scatter",
         "x": [
          "2013-03-18T21:36:00",
          "2013-10-10T19:12:00",
          "2014-05-04T16:48:00",
          "2014-11-26T14:24:00",
          "2015-06-20T12:00:00",
          "2016-01-12T09:36:00",
          "2016-08-05T07:12:00",
          "2017-02-27T04:48:00",
          "2017-09-21T02:24:00",
          "2018-04-15T00:00:00",
          "2018-11-06T21:36:00",
          "2019-05-31T19:12:00",
          "2019-12-23T16:48:00",
          "2020-07-16T14:24:00",
          "2021-02-07T12:00:00",
          "2021-09-01T09:36:00",
          "2022-03-26T07:12:00",
          "2022-10-18T04:48:00",
          "2023-05-12T02:24:00"
         ],
         "y": [
          3,
          1,
          2,
          8,
          2,
          4,
          2,
          1,
          4,
          1,
          45,
          32,
          7,
          3,
          10,
          5,
          7,
          3,
          3
         ]
        },
        {
         "hoverinfo": "text",
         "hovertext": [
          "<b>Topic 5</b><br>Words: tequila, tequileiro, noite, equl, duro",
          "<b>Topic 5</b><br>Words: pês, marichi, shots, tequila, drinque",
          "<b>Topic 5</b><br>Words: perceber, feito, cuidado, quando, alegre",
          "<b>Topic 5</b><br>Words: tequila, retirada, omissar, intransigente, autorizar",
          "<b>Topic 5</b><br>Words: tequila, carde, cantanr, rsrs, agitar",
          "<b>Topic 5</b><br>Words: tequila, real, oferecer, mesa, base",
          "<b>Topic 5</b><br>Words: tequila, tequileiro, mariachi, bem, preparar",
          "<b>Topic 5</b><br>Words: tequila, tequileiro, super, divertido, muito",
          "<b>Topic 5</b><br>Words: tequila, tranquilidade, tontiante, louco, papo",
          "<b>Topic 5</b><br>Words: tequila, oferecer, média, tequileiro, tomar",
          "<b>Topic 5</b><br>Words: ider, tequileiro, original, engraçado, gastronomia",
          "<b>Topic 5</b><br>Words: tequila, tequileiro, muito, divertido, margarita",
          "<b>Topic 5</b><br>Words: tequila, tequileiro, muito, bom, ri",
          "<b>Topic 5</b><br>Words: tequila, bom, tequileiro, trapo, brabo",
          "<b>Topic 5</b><br>Words: camarones, queadilla, manga, pesar, chapo",
          "<b>Topic 5</b><br>Words: texmex, beber, sensacional, voltar, incrível",
          "<b>Topic 5</b><br>Words: floripa, tequila, melgir, lúcia, cavalheiro",
          "<b>Topic 5</b><br>Words: superb, sr, madruga, esplêndido, sensacional"
         ],
         "marker": {
          "color": "#0072B2"
         },
         "mode": "lines",
         "name": "5_tequila_tequileiro_muito_bom",
         "type": "scatter",
         "x": [
          "2012-08-20T21:10:04.800000",
          "2013-03-18T21:36:00",
          "2013-10-10T19:12:00",
          "2014-05-04T16:48:00",
          "2014-11-26T14:24:00",
          "2015-06-20T12:00:00",
          "2016-01-12T09:36:00",
          "2016-08-05T07:12:00",
          "2017-02-27T04:48:00",
          "2017-09-21T02:24:00",
          "2018-04-15T00:00:00",
          "2018-11-06T21:36:00",
          "2019-05-31T19:12:00",
          "2019-12-23T16:48:00",
          "2020-07-16T14:24:00",
          "2021-02-07T12:00:00",
          "2022-10-18T04:48:00",
          "2023-05-12T02:24:00"
         ],
         "y": [
          3,
          2,
          1,
          2,
          3,
          4,
          7,
          6,
          3,
          5,
          2,
          31,
          18,
          12,
          2,
          1,
          3,
          1
         ]
        },
        {
         "hoverinfo": "text",
         "hovertext": [
          "<b>Topic 6</b><br>Words: março, finalização, ultimo, parede, anterior",
          "<b>Topic 6</b><br>Words: aniversário, comemorar, abusivo, sacanagem, seguinte",
          "<b>Topic 6</b><br>Words: mimo, aniversariante, atendido, especial, cheio",
          "<b>Topic 6</b><br>Words: encheu, tabletr, aniversário, início, comemorar",
          "<b>Topic 6</b><br>Words: namorado, certifiquei, vantagem, desanimar, aniversário",
          "<b>Topic 6</b><br>Words: aniversário, comemorar, lugar, amigo, aqui",
          "<b>Topic 6</b><br>Words: aniversário, comemorar, amigo, ano, lugar",
          "<b>Topic 6</b><br>Words: comemorar, aniversário, restauranre, ilustríssimo, fevereiro",
          "<b>Topic 6</b><br>Words: aniversário, comemorar, chave, divertar, caracterizado",
          "<b>Topic 6</b><br>Words: aniversário, comemorar, amo, perfeito, aqui",
          "<b>Topic 6</b><br>Words: casamento, aniversário, passar, aqui, amada",
          "<b>Topic 6</b><br>Words: aniversário, recordação, conosco, curtir, família"
         ],
         "marker": {
          "color": "#CC79A7"
         },
         "mode": "lines",
         "name": "6_aniversário_comemorar_lugar_aqui",
         "type": "scatter",
         "x": [
          "2013-10-10T19:12:00",
          "2016-01-12T09:36:00",
          "2016-08-05T07:12:00",
          "2017-09-21T02:24:00",
          "2018-04-15T00:00:00",
          "2018-11-06T21:36:00",
          "2019-05-31T19:12:00",
          "2019-12-23T16:48:00",
          "2021-02-07T12:00:00",
          "2021-09-01T09:36:00",
          "2022-03-26T07:12:00",
          "2023-05-12T02:24:00"
         ],
         "y": [
          1,
          2,
          1,
          1,
          1,
          35,
          18,
          4,
          3,
          7,
          3,
          3
         ]
        },
        {
         "hoverinfo": "text",
         "hovertext": [
          "<b>Topic 7</b><br>Words: entrar, escolhido, previsão, despreparar, avisar",
          "<b>Topic 7</b><br>Words: reparação, moral, horroroso, descontroladamente, viajei",
          "<b>Topic 7</b><br>Words: ruído, objetivo, dificilmente, decente, conversa",
          "<b>Topic 7</b><br>Words: barulho, não, coisa, estabelecer, convenhar",
          "<b>Topic 7</b><br>Words: hora, mais, chegar, cream, péssimo",
          "<b>Topic 7</b><br>Words: não, chegar, depois, cancelar, fila",
          "<b>Topic 7</b><br>Words: fila, mais, sábado, esperar, cadastro",
          "<b>Topic 7</b><br>Words: péssimo, não, chegar, garçom, atender",
          "<b>Topic 7</b><br>Words: minuto, fato, razoável, tanto, mais",
          "<b>Topic 7</b><br>Words: minuto, não, mais, fila, hora",
          "<b>Topic 7</b><br>Words: servir, conseguíar, perda, vejar, adiantar",
          "<b>Topic 7</b><br>Words: ampliar, chamá, verbalmente, nebida, alocar",
          "<b>Topic 7</b><br>Words: reclamação, bebbida, qdo, poder, criativo",
          "<b>Topic 7</b><br>Words: não, restaurante, chegar, mesmo, mais",
          "<b>Topic 7</b><br>Words: funcionária, ruim, mesmo, piores, retificar",
          "<b>Topic 7</b><br>Words: puderem, preju, kg, comar, esturricar",
          "<b>Topic 7</b><br>Words: rodízio, optar, restringir, arrependemo, demora",
          "<b>Topic 7</b><br>Words: servir, forma, não, rodízio, chegar",
          "<b>Topic 7</b><br>Words: pontuação, diretriz, avaliação, ter, perfil"
         ],
         "marker": {
          "color": "#E69F00"
         },
         "mode": "lines",
         "name": "7_não_mais_fila_chegar",
         "type": "scatter",
         "x": [
          "2012-08-20T21:10:04.800000",
          "2013-03-18T21:36:00",
          "2013-10-10T19:12:00",
          "2014-05-04T16:48:00",
          "2014-11-26T14:24:00",
          "2015-06-20T12:00:00",
          "2016-01-12T09:36:00",
          "2016-08-05T07:12:00",
          "2017-02-27T04:48:00",
          "2017-09-21T02:24:00",
          "2018-04-15T00:00:00",
          "2018-11-06T21:36:00",
          "2019-05-31T19:12:00",
          "2019-12-23T16:48:00",
          "2021-02-07T12:00:00",
          "2021-09-01T09:36:00",
          "2022-03-26T07:12:00",
          "2022-10-18T04:48:00",
          "2023-05-12T02:24:00"
         ],
         "y": [
          1,
          3,
          2,
          3,
          10,
          9,
          6,
          7,
          3,
          5,
          2,
          3,
          2,
          4,
          2,
          1,
          1,
          3,
          3
         ]
        },
        {
         "hoverinfo": "text",
         "hovertext": [
          "<b>Topic 8</b><br>Words: pimenta, aniversário, marcado, deliciar, pollo",
          "<b>Topic 8</b><br>Words: aniversário, viagem, já, possível, comemorar",
          "<b>Topic 8</b><br>Words: aniversário, comemorar, mal, célebrar, rolando",
          "<b>Topic 8</b><br>Words: aniversário, ontem, demorar, sogra, jessica",
          "<b>Topic 8</b><br>Words: aniversario, depo, morrito, happyhour, melhor",
          "<b>Topic 8</b><br>Words: aniversário, comemorar, muito, comida, amigo",
          "<b>Topic 8</b><br>Words: aniversário, comemorar, amigo, ótimo, fiz",
          "<b>Topic 8</b><br>Words: aniversário, beber, comemorar, amiga, ótimo",
          "<b>Topic 8</b><br>Words: irmã, simplesmente, notar, aniversário, top",
          "<b>Topic 8</b><br>Words: aniversário, ótimo, hour, happy, local",
          "<b>Topic 8</b><br>Words: blue, fer, aniversário, celebrar, comida",
          "<b>Topic 8</b><br>Words: aniversário, comemorar, rodrigo, gostamo, fazer"
         ],
         "marker": {
          "color": "#56B4E9"
         },
         "mode": "lines",
         "name": "8_aniversário_comemorar_comida_muito",
         "type": "scatter",
         "x": [
          "2014-11-26T14:24:00",
          "2015-06-20T12:00:00",
          "2016-01-12T09:36:00",
          "2017-09-21T02:24:00",
          "2018-04-15T00:00:00",
          "2018-11-06T21:36:00",
          "2019-05-31T19:12:00",
          "2019-12-23T16:48:00",
          "2021-02-07T12:00:00",
          "2021-09-01T09:36:00",
          "2022-03-26T07:12:00",
          "2022-10-18T04:48:00"
         ],
         "y": [
          2,
          1,
          4,
          2,
          2,
          14,
          9,
          4,
          1,
          2,
          2,
          4
         ]
        },
        {
         "hoverinfo": "text",
         "hovertext": [
          "<b>Topic 9</b><br>Words: tequileiro, real, ter, restaurante, mariachi",
          "<b>Topic 9</b><br>Words: mariachi, gostosíssimo, encaixar, arrumado, impacto",
          "<b>Topic 9</b><br>Words: obter, interminável, mariachi, tequileiro, problema",
          "<b>Topic 9</b><br>Words: restaurante, solteira, despedida, circular, mais",
          "<b>Topic 9</b><br>Words: restaurante, mariachi, mais, grande, tequileiro",
          "<b>Topic 9</b><br>Words: restaurante, mariachi, bem, mais, animação",
          "<b>Topic 9</b><br>Words: lindar, divertar, reservar, tempo, mariachi",
          "<b>Topic 9</b><br>Words: restaurante, preço, ótimos, corona, método",
          "<b>Topic 9</b><br>Words: otimaaas, gostosa, agitar, se, presença",
          "<b>Topic 9</b><br>Words: restaurante, diferencial, grande, taverna, espetacularmente",
          "<b>Topic 9</b><br>Words: restaurante, bem, quesadilla, noite, bar",
          "<b>Topic 9</b><br>Words: ecom, geladíssimo, caprichosamente, chopp, mariatis",
          "<b>Topic 9</b><br>Words: 2022, concorrer, abril, haver, retornar",
          "<b>Topic 9</b><br>Words: cool, uva, suco, vazio, estar"
         ],
         "marker": {
          "color": "#009E73"
         },
         "mode": "lines",
         "name": "9_restaurante_mariachi_tequileiro_bem",
         "type": "scatter",
         "x": [
          "2013-03-18T21:36:00",
          "2013-10-10T19:12:00",
          "2014-05-04T16:48:00",
          "2014-11-26T14:24:00",
          "2015-06-20T12:00:00",
          "2016-01-12T09:36:00",
          "2016-08-05T07:12:00",
          "2017-09-21T02:24:00",
          "2018-04-15T00:00:00",
          "2018-11-06T21:36:00",
          "2019-05-31T19:12:00",
          "2021-09-01T09:36:00",
          "2022-03-26T07:12:00",
          "2023-05-12T02:24:00"
         ],
         "y": [
          3,
          2,
          2,
          5,
          5,
          6,
          1,
          3,
          1,
          4,
          6,
          2,
          1,
          1
         ]
        },
        {
         "hoverinfo": "text",
         "hovertext": [
          "<b>Topic 10</b><br>Words: pedido, tablet, lançar, esclarecer, dosar",
          "<b>Topic 10</b><br>Words: tablet, pedido, através, sistema, garçom",
          "<b>Topic 10</b><br>Words: servićo, tablet, sistema, diferenciar, decoração",
          "<b>Topic 10</b><br>Words: tablet, pedido, sistema, fazer, digital",
          "<b>Topic 10</b><br>Words: tablet, pedido, solicitação, através, sistema",
          "<b>Topic 10</b><br>Words: tablet, pedido, facilitar, imediato, coder",
          "<b>Topic 10</b><br>Words: atrativo, tablet, bacano, boa, bem",
          "<b>Topic 10</b><br>Words: tablet, lindoooo, imagem, pedido, descrição",
          "<b>Topic 10</b><br>Words: fartar, digital, eficiente, rápido, experiência"
         ],
         "marker": {
          "color": "#F0E442"
         },
         "mode": "lines",
         "name": "10_tablet_pedido_sistema_mesa",
         "type": "scatter",
         "x": [
          "2017-02-27T04:48:00",
          "2017-09-21T02:24:00",
          "2018-04-15T00:00:00",
          "2018-11-06T21:36:00",
          "2019-05-31T19:12:00",
          "2019-12-23T16:48:00",
          "2021-09-01T09:36:00",
          "2022-03-26T07:12:00",
          "2022-10-18T04:48:00"
         ],
         "y": [
          2,
          6,
          1,
          18,
          8,
          3,
          1,
          2,
          1
         ]
        },
        {
         "hoverinfo": "text",
         "hovertext": [
          "<b>Topic 11</b><br>Words: graça, filial, rodar, meso, delícia",
          "<b>Topic 11</b><br>Words: tudoooo, avaliar, preferido, esquecer, marido",
          "<b>Topic 11</b><br>Words: mes, maio, trabalho, conversar, comido",
          "<b>Topic 11</b><br>Words: lotado, cliente, desencontro, hrs, numero",
          "<b>Topic 11</b><br>Words: resumar, lentidão, checkin, chameir, tentativa",
          "<b>Topic 11</b><br>Words: péssimo, levantar, mariatés, balcão, preciso",
          "<b>Topic 11</b><br>Words: esplêndir, hahahaha, alexandro, cris, arnaldo",
          "<b>Topic 11</b><br>Words: vitor, lover, local, casa, show",
          "<b>Topic 11</b><br>Words: dotro, ameeeiii, topss, aq, maravilhosaaal",
          "<b>Topic 11</b><br>Words: saudação, requintar, limpar, ambientar, torno",
          "<b>Topic 11</b><br>Words: ilumivao, cr, pica, lugarzinho, eh",
          "<b>Topic 11</b><br>Words: grupo, surreal, junto, cantor, parabéns",
          "<b>Topic 11</b><br>Words: saber, crl, receba, tropar, gringa",
          "<b>Topic 11</b><br>Words: matheu, andar, local, atendir, notar",
          "<b>Topic 11</b><br>Words: ameir, local, amigo, mal, atendimento"
         ],
         "marker": {
          "color": "#D55E00"
         },
         "mode": "lines",
         "name": "11_local_amigo_mal_atendimento",
         "type": "scatter",
         "x": [
          "2013-03-18T21:36:00",
          "2013-10-10T19:12:00",
          "2014-05-04T16:48:00",
          "2014-11-26T14:24:00",
          "2015-06-20T12:00:00",
          "2016-08-05T07:12:00",
          "2017-02-27T04:48:00",
          "2018-11-06T21:36:00",
          "2019-05-31T19:12:00",
          "2019-12-23T16:48:00",
          "2021-02-07T12:00:00",
          "2021-09-01T09:36:00",
          "2022-03-26T07:12:00",
          "2022-10-18T04:48:00",
          "2023-05-12T02:24:00"
         ],
         "y": [
          1,
          1,
          1,
          3,
          1,
          2,
          1,
          9,
          4,
          1,
          3,
          1,
          1,
          2,
          1
         ]
        },
        {
         "hoverinfo": "text",
         "hovertext": [
          "<b>Topic 12</b><br>Words: decoraçãor, mariachi, chegueir, então, precisar",
          "<b>Topic 12</b><br>Words: mariachi, saborear, peña, realocar, achar",
          "<b>Topic 12</b><br>Words: mariachi, show, 20h30, achar, interage",
          "<b>Topic 12</b><br>Words: show, inteiro, iluminação, mariachi, segurança",
          "<b>Topic 12</b><br>Words: menção, especial, merecer, mariachi, domingo",
          "<b>Topic 12</b><br>Words: mariachi, animar, ambiente, qualidade, show",
          "<b>Topic 12</b><br>Words: perfeitoooooo, animadosss, luca, mariachi, amo",
          "<b>Topic 12</b><br>Words: mariachi, lindo, apetitoso, adorar, prato",
          "<b>Topic 12</b><br>Words: mariachi, adoreeeei, bolo, cereja, tamanho",
          "<b>Topic 12</b><br>Words: mariachi, perfeitooos, corte, sonzeiro, los"
         ],
         "marker": {
          "color": "#0072B2"
         },
         "mode": "lines",
         "name": "12_mariachi_show_muito_lindo",
         "type": "scatter",
         "x": [
          "2013-10-10T19:12:00",
          "2014-11-26T14:24:00",
          "2015-06-20T12:00:00",
          "2016-01-12T09:36:00",
          "2017-02-27T04:48:00",
          "2018-11-06T21:36:00",
          "2019-05-31T19:12:00",
          "2021-02-07T12:00:00",
          "2022-03-26T07:12:00",
          "2023-05-12T02:24:00"
         ],
         "y": [
          1,
          3,
          3,
          1,
          1,
          10,
          1,
          2,
          2,
          2
         ]
        },
        {
         "hoverinfo": "text",
         "hovertext": [
          "<b>Topic 13</b><br>Words: precinho, brincalhão, razoável, muito, comemorar",
          "<b>Topic 13</b><br>Words: saborosa, musica, festivo, retornar, data",
          "<b>Topic 13</b><br>Words: aniversário, dançar, vivo, música, comemorar",
          "<b>Topic 13</b><br>Words: excessivamente, apropriar, aniversário, comemorar, músico",
          "<b>Topic 13</b><br>Words: comemorar, aniversário, reunioe, ambjente, amigo",
          "<b>Topic 13</b><br>Words: amiga, ótimos, decorar, aniversário, noite",
          "<b>Topic 13</b><br>Words: comemorar, aniversário, música, ponto, allison",
          "<b>Topic 13</b><br>Words: aniversário, comemorar, música, espaço, prazeroso",
          "<b>Topic 13</b><br>Words: aniversário, música, discoteca, ato, agrafabilissimo",
          "<b>Topic 13</b><br>Words: comemoramos, segunda, acolhedor, feira, vivo"
         ],
         "marker": {
          "color": "#CC79A7"
         },
         "mode": "lines",
         "name": "13_aniversário_comemorar_música_vivo",
         "type": "scatter",
         "x": [
          "2014-11-26T14:24:00",
          "2015-06-20T12:00:00",
          "2016-01-12T09:36:00",
          "2017-02-27T04:48:00",
          "2017-09-21T02:24:00",
          "2018-04-15T00:00:00",
          "2018-11-06T21:36:00",
          "2019-05-31T19:12:00",
          "2019-12-23T16:48:00",
          "2022-03-26T07:12:00"
         ],
         "y": [
          1,
          1,
          3,
          1,
          2,
          1,
          4,
          6,
          3,
          1
         ]
        },
        {
         "hoverinfo": "text",
         "hovertext": [
          "<b>Topic 14</b><br>Words: tequilero, acompanhar, cardapio, aniversario, mesa",
          "<b>Topic 14</b><br>Words: mariacho, andar, lotado, gelada, comemorar",
          "<b>Topic 14</b><br>Words: muitooo, problema, lotar, aniversário, custo",
          "<b>Topic 14</b><br>Words: aniversário, leveir, irmão, vestuário, estender",
          "<b>Topic 14</b><br>Words: risar, papo, silêncio, acessível, lado",
          "<b>Topic 14</b><br>Words: divertemr, medida, amplo, certo, variado",
          "<b>Topic 14</b><br>Words: comemorar, aniversário, tablet, recebir, funcional",
          "<b>Topic 14</b><br>Words: aniversário, restaurante, comemorar, veze, primo",
          "<b>Topic 14</b><br>Words: aniversario, restaurante, aniversário, comemorar, atendido",
          "<b>Topic 14</b><br>Words: cerveja, comemorar, tequila, aniversário, bom",
          "<b>Topic 14</b><br>Words: impecável, comemorar, aniversário, incrível, decoração",
          "<b>Topic 14</b><br>Words: agendamento, simples, site, prático, antes"
         ],
         "marker": {
          "color": "#E69F00"
         },
         "mode": "lines",
         "name": "14_aniversário_comemorar_restaurante_bem",
         "type": "scatter",
         "x": [
          "2013-03-18T21:36:00",
          "2013-10-10T19:12:00",
          "2014-05-04T16:48:00",
          "2014-11-26T14:24:00",
          "2015-06-20T12:00:00",
          "2016-08-05T07:12:00",
          "2018-04-15T00:00:00",
          "2018-11-06T21:36:00",
          "2019-05-31T19:12:00",
          "2021-02-07T12:00:00",
          "2021-09-01T09:36:00",
          "2023-05-12T02:24:00"
         ],
         "y": [
          1,
          1,
          1,
          2,
          1,
          1,
          2,
          5,
          4,
          1,
          1,
          1
         ]
        },
        {
         "hoverinfo": "text",
         "hovertext": [
          "<b>Topic 15</b><br>Words: generoso, comemoração, ideal, boa, família",
          "<b>Topic 15</b><br>Words: finais, feiro, semana, festejar, acreditar",
          "<b>Topic 15</b><br>Words: lugar, comemoração, aconchegante, camborir, feriado",
          "<b>Topic 15</b><br>Words: comemoração, lugar, amigo, meua, comemorar",
          "<b>Topic 15</b><br>Words: comemoração, amigo, ideal, divertido, boa",
          "<b>Topic 15</b><br>Words: par, repleto, romântico, confortável, até",
          "<b>Topic 15</b><br>Words: ocasiao, lugar, comemorar, maravilhoso, justo",
          "<b>Topic 15</b><br>Words: comemoração, aconchegante, clima, perfeito, incrível"
         ],
         "marker": {
          "color": "#56B4E9"
         },
         "mode": "lines",
         "name": "15_comemoração_lugar_amigo_comemorar",
         "type": "scatter",
         "x": [
          "2016-01-12T09:36:00",
          "2017-02-27T04:48:00",
          "2018-04-15T00:00:00",
          "2018-11-06T21:36:00",
          "2019-05-31T19:12:00",
          "2020-07-16T14:24:00",
          "2021-02-07T12:00:00",
          "2021-09-01T09:36:00"
         ],
         "y": [
          1,
          1,
          2,
          5,
          3,
          1,
          2,
          1
         ]
        },
        {
         "hoverinfo": "text",
         "hovertext": [
          "<b>Topic 16</b><br>Words: nacho, burrito, efetivamente, corresponder, descrição",
          "<b>Topic 16</b><br>Words: chilli, burrito, muiiitooo, quarta, excelência",
          "<b>Topic 16</b><br>Words: burrito, taco, fantástico, alcoólico, loucura",
          "<b>Topic 16</b><br>Words: toooop, peçar, quesadilha, mojito, churro",
          "<b>Topic 16</b><br>Words: burrito, peixe, saboroso, servida, chapa",
          "<b>Topic 16</b><br>Words: honesto, fartar, server, nacho, porção",
          "<b>Topic 16</b><br>Words: burrito, mignon, rodízio, opinar, ingrediente",
          "<b>Topic 16</b><br>Words: frio, óleo, sequer, velho, não",
          "<b>Topic 16</b><br>Words: burrito, boms, kaylene, mojito, taco"
         ],
         "marker": {
          "color": "#009E73"
         },
         "mode": "lines",
         "name": "16_burrito_nacho_taco_prato",
         "type": "scatter",
         "x": [
          "2013-10-10T19:12:00",
          "2014-11-26T14:24:00",
          "2015-06-20T12:00:00",
          "2018-04-15T00:00:00",
          "2018-11-06T21:36:00",
          "2019-05-31T19:12:00",
          "2020-07-16T14:24:00",
          "2022-10-18T04:48:00",
          "2023-05-12T02:24:00"
         ],
         "y": [
          1,
          1,
          2,
          1,
          2,
          1,
          2,
          1,
          4
         ]
        }
       ],
       "layout": {
        "height": 450,
        "hoverlabel": {
         "bgcolor": "white",
         "font": {
          "family": "Rockwell",
          "size": 16
         }
        },
        "legend": {
         "title": {
          "text": "<b>Global Topic Representation"
         }
        },
        "template": {
         "data": {
          "bar": [
           {
            "error_x": {
             "color": "rgb(36,36,36)"
            },
            "error_y": {
             "color": "rgb(36,36,36)"
            },
            "marker": {
             "line": {
              "color": "white",
              "width": 0.5
             },
             "pattern": {
              "fillmode": "overlay",
              "size": 10,
              "solidity": 0.2
             }
            },
            "type": "bar"
           }
          ],
          "barpolar": [
           {
            "marker": {
             "line": {
              "color": "white",
              "width": 0.5
             },
             "pattern": {
              "fillmode": "overlay",
              "size": 10,
              "solidity": 0.2
             }
            },
            "type": "barpolar"
           }
          ],
          "carpet": [
           {
            "aaxis": {
             "endlinecolor": "rgb(36,36,36)",
             "gridcolor": "white",
             "linecolor": "white",
             "minorgridcolor": "white",
             "startlinecolor": "rgb(36,36,36)"
            },
            "baxis": {
             "endlinecolor": "rgb(36,36,36)",
             "gridcolor": "white",
             "linecolor": "white",
             "minorgridcolor": "white",
             "startlinecolor": "rgb(36,36,36)"
            },
            "type": "carpet"
           }
          ],
          "choropleth": [
           {
            "colorbar": {
             "outlinewidth": 1,
             "tickcolor": "rgb(36,36,36)",
             "ticks": "outside"
            },
            "type": "choropleth"
           }
          ],
          "contour": [
           {
            "colorbar": {
             "outlinewidth": 1,
             "tickcolor": "rgb(36,36,36)",
             "ticks": "outside"
            },
            "colorscale": [
             [
              0,
              "#440154"
             ],
             [
              0.1111111111111111,
              "#482878"
             ],
             [
              0.2222222222222222,
              "#3e4989"
             ],
             [
              0.3333333333333333,
              "#31688e"
             ],
             [
              0.4444444444444444,
              "#26828e"
             ],
             [
              0.5555555555555556,
              "#1f9e89"
             ],
             [
              0.6666666666666666,
              "#35b779"
             ],
             [
              0.7777777777777778,
              "#6ece58"
             ],
             [
              0.8888888888888888,
              "#b5de2b"
             ],
             [
              1,
              "#fde725"
             ]
            ],
            "type": "contour"
           }
          ],
          "contourcarpet": [
           {
            "colorbar": {
             "outlinewidth": 1,
             "tickcolor": "rgb(36,36,36)",
             "ticks": "outside"
            },
            "type": "contourcarpet"
           }
          ],
          "heatmap": [
           {
            "colorbar": {
             "outlinewidth": 1,
             "tickcolor": "rgb(36,36,36)",
             "ticks": "outside"
            },
            "colorscale": [
             [
              0,
              "#440154"
             ],
             [
              0.1111111111111111,
              "#482878"
             ],
             [
              0.2222222222222222,
              "#3e4989"
             ],
             [
              0.3333333333333333,
              "#31688e"
             ],
             [
              0.4444444444444444,
              "#26828e"
             ],
             [
              0.5555555555555556,
              "#1f9e89"
             ],
             [
              0.6666666666666666,
              "#35b779"
             ],
             [
              0.7777777777777778,
              "#6ece58"
             ],
             [
              0.8888888888888888,
              "#b5de2b"
             ],
             [
              1,
              "#fde725"
             ]
            ],
            "type": "heatmap"
           }
          ],
          "heatmapgl": [
           {
            "colorbar": {
             "outlinewidth": 1,
             "tickcolor": "rgb(36,36,36)",
             "ticks": "outside"
            },
            "colorscale": [
             [
              0,
              "#440154"
             ],
             [
              0.1111111111111111,
              "#482878"
             ],
             [
              0.2222222222222222,
              "#3e4989"
             ],
             [
              0.3333333333333333,
              "#31688e"
             ],
             [
              0.4444444444444444,
              "#26828e"
             ],
             [
              0.5555555555555556,
              "#1f9e89"
             ],
             [
              0.6666666666666666,
              "#35b779"
             ],
             [
              0.7777777777777778,
              "#6ece58"
             ],
             [
              0.8888888888888888,
              "#b5de2b"
             ],
             [
              1,
              "#fde725"
             ]
            ],
            "type": "heatmapgl"
           }
          ],
          "histogram": [
           {
            "marker": {
             "line": {
              "color": "white",
              "width": 0.6
             }
            },
            "type": "histogram"
           }
          ],
          "histogram2d": [
           {
            "colorbar": {
             "outlinewidth": 1,
             "tickcolor": "rgb(36,36,36)",
             "ticks": "outside"
            },
            "colorscale": [
             [
              0,
              "#440154"
             ],
             [
              0.1111111111111111,
              "#482878"
             ],
             [
              0.2222222222222222,
              "#3e4989"
             ],
             [
              0.3333333333333333,
              "#31688e"
             ],
             [
              0.4444444444444444,
              "#26828e"
             ],
             [
              0.5555555555555556,
              "#1f9e89"
             ],
             [
              0.6666666666666666,
              "#35b779"
             ],
             [
              0.7777777777777778,
              "#6ece58"
             ],
             [
              0.8888888888888888,
              "#b5de2b"
             ],
             [
              1,
              "#fde725"
             ]
            ],
            "type": "histogram2d"
           }
          ],
          "histogram2dcontour": [
           {
            "colorbar": {
             "outlinewidth": 1,
             "tickcolor": "rgb(36,36,36)",
             "ticks": "outside"
            },
            "colorscale": [
             [
              0,
              "#440154"
             ],
             [
              0.1111111111111111,
              "#482878"
             ],
             [
              0.2222222222222222,
              "#3e4989"
             ],
             [
              0.3333333333333333,
              "#31688e"
             ],
             [
              0.4444444444444444,
              "#26828e"
             ],
             [
              0.5555555555555556,
              "#1f9e89"
             ],
             [
              0.6666666666666666,
              "#35b779"
             ],
             [
              0.7777777777777778,
              "#6ece58"
             ],
             [
              0.8888888888888888,
              "#b5de2b"
             ],
             [
              1,
              "#fde725"
             ]
            ],
            "type": "histogram2dcontour"
           }
          ],
          "mesh3d": [
           {
            "colorbar": {
             "outlinewidth": 1,
             "tickcolor": "rgb(36,36,36)",
             "ticks": "outside"
            },
            "type": "mesh3d"
           }
          ],
          "parcoords": [
           {
            "line": {
             "colorbar": {
              "outlinewidth": 1,
              "tickcolor": "rgb(36,36,36)",
              "ticks": "outside"
             }
            },
            "type": "parcoords"
           }
          ],
          "pie": [
           {
            "automargin": true,
            "type": "pie"
           }
          ],
          "scatter": [
           {
            "fillpattern": {
             "fillmode": "overlay",
             "size": 10,
             "solidity": 0.2
            },
            "type": "scatter"
           }
          ],
          "scatter3d": [
           {
            "line": {
             "colorbar": {
              "outlinewidth": 1,
              "tickcolor": "rgb(36,36,36)",
              "ticks": "outside"
             }
            },
            "marker": {
             "colorbar": {
              "outlinewidth": 1,
              "tickcolor": "rgb(36,36,36)",
              "ticks": "outside"
             }
            },
            "type": "scatter3d"
           }
          ],
          "scattercarpet": [
           {
            "marker": {
             "colorbar": {
              "outlinewidth": 1,
              "tickcolor": "rgb(36,36,36)",
              "ticks": "outside"
             }
            },
            "type": "scattercarpet"
           }
          ],
          "scattergeo": [
           {
            "marker": {
             "colorbar": {
              "outlinewidth": 1,
              "tickcolor": "rgb(36,36,36)",
              "ticks": "outside"
             }
            },
            "type": "scattergeo"
           }
          ],
          "scattergl": [
           {
            "marker": {
             "colorbar": {
              "outlinewidth": 1,
              "tickcolor": "rgb(36,36,36)",
              "ticks": "outside"
             }
            },
            "type": "scattergl"
           }
          ],
          "scattermapbox": [
           {
            "marker": {
             "colorbar": {
              "outlinewidth": 1,
              "tickcolor": "rgb(36,36,36)",
              "ticks": "outside"
             }
            },
            "type": "scattermapbox"
           }
          ],
          "scatterpolar": [
           {
            "marker": {
             "colorbar": {
              "outlinewidth": 1,
              "tickcolor": "rgb(36,36,36)",
              "ticks": "outside"
             }
            },
            "type": "scatterpolar"
           }
          ],
          "scatterpolargl": [
           {
            "marker": {
             "colorbar": {
              "outlinewidth": 1,
              "tickcolor": "rgb(36,36,36)",
              "ticks": "outside"
             }
            },
            "type": "scatterpolargl"
           }
          ],
          "scatterternary": [
           {
            "marker": {
             "colorbar": {
              "outlinewidth": 1,
              "tickcolor": "rgb(36,36,36)",
              "ticks": "outside"
             }
            },
            "type": "scatterternary"
           }
          ],
          "surface": [
           {
            "colorbar": {
             "outlinewidth": 1,
             "tickcolor": "rgb(36,36,36)",
             "ticks": "outside"
            },
            "colorscale": [
             [
              0,
              "#440154"
             ],
             [
              0.1111111111111111,
              "#482878"
             ],
             [
              0.2222222222222222,
              "#3e4989"
             ],
             [
              0.3333333333333333,
              "#31688e"
             ],
             [
              0.4444444444444444,
              "#26828e"
             ],
             [
              0.5555555555555556,
              "#1f9e89"
             ],
             [
              0.6666666666666666,
              "#35b779"
             ],
             [
              0.7777777777777778,
              "#6ece58"
             ],
             [
              0.8888888888888888,
              "#b5de2b"
             ],
             [
              1,
              "#fde725"
             ]
            ],
            "type": "surface"
           }
          ],
          "table": [
           {
            "cells": {
             "fill": {
              "color": "rgb(237,237,237)"
             },
             "line": {
              "color": "white"
             }
            },
            "header": {
             "fill": {
              "color": "rgb(217,217,217)"
             },
             "line": {
              "color": "white"
             }
            },
            "type": "table"
           }
          ]
         },
         "layout": {
          "annotationdefaults": {
           "arrowhead": 0,
           "arrowwidth": 1
          },
          "autotypenumbers": "strict",
          "coloraxis": {
           "colorbar": {
            "outlinewidth": 1,
            "tickcolor": "rgb(36,36,36)",
            "ticks": "outside"
           }
          },
          "colorscale": {
           "diverging": [
            [
             0,
             "rgb(103,0,31)"
            ],
            [
             0.1,
             "rgb(178,24,43)"
            ],
            [
             0.2,
             "rgb(214,96,77)"
            ],
            [
             0.3,
             "rgb(244,165,130)"
            ],
            [
             0.4,
             "rgb(253,219,199)"
            ],
            [
             0.5,
             "rgb(247,247,247)"
            ],
            [
             0.6,
             "rgb(209,229,240)"
            ],
            [
             0.7,
             "rgb(146,197,222)"
            ],
            [
             0.8,
             "rgb(67,147,195)"
            ],
            [
             0.9,
             "rgb(33,102,172)"
            ],
            [
             1,
             "rgb(5,48,97)"
            ]
           ],
           "sequential": [
            [
             0,
             "#440154"
            ],
            [
             0.1111111111111111,
             "#482878"
            ],
            [
             0.2222222222222222,
             "#3e4989"
            ],
            [
             0.3333333333333333,
             "#31688e"
            ],
            [
             0.4444444444444444,
             "#26828e"
            ],
            [
             0.5555555555555556,
             "#1f9e89"
            ],
            [
             0.6666666666666666,
             "#35b779"
            ],
            [
             0.7777777777777778,
             "#6ece58"
            ],
            [
             0.8888888888888888,
             "#b5de2b"
            ],
            [
             1,
             "#fde725"
            ]
           ],
           "sequentialminus": [
            [
             0,
             "#440154"
            ],
            [
             0.1111111111111111,
             "#482878"
            ],
            [
             0.2222222222222222,
             "#3e4989"
            ],
            [
             0.3333333333333333,
             "#31688e"
            ],
            [
             0.4444444444444444,
             "#26828e"
            ],
            [
             0.5555555555555556,
             "#1f9e89"
            ],
            [
             0.6666666666666666,
             "#35b779"
            ],
            [
             0.7777777777777778,
             "#6ece58"
            ],
            [
             0.8888888888888888,
             "#b5de2b"
            ],
            [
             1,
             "#fde725"
            ]
           ]
          },
          "colorway": [
           "#1F77B4",
           "#FF7F0E",
           "#2CA02C",
           "#D62728",
           "#9467BD",
           "#8C564B",
           "#E377C2",
           "#7F7F7F",
           "#BCBD22",
           "#17BECF"
          ],
          "font": {
           "color": "rgb(36,36,36)"
          },
          "geo": {
           "bgcolor": "white",
           "lakecolor": "white",
           "landcolor": "white",
           "showlakes": true,
           "showland": true,
           "subunitcolor": "white"
          },
          "hoverlabel": {
           "align": "left"
          },
          "hovermode": "closest",
          "mapbox": {
           "style": "light"
          },
          "paper_bgcolor": "white",
          "plot_bgcolor": "white",
          "polar": {
           "angularaxis": {
            "gridcolor": "rgb(232,232,232)",
            "linecolor": "rgb(36,36,36)",
            "showgrid": false,
            "showline": true,
            "ticks": "outside"
           },
           "bgcolor": "white",
           "radialaxis": {
            "gridcolor": "rgb(232,232,232)",
            "linecolor": "rgb(36,36,36)",
            "showgrid": false,
            "showline": true,
            "ticks": "outside"
           }
          },
          "scene": {
           "xaxis": {
            "backgroundcolor": "white",
            "gridcolor": "rgb(232,232,232)",
            "gridwidth": 2,
            "linecolor": "rgb(36,36,36)",
            "showbackground": true,
            "showgrid": false,
            "showline": true,
            "ticks": "outside",
            "zeroline": false,
            "zerolinecolor": "rgb(36,36,36)"
           },
           "yaxis": {
            "backgroundcolor": "white",
            "gridcolor": "rgb(232,232,232)",
            "gridwidth": 2,
            "linecolor": "rgb(36,36,36)",
            "showbackground": true,
            "showgrid": false,
            "showline": true,
            "ticks": "outside",
            "zeroline": false,
            "zerolinecolor": "rgb(36,36,36)"
           },
           "zaxis": {
            "backgroundcolor": "white",
            "gridcolor": "rgb(232,232,232)",
            "gridwidth": 2,
            "linecolor": "rgb(36,36,36)",
            "showbackground": true,
            "showgrid": false,
            "showline": true,
            "ticks": "outside",
            "zeroline": false,
            "zerolinecolor": "rgb(36,36,36)"
           }
          },
          "shapedefaults": {
           "fillcolor": "black",
           "line": {
            "width": 0
           },
           "opacity": 0.3
          },
          "ternary": {
           "aaxis": {
            "gridcolor": "rgb(232,232,232)",
            "linecolor": "rgb(36,36,36)",
            "showgrid": false,
            "showline": true,
            "ticks": "outside"
           },
           "baxis": {
            "gridcolor": "rgb(232,232,232)",
            "linecolor": "rgb(36,36,36)",
            "showgrid": false,
            "showline": true,
            "ticks": "outside"
           },
           "bgcolor": "white",
           "caxis": {
            "gridcolor": "rgb(232,232,232)",
            "linecolor": "rgb(36,36,36)",
            "showgrid": false,
            "showline": true,
            "ticks": "outside"
           }
          },
          "title": {
           "x": 0.05
          },
          "xaxis": {
           "automargin": true,
           "gridcolor": "rgb(232,232,232)",
           "linecolor": "rgb(36,36,36)",
           "showgrid": false,
           "showline": true,
           "ticks": "outside",
           "title": {
            "standoff": 15
           },
           "zeroline": false,
           "zerolinecolor": "rgb(36,36,36)"
          },
          "yaxis": {
           "automargin": true,
           "gridcolor": "rgb(232,232,232)",
           "linecolor": "rgb(36,36,36)",
           "showgrid": false,
           "showline": true,
           "ticks": "outside",
           "title": {
            "standoff": 15
           },
           "zeroline": false,
           "zerolinecolor": "rgb(36,36,36)"
          }
         }
        },
        "title": {
         "font": {
          "color": "Black",
          "size": 22
         },
         "text": "<b>Topics over Time</b>",
         "x": 0.4,
         "xanchor": "center",
         "y": 0.95,
         "yanchor": "top"
        },
        "width": 1250,
        "xaxis": {
         "showgrid": true
        },
        "yaxis": {
         "showgrid": true,
         "title": {
          "text": "Frequency"
         }
        }
       }
      }
     },
     "metadata": {},
     "output_type": "display_data"
    }
   ],
   "source": [
    "topic_model.visualize_topics_over_time(topics_over_time, top_n_topics=20)"
   ]
  }
 ],
 "metadata": {
  "kernelspec": {
   "display_name": "tcc",
   "language": "python",
   "name": "python3"
  },
  "language_info": {
   "codemirror_mode": {
    "name": "ipython",
    "version": 3
   },
   "file_extension": ".py",
   "mimetype": "text/x-python",
   "name": "python",
   "nbconvert_exporter": "python",
   "pygments_lexer": "ipython3",
   "version": "3.9.18"
  }
 },
 "nbformat": 4,
 "nbformat_minor": 2
}
