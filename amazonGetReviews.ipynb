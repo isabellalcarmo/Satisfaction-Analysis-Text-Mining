{
 "cells": [
  {
   "cell_type": "code",
   "execution_count": 1,
   "metadata": {},
   "outputs": [],
   "source": [
    "import pandas as pd\n",
    "import requests as req\n",
    "from bs4 import BeautifulSoup"
   ]
  },
  {
   "cell_type": "code",
   "execution_count": 2,
   "metadata": {},
   "outputs": [],
   "source": [
    "def getAmazonSearchQuery(searchQuery, pageNumber, header):\n",
    "    urlQuery = \"https://www.amazon.com.br/s?k=\" + searchQuery + \"&page=\"\n",
    "    pageRequest = req.get(urlQuery, headers = header)\n",
    "\n",
    "    if pageRequest.status_code == 200:\n",
    "        return pageRequest\n",
    "    else:\n",
    "        return \"Error while making the query search on Amazon.\""
   ]
  },
  {
   "cell_type": "code",
   "execution_count": 3,
   "metadata": {},
   "outputs": [],
   "source": [
    "def getProductReviews(asin, pageNumber, header, cookies):\n",
    "    urlQuery = \"https://www.amazon.com.br/product-reviews/\" + asin + \"/reviewerType=all_reviews?sortBy=recent&pageNumber=\" + str(pageNumber)\n",
    "    pageRequest = req.get(urlQuery, headers = header, cookies = cookies)\n",
    "\n",
    "    if pageRequest.status_code == 200:\n",
    "        return pageRequest\n",
    "    else:\n",
    "        return \"Error while getting the product's reviews on Amazon.\""
   ]
  },
  {
   "cell_type": "code",
   "execution_count": 4,
   "metadata": {},
   "outputs": [],
   "source": [
    "productsNames = list()\n",
    "productsLinks = list()\n",
    "productsAsin = list()\n",
    "\n",
    "searchQuery = \"Fone de ouvido JBL\"\n",
    "searchQuery = searchQuery.replace(\" \", \"+\")"
   ]
  },
  {
   "cell_type": "code",
   "execution_count": 9,
   "metadata": {},
   "outputs": [],
   "source": [
    "headerResponse = {\"User-Agent\" : \"Mozilla/5.0 (Windows NT 10.0; Win64; x64) AppleWebKit/537.36 (KHTML, like Gecko) Chrome/109.0.0.0 Safari/537.36\"}\n",
    "\n",
    "responseGet = getAmazonSearchQuery(searchQuery, 1, headerResponse)\n",
    "\n",
    "cookiesResponse = responseGet.cookies\n",
    "contentResponse = responseGet.content"
   ]
  },
  {
   "cell_type": "code",
   "execution_count": 10,
   "metadata": {},
   "outputs": [],
   "source": [
    "soupGet = BeautifulSoup(contentResponse)\n",
    "\n",
    "for product in soupGet.findAll(\"h2\", {\"class\": \"a-size-mini a-spacing-none a-color-base s-line-clamp-4\"}):\n",
    "    productsNames.append(product.text)\n",
    "\n",
    "    productHref = product.find(\"a\", {\"class\": \"a-link-normal s-underline-text s-underline-link-text s-link-style a-text-normal\"})\n",
    "    productLink = \"https://www.amazon.com.br/\" + productHref['href']\n",
    "    productsLinks.append(productLink)\n",
    "\n",
    "    indexDp = productLink.index(\"dp/\")\n",
    "    indexRef = productLink.index(\"/ref\")\n",
    "    productId = productLink[indexDp + 3:indexRef]\n",
    "\n",
    "    productsAsin.append(productId)"
   ]
  },
  {
   "cell_type": "code",
   "execution_count": 19,
   "metadata": {},
   "outputs": [],
   "source": [
    "reviewsTitles = list()\n",
    "reviewsStars = list()\n",
    "reviewsText = list()\n",
    "\n",
    "responseReviewsGet = getProductReviews(productsAsin[0], 1, headerResponse, cookiesResponse)\n",
    "contentResponseReviews = responseReviewsGet.content"
   ]
  },
  {
   "cell_type": "code",
   "execution_count": 20,
   "metadata": {},
   "outputs": [],
   "source": [
    "soupReviewsGet = BeautifulSoup(contentResponseReviews)\n",
    "\n",
    "for review in soupReviewsGet.findAll(\"a\", {\"data-hook\": \"review-title\"}):\n",
    "    reviewsTitles.append(review.text)\n",
    "\n",
    "for review in soupReviewsGet.findAll(\"div\", {\"id\": \"cm_cr-review_list\"}):\n",
    "    for title in review.findAll(\"a\", {\"data-hook\": \"review-title\"}):\n",
    "        reviewsTitles.append(title.text.replace(\"\\n\", \"\"))\n",
    "    for body in review.findAll(\"a\", {\"data-hook\": \"review-body\"}):\n",
    "        reviewsText.append(body.text)\n",
    "    for stars in review.findAll(\"i\", {\"data-hook\": \"review-star-rating\"}):\n",
    "        reviewsStars.append(stars.text)"
   ]
  },
  {
   "cell_type": "code",
   "execution_count": 27,
   "metadata": {},
   "outputs": [
    {
     "data": {
      "text/html": [
       "<div>\n",
       "<style scoped>\n",
       "    .dataframe tbody tr th:only-of-type {\n",
       "        vertical-align: middle;\n",
       "    }\n",
       "\n",
       "    .dataframe tbody tr th {\n",
       "        vertical-align: top;\n",
       "    }\n",
       "\n",
       "    .dataframe thead th {\n",
       "        text-align: right;\n",
       "    }\n",
       "</style>\n",
       "<table border=\"1\" class=\"dataframe\">\n",
       "  <thead>\n",
       "    <tr style=\"text-align: right;\">\n",
       "      <th></th>\n",
       "      <th>Title</th>\n",
       "    </tr>\n",
       "  </thead>\n",
       "  <tbody>\n",
       "    <tr>\n",
       "      <th>0</th>\n",
       "      <td>\\nFone Excelente, esse sim entrega a qualidade de som que eu tanto esperava 🤍🧡\\n</td>\n",
       "    </tr>\n",
       "    <tr>\n",
       "      <th>1</th>\n",
       "      <td>\\nMaravilhos - super recomendo!!\\n</td>\n",
       "    </tr>\n",
       "    <tr>\n",
       "      <th>2</th>\n",
       "      <td>\\nQualidade do som baixa\\n</td>\n",
       "    </tr>\n",
       "    <tr>\n",
       "      <th>3</th>\n",
       "      <td>\\ntop\\n</td>\n",
       "    </tr>\n",
       "    <tr>\n",
       "      <th>4</th>\n",
       "      <td>\\nbom\\n</td>\n",
       "    </tr>\n",
       "    <tr>\n",
       "      <th>5</th>\n",
       "      <td>\\nO queridinho!\\n</td>\n",
       "    </tr>\n",
       "    <tr>\n",
       "      <th>6</th>\n",
       "      <td>\\nFone\\n</td>\n",
       "    </tr>\n",
       "    <tr>\n",
       "      <th>7</th>\n",
       "      <td>\\nOtimo\\n</td>\n",
       "    </tr>\n",
       "    <tr>\n",
       "      <th>8</th>\n",
       "      <td>\\nÓtimo custo benefício\\n</td>\n",
       "    </tr>\n",
       "    <tr>\n",
       "      <th>9</th>\n",
       "      <td>\\nFone  Tune 10\\n</td>\n",
       "    </tr>\n",
       "    <tr>\n",
       "      <th>10</th>\n",
       "      <td>Fone Excelente, esse sim entrega a qualidade de som que eu tanto esperava 🤍🧡</td>\n",
       "    </tr>\n",
       "    <tr>\n",
       "      <th>11</th>\n",
       "      <td>Maravilhos - super recomendo!!</td>\n",
       "    </tr>\n",
       "    <tr>\n",
       "      <th>12</th>\n",
       "      <td>Qualidade do som baixa</td>\n",
       "    </tr>\n",
       "    <tr>\n",
       "      <th>13</th>\n",
       "      <td>top</td>\n",
       "    </tr>\n",
       "    <tr>\n",
       "      <th>14</th>\n",
       "      <td>bom</td>\n",
       "    </tr>\n",
       "    <tr>\n",
       "      <th>15</th>\n",
       "      <td>O queridinho!</td>\n",
       "    </tr>\n",
       "    <tr>\n",
       "      <th>16</th>\n",
       "      <td>Fone</td>\n",
       "    </tr>\n",
       "    <tr>\n",
       "      <th>17</th>\n",
       "      <td>Otimo</td>\n",
       "    </tr>\n",
       "    <tr>\n",
       "      <th>18</th>\n",
       "      <td>Ótimo custo benefício</td>\n",
       "    </tr>\n",
       "    <tr>\n",
       "      <th>19</th>\n",
       "      <td>Fone  Tune 10</td>\n",
       "    </tr>\n",
       "  </tbody>\n",
       "</table>\n",
       "</div>"
      ],
      "text/plain": [
       "                                                                               Title\n",
       "0   \\nFone Excelente, esse sim entrega a qualidade de som que eu tanto esperava 🤍🧡\\n\n",
       "1                                                 \\nMaravilhos - super recomendo!!\\n\n",
       "2                                                         \\nQualidade do som baixa\\n\n",
       "3                                                                            \\ntop\\n\n",
       "4                                                                            \\nbom\\n\n",
       "5                                                                  \\nO queridinho!\\n\n",
       "6                                                                           \\nFone\\n\n",
       "7                                                                          \\nOtimo\\n\n",
       "8                                                          \\nÓtimo custo benefício\\n\n",
       "9                                                                  \\nFone  Tune 10\\n\n",
       "10      Fone Excelente, esse sim entrega a qualidade de som que eu tanto esperava 🤍🧡\n",
       "11                                                    Maravilhos - super recomendo!!\n",
       "12                                                            Qualidade do som baixa\n",
       "13                                                                               top\n",
       "14                                                                               bom\n",
       "15                                                                     O queridinho!\n",
       "16                                                                              Fone\n",
       "17                                                                             Otimo\n",
       "18                                                             Ótimo custo benefício\n",
       "19                                                                     Fone  Tune 10"
      ]
     },
     "execution_count": 27,
     "metadata": {},
     "output_type": "execute_result"
    }
   ],
   "source": [
    "reviewsFinal = {\"Title\": reviewsTitles}\n",
    "\n",
    "reviewsData = pd.DataFrame.from_dict(reviewsFinal)\n",
    "pd.set_option(\"max_colwidth\", 8000)\n",
    "reviewsData"
   ]
  }
 ],
 "metadata": {
  "kernelspec": {
   "display_name": "Python 3",
   "language": "python",
   "name": "python3"
  },
  "language_info": {
   "codemirror_mode": {
    "name": "ipython",
    "version": 3
   },
   "file_extension": ".py",
   "mimetype": "text/x-python",
   "name": "python",
   "nbconvert_exporter": "python",
   "pygments_lexer": "ipython3",
   "version": "3.11.1"
  },
  "orig_nbformat": 4,
  "vscode": {
   "interpreter": {
    "hash": "4f59e5c867a1179c3316fdf7361cff342af53b7b438c3ff6b7f51d251ef83c84"
   }
  }
 },
 "nbformat": 4,
 "nbformat_minor": 2
}
