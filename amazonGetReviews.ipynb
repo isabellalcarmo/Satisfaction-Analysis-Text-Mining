{
 "cells": [
  {
   "attachments": {},
   "cell_type": "markdown",
   "metadata": {},
   "source": [
    "# Getting the reviews of a product (Amazon)"
   ]
  },
  {
   "cell_type": "code",
   "execution_count": 1,
   "metadata": {},
   "outputs": [],
   "source": [
    "import pandas as pd\n",
    "import requests as req\n",
    "from bs4 import BeautifulSoup"
   ]
  },
  {
   "cell_type": "code",
   "execution_count": 83,
   "metadata": {},
   "outputs": [],
   "source": [
    "def getAmazonSearchQuery(searchQuery, pageNumber, header):\n",
    "    urlQuery = \"https://www.amazon.co.uk/s?k=\" + searchQuery + \"&page=\" + str(pageNumber)\n",
    "    pageRequest = req.get(urlQuery, headers = header)\n",
    "\n",
    "    if pageRequest.status_code == 200:\n",
    "        return pageRequest\n",
    "    else:\n",
    "        return \"Error while making the query search on Amazon.\""
   ]
  },
  {
   "cell_type": "code",
   "execution_count": 84,
   "metadata": {},
   "outputs": [],
   "source": [
    "def getProductReviews(asin, pageNumber, header, cookies):\n",
    "    urlQuery = \"https://www.amazon.co.uk/product-reviews/\" + asin + \"/reviewerType=all_reviews?sortBy=recent&pageNumber=\" + str(pageNumber)\n",
    "    pageRequest = req.get(urlQuery, headers = header, cookies = cookies)\n",
    "\n",
    "    if pageRequest.status_code == 200:\n",
    "        return pageRequest\n",
    "    else:\n",
    "        return \"Error while getting the product's reviews on Amazon.\""
   ]
  },
  {
   "cell_type": "code",
   "execution_count": 85,
   "metadata": {},
   "outputs": [],
   "source": [
    "productsNames = list()\n",
    "productsLinks = list()\n",
    "productsAsin = list()\n",
    "\n",
    "searchQuery = \"notebook asus\"\n",
    "searchQuery = searchQuery.replace(\" \", \"+\")"
   ]
  },
  {
   "cell_type": "code",
   "execution_count": 87,
   "metadata": {},
   "outputs": [],
   "source": [
    "headerResponse = {\"User-Agent\" : \"Mozilla/5.0 (Windows NT 10.0; Win64; x64) AppleWebKit/537.36 (KHTML, like Gecko) Chrome/109.0.0.0 Safari/537.36\"}\n",
    "\n",
    "responseGet = getAmazonSearchQuery(searchQuery, 1, headerResponse)\n",
    "cookiesResponse = responseGet.cookies\n",
    "contentResponse = responseGet.content\n"
   ]
  },
  {
   "cell_type": "code",
   "execution_count": 88,
   "metadata": {},
   "outputs": [],
   "source": [
    "soupGet = BeautifulSoup(contentResponse)\n",
    "\n",
    "for product in soupGet.findAll(\"h2\", {\"class\": \"a-size-mini a-spacing-none a-color-base s-line-clamp-4\"}):\n",
    "    productsNames.append(product.text)\n",
    "\n",
    "    productHref = product.find(\"a\", {\"class\": \"a-link-normal s-underline-text s-underline-link-text s-link-style a-text-normal\"})\n",
    "    productLink = \"https://www.amazon.com.br/\" + productHref['href']\n",
    "    productsLinks.append(productLink)\n",
    "\n",
    "    indexDp = productLink.index(\"dp/\")\n",
    "    indexRef = productLink.index(\"/ref\")\n",
    "    productId = productLink[indexDp + 3:indexRef]\n",
    "\n",
    "    productsAsin.append(productId)"
   ]
  },
  {
   "cell_type": "code",
   "execution_count": 89,
   "metadata": {},
   "outputs": [],
   "source": [
    "reviewsTitles = list()\n",
    "reviewsStars = list()\n",
    "reviewsText = list()\n",
    "\n",
    "responseReviewsGet = getProductReviews(productsAsin[0], 1, headerResponse, cookiesResponse)\n",
    "contentResponseReviews = responseReviewsGet.content"
   ]
  },
  {
   "cell_type": "code",
   "execution_count": 90,
   "metadata": {},
   "outputs": [],
   "source": [
    "soupReviewsGet = BeautifulSoup(contentResponseReviews)\n",
    "\n",
    "for review in soupReviewsGet.findAll(\"a\", {\"data-hook\": \"review-title\"}):\n",
    "    reviewsTitles.append(review.text)\n",
    "\n",
    "for review in soupReviewsGet.findAll(\"div\", {\"id\": \"cm_cr-review_list\"}):\n",
    "    for title in review.findAll(\"a\", {\"data-hook\": \"review-title\"}):\n",
    "        reviewsTitles.append(title.text.replace(\"\\n\", \" \"))\n",
    "    for body in review.findAll(\"span\", {\"data-hook\": \"review-body\"}):\n",
    "        reviewsText.append(body.text)\n",
    "    for stars in review.findAll(\"i\", {\"data-hook\": \"review-star-rating\"}):\n",
    "        reviewsStars.append(stars.text)"
   ]
  },
  {
   "cell_type": "code",
   "execution_count": 91,
   "metadata": {},
   "outputs": [
    {
     "data": {
      "text/html": [
       "<div>\n",
       "<style scoped>\n",
       "    .dataframe tbody tr th:only-of-type {\n",
       "        vertical-align: middle;\n",
       "    }\n",
       "\n",
       "    .dataframe tbody tr th {\n",
       "        vertical-align: top;\n",
       "    }\n",
       "\n",
       "    .dataframe thead th {\n",
       "        text-align: right;\n",
       "    }\n",
       "</style>\n",
       "<table border=\"1\" class=\"dataframe\">\n",
       "  <thead>\n",
       "    <tr style=\"text-align: right;\">\n",
       "      <th></th>\n",
       "      <th>Stars</th>\n",
       "      <th>Title</th>\n",
       "      <th>Text</th>\n",
       "    </tr>\n",
       "  </thead>\n",
       "  <tbody>\n",
       "    <tr>\n",
       "      <th>0</th>\n",
       "      <td>1.0 out of 5 stars</td>\n",
       "      <td>\\nNot as described throughout\\n</td>\n",
       "      <td>\\nThe item is not as described entirely. Just Read only the top of the page. Do not be mislead with all of the photos or write ups halfway down in the description area. Totally different item. You are purchasing a purely bare minimum one. Ignore any of the pictures of it doing snazzy things!\\n</td>\n",
       "    </tr>\n",
       "    <tr>\n",
       "      <th>1</th>\n",
       "      <td>4.0 out of 5 stars</td>\n",
       "      <td>\\nGreat for £129\\n</td>\n",
       "      <td>\\nBought for our little one and perfect for school work. Parent controls are very easy to set up. Quick for what using it for. Can't ask for more.Slightly larger than previous 11.6 laptop so doesn't fit Amazon basic case at that size\\n</td>\n",
       "    </tr>\n",
       "    <tr>\n",
       "      <th>2</th>\n",
       "      <td>4.0 out of 5 stars</td>\n",
       "      <td>\\necellent for the price\\n</td>\n",
       "      <td>\\nwould be 5stars but it freezes on multiple apps, and battery is not the best, maybe 8hours or so.buy I was working it hard\\n</td>\n",
       "    </tr>\n",
       "    <tr>\n",
       "      <th>3</th>\n",
       "      <td>5.0 out of 5 stars</td>\n",
       "      <td>\\nVery good\\n</td>\n",
       "      <td>\\nVery goodReliable\\n</td>\n",
       "    </tr>\n",
       "    <tr>\n",
       "      <th>4</th>\n",
       "      <td>5.0 out of 5 stars</td>\n",
       "      <td>\\nA useful laptop\\n</td>\n",
       "      <td>\\nThis laptop does almost everything that you want it to do. My only criticism is that the sound is a little quiet. Otherwise it's fine.\\n</td>\n",
       "    </tr>\n",
       "    <tr>\n",
       "      <th>5</th>\n",
       "      <td>5.0 out of 5 stars</td>\n",
       "      <td>\\nVery good for the price\\n</td>\n",
       "      <td>\\nFor my daughters school work\\n</td>\n",
       "    </tr>\n",
       "    <tr>\n",
       "      <th>6</th>\n",
       "      <td>5.0 out of 5 stars</td>\n",
       "      <td>\\nNice Macine\\n</td>\n",
       "      <td>\\nGreat laptop delivered as promised on time. worked straight out  of the box after initial charge. Was delivered by Amazon with a code to give to driver for security which was great. am very pleased with it\\n</td>\n",
       "    </tr>\n",
       "    <tr>\n",
       "      <th>7</th>\n",
       "      <td>5.0 out of 5 stars</td>\n",
       "      <td>\\nAmazing laptop\\n</td>\n",
       "      <td>\\nDelivery on time . This laptop is perfect for any task needed easy to use and exactly what it said it can do ! Would definitely buy again\\n</td>\n",
       "    </tr>\n",
       "    <tr>\n",
       "      <th>8</th>\n",
       "      <td>4.0 out of 5 stars</td>\n",
       "      <td>\\nIts ok\\n</td>\n",
       "      <td>\\nThe screen doesn't have touch on it, have to buy new mini mouse to go with this because its little difficult to touch on pad to move. Battery 🔋  is good, last long time before charge it.\\n</td>\n",
       "    </tr>\n",
       "    <tr>\n",
       "      <th>9</th>\n",
       "      <td>3.0 out of 5 stars</td>\n",
       "      <td>\\nThis is not as described\\n</td>\n",
       "      <td>\\nBe aware this is not a touchscreen or 2 in 1 as described. This is just a standard Chromebook. There is a more expensive model that is the model in the pictures. As a Chromebook however it is probably great at the price.\\n</td>\n",
       "    </tr>\n",
       "    <tr>\n",
       "      <th>10</th>\n",
       "      <td>None</td>\n",
       "      <td>Not as described throughout</td>\n",
       "      <td>None</td>\n",
       "    </tr>\n",
       "    <tr>\n",
       "      <th>11</th>\n",
       "      <td>None</td>\n",
       "      <td>Great for £129</td>\n",
       "      <td>None</td>\n",
       "    </tr>\n",
       "    <tr>\n",
       "      <th>12</th>\n",
       "      <td>None</td>\n",
       "      <td>ecellent for the price</td>\n",
       "      <td>None</td>\n",
       "    </tr>\n",
       "    <tr>\n",
       "      <th>13</th>\n",
       "      <td>None</td>\n",
       "      <td>Very good</td>\n",
       "      <td>None</td>\n",
       "    </tr>\n",
       "    <tr>\n",
       "      <th>14</th>\n",
       "      <td>None</td>\n",
       "      <td>A useful laptop</td>\n",
       "      <td>None</td>\n",
       "    </tr>\n",
       "    <tr>\n",
       "      <th>15</th>\n",
       "      <td>None</td>\n",
       "      <td>Very good for the price</td>\n",
       "      <td>None</td>\n",
       "    </tr>\n",
       "    <tr>\n",
       "      <th>16</th>\n",
       "      <td>None</td>\n",
       "      <td>Nice Macine</td>\n",
       "      <td>None</td>\n",
       "    </tr>\n",
       "    <tr>\n",
       "      <th>17</th>\n",
       "      <td>None</td>\n",
       "      <td>Amazing laptop</td>\n",
       "      <td>None</td>\n",
       "    </tr>\n",
       "    <tr>\n",
       "      <th>18</th>\n",
       "      <td>None</td>\n",
       "      <td>Its ok</td>\n",
       "      <td>None</td>\n",
       "    </tr>\n",
       "    <tr>\n",
       "      <th>19</th>\n",
       "      <td>None</td>\n",
       "      <td>This is not as described</td>\n",
       "      <td>None</td>\n",
       "    </tr>\n",
       "  </tbody>\n",
       "</table>\n",
       "</div>"
      ],
      "text/plain": [
       "                 Stars                            Title  \\\n",
       "0   1.0 out of 5 stars  \\nNot as described throughout\\n   \n",
       "1   4.0 out of 5 stars               \\nGreat for £129\\n   \n",
       "2   4.0 out of 5 stars       \\necellent for the price\\n   \n",
       "3   5.0 out of 5 stars                    \\nVery good\\n   \n",
       "4   5.0 out of 5 stars              \\nA useful laptop\\n   \n",
       "5   5.0 out of 5 stars      \\nVery good for the price\\n   \n",
       "6   5.0 out of 5 stars                  \\nNice Macine\\n   \n",
       "7   5.0 out of 5 stars               \\nAmazing laptop\\n   \n",
       "8   4.0 out of 5 stars                       \\nIts ok\\n   \n",
       "9   3.0 out of 5 stars     \\nThis is not as described\\n   \n",
       "10                None     Not as described throughout    \n",
       "11                None                  Great for £129    \n",
       "12                None          ecellent for the price    \n",
       "13                None                       Very good    \n",
       "14                None                 A useful laptop    \n",
       "15                None         Very good for the price    \n",
       "16                None                     Nice Macine    \n",
       "17                None                  Amazing laptop    \n",
       "18                None                          Its ok    \n",
       "19                None        This is not as described    \n",
       "\n",
       "                                                                                                                                                                                                                                                                                                      Text  \n",
       "0   \\nThe item is not as described entirely. Just Read only the top of the page. Do not be mislead with all of the photos or write ups halfway down in the description area. Totally different item. You are purchasing a purely bare minimum one. Ignore any of the pictures of it doing snazzy things!\\n  \n",
       "1                                                              \\nBought for our little one and perfect for school work. Parent controls are very easy to set up. Quick for what using it for. Can't ask for more.Slightly larger than previous 11.6 laptop so doesn't fit Amazon basic case at that size\\n  \n",
       "2                                                                                                                                                                           \\nwould be 5stars but it freezes on multiple apps, and battery is not the best, maybe 8hours or so.buy I was working it hard\\n  \n",
       "3                                                                                                                                                                                                                                                                                    \\nVery goodReliable\\n  \n",
       "4                                                                                                                                                               \\nThis laptop does almost everything that you want it to do. My only criticism is that the sound is a little quiet. Otherwise it's fine.\\n  \n",
       "5                                                                                                                                                                                                                                                                         \\nFor my daughters school work\\n  \n",
       "6                                                                                        \\nGreat laptop delivered as promised on time. worked straight out  of the box after initial charge. Was delivered by Amazon with a code to give to driver for security which was great. am very pleased with it\\n  \n",
       "7                                                                                                                                                            \\nDelivery on time . This laptop is perfect for any task needed easy to use and exactly what it said it can do ! Would definitely buy again\\n  \n",
       "8                                                                                                           \\nThe screen doesn't have touch on it, have to buy new mini mouse to go with this because its little difficult to touch on pad to move. Battery 🔋  is good, last long time before charge it.\\n  \n",
       "9                                                                         \\nBe aware this is not a touchscreen or 2 in 1 as described. This is just a standard Chromebook. There is a more expensive model that is the model in the pictures. As a Chromebook however it is probably great at the price.\\n  \n",
       "10                                                                                                                                                                                                                                                                                                    None  \n",
       "11                                                                                                                                                                                                                                                                                                    None  \n",
       "12                                                                                                                                                                                                                                                                                                    None  \n",
       "13                                                                                                                                                                                                                                                                                                    None  \n",
       "14                                                                                                                                                                                                                                                                                                    None  \n",
       "15                                                                                                                                                                                                                                                                                                    None  \n",
       "16                                                                                                                                                                                                                                                                                                    None  \n",
       "17                                                                                                                                                                                                                                                                                                    None  \n",
       "18                                                                                                                                                                                                                                                                                                    None  \n",
       "19                                                                                                                                                                                                                                                                                                    None  "
      ]
     },
     "execution_count": 91,
     "metadata": {},
     "output_type": "execute_result"
    }
   ],
   "source": [
    "reviewsFinal = {\"Stars\": reviewsStars, \"Title\": reviewsTitles, \"Text\": reviewsText}\n",
    "\n",
    "reviewsData = pd.DataFrame.from_dict(reviewsFinal, orient='index')\n",
    "pd.set_option(\"max_colwidth\", 8000)\n",
    "reviewsData = reviewsData.transpose()\n",
    "reviewsData"
   ]
  },
  {
   "cell_type": "code",
   "execution_count": 95,
   "metadata": {},
   "outputs": [
    {
     "ename": "ValueError",
     "evalue": "All arrays must be of the same length",
     "output_type": "error",
     "traceback": [
      "\u001b[1;31m---------------------------------------------------------------------------\u001b[0m",
      "\u001b[1;31mValueError\u001b[0m                                Traceback (most recent call last)",
      "Cell \u001b[1;32mIn[95], line 1\u001b[0m\n\u001b[1;32m----> 1\u001b[0m df \u001b[39m=\u001b[39m pd\u001b[39m.\u001b[39;49mDataFrame(reviewsFinal)\n\u001b[0;32m      2\u001b[0m df\u001b[39m.\u001b[39mto_csv(index\u001b[39m=\u001b[39m\u001b[39mFalse\u001b[39;00m)\n",
      "File \u001b[1;32mc:\\Users\\isabe\\AppData\\Local\\Programs\\Python\\Python39\\lib\\site-packages\\pandas\\core\\frame.py:664\u001b[0m, in \u001b[0;36mDataFrame.__init__\u001b[1;34m(self, data, index, columns, dtype, copy)\u001b[0m\n\u001b[0;32m    658\u001b[0m     mgr \u001b[39m=\u001b[39m \u001b[39mself\u001b[39m\u001b[39m.\u001b[39m_init_mgr(\n\u001b[0;32m    659\u001b[0m         data, axes\u001b[39m=\u001b[39m{\u001b[39m\"\u001b[39m\u001b[39mindex\u001b[39m\u001b[39m\"\u001b[39m: index, \u001b[39m\"\u001b[39m\u001b[39mcolumns\u001b[39m\u001b[39m\"\u001b[39m: columns}, dtype\u001b[39m=\u001b[39mdtype, copy\u001b[39m=\u001b[39mcopy\n\u001b[0;32m    660\u001b[0m     )\n\u001b[0;32m    662\u001b[0m \u001b[39melif\u001b[39;00m \u001b[39misinstance\u001b[39m(data, \u001b[39mdict\u001b[39m):\n\u001b[0;32m    663\u001b[0m     \u001b[39m# GH#38939 de facto copy defaults to False only in non-dict cases\u001b[39;00m\n\u001b[1;32m--> 664\u001b[0m     mgr \u001b[39m=\u001b[39m dict_to_mgr(data, index, columns, dtype\u001b[39m=\u001b[39;49mdtype, copy\u001b[39m=\u001b[39;49mcopy, typ\u001b[39m=\u001b[39;49mmanager)\n\u001b[0;32m    665\u001b[0m \u001b[39melif\u001b[39;00m \u001b[39misinstance\u001b[39m(data, ma\u001b[39m.\u001b[39mMaskedArray):\n\u001b[0;32m    666\u001b[0m     \u001b[39mimport\u001b[39;00m \u001b[39mnumpy\u001b[39;00m\u001b[39m.\u001b[39;00m\u001b[39mma\u001b[39;00m\u001b[39m.\u001b[39;00m\u001b[39mmrecords\u001b[39;00m \u001b[39mas\u001b[39;00m \u001b[39mmrecords\u001b[39;00m\n",
      "File \u001b[1;32mc:\\Users\\isabe\\AppData\\Local\\Programs\\Python\\Python39\\lib\\site-packages\\pandas\\core\\internals\\construction.py:493\u001b[0m, in \u001b[0;36mdict_to_mgr\u001b[1;34m(data, index, columns, dtype, typ, copy)\u001b[0m\n\u001b[0;32m    489\u001b[0m     \u001b[39melse\u001b[39;00m:\n\u001b[0;32m    490\u001b[0m         \u001b[39m# dtype check to exclude e.g. range objects, scalars\u001b[39;00m\n\u001b[0;32m    491\u001b[0m         arrays \u001b[39m=\u001b[39m [x\u001b[39m.\u001b[39mcopy() \u001b[39mif\u001b[39;00m \u001b[39mhasattr\u001b[39m(x, \u001b[39m\"\u001b[39m\u001b[39mdtype\u001b[39m\u001b[39m\"\u001b[39m) \u001b[39melse\u001b[39;00m x \u001b[39mfor\u001b[39;00m x \u001b[39min\u001b[39;00m arrays]\n\u001b[1;32m--> 493\u001b[0m \u001b[39mreturn\u001b[39;00m arrays_to_mgr(arrays, columns, index, dtype\u001b[39m=\u001b[39;49mdtype, typ\u001b[39m=\u001b[39;49mtyp, consolidate\u001b[39m=\u001b[39;49mcopy)\n",
      "File \u001b[1;32mc:\\Users\\isabe\\AppData\\Local\\Programs\\Python\\Python39\\lib\\site-packages\\pandas\\core\\internals\\construction.py:118\u001b[0m, in \u001b[0;36marrays_to_mgr\u001b[1;34m(arrays, columns, index, dtype, verify_integrity, typ, consolidate)\u001b[0m\n\u001b[0;32m    115\u001b[0m \u001b[39mif\u001b[39;00m verify_integrity:\n\u001b[0;32m    116\u001b[0m     \u001b[39m# figure out the index, if necessary\u001b[39;00m\n\u001b[0;32m    117\u001b[0m     \u001b[39mif\u001b[39;00m index \u001b[39mis\u001b[39;00m \u001b[39mNone\u001b[39;00m:\n\u001b[1;32m--> 118\u001b[0m         index \u001b[39m=\u001b[39m _extract_index(arrays)\n\u001b[0;32m    119\u001b[0m     \u001b[39melse\u001b[39;00m:\n\u001b[0;32m    120\u001b[0m         index \u001b[39m=\u001b[39m ensure_index(index)\n",
      "File \u001b[1;32mc:\\Users\\isabe\\AppData\\Local\\Programs\\Python\\Python39\\lib\\site-packages\\pandas\\core\\internals\\construction.py:666\u001b[0m, in \u001b[0;36m_extract_index\u001b[1;34m(data)\u001b[0m\n\u001b[0;32m    664\u001b[0m lengths \u001b[39m=\u001b[39m \u001b[39mlist\u001b[39m(\u001b[39mset\u001b[39m(raw_lengths))\n\u001b[0;32m    665\u001b[0m \u001b[39mif\u001b[39;00m \u001b[39mlen\u001b[39m(lengths) \u001b[39m>\u001b[39m \u001b[39m1\u001b[39m:\n\u001b[1;32m--> 666\u001b[0m     \u001b[39mraise\u001b[39;00m \u001b[39mValueError\u001b[39;00m(\u001b[39m\"\u001b[39m\u001b[39mAll arrays must be of the same length\u001b[39m\u001b[39m\"\u001b[39m)\n\u001b[0;32m    668\u001b[0m \u001b[39mif\u001b[39;00m have_dicts:\n\u001b[0;32m    669\u001b[0m     \u001b[39mraise\u001b[39;00m \u001b[39mValueError\u001b[39;00m(\n\u001b[0;32m    670\u001b[0m         \u001b[39m\"\u001b[39m\u001b[39mMixing dicts with non-Series may lead to ambiguous ordering.\u001b[39m\u001b[39m\"\u001b[39m\n\u001b[0;32m    671\u001b[0m     )\n",
      "\u001b[1;31mValueError\u001b[0m: All arrays must be of the same length"
     ]
    }
   ],
   "source": [
    "df = pd.DataFrame(reviewsFinal)\n",
    "df.to_csv(index=False)"
   ]
  },
  {
   "attachments": {},
   "cell_type": "markdown",
   "metadata": {},
   "source": [
    "# Sentiment analysis"
   ]
  },
  {
   "cell_type": "code",
   "execution_count": 16,
   "metadata": {},
   "outputs": [
    {
     "name": "stderr",
     "output_type": "stream",
     "text": [
      "c:\\Users\\isabe\\AppData\\Local\\Programs\\Python\\Python39\\lib\\site-packages\\tqdm\\auto.py:22: TqdmWarning: IProgress not found. Please update jupyter and ipywidgets. See https://ipywidgets.readthedocs.io/en/stable/user_install.html\n",
      "  from .autonotebook import tqdm as notebook_tqdm\n"
     ]
    }
   ],
   "source": [
    "from transformers import pipeline\n",
    "from transformers import AutoTokenizer, AutoModelForSequenceClassification\n",
    "import torch\n",
    "import torch.nn.functional as F"
   ]
  },
  {
   "cell_type": "code",
   "execution_count": 17,
   "metadata": {},
   "outputs": [
    {
     "name": "stderr",
     "output_type": "stream",
     "text": [
      "No model was supplied, defaulted to distilbert-base-uncased-finetuned-sst-2-english and revision af0f99b (https://huggingface.co/distilbert-base-uncased-finetuned-sst-2-english).\n",
      "Using a pipeline without specifying a model name and revision in production is not recommended.\n"
     ]
    },
    {
     "name": "stdout",
     "output_type": "stream",
     "text": [
      "[{'label': 'POSITIVE', 'score': 0.9998750686645508}]\n"
     ]
    }
   ],
   "source": [
    "# Using the pipeline\n",
    "classifier = pipeline(\"sentiment-analysis\")\n",
    "responseClassifier = classifier(\"We are happy today!\")\n",
    "print(responseClassifier)"
   ]
  },
  {
   "cell_type": "code",
   "execution_count": 43,
   "metadata": {},
   "outputs": [
    {
     "name": "stdout",
     "output_type": "stream",
     "text": [
      "[{'label': 'Positive', 'score': 0.99078369140625}]\n"
     ]
    }
   ],
   "source": [
    "# Using a model\n",
    "sequence = reviewsText[4]\n",
    "modelName = \"citizenlab/twitter-xlm-roberta-base-sentiment-finetunned\"\n",
    "\n",
    "model = AutoModelForSequenceClassification.from_pretrained(modelName)\n",
    "tokenizer = AutoTokenizer.from_pretrained(modelName)\n",
    "\n",
    "classifier = pipeline(\"sentiment-analysis\", model=model, tokenizer=tokenizer)\n",
    "responseClassifier = classifier(sequence)\n",
    "print(responseClassifier)"
   ]
  },
  {
   "cell_type": "code",
   "execution_count": 44,
   "metadata": {},
   "outputs": [
    {
     "name": "stdout",
     "output_type": "stream",
     "text": [
      "{'input_ids': [0, 44704, 13, 4, 194155, 3533, 6, 100820, 38, 148668, 6, 100820, 41, 1175, 23, 1824, 188, 732, 4, 28, 1601, 17159, 34, 10, 8845, 5, 62, 7002, 3390, 112, 48, 73287, 28, 21734, 8, 124, 393, 191863, 38, 241, 36, 69537, 1027, 393, 23890, 46624, 12479, 4, 162102, 10, 7002, 3390, 112, 38, 21670, 6, 2], 'attention_mask': [1, 1, 1, 1, 1, 1, 1, 1, 1, 1, 1, 1, 1, 1, 1, 1, 1, 1, 1, 1, 1, 1, 1, 1, 1, 1, 1, 1, 1, 1, 1, 1, 1, 1, 1, 1, 1, 1, 1, 1, 1, 1, 1, 1, 1, 1, 1, 1, 1, 1, 1, 1, 1, 1, 1, 1, 1]}\n"
     ]
    }
   ],
   "source": [
    "# Tokenizer\n",
    "response = tokenizer(sequence)\n",
    "print(response)"
   ]
  },
  {
   "cell_type": "code",
   "execution_count": 45,
   "metadata": {},
   "outputs": [
    {
     "name": "stdout",
     "output_type": "stream",
     "text": [
      "['▁Gent', 'e', ',', '▁adorei', '▁esse', '▁', 'fone', '!', '▁Primeiro', '▁', 'fone', '▁que', '▁eu', '▁in', 'vis', 'to', '▁mais', ',', '▁e', '▁super', '▁vale', 'u', '▁a', '▁pena', '.', '▁A', '▁qual', 'dia', 'de', '▁da', '▁saída', '▁e', '▁entrada', '▁de', '▁som', '▁é', '▁maravilhosa', '!', '▁E', '▁o', '▁preço', '▁não', '▁é', '▁tão', '▁caro', '▁assim', ',', '▁considerando', '▁a', '▁qual', 'dia', 'de', '!', '▁<3', '▁']\n"
     ]
    }
   ],
   "source": [
    "tokens = tokenizer.tokenize(sequence)\n",
    "print(tokens)"
   ]
  },
  {
   "cell_type": "code",
   "execution_count": 46,
   "metadata": {},
   "outputs": [
    {
     "name": "stdout",
     "output_type": "stream",
     "text": [
      "[44704, 13, 4, 194155, 3533, 6, 100820, 38, 148668, 6, 100820, 41, 1175, 23, 1824, 188, 732, 4, 28, 1601, 17159, 34, 10, 8845, 5, 62, 7002, 3390, 112, 48, 73287, 28, 21734, 8, 124, 393, 191863, 38, 241, 36, 69537, 1027, 393, 23890, 46624, 12479, 4, 162102, 10, 7002, 3390, 112, 38, 21670, 6]\n"
     ]
    }
   ],
   "source": [
    "ids = tokenizer.convert_tokens_to_ids(tokens)\n",
    "print(ids)"
   ]
  },
  {
   "cell_type": "code",
   "execution_count": 47,
   "metadata": {},
   "outputs": [
    {
     "name": "stdout",
     "output_type": "stream",
     "text": [
      "Gente, adorei esse fone! Primeiro fone que eu invisto mais, e super valeu a pena. A qualdiade da saída e entrada de som é maravilhosa! E o preço não é tão caro assim, considerando a qualdiade! <3 \n"
     ]
    }
   ],
   "source": [
    "decodedSequence = tokenizer.decode(ids)\n",
    "print(decodedSequence)"
   ]
  }
 ],
 "metadata": {
  "kernelspec": {
   "display_name": "Python 3",
   "language": "python",
   "name": "python3"
  },
  "language_info": {
   "codemirror_mode": {
    "name": "ipython",
    "version": 3
   },
   "file_extension": ".py",
   "mimetype": "text/x-python",
   "name": "python",
   "nbconvert_exporter": "python",
   "pygments_lexer": "ipython3",
   "version": "3.9.10"
  },
  "orig_nbformat": 4,
  "vscode": {
   "interpreter": {
    "hash": "e63e352c0adb9ca1dc91ebaf4b4fc9e0719408bc594a4ac8bbebd72573b23de2"
   }
  }
 },
 "nbformat": 4,
 "nbformat_minor": 2
}
